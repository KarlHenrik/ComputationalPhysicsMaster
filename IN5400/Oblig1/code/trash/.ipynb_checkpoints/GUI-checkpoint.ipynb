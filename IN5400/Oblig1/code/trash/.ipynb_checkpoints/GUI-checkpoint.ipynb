{
 "cells": [
  {
   "cell_type": "code",
   "execution_count": 31,
   "id": "appreciated-domain",
   "metadata": {},
   "outputs": [],
   "source": [
    "# for training av validation\n",
    "import torch\n",
    "import torch.nn as nn\n",
    "import torch.optim as optim\n",
    "\n",
    "from torchvision import datasets, models, transforms\n",
    "from torch.utils.data import Dataset, DataLoader\n",
    "from torchvision.transforms import ToTensor\n",
    "\n",
    "import time\n",
    "import numpy as np\n",
    "\n",
    "import sklearn.metrics\n",
    "\n",
    "from vocparseclslabels import PascalVOC\n",
    "\n",
    "from PIL import Image\n",
    "# custom functions\n",
    "from vocTrainEval import dataset_voc, evaluate_meanavgprecision, traineval2_model_nocv, train_epoch\n",
    "# for plotting and stuff\n",
    "import matplotlib.pyplot as plt\n",
    "# GUI stuff\n",
    "import PySimpleGUI as sg\n",
    "from io import BytesIO"
   ]
  },
  {
   "cell_type": "code",
   "execution_count": 27,
   "id": "functional-protection",
   "metadata": {},
   "outputs": [
    {
     "data": {
      "text/plain": [
       "array(['2008_000064', '2008_000064', '2008_000064', ..., '2008_000021',\n",
       "       '2008_000021', '2008_000021'], dtype='<U11')"
      ]
     },
     "execution_count": 27,
     "metadata": {},
     "output_type": "execute_result"
    }
   ],
   "source": [
    "root_dir = \"VOCdevkit/VOC2012/\"\n",
    "pVOC = PascalVOC(root_dir) # object for getting the correct file names\n",
    "classes = pVOC.list_image_sets()\n",
    "\n",
    "best_all = torch.load(\"models/bestMdl.pt\")\n",
    "fnames = np.array(best_all[\"fnames\"])\n",
    "labels = best_all[\"labels\"].cpu().numpy().astype(int)\n",
    "preds = best_all[\"preds\"].cpu().numpy()\n",
    "\n",
    "img_dir = \"VOCdevkit/VOC2012/JPEGImages/\"\n",
    "\n",
    "fnames[labels[:, 0]]"
   ]
  },
  {
   "cell_type": "code",
   "execution_count": 79,
   "id": "honest-sunglasses",
   "metadata": {},
   "outputs": [
    {
     "data": {
      "text/plain": [
       "array([5291, 5227, 5010, ...,   37,   40,  260], dtype=int64)"
      ]
     },
     "execution_count": 79,
     "metadata": {},
     "output_type": "execute_result"
    }
   ],
   "source": []
  },
  {
   "cell_type": "code",
   "execution_count": 4,
   "id": "british-hawaiian",
   "metadata": {},
   "outputs": [
    {
     "data": {
      "text/plain": [
       "dict_keys(['preds', 'labels', 'fnames', 'epoch', 'weights', 'cwAP'])"
      ]
     },
     "execution_count": 4,
     "metadata": {},
     "output_type": "execute_result"
    }
   ],
   "source": [
    "best_all.keys()"
   ]
  },
  {
   "cell_type": "code",
   "execution_count": 82,
   "id": "stylish-layout",
   "metadata": {},
   "outputs": [],
   "source": [
    "def getPNGimage(img_dir, class_name, rank, fnames, preds, classes):\n",
    "    class_nr = classes.index(class_name)\n",
    "    sort_inds = preds[:, class_nr].argsort()\n",
    "    \n",
    "    fname = fnames[sort_inds][-1 - rank]\n",
    "    \n",
    "    filename = img_dir + fname + \".jpg\"\n",
    "    \n",
    "    im = Image.open(filename)\n",
    "    bio = BytesIO()\n",
    "    im.save(bio, format='PNG')\n",
    "    return bio.getvalue()"
   ]
  },
  {
   "cell_type": "code",
   "execution_count": 91,
   "id": "reasonable-landscape",
   "metadata": {},
   "outputs": [],
   "source": [
    "sg.theme(\"DarkAmber\")   # Add a touch of color\n",
    "# All the stuff inside your window.\n",
    "\n",
    "img = sg.Image(data = getPNGimage(img_dir, classes[0], 0, fnames, preds, classes), key = \"image\")\n",
    "\n",
    "layout = [  [sg.Button(\"<-----\"), [sg.Text('0')], sg.Button(\"----->\"), sg.Button(\"Cancel\")],\n",
    "            [sg.Combo(classes, size=(15, 20), default_value = classes[0], enable_events=True, key=\"combo\")],\n",
    "            [img] ]\n",
    "\n",
    "# Create the Window\n",
    "window = sg.Window(\"Window Title\", layout)\n",
    "rank = 0\n",
    "# Event Loop to process \"events\" and get the \"values\" of the inputs\n",
    "while True:\n",
    "    event, values = window.read()\n",
    "    if event == sg.WIN_CLOSED or event == \"Cancel\": # if user closes window or clicks cancel\n",
    "        break\n",
    "    if event == \"<-----\":\n",
    "        rank -= 1\n",
    "    if event == \"----->\":\n",
    "        rank += 1\n",
    "    \n",
    "    window[\"image\"].update(data = getPNGimage(img_dir, values[\"combo\"], rank, fnames, preds, classes))\n",
    "\n",
    "window.close()"
   ]
  },
  {
   "cell_type": "code",
   "execution_count": null,
   "id": "mighty-austria",
   "metadata": {},
   "outputs": [],
   "source": []
  }
 ],
 "metadata": {
  "kernelspec": {
   "display_name": "Python 3",
   "language": "python",
   "name": "python3"
  },
  "language_info": {
   "codemirror_mode": {
    "name": "ipython",
    "version": 3
   },
   "file_extension": ".py",
   "mimetype": "text/x-python",
   "name": "python",
   "nbconvert_exporter": "python",
   "pygments_lexer": "ipython3",
   "version": "3.6.12"
  }
 },
 "nbformat": 4,
 "nbformat_minor": 5
}
