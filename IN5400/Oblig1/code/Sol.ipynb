{
 "cells": [
  {
   "cell_type": "code",
   "execution_count": 4,
   "id": "4955bf40",
   "metadata": {},
   "outputs": [],
   "source": [
    "# for training av validation\n",
    "import torch\n",
    "import torch.nn as nn\n",
    "import torch.optim as optim\n",
    "\n",
    "from torchvision import datasets, models, transforms\n",
    "from torch.utils.data import Dataset, DataLoader\n",
    "from torchvision.transforms import ToTensor\n",
    "\n",
    "import time\n",
    "import numpy as np\n",
    "\n",
    "import sklearn.metrics\n",
    "\n",
    "from vocparseclslabels import PascalVOC\n",
    "\n",
    "from PIL import Image\n",
    "# custom functions\n",
    "from vocTrainEval import dataset_voc, evaluate_meanavgprecision, traineval2_model_nocv, train_epoch\n",
    "# for plotting and stuff\n",
    "import matplotlib.pyplot as plt"
   ]
  },
  {
   "cell_type": "code",
   "execution_count": 5,
   "id": "abb5be54",
   "metadata": {},
   "outputs": [],
   "source": [
    "# --------------------- SETUP BLOCK --------------------------\n",
    "config = dict()\n",
    "\n",
    "config[\"use_gpu\"] = True\n",
    "config[\"lr\"] = 0.0005\n",
    "config[\"batchsize_train\"] = 16\n",
    "config[\"batchsize_val\"] = 64\n",
    "config[\"maxnumepochs\"] = 10\n",
    "\n",
    "config[\"scheduler_stepsize\"] = 2\n",
    "config[\"scheduler_factor\"] = 0.3\n",
    "\n",
    "# kind of a dataset property\n",
    "config[\"numcl\"] = 20\n",
    "\n",
    "# data augmentations\n",
    "data_transforms = {\n",
    "    \"train\": transforms.Compose([\n",
    "        transforms.Resize(256),\n",
    "        transforms.RandomCrop(224),\n",
    "        transforms.RandomHorizontalFlip(),\n",
    "        transforms.ToTensor(),\n",
    "        transforms.Normalize([0.485, 0.456, 0.406], [0.229, 0.224, 0.225])\n",
    "    ]),\n",
    "    \"val\": transforms.Compose([\n",
    "        transforms.Resize(224),\n",
    "        transforms.CenterCrop(224),\n",
    "        transforms.RandomHorizontalFlip(),\n",
    "        transforms.ToTensor(),\n",
    "        transforms.Normalize([0.485, 0.456, 0.406], [0.229, 0.224, 0.225])\n",
    "    ]),\n",
    "}\n",
    "\n",
    "# datasets\n",
    "root_dir = \"VOCdevkit/VOC2012/\"\n",
    "image_datasets = {}\n",
    "image_datasets[\"train\"] = dataset_voc(root_dir = root_dir, trvaltest=0, transform=data_transforms[\"train\"])\n",
    "image_datasets[\"val\"] = dataset_voc(root_dir = root_dir, trvaltest=1, transform=data_transforms[\"val\"])\n",
    "\n",
    "# dataloaders\n",
    "dataloaders = {}\n",
    "dataloaders[\"train\"] = DataLoader(image_datasets[\"train\"], num_workers=0, batch_size = config[\"batchsize_train\"], shuffle=True)\n",
    "dataloaders[\"val\"] = DataLoader(image_datasets[\"val\"], num_workers=0, batch_size = config[\"batchsize_val\"])\n",
    "\n",
    "# device\n",
    "if True == config[\"use_gpu\"]:\n",
    "    device = torch.device(\"cuda:0\")\n",
    "else:\n",
    "    device = torch.device(\"cpu\")\n",
    "    \n",
    "model = models.resnet18(pretrained=True) # pretrained resnet18\n",
    "model.fc = nn.Sequential( # rewriting last layer to have 20 sigmoid outputs\n",
    "    nn.Linear(model.fc.in_features, 20),\n",
    "    nn.Sigmoid()\n",
    ")\n",
    "model = model.to(device)\n",
    "\n",
    "loss_func = nn.BCELoss()\n",
    "\n",
    "optimizer = optim.Adam(params = model.parameters(), lr = config[\"lr\"])\n",
    "\n",
    "lr_sc = optim.lr_scheduler.StepLR(optimizer, step_size = config[\"scheduler_stepsize\"], gamma = config[\"scheduler_factor\"]) # Decay LR by a factor of 0.3 every X epochs"
   ]
  },
  {
   "cell_type": "code",
   "execution_count": null,
   "id": "b0647b0b",
   "metadata": {},
   "outputs": [
    {
     "name": "stdout",
     "output_type": "stream",
     "text": [
      "Epoch 1/10\n"
     ]
    }
   ],
   "source": [
    "best_all, trainlosses, testlosses, testperfs = traineval2_model_nocv(\n",
    "        dataloaders[\"train\"], dataloaders[\"val\"], model, loss_func, optimizer, lr_sc, num_epochs=config[\"maxnumepochs\"], device=device, numcl=config[\"numcl\"])\n",
    "\n",
    "modelfile = \"models/bestMdl.pt\"\n",
    "torch.save(best_all, modelfile)\n",
    "print(f\"model saved to {modelfile}\")"
   ]
  },
  {
   "cell_type": "code",
   "execution_count": null,
   "id": "33da4057",
   "metadata": {},
   "outputs": [],
   "source": [
    "plt.plot(trainlosses, label=\"Train\")\n",
    "plt.plot(testlosses, label=\"Test\")\n",
    "plt.legend()\n",
    "plt.title(\"Train and test losses\")\n",
    "plt.xlabel(\"Epoch\")\n",
    "plt.show()\n",
    "\n",
    "plt.plot(np.mean(testperfs, axis=1))\n",
    "plt.title(\"Test mAP\")\n",
    "plt.xlabel(\"Epoch\")\n",
    "plt.show()"
   ]
  },
  {
   "cell_type": "code",
   "execution_count": 1,
   "id": "af89cd27",
   "metadata": {},
   "outputs": [],
   "source": [
    "def tailAcc(preds, labels, t):\n",
    "    preds_true = np.greater(preds, t) # predicted to be true\n",
    "    correct_pred = np.logical_and(preds_true, labels) # correct predictions!\n",
    "    \n",
    "    return np.sum(correct_pred) / np.sum(preds_true)"
   ]
  },
  {
   "cell_type": "code",
   "execution_count": 2,
   "id": "230ea501",
   "metadata": {},
   "outputs": [
    {
     "ename": "NameError",
     "evalue": "name 'best_all' is not defined",
     "output_type": "error",
     "traceback": [
      "\u001b[1;31m---------------------------------------------------------------------------\u001b[0m",
      "\u001b[1;31mNameError\u001b[0m                                 Traceback (most recent call last)",
      "\u001b[1;32m<ipython-input-2-8c55d4f3968e>\u001b[0m in \u001b[0;36m<module>\u001b[1;34m\u001b[0m\n\u001b[1;32m----> 1\u001b[1;33m \u001b[0mpreds\u001b[0m \u001b[1;33m=\u001b[0m \u001b[0mbest_all\u001b[0m\u001b[1;33m[\u001b[0m\u001b[1;34m\"preds\"\u001b[0m\u001b[1;33m]\u001b[0m\u001b[1;33m.\u001b[0m\u001b[0mcpu\u001b[0m\u001b[1;33m(\u001b[0m\u001b[1;33m)\u001b[0m\u001b[1;33m.\u001b[0m\u001b[0mnumpy\u001b[0m\u001b[1;33m(\u001b[0m\u001b[1;33m)\u001b[0m\u001b[1;33m\u001b[0m\u001b[1;33m\u001b[0m\u001b[0m\n\u001b[0m\u001b[0;32m      2\u001b[0m \u001b[0mlabels\u001b[0m \u001b[1;33m=\u001b[0m \u001b[0mbest_all\u001b[0m\u001b[1;33m[\u001b[0m\u001b[1;34m\"labels\"\u001b[0m\u001b[1;33m]\u001b[0m\u001b[1;33m.\u001b[0m\u001b[0mcpu\u001b[0m\u001b[1;33m(\u001b[0m\u001b[1;33m)\u001b[0m\u001b[1;33m.\u001b[0m\u001b[0mnumpy\u001b[0m\u001b[1;33m(\u001b[0m\u001b[1;33m)\u001b[0m\u001b[1;33m\u001b[0m\u001b[1;33m\u001b[0m\u001b[0m\n\u001b[0;32m      3\u001b[0m \u001b[1;33m\u001b[0m\u001b[0m\n\u001b[0;32m      4\u001b[0m \u001b[0mmax_t\u001b[0m \u001b[1;33m=\u001b[0m \u001b[0mnp\u001b[0m\u001b[1;33m.\u001b[0m\u001b[0mmin\u001b[0m\u001b[1;33m(\u001b[0m\u001b[0mnp\u001b[0m\u001b[1;33m.\u001b[0m\u001b[0mmax\u001b[0m\u001b[1;33m(\u001b[0m\u001b[0mpreds\u001b[0m\u001b[1;33m,\u001b[0m \u001b[0maxis\u001b[0m \u001b[1;33m=\u001b[0m \u001b[1;36m0\u001b[0m\u001b[1;33m)\u001b[0m\u001b[1;33m)\u001b[0m \u001b[1;33m-\u001b[0m \u001b[1;36m1e-6\u001b[0m\u001b[1;33m\u001b[0m\u001b[1;33m\u001b[0m\u001b[0m\n\u001b[0;32m      5\u001b[0m \u001b[0mts\u001b[0m \u001b[1;33m=\u001b[0m \u001b[0mnp\u001b[0m\u001b[1;33m.\u001b[0m\u001b[0mlinspace\u001b[0m\u001b[1;33m(\u001b[0m\u001b[1;36m0\u001b[0m\u001b[1;33m,\u001b[0m \u001b[0mmax_t\u001b[0m\u001b[1;33m,\u001b[0m \u001b[1;36m20\u001b[0m\u001b[1;33m)\u001b[0m\u001b[1;33m\u001b[0m\u001b[1;33m\u001b[0m\u001b[0m\n",
      "\u001b[1;31mNameError\u001b[0m: name 'best_all' is not defined"
     ]
    }
   ],
   "source": [
    "preds = best_all[\"preds\"].cpu().numpy()\n",
    "labels = best_all[\"labels\"].cpu().numpy()\n",
    "\n",
    "max_t = np.min(np.max(preds, axis = 0)) - 1e-6\n",
    "ts = np.linspace(0, max_t, 20)\n",
    "mean_tail_accs = np.zeros(20) # mean tail acc for each t\n",
    "\n",
    "for i, t in enumerate(ts):\n",
    "    tail_accs = np.zeros(config[\"numcl\"]) # tail accs for each class for this t\n",
    "    for cl in range(config[\"numcl\"]):\n",
    "        tail_accs[cl] = tailAcc(preds[:, cl], labels[:, cl], t)\n",
    "    \n",
    "    mean_tail_accs[i] = np.mean(tail_accs) # mean tail acc for this t\n",
    "\n",
    "plt.plot(ts, mean_tail_accs)\n",
    "plt.title(\"Tailacc averaged over all classes\")\n",
    "plt.xlabel(\"t\")\n",
    "plt.show()"
   ]
  },
  {
   "cell_type": "code",
   "execution_count": null,
   "id": "8ee0948a",
   "metadata": {},
   "outputs": [],
   "source": []
  },
  {
   "cell_type": "code",
   "execution_count": null,
   "id": "64d2adb6",
   "metadata": {},
   "outputs": [],
   "source": []
  }
 ],
 "metadata": {
  "kernelspec": {
   "display_name": "Python 3",
   "language": "python",
   "name": "python3"
  },
  "language_info": {
   "codemirror_mode": {
    "name": "ipython",
    "version": 3
   },
   "file_extension": ".py",
   "mimetype": "text/x-python",
   "name": "python",
   "nbconvert_exporter": "python",
   "pygments_lexer": "ipython3",
   "version": "3.6.13"
  }
 },
 "nbformat": 4,
 "nbformat_minor": 5
}
