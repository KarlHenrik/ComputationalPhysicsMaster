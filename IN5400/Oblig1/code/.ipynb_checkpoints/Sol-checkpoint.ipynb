{
 "cells": [
  {
   "cell_type": "code",
   "execution_count": 1,
   "id": "narrative-weight",
   "metadata": {},
   "outputs": [],
   "source": [
    "# for training av validation\n",
    "import torch\n",
    "import torch.nn as nn\n",
    "import torch.optim as optim\n",
    "\n",
    "from torchvision import datasets, models, transforms\n",
    "from torch.utils.data import Dataset, DataLoader\n",
    "from torchvision.transforms import ToTensor\n",
    "\n",
    "import time\n",
    "import numpy as np\n",
    "\n",
    "import sklearn.metrics\n",
    "\n",
    "from vocparseclslabels import PascalVOC\n",
    "\n",
    "from PIL import Image\n",
    "# custom functions\n",
    "from vocTrainEval import dataset_voc, evaluate_meanavgprecision, traineval2_model_nocv, train_epoch\n",
    "# for plotting and stuff\n",
    "import matplotlib.pyplot as plt"
   ]
  },
  {
   "cell_type": "code",
   "execution_count": 3,
   "id": "regular-singer",
   "metadata": {},
   "outputs": [],
   "source": [
    "# --------------------- SETUP BLOCK --------------------------\n",
    "config = dict()\n",
    "\n",
    "config[\"use_gpu\"] = True\n",
    "config[\"lr\"] = 0.0005\n",
    "config[\"batchsize_train\"] = 16\n",
    "config[\"batchsize_val\"] = 64\n",
    "config[\"maxnumepochs\"] = 10\n",
    "\n",
    "config[\"scheduler_stepsize\"] = 2\n",
    "config[\"scheduler_factor\"] = 0.3\n",
    "\n",
    "# kind of a dataset property\n",
    "config[\"numcl\"] = 20\n",
    "\n",
    "# data augmentations\n",
    "data_transforms = {\n",
    "    \"train\": transforms.Compose([\n",
    "        transforms.Resize(256),\n",
    "        transforms.RandomCrop(224),\n",
    "        transforms.RandomHorizontalFlip(),\n",
    "        transforms.ToTensor(),\n",
    "        transforms.Normalize([0.485, 0.456, 0.406], [0.229, 0.224, 0.225])\n",
    "    ]),\n",
    "    \"val\": transforms.Compose([\n",
    "        transforms.Resize(224),\n",
    "        transforms.CenterCrop(224),\n",
    "        transforms.RandomHorizontalFlip(),\n",
    "        transforms.ToTensor(),\n",
    "        transforms.Normalize([0.485, 0.456, 0.406], [0.229, 0.224, 0.225])\n",
    "    ]),\n",
    "}\n",
    "\n",
    "# datasets\n",
    "root_dir = \"VOCdevkit/VOC2012/\"\n",
    "image_datasets = {}\n",
    "image_datasets[\"train\"] = dataset_voc(root_dir = root_dir, trvaltest=0, transform=data_transforms[\"train\"])\n",
    "image_datasets[\"val\"] = dataset_voc(root_dir = root_dir, trvaltest=1, transform=data_transforms[\"val\"])\n",
    "\n",
    "# dataloaders\n",
    "dataloaders = {}\n",
    "dataloaders[\"train\"] = DataLoader(image_datasets[\"train\"], num_workers=0, batch_size = config[\"batchsize_train\"], shuffle=True)\n",
    "dataloaders[\"val\"] = DataLoader(image_datasets[\"val\"], num_workers=0, batch_size = config[\"batchsize_val\"])\n",
    "\n",
    "# device\n",
    "if True == config[\"use_gpu\"]:\n",
    "    device = torch.device(\"cuda:0\")\n",
    "else:\n",
    "    device = torch.device(\"cpu\")\n",
    "    \n",
    "model = models.resnet18(pretrained=True) # pretrained resnet18\n",
    "model.fc = nn.Sequential( # rewriting last layer to have 20 sigmoid outputs\n",
    "    nn.Linear(model.fc.in_features, 20),\n",
    "    nn.Sigmoid()\n",
    ")\n",
    "model = model.to(device)\n",
    "\n",
    "loss_func = nn.BCELoss()\n",
    "\n",
    "optimizer = optim.Adam(params = model.parameters(), lr = config[\"lr\"])\n",
    "\n",
    "lr_sc = optim.lr_scheduler.StepLR(optimizer, step_size = config[\"scheduler_stepsize\"], gamma = config[\"scheduler_factor\"]) # Decay LR by a factor of 0.3 every X epochs"
   ]
  },
  {
   "cell_type": "code",
   "execution_count": 4,
   "id": "processed-brook",
   "metadata": {},
   "outputs": [
    {
     "name": "stdout",
     "output_type": "stream",
     "text": [
      "Epoch 1/10\n",
      "Classwise perfmeasure: [0.849, 0.634, 0.7, 0.6, 0.353, 0.861, 0.642, 0.724, 0.579, 0.285, 0.475, 0.701, 0.554, 0.712, 0.912, 0.434, 0.596, 0.432, 0.831, 0.656]\n",
      "Avgperfmeasure: 0.626, train 0.158, test 0.134\n",
      "----------\n",
      "Epoch 2/10\n",
      "Classwise perfmeasure: [0.861, 0.686, 0.7, 0.684, 0.39, 0.845, 0.603, 0.824, 0.591, 0.438, 0.472, 0.713, 0.52, 0.74, 0.908, 0.394, 0.657, 0.43, 0.771, 0.614]\n",
      "Avgperfmeasure: 0.642, train 0.129, test 0.135\n",
      "----------\n",
      "Epoch 3/10\n",
      "Classwise perfmeasure: [0.945, 0.772, 0.857, 0.777, 0.496, 0.908, 0.762, 0.908, 0.649, 0.572, 0.575, 0.83, 0.76, 0.836, 0.942, 0.538, 0.734, 0.553, 0.908, 0.792]\n",
      "Avgperfmeasure: 0.756, train 0.100, test 0.098\n",
      "----------\n",
      "Epoch 4/10\n",
      "Classwise perfmeasure: [0.949, 0.802, 0.87, 0.801, 0.533, 0.907, 0.773, 0.923, 0.651, 0.591, 0.575, 0.855, 0.82, 0.83, 0.942, 0.539, 0.794, 0.589, 0.91, 0.789]\n",
      "Avgperfmeasure: 0.772, train 0.086, test 0.094\n",
      "----------\n",
      "Epoch 5/10\n",
      "Classwise perfmeasure: [0.951, 0.82, 0.898, 0.83, 0.536, 0.915, 0.782, 0.92, 0.667, 0.653, 0.596, 0.852, 0.841, 0.85, 0.948, 0.548, 0.815, 0.59, 0.92, 0.811]\n",
      "Avgperfmeasure: 0.787, train 0.070, test 0.089\n",
      "----------\n",
      "Epoch 6/10\n",
      "Classwise perfmeasure: [0.953, 0.819, 0.904, 0.831, 0.541, 0.919, 0.777, 0.926, 0.671, 0.683, 0.604, 0.857, 0.851, 0.856, 0.948, 0.547, 0.834, 0.617, 0.924, 0.82]\n",
      "Avgperfmeasure: 0.794, train 0.064, test 0.089\n",
      "----------\n",
      "Epoch 7/10\n",
      "Classwise perfmeasure: [0.96, 0.83, 0.904, 0.837, 0.549, 0.923, 0.78, 0.927, 0.668, 0.671, 0.601, 0.87, 0.859, 0.865, 0.946, 0.557, 0.833, 0.6, 0.924, 0.816]\n",
      "Avgperfmeasure: 0.796, train 0.059, test 0.088\n",
      "----------\n",
      "Epoch 8/10\n",
      "Classwise perfmeasure: [0.953, 0.825, 0.901, 0.838, 0.558, 0.924, 0.788, 0.923, 0.675, 0.683, 0.603, 0.867, 0.847, 0.865, 0.947, 0.556, 0.841, 0.595, 0.925, 0.811]\n",
      "Avgperfmeasure: 0.796, train 0.056, test 0.088\n",
      "----------\n",
      "Epoch 9/10\n",
      "Classwise perfmeasure: [0.955, 0.825, 0.898, 0.839, 0.557, 0.92, 0.781, 0.923, 0.673, 0.691, 0.598, 0.87, 0.857, 0.863, 0.947, 0.558, 0.843, 0.588, 0.922, 0.818]\n",
      "Avgperfmeasure: 0.796, train 0.055, test 0.089\n",
      "----------\n",
      "Epoch 10/10\n",
      "Classwise perfmeasure: [0.958, 0.825, 0.901, 0.842, 0.551, 0.921, 0.783, 0.925, 0.666, 0.696, 0.612, 0.871, 0.865, 0.864, 0.948, 0.55, 0.843, 0.593, 0.925, 0.813]\n",
      "Avgperfmeasure: 0.798, train 0.054, test 0.088\n",
      "----------\n"
     ]
    }
   ],
   "source": [
    "best_all, trainlosses, testlosses, testperfs = traineval2_model_nocv(\n",
    "        dataloaders[\"train\"], dataloaders[\"val\"], model, loss_func, optimizer, lr_sc, num_epochs=config[\"maxnumepochs\"], device=device, numcl=config[\"numcl\"])\n",
    "\n",
    "modelfile = \"models/bestMdl.pt\"\n",
    "torch.save(best_all, modelfile)\n",
    "print(f\"model saved to {modelfile}\")"
   ]
  },
  {
   "cell_type": "code",
   "execution_count": 9,
   "id": "color-print",
   "metadata": {},
   "outputs": [
    {
     "data": {
      "image/png": "[encoded data removed]",
      "text/plain": [
       "<Figure size 432x288 with 1 Axes>"
      ]
     },
     "metadata": {
      "needs_background": "light"
     },
     "output_type": "display_data"
    },
    {
     "data": {
      "image/png": "[encoded data removed]",
      "text/plain": [
       "<Figure size 432x288 with 1 Axes>"
      ]
     },
     "metadata": {
      "needs_background": "light"
     },
     "output_type": "display_data"
    }
   ],
   "source": [
    "plt.plot(trainlosses, label=\"Train\")\n",
    "plt.plot(testlosses, label=\"Test\")\n",
    "plt.legend()\n",
    "plt.title(\"Train and test losses\")\n",
    "plt.xlabel(\"Epoch\")\n",
    "plt.show()\n",
    "\n",
    "plt.plot(np.mean(testperfs, axis=1))\n",
    "plt.title(\"Test mAP\")\n",
    "plt.xlabel(\"Epoch\")\n",
    "plt.show()"
   ]
  },
  {
   "cell_type": "code",
   "execution_count": 6,
   "id": "controlling-moderator",
   "metadata": {},
   "outputs": [],
   "source": [
    "def tailAcc(preds, labels, t):\n",
    "    preds_true = np.greater(preds, t) # predicted to be true\n",
    "    correct_pred = np.logical_and(preds_true, labels) # correct predictions!\n",
    "    \n",
    "    return np.sum(correct_pred) / np.sum(preds_true)"
   ]
  },
  {
   "cell_type": "code",
   "execution_count": 8,
   "id": "noted-subsection",
   "metadata": {},
   "outputs": [
    {
     "data": {
      "image/png": "[encoded data removed]",
      "text/plain": [
       "<Figure size 432x288 with 1 Axes>"
      ]
     },
     "metadata": {
      "needs_background": "light"
     },
     "output_type": "display_data"
    }
   ],
   "source": [
    "preds = best_all[\"preds\"].cpu().numpy()\n",
    "labels = best_all[\"labels\"].cpu().numpy()\n",
    "\n",
    "max_t = np.min(np.max(preds, axis = 0)) - 1e-6\n",
    "ts = np.linspace(0, max_t, 20)\n",
    "mean_tail_accs = np.zeros(20) # mean tail acc for each t\n",
    "\n",
    "for i, t in enumerate(ts):\n",
    "    tail_accs = np.zeros(config[\"numcl\"]) # tail accs for each class for this t\n",
    "    for cl in range(config[\"numcl\"]):\n",
    "        tail_accs[cl] = tailAcc(preds[:, cl], labels[:, cl], t)\n",
    "    \n",
    "    mean_tail_accs[i] = np.mean(tail_accs) # mean tail acc for this t\n",
    "\n",
    "plt.plot(ts, mean_tail_accs)\n",
    "plt.title(\"Tailacc averaged over all classes\")\n",
    "plt.xlabel(\"t\")\n",
    "plt.show()"
   ]
  },
  {
   "cell_type": "code",
   "execution_count": null,
   "id": "frank-request",
   "metadata": {},
   "outputs": [],
   "source": []
  },
  {
   "cell_type": "code",
   "execution_count": null,
   "id": "accompanied-strengthening",
   "metadata": {},
   "outputs": [],
   "source": []
  }
 ],
 "metadata": {
  "kernelspec": {
   "display_name": "Python 3",
   "language": "python",
   "name": "python3"
  },
  "language_info": {
   "codemirror_mode": {
    "name": "ipython",
    "version": 3
   },
   "file_extension": ".py",
   "mimetype": "text/x-python",
   "name": "python",
   "nbconvert_exporter": "python",
   "pygments_lexer": "ipython3",
   "version": "3.6.12"
  }
 },
 "nbformat": 4,
 "nbformat_minor": 5
}
