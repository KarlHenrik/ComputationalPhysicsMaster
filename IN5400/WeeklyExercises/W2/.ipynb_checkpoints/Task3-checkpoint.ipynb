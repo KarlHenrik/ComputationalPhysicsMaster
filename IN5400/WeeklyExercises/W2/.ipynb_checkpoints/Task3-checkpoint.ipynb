{
 "cells": [
  {
   "cell_type": "code",
   "execution_count": 1,
   "metadata": {},
   "outputs": [],
   "source": [
    "import numpy as np\n",
    "import torch\n",
    "import os, sys, time"
   ]
  },
  {
   "cell_type": "code",
   "execution_count": 2,
   "metadata": {},
   "outputs": [],
   "source": [
    "def forloopdists(X, T):\n",
    "    D = np.zeros((X.shape[0], T.shape[0]))\n",
    "\n",
    "    for i in range(X.shape[0]):\n",
    "        for j in range(T.shape[0]):\n",
    "            D[i, j] = np.linalg.norm(X[i, :] - T[j, :])**2\n",
    "    return D"
   ]
  },
  {
   "cell_type": "code",
   "execution_count": 76,
   "metadata": {},
   "outputs": [],
   "source": [
    "def numpydists2(X, T):\n",
    "    X = np.expand_dims(X, axis=1)\n",
    "    T = np.expand_dims(T, axis=0)\n",
    "    \n",
    "    X2 = np.einsum(\"ijk, ijk -> ij\", X, X)\n",
    "    T2 = np.einsum(\"ijk, ijk -> ij\", T, T)\n",
    "    XT = np.einsum(\"ijk, ijk -> ij\", X, T)\n",
    "    TX = np.einsum(\"ijk, ijk -> ij\", T, X)\n",
    "    \n",
    "    return X2 + T2 - XT - TX\n",
    "\n",
    "def numpydists(X, T):\n",
    "    X = np.expand_dims(X, axis=1)\n",
    "    T = np.expand_dims(T, axis=0)\n",
    "    D = np.sum((X - T)**2, axis=2)\n",
    "    return D"
   ]
  },
  {
   "cell_type": "code",
   "execution_count": 85,
   "metadata": {},
   "outputs": [],
   "source": [
    "def pytorchdists2(X, T, device=None):\n",
    "    X = torch.tensor(X)\n",
    "    T = torch.tensor(T)\n",
    "    X = torch.unsqueeze(X, dim=1)\n",
    "    T = torch.unsqueeze(T, dim=0)\n",
    "    \n",
    "    X2 = torch.einsum(\"ijk, ijk -> ij\", X, X)\n",
    "    T2 = torch.einsum(\"ijk, ijk -> ij\", T, T)\n",
    "    XT = torch.einsum(\"ijk, ijk -> ij\", X, T)\n",
    "    TX = torch.einsum(\"ijk, ijk -> ij\", T, X)\n",
    "    \n",
    "    D = X2 + T2 - XT - TX\n",
    "    return D\n",
    "\n",
    "def pytorchdists(X, T, device=None):\n",
    "    X = torch.tensor(X)\n",
    "    T = torch.tensor(T)\n",
    "    \n",
    "    X = torch.unsqueeze(X, dim=1)\n",
    "    T = torch.unsqueeze(T, dim=0)\n",
    "    D = torch.sum((X - T)**2, dim=2)\n",
    "    return D"
   ]
  },
  {
   "cell_type": "code",
   "execution_count": 77,
   "metadata": {},
   "outputs": [],
   "source": [
    "X = np.random.normal(size=(500, 30)) #5000 instead of 250k for forloopdists\n",
    "T = np.random.normal(size=(50, 30))\n",
    "\n",
    "D = numpydists2(X, T)\n",
    "D3 = numpydists(X, T)"
   ]
  },
  {
   "cell_type": "code",
   "execution_count": 80,
   "metadata": {},
   "outputs": [
    {
     "name": "stdout",
     "output_type": "stream",
     "text": [
      "[[ 2.13162821e-14  1.42108547e-14  0.00000000e+00 ...  1.42108547e-14\n",
      "   0.00000000e+00  0.00000000e+00]\n",
      " [ 7.10542736e-15 -1.42108547e-14  7.10542736e-15 ... -7.10542736e-15\n",
      "   7.10542736e-15  1.42108547e-14]\n",
      " [ 0.00000000e+00 -7.10542736e-15 -7.10542736e-15 ...  0.00000000e+00\n",
      "   0.00000000e+00 -2.13162821e-14]\n",
      " ...\n",
      " [ 0.00000000e+00  7.10542736e-15  1.42108547e-14 ...  0.00000000e+00\n",
      "   0.00000000e+00 -7.10542736e-15]\n",
      " [ 7.10542736e-15  0.00000000e+00  0.00000000e+00 ...  3.55271368e-15\n",
      "   1.42108547e-14  1.42108547e-14]\n",
      " [ 0.00000000e+00  1.42108547e-14  0.00000000e+00 ... -7.10542736e-15\n",
      "  -2.84217094e-14 -7.10542736e-15]]\n"
     ]
    }
   ],
   "source": [
    "print(D - D3)"
   ]
  },
  {
   "cell_type": "markdown",
   "metadata": {},
   "source": [
    "## The Test"
   ]
  },
  {
   "cell_type": "code",
   "execution_count": 83,
   "metadata": {},
   "outputs": [],
   "source": [
    "def timing():\n",
    "    X = np.random.normal(size=(5000, 300)) #5000 instead of 250k for forloopdists\n",
    "    T = np.random.normal(size=(500, 300))\n",
    "\n",
    "    #if X.shape[0] * T.shape[0] * X.shape[1] < 1E9:\n",
    "    #    since = time.time()\n",
    "    #    dists0 = forloopdists(X, T)\n",
    "    #    time_elapsed = float(time.time()) - float(since)\n",
    "    #    print('For complete in {:.3f}s'.format( time_elapsed ))\n",
    "\n",
    "    since = time.time()\n",
    "    dists1 = pytorchdists(X, T)\n",
    "    time_elapsed = float(time.time()) - float(since)\n",
    "    print('Torch complete in {:.3f}s'.format( time_elapsed ))\n",
    "    \n",
    "    since = time.time()\n",
    "    dists12 = pytorchdists2(X, T)\n",
    "    time_elapsed = float(time.time()) - float(since)\n",
    "    print('Torch 2 complete in {:.3f}s'.format( time_elapsed ))\n",
    "\n",
    "    since = time.time()\n",
    "    dists2 = numpydists(X, T)\n",
    "    time_elapsed = float(time.time()) - float(since)\n",
    "    print('Numpy complete in {:.3f}s'.format( time_elapsed ))\n",
    "    \n",
    "    since = time.time()\n",
    "    dists22 = numpydists2(X, T)\n",
    "    time_elapsed = float(time.time()) - float(since)\n",
    "    print('Numpy 2 complete in {:.3f}s'.format( time_elapsed ))"
   ]
  },
  {
   "cell_type": "code",
   "execution_count": 84,
   "metadata": {},
   "outputs": [
    {
     "name": "stdout",
     "output_type": "stream",
     "text": [
      "Torch complete in 7.144s\n",
      "Numpy complete in 4.362s\n",
      "Numpy 2 complete in 0.738s\n"
     ]
    }
   ],
   "source": [
    "timing()"
   ]
  },
  {
   "cell_type": "code",
   "execution_count": 12,
   "metadata": {},
   "outputs": [
    {
     "name": "stdout",
     "output_type": "stream",
     "text": [
      "8.8750612633917\n",
      "10.574031267727719\n"
     ]
    }
   ],
   "source": [
    "print(np.log10(5000 * 500 * 300))\n",
    "print(np.log10(250000 * 500 * 300))"
   ]
  },
  {
   "cell_type": "code",
   "execution_count": null,
   "metadata": {},
   "outputs": [],
   "source": []
  }
 ],
 "metadata": {
  "kernelspec": {
   "display_name": "Python 3",
   "language": "python",
   "name": "python3"
  },
  "language_info": {
   "codemirror_mode": {
    "name": "ipython",
    "version": 3
   },
   "file_extension": ".py",
   "mimetype": "text/x-python",
   "name": "python",
   "nbconvert_exporter": "python",
   "pygments_lexer": "ipython3",
   "version": "3.6.12"
  }
 },
 "nbformat": 4,
 "nbformat_minor": 4
}
