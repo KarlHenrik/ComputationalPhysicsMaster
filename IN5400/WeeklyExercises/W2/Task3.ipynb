{
 "cells": [
  {
   "cell_type": "code",
   "execution_count": 9,
   "metadata": {},
   "outputs": [],
   "source": [
    "import numpy as np\n",
    "import torch\n",
    "import os, sys, time"
   ]
  },
  {
   "cell_type": "code",
   "execution_count": 10,
   "metadata": {},
   "outputs": [],
   "source": [
    "def forloopdists(X, T):\n",
    "    D = np.zeros((X.shape[0], T.shape[0]))\n",
    "\n",
    "    for i in range(X.shape[0]):\n",
    "        for j in range(T.shape[0]):\n",
    "            D[i, j] = np.linalg.norm(X[i, :] - T[j, :])**2\n",
    "    return D"
   ]
  },
  {
   "cell_type": "code",
   "execution_count": 11,
   "metadata": {},
   "outputs": [],
   "source": [
    "def numpydists(X, T):\n",
    "    X = np.expand_dims(X, axis=1)\n",
    "    T = np.expand_dims(T, axis=0)\n",
    "    \n",
    "    X2 = np.einsum(\"ijk, ijk -> ij\", X, X)\n",
    "    T2 = np.einsum(\"ijk, ijk -> ij\", T, T)\n",
    "    XT = np.einsum(\"ijk, ijk -> ij\", X, T)\n",
    "    \n",
    "    return X2 + T2 - 2 * XT"
   ]
  },
  {
   "cell_type": "code",
   "execution_count": 12,
   "metadata": {},
   "outputs": [],
   "source": [
    "def pytorchdists(X, T):\n",
    "    X = torch.tensor(X, device = \"cuda\")\n",
    "    T = torch.tensor(T, device = \"cuda\")\n",
    "    XT = torch.mm(X, T.T)\n",
    "    \n",
    "    X = torch.unsqueeze(X, dim=1)\n",
    "    T = torch.unsqueeze(T, dim=0)\n",
    "    \n",
    "    X2 = torch.einsum(\"ijk, ijk -> ij\", X, X)\n",
    "    T2 = torch.einsum(\"ijk, ijk -> ij\", T, T)\n",
    "    \n",
    "    return X2 + T2 - 2 * XT"
   ]
  },
  {
   "cell_type": "code",
   "execution_count": 13,
   "metadata": {},
   "outputs": [],
   "source": [
    "X = np.random.normal(size=(500, 30)) #5000 instead of 250k for forloopdists\n",
    "T = np.random.normal(size=(50, 30))\n",
    "\n",
    "D3 = numpydists(X, T)\n",
    "D = pytorchdists(X, T).to(\"cpu\")"
   ]
  },
  {
   "cell_type": "code",
   "execution_count": 14,
   "metadata": {},
   "outputs": [
    {
     "name": "stdout",
     "output_type": "stream",
     "text": [
      "tensor([[ 7.1054e-15, -7.1054e-15,  7.1054e-15,  ...,  0.0000e+00,\n",
      "          1.4211e-14,  0.0000e+00],\n",
      "        [ 0.0000e+00, -7.1054e-15, -7.1054e-15,  ...,  7.1054e-15,\n",
      "          7.1054e-15, -1.4211e-14],\n",
      "        [ 1.4211e-14,  0.0000e+00, -7.1054e-15,  ...,  0.0000e+00,\n",
      "         -7.1054e-15, -3.5527e-15],\n",
      "        ...,\n",
      "        [-7.1054e-15, -2.1316e-14, -1.4211e-14,  ..., -1.4211e-14,\n",
      "          0.0000e+00, -1.4211e-14],\n",
      "        [ 1.4211e-14,  0.0000e+00, -7.1054e-15,  ...,  0.0000e+00,\n",
      "         -7.1054e-15,  0.0000e+00],\n",
      "        [ 7.1054e-15,  0.0000e+00, -7.1054e-15,  ..., -7.1054e-15,\n",
      "          0.0000e+00, -7.1054e-15]], dtype=torch.float64)\n"
     ]
    }
   ],
   "source": [
    "print(D - D3)"
   ]
  },
  {
   "cell_type": "markdown",
   "metadata": {},
   "source": [
    "## The Test"
   ]
  },
  {
   "cell_type": "code",
   "execution_count": 15,
   "metadata": {},
   "outputs": [],
   "source": [
    "def timing():\n",
    "    X = np.random.normal(size=(5000, 300)) #5000 instead of 250k for forloopdists\n",
    "    T = np.random.normal(size=(500, 300))\n",
    "\n",
    "    #if X.shape[0] * T.shape[0] * X.shape[1] < 1E9:\n",
    "    #    since = time.time()\n",
    "    #    dists0 = forloopdists(X, T)\n",
    "    #    time_elapsed = float(time.time()) - float(since)\n",
    "    #    print('For complete in {:.3f}s'.format( time_elapsed ))\n",
    "\n",
    "    since = time.time()\n",
    "    dists1 = pytorchdists(X, T)\n",
    "    time_elapsed = float(time.time()) - float(since)\n",
    "    print('Torch complete in {:.3f}s'.format( time_elapsed ))\n",
    "\n",
    "    since = time.time()\n",
    "    dists2 = numpydists(X, T)\n",
    "    time_elapsed = float(time.time()) - float(since)\n",
    "    print('Numpy complete in {:.3f}s'.format( time_elapsed ))"
   ]
  },
  {
   "cell_type": "code",
   "execution_count": 16,
   "metadata": {},
   "outputs": [
    {
     "name": "stdout",
     "output_type": "stream",
     "text": [
      "Torch complete in 0.002s\n",
      "Numpy complete in 0.342s\n"
     ]
    }
   ],
   "source": [
    "timing()"
   ]
  },
  {
   "cell_type": "code",
   "execution_count": null,
   "metadata": {},
   "outputs": [],
   "source": []
  }
 ],
 "metadata": {
  "kernelspec": {
   "display_name": "Python 3",
   "language": "python",
   "name": "python3"
  },
  "language_info": {
   "codemirror_mode": {
    "name": "ipython",
    "version": 3
   },
   "file_extension": ".py",
   "mimetype": "text/x-python",
   "name": "python",
   "nbconvert_exporter": "python",
   "pygments_lexer": "ipython3",
   "version": "3.6.12"
  }
 },
 "nbformat": 4,
 "nbformat_minor": 4
}
