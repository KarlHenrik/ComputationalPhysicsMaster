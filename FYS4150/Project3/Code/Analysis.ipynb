{
 "cells": [
  {
   "cell_type": "code",
   "execution_count": 21,
   "metadata": {},
   "outputs": [],
   "source": [
    "import numpy as np\n",
    "import matplotlib.pyplot as plt\n",
    "import pandas as pd"
   ]
  },
  {
   "cell_type": "code",
   "execution_count": 49,
   "metadata": {},
   "outputs": [],
   "source": [
    "nameMass = np.array(pd.read_csv(\"Output/mercury.txt\", header=None, delim_whitespace=True, nrows=1))[0]\n",
    "\n",
    "df = pd.read_csv(\"Output/mercury.txt\", header=None, delim_whitespace=True, skiprows = 1)\n",
    "\n",
    "n_planets = len(nameMass) // 2\n",
    "names = [nameMass[2*i] for i in range(n_planets)]\n",
    "masses = [nameMass[2*i + 1] for i in range(n_planets)]"
   ]
  },
  {
   "cell_type": "code",
   "execution_count": 50,
   "metadata": {},
   "outputs": [
    {
     "name": "stdout",
     "output_type": "stream",
     "text": [
      "-0.01548093339505558\n"
     ]
    }
   ],
   "source": [
    "inds = len(df) // 2\n",
    "startOrbit = np.array([df[3][:inds], df[4][:inds]])\n",
    "endOrbit = np.array([df[3][-inds:], df[4][-inds:]])\n",
    "\n",
    "shortest = 1000\n",
    "peri = [0, 0]\n",
    "for i in range(inds):\n",
    "    dist2 = startOrbit[0][i]**2 + startOrbit[1][i]**2\n",
    "    if dist2 < shortest:\n",
    "        shortest = dist2\n",
    "        peri = [startOrbit[0][i], startOrbit[1][i]]\n",
    "        \n",
    "shortest2 = 1000\n",
    "peri2 = [0, 0]\n",
    "for i in range(inds):\n",
    "    dist2 = endOrbit[0][i]**2 + endOrbit[1][i]**2\n",
    "    if dist2 < shortest2:\n",
    "        shortest2 = dist2\n",
    "        peri2 = [endOrbit[0][i], endOrbit[1][i]]\n",
    "\n",
    "pAngStart = np.arctan(peri[1]/peri[0])\n",
    "pAngEnd = np.arctan(peri2[1]/peri2[0])\n",
    "\n",
    "pAngDiff = np.rad2deg(pAngStart - pAngEnd)\n",
    "print(pAngDiff)"
   ]
  },
  {
   "cell_type": "code",
   "execution_count": 51,
   "metadata": {},
   "outputs": [
    {
     "name": "stdout",
     "output_type": "stream",
     "text": [
      "1.3880826822080394\n",
      "1.388352875467065\n",
      "[0.055761505999999995, 0.30178152]\n",
      "[0.055679888, 0.30179616]\n"
     ]
    }
   ],
   "source": [
    "print(pAngStart)\n",
    "print(pAngEnd)\n",
    "\n",
    "print(peri)\n",
    "print(peri2)"
   ]
  },
  {
   "cell_type": "code",
   "execution_count": 38,
   "metadata": {},
   "outputs": [],
   "source": [
    "observed = 0.0119444444\n",
    "relativistic = 0.021244860724927987 #10 000 000 points\n",
    "non = 0.0012337066884210539 # 10 000 000 points"
   ]
  },
  {
   "cell_type": "code",
   "execution_count": 52,
   "metadata": {},
   "outputs": [
    {
     "data": {
      "image/png": "[encoded data removed]",
      "text/plain": [
       "<Figure size 432x432 with 1 Axes>"
      ]
     },
     "metadata": {
      "needs_background": "light"
     },
     "output_type": "display_data"
    }
   ],
   "source": [
    "plt.figure(figsize = (6, 6))\n",
    "plt.plot(startOrbit[0], startOrbit[1])\n",
    "plt.plot(endOrbit[0], endOrbit[1])\n",
    "plt.plot(peri[0], peri[1], \"ro\")\n",
    "plt.plot(peri2[0], peri2[1], \"bo\")\n",
    "plt.plot([0], [0], \"yo\")\n",
    "plt.xlim(peri[0] - 0.0002, peri[0] + 0.0002)\n",
    "plt.ylim(peri[1] - 0.0002, peri[1] + 0.0002)\n",
    "plt.grid()\n",
    "plt.show()"
   ]
  },
  {
   "cell_type": "code",
   "execution_count": null,
   "metadata": {},
   "outputs": [],
   "source": []
  }
 ],
 "metadata": {
  "kernelspec": {
   "display_name": "Python 3",
   "language": "python",
   "name": "python3"
  },
  "language_info": {
   "codemirror_mode": {
    "name": "ipython",
    "version": 3
   },
   "file_extension": ".py",
   "mimetype": "text/x-python",
   "name": "python",
   "nbconvert_exporter": "python",
   "pygments_lexer": "ipython3",
   "version": "3.6.9"
  }
 },
 "nbformat": 4,
 "nbformat_minor": 4
}
