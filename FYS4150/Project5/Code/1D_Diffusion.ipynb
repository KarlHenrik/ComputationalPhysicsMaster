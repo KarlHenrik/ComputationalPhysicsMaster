{
 "cells": [
  {
   "cell_type": "code",
   "execution_count": null,
   "metadata": {},
   "outputs": [],
   "source": [
    "import numpy as np\n",
    "import pandas as pd\n",
    "import matplotlib.pyplot as plt\n",
    "import matplotlib\n",
    "from sklearn.metrics import mean_squared_error as mse\n",
    "matplotlib.rcParams.update({'font.size': 12})"
   ]
  },
  {
   "cell_type": "markdown",
   "metadata": {},
   "source": [
    "# 1D Rod"
   ]
  },
  {
   "cell_type": "markdown",
   "metadata": {},
   "source": [
    "### Analytical solution"
   ]
  },
  {
   "cell_type": "code",
   "execution_count": null,
   "metadata": {},
   "outputs": [],
   "source": [
    "n_Fourier = 50000\n",
    "L = 1\n",
    "x = np.linspace(0, L, n_Fourier)\n",
    "\n",
    "g = np.zeros(n_Fourier)\n",
    "g[n_Fourier - 1] = 1\n",
    "b = 1/L * x\n",
    "a = g - b\n",
    "\n",
    "An = np.zeros(n_Fourier)\n",
    "for i in range(1, n_Fourier):\n",
    "    An[i] = 2 / L * np.trapz(a * np.sin(i * np.pi * x / L)) / n_Fourier\n",
    "    \n",
    "def u(x, t):\n",
    "    u_sum = np.zeros(len(x))\n",
    "    for i in range(1, n_Fourier):\n",
    "        u_sum += An[i] * np.sin(i * np.pi * x / L) * np.exp(-i**2 * np.pi**2 * t / L**2)\n",
    "    return u_sum + x"
   ]
  },
  {
   "cell_type": "code",
   "execution_count": null,
   "metadata": {},
   "outputs": [],
   "source": [
    "x = np.linspace(0, 1, 1000)\n",
    "for t in [0, 0.01, 0.1]:\n",
    "    y = u(x, t)\n",
    "    plt.plot(x, y, label=f\"t = {t}\")\n",
    "plt.legend()\n",
    "plt.show()"
   ]
  },
  {
   "cell_type": "code",
   "execution_count": null,
   "metadata": {},
   "outputs": [],
   "source": [
    "times = [0, 0.01, 0.1]\n",
    "for scheme, name in zip([\"imp\", \"exp\", \"crank\"], [\"Implicit\", \"Explicit\", \"Crank-Nicolson\"]):\n",
    "    for n in [11, 101]:\n",
    "        df = pd.read_csv(f\"Output/rod_{scheme}_{n}.txt\", delim_whitespace=True, header=None).transpose()\n",
    "        df.columns = df.iloc[0]\n",
    "        df = df[1:]\n",
    "\n",
    "        dx = 1 / (n - 1)\n",
    "        x = np.linspace(0, 1, n)\n",
    "\n",
    "        plt.figure(figsize=(6,4))\n",
    "        for ti, time in zip(df, times):\n",
    "            y = np.array(df[ti])\n",
    "            print(f\"MSE = {mse(y, u(x, time)):.3e}\")\n",
    "            plt.plot(x, y, label=f\"t = {time}\")\n",
    "        plt.title(f\"{name}: dx = {dx}\")\n",
    "        plt.legend()\n",
    "        plt.show()"
   ]
  },
  {
   "cell_type": "code",
   "execution_count": null,
   "metadata": {},
   "outputs": [],
   "source": []
  }
 ],
 "metadata": {
  "kernelspec": {
   "display_name": "Python 3",
   "language": "python",
   "name": "python3"
  },
  "language_info": {
   "codemirror_mode": {
    "name": "ipython",
    "version": 3
   },
   "file_extension": ".py",
   "mimetype": "text/x-python",
   "name": "python",
   "nbconvert_exporter": "python",
   "pygments_lexer": "ipython3",
   "version": "3.6.12"
  }
 },
 "nbformat": 4,
 "nbformat_minor": 4
}
