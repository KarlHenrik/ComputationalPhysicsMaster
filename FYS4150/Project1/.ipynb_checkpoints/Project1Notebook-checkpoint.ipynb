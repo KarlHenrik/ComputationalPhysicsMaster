{
 "cells": [
  {
   "cell_type": "markdown",
   "metadata": {},
   "source": [
    "# Bearbeiding og presentasjon av resultater for Prosjekt 1"
   ]
  },
  {
   "cell_type": "code",
   "execution_count": 1,
   "metadata": {},
   "outputs": [],
   "source": [
    "import numpy as np\n",
    "import matplotlib.pyplot as plt\n",
    "import pandas as pd"
   ]
  },
  {
   "cell_type": "markdown",
   "metadata": {},
   "source": [
    "## Løsning fra den generelle Thomas algoritmen for n = 10"
   ]
  },
  {
   "cell_type": "code",
   "execution_count": 143,
   "metadata": {},
   "outputs": [
    {
     "data": {
      "text/plain": [
       "-5.079183400000001"
      ]
     },
     "execution_count": 143,
     "metadata": {},
     "output_type": "execute_result"
    }
   ],
   "source": [
    "csv_file = 'Results/sl3.txt'\n",
    "df = pd.read_csv(csv_file, delim_whitespace=True)\n",
    "\n",
    "x = df[\"x\"]\n",
    "u_sol = df[\"u_solution\"]\n",
    "u_exact = df[\"u_analytical\"]\n",
    "log10relErr = df[\"log10(relErr)\"]\n",
    "\n",
    "df\n",
    "np.amax(log10relErr)"
   ]
  },
  {
   "cell_type": "code",
   "execution_count": 145,
   "metadata": {},
   "outputs": [
    {
     "data": {
      "image/png": "[encoded data removed]",
      "text/plain": [
       "<Figure size 432x288 with 1 Axes>"
      ]
     },
     "metadata": {
      "needs_background": "light"
     },
     "output_type": "display_data"
    }
   ],
   "source": [
    "plt.plot(x, u_sol, label=\"Solution\")\n",
    "plt.plot(x, u_exact, label=\"Analytical\")\n",
    "plt.title(\"Løsning av Poisson likningen for n = 10\")\n",
    "plt.xlabel(\"x\")\n",
    "plt.ylabel(\"$u(x)$\")\n",
    "plt.legend()\n",
    "plt.savefig(\"Results/losning1.jpg\")\n",
    "plt.show()"
   ]
  },
  {
   "cell_type": "markdown",
   "metadata": {},
   "source": [
    "## Løsning fra den tilpassede Thomas algoritmen for n = 1000"
   ]
  },
  {
   "cell_type": "code",
   "execution_count": 146,
   "metadata": {},
   "outputs": [
    {
     "data": {
      "text/html": [
       "<div>\n",
       "<style scoped>\n",
       "    .dataframe tbody tr th:only-of-type {\n",
       "        vertical-align: middle;\n",
       "    }\n",
       "\n",
       "    .dataframe tbody tr th {\n",
       "        vertical-align: top;\n",
       "    }\n",
       "\n",
       "    .dataframe thead th {\n",
       "        text-align: right;\n",
       "    }\n",
       "</style>\n",
       "<table border=\"1\" class=\"dataframe\">\n",
       "  <thead>\n",
       "    <tr style=\"text-align: right;\">\n",
       "      <th></th>\n",
       "      <th>x</th>\n",
       "      <th>u_solution</th>\n",
       "      <th>u_analytical</th>\n",
       "      <th>log10(relErr)</th>\n",
       "    </tr>\n",
       "  </thead>\n",
       "  <tbody>\n",
       "    <tr>\n",
       "      <th>0</th>\n",
       "      <td>0.001</td>\n",
       "      <td>0.008950</td>\n",
       "      <td>0.008950</td>\n",
       "      <td>-5.079183</td>\n",
       "    </tr>\n",
       "    <tr>\n",
       "      <th>1</th>\n",
       "      <td>0.002</td>\n",
       "      <td>0.017801</td>\n",
       "      <td>0.017801</td>\n",
       "      <td>-5.079183</td>\n",
       "    </tr>\n",
       "    <tr>\n",
       "      <th>2</th>\n",
       "      <td>0.003</td>\n",
       "      <td>0.026554</td>\n",
       "      <td>0.026555</td>\n",
       "      <td>-5.079183</td>\n",
       "    </tr>\n",
       "    <tr>\n",
       "      <th>3</th>\n",
       "      <td>0.004</td>\n",
       "      <td>0.035210</td>\n",
       "      <td>0.035211</td>\n",
       "      <td>-5.079183</td>\n",
       "    </tr>\n",
       "    <tr>\n",
       "      <th>4</th>\n",
       "      <td>0.005</td>\n",
       "      <td>0.043770</td>\n",
       "      <td>0.043771</td>\n",
       "      <td>-5.079183</td>\n",
       "    </tr>\n",
       "    <tr>\n",
       "      <th>...</th>\n",
       "      <td>...</td>\n",
       "      <td>...</td>\n",
       "      <td>...</td>\n",
       "      <td>...</td>\n",
       "    </tr>\n",
       "    <tr>\n",
       "      <th>994</th>\n",
       "      <td>0.995</td>\n",
       "      <td>0.004997</td>\n",
       "      <td>0.004997</td>\n",
       "      <td>-5.079183</td>\n",
       "    </tr>\n",
       "    <tr>\n",
       "      <th>995</th>\n",
       "      <td>0.996</td>\n",
       "      <td>0.003998</td>\n",
       "      <td>0.003998</td>\n",
       "      <td>-5.079183</td>\n",
       "    </tr>\n",
       "    <tr>\n",
       "      <th>996</th>\n",
       "      <td>0.997</td>\n",
       "      <td>0.002998</td>\n",
       "      <td>0.002998</td>\n",
       "      <td>-5.079183</td>\n",
       "    </tr>\n",
       "    <tr>\n",
       "      <th>997</th>\n",
       "      <td>0.998</td>\n",
       "      <td>0.001999</td>\n",
       "      <td>0.001999</td>\n",
       "      <td>-5.079183</td>\n",
       "    </tr>\n",
       "    <tr>\n",
       "      <th>998</th>\n",
       "      <td>0.999</td>\n",
       "      <td>0.000999</td>\n",
       "      <td>0.000999</td>\n",
       "      <td>-5.079183</td>\n",
       "    </tr>\n",
       "  </tbody>\n",
       "</table>\n",
       "<p>999 rows × 4 columns</p>\n",
       "</div>"
      ],
      "text/plain": [
       "         x  u_solution  u_analytical  log10(relErr)\n",
       "0    0.001    0.008950      0.008950      -5.079183\n",
       "1    0.002    0.017801      0.017801      -5.079183\n",
       "2    0.003    0.026554      0.026555      -5.079183\n",
       "3    0.004    0.035210      0.035211      -5.079183\n",
       "4    0.005    0.043770      0.043771      -5.079183\n",
       "..     ...         ...           ...            ...\n",
       "994  0.995    0.004997      0.004997      -5.079183\n",
       "995  0.996    0.003998      0.003998      -5.079183\n",
       "996  0.997    0.002998      0.002998      -5.079183\n",
       "997  0.998    0.001999      0.001999      -5.079183\n",
       "998  0.999    0.000999      0.000999      -5.079183\n",
       "\n",
       "[999 rows x 4 columns]"
      ]
     },
     "execution_count": 146,
     "metadata": {},
     "output_type": "execute_result"
    }
   ],
   "source": [
    "csv_file = 'Results/td3.txt'\n",
    "df = pd.read_csv(csv_file, delim_whitespace=True)\n",
    "\n",
    "x = df[\"x\"]\n",
    "u_sol = df[\"u_solution\"]\n",
    "u_exact = df[\"u_analytical\"]\n",
    "log10relErr = df[\"log10(relErr)\"]\n",
    "\n",
    "df"
   ]
  },
  {
   "cell_type": "code",
   "execution_count": 147,
   "metadata": {},
   "outputs": [
    {
     "data": {
      "image/png": "[encoded data removed]",
      "text/plain": [
       "<Figure size 432x288 with 1 Axes>"
      ]
     },
     "metadata": {
      "needs_background": "light"
     },
     "output_type": "display_data"
    }
   ],
   "source": [
    "plt.plot(x, u_sol, label=\"Solution\")\n",
    "plt.plot(x, u_exact, label=\"Analytical\")\n",
    "plt.title(\"Løsning av Poisson likningen for n = 1000\")\n",
    "plt.xlabel(\"x\")\n",
    "plt.ylabel(\"$u(x)$\")\n",
    "plt.legend()\n",
    "plt.savefig(\"Results/losning.jpg\")\n",
    "plt.show()"
   ]
  },
  {
   "cell_type": "code",
   "execution_count": 98,
   "metadata": {},
   "outputs": [
    {
     "data": {
      "image/png": "[encoded data removed]",
      "text/plain": [
       "<Figure size 432x288 with 1 Axes>"
      ]
     },
     "metadata": {
      "needs_background": "light"
     },
     "output_type": "display_data"
    }
   ],
   "source": [
    "plt.plot(x, log10relErr)\n",
    "plt.ylim(-11, 0)\n",
    "plt.title(\"$log_{10}$ av relativ feil som funksjon av x for n = 1000\")\n",
    "plt.xlabel(\"x\")\n",
    "plt.ylabel(\"$log_{10}$ av relativ feil\")\n",
    "plt.savefig(\"Results/relErrx.jpg\")\n",
    "plt.show()"
   ]
  },
  {
   "cell_type": "code",
   "execution_count": 99,
   "metadata": {},
   "outputs": [
    {
     "data": {
      "text/plain": [
       "-5.079183400000001"
      ]
     },
     "execution_count": 99,
     "metadata": {},
     "output_type": "execute_result"
    }
   ],
   "source": [
    "np.amax(log10relErr)"
   ]
  },
  {
   "cell_type": "markdown",
   "metadata": {},
   "source": [
    "## $log_{10}$ av relativ feil som funksjon av $log_{10}(n)$ for den tilpassede Thomas algoritmen"
   ]
  },
  {
   "cell_type": "code",
   "execution_count": 82,
   "metadata": {},
   "outputs": [],
   "source": [
    "relErrs = []\n",
    "for k in range(1,8):\n",
    "    kcsv_file = f'Results/td{k}.txt'\n",
    "    kdf = pd.read_csv(kcsv_file, delim_whitespace=True)\n",
    "\n",
    "    kx = kdf[\"x\"]\n",
    "    ku_sol = kdf[\"u_solution\"]\n",
    "    ku_exact = kdf[\"u_analytical\"]\n",
    "    klog10relErr = kdf[\"log10(relErr)\"]\n",
    "\n",
    "    relErrs.append(np.amax(klog10relErr))"
   ]
  },
  {
   "cell_type": "code",
   "execution_count": 83,
   "metadata": {},
   "outputs": [
    {
     "name": "stdout",
     "output_type": "stream",
     "text": [
      "[-1.1005822, -3.0706732000000003, -5.079183400000001, -7.0790942999999995, -9.079008, -10.431693, -9.2979409]\n"
     ]
    }
   ],
   "source": [
    "print(relErrs)"
   ]
  },
  {
   "cell_type": "code",
   "execution_count": 109,
   "metadata": {},
   "outputs": [
    {
     "data": {
      "image/png": "[encoded data removed]",
      "text/plain": [
       "<Figure size 432x288 with 1 Axes>"
      ]
     },
     "metadata": {
      "needs_background": "light"
     },
     "output_type": "display_data"
    }
   ],
   "source": [
    "plt.scatter(range(1,8), relErrs)\n",
    "plt.title(\"$log_{10}$ av relativ feil som funksjon av $log_{10}(n)$\")\n",
    "plt.grid()\n",
    "plt.xlabel(\"$log_{10}(n)$\")\n",
    "plt.ylabel(\"$log_{10}$ av relativ feil\")\n",
    "plt.savefig(\"Results/relErrPlot.jpg\")\n",
    "plt.show()"
   ]
  },
  {
   "cell_type": "markdown",
   "metadata": {},
   "source": [
    "## Variasjon i relativ feil for n = $10^7$"
   ]
  },
  {
   "cell_type": "code",
   "execution_count": 87,
   "metadata": {},
   "outputs": [],
   "source": [
    "csv_file = 'Results/td7.txt'\n",
    "df = pd.read_csv(csv_file, delim_whitespace=True)\n",
    "\n",
    "x = df[\"x\"]\n",
    "u_sol = df[\"u_solution\"]\n",
    "u_exact = df[\"u_analytical\"]\n",
    "log10relErr = df[\"log10(relErr)\"]"
   ]
  },
  {
   "cell_type": "code",
   "execution_count": 88,
   "metadata": {},
   "outputs": [
    {
     "data": {
      "image/png": "[encoded data removed]",
      "text/plain": [
       "<Figure size 432x288 with 1 Axes>"
      ]
     },
     "metadata": {
      "needs_background": "light"
     },
     "output_type": "display_data"
    }
   ],
   "source": [
    "plt.plot(x, log10relErr)\n",
    "plt.ylim(-20, 0)\n",
    "plt.title(\"$log_{10}$ av relativ feil som funksjon av x for n = $10^7$\")\n",
    "plt.xlabel(\"x\")\n",
    "plt.ylabel(\"$log_{10}$ av relativ feil\")\n",
    "plt.savefig(\"Results/relErr7.jpg\")\n",
    "plt.show()"
   ]
  },
  {
   "cell_type": "code",
   "execution_count": 119,
   "metadata": {},
   "outputs": [
    {
     "name": "stdout",
     "output_type": "stream",
     "text": [
      "1\n",
      "6.666667e+02\n",
      "2\n",
      "6.666667e+05\n",
      "3\n",
      "6.666667e+08\n",
      "4\n",
      "6.666667e+11\n",
      "5\n",
      "6.666667e+14\n",
      "6\n",
      "6.666667e+17\n",
      "7\n",
      "6.666667e+20\n"
     ]
    }
   ],
   "source": [
    "for i in range(1,8):\n",
    "    print(i)\n",
    "    print(f\"{2/3 * (10**i)**3:e}\")"
   ]
  },
  {
   "cell_type": "code",
   "execution_count": null,
   "metadata": {},
   "outputs": [],
   "source": []
  }
 ],
 "metadata": {
  "kernelspec": {
   "display_name": "Python 3",
   "language": "python",
   "name": "python3"
  },
  "language_info": {
   "codemirror_mode": {
    "name": "ipython",
    "version": 3
   },
   "file_extension": ".py",
   "mimetype": "text/x-python",
   "name": "python",
   "nbconvert_exporter": "python",
   "pygments_lexer": "ipython3",
   "version": "3.6.9"
  }
 },
 "nbformat": 4,
 "nbformat_minor": 4
}
