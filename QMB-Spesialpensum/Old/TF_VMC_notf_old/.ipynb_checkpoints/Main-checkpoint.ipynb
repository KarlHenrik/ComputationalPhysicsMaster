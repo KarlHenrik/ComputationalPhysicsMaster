{
 "cells": [
  {
   "cell_type": "code",
   "execution_count": 1,
   "metadata": {},
   "outputs": [],
   "source": [
    "import numpy as np\n",
    "from run import run"
   ]
  },
  {
   "cell_type": "code",
   "execution_count": 2,
   "metadata": {},
   "outputs": [],
   "source": [
    "# problem specific multi-use parameters\n",
    "HO_shape = [1, 1, 1]\n",
    "hard_core_r = 0.00433\n",
    "\n",
    "config = {\n",
    "    \"name\"        : \"demo\",\n",
    "    \"particles\"   : 2,\n",
    "    \"dimensions\"  : 3,\n",
    "    \n",
    "    \"steps\"       : {\"sampled\" : 1e4, \"equil\" : 1e4},\n",
    "    \"metropolis\"  : {\"name\" : \"importance\", \"step_length\" : 0.01},\n",
    "    \"optimizer\"   : {\"name\" : \"grid\", \"start\" : 0.4, \"end\" : 0.6, \"step\" : 0.05},\n",
    "    \n",
    "    \"initial\"     : {\"name\" : \"randomUniform\", \"radius\" : hard_core_r},\n",
    "    \"wavefunc\"    : {\"name\" : \"simpleGaussian\", \"params\" : 0.5, \"HO shape\" : HO_shape},\n",
    "    \"hamiltonian\" : {\"name\" : \"HO\", \"omega\" : 1, \"HO shape\" : HO_shape},\n",
    "    \n",
    "    #\"waveFunc\"   : {\"name\" : \"boson-corr\", \"alpha\" : 0.5, \"HO shape\" : HO_shape, \"hard-core-r\" : hard_core_r}\n",
    "}"
   ]
  },
  {
   "cell_type": "code",
   "execution_count": 3,
   "metadata": {},
   "outputs": [
    {
     "ename": "AttributeError",
     "evalue": "'function' object has no attribute 'getStep'",
     "output_type": "error",
     "traceback": [
      "\u001b[1;31m---------------------------------------------------------------------------\u001b[0m",
      "\u001b[1;31mAttributeError\u001b[0m                            Traceback (most recent call last)",
      "\u001b[1;32m<ipython-input-3-614f40fcb4bd>\u001b[0m in \u001b[0;36m<module>\u001b[1;34m\u001b[0m\n\u001b[1;32m----> 1\u001b[1;33m \u001b[0mrun\u001b[0m\u001b[1;33m(\u001b[0m\u001b[0mconfig\u001b[0m\u001b[1;33m)\u001b[0m\u001b[1;33m\u001b[0m\u001b[1;33m\u001b[0m\u001b[0m\n\u001b[0m",
      "\u001b[1;32m~\\Desktop\\ComputationalPhysicsMaster\\QMB-Spesialpensum\\TF_VMC\\run.py\u001b[0m in \u001b[0;36mrun\u001b[1;34m(config)\u001b[0m\n\u001b[0;32m      9\u001b[0m \u001b[1;32mdef\u001b[0m \u001b[0mrun\u001b[0m\u001b[1;33m(\u001b[0m\u001b[0mconfig\u001b[0m\u001b[1;33m)\u001b[0m\u001b[1;33m:\u001b[0m\u001b[1;33m\u001b[0m\u001b[1;33m\u001b[0m\u001b[0m\n\u001b[0;32m     10\u001b[0m     \u001b[0minitializePos\u001b[0m \u001b[1;33m=\u001b[0m \u001b[0minitPos_util\u001b[0m\u001b[1;33m.\u001b[0m\u001b[0mgetInit\u001b[0m\u001b[1;33m(\u001b[0m\u001b[0mconfig\u001b[0m\u001b[1;33m)\u001b[0m\u001b[1;33m\u001b[0m\u001b[1;33m\u001b[0m\u001b[0m\n\u001b[1;32m---> 11\u001b[1;33m     \u001b[0mmetro_step\u001b[0m    \u001b[1;33m=\u001b[0m \u001b[0mmetro_util\u001b[0m\u001b[1;33m.\u001b[0m\u001b[0mgetStep\u001b[0m\u001b[1;33m(\u001b[0m\u001b[0mconfig\u001b[0m\u001b[1;33m)\u001b[0m\u001b[1;33m\u001b[0m\u001b[1;33m\u001b[0m\u001b[0m\n\u001b[0m\u001b[0;32m     12\u001b[0m     \u001b[0mhamiltonian\u001b[0m   \u001b[1;33m=\u001b[0m \u001b[0mham_util\u001b[0m\u001b[1;33m.\u001b[0m\u001b[0mgetHam\u001b[0m\u001b[1;33m(\u001b[0m\u001b[0mconfig\u001b[0m\u001b[1;33m)\u001b[0m\u001b[1;33m\u001b[0m\u001b[1;33m\u001b[0m\u001b[0m\n\u001b[0;32m     13\u001b[0m     \u001b[0moptimizer\u001b[0m     \u001b[1;33m=\u001b[0m \u001b[0mopt_util\u001b[0m\u001b[1;33m.\u001b[0m\u001b[0mgetOptimizer\u001b[0m\u001b[1;33m(\u001b[0m\u001b[0mconfig\u001b[0m\u001b[1;33m)\u001b[0m\u001b[1;33m\u001b[0m\u001b[1;33m\u001b[0m\u001b[0m\n",
      "\u001b[1;31mAttributeError\u001b[0m: 'function' object has no attribute 'getStep'"
     ]
    }
   ],
   "source": [
    "run(config)"
   ]
  },
  {
   "cell_type": "code",
   "execution_count": null,
   "metadata": {},
   "outputs": [],
   "source": [
    "# SETUP - create functions and classes\n",
    "\n",
    "# THREAD\n",
    "\n",
    "    # SETUP 2 - create unique states that use the functions and classes\n",
    "\n",
    "    # GET GRAD and stuff\n",
    "\n",
    "    # UPDATE PARAMS\n",
    "    # -> REPEAT"
   ]
  }
 ],
 "metadata": {
  "kernelspec": {
   "display_name": "Python 3",
   "language": "python",
   "name": "python3"
  },
  "language_info": {
   "codemirror_mode": {
    "name": "ipython",
    "version": 3
   },
   "file_extension": ".py",
   "mimetype": "text/x-python",
   "name": "python",
   "nbconvert_exporter": "python",
   "pygments_lexer": "ipython3",
   "version": "3.8.5"
  }
 },
 "nbformat": 4,
 "nbformat_minor": 4
}
