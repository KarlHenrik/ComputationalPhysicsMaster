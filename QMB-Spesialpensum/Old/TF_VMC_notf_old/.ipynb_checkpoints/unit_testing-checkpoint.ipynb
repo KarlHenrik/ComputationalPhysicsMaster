{
 "cells": [
  {
   "cell_type": "code",
   "execution_count": 1,
   "metadata": {},
   "outputs": [],
   "source": [
    "from InitialPositions import *\n",
    "from WaveFunctions import *\n",
    "from Hamiltonians import *\n",
    "from Optimizers import *\n",
    "from sampler import Sampler\n",
    "from metropolis import metro_util\n",
    "from particles import Particles"
   ]
  },
  {
   "cell_type": "code",
   "execution_count": 2,
   "metadata": {},
   "outputs": [],
   "source": [
    "# problem specific multi-use parameters\n",
    "HO_shape = [1, 1, 1]\n",
    "hard_core_r = 0.00433\n",
    "\n",
    "config = {\n",
    "    \"name\"        : \"demo\",\n",
    "    \"particles\"   : 3,\n",
    "    \"dimensions\"  : 3,\n",
    "    \n",
    "    \"steps\"       : {\"sampled\" : int(1.0E5), \"equil\" : int(1.0E3)},\n",
    "    \"metropolis\"  : {\"name\" : \"importance\", \"step_length\" : 0.01},\n",
    "    \"optimizer\"   : {\"name\" : \"grid\", \"start\" : 0.4, \"end\" : 0.6, \"step\" : 0.05},\n",
    "    \n",
    "    \"initial\"     : {\"name\" : \"randomUniform\", \"radius\" : hard_core_r},\n",
    "    \"wavefunc\"    : {\"name\" : \"simpleGaussian\", \"params\" : 0.5, \"HO shape\" : HO_shape},\n",
    "    \"hamiltonian\" : {\"name\" : \"HO\", \"omega\" : 1, \"HO shape\" : HO_shape},\n",
    "    \n",
    "    #\"waveFunc\"   : {\"name\" : \"boson-corr\", \"alpha\" : 0.5, \"HO shape\" : HO_shape, \"hard-core-r\" : hard_core_r}\n",
    "}"
   ]
  },
  {
   "cell_type": "code",
   "execution_count": 3,
   "metadata": {},
   "outputs": [],
   "source": [
    "initPos     = initPos_util.getInit(config)\n",
    "metro_step  = metro_util(config)\n",
    "hamiltonian = ham_util.getHam(config)\n",
    "\n",
    "\n",
    "sampler   = Sampler(config)\n",
    "waveFunc  = wf_util.getWf(config)\n",
    "particles = initPos()\n",
    "\n",
    "#tf function call?\n",
    "for i in range(10):\n",
    "    metro_step(particles, waveFunc)\n",
    "#tf function call with gradienttape and two wavefunctions?\n",
    "for i in range(10):\n",
    "    metro_step(particles, waveFunc)\n",
    "    sampler.sample(particles, waveFunc, hamiltonian)"
   ]
  },
  {
   "cell_type": "code",
   "execution_count": 11,
   "metadata": {},
   "outputs": [
    {
     "name": "stdout",
     "output_type": "stream",
     "text": [
      "Wall time: 4.99 ms\n"
     ]
    }
   ],
   "source": [
    "%%time\n",
    "for i in range(1000):\n",
    "    waveFunc.paramDer(particles)"
   ]
  },
  {
   "cell_type": "code",
   "execution_count": null,
   "metadata": {},
   "outputs": [],
   "source": []
  },
  {
   "cell_type": "code",
   "execution_count": null,
   "metadata": {},
   "outputs": [],
   "source": []
  },
  {
   "cell_type": "code",
   "execution_count": null,
   "metadata": {},
   "outputs": [],
   "source": []
  },
  {
   "cell_type": "code",
   "execution_count": 7,
   "metadata": {},
   "outputs": [
    {
     "name": "stdout",
     "output_type": "stream",
     "text": [
      "Wall time: 116 ms\n"
     ]
    }
   ],
   "source": [
    "%%time\n",
    "#tf function call?\n",
    "for i in range(100):\n",
    "    metro_step(particles, waveFunc)\n",
    "#tf function call with gradienttape and two wavefunctions?\n",
    "for i in range(100):\n",
    "    metro_step(particles, waveFunc)\n",
    "    sampler.sample(particles, waveFunc, hamiltonian)"
   ]
  },
  {
   "cell_type": "code",
   "execution_count": 58,
   "metadata": {},
   "outputs": [
    {
     "name": "stdout",
     "output_type": "stream",
     "text": [
      "Wall time: 87.2 ms\n"
     ]
    },
    {
     "data": {
      "text/plain": [
       "array([[335.24859833, 323.18079373, 333.95719516, ..., 331.45936893,\n",
       "        330.52050965, 351.30639949],\n",
       "       [324.72531918, 343.8236537 , 321.05710574, ..., 326.5184991 ,\n",
       "        333.29039022, 360.32399768],\n",
       "       [332.22522314, 344.27713514, 319.65881833, ..., 331.86901361,\n",
       "        319.5936903 , 328.35146907],\n",
       "       ...,\n",
       "       [333.24941181, 329.14897509, 340.38680109, ..., 341.56095089,\n",
       "        325.71357912, 330.66350109],\n",
       "       [324.13967507, 336.42432745, 333.72666205, ..., 328.71123825,\n",
       "        335.58006107, 318.60885563],\n",
       "       [335.78591724, 331.6953127 , 333.57634584, ..., 328.40290003,\n",
       "        329.434777  , 334.51000334]])"
      ]
     },
     "execution_count": 58,
     "metadata": {},
     "output_type": "execute_result"
    }
   ],
   "source": [
    "%%time\n",
    "s = np.random.uniform(size=(100, 100))\n",
    "test(s)"
   ]
  },
  {
   "cell_type": "code",
   "execution_count": 55,
   "metadata": {},
   "outputs": [],
   "source": [
    "def test(s):\n",
    "    for i in range(1000):\n",
    "        s += np.random.uniform(size=(100, 100))**2\n",
    "    return s"
   ]
  },
  {
   "cell_type": "code",
   "execution_count": null,
   "metadata": {},
   "outputs": [],
   "source": []
  },
  {
   "cell_type": "code",
   "execution_count": 44,
   "metadata": {},
   "outputs": [],
   "source": [
    "import numpy as np\n",
    "positions = np.random.uniform(size=(100, 100))"
   ]
  },
  {
   "cell_type": "code",
   "execution_count": 51,
   "metadata": {},
   "outputs": [
    {
     "name": "stdout",
     "output_type": "stream",
     "text": [
      "Wall time: 8.99 ms\n"
     ]
    }
   ],
   "source": [
    "%%time\n",
    "b = positions * 0\n",
    "for i in range(1000):\n",
    "    b += positions * positions"
   ]
  },
  {
   "cell_type": "code",
   "execution_count": null,
   "metadata": {},
   "outputs": [],
   "source": [
    "hamiltonian.potential(particles)"
   ]
  },
  {
   "cell_type": "code",
   "execution_count": null,
   "metadata": {},
   "outputs": [],
   "source": [
    "import tensorflow as tf\n",
    "tf.random.uniform(shape = (3,), minval = -1, maxval = 1, dtype = tf.float64)"
   ]
  },
  {
   "cell_type": "code",
   "execution_count": null,
   "metadata": {},
   "outputs": [],
   "source": [
    "%%time\n",
    "for i in range(config[\"steps\"][\"equil\"]):\n",
    "    metro_step(particles, waveFunc)\n",
    "#tf function call with gradienttape and two wavefunctions?\n",
    "for i in range(config[\"steps\"][\"sampled\"]):\n",
    "    metro_step(particles, waveFunc)\n",
    "    sampler.sample(particles, waveFunc, hamiltonian)"
   ]
  },
  {
   "cell_type": "code",
   "execution_count": null,
   "metadata": {},
   "outputs": [],
   "source": []
  }
 ],
 "metadata": {
  "kernelspec": {
   "display_name": "Python 3",
   "language": "python",
   "name": "python3"
  },
  "language_info": {
   "codemirror_mode": {
    "name": "ipython",
    "version": 3
   },
   "file_extension": ".py",
   "mimetype": "text/x-python",
   "name": "python",
   "nbconvert_exporter": "python",
   "pygments_lexer": "ipython3",
   "version": "3.8.5"
  }
 },
 "nbformat": 4,
 "nbformat_minor": 4
}
