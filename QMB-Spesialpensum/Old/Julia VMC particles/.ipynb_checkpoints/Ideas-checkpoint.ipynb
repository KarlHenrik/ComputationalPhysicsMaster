{
 "cells": [
  {
   "cell_type": "markdown",
   "id": "13292071-5272-4d71-ae65-810d94cb735c",
   "metadata": {
    "tags": []
   },
   "source": [
    "# Code ideas"
   ]
  },
  {
   "cell_type": "markdown",
   "id": "f30291ff-071f-471f-adff-48d0e7b2869b",
   "metadata": {},
   "source": [
    "install stuff with\n",
    "\n",
    "    import Pkg\n",
    "    Pkg.add(\"Plots\")"
   ]
  },
  {
   "cell_type": "markdown",
   "id": "9fbe41ff-f6cd-45fd-993f-8ab7cf53522f",
   "metadata": {},
   "source": [
    "## Initialization"
   ]
  },
  {
   "cell_type": "code",
   "execution_count": null,
   "id": "9b6098ff-fce3-41cf-9436-fe55f90a4da4",
   "metadata": {},
   "outputs": [],
   "source": [
    "include(\"initializer.jl\")\n",
    "using Random\n",
    "import StaticArrays"
   ]
  },
  {
   "cell_type": "code",
   "execution_count": null,
   "id": "de9aa762-99a4-45b5-b89b-28cb7933c04e",
   "metadata": {},
   "outputs": [],
   "source": [
    "rng = Random.MersenneTwister(0)\n",
    "num = 5\n",
    "dims = 3\n",
    "positions = initialize(num, dims, rng)"
   ]
  },
  {
   "cell_type": "markdown",
   "id": "f93a5ec2-582c-42fc-8365-472ad043f373",
   "metadata": {},
   "source": [
    "## Particles"
   ]
  },
  {
   "cell_type": "markdown",
   "id": "0102aef1-1ed7-4992-bd3d-a572ec3d88a0",
   "metadata": {},
   "source": [
    "We want to save some values that are often calculated for each set of positions."
   ]
  },
  {
   "cell_type": "code",
   "execution_count": null,
   "id": "b998afa8-e212-4a90-a3d6-54d6a4651b58",
   "metadata": {},
   "outputs": [],
   "source": [
    "include(\"particles.jl\")"
   ]
  },
  {
   "cell_type": "code",
   "execution_count": null,
   "id": "4a314aae-b2d0-4a1b-be1b-b0b6bd1f1f07",
   "metadata": {},
   "outputs": [],
   "source": [
    "particles = Particles(positions)"
   ]
  },
  {
   "cell_type": "markdown",
   "id": "50116f83-1b33-48d4-8f28-bfc6f8bb8acd",
   "metadata": {
    "tags": []
   },
   "source": [
    "## Wavefunctions"
   ]
  },
  {
   "cell_type": "markdown",
   "id": "a8ad39e8-d896-4744-a5ab-e265b8cbd957",
   "metadata": {},
   "source": [
    "Use seperate structs for seperate types of wavefunctions and use multiple dispatch to use the same set of function names for all wavefunctions."
   ]
  },
  {
   "cell_type": "code",
   "execution_count": null,
   "id": "b305795e-f43c-4e9d-abb9-f1dee579f848",
   "metadata": {},
   "outputs": [],
   "source": [
    "include(\"wavefunctions.jl\")"
   ]
  },
  {
   "cell_type": "code",
   "execution_count": null,
   "id": "591c4690-4efe-4774-8f64-9df47b946410",
   "metadata": {},
   "outputs": [],
   "source": [
    "wf = SimpleGaussian(0.4, [1, 1, 1])"
   ]
  },
  {
   "cell_type": "code",
   "execution_count": null,
   "id": "e73c48ff-7d2a-4e2b-8d85-9708f3a46279",
   "metadata": {},
   "outputs": [],
   "source": [
    "kinetic(particles, wf)"
   ]
  },
  {
   "cell_type": "markdown",
   "id": "9bbb31c5-5b8c-40e4-a348-dc7985fa0084",
   "metadata": {
    "tags": []
   },
   "source": [
    "## Hamiltonians"
   ]
  },
  {
   "cell_type": "markdown",
   "id": "6e528483-6f21-4e6f-9777-f3ff48a22c07",
   "metadata": {},
   "source": [
    "Do the same thing as for wavefunctions."
   ]
  },
  {
   "cell_type": "code",
   "execution_count": null,
   "id": "29586cc1-ef61-4432-b9a6-5f89eca2dcda",
   "metadata": {},
   "outputs": [],
   "source": [
    "include(\"hamiltonians.jl\")"
   ]
  },
  {
   "cell_type": "code",
   "execution_count": null,
   "id": "3f7b0d55-fed3-4448-97d7-9f1b1a6eac66",
   "metadata": {},
   "outputs": [],
   "source": [
    "ham = HarmonicOscillator(0.6, [1, 1, 1])"
   ]
  },
  {
   "cell_type": "code",
   "execution_count": null,
   "id": "37c0bc27-f41d-474c-a4e1-00b1e726eabf",
   "metadata": {},
   "outputs": [],
   "source": [
    "@time potential(particles, ham)"
   ]
  },
  {
   "cell_type": "markdown",
   "id": "0f415b55-f6d1-4261-87c5-6ba2f3b45bef",
   "metadata": {},
   "source": [
    "## Sampler"
   ]
  },
  {
   "cell_type": "markdown",
   "id": "c35a45bd-376b-4c41-b055-df04407d02f1",
   "metadata": {},
   "source": [
    "The sampler should be a mutable struct with any shape for the parameter derivative."
   ]
  },
  {
   "cell_type": "code",
   "execution_count": null,
   "id": "635aab2e-5b9c-48cb-b79e-92eb1b23cab9",
   "metadata": {},
   "outputs": [],
   "source": [
    "include(\"sampler.jl\")"
   ]
  },
  {
   "cell_type": "code",
   "execution_count": null,
   "id": "dfc5a67f-9af5-4b75-b834-734b4ba6f148",
   "metadata": {},
   "outputs": [],
   "source": [
    "samples = Samples()"
   ]
  },
  {
   "cell_type": "code",
   "execution_count": null,
   "id": "28d46ee1-2e40-4dad-a01f-744f7d31f82b",
   "metadata": {},
   "outputs": [],
   "source": [
    "sample!(samples, particles, wf, ham)"
   ]
  },
  {
   "cell_type": "markdown",
   "id": "efa9604f-877a-4239-ace8-b7fc44d0b65e",
   "metadata": {},
   "source": [
    "## Parallelization"
   ]
  },
  {
   "cell_type": "code",
   "execution_count": 1,
   "id": "072cbd1d-11fd-41b3-a300-d6dc6beb0d48",
   "metadata": {},
   "outputs": [],
   "source": [
    "include(\"initializer.jl\")\n",
    "include(\"wavefunctions.jl\")\n",
    "include(\"hamiltonians.jl\")\n",
    "include(\"sampler.jl\")\n",
    "include(\"metropolis.jl\")\n",
    "include(\"particles.jl\")\n",
    "\n",
    "import Random"
   ]
  },
  {
   "cell_type": "code",
   "execution_count": 2,
   "id": "150f1c13-7575-4ceb-9e8a-32adf94ec1ea",
   "metadata": {},
   "outputs": [
    {
     "data": {
      "text/plain": [
       "runn2 (generic function with 1 method)"
      ]
     },
     "execution_count": 2,
     "metadata": {},
     "output_type": "execute_result"
    }
   ],
   "source": [
    "function runn2(particles, wf, rng, samples, ham)\n",
    "    for j in 1:833333\n",
    "        metro_step!(particles, wf, rng, 0.01)\n",
    "        sample!(samples, particles, wf, ham)\n",
    "    end\n",
    "end"
   ]
  },
  {
   "cell_type": "code",
   "execution_count": 3,
   "id": "36cc9f9b-d2e5-471f-8853-905d01da5ecc",
   "metadata": {},
   "outputs": [
    {
     "data": {
      "text/plain": [
       "runn (generic function with 1 method)"
      ]
     },
     "execution_count": 3,
     "metadata": {},
     "output_type": "execute_result"
    }
   ],
   "source": [
    "function runn()\n",
    "    wf = SimpleGaussian(0.4, [1, 1, 1])\n",
    "    ham = HarmonicOscillator(0.6, [1, 1, 1])\n",
    "\n",
    "    nthreads = Threads.nthreads()\n",
    "    rng_threads = [Random.MersenneTwister() for i in 1:nthreads]\n",
    "    samples_threads = [Samples() for i in 1:nthreads]\n",
    "\n",
    "    Threads.@threads for i = 1:nthreads\n",
    "        rng = rng_threads[i]\n",
    "        samples = samples_threads[i]\n",
    "        positions = initialize(10, 3, rng)\n",
    "        particles = Particles(positions)\n",
    "        \n",
    "        runn2(particles, wf, rng, samples, ham)\n",
    "    end\n",
    "end"
   ]
  },
  {
   "cell_type": "code",
   "execution_count": 4,
   "id": "5e1006ca-bf4d-4d84-adf8-1df6eaa1abf0",
   "metadata": {},
   "outputs": [
    {
     "name": "stdout",
     "output_type": "stream",
     "text": [
      " 20.852107 seconds (675.46 M allocations: 20.426 GiB, 25.42% gc time, 0.20% compilation time)\n"
     ]
    }
   ],
   "source": [
    "@time runn()"
   ]
  },
  {
   "cell_type": "code",
   "execution_count": null,
   "id": "dc10d041-1d0c-4e51-8996-a0c9249781f3",
   "metadata": {},
   "outputs": [],
   "source": [
    "18.604906 seconds (670.62 M allocations: 20.136 GiB, 27.61% gc time)"
   ]
  },
  {
   "cell_type": "markdown",
   "id": "7f3b99b3-c7b0-4602-a318-9bfbde4189f9",
   "metadata": {},
   "source": [
    "## SArray"
   ]
  },
  {
   "cell_type": "markdown",
   "id": "cff0367f-61ae-496d-b64d-a55f0cb0348e",
   "metadata": {},
   "source": [
    "The particles are a dim x num [Static Array](https://github.com/JuliaArrays/StaticArrays.jl). If there are more than 100 elements, i.e 34 particles in 3D or 100 particles in 1D, normal arrays should be used instead. This should be benchmarked. Small arrays will be the focus of the masters anyway."
   ]
  },
  {
   "cell_type": "markdown",
   "id": "1a01466e-e830-47c1-85a8-2cb3d9e27ef9",
   "metadata": {},
   "source": [
    "The potential shape should maybe be an SVector."
   ]
  },
  {
   "cell_type": "code",
   "execution_count": null,
   "id": "aa6d3c0a-b146-413e-8657-b77ae5f80c5f",
   "metadata": {},
   "outputs": [],
   "source": [
    "using LinearAlgebra\n",
    "using StaticArrays\n",
    "\n",
    "# Use the convenience constructor type `SA` to create vectors and matrices\n",
    "SA[1, 2, 3]     isa SVector{3,Int}\n",
    "SA_F64[1, 2, 3] isa SVector{3,Float64}\n",
    "SA_F32[1, 2, 3] isa SVector{3,Float32}\n",
    "SA[1 2; 3 4]     isa SMatrix{2,2,Int}\n",
    "SA_F64[1 2; 3 4] isa SMatrix{2,2,Float64}\n",
    "\n",
    "# Create an SVector using various forms, using constructors, functions or macros\n",
    "v1 = SVector(1, 2, 3)\n",
    "v1.data === (1, 2, 3) # SVector uses a tuple for internal storage\n",
    "v2 = SVector{3,Float64}(1, 2, 3) # length 3, eltype Float64\n",
    "v3 = @SVector [1, 2, 3]\n",
    "v4 = @SVector [i^2 for i = 1:10] # arbitrary comprehensions (range is evaluated at global scope)\n",
    "v5 = zeros(SVector{3}) # defaults to Float64\n",
    "v6 = @SVector zeros(3)\n",
    "v7 = SVector{3}([1, 2, 3]) # Array conversions must specify size"
   ]
  },
  {
   "cell_type": "code",
   "execution_count": null,
   "id": "09d3f85a-c15f-4c48-bc89-7c32aae8d4ca",
   "metadata": {},
   "outputs": [],
   "source": [
    "import StaticArrays as sa\n",
    "\n",
    "sa.SA[1, 2, 3]\n",
    "\n",
    "a = sa.SMatrix{3, 2, Float64}([[1, 2, 3] [4,5,6]])"
   ]
  },
  {
   "cell_type": "markdown",
   "id": "2baca45d-8c49-4870-bff8-6dee500a34f8",
   "metadata": {},
   "source": [
    "## Autograd"
   ]
  },
  {
   "cell_type": "markdown",
   "id": "984f1486-0fc7-4973-b659-9e42d1f5ddf5",
   "metadata": {},
   "source": [
    "Maybe use [ReverseDiff](https://github.com/JuliaDiff/ReverseDiff.jl) or [ForwardDiff](https://github.com/JuliaDiff/ForwardDiff.jl)? Which is faster depends on the number of input and output parameters and the number of operations and whether they are matrix operations. Some benchmarking is required."
   ]
  },
  {
   "cell_type": "code",
   "execution_count": null,
   "id": "eaf5590c-07a6-46f3-b1a3-33d827cd8fd2",
   "metadata": {},
   "outputs": [],
   "source": [
    "import ForwardDiff"
   ]
  },
  {
   "cell_type": "code",
   "execution_count": null,
   "id": "2a95fb01-fb32-429c-88b4-f4f74a42d544",
   "metadata": {},
   "outputs": [],
   "source": [
    "f(x::Vector) = sum(sin, x) + prod(tan, x) * sum(sqrt, x);\n",
    "\n",
    "x = rand(5)\n",
    "\n",
    "g = x -> ForwardDiff.gradient(f, x); # g = ∇f\n",
    "\n",
    "g(x)\n",
    "\n",
    "ForwardDiff.hessian(f, x)"
   ]
  },
  {
   "cell_type": "code",
   "execution_count": null,
   "id": "827b0752-b811-4278-b206-76dc3f0ef1e6",
   "metadata": {},
   "outputs": [],
   "source": []
  },
  {
   "cell_type": "code",
   "execution_count": null,
   "id": "bf706025-fbdd-48ea-ab7f-56225b1b70be",
   "metadata": {},
   "outputs": [],
   "source": []
  },
  {
   "cell_type": "code",
   "execution_count": null,
   "id": "90752381-cf8e-4634-8fed-92bfa36b1a70",
   "metadata": {},
   "outputs": [],
   "source": []
  }
 ],
 "metadata": {
  "kernelspec": {
   "display_name": "Julia 1.6.2",
   "language": "julia",
   "name": "julia-1.6"
  },
  "language_info": {
   "file_extension": ".jl",
   "mimetype": "application/julia",
   "name": "julia",
   "version": "1.6.2"
  }
 },
 "nbformat": 4,
 "nbformat_minor": 5
}
