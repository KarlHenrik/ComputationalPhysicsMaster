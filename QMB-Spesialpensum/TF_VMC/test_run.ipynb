{
 "cells": [
  {
   "cell_type": "code",
   "execution_count": null,
   "metadata": {},
   "outputs": [],
   "source": [
    "# problem specific multi-use parameters\n",
    "HO_shape = [1, 1, 1]\n",
    "hard_core_r = 0.00433\n",
    "\n",
    "config = {\n",
    "    \"name\"        : \"demo\",\n",
    "    \"particles\"   : 3,\n",
    "    \"dimensions\"  : 3,\n",
    "    \n",
    "    \"steps\"       : {\"sampled\" : int(1.0E5), \"equil\" : int(1.0E3)},\n",
    "    \"metropolis\"  : {\"name\" : \"importance\", \"step_length\" : 0.01},\n",
    "    \"optimizer\"   : {\"name\" : \"grid\", \"start\" : 0.4, \"end\" : 0.6, \"step\" : 0.05},\n",
    "    \n",
    "    \"initial\"     : {\"name\" : \"randomUniform\", \"radius\" : hard_core_r},\n",
    "    \"wavefunc\"    : {\"name\" : \"simpleGaussian\", \"params\" : 0.5, \"HO shape\" : HO_shape},\n",
    "    \"hamiltonian\" : {\"name\" : \"HO\", \"omega\" : 1, \"HO shape\" : HO_shape},\n",
    "    \n",
    "    #\"waveFunc\"   : {\"name\" : \"boson-corr\", \"alpha\" : 0.5, \"HO shape\" : HO_shape, \"hard-core-r\" : hard_core_r}\n",
    "}"
   ]
  },
  {
   "cell_type": "code",
   "execution_count": null,
   "metadata": {},
   "outputs": [],
   "source": [
    "from InitialPositions import *\n",
    "from WaveFunctions import *\n",
    "from Hamiltonians import *\n",
    "from Optimizers import *\n",
    "from sampler import Sampler\n",
    "from metropolis import metro_util\n",
    "from particles import Particles\n",
    "\n",
    "def run(config):\n",
    "    initPos     = initPos_util.getInit(config)\n",
    "    metro_step  = metro_util(config)\n",
    "    hamiltonian = ham_util.getHam(config)\n",
    "    \n",
    "    \n",
    "    sampler   = Sampler(config)\n",
    "    waveFunc  = wf_util.getWf(config)\n",
    "    particles = initPos()\n",
    "\n",
    "    #tf function call?\n",
    "    for i in range(config[\"steps\"][\"equil\"]):\n",
    "        metro_step(particles, waveFunc)\n",
    "    #tf function call with gradienttape and two wavefunctions?\n",
    "    for i in range(config[\"steps\"][\"sampled\"]):\n",
    "        metro_step(particles, waveFunc)\n",
    "        sampler.sample(particles, waveFunc, hamiltonian)\n",
    "    return sampler"
   ]
  },
  {
   "cell_type": "code",
   "execution_count": null,
   "metadata": {},
   "outputs": [],
   "source": [
    "%%time\n",
    "s = run(config)"
   ]
  },
  {
   "cell_type": "code",
   "execution_count": null,
   "metadata": {},
   "outputs": [],
   "source": [
    "s.getSamples()"
   ]
  },
  {
   "cell_type": "code",
   "execution_count": null,
   "metadata": {},
   "outputs": [],
   "source": []
  }
 ],
 "metadata": {
  "kernelspec": {
   "display_name": "Python 3 (ipykernel)",
   "language": "python",
   "name": "python3"
  },
  "language_info": {
   "codemirror_mode": {
    "name": "ipython",
    "version": 3
   },
   "file_extension": ".py",
   "mimetype": "text/x-python",
   "name": "python",
   "nbconvert_exporter": "python",
   "pygments_lexer": "ipython3",
   "version": "3.9.5"
  }
 },
 "nbformat": 4,
 "nbformat_minor": 4
}
