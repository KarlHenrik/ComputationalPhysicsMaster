{
 "cells": [
  {
   "cell_type": "code",
   "execution_count": 1,
   "metadata": {},
   "outputs": [],
   "source": [
    "import os\n",
    "os.environ[\"CUDA_VISIBLE_DEVICES\"] = \"-1\"\n",
    "import tensorflow as tf"
   ]
  },
  {
   "cell_type": "code",
   "execution_count": 2,
   "metadata": {},
   "outputs": [],
   "source": [
    "from InitialPositions import *\n",
    "from WaveFunctions import *\n",
    "from Hamiltonians import *\n",
    "from Optimizers import *\n",
    "from sampler import Sampler\n",
    "from metropolis import metro_util"
   ]
  },
  {
   "cell_type": "code",
   "execution_count": 3,
   "metadata": {},
   "outputs": [],
   "source": [
    "# problem specific multi-use parameters\n",
    "HO_shape = [1, 1, 1]\n",
    "hard_core_r = 0.00433\n",
    "\n",
    "config = {\n",
    "    \"name\"        : \"demo\",\n",
    "    \"particles\"   : 10,\n",
    "    \"dimensions\"  : 3,\n",
    "    \n",
    "    \"steps\"       : {\"sampled\" : int(1.0E5), \"equil\" : int(1.0E3)},\n",
    "    \"metropolis\"  : {\"name\" : \"importance\", \"step_length\" : 0.01},\n",
    "    \"optimizer\"   : {\"name\" : \"grid\", \"start\" : 0.4, \"end\" : 0.6, \"step\" : 0.05},\n",
    "    \n",
    "    \"initial\"     : {\"name\" : \"randomUniform\", \"radius\" : hard_core_r},\n",
    "    \"wavefunc\"    : {\"name\" : \"simpleGaussian\", \"params\" : 0.5, \"HO shape\" : HO_shape},\n",
    "    \"hamiltonian\" : {\"name\" : \"HO\", \"omega\" : 1, \"HO shape\" : HO_shape},\n",
    "    \n",
    "    #\"waveFunc\"   : {\"name\" : \"boson-corr\", \"alpha\" : 0.5, \"HO shape\" : HO_shape, \"hard-core-r\" : hard_core_r}\n",
    "}"
   ]
  },
  {
   "cell_type": "code",
   "execution_count": 4,
   "metadata": {},
   "outputs": [],
   "source": [
    "initPos     = initPos_util.getInit(config)\n",
    "metro_step  = metro_util(config)\n",
    "hamiltonian = ham_util.getHam(config)\n",
    "\n",
    "sampler   = Sampler(config)\n",
    "waveFunc  = wf_util.getWf(config)\n",
    "particles = initPos()"
   ]
  },
  {
   "cell_type": "code",
   "execution_count": 13,
   "metadata": {},
   "outputs": [],
   "source": [
    "@tf.function\n",
    "def test(pos):\n",
    "    for i in range(100):\n",
    "        pos = metro_step(pos, waveFunc)\n",
    "        sampler.sample(pos, waveFunc, hamiltonian)\n",
    "    return pos"
   ]
  },
  {
   "cell_type": "code",
   "execution_count": 14,
   "metadata": {},
   "outputs": [],
   "source": [
    "pos = initPos()"
   ]
  },
  {
   "cell_type": "code",
   "execution_count": 40,
   "metadata": {},
   "outputs": [
    {
     "name": "stdout",
     "output_type": "stream",
     "text": [
      "Wall time: 6.98 ms\n"
     ]
    }
   ],
   "source": [
    "%%time\n",
    "pos = test(pos)"
   ]
  },
  {
   "cell_type": "code",
   "execution_count": null,
   "metadata": {},
   "outputs": [],
   "source": [
    "#50ms per 1000 steps -> 8.3 min per 10 million steps (100 particles) NO SAMPLING\n",
    "50 * 10000000 / 1000 / 1000 / 60"
   ]
  },
  {
   "cell_type": "code",
   "execution_count": null,
   "metadata": {},
   "outputs": [],
   "source": []
  }
 ],
 "metadata": {
  "kernelspec": {
   "display_name": "Python 3",
   "language": "python",
   "name": "python3"
  },
  "language_info": {
   "codemirror_mode": {
    "name": "ipython",
    "version": 3
   },
   "file_extension": ".py",
   "mimetype": "text/x-python",
   "name": "python",
   "nbconvert_exporter": "python",
   "pygments_lexer": "ipython3",
   "version": "3.8.5"
  }
 },
 "nbformat": 4,
 "nbformat_minor": 4
}
