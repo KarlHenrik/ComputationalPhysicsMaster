{
 "cells": [
  {
   "cell_type": "code",
   "execution_count": 1,
   "metadata": {},
   "outputs": [],
   "source": [
    "from metropolis import metro_util\n",
    "from WaveFunctions import *\n",
    "from Hamiltonians import *"
   ]
  },
  {
   "cell_type": "code",
   "execution_count": 2,
   "metadata": {},
   "outputs": [],
   "source": [
    "HO_shape = [1, 1, 1]\n",
    "hard_core_r = 0.00433\n",
    "\n",
    "config = {\n",
    "    \"name\"        : \"demo\",\n",
    "    \"particles\"   : 2,\n",
    "    \"dimensions\"  : 3,\n",
    "    \n",
    "    \"metropolis\"  : {\"name\" : \"importance\", \"step_length\" : 0.01, \"steps\" : 1e4, \"equilibrationsteps\" : 1e4},\n",
    "    \"optimizer\"   : {\"name\" : \"grid\", \"start\" : 0.4, \"end\" : 0.6, \"step\" : 0.05},\n",
    "    \n",
    "    \"initial\"     : {\"name\" : \"randomUniform\", \"radius\" : hard_core_r},\n",
    "    \"wavefunc\"    : {\"name\" : \"simpleGaussian\", \"alpha\" : 0.5, \"HO shape\" : HO_shape},\n",
    "    \"hamiltonian\" : {\"name\" : \"HO\", \"omega\" : 1, \"HO shape\" : HO_shape},\n",
    "    \n",
    "    #\"waveFunc\"   : {\"name\" : \"boson-corr\", \"alpha\" : 0.5, \"HO shape\" : HO_shape, \"hard-core-r\" : hard_core_r}\n",
    "}"
   ]
  },
  {
   "cell_type": "code",
   "execution_count": 3,
   "metadata": {},
   "outputs": [],
   "source": [
    "wf        = wf_util.new(config[\"wavefunc\"])\n",
    "ham       = ham_util.new(config[\"hamiltonian\"])\n",
    "run_steps = metro_util(config)"
   ]
  },
  {
   "cell_type": "code",
   "execution_count": 5,
   "metadata": {},
   "outputs": [
    {
     "data": {
      "text/plain": [
       "2"
      ]
     },
     "execution_count": 5,
     "metadata": {},
     "output_type": "execute_result"
    }
   ],
   "source": [
    "run_steps(wf, ham)"
   ]
  },
  {
   "cell_type": "code",
   "execution_count": null,
   "metadata": {},
   "outputs": [],
   "source": []
  },
  {
   "cell_type": "code",
   "execution_count": null,
   "metadata": {},
   "outputs": [],
   "source": []
  },
  {
   "cell_type": "code",
   "execution_count": null,
   "metadata": {},
   "outputs": [],
   "source": [
    "particles = Particles(config[\"particles\"], config[\"dimensions\"])\n",
    "\n",
    "particles.setPos(4, np.array([1,1,1]))\n",
    "particles.getPos(4)"
   ]
  },
  {
   "cell_type": "code",
   "execution_count": null,
   "metadata": {},
   "outputs": [],
   "source": [
    "initial = initial_util.new({\"name\" : \"randomUniform\", \"radius\" : 0.3})\n",
    "initial.initialize(particles)"
   ]
  },
  {
   "cell_type": "code",
   "execution_count": null,
   "metadata": {},
   "outputs": [],
   "source": [
    "wf = wf_util.new({\"name\" : \"simpleGaussian\", \"alpha\" : 0.5, \"HO shape\" : [1, 1, 1]})\n",
    "wf.ratio(particles, 2, np.array([0, 0.5, 1]))"
   ]
  },
  {
   "cell_type": "code",
   "execution_count": null,
   "metadata": {},
   "outputs": [],
   "source": [
    "ham.potential(particles)"
   ]
  },
  {
   "cell_type": "code",
   "execution_count": null,
   "metadata": {},
   "outputs": [],
   "source": [
    "step_length = 0.1"
   ]
  },
  {
   "cell_type": "code",
   "execution_count": null,
   "metadata": {},
   "outputs": [],
   "source": [
    "p1 = np.random.randint(num)\n",
    "oldPos = particles.getPos(p1)\n",
    "\n",
    "adj_dir = np.random.randint(1, dim)\n",
    "adj_sign = (np.random.randint(2) - 0.5) * 2\n",
    "newPos = oldPos + 0\n",
    "newPos[adj_dir] += step_length * adj_sign\n",
    "\n",
    "particles.setPos(p1, newPos)\n",
    "ratio = wf.ratio(particles, p1, oldPos)"
   ]
  },
  {
   "cell_type": "code",
   "execution_count": null,
   "metadata": {},
   "outputs": [],
   "source": [
    "np.random.randint(2)"
   ]
  },
  {
   "cell_type": "code",
   "execution_count": null,
   "metadata": {},
   "outputs": [],
   "source": [
    "ratio"
   ]
  },
  {
   "cell_type": "code",
   "execution_count": null,
   "metadata": {},
   "outputs": [],
   "source": [
    "num = 2\n",
    "dim = 3\n",
    "\n",
    "@njit\n",
    "def metro(particles, wf):\n",
    "    p1 = np.random.randint(num)\n",
    "    oldPos = particles.getPos(p1)\n",
    "\n",
    "    adj_dir = np.random.randint(1, dim)\n",
    "    adj_sign = (np.random.randint(1) - 0.5) * 2\n",
    "    newPos = oldPos + step_length * adj_sign\n",
    "\n",
    "    particles.setPos(p1, newPos)\n",
    "    ratio = wf.ratio(particles, p1, oldPos)\n",
    "    if (np.random.random() < np.power(ratio, 2)):\n",
    "        return True\n",
    "    else:\n",
    "        particles.setPos(p1, oldPos)\n",
    "        return False"
   ]
  },
  {
   "cell_type": "code",
   "execution_count": null,
   "metadata": {},
   "outputs": [],
   "source": [
    "metro(particles, wf)"
   ]
  },
  {
   "cell_type": "code",
   "execution_count": null,
   "metadata": {},
   "outputs": [],
   "source": [
    "dims = 3\n",
    "step = metro\n",
    "equil = 100\n",
    "@njit\n",
    "def steps(initial, wf, ham):\n",
    "    particles = Particles(num, dims)\n",
    "    initial.initialize(particles)\n",
    "    sampler = Sampler(particles, wf, ham)\n",
    "\n",
    "    for i in range(equil):\n",
    "        step(particles, wf)\n",
    "    for i in range(100):\n",
    "        accepted = step(particles, wf)\n",
    "        sampler.sample(accepted)\n",
    "    return sampler"
   ]
  },
  {
   "cell_type": "code",
   "execution_count": null,
   "metadata": {},
   "outputs": [],
   "source": [
    "steps(initial, wf, ham)"
   ]
  },
  {
   "cell_type": "code",
   "execution_count": null,
   "metadata": {},
   "outputs": [],
   "source": []
  }
 ],
 "metadata": {
  "kernelspec": {
   "display_name": "Python 3",
   "language": "python",
   "name": "python3"
  },
  "language_info": {
   "codemirror_mode": {
    "name": "ipython",
    "version": 3
   },
   "file_extension": ".py",
   "mimetype": "text/x-python",
   "name": "python",
   "nbconvert_exporter": "python",
   "pygments_lexer": "ipython3",
   "version": "3.8.5"
  }
 },
 "nbformat": 4,
 "nbformat_minor": 4
}
