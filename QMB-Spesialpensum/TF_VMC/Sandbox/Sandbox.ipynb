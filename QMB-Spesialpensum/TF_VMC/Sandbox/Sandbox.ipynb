{
 "cells": [
  {
   "cell_type": "code",
   "execution_count": 10,
   "metadata": {},
   "outputs": [
    {
     "ename": "ImportError",
     "evalue": "cannot import name 'Sampler' from 'sampler' (C:\\Users\\KarlH\\Desktop\\ComputationalPhysicsMaster\\QMB-Spesialpensum\\RBM\\sampler.py)",
     "output_type": "error",
     "traceback": [
      "\u001b[1;31m---------------------------------------------------------------------------\u001b[0m",
      "\u001b[1;31mImportError\u001b[0m                               Traceback (most recent call last)",
      "\u001b[1;32m<ipython-input-10-806d8a46e747>\u001b[0m in \u001b[0;36m<module>\u001b[1;34m\u001b[0m\n\u001b[0;32m      3\u001b[0m \u001b[1;32mfrom\u001b[0m \u001b[0mHamiltonians\u001b[0m \u001b[1;32mimport\u001b[0m \u001b[1;33m*\u001b[0m\u001b[1;33m\u001b[0m\u001b[1;33m\u001b[0m\u001b[0m\n\u001b[0;32m      4\u001b[0m \u001b[1;32mfrom\u001b[0m \u001b[0mWaveFunctions\u001b[0m\u001b[1;33m.\u001b[0m\u001b[0msimplegaussian\u001b[0m \u001b[1;32mimport\u001b[0m \u001b[0mSimpleGaussian\u001b[0m\u001b[1;33m\u001b[0m\u001b[1;33m\u001b[0m\u001b[0m\n\u001b[1;32m----> 5\u001b[1;33m \u001b[1;32mfrom\u001b[0m \u001b[0msampler\u001b[0m \u001b[1;32mimport\u001b[0m \u001b[0mSampler\u001b[0m\u001b[1;33m\u001b[0m\u001b[1;33m\u001b[0m\u001b[0m\n\u001b[0m",
      "\u001b[1;31mImportError\u001b[0m: cannot import name 'Sampler' from 'sampler' (C:\\Users\\KarlH\\Desktop\\ComputationalPhysicsMaster\\QMB-Spesialpensum\\RBM\\sampler.py)"
     ]
    }
   ],
   "source": [
    "from metropolis import metro_util\n",
    "from WaveFunctions import *\n",
    "from Hamiltonians import *\n",
    "from WaveFunctions.simplegaussian import SimpleGaussian\n",
    "from sampler import Sampler"
   ]
  },
  {
   "cell_type": "code",
   "execution_count": 2,
   "metadata": {},
   "outputs": [],
   "source": [
    "HO_shape = [1, 1, 1]\n",
    "hard_core_r = 0.00433\n",
    "\n",
    "config = {\n",
    "    \"name\"        : \"demo\",\n",
    "    \"particles\"   : 2,\n",
    "    \"dimensions\"  : 3,\n",
    "    \n",
    "    \"metropolis\"  : {\"name\" : \"importance\", \"step_length\" : 0.01, \"steps\" : 1e4, \"equilibrationsteps\" : 1e4},\n",
    "    \"optimizer\"   : {\"name\" : \"grid\", \"start\" : 0.4, \"end\" : 0.6, \"step\" : 0.05},\n",
    "    \n",
    "    \"initial\"     : {\"name\" : \"randomUniform\", \"radius\" : hard_core_r},\n",
    "    \"wavefunc\"    : {\"name\" : \"simpleGaussian\", \"alpha\" : 0.5, \"HO shape\" : HO_shape},\n",
    "    \"hamiltonian\" : {\"name\" : \"HO\", \"omega\" : 1, \"HO shape\" : HO_shape},\n",
    "    \n",
    "    #\"waveFunc\"   : {\"name\" : \"boson-corr\", \"alpha\" : 0.5, \"HO shape\" : HO_shape, \"hard-core-r\" : hard_core_r}\n",
    "}"
   ]
  },
  {
   "cell_type": "code",
   "execution_count": 3,
   "metadata": {},
   "outputs": [],
   "source": [
    "wf        = wf_util.new(config[\"wavefunc\"])\n",
    "ham       = ham_util.new(config[\"hamiltonian\"])\n",
    "run_steps = metro_util(config) # particle creation and placement is handled in here, since it needs to be done for each run"
   ]
  },
  {
   "cell_type": "code",
   "execution_count": 7,
   "metadata": {},
   "outputs": [],
   "source": [
    "from numba import deferred_type"
   ]
  },
  {
   "cell_type": "code",
   "execution_count": 11,
   "metadata": {},
   "outputs": [],
   "source": [
    "wf_type = deferred_type()\n",
    "wf_type.define(globals()[wf.__class__.__name__].class_type.instance_type)"
   ]
  },
  {
   "cell_type": "code",
   "execution_count": null,
   "metadata": {},
   "outputs": [],
   "source": [
    "sampler = Sampler(wf)\n",
    "sampler.get()"
   ]
  },
  {
   "cell_type": "code",
   "execution_count": null,
   "metadata": {},
   "outputs": [],
   "source": [
    "run_steps(wf, ham)"
   ]
  },
  {
   "cell_type": "code",
   "execution_count": null,
   "metadata": {},
   "outputs": [],
   "source": []
  },
  {
   "cell_type": "code",
   "execution_count": null,
   "metadata": {},
   "outputs": [],
   "source": []
  },
  {
   "cell_type": "code",
   "execution_count": null,
   "metadata": {},
   "outputs": [],
   "source": [
    "particles = Particles(config[\"particles\"], config[\"dimensions\"])\n",
    "\n",
    "particles.setPos(4, np.array([1,1,1]))\n",
    "particles.getPos(4)"
   ]
  },
  {
   "cell_type": "code",
   "execution_count": null,
   "metadata": {},
   "outputs": [],
   "source": [
    "initial = initial_util.new({\"name\" : \"randomUniform\", \"radius\" : 0.3})\n",
    "initial.initialize(particles)"
   ]
  },
  {
   "cell_type": "code",
   "execution_count": null,
   "metadata": {},
   "outputs": [],
   "source": [
    "wf = wf_util.new({\"name\" : \"simpleGaussian\", \"alpha\" : 0.5, \"HO shape\" : [1, 1, 1]})\n",
    "wf.ratio(particles, 2, np.array([0, 0.5, 1]))"
   ]
  },
  {
   "cell_type": "code",
   "execution_count": null,
   "metadata": {},
   "outputs": [],
   "source": [
    "ham.potential(particles)"
   ]
  },
  {
   "cell_type": "code",
   "execution_count": null,
   "metadata": {},
   "outputs": [],
   "source": [
    "step_length = 0.1"
   ]
  },
  {
   "cell_type": "code",
   "execution_count": null,
   "metadata": {},
   "outputs": [],
   "source": [
    "p1 = np.random.randint(num)\n",
    "oldPos = particles.getPos(p1)\n",
    "\n",
    "adj_dir = np.random.randint(1, dim)\n",
    "adj_sign = (np.random.randint(2) - 0.5) * 2\n",
    "newPos = oldPos + 0\n",
    "newPos[adj_dir] += step_length * adj_sign\n",
    "\n",
    "particles.setPos(p1, newPos)\n",
    "ratio = wf.ratio(particles, p1, oldPos)"
   ]
  },
  {
   "cell_type": "code",
   "execution_count": null,
   "metadata": {},
   "outputs": [],
   "source": [
    "np.random.randint(2)"
   ]
  },
  {
   "cell_type": "code",
   "execution_count": null,
   "metadata": {},
   "outputs": [],
   "source": [
    "ratio"
   ]
  },
  {
   "cell_type": "code",
   "execution_count": null,
   "metadata": {},
   "outputs": [],
   "source": [
    "num = 2\n",
    "dim = 3\n",
    "\n",
    "@njit\n",
    "def metro(particles, wf):\n",
    "    p1 = np.random.randint(num)\n",
    "    oldPos = particles.getPos(p1)\n",
    "\n",
    "    adj_dir = np.random.randint(1, dim)\n",
    "    adj_sign = (np.random.randint(1) - 0.5) * 2\n",
    "    newPos = oldPos + step_length * adj_sign\n",
    "\n",
    "    particles.setPos(p1, newPos)\n",
    "    ratio = wf.ratio(particles, p1, oldPos)\n",
    "    if (np.random.random() < np.power(ratio, 2)):\n",
    "        return True\n",
    "    else:\n",
    "        particles.setPos(p1, oldPos)\n",
    "        return False"
   ]
  },
  {
   "cell_type": "code",
   "execution_count": null,
   "metadata": {},
   "outputs": [],
   "source": [
    "metro(particles, wf)"
   ]
  },
  {
   "cell_type": "code",
   "execution_count": null,
   "metadata": {},
   "outputs": [],
   "source": [
    "dims = 3\n",
    "step = metro\n",
    "equil = 100\n",
    "@njit\n",
    "def steps(initial, wf, ham):\n",
    "    particles = Particles(num, dims)\n",
    "    initial.initialize(particles)\n",
    "    sampler = Sampler(particles, wf, ham)\n",
    "\n",
    "    for i in range(equil):\n",
    "        step(particles, wf)\n",
    "    for i in range(100):\n",
    "        accepted = step(particles, wf)\n",
    "        sampler.sample(accepted)\n",
    "    return sampler"
   ]
  },
  {
   "cell_type": "code",
   "execution_count": null,
   "metadata": {},
   "outputs": [],
   "source": [
    "steps(initial, wf, ham)"
   ]
  },
  {
   "cell_type": "code",
   "execution_count": null,
   "metadata": {},
   "outputs": [],
   "source": []
  }
 ],
 "metadata": {
  "kernelspec": {
   "display_name": "Python 3",
   "language": "python",
   "name": "python3"
  },
  "language_info": {
   "codemirror_mode": {
    "name": "ipython",
    "version": 3
   },
   "file_extension": ".py",
   "mimetype": "text/x-python",
   "name": "python",
   "nbconvert_exporter": "python",
   "pygments_lexer": "ipython3",
   "version": "3.8.5"
  }
 },
 "nbformat": 4,
 "nbformat_minor": 4
}
