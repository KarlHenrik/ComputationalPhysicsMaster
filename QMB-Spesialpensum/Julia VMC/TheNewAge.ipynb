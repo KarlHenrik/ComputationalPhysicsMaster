{
 "cells": [
  {
   "cell_type": "code",
   "execution_count": 59,
   "id": "b81df055-2a06-4bbe-8ef3-92ef19388693",
   "metadata": {},
   "outputs": [
    {
     "name": "stderr",
     "output_type": "stream",
     "text": [
      "WARNING: using BenchmarkTools.ratio in module Main conflicts with an existing identifier.\n"
     ]
    }
   ],
   "source": [
    "import StaticArrays as sa\n",
    "using Random\n",
    "using BenchmarkTools"
   ]
  },
  {
   "cell_type": "code",
   "execution_count": 112,
   "id": "2e2b13a8-f198-44d3-8a22-7e0965c53f22",
   "metadata": {},
   "outputs": [],
   "source": [
    "rng = Random.MersenneTwister(0)\n",
    "num = 100\n",
    "dims = 3\n",
    "\n",
    "positions = Vector{sa.MVector{dims, Float64}}(undef, num)\n",
    "for i in 1:num\n",
    "    positions[i] = sa.MVector{dims}( rand(rng, Float64, dims) )\n",
    "end"
   ]
  },
  {
   "cell_type": "code",
   "execution_count": 150,
   "id": "8bf0fc3b-73e6-4898-bcf6-e1095ea6fe71",
   "metadata": {},
   "outputs": [
    {
     "name": "stdout",
     "output_type": "stream",
     "text": [
      "  118.880 ns (1 allocation: 16 bytes)\n"
     ]
    },
    {
     "data": {
      "text/plain": [
       "48.39230289894732"
      ]
     },
     "execution_count": 150,
     "metadata": {},
     "output_type": "execute_result"
    }
   ],
   "source": [
    "@btime potential(positions, ham)"
   ]
  },
  {
   "cell_type": "code",
   "execution_count": 155,
   "id": "a425b353-24e9-416f-91ca-1592a4d25932",
   "metadata": {},
   "outputs": [
    {
     "data": {
      "text/plain": [
       "3.8236475079774124"
      ]
     },
     "execution_count": 155,
     "metadata": {},
     "output_type": "execute_result"
    }
   ],
   "source": [
    "positions[1][1] += 1"
   ]
  },
  {
   "cell_type": "code",
   "execution_count": null,
   "id": "655a4752-7b71-4ac3-a9ad-91c1a1548a63",
   "metadata": {},
   "outputs": [],
   "source": []
  }
 ],
 "metadata": {
  "kernelspec": {
   "display_name": "Julia 1.6.2",
   "language": "julia",
   "name": "julia-1.6"
  },
  "language_info": {
   "file_extension": ".jl",
   "mimetype": "application/julia",
   "name": "julia",
   "version": "1.6.2"
  }
 },
 "nbformat": 4,
 "nbformat_minor": 5
}
