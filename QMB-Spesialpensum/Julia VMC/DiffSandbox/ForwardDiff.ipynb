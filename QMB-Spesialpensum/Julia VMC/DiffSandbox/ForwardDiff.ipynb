{
 "cells": [
  {
   "cell_type": "markdown",
   "id": "831f94db-1962-45b8-8342-4df058002795",
   "metadata": {},
   "source": [
    "## TODO"
   ]
  },
  {
   "cell_type": "markdown",
   "id": "9fcf956b-efe2-482a-9d86-9f227bca7dcb",
   "metadata": {},
   "source": [
    "Preallocate memory and send it in?\n",
    "\n",
    "Save the result of SimpleG in from the derivative calculation"
   ]
  },
  {
   "cell_type": "markdown",
   "id": "3a41a7a4-c052-4795-93d3-0750ab53abb0",
   "metadata": {},
   "source": [
    "## Setup of particles and imports"
   ]
  },
  {
   "cell_type": "code",
   "execution_count": 1,
   "id": "d6e23398-08a7-445e-aa52-529ec713ceed",
   "metadata": {},
   "outputs": [],
   "source": [
    "import ForwardDiff\n",
    "import ReverseDiff\n",
    "import DiffResults\n",
    "import Zygote\n",
    "import SparseDiffTools\n",
    "\n",
    "import Random\n",
    "rng = Random.MersenneTwister()\n",
    "import StaticArrays as sa\n",
    "import ArraysOfArrays\n",
    "import LinearAlgebra as la\n",
    "\n",
    "using BenchmarkTools: @btime"
   ]
  },
  {
   "cell_type": "markdown",
   "id": "adf495fb-7463-4693-b0b1-b836a93749eb",
   "metadata": {},
   "source": [
    "## The normal SimpleGaussian struct"
   ]
  },
  {
   "cell_type": "code",
   "execution_count": 2,
   "id": "bef89f69-9e99-4e7f-a964-76d219d91ad8",
   "metadata": {},
   "outputs": [
    {
     "data": {
      "text/plain": [
       "SimpleGaussian{Vector{Float64}}(0.5, [1.0, 1.0, 1.0], [1.0, 1.0, 1.0])"
      ]
     },
     "execution_count": 2,
     "metadata": {},
     "output_type": "execute_result"
    }
   ],
   "source": [
    "struct SimpleGaussian{V}\n",
    "    alpha::Float64\n",
    "    HOshape::V\n",
    "    HOshape2::V\n",
    "    function SimpleGaussian(alpha, HOshape)\n",
    "        HOshape = Vector{Float64}(HOshape)\n",
    "        return new{typeof(HOshape)}(alpha, HOshape, HOshape.^2)\n",
    "    end\n",
    "end\n",
    "wf = SimpleGaussian(0.5, [1, 1, 1])"
   ]
  },
  {
   "cell_type": "markdown",
   "id": "167ea2a6-8006-431f-9f76-29078e171a78",
   "metadata": {},
   "source": [
    "## The function we take the derivative of for all of this"
   ]
  },
  {
   "cell_type": "code",
   "execution_count": 204,
   "id": "61b1152f-9515-44b2-b549-5a52a4f4cd6d",
   "metadata": {},
   "outputs": [
    {
     "data": {
      "text/plain": [
       "SimpleGparam (generic function with 1 method)"
      ]
     },
     "execution_count": 204,
     "metadata": {},
     "output_type": "execute_result"
    }
   ],
   "source": [
    "function SimpleGparam(positions, alpha)\n",
    "    res = 1\n",
    "    for pos in eachcol(positions)\n",
    "        res *= exp(-alpha * sum(pos.^2))\n",
    "    end\n",
    "    return res\n",
    "end"
   ]
  },
  {
   "cell_type": "code",
   "execution_count": 4,
   "id": "c63cabb2-253a-4fdf-b53a-f5d4acd60f6f",
   "metadata": {},
   "outputs": [
    {
     "data": {
      "text/plain": [
       "SimpleG (generic function with 1 method)"
      ]
     },
     "execution_count": 4,
     "metadata": {},
     "output_type": "execute_result"
    }
   ],
   "source": [
    "SimpleG(positions) = SimpleGparam(positions, wf.alpha)"
   ]
  },
  {
   "cell_type": "code",
   "execution_count": 5,
   "id": "5e3d5130-87b6-4d72-b32e-0147225bb1b1",
   "metadata": {},
   "outputs": [
    {
     "data": {
      "text/plain": [
       "3×10 Matrix{Float64}:\n",
       " -0.940459  -0.486988  -0.537274  …  -0.0472455   0.936945     0.166076\n",
       "  0.849075  -0.87162   -0.545691      0.549107    0.00169244  -0.494792\n",
       " -0.183359  -0.585328  -0.587043     -0.979136   -0.0282555   -0.468784"
      ]
     },
     "execution_count": 5,
     "metadata": {},
     "output_type": "execute_result"
    }
   ],
   "source": [
    "dims = 3\n",
    "num = 10\n",
    "positions = (Random.rand(rng, Float64, (3, 10)) .- 0.5) .* 2"
   ]
  },
  {
   "cell_type": "code",
   "execution_count": 6,
   "id": "c37ca226-7779-478b-bd26-797ed7cd5d34",
   "metadata": {},
   "outputs": [
    {
     "data": {
      "text/plain": [
       "0.00339037433152797"
      ]
     },
     "execution_count": 6,
     "metadata": {},
     "output_type": "execute_result"
    }
   ],
   "source": [
    "SimpleG(positions)"
   ]
  },
  {
   "cell_type": "markdown",
   "id": "f334e97f-0129-4692-aec8-36738ab628ce",
   "metadata": {},
   "source": [
    "## ParamDer"
   ]
  },
  {
   "cell_type": "code",
   "execution_count": 7,
   "id": "1e01ce0e-382e-45bd-9382-99d6f689019f",
   "metadata": {},
   "outputs": [
    {
     "data": {
      "text/plain": [
       "paramDer (generic function with 1 method)"
      ]
     },
     "execution_count": 7,
     "metadata": {},
     "output_type": "execute_result"
    }
   ],
   "source": [
    "function paramDer(positions, wf::SimpleGaussian)::Float64\n",
    "    temp_vec = [0.0, 0.0, 0.0]\n",
    "    for pos in eachcol(positions)\n",
    "        temp_vec .+= pos.^2\n",
    "    end\n",
    "    temp_vec .= temp_vec .* wf.HOshape\n",
    "    return -sum(temp_vec) / size(positions)[2]\n",
    "end"
   ]
  },
  {
   "cell_type": "code",
   "execution_count": 8,
   "id": "efcbd53b-1a48-4989-ad46-f3132f086526",
   "metadata": {},
   "outputs": [
    {
     "name": "stdout",
     "output_type": "stream",
     "text": [
      "  0.084905 seconds (456.03 k allocations: 25.720 MiB, 99.97% compilation time)\n"
     ]
    },
    {
     "data": {
      "text/plain": [
       "-1.1373629882812466"
      ]
     },
     "execution_count": 8,
     "metadata": {},
     "output_type": "execute_result"
    }
   ],
   "source": [
    "@time paramDer(positions, wf)"
   ]
  },
  {
   "cell_type": "markdown",
   "id": "763fd1c2-97be-4938-ac6e-77593bdc8f72",
   "metadata": {},
   "source": [
    "### Forward"
   ]
  },
  {
   "cell_type": "code",
   "execution_count": 9,
   "id": "551adabd-eedf-45b1-9550-0161b4860b62",
   "metadata": {},
   "outputs": [
    {
     "data": {
      "text/plain": [
       "paramDerAD (generic function with 1 method)"
      ]
     },
     "execution_count": 9,
     "metadata": {},
     "output_type": "execute_result"
    }
   ],
   "source": [
    "result = DiffResults.DiffResult(0.0, 0.0)\n",
    "\n",
    "function paramDerAD(positions, wf, result)\n",
    "    result = ForwardDiff.derivative!(result, alpha -> SimpleGparam(positions, alpha), wf.alpha)\n",
    "    \n",
    "    return DiffResults.derivative(result) / DiffResults.value(result) / size(positions)[2]\n",
    "end"
   ]
  },
  {
   "cell_type": "code",
   "execution_count": 10,
   "id": "dd9c75e9-353d-4d4b-83aa-832eb55752b8",
   "metadata": {},
   "outputs": [
    {
     "name": "stdout",
     "output_type": "stream",
     "text": [
      "  0.211629 seconds (526.89 k allocations: 32.003 MiB, 99.99% compilation time)\n"
     ]
    },
    {
     "data": {
      "text/plain": [
       "-1.1373629882812468"
      ]
     },
     "execution_count": 10,
     "metadata": {},
     "output_type": "execute_result"
    }
   ],
   "source": [
    "@time paramDerAD(positions, wf, result)"
   ]
  },
  {
   "cell_type": "markdown",
   "id": "d96472ef-50f3-4cd1-a03f-ec55eded1bbf",
   "metadata": {
    "tags": []
   },
   "source": [
    "## Kinetic energy"
   ]
  },
  {
   "cell_type": "code",
   "execution_count": 41,
   "id": "9a4a3ceb-b3cc-471e-8dcf-10ece91308cb",
   "metadata": {},
   "outputs": [],
   "source": [
    "function kineticAL(positions, wf::SimpleGaussian)::Float64\n",
    "    temp_vec = [0.0, 0.0, 0.0] #maybe there is a faster way? why does this not allocate??\n",
    "    for pos in eachcol(positions)\n",
    "        temp_vec .+= pos.^2\n",
    "    end\n",
    "    return wf.alpha * (length(positions) - 2.0 * wf.alpha * sum(temp_vec))\n",
    "end;"
   ]
  },
  {
   "cell_type": "code",
   "execution_count": 43,
   "id": "28eb3e08-c4e3-4632-8424-dca8be7e34f9",
   "metadata": {},
   "outputs": [
    {
     "name": "stdout",
     "output_type": "stream",
     "text": [
      "  0.000005 seconds (2 allocations: 128 bytes)\n"
     ]
    },
    {
     "data": {
      "text/plain": [
       "9.313185058593767"
      ]
     },
     "execution_count": 43,
     "metadata": {},
     "output_type": "execute_result"
    }
   ],
   "source": [
    "@time kineticAL(positions, wf)"
   ]
  },
  {
   "cell_type": "markdown",
   "id": "a5619c62-806f-41de-9161-9a45aa7a185c",
   "metadata": {},
   "source": [
    "### Forward"
   ]
  },
  {
   "cell_type": "code",
   "execution_count": 138,
   "id": "a54257c0-05c7-4cd5-bf8e-d66bf4738773",
   "metadata": {},
   "outputs": [],
   "source": [
    "tmp = zeros(30,30);"
   ]
  },
  {
   "cell_type": "code",
   "execution_count": 158,
   "id": "3431332e-73df-425d-b63b-6a6bab7bf016",
   "metadata": {},
   "outputs": [],
   "source": [
    "function kineticFD(tmp, positions, wf::SimpleGaussian)\n",
    "    ForwardDiff.hessian!(tmp, SimpleG, positions)\n",
    "    return -0.5 * la.tr(tmp) / SimpleG(positions)\n",
    "end;"
   ]
  },
  {
   "cell_type": "code",
   "execution_count": 192,
   "id": "6722cbbd-2c37-4ad8-ae96-1e079399a96d",
   "metadata": {},
   "outputs": [
    {
     "name": "stdout",
     "output_type": "stream",
     "text": [
      "  0.000131 seconds (229 allocations: 353.375 KiB)\n"
     ]
    },
    {
     "data": {
      "text/plain": [
       "9.313185058593767"
      ]
     },
     "execution_count": 192,
     "metadata": {},
     "output_type": "execute_result"
    }
   ],
   "source": [
    "@time kineticFD(tmp, positions, wf)"
   ]
  },
  {
   "cell_type": "code",
   "execution_count": null,
   "id": "28b0ad60-c23b-401d-9f6e-ba8d2d6ead8c",
   "metadata": {},
   "outputs": [],
   "source": [
    "5.705033 seconds (15.35 M allocations: 1.024 GiB, 3.10% gc time)\n",
    "0.000121 seconds (226 allocations: 353.625 KiB)"
   ]
  },
  {
   "cell_type": "markdown",
   "id": "80dd57c9-5472-44cb-a2ed-2778e2e4be32",
   "metadata": {},
   "source": [
    "### Reverse"
   ]
  },
  {
   "cell_type": "code",
   "execution_count": 110,
   "id": "78ac77d4-aa43-4ca1-9a86-334c82a5afe4",
   "metadata": {},
   "outputs": [],
   "source": [
    "config = ReverseDiff.HessianConfig(positions)\n",
    "tape = ReverseDiff.HessianTape(SimpleG, positions, config)\n",
    "tape = ReverseDiff.compile(tape)\n",
    "result = zeros(30, 30);"
   ]
  },
  {
   "cell_type": "code",
   "execution_count": 116,
   "id": "c12602c9-ed5e-4f0f-baef-c9a602b64ad2",
   "metadata": {},
   "outputs": [],
   "source": [
    "function kineticRD(result, tape, positions)\n",
    "    result = ReverseDiff.hessian!(result, tape, positions)\n",
    "    return -0.5 * la.tr(result) / SimpleG(positions)\n",
    "end;"
   ]
  },
  {
   "cell_type": "code",
   "execution_count": 196,
   "id": "29fd8990-8df8-4df4-845b-157925f9e312",
   "metadata": {},
   "outputs": [
    {
     "name": "stdout",
     "output_type": "stream",
     "text": [
      "  0.000382 seconds (15 allocations: 1.188 KiB)\n"
     ]
    },
    {
     "data": {
      "text/plain": [
       "9.313185058593767"
      ]
     },
     "execution_count": 196,
     "metadata": {},
     "output_type": "execute_result"
    }
   ],
   "source": [
    "@time kineticRD(result, tape, positions)"
   ]
  },
  {
   "cell_type": "code",
   "execution_count": null,
   "id": "c4fb8051-9b29-45ad-85ee-363d80d4fe0b",
   "metadata": {},
   "outputs": [],
   "source": [
    "compile tape 1.870571 seconds\n",
    "compile kinetic func 0.526639 seconds"
   ]
  },
  {
   "cell_type": "markdown",
   "id": "6983b904-5266-4dd1-9d20-d0fe02da8f20",
   "metadata": {},
   "source": [
    "## Reverse Forward trick"
   ]
  },
  {
   "cell_type": "code",
   "execution_count": 20,
   "id": "8162b597-c6c1-40bb-8505-a2ed30d10c12",
   "metadata": {},
   "outputs": [
    {
     "data": {
      "text/plain": [
       "Dict{DataType, Any}()"
      ]
     },
     "execution_count": 20,
     "metadata": {},
     "output_type": "execute_result"
    }
   ],
   "source": [
    "const CACHE = Dict{DataType, Any}()"
   ]
  },
  {
   "cell_type": "code",
   "execution_count": 212,
   "id": "81cab2b6-158c-4637-af5f-af2d2462c726",
   "metadata": {},
   "outputs": [
    {
     "data": {
      "text/plain": [
       "Dict{DataType, Any} with 1 entry:\n",
       "  Dual{Tag{typeof(inner), Float64}, Float64,… => typename(CompiledTape)(SimpleG)"
      ]
     },
     "execution_count": 212,
     "metadata": {},
     "output_type": "execute_result"
    }
   ],
   "source": [
    "CACHE"
   ]
  },
  {
   "cell_type": "code",
   "execution_count": 219,
   "id": "ecbb5095-05a4-492c-9db8-6992969229fa",
   "metadata": {},
   "outputs": [
    {
     "data": {
      "text/plain": [
       "kineticMX (generic function with 2 methods)"
      ]
     },
     "execution_count": 219,
     "metadata": {},
     "output_type": "execute_result"
    }
   ],
   "source": [
    "function inner(y, positions::Array{T}) where {T<:Real}\n",
    "    if !haskey(CACHE, T)\n",
    "        config = ReverseDiff.GradientConfig(positions)\n",
    "        tape = ReverseDiff.compile(ReverseDiff.GradientTape(SimpleG, positions, config))\n",
    "        CACHE[T] = tape\n",
    "    end\n",
    "    tape = CACHE[T]\n",
    "    return ReverseDiff.gradient!(y, tape, positions)\n",
    "end\n",
    "\n",
    "function kineticMX(positions, inner, config, result, y)\n",
    "    ForwardDiff.jacobian!(result, inner, y, positions, config)\n",
    "    return -0.5 * la.tr(result) #/ SimpleG(positions)\n",
    "end"
   ]
  },
  {
   "cell_type": "code",
   "execution_count": 220,
   "id": "9b9fecdf-7986-46b8-9e88-fec212cf6586",
   "metadata": {},
   "outputs": [],
   "source": [
    "y = similar(positions)\n",
    "config = ForwardDiff.JacobianConfig(inner, y, positions);\n",
    "result = zeros(30, 30);"
   ]
  },
  {
   "cell_type": "code",
   "execution_count": 222,
   "id": "b76c7c02-2775-47b6-bbd1-621910ca5b74",
   "metadata": {},
   "outputs": [
    {
     "name": "stdout",
     "output_type": "stream",
     "text": [
      "  0.000046 seconds (28 allocations: 1.906 KiB)\n"
     ]
    },
    {
     "data": {
      "text/plain": [
       "0.03157518356742613"
      ]
     },
     "execution_count": 222,
     "metadata": {},
     "output_type": "execute_result"
    }
   ],
   "source": [
    "@time kineticMX(positions, inner, config, result, y)"
   ]
  },
  {
   "cell_type": "markdown",
   "id": "8b03975c-360a-4ba9-9b20-4294348f340d",
   "metadata": {},
   "source": [
    "### Zygote"
   ]
  },
  {
   "cell_type": "code",
   "execution_count": 73,
   "id": "7dd1bad2-b19a-4140-bdf7-ffaad7bb8853",
   "metadata": {},
   "outputs": [],
   "source": [
    "function kineticZg(positions, wf::SimpleGaussian) #maybe faster to put return type here?\n",
    "    res = Zygote.diaghessian(SimpleG, positions)[1]\n",
    "    return -0.5 * sum(res) / SimpleG(positions)\n",
    "end;"
   ]
  },
  {
   "cell_type": "code",
   "execution_count": 76,
   "id": "a0a9307d-dde7-4f35-9b2f-5ae97e57ce69",
   "metadata": {},
   "outputs": [
    {
     "name": "stdout",
     "output_type": "stream",
     "text": [
      "  0.000542 seconds (3.40 k allocations: 271.562 KiB)\n"
     ]
    },
    {
     "data": {
      "text/plain": [
       "9.313185058593769"
      ]
     },
     "execution_count": 76,
     "metadata": {},
     "output_type": "execute_result"
    }
   ],
   "source": [
    "@time tot = kineticZg(positions, wf)"
   ]
  },
  {
   "cell_type": "code",
   "execution_count": null,
   "id": "45e2b3f8-da65-4c2b-bed0-e1b338d33aee",
   "metadata": {},
   "outputs": [],
   "source": [
    "28.892248 seconds (86.97 M allocations: 5.314 GiB, 4.12% gc time, 99.99% compilation time)"
   ]
  },
  {
   "cell_type": "markdown",
   "id": "3b8d53ef-5ee8-4b2a-9bdc-5d555f294d39",
   "metadata": {},
   "source": [
    "### Sparse"
   ]
  },
  {
   "cell_type": "code",
   "execution_count": null,
   "id": "8b7f8a52-3810-451f-9bed-c95996c3eba2",
   "metadata": {},
   "outputs": [],
   "source": [
    "import SparseArrays"
   ]
  },
  {
   "cell_type": "code",
   "execution_count": null,
   "id": "e3344d86-dc15-4cea-b934-6fe2a019723e",
   "metadata": {},
   "outputs": [],
   "source": [
    "const CACHE = Dict{DataType, Any}()"
   ]
  },
  {
   "cell_type": "code",
   "execution_count": null,
   "id": "5854e086-d3f5-48ba-afc1-867e3f8d8c0b",
   "metadata": {},
   "outputs": [],
   "source": [
    "function inner(y2, positions::Array{T}) where {T<:Real}\n",
    "    if !haskey(CACHE, T)\n",
    "        tape = ReverseDiff.compile(ReverseDiff.GradientTape(positions -> SimpleG(positions, wf.alpha), positions))\n",
    "        CACHE[T] = (tape, zeros(T, length(positions)))\n",
    "    end\n",
    "    tape, y = CACHE[T]\n",
    "    return ReverseDiff.gradient!(y, tape, positions)\n",
    "end\n",
    "\n",
    "A = Float64.(la.I(30))\n",
    "jac = Float64.(SparseArrays.sparse(A))\n",
    "A_col = SparseDiffTools.matrix_colors(jac)\n",
    "\n",
    "@time hessian = SparseDiffTools.forwarddiff_color_jacobian!(jac, inner, positions, colorvec = A_col)\n",
    "#-0.5 * sum(hessian) / SimpleG(positions, wf.alpha)"
   ]
  },
  {
   "cell_type": "markdown",
   "id": "0cf3fcf8-51ce-4965-958c-c3ee119cc0ec",
   "metadata": {},
   "source": [
    "## QF"
   ]
  },
  {
   "cell_type": "code",
   "execution_count": 27,
   "id": "e6a86ad4-49bc-4d02-bef9-dffdfe7bf05b",
   "metadata": {},
   "outputs": [
    {
     "data": {
      "text/plain": [
       "QF (generic function with 1 method)"
      ]
     },
     "execution_count": 27,
     "metadata": {},
     "output_type": "execute_result"
    }
   ],
   "source": [
    "function QF(positions, p1, wf::SimpleGaussian) #maybe faster to put return type here?\n",
    "    temp_vec = -4 * wf.alpha .* positions[:, p1] .* wf.HOshape\n",
    "    return temp_vec\n",
    "end"
   ]
  },
  {
   "cell_type": "code",
   "execution_count": 71,
   "id": "bc06d78e-03cd-4956-ae37-4244a1ceb740",
   "metadata": {},
   "outputs": [
    {
     "name": "stdout",
     "output_type": "stream",
     "text": [
      "  0.000005 seconds (2 allocations: 224 bytes)\n"
     ]
    },
    {
     "data": {
      "text/plain": [
       "3-element Vector{Float64}:\n",
       "  1.8809178116466283\n",
       " -1.6981497503900425\n",
       "  0.3667183658214679"
      ]
     },
     "execution_count": 71,
     "metadata": {},
     "output_type": "execute_result"
    }
   ],
   "source": [
    "@time QF(positions, 1, wf)"
   ]
  },
  {
   "cell_type": "markdown",
   "id": "f7e602eb-bfbc-4a1c-8574-50f2bd6bf914",
   "metadata": {},
   "source": [
    "### Reverse"
   ]
  },
  {
   "cell_type": "code",
   "execution_count": 67,
   "id": "ac9ac2f5-157e-449e-acd9-6e7e58660cdd",
   "metadata": {},
   "outputs": [],
   "source": [
    "config = ReverseDiff.GradientConfig(positions)\n",
    "tape = ReverseDiff.GradientTape(SimpleG, positions, config)\n",
    "tape = ReverseDiff.compile(tape)\n",
    "result = zeros(30);"
   ]
  },
  {
   "cell_type": "code",
   "execution_count": 68,
   "id": "e63b9d01-0457-412a-b69e-586b94f0f011",
   "metadata": {},
   "outputs": [],
   "source": [
    "function QFRD(result, tape, positions, p1)\n",
    "    result = ReverseDiff.gradient!(result, tape, positions)\n",
    "    dims = size(positions)[1]\n",
    "    pidx = (p1 - 1) * dims + 1\n",
    "    return 2 .* result[pidx:pidx + dims - 1] / SimpleG(positions)\n",
    "end;"
   ]
  },
  {
   "cell_type": "code",
   "execution_count": 70,
   "id": "0b3f779a-d5f6-4a76-a231-bff6939e2404",
   "metadata": {},
   "outputs": [
    {
     "name": "stdout",
     "output_type": "stream",
     "text": [
      "  0.000027 seconds (16 allocations: 1.484 KiB)\n"
     ]
    },
    {
     "data": {
      "text/plain": [
       "3-element Vector{Float64}:\n",
       "  1.8809178116466283\n",
       " -1.6981497503900422\n",
       "  0.36671836582146783"
      ]
     },
     "execution_count": 70,
     "metadata": {},
     "output_type": "execute_result"
    }
   ],
   "source": [
    "@time QFRD(result, tape, positions, 1)"
   ]
  },
  {
   "cell_type": "code",
   "execution_count": null,
   "id": "4c51f6fd-440c-480a-81c7-20e0dda8c516",
   "metadata": {},
   "outputs": [],
   "source": []
  }
 ],
 "metadata": {
  "kernelspec": {
   "display_name": "Julia 1.6.2",
   "language": "julia",
   "name": "julia-1.6"
  },
  "language_info": {
   "file_extension": ".jl",
   "mimetype": "application/julia",
   "name": "julia",
   "version": "1.6.2"
  }
 },
 "nbformat": 4,
 "nbformat_minor": 5
}
