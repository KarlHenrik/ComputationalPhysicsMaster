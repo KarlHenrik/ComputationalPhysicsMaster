{
 "cells": [
  {
   "cell_type": "code",
   "execution_count": 48,
   "id": "f5802dc1-b9e7-4cc7-8bd7-2318a51d8a19",
   "metadata": {},
   "outputs": [],
   "source": [
    "using SparsityDetection, SparseArrays\n",
    "using SparseDiffTools\n",
    "using FiniteDiff\n",
    "import LinearAlgebra as la\n",
    "import ForwardDiff"
   ]
  },
  {
   "cell_type": "code",
   "execution_count": 3,
   "id": "7f6f4b0f-2624-40a7-a0c1-23d15e33ab53",
   "metadata": {},
   "outputs": [
    {
     "data": {
      "text/plain": [
       "g (generic function with 1 method)"
      ]
     },
     "execution_count": 3,
     "metadata": {},
     "output_type": "execute_result"
    }
   ],
   "source": [
    "fcalls = 0\n",
    "function f(y,x) # in-place\n",
    "  global fcalls += 1\n",
    "  for i in 2:length(x)-1\n",
    "    y[i] = x[i-1] - 2x[i] + x[i+1]\n",
    "  end\n",
    "  y[1] = -2x[1] + x[2]\n",
    "  y[end] = x[end-1] - 2x[end]\n",
    "  nothing\n",
    "end\n",
    "\n",
    "function g(x) # out-of-place\n",
    "  global fcalls += 1\n",
    "  y = zero(x)\n",
    "  for i in 2:length(x)-1\n",
    "    y[i] = x[i-1] - 2x[i] + x[i+1]\n",
    "  end\n",
    "  y[1] = -2x[1] + x[2]\n",
    "  y[end] = x[end-1] - 2x[end]\n",
    "  y\n",
    "end"
   ]
  },
  {
   "cell_type": "code",
   "execution_count": 40,
   "id": "b3c25520-f221-45d6-bba1-bbe6fe233915",
   "metadata": {},
   "outputs": [
    {
     "name": "stdout",
     "output_type": "stream",
     "text": [
      "Explored path: SparsityDetection.Path(Bool[], 1)\n"
     ]
    },
    {
     "data": {
      "text/plain": [
       "30×30 SparseMatrixCSC{Float64, Int64} with 88 stored entries:\n",
       "⠻⣦⡀⠀⠀⠀⠀⠀⠀⠀⠀⠀⠀⠀⠀\n",
       "⠀⠈⠻⣦⡀⠀⠀⠀⠀⠀⠀⠀⠀⠀⠀\n",
       "⠀⠀⠀⠈⠻⣦⡀⠀⠀⠀⠀⠀⠀⠀⠀\n",
       "⠀⠀⠀⠀⠀⠈⠻⣦⡀⠀⠀⠀⠀⠀⠀\n",
       "⠀⠀⠀⠀⠀⠀⠀⠈⠻⣦⡀⠀⠀⠀⠀\n",
       "⠀⠀⠀⠀⠀⠀⠀⠀⠀⠈⠻⣦⡀⠀⠀\n",
       "⠀⠀⠀⠀⠀⠀⠀⠀⠀⠀⠀⠈⠻⣦⡀\n",
       "⠀⠀⠀⠀⠀⠀⠀⠀⠀⠀⠀⠀⠀⠈⠛"
      ]
     },
     "execution_count": 40,
     "metadata": {},
     "output_type": "execute_result"
    }
   ],
   "source": [
    "input = rand(30)\n",
    "output = similar(input)\n",
    "sparsity_pattern = jacobian_sparsity(f,output,input)\n",
    "jac = Float64.(sparse(sparsity_pattern))"
   ]
  },
  {
   "cell_type": "code",
   "execution_count": 41,
   "id": "631e5470-f407-49c2-878a-01b89a112b81",
   "metadata": {},
   "outputs": [],
   "source": [
    "colors = matrix_colors(jac);"
   ]
  },
  {
   "cell_type": "code",
   "execution_count": 42,
   "id": "398e40f0-be0d-41a9-beb7-2c379d20e848",
   "metadata": {},
   "outputs": [
    {
     "name": "stdout",
     "output_type": "stream",
     "text": [
      "  0.000019 seconds (7 allocations: 19.781 KiB)\n"
     ]
    }
   ],
   "source": [
    "@time ForwardDiff.jacobian(g, input);"
   ]
  },
  {
   "cell_type": "code",
   "execution_count": 45,
   "id": "c363ea6b-1a8e-4d6e-bd69-73ba596ba2ca",
   "metadata": {},
   "outputs": [
    {
     "name": "stdout",
     "output_type": "stream",
     "text": [
      "  0.000083 seconds (239 allocations: 13.203 KiB)\n"
     ]
    },
    {
     "data": {
      "text/plain": [
       "30×30 SparseMatrixCSC{Float64, Int64} with 88 stored entries:\n",
       "⠻⣦⡀⠀⠀⠀⠀⠀⠀⠀⠀⠀⠀⠀⠀\n",
       "⠀⠈⠻⣦⡀⠀⠀⠀⠀⠀⠀⠀⠀⠀⠀\n",
       "⠀⠀⠀⠈⠻⣦⡀⠀⠀⠀⠀⠀⠀⠀⠀\n",
       "⠀⠀⠀⠀⠀⠈⠻⣦⡀⠀⠀⠀⠀⠀⠀\n",
       "⠀⠀⠀⠀⠀⠀⠀⠈⠻⣦⡀⠀⠀⠀⠀\n",
       "⠀⠀⠀⠀⠀⠀⠀⠀⠀⠈⠻⣦⡀⠀⠀\n",
       "⠀⠀⠀⠀⠀⠀⠀⠀⠀⠀⠀⠈⠻⣦⡀\n",
       "⠀⠀⠀⠀⠀⠀⠀⠀⠀⠀⠀⠀⠀⠈⠛"
      ]
     },
     "execution_count": 45,
     "metadata": {},
     "output_type": "execute_result"
    }
   ],
   "source": [
    "@time forwarddiff_color_jacobian!(jac, f, input, colorvec = colors)"
   ]
  },
  {
   "cell_type": "code",
   "execution_count": null,
   "id": "8b23b42e-8d82-451c-affa-28a2995124fa",
   "metadata": {},
   "outputs": [],
   "source": []
  },
  {
   "cell_type": "code",
   "execution_count": 57,
   "id": "e51a1653-0fc9-4a1e-aeb5-259f5eb4d740",
   "metadata": {},
   "outputs": [
    {
     "name": "stdout",
     "output_type": "stream",
     "text": [
      "  0.000026 seconds (44 allocations: 7.469 KiB)\n"
     ]
    },
    {
     "data": {
      "text/plain": [
       "30×3 Matrix{Float64}:\n",
       " -2.0   1.0   0.0\n",
       "  1.0  -2.0   1.0\n",
       "  0.0   1.0  -2.0\n",
       "  0.0   0.0   1.0\n",
       "  0.0   0.0   0.0\n",
       "  0.0   0.0   0.0\n",
       "  0.0   0.0   0.0\n",
       "  0.0   0.0   0.0\n",
       "  0.0   0.0   0.0\n",
       "  0.0   0.0   0.0\n",
       "  0.0   0.0   0.0\n",
       "  0.0   0.0   0.0\n",
       "  0.0   0.0   0.0\n",
       "  ⋮          \n",
       "  0.0   0.0   0.0\n",
       "  0.0   0.0   0.0\n",
       "  0.0   0.0   0.0\n",
       "  0.0   0.0   0.0\n",
       "  0.0   0.0   0.0\n",
       "  0.0   0.0   0.0\n",
       "  0.0   0.0   0.0\n",
       "  0.0   0.0   0.0\n",
       "  0.0   0.0   0.0\n",
       "  0.0   0.0   0.0\n",
       "  0.0   0.0   0.0\n",
       "  0.0   0.0   0.0"
      ]
     },
     "execution_count": 57,
     "metadata": {},
     "output_type": "execute_result"
    }
   ],
   "source": [
    "@time FiniteDiff.finite_difference_jacobian(g, rand(30), colorvec=colors)"
   ]
  },
  {
   "cell_type": "code",
   "execution_count": null,
   "id": "32636c23-2c35-4e65-8846-d2180d8ad143",
   "metadata": {},
   "outputs": [],
   "source": [
    "0.000077 seconds (239 allocations: 13.203 KiB)"
   ]
  }
 ],
 "metadata": {
  "kernelspec": {
   "display_name": "Julia 1.6.2",
   "language": "julia",
   "name": "julia-1.6"
  },
  "language_info": {
   "file_extension": ".jl",
   "mimetype": "application/julia",
   "name": "julia",
   "version": "1.6.2"
  }
 },
 "nbformat": 4,
 "nbformat_minor": 5
}
