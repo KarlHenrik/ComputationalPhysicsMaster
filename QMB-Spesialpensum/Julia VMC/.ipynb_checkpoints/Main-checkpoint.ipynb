{
 "cells": [
  {
   "cell_type": "code",
   "execution_count": 11,
   "id": "4d4633bf-aba9-45a0-9513-669356a7256a",
   "metadata": {},
   "outputs": [],
   "source": [
    "include(\"initializer.jl\")\n",
    "include(\"Wavefunctions/wavefunctions.jl\")\n",
    "include(\"hamiltonians.jl\")\n",
    "include(\"sampler.jl\")\n",
    "include(\"metropolis.jl\")\n",
    "include(\"runner.jl\");"
   ]
  },
  {
   "cell_type": "code",
   "execution_count": 17,
   "id": "8999edb6-d7bf-441a-a5f5-982e6cba3d53",
   "metadata": {},
   "outputs": [
    {
     "data": {
      "text/plain": [
       "1.0e-6"
      ]
     },
     "execution_count": 17,
     "metadata": {},
     "output_type": "execute_result"
    }
   ],
   "source": [
    "#metro = Importance(0, Int(2e6), 0.5)\n",
    "metro = Metropolis(0, Int(1e7), 0.5)\n",
    "dimsnum = (3, 10)\n",
    "\n",
    "HOshape = [1.0, 1.0, √8]\n",
    "#wf = Correlated(0.5, 0.00433, HOshape)\n",
    "wf = SimpleGaussian(0.5, HOshape)\n",
    "ham = HarmonicOscillator(1, HOshape)\n",
    "\n",
    "nthreads = Threads.nthreads()\n",
    "\n",
    "lr = 0.01\n",
    "maxiter = 1\n",
    "tol = 0.000001"
   ]
  },
  {
   "cell_type": "code",
   "execution_count": 20,
   "id": "7e677beb-aa9f-49a8-96dd-25677410f1b2",
   "metadata": {},
   "outputs": [
    {
     "name": "stdout",
     "output_type": "stream",
     "text": [
      "  1.077649 seconds (40.00 M allocations: 2.236 GiB, 52.04% gc time)\n"
     ]
    },
    {
     "data": {
      "text/plain": [
       "SimpleGaussian{StaticArrays.SVector{3, Float64}, StaticArrays.MVector{3, Float64}}(-1.3356430007631436e7, [1.0, 1.0, 2.8284271247461903], [1.0, 1.0, 8.000000000000002], [1.0, 1.0, 2.8284271247461903])"
      ]
     },
     "execution_count": 20,
     "metadata": {},
     "output_type": "execute_result"
    }
   ],
   "source": [
    "@time wf_final = gradientDescent(wf, ham, metro, dimsnum, nthreads, lr, maxiter, tol)"
   ]
  },
  {
   "cell_type": "code",
   "execution_count": null,
   "id": "64d5add6-12e7-40c9-876b-17fbbf144f3e",
   "metadata": {},
   "outputs": [],
   "source": []
  }
 ],
 "metadata": {
  "kernelspec": {
   "display_name": "Julia 1.6.2",
   "language": "julia",
   "name": "julia-1.6"
  },
  "language_info": {
   "file_extension": ".jl",
   "mimetype": "application/julia",
   "name": "julia",
   "version": "1.6.2"
  }
 },
 "nbformat": 4,
 "nbformat_minor": 5
}
