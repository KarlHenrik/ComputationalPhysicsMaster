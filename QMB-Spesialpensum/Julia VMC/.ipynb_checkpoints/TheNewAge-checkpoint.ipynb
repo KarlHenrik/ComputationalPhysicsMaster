{
 "cells": [
  {
   "cell_type": "code",
   "execution_count": 59,
   "id": "b81df055-2a06-4bbe-8ef3-92ef19388693",
   "metadata": {},
   "outputs": [
    {
     "name": "stderr",
     "output_type": "stream",
     "text": [
      "WARNING: using BenchmarkTools.ratio in module Main conflicts with an existing identifier.\n"
     ]
    }
   ],
   "source": [
    "import StaticArrays as sa\n",
    "using Random\n",
    "using BenchmarkTools"
   ]
  },
  {
   "cell_type": "code",
   "execution_count": 3,
   "id": "8d6f7f23-3cd9-45ec-8d43-b6cc3bd05a53",
   "metadata": {},
   "outputs": [
    {
     "data": {
      "text/plain": [
       "SimpleGaussian{StaticArrays.SVector{3, Float64}, StaticArrays.MVector{3, Float64}}(0.5, [1.0, 1.0, 2.8284271247461903], [1.0, 1.0, 8.000000000000002], [1.0, 1.0, 2.8284271247461903])"
      ]
     },
     "execution_count": 3,
     "metadata": {},
     "output_type": "execute_result"
    }
   ],
   "source": [
    "abstract type Hamiltonian end\n",
    "\n",
    "struct HarmonicOscillator{V, M} <: Hamiltonian\n",
    "    omega2::Float64\n",
    "    HOshape::V\n",
    "    temp_vec::M\n",
    "    HarmonicOscillator(omega, HOshape) = new{typeof(HOshape)}(omega^2, HOshape)\n",
    "end\n",
    "\n",
    "function potential(positions, ham::HarmonicOscillator)::Float64\n",
    "    temp_arr .= positions.^2\n",
    "    temp_arr .= temp_arr .* ham.HOshape\n",
    "    return 0.5 * ham.omega2 * sum(temp_arr)\n",
    "end"
   ]
  },
  {
   "cell_type": "code",
   "execution_count": 112,
   "id": "2e2b13a8-f198-44d3-8a22-7e0965c53f22",
   "metadata": {},
   "outputs": [],
   "source": [
    "rng = Random.MersenneTwister(0)\n",
    "num = 100\n",
    "dims = 3\n",
    "\n",
    "positions = Vector{sa.MVector{dims, Float64}}(undef, num)\n",
    "for i in 1:num\n",
    "    positions[i] = sa.MVector{dims}( rand(rng, Float64, dims) )\n",
    "end"
   ]
  },
  {
   "cell_type": "code",
   "execution_count": 142,
   "id": "8bf0fc3b-73e6-4898-bcf6-e1095ea6fe71",
   "metadata": {},
   "outputs": [
    {
     "name": "stdout",
     "output_type": "stream",
     "text": [
      "  30.692 ns (2 allocations: 112 bytes)\n"
     ]
    },
    {
     "data": {
      "text/plain": [
       "SimpleGaussian{StaticArrays.SVector{3, Float64}, StaticArrays.MVector{3, Float64}}(-0.5, [1.0, 1.0, 2.8284271247461903], [1.0, 1.0, 8.000000000000002], [1.0, 1.0, 2.8284271247461903])"
      ]
     },
     "execution_count": 142,
     "metadata": {},
     "output_type": "execute_result"
    }
   ],
   "source": [
    "@btime applyGradient(wf, 1)"
   ]
  },
  {
   "cell_type": "code",
   "execution_count": null,
   "id": "a425b353-24e9-416f-91ca-1592a4d25932",
   "metadata": {},
   "outputs": [],
   "source": []
  }
 ],
 "metadata": {
  "kernelspec": {
   "display_name": "Julia 1.6.2",
   "language": "julia",
   "name": "julia-1.6"
  },
  "language_info": {
   "file_extension": ".jl",
   "mimetype": "application/julia",
   "name": "julia",
   "version": "1.6.2"
  }
 },
 "nbformat": 4,
 "nbformat_minor": 5
}
