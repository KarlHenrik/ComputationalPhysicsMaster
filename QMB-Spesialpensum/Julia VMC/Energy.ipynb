{
 "cells": [
  {
   "cell_type": "code",
   "execution_count": 99,
   "id": "6e68bd68-dc6e-482b-83f3-c816dc4cbc33",
   "metadata": {},
   "outputs": [],
   "source": [
    "include(\"VMC/includeall.jl\")\n",
    "using BenchmarkTools: @btime\n",
    "using Plots"
   ]
  },
  {
   "cell_type": "code",
   "execution_count": 100,
   "id": "ab51e1d1-c0c3-4172-b31a-b52cb4527a05",
   "metadata": {},
   "outputs": [
    {
     "data": {
      "text/plain": [
       "12"
      ]
     },
     "execution_count": 100,
     "metadata": {},
     "output_type": "execute_result"
    }
   ],
   "source": [
    "# Setting up the physical parameters for the system\n",
    "dims = 3\n",
    "num = 10\n",
    "HOshape = [1, 1, 1]\n",
    "#wf = Correlated(0.49744, 0.00433, HOshape)\n",
    "wf = SimpleGaussian(0.499, HOshape)\n",
    "ham = HarmonicOscillator(1, HOshape)\n",
    "\n",
    "# Setting up the sampling algorithm\n",
    "#metro = Importance(1e4, 1e5, 0.2)\n",
    "metro = Metropolis(1e4, 1e7, 0.1)\n",
    "\n",
    "# Setting the optimization or statistical run scheme\n",
    "# This decides what extra calculations are done after the vmc calculation, and what values are sampled during\n",
    "scheme = Blocking()\n",
    "\n",
    "nthreads = 12"
   ]
  },
  {
   "cell_type": "code",
   "execution_count": 103,
   "id": "c170757c-96d7-4645-8a97-5c6d5a1dae6e",
   "metadata": {},
   "outputs": [
    {
     "name": "stdout",
     "output_type": "stream",
     "text": [
      "  1.272772 seconds (50.36 M allocations: 3.070 GiB, 35.01% gc time)\n",
      "\n",
      "E = 14.99989445689806 ± 0.39144056064368604  -  std = 0.007680440750362782"
     ]
    }
   ],
   "source": [
    "@time result = run_scheme(wf, ham, metro, dims, num, nthreads, scheme);\n",
    "\n",
    "print(\"\\nE = $(result.E) ± $(result.E_err)  -  std = $(result.std)\")"
   ]
  },
  {
   "cell_type": "code",
   "execution_count": 96,
   "id": "57d7ed84-d368-4368-9aca-6cdd25cfef22",
   "metadata": {},
   "outputs": [
    {
     "data": {
      "text/plain": [
       "0.007763332674053371"
      ]
     },
     "execution_count": 96,
     "metadata": {},
     "output_type": "execute_result"
    }
   ],
   "source": [
    "Statistics.std(result)"
   ]
  },
  {
   "cell_type": "code",
   "execution_count": 97,
   "id": "12f6effd-e973-41d8-9d7c-36aebdbcbc5a",
   "metadata": {},
   "outputs": [
    {
     "data": {
      "text/plain": [
       "(15.000127735994495, 0.0030611363781503555, 0.007763332674053371)"
      ]
     },
     "execution_count": 97,
     "metadata": {},
     "output_type": "execute_result"
    }
   ],
   "source": [
    "block(result)"
   ]
  },
  {
   "cell_type": "code",
   "execution_count": 98,
   "id": "9ef358f9-5415-4883-8e50-577a0e651597",
   "metadata": {},
   "outputs": [
    {
     "data": {
      "text/plain": [
       "10000000-element Vector{Float64}:\n",
       " 14.988791051420089\n",
       " 14.98878818952768\n",
       " 14.9886405030483\n",
       " 14.989097841908434\n",
       " 14.989391650570505\n",
       " 14.989807524022556\n",
       " 14.989844622130144\n",
       " 14.990148906721718\n",
       " 14.990365527425947\n",
       " 14.990328429318357\n",
       " 14.990493716871754\n",
       " 14.990449238862608\n",
       " 14.990482106144878\n",
       "  ⋮\n",
       " 14.997609469118899\n",
       " 14.997972987854801\n",
       " 14.997878208916752\n",
       " 14.997484603041901\n",
       " 14.99717185120725\n",
       " 14.996899059372598\n",
       " 14.996518040076175\n",
       " 14.996103647729939\n",
       " 14.99582269200722\n",
       " 14.995690345741913\n",
       " 14.99610473808815\n",
       " 14.995737262653726"
      ]
     },
     "execution_count": 98,
     "metadata": {},
     "output_type": "execute_result"
    }
   ],
   "source": [
    "result"
   ]
  },
  {
   "cell_type": "code",
   "execution_count": null,
   "id": "a21b1d91-9460-4ced-8fe5-645cffa50757",
   "metadata": {},
   "outputs": [],
   "source": []
  }
 ],
 "metadata": {
  "kernelspec": {
   "display_name": "Julia 1.6.2",
   "language": "julia",
   "name": "julia-1.6"
  },
  "language_info": {
   "file_extension": ".jl",
   "mimetype": "application/julia",
   "name": "julia",
   "version": "1.6.2"
  }
 },
 "nbformat": 4,
 "nbformat_minor": 5
}
