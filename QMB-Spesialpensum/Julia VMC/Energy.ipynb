{
 "cells": [
  {
   "cell_type": "code",
   "execution_count": 1,
   "id": "6e68bd68-dc6e-482b-83f3-c816dc4cbc33",
   "metadata": {},
   "outputs": [],
   "source": [
    "include(\"VMC/includeall.jl\")\n",
    "using BenchmarkTools: @btime"
   ]
  },
  {
   "cell_type": "code",
   "execution_count": 2,
   "id": "ab51e1d1-c0c3-4172-b31a-b52cb4527a05",
   "metadata": {},
   "outputs": [
    {
     "data": {
      "text/plain": [
       "12"
      ]
     },
     "execution_count": 2,
     "metadata": {},
     "output_type": "execute_result"
    }
   ],
   "source": [
    "# Setting up the physical parameters for the system\n",
    "dims = 3\n",
    "num = 50\n",
    "HOshape = [1, 1, √8]\n",
    "wf = Correlated(0.4, 0.0433, HOshape)\n",
    "#wf = SimpleGaussian(0.5, HOshape)\n",
    "ham = HarmonicOscillator(1, HOshape)\n",
    "\n",
    "# Setting up the sampling algorithm\n",
    "metro = Importance(2e5, 2^21, 0.3)\n",
    "#metro = Metropolis(1e5, 2097152, 0.5)\n",
    "\n",
    "# Setting the optimization or statistical run scheme\n",
    "# This decides what extra calculations are done after the vmc calculation, and what values are sampled during\n",
    "scheme = Blocking()\n",
    "\n",
    "nthreads = 12"
   ]
  },
  {
   "cell_type": "code",
   "execution_count": 4,
   "id": "c170757c-96d7-4645-8a97-5c6d5a1dae6e",
   "metadata": {},
   "outputs": [
    {
     "name": "stdout",
     "output_type": "stream",
     "text": [
      "  6.365517 seconds (31.26 M allocations: 1.765 GiB, 9.31% gc time)\n",
      "\n",
      "E = 218.80285312866172 ± 157.9333962852545  -  std = 14.762103854035496"
     ]
    }
   ],
   "source": [
    "@time result = run_scheme(wf, ham, metro, dims, num, nthreads, scheme);\n",
    "\n",
    "print(\"\\nE = $(result.E) ± $(result.E_err)  -  std = $(result.std)\")"
   ]
  },
  {
   "cell_type": "code",
   "execution_count": null,
   "id": "a21b1d91-9460-4ced-8fe5-645cffa50757",
   "metadata": {},
   "outputs": [],
   "source": []
  }
 ],
 "metadata": {
  "kernelspec": {
   "display_name": "Julia 1.6.2",
   "language": "julia",
   "name": "julia-1.6"
  },
  "language_info": {
   "file_extension": ".jl",
   "mimetype": "application/julia",
   "name": "julia",
   "version": "1.6.2"
  }
 },
 "nbformat": 4,
 "nbformat_minor": 5
}
