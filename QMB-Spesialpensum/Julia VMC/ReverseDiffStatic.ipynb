{
 "cells": [
  {
   "cell_type": "code",
   "execution_count": 92,
   "id": "a3d44e10-4b4d-4f92-bfff-ef44f583e430",
   "metadata": {},
   "outputs": [
    {
     "data": {
      "text/plain": [
       "MersenneTwister(0x94174fffd26f936b2a8d815627ee3249)"
      ]
     },
     "execution_count": 92,
     "metadata": {},
     "output_type": "execute_result"
    }
   ],
   "source": [
    "using ReverseDiff\n",
    "using ReverseDiff: TrackedArray, gradient, hessian, hessian!, gradient!\n",
    "using StaticArrays\n",
    "import Random\n",
    "using BenchmarkTools: @btime\n",
    "rng = Random.MersenneTwister()"
   ]
  },
  {
   "cell_type": "code",
   "execution_count": 119,
   "id": "23a4950f-082f-43d1-af17-9f5fa7de2d49",
   "metadata": {},
   "outputs": [],
   "source": [
    "import LinearAlgebra as la"
   ]
  },
  {
   "cell_type": "code",
   "execution_count": 104,
   "id": "c1381025-11d4-4bd7-84c9-1cd9f24fa7df",
   "metadata": {},
   "outputs": [
    {
     "data": {
      "text/plain": [
       "3×10 Matrix{Float64}:\n",
       "  0.865506  -0.107364   0.397068   …   0.475067   0.158897   0.654857\n",
       "  0.80562   -0.354114   0.0442495     -0.279549  -0.292776   0.729377\n",
       " -0.286013   0.486449  -0.0635372      0.545754   0.251755  -0.261811"
      ]
     },
     "execution_count": 104,
     "metadata": {},
     "output_type": "execute_result"
    }
   ],
   "source": [
    "positions = (Random.rand(rng, Float64, (3, 10)) .- 0.5) .* 2"
   ]
  },
  {
   "cell_type": "code",
   "execution_count": 105,
   "id": "9d05c1bc-d7df-4298-805c-e1c05559d2f0",
   "metadata": {},
   "outputs": [
    {
     "data": {
      "text/plain": [
       "SimpleG (generic function with 1 method)"
      ]
     },
     "execution_count": 105,
     "metadata": {},
     "output_type": "execute_result"
    }
   ],
   "source": [
    "function SimpleG(positions)\n",
    "    res = 1\n",
    "    for pos in eachcol(positions)\n",
    "        res *= exp(-0.5 * sum(pos.^2))\n",
    "    end\n",
    "    return res\n",
    "end"
   ]
  },
  {
   "cell_type": "code",
   "execution_count": 106,
   "id": "f32cad6f-0bd7-483a-9989-7f46e6024e17",
   "metadata": {},
   "outputs": [
    {
     "data": {
      "text/plain": [
       "typename(ReverseDiff.CompiledTape)(SimpleG)"
      ]
     },
     "execution_count": 106,
     "metadata": {},
     "output_type": "execute_result"
    }
   ],
   "source": [
    "config = ReverseDiff.HessianConfig(positions)\n",
    "tape = ReverseDiff.HessianTape(SimpleG, positions, config)\n",
    "tape = ReverseDiff.compile(tape)"
   ]
  },
  {
   "cell_type": "code",
   "execution_count": 107,
   "id": "bbe90f30-5f0e-47e1-966e-1cef38c44d03",
   "metadata": {},
   "outputs": [],
   "source": [
    "tmp = SizedMatrix{30, 30}(zeros(30, 30));"
   ]
  },
  {
   "cell_type": "code",
   "execution_count": 121,
   "id": "0331147f-d2a0-46e5-a642-62f62a9290e9",
   "metadata": {},
   "outputs": [],
   "source": [
    "function kineticRD(result, tape, positions)\n",
    "    result = ReverseDiff.hessian!(result, tape, positions);\n",
    "    return -0.5 * sum(la.diag(result)) / SimpleG(positions)\n",
    "end;"
   ]
  },
  {
   "cell_type": "code",
   "execution_count": 122,
   "id": "5ff71ef9-1f09-4ff4-a9ae-eb664b7d019a",
   "metadata": {},
   "outputs": [
    {
     "name": "stdout",
     "output_type": "stream",
     "text": [
      "  0.000376 seconds\n"
     ]
    }
   ],
   "source": [
    "@time hessian!(tmp, tape, positions);"
   ]
  },
  {
   "cell_type": "code",
   "execution_count": 125,
   "id": "1f743020-0286-4ea9-b68f-bb1b3fec837b",
   "metadata": {},
   "outputs": [
    {
     "name": "stdout",
     "output_type": "stream",
     "text": [
      "  0.000376 seconds (12 allocations: 1.438 KiB)\n"
     ]
    },
    {
     "data": {
      "text/plain": [
       "10.8112957394167"
      ]
     },
     "execution_count": 125,
     "metadata": {},
     "output_type": "execute_result"
    }
   ],
   "source": [
    "@time kineticRD(tmp, tape, positions)"
   ]
  },
  {
   "cell_type": "code",
   "execution_count": null,
   "id": "2eeac953-968d-4cf1-a750-a78ed944b9f7",
   "metadata": {},
   "outputs": [],
   "source": [
    "379.500 μs (0 allocations: 0 bytes)"
   ]
  },
  {
   "cell_type": "code",
   "execution_count": null,
   "id": "6645ced0-779d-43df-b784-42c4abfc08d7",
   "metadata": {},
   "outputs": [],
   "source": []
  }
 ],
 "metadata": {
  "kernelspec": {
   "display_name": "Julia 1.6.2",
   "language": "julia",
   "name": "julia-1.6"
  },
  "language_info": {
   "file_extension": ".jl",
   "mimetype": "application/julia",
   "name": "julia",
   "version": "1.6.2"
  }
 },
 "nbformat": 4,
 "nbformat_minor": 5
}
