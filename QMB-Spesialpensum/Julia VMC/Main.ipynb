{
 "cells": [
  {
   "cell_type": "code",
   "execution_count": 4,
   "id": "4d4633bf-aba9-45a0-9513-669356a7256a",
   "metadata": {},
   "outputs": [],
   "source": [
    "include(\"VMC/includeall.jl\")\n",
    "using BenchmarkTools: @btime"
   ]
  },
  {
   "cell_type": "code",
   "execution_count": 9,
   "id": "8999edb6-d7bf-441a-a5f5-982e6cba3d53",
   "metadata": {},
   "outputs": [
    {
     "data": {
      "text/plain": [
       "12"
      ]
     },
     "execution_count": 9,
     "metadata": {},
     "output_type": "execute_result"
    }
   ],
   "source": [
    "# Setting up the physical parameters for the system\n",
    "dims = 3\n",
    "num = 10\n",
    "HOshape = [1, 1, 1]\n",
    "wf = Correlated(0.49744, 0.00433, HOshape)\n",
    "#wf = SimpleGaussian(0.5, HOshape)\n",
    "ham = HarmonicOscillator(1, HOshape)\n",
    "\n",
    "# Setting up the sampling algorithm\n",
    "#metro = Importance(1e4, 1e5, 0.2)\n",
    "metro = Metropolis(1e5, 1e6, 0.5)\n",
    "\n",
    "# Setting the optimization or statistical run scheme\n",
    "# This decides what extra calculations are done after the vmc calculation, and what values are sampled during\n",
    "#scheme = Adam(lr = 0.001, β₁ = 0.9, β₂ = 0.999, ϵ = 1e-08, maxiter = 1, tol = 1e-6)\n",
    "scheme = GradientDescent(lr = 0.1, maxiter = 100, tol = 1e-6)\n",
    "#scheme = Blocking()\n",
    "#scheme = OneBody(start = 0, stop = 4, length = 51, dims = dims, num = num)\n",
    "\n",
    "nthreads = 12"
   ]
  },
  {
   "cell_type": "code",
   "execution_count": 10,
   "id": "7e677beb-aa9f-49a8-96dd-25677410f1b2",
   "metadata": {},
   "outputs": [
    {
     "name": "stdout",
     "output_type": "stream",
     "text": [
      "E = 15.655 iter = 100/100 30.418165 seconds (861.92 M allocations: 41.565 GiB, 35.73% gc time, 0.51% compilation time)\n"
     ]
    }
   ],
   "source": [
    "@time results, wfs = run_scheme(wf, ham, metro, dims, num, nthreads, scheme);"
   ]
  },
  {
   "cell_type": "code",
   "execution_count": 11,
   "id": "8543292c-9ced-4a33-9e7c-6c7b532b1b73",
   "metadata": {},
   "outputs": [
    {
     "name": "stdout",
     "output_type": "stream",
     "text": [
      "GradientResult{Float64}(15.655053110102426, 2.057925473978556, 249.31574513657748, -0.018853710146281344)\n",
      "Correlated{StaticArrays.SVector{3, Float64}}(0.4738321438803706, 0.00433, [1.0, 1.0, 1.0], [1.0, 1.0, 1.0])"
     ]
    }
   ],
   "source": [
    "println(results[end])\n",
    "print(wfs[end])"
   ]
  },
  {
   "cell_type": "code",
   "execution_count": null,
   "id": "f7b46cba-68fc-484f-8adf-b19a32458ab5",
   "metadata": {},
   "outputs": [],
   "source": []
  }
 ],
 "metadata": {
  "kernelspec": {
   "display_name": "Julia 1.6.2",
   "language": "julia",
   "name": "julia-1.6"
  },
  "language_info": {
   "file_extension": ".jl",
   "mimetype": "application/julia",
   "name": "julia",
   "version": "1.6.2"
  }
 },
 "nbformat": 4,
 "nbformat_minor": 5
}
