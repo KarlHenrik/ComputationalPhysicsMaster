{
 "cells": [
  {
   "cell_type": "code",
   "execution_count": 1,
   "id": "4d4633bf-aba9-45a0-9513-669356a7256a",
   "metadata": {},
   "outputs": [
    {
     "name": "stderr",
     "output_type": "stream",
     "text": [
      "WARNING: using BenchmarkTools.ratio in module Main conflicts with an existing identifier.\n"
     ]
    }
   ],
   "source": [
    "include(\"Wavefunctions/wavefunctions.jl\")\n",
    "include(\"hamiltonians.jl\")\n",
    "include(\"metropolis.jl\")\n",
    "include(\"runner.jl\");\n",
    "using BenchmarkTools"
   ]
  },
  {
   "cell_type": "code",
   "execution_count": 2,
   "id": "8999edb6-d7bf-441a-a5f5-982e6cba3d53",
   "metadata": {},
   "outputs": [
    {
     "data": {
      "text/plain": [
       "1.0e-6"
      ]
     },
     "execution_count": 2,
     "metadata": {},
     "output_type": "execute_result"
    }
   ],
   "source": [
    "#metro = Importance(1e4, 1e5, 0.5)\n",
    "metro = Metropolis(0, 1e7, 0.5)\n",
    "dimsnum = (3, 10)\n",
    "\n",
    "HOshape = [1, 1, 1]\n",
    "#wf = Correlated(0.5, 0.00433, HOshape)\n",
    "wf = SimpleGaussian(0.4, HOshape)\n",
    "ham = HarmonicOscillator(1, HOshape)\n",
    "\n",
    "nthreads = Threads.nthreads()\n",
    "\n",
    "lr = 0.1\n",
    "maxiter = 1\n",
    "tol = 0.000001"
   ]
  },
  {
   "cell_type": "code",
   "execution_count": null,
   "id": "b74d39ac-9543-4495-8524-78eaea3163c4",
   "metadata": {},
   "outputs": [],
   "source": [
    "samples = run(wf, ham, metro, dimsnum, nthreads)\n",
    "grad = gradient(samples)"
   ]
  },
  {
   "cell_type": "code",
   "execution_count": null,
   "id": "6a4fdd5f-fe32-412b-b1b3-284277dc46b3",
   "metadata": {},
   "outputs": [],
   "source": [
    "samples"
   ]
  },
  {
   "cell_type": "code",
   "execution_count": 4,
   "id": "7e677beb-aa9f-49a8-96dd-25677410f1b2",
   "metadata": {},
   "outputs": [
    {
     "name": "stdout",
     "output_type": "stream",
     "text": [
      "alpha = 0.483 iter = 1/1  1.027272 seconds (50.00 M allocations: 2.236 GiB, 50.39% gc time)\n"
     ]
    },
    {
     "data": {
      "text/plain": [
       "SimpleGaussian{StaticArrays.SVector{3, Float64}}(0.48321219816759114, [1.0, 1.0, 1.0], [1.0, 1.0, 1.0])"
      ]
     },
     "execution_count": 4,
     "metadata": {},
     "output_type": "execute_result"
    }
   ],
   "source": [
    "@time wf_final = gradientDescent(wf, ham, metro, dimsnum, nthreads, lr, maxiter, tol)"
   ]
  },
  {
   "cell_type": "code",
   "execution_count": null,
   "id": "64d5add6-12e7-40c9-876b-17fbbf144f3e",
   "metadata": {},
   "outputs": [],
   "source": []
  }
 ],
 "metadata": {
  "kernelspec": {
   "display_name": "Julia 1.6.2",
   "language": "julia",
   "name": "julia-1.6"
  },
  "language_info": {
   "file_extension": ".jl",
   "mimetype": "application/julia",
   "name": "julia",
   "version": "1.6.2"
  }
 },
 "nbformat": 4,
 "nbformat_minor": 5
}
