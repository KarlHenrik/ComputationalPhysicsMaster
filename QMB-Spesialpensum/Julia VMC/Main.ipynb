{
 "cells": [
  {
   "cell_type": "code",
   "execution_count": 15,
   "id": "4d4633bf-aba9-45a0-9513-669356a7256a",
   "metadata": {},
   "outputs": [],
   "source": [
    "include(\"Wavefunctions/wavefunctions.jl\") # Computes ratio, QF, parameter derivative, kinetic energy (WaveFunction)\n",
    "include(\"hamiltonians.jl\") # Computes potential energy (Hamiltonian)\n",
    "include(\"particles.jl\") # Saves particle positions (Particles)\n",
    "include(\"metropolis.jl\") # Moves the particles according to some metropolis algorithm (Metropolis/Importance)\n",
    "include(\"Schemes/schemes.jl\") # Chooses what is sampled during the calculation, and what is then computed after with the sampled values (GradientDescent/OneBody/Blocking <: Scheme)\n",
    "include(\"Samplers/samplers.jl\") # Samples values during the calculation (Gradient/OneBody/Blocking-Sampler) and computes results after (Gradient/OneBody/Blocking-Result)\n",
    "using BenchmarkTools: @btime"
   ]
  },
  {
   "cell_type": "code",
   "execution_count": 16,
   "id": "8999edb6-d7bf-441a-a5f5-982e6cba3d53",
   "metadata": {},
   "outputs": [
    {
     "data": {
      "text/plain": [
       "12"
      ]
     },
     "execution_count": 16,
     "metadata": {},
     "output_type": "execute_result"
    }
   ],
   "source": [
    "# Setting up the physical parameters for the system\n",
    "dims = 3\n",
    "num = 10\n",
    "HOshape = [1, 1, 1]\n",
    "#wf = Correlated(0.5, 0.00433, HOshape)\n",
    "wf = SimpleGaussian(0.5, HOshape)\n",
    "ham = HarmonicOscillator(1, HOshape)\n",
    "\n",
    "# Setting up the sampling algorithm\n",
    "#metro = Importance(1e4, 1e5, 0.5)\n",
    "metro = Metropolis(0, 1e7, 0.5)\n",
    "\n",
    "# Setting the optimization or statistical run scheme\n",
    "# This decides what extra calculations are done after the vmc calculation, and what values are sampled during\n",
    "#scheme = Adam(lr = 0.001, β₁ = 0.9, β₂ = 0.999, ϵ = 1e-08, maxiter = 1, tol = 1e-6)\n",
    "scheme = GradientDescent(lr = 0.1, maxiter = 1, tol = 1e-6)\n",
    "#scheme = Blocking()\n",
    "#scheme = OneBody(start = 0, stop = 4, length = 51)\n",
    "\n",
    "nthreads = Threads.nthreads()"
   ]
  },
  {
   "cell_type": "code",
   "execution_count": 18,
   "id": "7e677beb-aa9f-49a8-96dd-25677410f1b2",
   "metadata": {},
   "outputs": [
    {
     "name": "stdout",
     "output_type": "stream",
     "text": [
      "  1.043041 seconds (50.00 M allocations: 2.236 GiB, 48.78% gc time)\n"
     ]
    },
    {
     "data": {
      "text/plain": [
       "(GradientResult[GradientResult{Float64}(1.5, 4.5, 22.5, 3.754092321144697e6)], WaveFunction[SimpleGaussian{StaticArrays.SVector{3, Float64}}(0.5, [1.0, 1.0, 1.0], [1.0, 1.0, 1.0])])"
      ]
     },
     "execution_count": 18,
     "metadata": {},
     "output_type": "execute_result"
    }
   ],
   "source": [
    "@time results, wfs = run_scheme(wf, ham, metro, dims, num, nthreads, scheme)"
   ]
  },
  {
   "cell_type": "code",
   "execution_count": 21,
   "id": "64d5add6-12e7-40c9-876b-17fbbf144f3e",
   "metadata": {},
   "outputs": [
    {
     "data": {
      "text/plain": [
       "GradientResult{Float64}(1.5, 4.5, 22.5, 3.754092321144697e6)"
      ]
     },
     "execution_count": 21,
     "metadata": {},
     "output_type": "execute_result"
    }
   ],
   "source": [
    "results[end]"
   ]
  },
  {
   "cell_type": "code",
   "execution_count": null,
   "id": "8543292c-9ced-4a33-9e7c-6c7b532b1b73",
   "metadata": {},
   "outputs": [],
   "source": []
  }
 ],
 "metadata": {
  "kernelspec": {
   "display_name": "Julia 1.6.2",
   "language": "julia",
   "name": "julia-1.6"
  },
  "language_info": {
   "file_extension": ".jl",
   "mimetype": "application/julia",
   "name": "julia",
   "version": "1.6.2"
  }
 },
 "nbformat": 4,
 "nbformat_minor": 5
}
