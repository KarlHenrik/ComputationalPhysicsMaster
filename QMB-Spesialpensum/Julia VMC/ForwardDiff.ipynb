{
 "cells": [
  {
   "cell_type": "code",
   "execution_count": 16,
   "id": "d6e23398-08a7-445e-aa52-529ec713ceed",
   "metadata": {},
   "outputs": [],
   "source": [
    "import ForwardDiff\n",
    "import Random\n",
    "import StaticArrays as sa"
   ]
  },
  {
   "cell_type": "code",
   "execution_count": 19,
   "id": "9746a7dc-2716-41cb-ad65-de57f16ac120",
   "metadata": {},
   "outputs": [],
   "source": [
    "num = 10\n",
    "dims = 3\n",
    "\n",
    "rng = Random.MersenneTwister()\n",
    "positions = Vector{sa.MVector{dims, Float64}}(undef, num)\n",
    "for new_particle in 1:num\n",
    "    positions[new_particle] = sa.MVector{dims}( (Random.rand(rng, Float64, dims) .- 0.5) .* 2 )\n",
    "end"
   ]
  },
  {
   "cell_type": "code",
   "execution_count": 13,
   "id": "d2da5c79-ea32-4ae1-a553-18a71383e1a9",
   "metadata": {},
   "outputs": [
    {
     "data": {
      "text/plain": [
       "SimpleG (generic function with 1 method)"
      ]
     },
     "execution_count": 13,
     "metadata": {},
     "output_type": "execute_result"
    }
   ],
   "source": [
    "function SimpleG(positions, alpha)\n",
    "    res = 1\n",
    "    \n",
    "    for pos in positions\n",
    "        res *= -alpha * exp(sum(pos.^2))\n",
    "    end\n",
    "    return res\n",
    "end"
   ]
  },
  {
   "cell_type": "code",
   "execution_count": 23,
   "id": "78fdedfa-7aed-4439-8f73-07e2e6776ce2",
   "metadata": {},
   "outputs": [
    {
     "name": "stdout",
     "output_type": "stream",
     "text": [
      "  0.000006 seconds (1 allocation: 16 bytes)\n"
     ]
    },
    {
     "data": {
      "text/plain": [
       "19.412382564882048"
      ]
     },
     "execution_count": 23,
     "metadata": {},
     "output_type": "execute_result"
    }
   ],
   "source": [
    "@time SimpleG(positions, 0.5)"
   ]
  },
  {
   "cell_type": "code",
   "execution_count": 7,
   "id": "0460a880-1cf7-42db-9880-8181e505409e",
   "metadata": {},
   "outputs": [],
   "source": [
    "g = alpha -> ForwardDiff.derivative(f, x);"
   ]
  },
  {
   "cell_type": "code",
   "execution_count": 12,
   "id": "5306597d-f24b-4edc-a9be-fca93ae60c65",
   "metadata": {},
   "outputs": [
    {
     "name": "stdout",
     "output_type": "stream",
     "text": [
      "  0.000003 seconds\n"
     ]
    },
    {
     "data": {
      "text/plain": [
       "2"
      ]
     },
     "execution_count": 12,
     "metadata": {},
     "output_type": "execute_result"
    }
   ],
   "source": [
    "@time g(5)"
   ]
  },
  {
   "cell_type": "code",
   "execution_count": null,
   "id": "ad553ecd-3f73-41b8-a03b-013d04252c20",
   "metadata": {},
   "outputs": [],
   "source": []
  }
 ],
 "metadata": {
  "kernelspec": {
   "display_name": "Julia 1.6.2",
   "language": "julia",
   "name": "julia-1.6"
  },
  "language_info": {
   "file_extension": ".jl",
   "mimetype": "application/julia",
   "name": "julia",
   "version": "1.6.2"
  }
 },
 "nbformat": 4,
 "nbformat_minor": 5
}
