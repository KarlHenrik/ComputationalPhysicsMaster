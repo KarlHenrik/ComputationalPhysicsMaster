{
 "cells": [
  {
   "cell_type": "code",
   "execution_count": 1,
   "id": "3fbc296d-6be1-4f5b-921d-e8a338a236a4",
   "metadata": {},
   "outputs": [],
   "source": [
    "import numpy as np\n",
    "import matplotlib.pyplot as plt"
   ]
  },
  {
   "cell_type": "code",
   "execution_count": 18,
   "id": "03cab29e-a0ec-4108-bda9-6bb86d306fdc",
   "metadata": {},
   "outputs": [
    {
     "data": {
      "text/plain": [
       "[<matplotlib.lines.Line2D at 0x220ca81eb80>]"
      ]
     },
     "execution_count": 18,
     "metadata": {},
     "output_type": "execute_result"
    },
    {
     "data": {
      "image/png": "[encoded data removed]",
      "text/plain": [
       "<Figure size 432x288 with 1 Axes>"
      ]
     },
     "metadata": {
      "needs_background": "light"
     },
     "output_type": "display_data"
    }
   ],
   "source": [
    "pos_0 = np.array([0, 1000]) # moon average distance to Earth in km\n",
    "vel_0 = np.array([130, 0]) # moon average velocity in km/s\n",
    "N = 100000\n",
    "dt = 0.1\n",
    "GM = 1e7\n",
    "\n",
    "pos = np.zeros((2, N))\n",
    "vel = np.zeros((2, N))\n",
    "acc = np.zeros((2, N))\n",
    "\n",
    "pos[:, 0] = pos_0\n",
    "vel[:, 0] = vel_0;\n",
    "\n",
    "def grav(pos):\n",
    "    return -pos * GM / np.linalg.norm(pos)**3\n",
    "\n",
    "for i in range(N-1):\n",
    "    acc[:, i] = grav(pos[:, i])\n",
    "    vel[:, i + 1] = vel[:, i] + acc[:, i] * dt\n",
    "    pos[:, i + 1] = pos[:, i] + vel[:, i + 1] * dt\n",
    "    \n",
    "plt.plot(pos[0, :], pos[1, :])"
   ]
  },
  {
   "cell_type": "code",
   "execution_count": null,
   "id": "0ec5b431-7c8a-4292-aaab-d9cb1f797993",
   "metadata": {},
   "outputs": [],
   "source": []
  }
 ],
 "metadata": {
  "kernelspec": {
   "display_name": "Python 3 (ipykernel)",
   "language": "python",
   "name": "python3"
  },
  "language_info": {
   "codemirror_mode": {
    "name": "ipython",
    "version": 3
   },
   "file_extension": ".py",
   "mimetype": "text/x-python",
   "name": "python",
   "nbconvert_exporter": "python",
   "pygments_lexer": "ipython3",
   "version": "3.8.8"
  }
 },
 "nbformat": 4,
 "nbformat_minor": 5
}
