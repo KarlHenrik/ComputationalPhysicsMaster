{
 "cells": [
  {
   "cell_type": "code",
   "execution_count": 3,
   "id": "a8a1c53e-add3-4518-9d92-59ddace64584",
   "metadata": {},
   "outputs": [],
   "source": [
    "import numpy as np"
   ]
  },
  {
   "cell_type": "code",
   "execution_count": 15,
   "id": "d23c9cbf-154d-4792-8a26-d1a75a8f8b98",
   "metadata": {},
   "outputs": [],
   "source": [
    "n = 2**21\n",
    "samples = np.random.rand(2**21)\n",
    "std = block(samples)"
   ]
  },
  {
   "cell_type": "code",
   "execution_count": 17,
   "id": "fdcf4355-34a9-4f36-aef1-190ef76fe648",
   "metadata": {},
   "outputs": [
    {
     "data": {
      "text/plain": [
       "2097152"
      ]
     },
     "execution_count": 17,
     "metadata": {},
     "output_type": "execute_result"
    }
   ],
   "source": [
    "n"
   ]
  },
  {
   "cell_type": "code",
   "execution_count": 20,
   "id": "40979926-3d13-4d0b-8160-7a58b0a78893",
   "metadata": {},
   "outputs": [
    {
     "data": {
      "text/plain": [
       "0.2891904886665691"
      ]
     },
     "execution_count": 20,
     "metadata": {},
     "output_type": "execute_result"
    }
   ],
   "source": [
    "std**0.5 * n**0.5"
   ]
  },
  {
   "cell_type": "code",
   "execution_count": 13,
   "id": "23ba1cfa-183a-41b1-91c9-b2d9bd78faa5",
   "metadata": {},
   "outputs": [
    {
     "data": {
      "text/plain": [
       "0.2887407091512152"
      ]
     },
     "execution_count": 13,
     "metadata": {},
     "output_type": "execute_result"
    }
   ],
   "source": [
    "np.std(samples)"
   ]
  },
  {
   "cell_type": "code",
   "execution_count": 1,
   "id": "b1ddd85b-f014-4aaa-933a-fb47b7ecd72e",
   "metadata": {},
   "outputs": [],
   "source": [
    "from numpy import log2, zeros, mean, var, sum, loadtxt, arange, \\\n",
    "                  array, cumsum, dot, transpose, diagonal, floor\n",
    "from numpy.linalg import inv\n",
    "\n",
    "def block(x):\n",
    "    # preliminaries\n",
    "    d = log2(len(x))\n",
    "    if (d - floor(d) != 0):\n",
    "        print(\"Warning: Data size = %g, is not a power of 2.\" % floor(2**d))\n",
    "        print(\"Truncating data to %g.\" % 2**floor(d) )\n",
    "        x = x[:2**int(floor(d))]\n",
    "    d = int(floor(d))\n",
    "    n = 2**d\n",
    "    s, gamma = zeros(d), zeros(d)\n",
    "    mu = mean(x)\n",
    "\n",
    "    # estimate the auto-covariance and variances \n",
    "    # for each blocking transformation\n",
    "    for i in arange(0,d):\n",
    "        n = len(x)\n",
    "        # estimate autocovariance of x\n",
    "        gamma[i] = (n)**(-1)*sum( (x[0:(n-1)]-mu)*(x[1:n]-mu) )\n",
    "        # estimate variance of x\n",
    "        s[i] = var(x)\n",
    "        # perform blocking transformation\n",
    "        x = 0.5*(x[0::2] + x[1::2])\n",
    "   \n",
    "    # generate the test observator M_k from the theorem\n",
    "    M = (cumsum( ((gamma/s)**2*2**arange(1,d+1)[::-1])[::-1] )  )[::-1]\n",
    "\n",
    "    # we need a list of magic numbers\n",
    "    q =array([6.634897,  9.210340,  11.344867, 13.276704, 15.086272, \n",
    "              16.811894, 18.475307, 20.090235, 21.665994, 23.209251,\n",
    "              24.724970, 26.216967, 27.688250, 29.141238, 30.577914, \n",
    "              31.999927, 33.408664, 34.805306, 36.190869, 37.566235,\n",
    "              38.932173, 40.289360, 41.638398, 42.979820, 44.314105, \n",
    "              45.641683, 46.962942, 48.278236, 49.587884, 50.892181])\n",
    "\n",
    "    # use magic to determine when we should have stopped blocking\n",
    "    for k in arange(0,d):\n",
    "        if(M[k] < q[k]):\n",
    "            break\n",
    "    if (k >= d-1):\n",
    "        print(\"Warning: Use more data\")\n",
    "    return s[k]/2**(d-k)\n"
   ]
  },
  {
   "cell_type": "code",
   "execution_count": null,
   "id": "c2580a85-31f0-49f5-b9c6-2ca2e26863fe",
   "metadata": {},
   "outputs": [],
   "source": []
  }
 ],
 "metadata": {
  "kernelspec": {
   "display_name": "Python 3 (ipykernel)",
   "language": "python",
   "name": "python3"
  },
  "language_info": {
   "codemirror_mode": {
    "name": "ipython",
    "version": 3
   },
   "file_extension": ".py",
   "mimetype": "text/x-python",
   "name": "python",
   "nbconvert_exporter": "python",
   "pygments_lexer": "ipython3",
   "version": "3.9.5"
  }
 },
 "nbformat": 4,
 "nbformat_minor": 5
}
