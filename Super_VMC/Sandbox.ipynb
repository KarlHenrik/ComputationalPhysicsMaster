{
 "cells": [
  {
   "cell_type": "code",
   "execution_count": 143,
   "id": "4427d9d5-a038-42ca-88b0-131c5380d620",
   "metadata": {},
   "outputs": [],
   "source": [
    "import LinearAlgebra as la\n",
    "import StaticArrays as sa\n",
    "import Random\n",
    "import Statistics\n",
    "using BenchmarkTools: @btime"
   ]
  },
  {
   "cell_type": "code",
   "execution_count": 247,
   "id": "e986b0cd-10e1-4a29-b82f-4becf5bcecb4",
   "metadata": {},
   "outputs": [],
   "source": [
    "include(\"hamiltonians.jl\")\n",
    "include(\"Wavefunctions/wavefunctions.jl\")\n",
    "include(\"system.jl\")\n",
    "\n",
    "include(\"metropolis.jl\")\n",
    "include(\"Samplers/samplers.jl\")\n",
    "\n",
    "include(\"State/state.jl\");"
   ]
  },
  {
   "cell_type": "code",
   "execution_count": 199,
   "id": "159432bb-1cd0-4499-aea4-68e05546b4a7",
   "metadata": {},
   "outputs": [],
   "source": [
    "dims = 3\n",
    "num = 50\n",
    "\n",
    "HOshape = [1, 1, √8]\n",
    "ham = HarmonicOscillator(HOshape, num, ω = 0.5)\n",
    "wf = SimpleGaussian(HOshape, num, α = 0.5)\n",
    "system = System(wf, ham)\n",
    "\n",
    "metro = Metropolis(10, 100, 0.5)\n",
    "#metro = Importance(10, 100, 0.1)\n",
    "\n",
    "scheme = GradientDescent(lr = 0.01, maxiter = 10, tol = 1e-6)\n",
    "state = EquilState(system, metro);"
   ]
  },
  {
   "cell_type": "code",
   "execution_count": 231,
   "id": "bd0536f5-af11-4035-9668-2a2aec588a2f",
   "metadata": {},
   "outputs": [
    {
     "name": "stdout",
     "output_type": "stream",
     "text": [
      "  235.198 ns (1 allocation: 16 bytes)\n"
     ]
    },
    {
     "data": {
      "text/plain": [
       "38.743874591861115"
      ]
     },
     "execution_count": 231,
     "metadata": {},
     "output_type": "execute_result"
    }
   ],
   "source": [
    "@btime kinetic(positions, wf)"
   ]
  },
  {
   "cell_type": "code",
   "execution_count": 172,
   "id": "c91a9684-1e4c-484c-8a86-fc7a1756c97e",
   "metadata": {},
   "outputs": [],
   "source": [
    "#@btime metro_step!(state, system, metro);"
   ]
  },
  {
   "cell_type": "code",
   "execution_count": 173,
   "id": "748791bc-c535-48fd-b819-52b6444c4c21",
   "metadata": {},
   "outputs": [],
   "source": [
    "positions = state.positions;"
   ]
  },
  {
   "cell_type": "code",
   "execution_count": 252,
   "id": "34b12aec-204f-4a73-9bf2-2af6ca399cf3",
   "metadata": {},
   "outputs": [
    {
     "data": {
      "text/plain": [
       "3-element Vector{Float64}:\n",
       " 1.0\n",
       " 1.0\n",
       " 1.0"
      ]
     },
     "execution_count": 252,
     "metadata": {},
     "output_type": "execute_result"
    }
   ],
   "source": [
    "dist2 = [1.0, 1.0, 1.0]"
   ]
  },
  {
   "cell_type": "code",
   "execution_count": 255,
   "id": "07e5be10-4302-43ef-9177-c33cb6e7a2a4",
   "metadata": {},
   "outputs": [
    {
     "data": {
      "text/plain": [
       "2"
      ]
     },
     "execution_count": 255,
     "metadata": {},
     "output_type": "execute_result"
    }
   ],
   "source": [
    "idx = 2"
   ]
  },
  {
   "cell_type": "code",
   "execution_count": 258,
   "id": "f919611a-6714-4230-94b4-3058e5311af7",
   "metadata": {},
   "outputs": [
    {
     "name": "stdout",
     "output_type": "stream",
     "text": [
      "  0.000006 seconds (1 allocation: 16 bytes)\n"
     ]
    },
    {
     "data": {
      "text/plain": [
       "0.020594446152211246"
      ]
     },
     "execution_count": 258,
     "metadata": {},
     "output_type": "execute_result"
    }
   ],
   "source": [
    "@time ratio(dist, positions, idx, dist2, wf)"
   ]
  },
  {
   "cell_type": "code",
   "execution_count": 7,
   "id": "efe5c551-2f0f-4308-a914-c38fa5a2f338",
   "metadata": {},
   "outputs": [
    {
     "name": "stdout",
     "output_type": "stream",
     "text": [
      "  196.037 ns (5 allocations: 384 bytes)\n"
     ]
    },
    {
     "data": {
      "text/plain": [
       "0.1563760588050358"
      ]
     },
     "execution_count": 7,
     "metadata": {},
     "output_type": "execute_result"
    }
   ],
   "source": [
    "@btime ratio(state.positions, 3, [1.0, 1.0, 1.0], wf)"
   ]
  },
  {
   "cell_type": "code",
   "execution_count": null,
   "id": "4cb07fa9-43dd-4d46-9ba5-bacf6acddd70",
   "metadata": {},
   "outputs": [],
   "source": [
    "527.749 ns (7 allocations: 845 bytes)"
   ]
  },
  {
   "cell_type": "code",
   "execution_count": null,
   "id": "8c5b1317-8cd5-4836-8332-3a5222b2c1ee",
   "metadata": {},
   "outputs": [],
   "source": [
    "1.510 μs (11 allocations: 560 bytes)"
   ]
  },
  {
   "cell_type": "code",
   "execution_count": null,
   "id": "af07f47d-009d-410d-8d01-80861f022be3",
   "metadata": {},
   "outputs": [],
   "source": []
  },
  {
   "cell_type": "code",
   "execution_count": null,
   "id": "e4bde8bd-8ea4-4182-a236-04fed6c31da8",
   "metadata": {},
   "outputs": [],
   "source": [
    "44.040 ns (0 allocations: 0 bytes)"
   ]
  },
  {
   "cell_type": "code",
   "execution_count": null,
   "id": "fac94c8a-2922-411f-a648-5929535738ef",
   "metadata": {},
   "outputs": [],
   "source": [
    "103.708 ns (1 allocation: 112 bytes)"
   ]
  },
  {
   "cell_type": "code",
   "execution_count": null,
   "id": "8e2d77ef-a4fa-4095-80df-c1530edef1c9",
   "metadata": {},
   "outputs": [],
   "source": [
    "122.210 ns (2 allocations: 144 bytes)"
   ]
  },
  {
   "cell_type": "code",
   "execution_count": null,
   "id": "f837d247-7e1d-42c2-8d1d-4212bcb81570",
   "metadata": {},
   "outputs": [],
   "source": []
  },
  {
   "cell_type": "code",
   "execution_count": null,
   "id": "843e0396-ebb8-424e-9626-74abf351b6f4",
   "metadata": {},
   "outputs": [],
   "source": [
    "@btime consider!(state, system, 1, 0.1)"
   ]
  },
  {
   "cell_type": "code",
   "execution_count": null,
   "id": "a36fadfc-19f8-4d61-84af-3b2460bc49fa",
   "metadata": {},
   "outputs": [],
   "source": []
  },
  {
   "cell_type": "code",
   "execution_count": null,
   "id": "f1c8fd5f-d5ab-45f1-854e-f2b44ce9f14a",
   "metadata": {},
   "outputs": [],
   "source": []
  },
  {
   "cell_type": "code",
   "execution_count": null,
   "id": "74424ff3-2860-4f15-8ec8-f9d8cc523724",
   "metadata": {},
   "outputs": [],
   "source": [
    "# Choosing particle to move and dimension to move it in\n",
    "idx = rand(state.rng, 1:system.dims * system.num)"
   ]
  },
  {
   "cell_type": "code",
   "execution_count": null,
   "id": "317a010b-5555-4e33-bb5f-c9be217c53e3",
   "metadata": {},
   "outputs": [],
   "source": [
    "# The direction and length to move the chosen particle\n",
    "move = Random.rand(state.rng, (-1.0, 1.0)) * metro.step_length"
   ]
  },
  {
   "cell_type": "code",
   "execution_count": null,
   "id": "df05ab25-344e-4345-a46e-ed9d80227446",
   "metadata": {},
   "outputs": [],
   "source": [
    "# Compute the values needed to consider accepting the move\n",
    "state = consider!(state, system, idx, move);"
   ]
  },
  {
   "cell_type": "code",
   "execution_count": null,
   "id": "eeba4e8f-ab97-4b99-bedf-4236c4e035c2",
   "metadata": {},
   "outputs": [],
   "source": [
    "state.metro_m.ratio"
   ]
  },
  {
   "cell_type": "code",
   "execution_count": null,
   "id": "df8130ec-85fd-412d-8813-7ccc7dff7d69",
   "metadata": {},
   "outputs": [],
   "source": [
    "accept!(state, system)"
   ]
  },
  {
   "cell_type": "code",
   "execution_count": null,
   "id": "51ce3962-48b4-4b99-bb71-f11852ab0364",
   "metadata": {},
   "outputs": [],
   "source": [
    "state.positions"
   ]
  },
  {
   "cell_type": "code",
   "execution_count": null,
   "id": "17994f4e-df60-41e1-8fd3-1748bf76f00d",
   "metadata": {},
   "outputs": [],
   "source": [
    "state = SampledState(system, metro, scheme, state)"
   ]
  },
  {
   "cell_type": "code",
   "execution_count": null,
   "id": "21c9a0c1-4169-48dd-8959-3590dbf2c197",
   "metadata": {},
   "outputs": [],
   "source": [
    "rng = Random.MersenneTwister()"
   ]
  },
  {
   "cell_type": "code",
   "execution_count": null,
   "id": "09f14723-d6c1-49e9-85dc-6a0c2d00db6f",
   "metadata": {},
   "outputs": [],
   "source": [
    "function test(positions, wf, kin)\n",
    "    kin = kinetic(positions, wf)\n",
    "end"
   ]
  },
  {
   "cell_type": "code",
   "execution_count": null,
   "id": "161ab9b5-917a-47fa-aaa1-49c64a4f31e6",
   "metadata": {},
   "outputs": [],
   "source": [
    "positions = Random.rand(rng, 10);\n",
    "\n",
    "@time kinetic(positions, wf)"
   ]
  },
  {
   "cell_type": "code",
   "execution_count": null,
   "id": "ac4a799e-8297-494c-9439-c37700cc76d3",
   "metadata": {},
   "outputs": [],
   "source": []
  },
  {
   "cell_type": "code",
   "execution_count": 246,
   "id": "7cc41372-10ad-4e43-a0df-d15ace4a3b69",
   "metadata": {},
   "outputs": [
    {
     "data": {
      "text/plain": [
       "7"
      ]
     },
     "execution_count": 246,
     "metadata": {},
     "output_type": "execute_result"
    }
   ],
   "source": [
    "idx = 9\n",
    "\n"
   ]
  },
  {
   "cell_type": "code",
   "execution_count": null,
   "id": "a7a830e0-bd63-4be9-bd8b-733c99b4c4eb",
   "metadata": {},
   "outputs": [
    {
     "data": {
      "text/plain": [
       "test1 (generic function with 2 methods)"
      ]
     },
     "execution_count": 135,
     "metadata": {},
     "output_type": "execute_result"
    }
   ],
   "source": [
    "function test1(dims, num)\n",
    "    idx = Random.rand(1:dims*num)\n",
    "    dim = (idx-1)%dims + 1\n",
    "\n",
    "    start_idx = idx-dim+1\n",
    "    return start_idx:start_idx+dims-1\n",
    "end"
   ]
  },
  {
   "cell_type": "code",
   "execution_count": null,
   "id": "28f129ad-22de-4e3d-9f8f-263ae9dfb12c",
   "metadata": {},
   "outputs": [
    {
     "data": {
      "text/plain": [
       "test2 (generic function with 1 method)"
      ]
     },
     "execution_count": 136,
     "metadata": {},
     "output_type": "execute_result"
    }
   ],
   "source": [
    "function test2(dims, num)\n",
    "    particle = Random.rand(1:num)\n",
    "    dim = Random.rand(1:num)\n",
    "\n",
    "    start_idx = (particle-1)*dims + 1\n",
    "    return start_idx:start_idx+dims-1\n",
    "end"
   ]
  }
 ],
 "metadata": {
  "kernelspec": {
   "display_name": "Julia 1.6.2",
   "language": "julia",
   "name": "julia-1.6"
  },
  "language_info": {
   "file_extension": ".jl",
   "mimetype": "application/julia",
   "name": "julia",
   "version": "1.6.2"
  }
 },
 "nbformat": 4,
 "nbformat_minor": 5
}
