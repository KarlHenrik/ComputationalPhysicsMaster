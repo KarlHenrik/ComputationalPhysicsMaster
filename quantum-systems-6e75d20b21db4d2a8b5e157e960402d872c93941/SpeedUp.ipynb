{
 "cells": [
  {
   "cell_type": "code",
   "execution_count": 1,
   "id": "a7142f0f-14b7-4461-b084-0de31044441b",
   "metadata": {},
   "outputs": [],
   "source": [
    "import numpy as np\n",
    "\n",
    "from numba import njit\n",
    "\n",
    "from quantum_systems.quantum_dots.one_dim.one_dim_qd import ODQD"
   ]
  },
  {
   "cell_type": "code",
   "execution_count": 3,
   "id": "db86c683-ab63-4f21-a131-1f8ce4423e10",
   "metadata": {},
   "outputs": [
    {
     "name": "stdout",
     "output_type": "stream",
     "text": [
      "CPU times: user 4.3 s, sys: 250 ms, total: 4.55 s\n",
      "Wall time: 1.43 s\n"
     ]
    }
   ],
   "source": [
    "%%time\n",
    "l_0 = 10                # number of basis functions\n",
    "grid_length = 10        # compute from x = -10 to x = 10 in 1D\n",
    "num_grid_points = 2001\n",
    "omega = 0.25            # strength of harmonic oscillator potential\n",
    "n = 2                   # number of particles\n",
    "\n",
    "# this sets up the harmonic oscillator basis functions and integrals between them\n",
    "odho = ODQD(l_0, grid_length, num_grid_points, a = 0.25, alpha = 1, potential = ODQD.HOPotential(omega))"
   ]
  },
  {
   "cell_type": "code",
   "execution_count": null,
   "id": "2cc5626d-c0c2-4d9e-a61c-defa04adfede",
   "metadata": {},
   "outputs": [],
   "source": [
    "First run: Wall time: 2.94 s\n",
    "\n",
    "Second run: Wall time: 1.91 s"
   ]
  },
  {
   "cell_type": "code",
   "execution_count": null,
   "id": "7c82d058-b37c-46a7-b077-bd9aaaaa40c9",
   "metadata": {},
   "outputs": [],
   "source": [
    "First run: Wall time: 2.59 s\n",
    "\n",
    "Second run: Wall time: 1.43 s"
   ]
  }
 ],
 "metadata": {
  "kernelspec": {
   "display_name": "Python 3 (ipykernel)",
   "language": "python",
   "name": "python3"
  },
  "language_info": {
   "codemirror_mode": {
    "name": "ipython",
    "version": 3
   },
   "file_extension": ".py",
   "mimetype": "text/x-python",
   "name": "python",
   "nbconvert_exporter": "python",
   "pygments_lexer": "ipython3",
   "version": "3.7.4"
  }
 },
 "nbformat": 4,
 "nbformat_minor": 5
}
