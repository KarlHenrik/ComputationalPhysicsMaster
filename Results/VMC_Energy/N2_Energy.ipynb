{
 "cells": [
  {
   "cell_type": "code",
   "execution_count": 4,
   "metadata": {},
   "outputs": [
    {
     "name": "stderr",
     "output_type": "stream",
     "text": [
      "\u001b[32m\u001b[1m  Activating\u001b[22m\u001b[39m project at `C:\\Users\\KarlH\\Desktop\\ComputationalPhysicsMaster\\OrbitalNeuralMethods`\n"
     ]
    }
   ],
   "source": [
    "using Pkg; Pkg.activate(\"C:\\\\Users\\\\KarlH\\\\Desktop\\\\ComputationalPhysicsMaster\\\\OrbitalNeuralMethods\")\n",
    "using Revise\n",
    "using OrbitalNeuralMethods\n",
    "import OrbitalNeuralMethods as onm"
   ]
  },
  {
   "cell_type": "code",
   "execution_count": 5,
   "metadata": {},
   "outputs": [],
   "source": [
    "n = 2\n",
    "ω = 0.25\n",
    "ham = HOCoulomb(ω, shielding = 0.25);\n",
    "\n",
    "l = 10\n",
    "basis = SpinBasis(HOBasis(l, ω))\n",
    "grid = [x for x in range(-10, stop = 10, length = 2001)]\n",
    "system = System(n, basis, grid, ham);\n",
    "\n",
    "rhf = RHF(system);\n",
    "rhf = compute_ground_state!(rhf, max_iter = 100, tol = 1e-10, verbose=0);\n",
    "slater = Slater(rhf);"
   ]
  },
  {
   "cell_type": "code",
   "execution_count": 6,
   "metadata": {},
   "outputs": [
    {
     "data": {
      "text/plain": [
       "energy_block (generic function with 1 method)"
      ]
     },
     "execution_count": 6,
     "metadata": {},
     "output_type": "execute_result"
    }
   ],
   "source": [
    "function energy_opt(wf, optimizer)\n",
    "    ham = HOCoulomb(0.25, shielding = 0.25);\n",
    "\n",
    "    metro = Importance(equils = 1e4, samples = 1e4, step = 0.01);\n",
    "    t = @elapsed wf_final, wf_opt, grad_results = optimize(wf, ham, metro, optimizer, nthreads = 12, verbose = true);\n",
    "    println(\"\\nGradient time: $(t) s\")\n",
    "    return wf_final, wf_opt\n",
    "end\n",
    "\n",
    "function energy_block(wf)\n",
    "    samples_b = 2^23\n",
    "    metro_b = Importance(equils = 1e6, samples = samples_b, step = 0.01);\n",
    "    t = @elapsed result = blocking(wf, ham, metro_b, nthreads = 12);\n",
    "    digits = Integer(-floor(log10(result.E_err)))\n",
    "    print(\"$(round(result.E, digits=digits)) ± $(round(result.E_err, digits=digits)), $(round((result.E - 0.8247)/0.8247, digits=digits))\")\n",
    "    println(\"\\nBlocking time: $(t) s\")\n",
    "end"
   ]
  },
  {
   "cell_type": "markdown",
   "metadata": {},
   "source": [
    "### 8"
   ]
  },
  {
   "cell_type": "code",
   "execution_count": 7,
   "metadata": {},
   "outputs": [
    {
     "name": "stdout",
     "output_type": "stream",
     "text": [
      "E = 0.830693 iter = 500/500                                      \n",
      "Gradient time: 23.3990929 s\n",
      "0.8314 ± 0.0003, 0.0082\n",
      "Blocking time: 6.3939591 s\n",
      "0.883 ± 0.002, 0.071\n",
      "Blocking time: 5.3279222 s\n"
     ]
    }
   ],
   "source": [
    "nn = NeuralNetwork([Dense(8), Tanh, Dense(1), Exp], n);\n",
    "wf = SlaterNN(slater, nn);\n",
    "optimizer = ADAM(wf, lr = 0.01, max_iter = 500, tol = 1e-6);\n",
    "\n",
    "wf8_final, wf8_opt = energy_opt(wf, optimizer);\n",
    "energy_block(wf8_final);\n",
    "energy_block(wf8_opt);"
   ]
  },
  {
   "cell_type": "markdown",
   "metadata": {},
   "source": [
    "### 16"
   ]
  },
  {
   "cell_type": "code",
   "execution_count": 8,
   "metadata": {},
   "outputs": [
    {
     "name": "stdout",
     "output_type": "stream",
     "text": [
      "E = 0.828267 iter = 500/500                                      \n",
      "Gradient time: 19.0896283 s\n",
      "0.8275 ± 0.0002, 0.0034\n",
      "Blocking time: 6.3423507 s\n",
      "0.862 ± 0.001, 0.045\n",
      "Blocking time: 6.1381013 s\n"
     ]
    }
   ],
   "source": [
    "nn = NeuralNetwork([Dense(16), Tanh, Dense(1), Exp], n);\n",
    "wf = SlaterNN(slater, nn);\n",
    "optimizer = ADAM(wf, lr = 0.01, max_iter = 500, tol = 1e-6);\n",
    "\n",
    "wf16_final, wf16_opt = energy_opt(wf, optimizer);\n",
    "energy_block(wf16_final);\n",
    "energy_block(wf16_opt);"
   ]
  },
  {
   "cell_type": "markdown",
   "metadata": {},
   "source": [
    "### 32"
   ]
  },
  {
   "cell_type": "code",
   "execution_count": 9,
   "metadata": {},
   "outputs": [
    {
     "name": "stdout",
     "output_type": "stream",
     "text": [
      "E = 0.82818 iter = 500/500                                       \n",
      "Gradient time: 23.5188022 s\n",
      "0.8317 ± 0.0002, 0.0084\n",
      "Blocking time: 8.165799 s\n",
      "0.849 ± 0.002, 0.029\n",
      "Blocking time: 7.9073383 s\n"
     ]
    }
   ],
   "source": [
    "nn = NeuralNetwork([Dense(32), Tanh, Dense(1), Exp], n);\n",
    "wf = SlaterNN(slater, nn);\n",
    "optimizer = ADAM(wf, lr = 0.01, max_iter = 500, tol = 1e-6);\n",
    "wf32_final, wf32_opt = energy_opt(wf, optimizer);\n",
    "energy_block(wf32_final);\n",
    "energy_block(wf32_opt);"
   ]
  },
  {
   "cell_type": "code",
   "execution_count": 10,
   "metadata": {},
   "outputs": [
    {
     "name": "stdout",
     "output_type": "stream",
     "text": [
      " 81.676279 seconds (2.43 k allocations: 11.001 GiB, 2.88% gc time)\n",
      "0.83157 ± 4.0e-5, 0.00833"
     ]
    }
   ],
   "source": [
    "samples_b = 2^27\n",
    "metro_b = Importance(equils = 1e6, samples = samples_b, step = 0.01);\n",
    "@time result = blocking(wf32_final, ham, metro_b, nthreads = 12);\n",
    "digits = Integer(-floor(log10(result.E_err)))\n",
    "print(\"$(round(result.E, digits=digits)) ± $(round(result.E_err, digits=digits)), $(round((result.E - 0.8247)/0.8247, digits=digits))\")"
   ]
  },
  {
   "cell_type": "markdown",
   "metadata": {},
   "source": [
    "### 48"
   ]
  },
  {
   "cell_type": "code",
   "execution_count": 14,
   "metadata": {},
   "outputs": [
    {
     "name": "stdout",
     "output_type": "stream",
     "text": [
      "E = 0.829947 iter = 500/500                                      \n",
      "Gradient time: 28.8671152 s\n",
      "0.8295 ± 0.0001, 0.0059\n",
      "Blocking time: 10.1108966 s\n",
      "0.837 ± 0.001, 0.015\n",
      "Blocking time: 9.6467209 s\n"
     ]
    }
   ],
   "source": [
    "nn = NeuralNetwork([Dense(48), Tanh, Dense(1), Exp], n);\n",
    "wf = SlaterNN(slater, nn);\n",
    "optimizer = ADAM(wf, lr = 0.01, max_iter = 500, tol = 1e-6);\n",
    "\n",
    "wf48_final, wf48_opt = energy_opt(wf, optimizer);\n",
    "energy_block(wf48_final);\n",
    "energy_block(wf48_opt);"
   ]
  },
  {
   "cell_type": "markdown",
   "metadata": {},
   "source": [
    "### 32 + 8"
   ]
  },
  {
   "cell_type": "code",
   "execution_count": 13,
   "metadata": {},
   "outputs": [
    {
     "name": "stdout",
     "output_type": "stream",
     "text": [
      "E = 0.864385 iter = 500/500                                      \n",
      "Gradient time: 32.3131536 s\n",
      "0.851 ± 0.0003, 0.0319\n",
      "Blocking time: 11.5121472 s\n",
      "0.868 ± 0.001, 0.053\n",
      "Blocking time: 11.300671 s\n"
     ]
    }
   ],
   "source": [
    "nn = NeuralNetwork([Dense(32), Tanh, Dense(8), Tanh, Dense(1), Exp], n);\n",
    "wf = SlaterNN(slater, nn);\n",
    "optimizer = ADAM(wf, lr = 0.01, max_iter = 500, tol = 1e-6);\n",
    "\n",
    "wf328_final, wf328_opt = energy_opt(wf, optimizer);\n",
    "energy_block(wf328_final);\n",
    "energy_block(wf328_opt);"
   ]
  }
 ],
 "metadata": {
  "kernelspec": {
   "display_name": "Julia (12 threads) 1.8.1",
   "language": "julia",
   "name": "julia-(12-threads)-1.8"
  },
  "language_info": {
   "file_extension": ".jl",
   "mimetype": "application/julia",
   "name": "julia",
   "version": "1.8.1"
  },
  "orig_nbformat": 4
 },
 "nbformat": 4,
 "nbformat_minor": 2
}
