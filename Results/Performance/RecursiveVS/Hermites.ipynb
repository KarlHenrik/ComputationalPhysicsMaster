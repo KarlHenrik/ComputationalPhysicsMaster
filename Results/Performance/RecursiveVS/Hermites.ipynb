{
 "cells": [
  {
   "cell_type": "code",
   "execution_count": 3,
   "metadata": {},
   "outputs": [
    {
     "name": "stderr",
     "output_type": "stream",
     "text": [
      "\u001b[32m\u001b[1m  Activating\u001b[22m\u001b[39m project at `C:\\Users\\KarlH\\Desktop\\ComputationalPhysicsMaster\\OrbitalNeuralMethods`\n"
     ]
    }
   ],
   "source": [
    "using Pkg; Pkg.activate(\"C:\\\\Users\\\\KarlH\\\\Desktop\\\\ComputationalPhysicsMaster\\\\OrbitalNeuralMethods\")\n",
    "using OrbitalNeuralMethods\n",
    "import OrbitalNeuralMethods as onm"
   ]
  },
  {
   "cell_type": "code",
   "execution_count": 4,
   "metadata": {},
   "outputs": [],
   "source": [
    "using BenchmarkTools"
   ]
  },
  {
   "cell_type": "code",
   "execution_count": 9,
   "metadata": {},
   "outputs": [
    {
     "data": {
      "text/plain": [
       "hermite (generic function with 1 method)"
      ]
     },
     "execution_count": 9,
     "metadata": {},
     "output_type": "execute_result"
    }
   ],
   "source": [
    "include(\"hermites.jl\")"
   ]
  },
  {
   "cell_type": "code",
   "execution_count": null,
   "metadata": {},
   "outputs": [],
   "source": [
    "# These lines of code print the source code for evaluating Hermite polynomials\n",
    "#=\n",
    "using Polynomials, SpecialPolynomials\n",
    "x = variable(Polynomial{Rational{Int}})\n",
    "\n",
    "using Polynomials, SpecialPolynomials\n",
    "x = variable(Polynomial{Rational{Int}})\n",
    "l = 10\n",
    "for i in 0:10-1\n",
    "    print(\"function H$i(x)\\n    $(basis(Hermite, i)(x))\\nend\\n\")\n",
    "end\n",
    "=#"
   ]
  },
  {
   "cell_type": "code",
   "execution_count": 5,
   "metadata": {},
   "outputs": [
    {
     "data": {
      "text/plain": [
       "eval_hers (generic function with 1 method)"
      ]
     },
     "execution_count": 5,
     "metadata": {},
     "output_type": "execute_result"
    }
   ],
   "source": [
    "hers = zeros(10)\n",
    "function eval_hers(x, hers)\n",
    "    for i in 0:9\n",
    "        hers[i+1] = hermite(x, i)\n",
    "    end\n",
    "    return hers\n",
    "end"
   ]
  },
  {
   "cell_type": "code",
   "execution_count": 7,
   "metadata": {},
   "outputs": [
    {
     "data": {
      "text/plain": [
       "3.0"
      ]
     },
     "execution_count": 7,
     "metadata": {},
     "output_type": "execute_result"
    }
   ],
   "source": [
    "x = 3.0"
   ]
  },
  {
   "cell_type": "code",
   "execution_count": 10,
   "metadata": {},
   "outputs": [
    {
     "name": "stdout",
     "output_type": "stream",
     "text": [
      "  543.850 ns (19 allocations: 304 bytes)\n"
     ]
    }
   ],
   "source": [
    "@btime eval_hers(x, hers);"
   ]
  },
  {
   "cell_type": "code",
   "execution_count": 71,
   "metadata": {},
   "outputs": [],
   "source": [
    "ho = HOBasis(10, 0.25);\n",
    "\n",
    "hos = zeros(10)\n",
    "@btime onm.evaluate!(hos, 5, ho);\n",
    "@btime onm.fast_ho_all!(5, ho::HOBasis);"
   ]
  },
  {
   "cell_type": "code",
   "execution_count": 80,
   "metadata": {},
   "outputs": [
    {
     "data": {
      "text/plain": [
       "evaluate_Hermite! (generic function with 1 method)"
      ]
     },
     "execution_count": 80,
     "metadata": {},
     "output_type": "execute_result"
    }
   ],
   "source": [
    "function evaluate_Hermite!(hermites, x)\n",
    "    hermites[1] = 1.0\n",
    "    hermites[2] = 2x\n",
    "    @inbounds for n in 3:length(hermites)\n",
    "        hermites[n] = 2x * hermites[n-1] - 2(n - 2) * hermites[n-2]\n",
    "    end\n",
    "    return hermites\n",
    "end"
   ]
  },
  {
   "cell_type": "code",
   "execution_count": 86,
   "metadata": {},
   "outputs": [
    {
     "name": "stdout",
     "output_type": "stream",
     "text": [
      "  26.078 ns (0 allocations: 0 bytes)\n"
     ]
    },
    {
     "data": {
      "text/plain": [
       "10-element Vector{Float64}:\n",
       "       1.0\n",
       "       6.0\n",
       "      34.0\n",
       "     180.0\n",
       "     876.0\n",
       "    3816.0\n",
       "   14136.0\n",
       "   39024.0\n",
       "   36240.0\n",
       " -406944.0"
      ]
     },
     "execution_count": 86,
     "metadata": {},
     "output_type": "execute_result"
    }
   ],
   "source": [
    "hos = zeros(80);\n",
    "@btime evaluate_Hermite!(hos, x)"
   ]
  }
 ],
 "metadata": {
  "kernelspec": {
   "display_name": "Julia (12 threads) 1.8.1",
   "language": "julia",
   "name": "julia-(12-threads)-1.8"
  },
  "language_info": {
   "file_extension": ".jl",
   "mimetype": "application/julia",
   "name": "julia",
   "version": "1.8.1"
  },
  "orig_nbformat": 4
 },
 "nbformat": 4,
 "nbformat_minor": 2
}
