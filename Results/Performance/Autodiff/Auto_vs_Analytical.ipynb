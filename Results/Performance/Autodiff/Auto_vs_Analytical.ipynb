{
 "cells": [
  {
   "cell_type": "code",
   "execution_count": 38,
   "metadata": {},
   "outputs": [
    {
     "name": "stderr",
     "output_type": "stream",
     "text": [
      "WARNING: replacing module MLVMC.\n"
     ]
    }
   ],
   "source": [
    "include(\"Hovden_VMC/MLVMC.jl\")\n",
    "using .MLVMC\n",
    "using LinearAlgebra\n",
    "import .MLVMC.nn as nn_hvdn\n",
    "using BenchmarkTools"
   ]
  },
  {
   "cell_type": "code",
   "execution_count": 43,
   "metadata": {},
   "outputs": [],
   "source": [
    "positions = 0.5 * randn(Float64, (numParticles, numDimensions));"
   ]
  },
  {
   "cell_type": "code",
   "execution_count": 42,
   "metadata": {},
   "outputs": [],
   "source": [
    "hamiltonian = \"quantumDot\" # Use \"quantumDot\" or \"calogeroSutherland\" or \"bosons\"\n",
    "interactingParticles = true\n",
    "\n",
    "numParticles = 25\n",
    "numDimensions = 1\n",
    "harmonicOscillatorFrequency = 0.25\n",
    "numHiddenLayers = 32\n",
    "\n",
    "s = MLVMC.System(numParticles, numDimensions, hamiltonian, omega=harmonicOscillatorFrequency, interacting = interactingParticles)\n",
    "\n",
    "nnet = NN(s, numHiddenLayers, numHiddenLayers, \"sigmoid\");"
   ]
  },
  {
   "cell_type": "code",
   "execution_count": 45,
   "metadata": {},
   "outputs": [
    {
     "data": {
      "text/plain": [
       "kinetic_hovden (generic function with 1 method)"
      ]
     },
     "execution_count": 45,
     "metadata": {},
     "output_type": "execute_result"
    }
   ],
   "source": [
    "function kinetic_hovden(s, nnet)\n",
    "    nnpls.nnAnalyticalComputeGradient!(s, nnet);\n",
    "    return -0.5 * nnpls.nnAnalyticalComputeLaplacian!(nnet) / (-0.3718269050318206)\n",
    "end\n",
    "\n",
    "function kinetic_hovden_noGrad(s, nnet)\n",
    "    return -0.5 * nnpls.nnAnalyticalComputeLaplacian!(nnet) / (-0.3718269050318206)\n",
    "end"
   ]
  },
  {
   "cell_type": "code",
   "execution_count": 48,
   "metadata": {},
   "outputs": [
    {
     "name": "stdout",
     "output_type": "stream",
     "text": [
      "  12.200 μs (12 allocations: 1.12 KiB)\n"
     ]
    },
    {
     "data": {
      "text/plain": [
       "-1.6423748735125242e-7"
      ]
     },
     "execution_count": 48,
     "metadata": {},
     "output_type": "execute_result"
    }
   ],
   "source": [
    "psi = nn_hvdn.computePsi!(nnet, positions)\n",
    "\n",
    "@btime kinetic_hovden(s, nnet)\n",
    "@btime kinetic_hovden_clever(s, nnet)"
   ]
  },
  {
   "cell_type": "markdown",
   "metadata": {},
   "source": [
    "### Mine"
   ]
  },
  {
   "cell_type": "code",
   "execution_count": 49,
   "metadata": {},
   "outputs": [
    {
     "name": "stderr",
     "output_type": "stream",
     "text": [
      "\u001b[32m\u001b[1m  Activating\u001b[22m\u001b[39m project at `C:\\Users\\KarlH\\Desktop\\ComputationalPhysicsMaster\\Code\\OrbitalNeuralMethods`\n",
      "┌ Warning: Unable to use CUDA from artifacts: The artifact at C:\\Users\\KarlH\\.julia\\artifacts\\fd3b38cf5ade69a121c1ed6bc7a0a47f930ac0a1 is empty.\n",
      "│ This is probably caused by a failed download. Remove the directory and try again.\n",
      "└ @ CUDA.Deps C:\\Users\\KarlH\\.julia\\packages\\CUDA\\DfvRa\\deps\\bindeps.jl:84\n",
      "┌ Warning: Unable to use a local CUDA installation: Could not find the nvdisasm binary.\n",
      "│ If CUDA is installed, please make sure this binary is in your PATH.\n",
      "└ @ CUDA.Deps C:\\Users\\KarlH\\.julia\\packages\\CUDA\\DfvRa\\deps\\bindeps.jl:94\n"
     ]
    }
   ],
   "source": [
    "using Pkg; Pkg.activate(\"C:\\\\Users\\\\KarlH\\\\Desktop\\\\ComputationalPhysicsMaster\\\\OrbitalNeuralMethods\")\n",
    "using OrbitalNeuralMethods\n",
    "import OrbitalNeuralMethods as onm"
   ]
  },
  {
   "cell_type": "code",
   "execution_count": 50,
   "metadata": {},
   "outputs": [],
   "source": [
    "n = numParticles\n",
    "x = vec(position);"
   ]
  },
  {
   "cell_type": "code",
   "execution_count": 51,
   "metadata": {},
   "outputs": [
    {
     "data": {
      "text/plain": [
       "-1.2220616050330717"
      ]
     },
     "execution_count": 51,
     "metadata": {},
     "output_type": "execute_result"
    }
   ],
   "source": [
    "nn = NeuralNetwork([Dense(32), Sigmoid, Dense(32), Sigmoid, Dense(1)], n);\n",
    "\n",
    "nn.layers[1].W .= nnet.variationalParameter[1]\n",
    "nn.layers[1].b .= nnet.variationalParameter[2]\n",
    "nn.layers[3].W .= nnet.variationalParameter[3]\n",
    "nn.layers[3].b .= nnet.variationalParameter[4]\n",
    "nn.layers[5].W .= nnet.variationalParameter[5]\n",
    "nn.layers[5].b .= nnet.variationalParameter[6]\n",
    "\n",
    "nn.old_output[1]= onm.model!(nn, x)[1]"
   ]
  },
  {
   "cell_type": "code",
   "execution_count": 53,
   "metadata": {},
   "outputs": [
    {
     "name": "stdout",
     "output_type": "stream",
     "text": [
      "  22.400 μs (1 allocation: 16 bytes)\n"
     ]
    },
    {
     "data": {
      "text/plain": [
       "-4.99712259680774e-8"
      ]
     },
     "execution_count": 53,
     "metadata": {},
     "output_type": "execute_result"
    }
   ],
   "source": [
    "@btime onm.kinetic(x, nn)"
   ]
  }
 ],
 "metadata": {
  "kernelspec": {
   "display_name": "Julia (12 threads) 1.8.1",
   "language": "julia",
   "name": "julia-(12-threads)-1.8"
  },
  "language_info": {
   "file_extension": ".jl",
   "mimetype": "application/julia",
   "name": "julia",
   "version": "1.8.1"
  },
  "orig_nbformat": 4
 },
 "nbformat": 4,
 "nbformat_minor": 2
}
