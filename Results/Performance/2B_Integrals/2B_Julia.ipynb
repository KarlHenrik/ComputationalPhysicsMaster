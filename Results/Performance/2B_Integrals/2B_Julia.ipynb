{
 "cells": [
  {
   "cell_type": "code",
   "execution_count": 2,
   "metadata": {},
   "outputs": [
    {
     "name": "stderr",
     "output_type": "stream",
     "text": [
      "\u001b[32m\u001b[1m  Activating\u001b[22m\u001b[39m project at `C:\\Users\\KarlH\\Desktop\\ComputationalPhysicsMaster\\Code\\OrbitalNeuralMethods`\n"
     ]
    },
    {
     "data": {
      "text/plain": [
       "Plots.PyPlotBackend()"
      ]
     },
     "execution_count": 2,
     "metadata": {},
     "output_type": "execute_result"
    }
   ],
   "source": [
    "using Pkg; Pkg.activate(\"C:\\\\Users\\\\KarlH\\\\Desktop\\\\ComputationalPhysicsMaster\\\\Code\\\\OrbitalNeuralMethods\")\n",
    "using Revise\n",
    "using OrbitalNeuralMethods\n",
    "using Plots; pyplot()"
   ]
  },
  {
   "cell_type": "code",
   "execution_count": 3,
   "metadata": {},
   "outputs": [
    {
     "data": {
      "text/plain": [
       "system_timing (generic function with 1 method)"
      ]
     },
     "execution_count": 3,
     "metadata": {},
     "output_type": "execute_result"
    }
   ],
   "source": [
    "function system_timing(n, l)\n",
    "    ω = 0.25\n",
    "    ham = HOCoulomb(ω, shielding = 0.25);\n",
    "    basis = SpinBasis(HOBasis(l, ω))\n",
    "    grid = [x for x in range(-10, stop = 10, length = 2001)];\n",
    "\n",
    "    basis = SpinBasis(HOBasis(l, ω))\n",
    "    system = System(n, basis, grid, ham);\n",
    "end"
   ]
  },
  {
   "cell_type": "code",
   "execution_count": 7,
   "metadata": {},
   "outputs": [],
   "source": [
    "n = 2\n",
    "ls = [10, 15, 20, 25, 30, 40, 50, 60]\n",
    "timings = []\n",
    "for l in ls\n",
    "    t = @elapsed system_timing(n, l)\n",
    "    push!(timings, t)\n",
    "end"
   ]
  },
  {
   "cell_type": "code",
   "execution_count": 1,
   "metadata": {},
   "outputs": [],
   "source": [
    "old_py_timings = [2.535578727722168, 3.9249420166015625, 7.124464511871338, 11.861149549484253, 18.750235557556152, 41.8593065738678, 83.07321524620056, 149.7788336277008];\n",
    "py_timings = [1.4262003898620605, 2.580925703048706, 5.000466346740723, 8.725608825683594, 14.168058633804321, 33.649773836135864, 69.72981882095337, 132.9937698841095];"
   ]
  },
  {
   "cell_type": "code",
   "execution_count": 10,
   "metadata": {},
   "outputs": [
    {
     "data": {
      "text/plain": [
       "6"
      ]
     },
     "execution_count": 10,
     "metadata": {},
     "output_type": "execute_result"
    }
   ],
   "source": [
    "accept = sum([i for i in [1,2,3]])"
   ]
  },
  {
   "cell_type": "code",
   "execution_count": 8,
   "metadata": {},
   "outputs": [
    {
     "name": "stdout",
     "output_type": "stream",
     "text": [
      "10 & 0.02 & 1.43 \\\\\n",
      "\\hline\n",
      "15 & 0.05 & 2.58 \\\\\n",
      "\\hline\n",
      "20 & 0.1 & 5.0 \\\\\n",
      "\\hline\n",
      "25 & 0.18 & 8.73 \\\\\n",
      "\\hline\n",
      "30 & 0.29 & 14.17 \\\\\n",
      "\\hline\n",
      "40 & 0.98 & 33.65 \\\\\n",
      "\\hline\n",
      "50 & 1.64 & 69.73 \\\\\n",
      "\\hline\n",
      "60 & 3.1 & 132.99 \\\\\n",
      "\\hline\n"
     ]
    }
   ],
   "source": [
    "for i in eachindex(ls)\n",
    "    println(\"$(ls[i]) & $(round(timings[i], digits=2)) & $(round(py_timings[i], digits=2)) \\\\\\\\\")\n",
    "    println(\"\\\\hline\")\n",
    "end"
   ]
  },
  {
   "cell_type": "code",
   "execution_count": null,
   "metadata": {},
   "outputs": [],
   "source": []
  }
 ],
 "metadata": {
  "kernelspec": {
   "display_name": "Julia (12 threads) 1.8.1",
   "language": "julia",
   "name": "julia-(12-threads)-1.8"
  },
  "language_info": {
   "file_extension": ".jl",
   "mimetype": "application/julia",
   "name": "julia",
   "version": "1.8.1"
  }
 },
 "nbformat": 4,
 "nbformat_minor": 4
}
