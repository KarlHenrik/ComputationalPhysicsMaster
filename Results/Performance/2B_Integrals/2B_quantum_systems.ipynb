{
 "cells": [
  {
   "cell_type": "code",
   "execution_count": 1,
   "id": "2886f885-8996-4520-9f42-6d8dd7da8e83",
   "metadata": {},
   "outputs": [],
   "source": [
    "import time\n",
    "import quantum_systems as qs\n",
    "import matplotlib.pyplot as plt"
   ]
  },
  {
   "cell_type": "code",
   "execution_count": 3,
   "id": "0045e993-04dd-4b21-a1b0-ba0ad86cd8d1",
   "metadata": {},
   "outputs": [],
   "source": [
    "def system_timing(n, l_0):\n",
    "    grid_length = 10        # compute from x = -10 to x = 10 in 1D\n",
    "    num_grid_points = 2001\n",
    "    omega = 0.25            # strength of harmonic oscillator potential\n",
    "    \n",
    "    odho = qs.ODQD(l_0, grid_length, num_grid_points, a = 0.25, alpha = 1)\n",
    "    system = qs.GeneralOrbitalSystem(n = n, basis_set=odho)"
   ]
  },
  {
   "cell_type": "code",
   "execution_count": 10,
   "id": "236bbf39-fb10-42fa-b747-614056b6634d",
   "metadata": {},
   "outputs": [],
   "source": [
    "n = 2                   # number of particles\n",
    "times = []\n",
    "ls = [10, 15, 20, 25, 30, 40, 50, 60]\n",
    "\n",
    "for l in ls:\n",
    "    start = time.time()\n",
    "    system_timing(n, l)\n",
    "    end = time.time()\n",
    "    times.append(end-start)"
   ]
  },
  {
   "cell_type": "code",
   "execution_count": 14,
   "id": "4b71851e-572a-4265-b76b-2fa9673396b6",
   "metadata": {},
   "outputs": [],
   "source": [
    "times = [1.4262003898620605, 2.580925703048706, 5.000466346740723, 8.725608825683594, 14.168058633804321, 33.649773836135864, 69.72981882095337, 132.9937698841095]"
   ]
  },
  {
   "cell_type": "code",
   "execution_count": 5,
   "id": "0e6c01fe-c8d4-4094-aa19-53ebee135fbf",
   "metadata": {},
   "outputs": [],
   "source": [
    "# The times before my optimization\n",
    "old_times = [2.535578727722168, 3.9249420166015625, 7.124464511871338, 11.861149549484253, 18.750235557556152, 41.8593065738678, 83.07321524620056, 149.7788336277008]"
   ]
  }
 ],
 "metadata": {
  "kernelspec": {
   "display_name": "VPython",
   "language": "python",
   "name": "vpython"
  },
  "language_info": {
   "codemirror_mode": {
    "name": "ipython",
    "version": 3
   },
   "file_extension": ".py",
   "mimetype": "text/x-python",
   "name": "python",
   "nbconvert_exporter": "python",
   "pygments_lexer": "ipython3",
   "version": "3.8.8"
  }
 },
 "nbformat": 4,
 "nbformat_minor": 5
}
