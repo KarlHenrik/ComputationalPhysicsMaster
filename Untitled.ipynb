{
 "cells": [
  {
   "cell_type": "code",
   "execution_count": null,
   "id": "7f59ca9d-4391-4040-a2f5-aba8a0cf963d",
   "metadata": {},
   "outputs": [],
   "source": []
  },
  {
   "cell_type": "code",
   "execution_count": 49,
   "id": "bf0c39b1-a3d0-4350-adc8-1e2ee7481927",
   "metadata": {},
   "outputs": [
    {
     "ename": "LoadError",
     "evalue": "AssertionError: hey-33.33333333333333",
     "output_type": "error",
     "traceback": [
      "AssertionError: hey-33.33333333333333",
      "",
      "Stacktrace:",
      " [1] top-level scope",
      "   @ .\\In[49]:3",
      " [2] eval",
      "   @ .\\boot.jl:360 [inlined]",
      " [3] include_string(mapexpr::typeof(REPL.softscope), mod::Module, code::String, filename::String)",
      "   @ Base .\\loading.jl:1116"
     ]
    }
   ],
   "source": [
    "a = 1/3\n",
    "for i in -100:100\n",
    "    @assert a * i % a == 0 \"hey$(i*a)\"\n",
    "end"
   ]
  },
  {
   "cell_type": "code",
   "execution_count": 2,
   "id": "26bcc582-dd23-488c-9bdb-9faf237116a6",
   "metadata": {},
   "outputs": [],
   "source": [
    "using BenchmarkTools: @btime"
   ]
  },
  {
   "cell_type": "code",
   "execution_count": 33,
   "id": "c5b6df91-da62-4554-a072-e72b1e57ec42",
   "metadata": {},
   "outputs": [
    {
     "data": {
      "text/plain": [
       "0.5"
      ]
     },
     "execution_count": 33,
     "metadata": {},
     "output_type": "execute_result"
    }
   ],
   "source": [
    "0.5 + 0.1 - 0.1"
   ]
  },
  {
   "cell_type": "code",
   "execution_count": 15,
   "id": "c427919c-7206-4388-af9c-5ccf0e4ff19d",
   "metadata": {},
   "outputs": [
    {
     "data": {
      "text/plain": [
       "0.3333333333333333"
      ]
     },
     "execution_count": 15,
     "metadata": {},
     "output_type": "execute_result"
    }
   ],
   "source": [
    "a = 1//3\n",
    "b = 0.214512\n",
    "c = 1/3"
   ]
  },
  {
   "cell_type": "code",
   "execution_count": 30,
   "id": "b8850e90-deb5-4c17-aaad-2b450bbd0f92",
   "metadata": {},
   "outputs": [
    {
     "name": "stdout",
     "output_type": "stream",
     "text": [
      "  26.660 ns (1 allocation: 16 bytes)\n"
     ]
    },
    {
     "data": {
      "text/plain": [
       "0.071504"
      ]
     },
     "execution_count": 30,
     "metadata": {},
     "output_type": "execute_result"
    }
   ],
   "source": [
    "@btime c * b"
   ]
  },
  {
   "cell_type": "code",
   "execution_count": 29,
   "id": "81aab9e7-7a2c-4e19-bf1d-250130fa6570",
   "metadata": {},
   "outputs": [
    {
     "name": "stdout",
     "output_type": "stream",
     "text": [
      "  30.553 ns (1 allocation: 16 bytes)\n"
     ]
    },
    {
     "data": {
      "text/plain": [
       "0.071504"
      ]
     },
     "execution_count": 29,
     "metadata": {},
     "output_type": "execute_result"
    }
   ],
   "source": [
    "@btime a * b"
   ]
  },
  {
   "cell_type": "code",
   "execution_count": null,
   "id": "f7d4a014-de66-4f9c-ac13-b0c54f3dd746",
   "metadata": {},
   "outputs": [],
   "source": []
  }
 ],
 "metadata": {
  "kernelspec": {
   "display_name": "Julia 1.6.2",
   "language": "julia",
   "name": "julia-1.6"
  },
  "language_info": {
   "file_extension": ".jl",
   "mimetype": "application/julia",
   "name": "julia",
   "version": "1.6.2"
  }
 },
 "nbformat": 4,
 "nbformat_minor": 5
}
