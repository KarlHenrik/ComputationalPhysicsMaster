{
 "cells": [
  {
   "cell_type": "code",
   "execution_count": 161,
   "metadata": {},
   "outputs": [],
   "source": [
    "import numpy as np\n",
    "import matplotlib.pyplot as plt\n",
    "import pandas as pd"
   ]
  },
  {
   "cell_type": "code",
   "execution_count": 182,
   "metadata": {},
   "outputs": [],
   "source": [
    "csv_file = 'Results/td7.txt'\n",
    "df = pd.read_csv(csv_file, delim_whitespace=True)\n",
    "\n",
    "x = df[\"x\"]\n",
    "u_sol = df[\"u_solution\"]\n",
    "u_exact = df[\"u_analytical\"]\n",
    "log10relErr = df[\"log10(relErr)\"]"
   ]
  },
  {
   "cell_type": "code",
   "execution_count": 183,
   "metadata": {},
   "outputs": [
    {
     "data": {
      "text/html": [
       "<div>\n",
       "<style scoped>\n",
       "    .dataframe tbody tr th:only-of-type {\n",
       "        vertical-align: middle;\n",
       "    }\n",
       "\n",
       "    .dataframe tbody tr th {\n",
       "        vertical-align: top;\n",
       "    }\n",
       "\n",
       "    .dataframe thead th {\n",
       "        text-align: right;\n",
       "    }\n",
       "</style>\n",
       "<table border=\"1\" class=\"dataframe\">\n",
       "  <thead>\n",
       "    <tr style=\"text-align: right;\">\n",
       "      <th></th>\n",
       "      <th>x</th>\n",
       "      <th>u_solution</th>\n",
       "      <th>u_analytical</th>\n",
       "      <th>log10(relErr)</th>\n",
       "    </tr>\n",
       "  </thead>\n",
       "  <tbody>\n",
       "    <tr>\n",
       "      <th>0</th>\n",
       "      <td>1.000000e-07</td>\n",
       "      <td>9.000041e-07</td>\n",
       "      <td>9.000041e-07</td>\n",
       "      <td>-11.015139</td>\n",
       "    </tr>\n",
       "    <tr>\n",
       "      <th>1</th>\n",
       "      <td>2.000000e-07</td>\n",
       "      <td>1.800007e-06</td>\n",
       "      <td>1.800007e-06</td>\n",
       "      <td>-11.012864</td>\n",
       "    </tr>\n",
       "    <tr>\n",
       "      <th>2</th>\n",
       "      <td>3.000000e-07</td>\n",
       "      <td>2.700009e-06</td>\n",
       "      <td>2.700009e-06</td>\n",
       "      <td>-11.012889</td>\n",
       "    </tr>\n",
       "    <tr>\n",
       "      <th>3</th>\n",
       "      <td>4.000000e-07</td>\n",
       "      <td>3.600011e-06</td>\n",
       "      <td>3.600011e-06</td>\n",
       "      <td>-11.013865</td>\n",
       "    </tr>\n",
       "    <tr>\n",
       "      <th>4</th>\n",
       "      <td>5.000001e-07</td>\n",
       "      <td>4.500011e-06</td>\n",
       "      <td>4.500011e-06</td>\n",
       "      <td>-11.013354</td>\n",
       "    </tr>\n",
       "    <tr>\n",
       "      <th>...</th>\n",
       "      <td>...</td>\n",
       "      <td>...</td>\n",
       "      <td>...</td>\n",
       "      <td>...</td>\n",
       "    </tr>\n",
       "    <tr>\n",
       "      <th>9999993</th>\n",
       "      <td>9.999995e-01</td>\n",
       "      <td>4.997503e-07</td>\n",
       "      <td>4.997503e-07</td>\n",
       "      <td>-10.225039</td>\n",
       "    </tr>\n",
       "    <tr>\n",
       "      <th>9999994</th>\n",
       "      <td>9.999996e-01</td>\n",
       "      <td>3.998003e-07</td>\n",
       "      <td>3.998003e-07</td>\n",
       "      <td>-10.288315</td>\n",
       "    </tr>\n",
       "    <tr>\n",
       "      <th>9999995</th>\n",
       "      <td>9.999997e-01</td>\n",
       "      <td>2.998502e-07</td>\n",
       "      <td>2.998502e-07</td>\n",
       "      <td>-9.873879</td>\n",
       "    </tr>\n",
       "    <tr>\n",
       "      <th>9999996</th>\n",
       "      <td>9.999998e-01</td>\n",
       "      <td>1.999001e-07</td>\n",
       "      <td>1.999001e-07</td>\n",
       "      <td>-10.289647</td>\n",
       "    </tr>\n",
       "    <tr>\n",
       "      <th>9999997</th>\n",
       "      <td>9.999999e-01</td>\n",
       "      <td>9.995007e-08</td>\n",
       "      <td>9.995007e-08</td>\n",
       "      <td>-9.297941</td>\n",
       "    </tr>\n",
       "  </tbody>\n",
       "</table>\n",
       "<p>9999998 rows × 4 columns</p>\n",
       "</div>"
      ],
      "text/plain": [
       "                    x    u_solution  u_analytical  log10(relErr)\n",
       "0        1.000000e-07  9.000041e-07  9.000041e-07     -11.015139\n",
       "1        2.000000e-07  1.800007e-06  1.800007e-06     -11.012864\n",
       "2        3.000000e-07  2.700009e-06  2.700009e-06     -11.012889\n",
       "3        4.000000e-07  3.600011e-06  3.600011e-06     -11.013865\n",
       "4        5.000001e-07  4.500011e-06  4.500011e-06     -11.013354\n",
       "...               ...           ...           ...            ...\n",
       "9999993  9.999995e-01  4.997503e-07  4.997503e-07     -10.225039\n",
       "9999994  9.999996e-01  3.998003e-07  3.998003e-07     -10.288315\n",
       "9999995  9.999997e-01  2.998502e-07  2.998502e-07      -9.873879\n",
       "9999996  9.999998e-01  1.999001e-07  1.999001e-07     -10.289647\n",
       "9999997  9.999999e-01  9.995007e-08  9.995007e-08      -9.297941\n",
       "\n",
       "[9999998 rows x 4 columns]"
      ]
     },
     "execution_count": 183,
     "metadata": {},
     "output_type": "execute_result"
    }
   ],
   "source": [
    "df"
   ]
  },
  {
   "cell_type": "code",
   "execution_count": 184,
   "metadata": {},
   "outputs": [
    {
     "data": {
      "image/png": "[encoded data removed]",
      "text/plain": [
       "<Figure size 432x288 with 1 Axes>"
      ]
     },
     "metadata": {
      "needs_background": "light"
     },
     "output_type": "display_data"
    }
   ],
   "source": [
    "plt.plot(x, u_sol, label=\"Solution\")\n",
    "plt.plot(x, u_exact, label=\"Analytical\")\n",
    "plt.legend()\n",
    "plt.show()"
   ]
  },
  {
   "cell_type": "code",
   "execution_count": 189,
   "metadata": {},
   "outputs": [
    {
     "data": {
      "image/png": "[encoded data removed]",
      "text/plain": [
       "<Figure size 432x288 with 1 Axes>"
      ]
     },
     "metadata": {
      "needs_background": "light"
     },
     "output_type": "display_data"
    }
   ],
   "source": [
    "plt.plot(x, log10relErr)\n",
    "plt.ylim(-20, 0)\n",
    "plt.show()"
   ]
  },
  {
   "cell_type": "code",
   "execution_count": 187,
   "metadata": {},
   "outputs": [
    {
     "data": {
      "text/plain": [
       "-inf"
      ]
     },
     "execution_count": 187,
     "metadata": {},
     "output_type": "execute_result"
    }
   ],
   "source": [
    "np.amin(log10relErr)"
   ]
  },
  {
   "cell_type": "code",
   "execution_count": null,
   "metadata": {},
   "outputs": [],
   "source": []
  }
 ],
 "metadata": {
  "kernelspec": {
   "display_name": "Python 3",
   "language": "python",
   "name": "python3"
  },
  "language_info": {
   "codemirror_mode": {
    "name": "ipython",
    "version": 3
   },
   "file_extension": ".py",
   "mimetype": "text/x-python",
   "name": "python",
   "nbconvert_exporter": "python",
   "pygments_lexer": "ipython3",
   "version": "3.6.9"
  }
 },
 "nbformat": 4,
 "nbformat_minor": 4
}
