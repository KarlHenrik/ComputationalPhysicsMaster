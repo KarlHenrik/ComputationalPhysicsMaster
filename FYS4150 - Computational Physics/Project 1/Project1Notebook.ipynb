{
 "cells": [
  {
   "cell_type": "code",
   "execution_count": 1,
   "metadata": {},
   "outputs": [],
   "source": [
    "import numpy as np\n",
    "import matplotlib.pyplot as plt\n",
    "import pandas as pd"
   ]
  },
  {
   "cell_type": "code",
   "execution_count": 22,
   "metadata": {},
   "outputs": [
    {
     "data": {
      "text/html": [
       "<div>\n",
       "<style scoped>\n",
       "    .dataframe tbody tr th:only-of-type {\n",
       "        vertical-align: middle;\n",
       "    }\n",
       "\n",
       "    .dataframe tbody tr th {\n",
       "        vertical-align: top;\n",
       "    }\n",
       "\n",
       "    .dataframe thead th {\n",
       "        text-align: right;\n",
       "    }\n",
       "</style>\n",
       "<table border=\"1\" class=\"dataframe\">\n",
       "  <thead>\n",
       "    <tr style=\"text-align: right;\">\n",
       "      <th></th>\n",
       "      <th>x</th>\n",
       "      <th>u_solution</th>\n",
       "      <th>u_analytical</th>\n",
       "      <th>log10(relErr)</th>\n",
       "    </tr>\n",
       "  </thead>\n",
       "  <tbody>\n",
       "    <tr>\n",
       "      <th>0</th>\n",
       "      <td>0.000001</td>\n",
       "      <td>8.999995e-06</td>\n",
       "      <td>8.999995e-06</td>\n",
       "      <td>-11.605166</td>\n",
       "    </tr>\n",
       "    <tr>\n",
       "      <th>1</th>\n",
       "      <td>0.000002</td>\n",
       "      <td>1.799989e-05</td>\n",
       "      <td>1.799989e-05</td>\n",
       "      <td>-11.063166</td>\n",
       "    </tr>\n",
       "    <tr>\n",
       "      <th>2</th>\n",
       "      <td>0.000003</td>\n",
       "      <td>2.699969e-05</td>\n",
       "      <td>2.699969e-05</td>\n",
       "      <td>-11.181264</td>\n",
       "    </tr>\n",
       "    <tr>\n",
       "      <th>3</th>\n",
       "      <td>0.000004</td>\n",
       "      <td>3.599938e-05</td>\n",
       "      <td>3.599938e-05</td>\n",
       "      <td>-11.063218</td>\n",
       "    </tr>\n",
       "    <tr>\n",
       "      <th>4</th>\n",
       "      <td>0.000005</td>\n",
       "      <td>4.499898e-05</td>\n",
       "      <td>4.499898e-05</td>\n",
       "      <td>-11.130027</td>\n",
       "    </tr>\n",
       "    <tr>\n",
       "      <th>...</th>\n",
       "      <td>...</td>\n",
       "      <td>...</td>\n",
       "      <td>...</td>\n",
       "      <td>...</td>\n",
       "    </tr>\n",
       "    <tr>\n",
       "      <th>999994</th>\n",
       "      <td>0.999995</td>\n",
       "      <td>4.997503e-06</td>\n",
       "      <td>4.997503e-06</td>\n",
       "      <td>-10.830314</td>\n",
       "    </tr>\n",
       "    <tr>\n",
       "      <th>999995</th>\n",
       "      <td>0.999996</td>\n",
       "      <td>3.998002e-06</td>\n",
       "      <td>3.998002e-06</td>\n",
       "      <td>-11.035313</td>\n",
       "    </tr>\n",
       "    <tr>\n",
       "      <th>999996</th>\n",
       "      <td>0.999997</td>\n",
       "      <td>2.998502e-06</td>\n",
       "      <td>2.998502e-06</td>\n",
       "      <td>-10.432082</td>\n",
       "    </tr>\n",
       "    <tr>\n",
       "      <th>999997</th>\n",
       "      <td>0.999998</td>\n",
       "      <td>1.999001e-06</td>\n",
       "      <td>1.999001e-06</td>\n",
       "      <td>-10.432380</td>\n",
       "    </tr>\n",
       "    <tr>\n",
       "      <th>999998</th>\n",
       "      <td>0.999999</td>\n",
       "      <td>9.995006e-07</td>\n",
       "      <td>9.995006e-07</td>\n",
       "      <td>-10.431693</td>\n",
       "    </tr>\n",
       "  </tbody>\n",
       "</table>\n",
       "<p>999999 rows × 4 columns</p>\n",
       "</div>"
      ],
      "text/plain": [
       "               x    u_solution  u_analytical  log10(relErr)\n",
       "0       0.000001  8.999995e-06  8.999995e-06     -11.605166\n",
       "1       0.000002  1.799989e-05  1.799989e-05     -11.063166\n",
       "2       0.000003  2.699969e-05  2.699969e-05     -11.181264\n",
       "3       0.000004  3.599938e-05  3.599938e-05     -11.063218\n",
       "4       0.000005  4.499898e-05  4.499898e-05     -11.130027\n",
       "...          ...           ...           ...            ...\n",
       "999994  0.999995  4.997503e-06  4.997503e-06     -10.830314\n",
       "999995  0.999996  3.998002e-06  3.998002e-06     -11.035313\n",
       "999996  0.999997  2.998502e-06  2.998502e-06     -10.432082\n",
       "999997  0.999998  1.999001e-06  1.999001e-06     -10.432380\n",
       "999998  0.999999  9.995006e-07  9.995006e-07     -10.431693\n",
       "\n",
       "[999999 rows x 4 columns]"
      ]
     },
     "execution_count": 22,
     "metadata": {},
     "output_type": "execute_result"
    }
   ],
   "source": [
    "csv_file = 'Results/td6.txt'\n",
    "df = pd.read_csv(csv_file, delim_whitespace=True)\n",
    "\n",
    "x = df[\"x\"]\n",
    "u_sol = df[\"u_solution\"]\n",
    "u_exact = df[\"u_analytical\"]\n",
    "log10relErr = df[\"log10(relErr)\"]\n",
    "\n",
    "df"
   ]
  },
  {
   "cell_type": "code",
   "execution_count": 12,
   "metadata": {},
   "outputs": [
    {
     "data": {
      "image/png": "[encoded data removed]",
      "text/plain": [
       "<Figure size 432x288 with 1 Axes>"
      ]
     },
     "metadata": {
      "needs_background": "light"
     },
     "output_type": "display_data"
    }
   ],
   "source": [
    "plt.plot(x, u_sol, label=\"Solution\")\n",
    "plt.plot(x, u_exact, label=\"Analytical\")\n",
    "plt.legend()\n",
    "plt.show()"
   ]
  },
  {
   "cell_type": "code",
   "execution_count": 13,
   "metadata": {},
   "outputs": [
    {
     "data": {
      "image/png": "[encoded data removed]",
      "text/plain": [
       "<Figure size 432x288 with 1 Axes>"
      ]
     },
     "metadata": {
      "needs_background": "light"
     },
     "output_type": "display_data"
    }
   ],
   "source": [
    "plt.plot(x, log10relErr)\n",
    "plt.ylim(-20, 0)\n",
    "plt.show()"
   ]
  },
  {
   "cell_type": "code",
   "execution_count": 15,
   "metadata": {},
   "outputs": [
    {
     "data": {
      "text/plain": [
       "-10.431693"
      ]
     },
     "execution_count": 15,
     "metadata": {},
     "output_type": "execute_result"
    }
   ],
   "source": [
    "np.amax(log10relErr)"
   ]
  },
  {
   "cell_type": "code",
   "execution_count": null,
   "metadata": {},
   "outputs": [],
   "source": []
  }
 ],
 "metadata": {
  "kernelspec": {
   "display_name": "Python 3",
   "language": "python",
   "name": "python3"
  },
  "language_info": {
   "codemirror_mode": {
    "name": "ipython",
    "version": 3
   },
   "file_extension": ".py",
   "mimetype": "text/x-python",
   "name": "python",
   "nbconvert_exporter": "python",
   "pygments_lexer": "ipython3",
   "version": "3.7.7"
  }
 },
 "nbformat": 4,
 "nbformat_minor": 4
}
