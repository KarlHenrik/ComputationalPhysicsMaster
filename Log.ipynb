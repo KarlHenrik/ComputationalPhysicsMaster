{
 "cells": [
  {
   "cell_type": "markdown",
   "id": "dfd7043a-10a5-4555-bc45-7866c8c55163",
   "metadata": {},
   "source": [
    "### 1. august\n",
    "\n",
    "Fikk installert CC koden til Øyvind, og med hjelpa hans fikk ej kjørt den for å løse Zang ODQD systemet. Lærte at alpha mixer ikke funker så bra, og lærte derfor om DIIS, og har implementert dette for matrise-inputs.\n",
    "\n",
    "TODO få DIIS koden til å funke for 3D tensorer, ikke bare matriser. Har ikke prøvd dette enda.\n",
    "\n",
    "TODO få riktig energi og t amplituder ved setup. Det kan hende denne blir lavere enn eksakt. Bruk fock-matrisen!"
   ]
  },
  {
   "cell_type": "code",
   "execution_count": null,
   "id": "d235d814-9e58-47bc-8be5-030174c60396",
   "metadata": {},
   "outputs": [],
   "source": []
  }
 ],
 "metadata": {
  "kernelspec": {
   "display_name": "Julia (8 threads) 1.7.2",
   "language": "julia",
   "name": "julia-(8-threads)-1.7"
  },
  "language_info": {
   "file_extension": ".jl",
   "mimetype": "application/julia",
   "name": "julia",
   "version": "1.7.2"
  }
 },
 "nbformat": 4,
 "nbformat_minor": 5
}
