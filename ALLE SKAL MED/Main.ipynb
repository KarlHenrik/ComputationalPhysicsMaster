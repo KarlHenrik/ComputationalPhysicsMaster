{
 "cells": [
  {
   "cell_type": "code",
   "execution_count": null,
   "id": "585789a1-774d-4615-ab35-5c00a02dd739",
   "metadata": {},
   "outputs": [],
   "source": [
    "num = 2\n",
    "dim = 1\n",
    "ham = Pairing(g = 1)\n",
    "\n"
   ]
  },
  {
   "cell_type": "code",
   "execution_count": 1,
   "id": "76e73884-7e57-43cb-bc13-d839883cd84d",
   "metadata": {},
   "outputs": [],
   "source": [
    "struct Test\n",
    "    a\n",
    "    b\n",
    "    c\n",
    "    d\n",
    "end"
   ]
  },
  {
   "cell_type": "code",
   "execution_count": 2,
   "id": "966cefda-a5ac-4c2c-8e36-e2e183b36c19",
   "metadata": {},
   "outputs": [
    {
     "data": {
      "text/plain": [
       "Test(1, 2, 3, 4)"
      ]
     },
     "execution_count": 2,
     "metadata": {},
     "output_type": "execute_result"
    }
   ],
   "source": [
    "t = Test(1, 2, 3, 4)"
   ]
  },
  {
   "cell_type": "code",
   "execution_count": 4,
   "id": "71abf865-cea7-425f-bb75-93ec8c24c9f6",
   "metadata": {},
   "outputs": [
    {
     "ename": "LoadError",
     "evalue": "syntax: invalid assignment location \"; a, b, c, d\" around In[4]:2",
     "output_type": "error",
     "traceback": [
      "syntax: invalid assignment location \"; a, b, c, d\" around In[4]:2",
      "",
      "Stacktrace:",
      " [1] top-level scope",
      "   @ In[4]:1",
      " [2] eval",
      "   @ .\\boot.jl:360 [inlined]",
      " [3] include_string(mapexpr::typeof(REPL.softscope), mod::Module, code::String, filename::String)",
      "   @ Base .\\loading.jl:1116"
     ]
    }
   ],
   "source": [
    "function hey(t)\n",
    "    (; a, b, c, d) = t\n",
    "    print(a)\n",
    "end"
   ]
  },
  {
   "cell_type": "code",
   "execution_count": null,
   "id": "cc3f95ae-cc8d-49aa-bd19-79a57f921ba8",
   "metadata": {},
   "outputs": [],
   "source": []
  }
 ],
 "metadata": {
  "kernelspec": {
   "display_name": "Julia 1.6.2",
   "language": "julia",
   "name": "julia-1.6"
  },
  "language_info": {
   "file_extension": ".jl",
   "mimetype": "application/julia",
   "name": "julia",
   "version": "1.6.2"
  }
 },
 "nbformat": 4,
 "nbformat_minor": 5
}
