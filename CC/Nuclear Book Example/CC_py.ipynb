{
 "cells": [
  {
   "cell_type": "code",
   "execution_count": 1,
   "id": "32e0f67c-a1b3-4bc6-9a1b-fd92b389d0d7",
   "metadata": {},
   "outputs": [],
   "source": [
    "import numpy as np\n",
    "import matplotlib.pyplot as plt\n",
    "from numba import njit"
   ]
  },
  {
   "cell_type": "markdown",
   "id": "d6fd0de3-6c45-47cb-aa2b-6bb91b61ca64",
   "metadata": {},
   "source": [
    "## Integrals"
   ]
  },
  {
   "cell_type": "code",
   "execution_count": 2,
   "id": "7057477f-e7b7-4fd7-aa17-cef1425bcdcf",
   "metadata": {},
   "outputs": [],
   "source": [
    "def H_0(p, q):\n",
    "    \"\"\"\n",
    "    The one body part of the hamiltonian\n",
    "    \n",
    "    delta = 1\n",
    "    \"\"\"\n",
    "    if p == q:\n",
    "        p1, s2 = states[p]\n",
    "        return p1 - 1\n",
    "    else:\n",
    "        return 0"
   ]
  },
  {
   "cell_type": "code",
   "execution_count": 3,
   "id": "591fb675-e986-40e2-8db1-1b5cdfecf154",
   "metadata": {},
   "outputs": [],
   "source": [
    "def sp_energy(h, u):\n",
    "    SP_energy = np.zeros(l)\n",
    "    for q in range(l):\n",
    "        SP_energy[q] = h[q, q]\n",
    "        for i in range(n):\n",
    "            SP_energy[q] += u[q, i, q, i]\n",
    "    return SP_energy"
   ]
  },
  {
   "cell_type": "code",
   "execution_count": 4,
   "id": "3670d00b-f5d4-4012-9298-0f17354a5fe3",
   "metadata": {},
   "outputs": [],
   "source": [
    "def V(p,q,r,s,g):\n",
    "    p1, s1 = states[p]\n",
    "    p2, s2 = states[q]\n",
    "    p3, s3 = states[r]\n",
    "    p4, s4 = states[s]\n",
    "\n",
    "    if p1 != p2 or p3 != p4:\n",
    "        return 0\n",
    "    if s1 == s2 or s3 == s4:\n",
    "        return 0\n",
    "    if s1 == s3 and s2 == s4:\n",
    "        return -g/2\n",
    "    if s1 == s4 and s2 == s3:\n",
    "        return g/2"
   ]
  },
  {
   "cell_type": "code",
   "execution_count": 5,
   "id": "0894022e-569a-4ca2-9374-8f45fe41b517",
   "metadata": {},
   "outputs": [],
   "source": [
    "def get_integrals(g):\n",
    "    h = np.zeros((l, l))\n",
    "    u = np.zeros((l, l, l, l))\n",
    "\n",
    "    for p in range(l):\n",
    "        for q in range(l):\n",
    "            h[p, q] = H_0(p, q)\n",
    "\n",
    "            for r in range(l):\n",
    "                for s in range(l):\n",
    "                    u[p, q, r, s] = V(p, q, r, s, g)\n",
    "\n",
    "    SP_energy = sp_energy(h, u)        \n",
    "                    \n",
    "    return h, u, SP_energy"
   ]
  },
  {
   "cell_type": "code",
   "execution_count": 7,
   "id": "b9102e0d-63dc-45c6-97f8-8b7320e03521",
   "metadata": {},
   "outputs": [],
   "source": [
    "n = 4\n",
    "l = 8\n",
    "\n",
    "#        [(1, 1), (1, -1), (2, 1), (2, -1), (3, 1), (3, -1), (4, 1), (4, -1)]\n",
    "states = [(p//2 + 1, 1 if p%2==0 else -1) for p in range(l)]\n",
    "\n",
    "g_arr = np.linspace(-1, 1, 100)"
   ]
  },
  {
   "cell_type": "code",
   "execution_count": 8,
   "id": "6abf1c41-1cdb-44c0-871c-8b3af669ad7c",
   "metadata": {},
   "outputs": [],
   "source": [
    "g = 1\n",
    "h, u, SP_energy = get_integrals(g)"
   ]
  },
  {
   "cell_type": "markdown",
   "id": "b9fa42d3-f0ef-4f26-8046-c5597241aae3",
   "metadata": {},
   "source": [
    "## CCD Init and Energy"
   ]
  },
  {
   "cell_type": "code",
   "execution_count": 9,
   "id": "c63b8dd1-b004-4055-be84-5690b80242d3",
   "metadata": {},
   "outputs": [],
   "source": [
    "def init_CCD(u, SP_energy):\n",
    "    t = np.zeros((l, l, l, l))\n",
    "    for i in range(n):\n",
    "        for j in range(n):\n",
    "            for a in range(n, l):\n",
    "                for b in range(n, l):\n",
    "                    t[a, b, i, j] = u[a, b, i, j] / (SP_energy[i] + SP_energy[j] - SP_energy[a] - SP_energy[b])\n",
    "    return t"
   ]
  },
  {
   "cell_type": "code",
   "execution_count": 10,
   "id": "016d82bf-d767-42ac-bd60-823806bb8572",
   "metadata": {},
   "outputs": [],
   "source": [
    "def E_CCD(t, u):\n",
    "    e_tot = 0\n",
    "    for i in range(n):\n",
    "        for j in range(n):\n",
    "            for a in range(n, l):\n",
    "                for b in range(n, l):\n",
    "                    e_tot += u[i, j, a, b] * t[a, b, i, j]\n",
    "    return 0.25 * e_tot"
   ]
  },
  {
   "cell_type": "code",
   "execution_count": 11,
   "id": "a79e78c8-8064-4f95-a1b8-6ab54502c15b",
   "metadata": {},
   "outputs": [],
   "source": [
    "def MBPT2_e(u, SP_energy):\n",
    "    e = 0\n",
    "    for i in range(n):\n",
    "        for j in range(n):\n",
    "            for a in range(n, l):\n",
    "                for b in range(n, l):\n",
    "                    e += u[i, j, a, b] * u[a, b, i, j] / (SP_energy[i] + SP_energy[j] - SP_energy[a] - SP_energy[b])\n",
    "    return 0.25 * e"
   ]
  },
  {
   "cell_type": "code",
   "execution_count": 13,
   "id": "31aa0451-8477-4e90-9a0e-9b08b28d8b09",
   "metadata": {},
   "outputs": [],
   "source": [
    "ga = np.linspace(-1,1,20)\n",
    "mbpt2 = [-0.466666666666667, -0.349182847035464, -0.255689278272465, -0.181557193313316, -0.123412048501471, -0.0787163482561267, -0.0455115650210057, -0.0222520908928102, -0.00769472737749595, -0.000822937515997602, -0.000793561891960060, -0.00689846543830067, -0.0185363596456308, -0.0351917165544882, -0.0564187262319234, -0.0818289072434782, -0.111081407376344, -0.143875315926770, -0.179943501160728, -0.219047619047619]\n",
    "mbpt3 = [0.0488888888888889, -0.0316430818998829, -0.0653314223276869, -0.0721092071206414, -0.0642577496533054, -0.0495666500220538, -0.0330827101356087, -0.0181217847556307, -0.00687677135187049, -0.000795029103693348, -0.000819381146390719, -0.00754584419303519, -0.0213291046738017, -0.0423543929354630, -0.0706872722072964, -0.106308625103258, -0.149139543216922, -0.199059220049532, -0.255917926398189, -0.319546485260771]\n",
    "exact = [-0.22012986, -0.18119196, -0.14512971, -0.11221238, -0.08274543, -0.05707431, -0.03558758, -0.01871907, -0.00694793, -0.00079584, -0.00082013, -0.00760173, -0.02172721, -0.04376486, -0.07423605, -0.11358437, -0.16214629, -0.22012784, -0.2875909 , -0.36445153]\n"
   ]
  },
  {
   "cell_type": "code",
   "execution_count": 126,
   "id": "bf4a73cb-1550-4c80-a003-ed6911911fcc",
   "metadata": {},
   "outputs": [],
   "source": [
    "ccd_init = np.zeros(20)\n",
    "for i in range(20):\n",
    "    g = ga[i]\n",
    "    h, u, SP_energy = get_integrals(g)\n",
    "    t = init_CCD(u, SP_energy)\n",
    "    e = E_CCD(t, u)\n",
    "    ccd_init[i] = e"
   ]
  },
  {
   "cell_type": "code",
   "execution_count": 154,
   "id": "eee00d68-14ea-4e0b-9b3a-6a0292b3915a",
   "metadata": {},
   "outputs": [],
   "source": [
    "def analytical(g):\n",
    "    return -g**2 / 4 * ( 1 / (4+g) + 1/(6+g) + 1/(2+g) + 1/(4+g) )"
   ]
  },
  {
   "cell_type": "code",
   "execution_count": 159,
   "id": "b94efecd-c4f1-4f2e-a810-b1ada1f1dec1",
   "metadata": {},
   "outputs": [
    {
     "data": {
      "image/png": "[encoded data removed]",
      "text/plain": [
       "<Figure size 576x432 with 1 Axes>"
      ]
     },
     "metadata": {
      "needs_background": "light"
     },
     "output_type": "display_data"
    }
   ],
   "source": [
    "plt.figure(figsize = (8, 6))\n",
    "plt.plot(ga, exact, \"-*\", label=\"exact\")\n",
    "#plt.plot(ga, mbpt3, \"-*\", label=\"mbpt3\")\n",
    "plt.plot(ga, analytical(ga), \"-*\", label=\"mbpt2\")\n",
    "#plt.plot(ga, mbpt2, \"-*\", label=\"mbpt2\")\n",
    "#plt.plot(ga, ccd_init, \"-*\", label=\"ccd_init\")\n",
    "#plt.plot(ga, ccd_es, \"-*\", label=\"ccd_es\")\n",
    "\n",
    "plt.grid()\n",
    "plt.legend()\n",
    "plt.show()"
   ]
  },
  {
   "cell_type": "markdown",
   "id": "3542450a-d273-4709-aa44-3a6b334f0dc0",
   "metadata": {},
   "source": [
    "## CCD Update"
   ]
  },
  {
   "cell_type": "code",
   "execution_count": 152,
   "id": "83b2db01-31d3-407d-b70a-57f83df2d3e8",
   "metadata": {},
   "outputs": [],
   "source": [
    "ccd_es = np.zeros(20)\n",
    "for i in range(20):\n",
    "    g = ga[i]\n",
    "    h, u, SP_energy = get_integrals(g)\n",
    "    t = init_CCD(u, SP_energy)\n",
    "    \n",
    "    for j in range(10):\n",
    "        t = CCD_Update(t, u, SP_energy)\n",
    "    \n",
    "    e = E_CCD(t, u)\n",
    "    ccd_es[i] = e"
   ]
  },
  {
   "cell_type": "code",
   "execution_count": 135,
   "id": "81a60549-2668-48e8-af65-bcecdb993419",
   "metadata": {},
   "outputs": [],
   "source": [
    "g = ga[1]\n",
    "h, u, SP_energy = get_integrals(g)\n",
    "t = init_CCD(u, SP_energy)"
   ]
  },
  {
   "cell_type": "code",
   "execution_count": 136,
   "id": "879c753b-7087-4b02-947e-e1c2aaf77140",
   "metadata": {},
   "outputs": [
    {
     "data": {
      "text/plain": [
       "-0.349182847035464"
      ]
     },
     "execution_count": 136,
     "metadata": {},
     "output_type": "execute_result"
    }
   ],
   "source": [
    "mbpt2[1]"
   ]
  },
  {
   "cell_type": "code",
   "execution_count": 137,
   "id": "0b5712c8-08e2-484a-8e9d-000147568bf4",
   "metadata": {},
   "outputs": [
    {
     "data": {
      "text/plain": [
       "-0.3491828470354639"
      ]
     },
     "execution_count": 137,
     "metadata": {},
     "output_type": "execute_result"
    }
   ],
   "source": [
    "E_CCD(t, u)"
   ]
  },
  {
   "cell_type": "code",
   "execution_count": 138,
   "id": "d17e9b6e-feac-4b93-b612-5c12fee5fe4c",
   "metadata": {},
   "outputs": [
    {
     "data": {
      "text/plain": [
       "-0.1803062264968051"
      ]
     },
     "execution_count": 138,
     "metadata": {},
     "output_type": "execute_result"
    }
   ],
   "source": [
    "t = CCD_Update(t, u, SP_energy)\n",
    "E_CCD(t_old, u)"
   ]
  },
  {
   "cell_type": "code",
   "execution_count": 139,
   "id": "4ccb04aa-27b9-4c8e-9d2b-2e19e00871ea",
   "metadata": {},
   "outputs": [],
   "source": [
    "alpha = 0.5"
   ]
  },
  {
   "cell_type": "code",
   "execution_count": 151,
   "id": "05c82e63-c0ee-407f-b376-9dca14b7baca",
   "metadata": {},
   "outputs": [
    {
     "name": "stdout",
     "output_type": "stream",
     "text": [
      "Wall time: 45.5 ms\n"
     ]
    }
   ],
   "source": [
    "%%time\n",
    "t = CCD_Update(t, u, SP_energy)"
   ]
  },
  {
   "cell_type": "code",
   "execution_count": 148,
   "id": "a38ef14f-ec91-4d42-b681-ddc91afb606c",
   "metadata": {},
   "outputs": [],
   "source": [
    "def CCD_Update(t_old, u, SP_energy):\n",
    "    t_new = np.zeros((l, l, l, l))\n",
    "    for i in range(n):\n",
    "        for j in range(i+1, n):\n",
    "            for a in range(n, l):\n",
    "                for b in range(a+1, l):\n",
    "                    # Page 361 of An Advanced Course in Computational Physics\n",
    "                    s = 0\n",
    "\n",
    "                    s += u[a, b, i, j]\n",
    "\n",
    "                    for c in range(n, l):\n",
    "                        for d in range(n, l):\n",
    "                            s += 0.5 * u[a, b, c, d] * t_old[c, d, i, j]\n",
    "\n",
    "                    for k in range(n):\n",
    "                        for li in range(n):\n",
    "                            s += 0.5 * u[k, li, i, j] * t_old[a, b, k, li]\n",
    "\n",
    "                    for k in range(n):\n",
    "                        for c in range(n, l):\n",
    "                            s += u[k, b, c, j] * t_old[a, c, i, k] # 1\n",
    "                            s -= u[k, b, c, i] * t_old[a, c, j, k] # -Pij\n",
    "                            s -= u[k, a, c, j] * t_old[b, c, i, k] # -Pab\n",
    "                            s += u[k, a, c, i] * t_old[b, c, j, k] # Pij Pab\n",
    "\n",
    "                    for k in range(n):\n",
    "                        for li in range(n):\n",
    "                            for c in range(n, l):\n",
    "                                for d in range(n, l):\n",
    "                                    s += 0.25 * u[k, li, c, d] * t_old[c, d, i, j] * t_old[a, b, k, li]\n",
    "\n",
    "                                    s += u[k, li, c, d] * t_old[a, c, i, k] * t_old[b, d, j, li] # 1\n",
    "                                    s -= u[k, li, c, d] * t_old[a, c, j, k] * t_old[b, d, i, li] # -Pij\n",
    "\n",
    "                                    s -= 0.5 * u[k, li, c, d] * t_old[d, c, i, k] * t_old[a, b, li, j] # -1\n",
    "                                    s += 0.5 * u[k, li, c, d] * t_old[d, c, j, k] * t_old[a, b, li, i] # Pij\n",
    "\n",
    "                                    s -= 0.5 * u[k, li, c, d] * t_old[a, c, li, k] * t_old[d, b, i, j] # -1\n",
    "                                    s += 0.5 * u[k, li, c, d] * t_old[b, c, li, k] * t_old[d, a, i, j] # Pab\n",
    "\n",
    "                    energy_denom = SP_energy[i] + SP_energy[j] - SP_energy[a] - SP_energy[b]\n",
    "                    s = alpha * t_old[a, b, i, j] + (1- alpha) * s / energy_denom\n",
    "                    t_new[a, b, i, j] = s\n",
    "                    t_new[a, b, j, i] = -s\n",
    "                    t_new[b, a, i, j] = -s\n",
    "                    t_new[b, a, j, i] = s\n",
    "    return t_new"
   ]
  },
  {
   "cell_type": "code",
   "execution_count": 162,
   "id": "3fefb2ef-8ca1-46bf-a5c9-32481359e331",
   "metadata": {},
   "outputs": [],
   "source": [
    "def CCD_Update_Slow(t_old, u, SP_energy):\n",
    "    t_new = np.zeros((l, l, l, l))\n",
    "    for i in range(n):\n",
    "        for j in range(n):\n",
    "            for a in range(n, l):\n",
    "                for b in range(n, l):\n",
    "                    # Page 361 of An Advanced Course in Computational Physics\n",
    "                    s = 0\n",
    "\n",
    "                    s += u[a, b, i, j]\n",
    "\n",
    "                    for c in range(n, l):\n",
    "                        for d in range(n, l):\n",
    "                            s += 0.5 * u[a, b, c, d] * t_old[c, d, i, j]\n",
    "\n",
    "                    for k in range(n):\n",
    "                        for li in range(n):\n",
    "                            s += 0.5 * u[k, li, i, j] * t_old[a, b, k, li]\n",
    "\n",
    "                    for k in range(n):\n",
    "                        for c in range(n, l):\n",
    "                            s += u[k, b, c, j] * t_old[a, c, i, k] # 1\n",
    "                            s -= u[k, b, c, i] * t_old[a, c, j, k] # -Pij\n",
    "                            s -= u[k, a, c, j] * t_old[b, c, i, k] # -Pab\n",
    "                            s += u[k, a, c, i] * t_old[b, c, j, k] # Pij Pab\n",
    "\n",
    "                    for k in range(n):\n",
    "                        for li in range(n):\n",
    "                            for c in range(n, l):\n",
    "                                for d in range(n, l):\n",
    "                                    s += 0.25 * u[k, li, c, d] * t_old[c, d, i, j] * t_old[a, b, k, li]\n",
    "\n",
    "                                    s += u[k, li, c, d] * t_old[a, c, i, k] * t_old[b, d, j, li] # 1\n",
    "                                    s -= u[k, li, c, d] * t_old[a, c, j, k] * t_old[b, d, i, li] # -Pij\n",
    "\n",
    "                                    s -= 0.5 * u[k, li, c, d] * t_old[d, c, i, k] * t_old[a, b, li, j] # -1\n",
    "                                    s += 0.5 * u[k, li, c, d] * t_old[d, c, j, k] * t_old[a, b, li, i] # Pij\n",
    "\n",
    "                                    s -= 0.5 * u[k, li, c, d] * t_old[a, c, li, k] * t_old[d, b, i, j] # -1\n",
    "                                    s += 0.5 * u[k, li, c, d] * t_old[b, c, li, k] * t_old[d, a, i, j] # Pab\n",
    "\n",
    "                    energy_denom = SP_energy[i] + SP_energy[j] - SP_energy[a] - SP_energy[b]\n",
    "                    s = alpha * t_old[a, b, i, j] + (1- alpha) * s / energy_denom\n",
    "                    t_new[a, b, i, j] = s\n",
    "    return t_new"
   ]
  },
  {
   "cell_type": "code",
   "execution_count": 182,
   "id": "265f98e3-d77c-422a-bce3-5fac0f948263",
   "metadata": {},
   "outputs": [],
   "source": [
    "g = ga[1] # -0.8947368421052632\n",
    "h, u, SP_energy = get_integrals(g)\n",
    "t_initial = init_CCD(u, SP_energy)\n",
    "t_fast = CCD_Update(t_initial, u, SP_energy)\n",
    "t_slow = CCD_Update_Slow(t_initial, u, SP_energy)"
   ]
  },
  {
   "cell_type": "code",
   "execution_count": 201,
   "id": "a27d77b1-0c9c-47c6-8b9d-f5cc517589c9",
   "metadata": {},
   "outputs": [
    {
     "name": "stdout",
     "output_type": "stream",
     "text": [
      "Wall time: 40.9 ms\n"
     ]
    }
   ],
   "source": [
    "%%time\n",
    "t_fast = CCD_Update(t_fast, u, SP_energy)"
   ]
  },
  {
   "cell_type": "code",
   "execution_count": 199,
   "id": "a0167840-c5e2-4807-b6bd-9e84710275ab",
   "metadata": {},
   "outputs": [
    {
     "name": "stdout",
     "output_type": "stream",
     "text": [
      "Wall time: 297 ms\n"
     ]
    }
   ],
   "source": [
    "%%time\n",
    "t_slow = CCD_Update_Slow(t_slow, u, SP_energy)"
   ]
  },
  {
   "cell_type": "code",
   "execution_count": 185,
   "id": "b48f4189-ef28-4e75-8813-a145a81dc728",
   "metadata": {},
   "outputs": [
    {
     "name": "stdout",
     "output_type": "stream",
     "text": [
      "-0.23032424989143802 0.23032424989143802\n"
     ]
    }
   ],
   "source": [
    "print(np.amin(t_fast - t_initial), np.amax(t_fast - t_initial))"
   ]
  },
  {
   "cell_type": "code",
   "execution_count": 198,
   "id": "11773597-52ba-4fa9-83fa-1a0fbd55574a",
   "metadata": {},
   "outputs": [
    {
     "name": "stdout",
     "output_type": "stream",
     "text": [
      "0.0 0.0\n"
     ]
    }
   ],
   "source": [
    "print(np.amin(t_fast - t_slow), np.amax(t_fast - t_slow))"
   ]
  },
  {
   "cell_type": "code",
   "execution_count": null,
   "id": "0040ba96-3b9c-4951-a613-7a2817e04692",
   "metadata": {},
   "outputs": [],
   "source": []
  }
 ],
 "metadata": {
  "kernelspec": {
   "display_name": "Python 3 (ipykernel)",
   "language": "python",
   "name": "python3"
  },
  "language_info": {
   "codemirror_mode": {
    "name": "ipython",
    "version": 3
   },
   "file_extension": ".py",
   "mimetype": "text/x-python",
   "name": "python",
   "nbconvert_exporter": "python",
   "pygments_lexer": "ipython3",
   "version": "3.8.8"
  }
 },
 "nbformat": 4,
 "nbformat_minor": 5
}
