{
 "cells": [
  {
   "cell_type": "code",
   "execution_count": 1,
   "id": "48ad2a04-e356-4580-87c5-cd31eecb82a7",
   "metadata": {},
   "outputs": [],
   "source": [
    "using BenchmarkTools: @btime\n",
    "import LinearAlgebra as la\n",
    "import Plots as plt"
   ]
  },
  {
   "cell_type": "markdown",
   "id": "e04f081c-5d8b-47bd-9ef7-5a8a5f8b298e",
   "metadata": {
    "jp-MarkdownHeadingCollapsed": true,
    "tags": []
   },
   "source": [
    "## The pairing states"
   ]
  },
  {
   "cell_type": "code",
   "execution_count": 2,
   "id": "384576a1-d0b5-4ebc-9638-daa087730e94",
   "metadata": {},
   "outputs": [
    {
     "data": {
      "text/plain": [
       "Pairing_State"
      ]
     },
     "execution_count": 2,
     "metadata": {},
     "output_type": "execute_result"
    }
   ],
   "source": [
    "struct Pairing_State\n",
    "    p::Int64\n",
    "    s_z::Int64\n",
    "    g::Float64\n",
    "end\n",
    "function Pairing_State(label, n, l::Int64, g)\n",
    "    if label%2 != 0\n",
    "        s_z = 1\n",
    "        p = (label-1) / 2 + 1\n",
    "    else\n",
    "        s_z = -1\n",
    "        p = (label-2) / 2 + 1\n",
    "    end\n",
    "\n",
    "    return Pairing_State(p, s_z, g)\n",
    "end"
   ]
  },
  {
   "cell_type": "code",
   "execution_count": 3,
   "id": "055408f6-2d2f-4239-b258-b89f57608710",
   "metadata": {},
   "outputs": [
    {
     "data": {
      "text/plain": [
       "Ĥ₀ (generic function with 1 method)"
      ]
     },
     "execution_count": 3,
     "metadata": {},
     "output_type": "execute_result"
    }
   ],
   "source": [
    "function Ĥ₀(p::T, q::T) where T <: Pairing_State\n",
    "    \"\"\"\n",
    "    The one body part of the hamiltonian\n",
    "    \n",
    "    delta = 1\n",
    "    \"\"\"\n",
    "    if p == q # if p and q are the same state\n",
    "        return p.p - 1\n",
    "    else\n",
    "        return 0.0\n",
    "    end\n",
    "end"
   ]
  },
  {
   "cell_type": "code",
   "execution_count": 4,
   "id": "96f55a01-c595-4572-a184-8fef944ad0d0",
   "metadata": {},
   "outputs": [
    {
     "data": {
      "text/plain": [
       "V̂ (generic function with 1 method)"
      ]
     },
     "execution_count": 4,
     "metadata": {},
     "output_type": "execute_result"
    }
   ],
   "source": [
    "function V̂(p::T, q::T, r::T, s::T) where T <: Pairing_State\n",
    "    g = p.g\n",
    "    p1, s1 = p.p, p.s_z\n",
    "    p2, s2 = q.p, q.s_z\n",
    "    p3, s3 = r.p, r.s_z\n",
    "    p4, s4 = s.p, s.s_z\n",
    "\n",
    "    if p1 != p2 || p3 != p4\n",
    "        return 0.0\n",
    "    end\n",
    "    if s1 == s2 || s3 == s4\n",
    "        return 0.0\n",
    "    end\n",
    "    if s1 == s3 && s2 == s4\n",
    "        return -g/2\n",
    "    end\n",
    "    if s1 == s4 && s2 == s3\n",
    "        return g/2\n",
    "    end\n",
    "end"
   ]
  },
  {
   "cell_type": "markdown",
   "id": "429a9748-a8d1-41c1-ab1e-a60ca1fefd51",
   "metadata": {
    "jp-MarkdownHeadingCollapsed": true,
    "tags": []
   },
   "source": [
    "## CCD"
   ]
  },
  {
   "cell_type": "code",
   "execution_count": 48,
   "id": "c8232a27-25ca-4e4c-bc79-7b413fc5b789",
   "metadata": {},
   "outputs": [
    {
     "data": {
      "text/plain": [
       "CCD_System"
      ]
     },
     "execution_count": 48,
     "metadata": {},
     "output_type": "execute_result"
    }
   ],
   "source": [
    "struct CCD_System\n",
    "    n::Int64\n",
    "    l::Int64\n",
    "    \n",
    "    h::Matrix{Float64}\n",
    "    u::Array{Float64, 4}\n",
    "    ϵ::Vector{Float64}\n",
    "    \n",
    "    t::Array{Float64, 4}\n",
    "    t_new::Array{Float64, 4}\n",
    "    α::Float64\n",
    "end\n",
    "\n",
    "function CCD_System(n, l, α, states::Vector{Pairing_State})\n",
    "    h = zeros((l, l))\n",
    "    u = zeros((l, l, l, l))\n",
    "\n",
    "    for p in 1:l\n",
    "        for q in 1:l\n",
    "            h[p, q] = Ĥ₀(states[p], states[q])\n",
    "\n",
    "            for r in 1:l\n",
    "                for s in 1:l\n",
    "                    u[p, q, r, s] = V̂(states[p], states[q], states[r], states[s])\n",
    "                end\n",
    "            end\n",
    "        end\n",
    "    end\n",
    "\n",
    "    ϵ = zeros(l)\n",
    "    for q in 1:l\n",
    "        ϵ[q] = h[q, q]\n",
    "        for i in 1:n\n",
    "            ϵ[q] += u[q, i, q, i]\n",
    "        end\n",
    "    end\n",
    "    \n",
    "    t = zeros((l, l, l, l))\n",
    "    t_new = zeros((l, l, l, l))\n",
    "    \n",
    "    for i in 1:n\n",
    "        for j in 1:n\n",
    "            for a in n+1:l\n",
    "                for b in n+1:l\n",
    "                    t[a, b, i, j] = u[a, b, i, j] / (ϵ[i] + ϵ[j] - ϵ[a] - ϵ[b])\n",
    "                end\n",
    "            end\n",
    "        end\n",
    "    end\n",
    "    \n",
    "    return CCD_System(n, l, h, u, ϵ, t, t_new, α)\n",
    "end"
   ]
  },
  {
   "cell_type": "code",
   "execution_count": 49,
   "id": "2ba152aa-55f9-45c3-8814-9b3a8f2ce55e",
   "metadata": {},
   "outputs": [
    {
     "data": {
      "text/plain": [
       "E_CCD (generic function with 1 method)"
      ]
     },
     "execution_count": 49,
     "metadata": {},
     "output_type": "execute_result"
    }
   ],
   "source": [
    "function E_CCD(system)\n",
    "    n, l, u, t = system.n, system.l, system.u, system.t\n",
    "    E = 0.0\n",
    "    for i in 1:n\n",
    "        for j in 1:n\n",
    "            for a in n+1:l\n",
    "                for b in n+1:l\n",
    "                    E += u[i, j, a, b] * t[a, b, i, j]\n",
    "                end\n",
    "            end\n",
    "        end\n",
    "    end\n",
    "    return 0.25 * E\n",
    "end"
   ]
  },
  {
   "cell_type": "code",
   "execution_count": 50,
   "id": "f05f8270-df81-4dbc-8030-74eecf5995ed",
   "metadata": {},
   "outputs": [
    {
     "data": {
      "text/plain": [
       "CCD_Update! (generic function with 1 method)"
      ]
     },
     "execution_count": 50,
     "metadata": {},
     "output_type": "execute_result"
    }
   ],
   "source": [
    "function CCD_Update!(system)\n",
    "    n, l, u, ϵ, t, t_new, α = system.n, system.l, system.u, system.ϵ, system.t, system.t_new, system.α\n",
    "    \n",
    "    for i in 1:n\n",
    "        for j in i+1:n\n",
    "            for a in n+1:l\n",
    "                for b in a+1:l\n",
    "                    # Page 361 of An Advanced Course in Computational Physics\n",
    "                    s = 0\n",
    "\n",
    "                    s += u[a, b, i, j]\n",
    "\n",
    "                    for c in n+1:l\n",
    "                        for d in n+1:l\n",
    "                            s += 0.5 * u[a, b, c, d] * t[c, d, i, j]\n",
    "                        end\n",
    "                    end\n",
    "\n",
    "                    for k in 1:n\n",
    "                        for li in 1:n\n",
    "                            s += 0.5 * u[k, li, i, j] * t[a, b, k, li]\n",
    "                        end\n",
    "                    end\n",
    "\n",
    "                    for k in 1:n\n",
    "                        for c in n+1:l\n",
    "                            s += u[k, b, c, j] * t[a, c, i, k] # 1\n",
    "                            s -= u[k, b, c, i] * t[a, c, j, k] # -Pij\n",
    "                            s -= u[k, a, c, j] * t[b, c, i, k] # -Pab\n",
    "                            s += u[k, a, c, i] * t[b, c, j, k] # Pij Pab\n",
    "                        end\n",
    "                    end\n",
    "\n",
    "                    for k in 1:n\n",
    "                        for li in 1:n\n",
    "                            for c in n+1:l\n",
    "                                for d in n+1:l\n",
    "                                    s += 0.25 * u[k, li, c, d] * t[c, d, i, j] * t[a, b, k, li]\n",
    "\n",
    "                                    s += u[k, li, c, d] * t[a, c, i, k] * t[b, d, j, li] # 1\n",
    "                                    s -= u[k, li, c, d] * t[a, c, j, k] * t[b, d, i, li] # -Pij\n",
    "\n",
    "                                    s -= 0.5 * u[k, li, c, d] * t[d, c, i, k] * t[a, b, li, j] # -1\n",
    "                                    s += 0.5 * u[k, li, c, d] * t[d, c, j, k] * t[a, b, li, i] # Pij\n",
    "\n",
    "                                    s -= 0.5 * u[k, li, c, d] * t[a, c, li, k] * t[d, b, i, j] # -1\n",
    "                                    s += 0.5 * u[k, li, c, d] * t[b, c, li, k] * t[d, a, i, j] # Pab\n",
    "                                end\n",
    "                            end\n",
    "                        end\n",
    "                    end\n",
    "\n",
    "                    ϵ_abij = ϵ[i] + ϵ[j] - ϵ[a] - ϵ[b]\n",
    "                    s = α * t[a, b, i, j] + (1 - α) * s / ϵ_abij\n",
    "                    t_new[a, b, i, j] = s\n",
    "                    t_new[a, b, j, i] = -s\n",
    "                    t_new[b, a, i, j] = -s\n",
    "                    t_new[b, a, j, i] = s\n",
    "                end\n",
    "            end\n",
    "        end\n",
    "    end\n",
    "    t .= t_new\n",
    "    return system\n",
    "end"
   ]
  },
  {
   "cell_type": "markdown",
   "id": "53fdb7df-b40d-4fe9-9e28-5d3a871b99d7",
   "metadata": {
    "jp-MarkdownHeadingCollapsed": true,
    "tags": []
   },
   "source": [
    "## CCSD"
   ]
  },
  {
   "cell_type": "code",
   "execution_count": 61,
   "id": "41fb4830-8521-4f18-8ef9-ebb034adce9a",
   "metadata": {},
   "outputs": [
    {
     "data": {
      "text/plain": [
       "CCSD_System"
      ]
     },
     "execution_count": 61,
     "metadata": {},
     "output_type": "execute_result"
    }
   ],
   "source": [
    "struct CCSD_System\n",
    "    n::Int64\n",
    "    l::Int64\n",
    "    \n",
    "    h::Matrix{Float64}\n",
    "    u::Array{Float64, 4}\n",
    "    ϵ::Vector{Float64}\n",
    "    \n",
    "    t1::Matrix{Float64}\n",
    "    t1_new::Matrix{Float64}\n",
    "    \n",
    "    t2::Array{Float64, 4}\n",
    "    t2_new::Array{Float64, 4}\n",
    "    α::Float64\n",
    "end\n",
    "\n",
    "function CCSD_System(n, l, α, states::Vector{Pairing_State})\n",
    "    h = zeros((l, l))\n",
    "    u = zeros((l, l, l, l))\n",
    "\n",
    "    for p in 1:l\n",
    "        for q in 1:l\n",
    "            h[p, q] = Ĥ₀(states[p], states[q])\n",
    "\n",
    "            for r in 1:l\n",
    "                for s in 1:l\n",
    "                    u[p, q, r, s] = V̂(states[p], states[q], states[r], states[s])\n",
    "                end\n",
    "            end\n",
    "        end\n",
    "    end\n",
    "\n",
    "    ϵ = zeros(l)\n",
    "    for q in 1:l\n",
    "        ϵ[q] = h[q, q]\n",
    "        for i in 1:n\n",
    "            ϵ[q] += u[q, i, q, i]\n",
    "        end\n",
    "    end\n",
    "    \n",
    "    t1 = zeros((l, l))\n",
    "    t1_new = zeros((l, l))\n",
    "    \n",
    "    for i in 1:n\n",
    "        for a in n+1:l\n",
    "            t1[a, i] = h[a, i] / (ϵ[i] - ϵ[a])\n",
    "        end\n",
    "    end\n",
    "    \n",
    "    t2 = zeros((l, l, l, l))\n",
    "    t2_new = zeros((l, l, l, l))\n",
    "    \n",
    "    for i in 1:n\n",
    "        for j in 1:n\n",
    "            for a in n+1:l\n",
    "                for b in n+1:l\n",
    "                    t2[a, b, i, j] = u[a, b, i, j] / (ϵ[i] + ϵ[j] - ϵ[a] - ϵ[b])\n",
    "                end\n",
    "            end\n",
    "        end\n",
    "    end\n",
    "    \n",
    "    return CCSD_System(n, l, h, u, ϵ, t1, t1_new, t2, t2_new, α)\n",
    "end"
   ]
  },
  {
   "cell_type": "code",
   "execution_count": 54,
   "id": "e52eb063-351a-4265-b20e-9bb8edaf0011",
   "metadata": {},
   "outputs": [
    {
     "data": {
      "text/plain": [
       "E_CCSD (generic function with 1 method)"
      ]
     },
     "execution_count": 54,
     "metadata": {},
     "output_type": "execute_result"
    }
   ],
   "source": [
    "function E_CCSD(system)\n",
    "    n, l, h, u, t1, t2 = system.n, system.l, system.h, system.u, system.t1, system.t2\n",
    "    \n",
    "    E = 0.0\n",
    "    \n",
    "    for i in 1:n\n",
    "        for a in n+1:l\n",
    "            E += h[i, a] * t1[a, i]\n",
    "        end\n",
    "    end\n",
    "    \n",
    "    for i in 1:n\n",
    "        for j in 1:n\n",
    "            for a in n+1:l\n",
    "                for b in n+1:l\n",
    "                    E += 0.25 * u[i, j, a, b] * t2[a, b, i, j]\n",
    "                    E += 0.5 * u[i, j, a, b] * t1[a, i] * t1[b, j]\n",
    "                end\n",
    "            end\n",
    "        end\n",
    "    end\n",
    "    \n",
    "    return E\n",
    "end"
   ]
  },
  {
   "cell_type": "code",
   "execution_count": 72,
   "id": "a815051b-64c7-4b92-abd8-84a5c78b0fe9",
   "metadata": {},
   "outputs": [
    {
     "data": {
      "text/plain": [
       "CCSD_Update! (generic function with 1 method)"
      ]
     },
     "execution_count": 72,
     "metadata": {},
     "output_type": "execute_result"
    }
   ],
   "source": [
    "function CCSD_Update!(system)\n",
    "    n, L, h, u, ϵ, α = system.n, system.l, system.h, system.u, system.ϵ, system.α\n",
    "    t1, t1_new, t2, t2_new = system.t1, system.t1_new, system.t2, system.t2_new\n",
    "    \n",
    "    \"\"\"\n",
    "    The t1 amplitude equations, from page 75 of Crawford & Schaefer\n",
    "    \"\"\"\n",
    "    for i in 1:n\n",
    "        for a in n+1:L\n",
    "            x = 0.0\n",
    "\n",
    "            x += h[a, i]\n",
    "\n",
    "            # Terms that were moved over\n",
    "            x -= h[a, a] * t1[a, i]\n",
    "            x += h[i, i] * t1[a, i]\n",
    "\n",
    "            for c in n+1:L\n",
    "                x += h[a, c] * t1[c, i]\n",
    "            end\n",
    "\n",
    "            for k in 1:n\n",
    "                x -= h[k, i] * t1[a, k]\n",
    "            end\n",
    "\n",
    "            for k in 1:n\n",
    "                for c in n+1:L\n",
    "                    x += u[k, a, c, i] * t1[c, k]\n",
    "\n",
    "                    x += h[k, c] * t2[a, c, i, k]\n",
    "\n",
    "                    x -= h[k, c] * t1[c, i] * t1[a, k]\n",
    "                end\n",
    "            end\n",
    "\n",
    "            for k in 1:n\n",
    "                for c in n+1:L\n",
    "                    for d in n+1:L\n",
    "                        x += 0.5 * u[k, a, c, d] * t2[c, d, k, i]\n",
    "\n",
    "                        x -= u[k, a, c, d] * t1[c, k] * t1[d, i]\n",
    "                    end\n",
    "                end\n",
    "            end\n",
    "\n",
    "            for k in 1:n\n",
    "                for l in 1:n\n",
    "                    for c in n+1:L\n",
    "                        x -= 0.5 * u[k, l, c, i] * t2[c, a, k, l]\n",
    "\n",
    "                        x -= u[k, l, c, i] * t1[c, k] * t1[a, l]\n",
    "                    end\n",
    "                end\n",
    "            end\n",
    "\n",
    "            for k in 1:n\n",
    "                for l in 1:n\n",
    "                    for c in n+1:L\n",
    "                        for d in n+1:L\n",
    "                            x -= u[k, l, c, d] * t1[c, k] * t1[d, i] * t1[a, l]\n",
    "\n",
    "                            x += u[k, l, c, d] * t1[c, k] * t2[d, a, l, i]\n",
    "\n",
    "                            x -= 0.5 * u[k, l, c, d] * t2[c, d, k, i] * t1[a, l]\n",
    "\n",
    "                            x -= 0.5 * u[k, l, c, d] * t2[c, a, k, l] * t1[d, i]\n",
    "                        end\n",
    "                    end\n",
    "                end\n",
    "            end\n",
    "\n",
    "            ϵ_ai = ϵ[i] - ϵ[a]\n",
    "            x = α * t1[a, i] + (1 - α) * x / ϵ_ai\n",
    "            t1_new[a, i] = x\n",
    "        end\n",
    "    end\n",
    "    \n",
    "    \"\"\"\n",
    "    The t2 amplitude equations, from page 76 of Crawford & Schaefer\n",
    "    \"\"\"\n",
    "    for i in 1:n\n",
    "        for j in i+1:n\n",
    "            for a in n+1:L\n",
    "                for b in a+1:L\n",
    "                    s = 0.0\n",
    "\n",
    "                    s += u[a, b, i, j]\n",
    "                    \n",
    "                    # Terms that were moved over\n",
    "                    s -= h[b, b] * t2[a, b, i, j] # -δbc\n",
    "                    s += h[a, a] * t2[b, a, i, j] # Pab δbc\n",
    "                    s += h[j, j] * t2[a, b, i, j] # δkj\n",
    "                    s -= h[i, i] * t2[a, b, j, i] # -Pij δkj\n",
    "\n",
    "                    for c in n+1:L\n",
    "                        s += h[b, c] * t2[a, c, i, j] # 1\n",
    "                        s -= h[a, c] * t2[b, c, i, j] # -Pab\n",
    "                        \n",
    "                        s += u[a, b, c, j] * t1[c, i] # 1\n",
    "                        s -= u[a, b, c, i] * t1[c, j] # -Pij\n",
    "                    end\n",
    "                    \n",
    "                    for k in 1:n\n",
    "                        s -= h[k, j] * t2[a, b, i, k] # -1\n",
    "                        s += h[k, i] * t2[a, b, j, k] # Pij\n",
    "                        \n",
    "                        s -= u[k, b, i, j] * t1[a, k] # -1\n",
    "                        s += u[k, a, i, j] * t1[b, k] # Pab\n",
    "                    end\n",
    "                    \n",
    "                    for k in 1:n\n",
    "                        for l in 1:n\n",
    "                            s += 0.5 * u[k, l, i, j] * t2[a, b, k, l]\n",
    "                            \n",
    "                            s += 0.5 * u[k, l, i, j] * t1[a, k] * t1[b, l] # 1\n",
    "                            s -= 0.5 * u[k, l, i, j] * t1[b, k] * t1[a, l] # -Pab\n",
    "                        end\n",
    "                    end\n",
    "                    \n",
    "                    for c in n+1:L\n",
    "                        for d in n+1:L\n",
    "                            s += 0.5 * u[a, b, c, d] * t2[c, d, i, j]\n",
    "                            \n",
    "                            s += 0.5 * u[a, b, c, d] * t1[c, i] * t1[d, j] # 1\n",
    "                            s -= 0.5 * u[a, b, c, d] * t1[c, j] * t1[d, i] # -Pij\n",
    "                        end\n",
    "                    end\n",
    "                    \n",
    "                    for k in 1:n\n",
    "                        for c in n+1:L\n",
    "                            s += u[k, b, c, j] * t2[a, c, i, k] # 1\n",
    "                            s -= u[k, b, c, i] * t2[a, c, j, k] # -Pij\n",
    "                            s -= u[k, a, c, j] * t2[b, c, i, k] # -Pab\n",
    "                            s += u[k, a, c, i] * t2[b, c, j, k] # Pij Pab\n",
    "                            \n",
    "                            s -= u[k, b, i, c] * t1[a, k] * t1[c, j] # -1\n",
    "                            s += u[k, b, j, c] * t1[a, k] * t1[c, i] # Pij\n",
    "                            s += u[k, a, i, c] * t1[b, k] * t1[c, j] # Pab\n",
    "                            s -= u[k, a, j, c] * t1[b, k] * t1[c, i] # -Pij Pab\n",
    "                            \n",
    "                            s += h[k, c] * t1[a, k] * t2[b, c, i, j] # 1\n",
    "                            s -= h[k, c] * t1[b, k] * t2[a, c, i, j] # -Pab\n",
    "                            \n",
    "                            s += h[k, c] * t1[c, i] * t2[a, b, j, k] # 1\n",
    "                            s -= h[k, c] * t1[c, j] * t2[a, b, i, k] # -Pij\n",
    "                        end\n",
    "                    end\n",
    "                    \n",
    "                    for k in 1:n\n",
    "                        for l in 1:n\n",
    "                            for c in n+1:L\n",
    "                                s -= u[k, l, c, i] * t1[c, k] * t2[a, b, l, j] # -1\n",
    "                                s += u[k, l, c, j] * t1[c, k] * t2[a, b, l, i] # Pij\n",
    "                                \n",
    "                                s += u[k, l, i, c] * t1[a, l] * t2[b, c, j, k] # 1\n",
    "                                s -= u[k, l, j, c] * t1[a, l] * t2[b, c, i, k] # -Pij\n",
    "                                s -= u[k, l, i, c] * t1[b, l] * t2[a, c, j, k] # -Pab\n",
    "                                s += u[k, l, j, c] * t1[b, l] * t2[a, c, i, k] # Pij Pab\n",
    "                                \n",
    "                                s += 0.5 * u[k, l, c, j] * t1[c, i] * t2[a, b, k, l] # 1\n",
    "                                s -= 0.5 * u[k, l, c, i] * t1[c, j] * t2[a, b, k, l] # -Pij\n",
    "                                \n",
    "                                s += 0.5 * u[k, l, c, j] * t1[c, i] * t1[a, k] * t1[b, l] # 1\n",
    "                                s -= 0.5 * u[k, l, c, i] * t1[c, j] * t1[a, k] * t1[b, l] # -Pij\n",
    "                                s -= 0.5 * u[k, l, c, j] * t1[c, i] * t1[b, k] * t1[a, l] # -Pab\n",
    "                                s += 0.5 * u[k, l, c, i] * t1[c, j] * t1[b, k] * t1[a, l] # Pij Pab\n",
    "                            end\n",
    "                        end\n",
    "                    end\n",
    "                    \n",
    "                    for k in 1:n\n",
    "                        for c in n+1:L\n",
    "                            for d in n+1:L\n",
    "                                s += u[k, a, c, d] * t1[c, k] * t2[d, b, i, j] # 1\n",
    "                                s -= u[k, b, c, d] * t1[c, k] * t2[d, a, i, j] # -Pab\n",
    "                                \n",
    "                                s += u[a, k, d, c] * t1[d, i] * t2[b, c, j, k] # 1\n",
    "                                s -= u[a, k, d, c] * t1[d, j] * t2[b, c, i, k] # -Pij\n",
    "                                s -= u[b, k, d, c] * t1[d, i] * t2[a, c, j, k] # -Pab\n",
    "                                s += u[b, k, d, c] * t1[d, j] * t2[a, c, i, k] # Pij Pab\n",
    "                                \n",
    "                                s -= 0.5 * u[k, b, c, d] * t1[a, k] * t2[c, d, i, j] # -1\n",
    "                                s += 0.5 * u[k, a, c, d] * t1[b, k] * t2[c, d, i, j] # Pab\n",
    "                                \n",
    "                                s -= u[k, b, c, d] * t1[c, i] * t1[a, k] * t1[d, j] # -1\n",
    "                                s += u[k, b, c, d] * t1[c, j] * t1[a, k] * t1[d, i] # Pij\n",
    "                                s += u[k, a, c, d] * t1[c, i] * t1[b, k] * t1[d, j] # Pab\n",
    "                                s -= u[k, a, c, d] * t1[c, j] * t1[b, k] * t1[d, i] # -Pij Pab\n",
    "                            end\n",
    "                        end\n",
    "                    end\n",
    "                    \n",
    "                    for k in 1:n\n",
    "                        for l in 1:n\n",
    "                            for c in n+1:L\n",
    "                                for d in n+1:L\n",
    "                                    s += 0.5 * u[k, l, c, d] * t2[a, c, i, k] * t2[d, b, l, j] # 1\n",
    "                                    s -= 0.5 * u[k, l, c, d] * t2[a, c, j, k] * t2[d, b, l, i] # -Pij\n",
    "                                    s -= 0.5 * u[k, l, c, d] * t2[b, c, i, k] * t2[d, a, l, j] # -Pab\n",
    "                                    s += 0.5 * u[k, l, c, d] * t2[b, c, j, k] * t2[d, a, l, i] # Pij Pab\n",
    "                                    \n",
    "                                    s += 0.25 * u[k, l, c, d] * t2[c, d, i, j] * t2[a, b, k, l]\n",
    "\n",
    "                                    s -= 0.5 * u[k, l, c, d] * t2[a, c, i, j] * t2[b, d, k, l] # -1\n",
    "                                    s += 0.5 * u[k, l, c, d] * t2[b, c, i, j] * t2[a, d, k, l] # Pab\n",
    "                                    \n",
    "                                    s -= 0.5 * u[k, l, c, d] * t2[a, b, i, k] * t2[c, d, j, l] # -1\n",
    "                                    s += 0.5 * u[k, l, c, d] * t2[a, b, j, k] * t2[c, d, i, l] # Pij\n",
    "                                    \n",
    "                                    s -= u[k, l, c, d] * t1[c, k] * t1[d, i] * t2[a, b, l, j] # -1\n",
    "                                    s += u[k, l, c, d] * t1[c, k] * t1[d, j] * t2[a, b, l, i] # Pij\n",
    "                                    \n",
    "                                    s -= u[k, l, c, d] * t1[c, k] * t1[a, l] * t2[d, b, i, j] # -1\n",
    "                                    s += u[k, l, c, d] * t1[c, k] * t1[b, l] * t2[d, a, i, j] # Pab\n",
    "                                    \n",
    "                                    s += 0.25 * u[k, l, c, d] * t1[c, i] * t1[d, j] * t2[a, b, k, l] # 1\n",
    "                                    s -= 0.25 * u[k, l, c, d] * t1[c, j] * t1[d, i] * t2[a, b, k, l] # -Pij\n",
    "                                    \n",
    "                                    s += 0.25 * u[k, l, c, d] * t1[a, k] * t1[b, l] * t2[c, d, i, j] # 1\n",
    "                                    s -= 0.25 * u[k, l, c, d] * t1[b, k] * t1[a, l] * t2[c, d, i, j] # -Pab\n",
    "                                    \n",
    "                                    s += u[k, l, c, d] * t1[c, i] * t1[b, l] * t2[a, d, k, j] # 1\n",
    "                                    s -= u[k, l, c, d] * t1[c, j] * t1[b, l] * t2[a, d, k, i] # -Pij\n",
    "                                    s -= u[k, l, c, d] * t1[c, i] * t1[a, l] * t2[b, d, k, j] # -Pab\n",
    "                                    s += u[k, l, c, d] * t1[c, j] * t1[a, l] * t2[b, d, k, i] # Pij Pab\n",
    "                                    \n",
    "                                    s += 0.25 * u[k, l, c, d] * t1[c, i] * t1[a, k] * t1[d, j] * t1[b, l] # 1\n",
    "                                    s -= 0.25 * u[k, l, c, d] * t1[c, j] * t1[a, k] * t1[d, i] * t1[b, l] # -Pij\n",
    "                                    s -= 0.25 * u[k, l, c, d] * t1[c, i] * t1[b, k] * t1[d, j] * t1[a, l] # -Pab\n",
    "                                    s += 0.25 * u[k, l, c, d] * t1[c, j] * t1[b, k] * t1[d, i] * t1[a, l] # Pij Pab\n",
    "                                end\n",
    "                            end\n",
    "                        end\n",
    "                    end\n",
    "                    \n",
    "                    ϵ_abij = ϵ[i] + ϵ[j] - ϵ[a] - ϵ[b]\n",
    "                    s = α * t2[a, b, i, j] + (1 - α) * s / ϵ_abij\n",
    "                    t2_new[a, b, i, j] = s\n",
    "                    t2_new[a, b, j, i] = -s\n",
    "                    t2_new[b, a, i, j] = -s\n",
    "                    t2_new[b, a, j, i] = s\n",
    "                end\n",
    "            end\n",
    "        end\n",
    "    end\n",
    "    \n",
    "    t1 .= t1_new\n",
    "    t2 .= t2_new\n",
    "    \n",
    "    return system\n",
    "end"
   ]
  },
  {
   "cell_type": "markdown",
   "id": "03681cca-c288-4909-849b-ad45b39280e2",
   "metadata": {},
   "source": [
    "## Other methods"
   ]
  },
  {
   "cell_type": "code",
   "execution_count": 8,
   "id": "a9f1eb03-c5ef-4564-8560-9eb51dec9c90",
   "metadata": {},
   "outputs": [
    {
     "data": {
      "text/plain": [
       "MBPT2 (generic function with 1 method)"
      ]
     },
     "execution_count": 8,
     "metadata": {},
     "output_type": "execute_result"
    }
   ],
   "source": [
    "function MBPT2(g)\n",
    "    return -g^2 / 4 * ( 1 / (4+g) + 1/(6+g) + 1/(2+g) + 1/(4+g) )\n",
    "end"
   ]
  },
  {
   "cell_type": "code",
   "execution_count": 9,
   "id": "060b4c99-bde9-4fef-8580-5b36893ed5dc",
   "metadata": {},
   "outputs": [
    {
     "data": {
      "text/plain": [
       "exact (generic function with 1 method)"
      ]
     },
     "execution_count": 9,
     "metadata": {},
     "output_type": "execute_result"
    }
   ],
   "source": [
    "function exact(g)\n",
    "    H = [ 2-g  -g/2 -g/2 -g/2 -g/2  0\n",
    "         -g/2  4-g  -g/2 -g/2  0   -g/2\n",
    "         -g/2 -g/2   6-g  0   -g/2 -g/2\n",
    "         -g/2 -g/2   0    6-g -g/2 -g/2\n",
    "         -g/2  0    -g/2 -g/2  8-g -g/2\n",
    "          0   -g/2  -g/2 -g/2 -g/2  10-g]\n",
    "    return la.eigvals(H)[1] - (2 - g)\n",
    "end"
   ]
  },
  {
   "cell_type": "markdown",
   "id": "1346d43e-986c-49e0-9f68-069e0d1d6bf2",
   "metadata": {},
   "source": [
    "## Testing it out"
   ]
  },
  {
   "cell_type": "code",
   "execution_count": 96,
   "id": "9dd762f2-d5ab-4d59-9127-a98b229fd2aa",
   "metadata": {},
   "outputs": [],
   "source": [
    "n = 4\n",
    "l = 8\n",
    "g = 0.1\n",
    "α = 0.5\n",
    "\n",
    "states = [Pairing_State(label, n, l, g) for label in 1:l];\n",
    "system = CCD_System(n, l, α, states);"
   ]
  },
  {
   "cell_type": "code",
   "execution_count": 106,
   "id": "837b4e15-ea29-486e-b973-71fad2bbe26d",
   "metadata": {},
   "outputs": [],
   "source": [
    "CCD_Update!(system);"
   ]
  },
  {
   "cell_type": "code",
   "execution_count": 12,
   "id": "014b646e-0386-4a01-a2c2-0f10434783c0",
   "metadata": {},
   "outputs": [
    {
     "data": {
      "text/plain": [
       "-0.0029046040188602826"
      ]
     },
     "execution_count": 12,
     "metadata": {},
     "output_type": "execute_result"
    }
   ],
   "source": [
    "E_CCD(system)"
   ]
  },
  {
   "cell_type": "code",
   "execution_count": 108,
   "id": "56f853f7-a7e8-4f40-b1c3-8c5d70c56e54",
   "metadata": {},
   "outputs": [],
   "source": [
    "n = 4\n",
    "l = 8\n",
    "g = 0.1\n",
    "α = 0.5\n",
    "\n",
    "states = [Pairing_State(label, n, l, g) for label in 1:l];\n",
    "system = CCSD_System(n, l, α, states);"
   ]
  },
  {
   "cell_type": "code",
   "execution_count": 109,
   "id": "7a91e1c1-5d55-46f5-8509-5942672a6197",
   "metadata": {},
   "outputs": [
    {
     "name": "stdout",
     "output_type": "stream",
     "text": [
      "  0.000360 seconds\n"
     ]
    }
   ],
   "source": [
    "CCSD_Update!(system);"
   ]
  },
  {
   "cell_type": "code",
   "execution_count": 92,
   "id": "aa1457e6-131d-40af-a363-13d94b3db6be",
   "metadata": {},
   "outputs": [
    {
     "data": {
      "text/plain": [
       "-0.00298613916931443"
      ]
     },
     "execution_count": 92,
     "metadata": {},
     "output_type": "execute_result"
    }
   ],
   "source": [
    "E_CCSD(system)"
   ]
  },
  {
   "cell_type": "code",
   "execution_count": 151,
   "id": "f578d37a-fc9a-43cd-8f7b-426d2463ecdd",
   "metadata": {},
   "outputs": [
    {
     "data": {
      "text/plain": [
       "CCD_run (generic function with 1 method)"
      ]
     },
     "execution_count": 151,
     "metadata": {},
     "output_type": "execute_result"
    }
   ],
   "source": [
    "function CCD_run(g)\n",
    "    n = 4\n",
    "    l = 8\n",
    "    α = 0.5\n",
    "\n",
    "    states = [Pairing_State(label, n, l, g) for label in 1:l]\n",
    "    system = CCD_System(n, l, α, states)\n",
    "    for i in 1:10\n",
    "        CCD_Update!(system)\n",
    "    end\n",
    "    return E_CCD(system)\n",
    "end"
   ]
  },
  {
   "cell_type": "code",
   "execution_count": 152,
   "id": "c4e021a1-3844-4949-bf9d-becc1de14d01",
   "metadata": {},
   "outputs": [
    {
     "data": {
      "text/plain": [
       "CCSD_run (generic function with 1 method)"
      ]
     },
     "execution_count": 152,
     "metadata": {},
     "output_type": "execute_result"
    }
   ],
   "source": [
    "function CCSD_run(g)\n",
    "    n = 4\n",
    "    l = 8\n",
    "    α = 0.5\n",
    "\n",
    "    states = [Pairing_State(label, n, l, g) for label in 1:l]\n",
    "    system = CCSD_System(n, l, α, states)\n",
    "    for i in 1:10\n",
    "        CCSD_Update!(system)\n",
    "    end\n",
    "    return E_CCSD(system)\n",
    "end"
   ]
  },
  {
   "cell_type": "code",
   "execution_count": 153,
   "id": "0dcfbdc7-55d5-4ad6-a365-7a9c9f22802e",
   "metadata": {},
   "outputs": [
    {
     "data": {
      "image/svg+xml": [
       "<?xml version=\"1.0\" encoding=\"utf-8\"?>\n",
       "<svg xmlns=\"http://www.w3.org/2000/svg\" xmlns:xlink=\"http://www.w3.org/1999/xlink\" width=\"600\" height=\"400\" viewBox=\"0 0 2400 1600\">\n",
       "<defs>\n",
       "  <clipPath id=\"clip310\">\n",
       "    <rect x=\"0\" y=\"0\" width=\"2400\" height=\"1600\"/>\n",
       "  </clipPath>\n",
       "</defs>\n",
       "<path clip-path=\"url(#clip310)\" d=\"\n",
       "M0 1600 L2400 1600 L2400 0 L0 0  Z\n",
       "  \" fill=\"#ffffff\" fill-rule=\"evenodd\" fill-opacity=\"1\"/>\n",
       "<defs>\n",
       "  <clipPath id=\"clip311\">\n",
       "    <rect x=\"480\" y=\"0\" width=\"1681\" height=\"1600\"/>\n",
       "  </clipPath>\n",
       "</defs>\n",
       "<path clip-path=\"url(#clip310)\" d=\"\n",
       "M194.422 1486.45 L2352.76 1486.45 L2352.76 47.2441 L194.422 47.2441  Z\n",
       "  \" fill=\"#ffffff\" fill-rule=\"evenodd\" fill-opacity=\"1\"/>\n",
       "<defs>\n",
       "  <clipPath id=\"clip312\">\n",
       "    <rect x=\"194\" y=\"47\" width=\"2159\" height=\"1440\"/>\n",
       "  </clipPath>\n",
       "</defs>\n",
       "<polyline clip-path=\"url(#clip312)\" style=\"stroke:#000000; stroke-linecap:butt; stroke-linejoin:round; stroke-width:2; stroke-opacity:0.1; fill:none\" points=\"\n",
       "  255.507,1486.45 255.507,47.2441 \n",
       "  \"/>\n",
       "<polyline clip-path=\"url(#clip312)\" style=\"stroke:#000000; stroke-linecap:butt; stroke-linejoin:round; stroke-width:2; stroke-opacity:0.1; fill:none\" points=\"\n",
       "  764.548,1486.45 764.548,47.2441 \n",
       "  \"/>\n",
       "<polyline clip-path=\"url(#clip312)\" style=\"stroke:#000000; stroke-linecap:butt; stroke-linejoin:round; stroke-width:2; stroke-opacity:0.1; fill:none\" points=\"\n",
       "  1273.59,1486.45 1273.59,47.2441 \n",
       "  \"/>\n",
       "<polyline clip-path=\"url(#clip312)\" style=\"stroke:#000000; stroke-linecap:butt; stroke-linejoin:round; stroke-width:2; stroke-opacity:0.1; fill:none\" points=\"\n",
       "  1782.63,1486.45 1782.63,47.2441 \n",
       "  \"/>\n",
       "<polyline clip-path=\"url(#clip312)\" style=\"stroke:#000000; stroke-linecap:butt; stroke-linejoin:round; stroke-width:2; stroke-opacity:0.1; fill:none\" points=\"\n",
       "  2291.67,1486.45 2291.67,47.2441 \n",
       "  \"/>\n",
       "<polyline clip-path=\"url(#clip310)\" style=\"stroke:#000000; stroke-linecap:butt; stroke-linejoin:round; stroke-width:4; stroke-opacity:1; fill:none\" points=\"\n",
       "  194.422,1486.45 2352.76,1486.45 \n",
       "  \"/>\n",
       "<polyline clip-path=\"url(#clip310)\" style=\"stroke:#000000; stroke-linecap:butt; stroke-linejoin:round; stroke-width:4; stroke-opacity:1; fill:none\" points=\"\n",
       "  255.507,1486.45 255.507,1467.55 \n",
       "  \"/>\n",
       "<polyline clip-path=\"url(#clip310)\" style=\"stroke:#000000; stroke-linecap:butt; stroke-linejoin:round; stroke-width:4; stroke-opacity:1; fill:none\" points=\"\n",
       "  764.548,1486.45 764.548,1467.55 \n",
       "  \"/>\n",
       "<polyline clip-path=\"url(#clip310)\" style=\"stroke:#000000; stroke-linecap:butt; stroke-linejoin:round; stroke-width:4; stroke-opacity:1; fill:none\" points=\"\n",
       "  1273.59,1486.45 1273.59,1467.55 \n",
       "  \"/>\n",
       "<polyline clip-path=\"url(#clip310)\" style=\"stroke:#000000; stroke-linecap:butt; stroke-linejoin:round; stroke-width:4; stroke-opacity:1; fill:none\" points=\"\n",
       "  1782.63,1486.45 1782.63,1467.55 \n",
       "  \"/>\n",
       "<polyline clip-path=\"url(#clip310)\" style=\"stroke:#000000; stroke-linecap:butt; stroke-linejoin:round; stroke-width:4; stroke-opacity:1; fill:none\" points=\"\n",
       "  2291.67,1486.45 2291.67,1467.55 \n",
       "  \"/>\n",
       "<path clip-path=\"url(#clip310)\" d=\"M202.035 1530.29 L231.711 1530.29 L231.711 1534.23 L202.035 1534.23 L202.035 1530.29 Z\" fill=\"#000000\" fill-rule=\"evenodd\" fill-opacity=\"1\" /><path clip-path=\"url(#clip310)\" d=\"M242.614 1543.18 L250.252 1543.18 L250.252 1516.82 L241.942 1518.49 L241.942 1514.23 L250.206 1512.56 L254.882 1512.56 L254.882 1543.18 L262.521 1543.18 L262.521 1547.12 L242.614 1547.12 L242.614 1543.18 Z\" fill=\"#000000\" fill-rule=\"evenodd\" fill-opacity=\"1\" /><path clip-path=\"url(#clip310)\" d=\"M271.965 1541.24 L276.85 1541.24 L276.85 1547.12 L271.965 1547.12 L271.965 1541.24 Z\" fill=\"#000000\" fill-rule=\"evenodd\" fill-opacity=\"1\" /><path clip-path=\"url(#clip310)\" d=\"M297.035 1515.64 Q293.423 1515.64 291.595 1519.2 Q289.789 1522.75 289.789 1529.87 Q289.789 1536.98 291.595 1540.55 Q293.423 1544.09 297.035 1544.09 Q300.669 1544.09 302.474 1540.55 Q304.303 1536.98 304.303 1529.87 Q304.303 1522.75 302.474 1519.2 Q300.669 1515.64 297.035 1515.64 M297.035 1511.93 Q302.845 1511.93 305.9 1516.54 Q308.979 1521.12 308.979 1529.87 Q308.979 1538.6 305.9 1543.21 Q302.845 1547.79 297.035 1547.79 Q291.224 1547.79 288.146 1543.21 Q285.09 1538.6 285.09 1529.87 Q285.09 1521.12 288.146 1516.54 Q291.224 1511.93 297.035 1511.93 Z\" fill=\"#000000\" fill-rule=\"evenodd\" fill-opacity=\"1\" /><path clip-path=\"url(#clip310)\" d=\"M711.574 1530.29 L741.25 1530.29 L741.25 1534.23 L711.574 1534.23 L711.574 1530.29 Z\" fill=\"#000000\" fill-rule=\"evenodd\" fill-opacity=\"1\" /><path clip-path=\"url(#clip310)\" d=\"M761.342 1515.64 Q757.731 1515.64 755.902 1519.2 Q754.097 1522.75 754.097 1529.87 Q754.097 1536.98 755.902 1540.55 Q757.731 1544.09 761.342 1544.09 Q764.976 1544.09 766.782 1540.55 Q768.61 1536.98 768.61 1529.87 Q768.61 1522.75 766.782 1519.2 Q764.976 1515.64 761.342 1515.64 M761.342 1511.93 Q767.152 1511.93 770.208 1516.54 Q773.286 1521.12 773.286 1529.87 Q773.286 1538.6 770.208 1543.21 Q767.152 1547.79 761.342 1547.79 Q755.532 1547.79 752.453 1543.21 Q749.398 1538.6 749.398 1529.87 Q749.398 1521.12 752.453 1516.54 Q755.532 1511.93 761.342 1511.93 Z\" fill=\"#000000\" fill-rule=\"evenodd\" fill-opacity=\"1\" /><path clip-path=\"url(#clip310)\" d=\"M781.504 1541.24 L786.388 1541.24 L786.388 1547.12 L781.504 1547.12 L781.504 1541.24 Z\" fill=\"#000000\" fill-rule=\"evenodd\" fill-opacity=\"1\" /><path clip-path=\"url(#clip310)\" d=\"M796.62 1512.56 L814.976 1512.56 L814.976 1516.5 L800.902 1516.5 L800.902 1524.97 Q801.921 1524.62 802.939 1524.46 Q803.958 1524.27 804.976 1524.27 Q810.763 1524.27 814.143 1527.44 Q817.522 1530.62 817.522 1536.03 Q817.522 1541.61 814.05 1544.71 Q810.578 1547.79 804.258 1547.79 Q802.083 1547.79 799.814 1547.42 Q797.569 1547.05 795.161 1546.31 L795.161 1541.61 Q797.245 1542.74 799.467 1543.3 Q801.689 1543.86 804.166 1543.86 Q808.17 1543.86 810.508 1541.75 Q812.846 1539.64 812.846 1536.03 Q812.846 1532.42 810.508 1530.31 Q808.17 1528.21 804.166 1528.21 Q802.291 1528.21 800.416 1528.62 Q798.564 1529.04 796.62 1529.92 L796.62 1512.56 Z\" fill=\"#000000\" fill-rule=\"evenodd\" fill-opacity=\"1\" /><path clip-path=\"url(#clip310)\" d=\"M1250.97 1515.64 Q1247.36 1515.64 1245.53 1519.2 Q1243.73 1522.75 1243.73 1529.87 Q1243.73 1536.98 1245.53 1540.55 Q1247.36 1544.09 1250.97 1544.09 Q1254.61 1544.09 1256.41 1540.55 Q1258.24 1536.98 1258.24 1529.87 Q1258.24 1522.75 1256.41 1519.2 Q1254.61 1515.64 1250.97 1515.64 M1250.97 1511.93 Q1256.78 1511.93 1259.84 1516.54 Q1262.92 1521.12 1262.92 1529.87 Q1262.92 1538.6 1259.84 1543.21 Q1256.78 1547.79 1250.97 1547.79 Q1245.16 1547.79 1242.08 1543.21 Q1239.03 1538.6 1239.03 1529.87 Q1239.03 1521.12 1242.08 1516.54 Q1245.16 1511.93 1250.97 1511.93 Z\" fill=\"#000000\" fill-rule=\"evenodd\" fill-opacity=\"1\" /><path clip-path=\"url(#clip310)\" d=\"M1271.14 1541.24 L1276.02 1541.24 L1276.02 1547.12 L1271.14 1547.12 L1271.14 1541.24 Z\" fill=\"#000000\" fill-rule=\"evenodd\" fill-opacity=\"1\" /><path clip-path=\"url(#clip310)\" d=\"M1296.2 1515.64 Q1292.59 1515.64 1290.76 1519.2 Q1288.96 1522.75 1288.96 1529.87 Q1288.96 1536.98 1290.76 1540.55 Q1292.59 1544.09 1296.2 1544.09 Q1299.84 1544.09 1301.64 1540.55 Q1303.47 1536.98 1303.47 1529.87 Q1303.47 1522.75 1301.64 1519.2 Q1299.84 1515.64 1296.2 1515.64 M1296.2 1511.93 Q1302.01 1511.93 1305.07 1516.54 Q1308.15 1521.12 1308.15 1529.87 Q1308.15 1538.6 1305.07 1543.21 Q1302.01 1547.79 1296.2 1547.79 Q1290.39 1547.79 1287.32 1543.21 Q1284.26 1538.6 1284.26 1529.87 Q1284.26 1521.12 1287.32 1516.54 Q1290.39 1511.93 1296.2 1511.93 Z\" fill=\"#000000\" fill-rule=\"evenodd\" fill-opacity=\"1\" /><path clip-path=\"url(#clip310)\" d=\"M1760.51 1515.64 Q1756.9 1515.64 1755.07 1519.2 Q1753.27 1522.75 1753.27 1529.87 Q1753.27 1536.98 1755.07 1540.55 Q1756.9 1544.09 1760.51 1544.09 Q1764.15 1544.09 1765.95 1540.55 Q1767.78 1536.98 1767.78 1529.87 Q1767.78 1522.75 1765.95 1519.2 Q1764.15 1515.64 1760.51 1515.64 M1760.51 1511.93 Q1766.32 1511.93 1769.38 1516.54 Q1772.46 1521.12 1772.46 1529.87 Q1772.46 1538.6 1769.38 1543.21 Q1766.32 1547.79 1760.51 1547.79 Q1754.7 1547.79 1751.62 1543.21 Q1748.57 1538.6 1748.57 1529.87 Q1748.57 1521.12 1751.62 1516.54 Q1754.7 1511.93 1760.51 1511.93 Z\" fill=\"#000000\" fill-rule=\"evenodd\" fill-opacity=\"1\" /><path clip-path=\"url(#clip310)\" d=\"M1780.67 1541.24 L1785.56 1541.24 L1785.56 1547.12 L1780.67 1547.12 L1780.67 1541.24 Z\" fill=\"#000000\" fill-rule=\"evenodd\" fill-opacity=\"1\" /><path clip-path=\"url(#clip310)\" d=\"M1795.79 1512.56 L1814.15 1512.56 L1814.15 1516.5 L1800.07 1516.5 L1800.07 1524.97 Q1801.09 1524.62 1802.11 1524.46 Q1803.13 1524.27 1804.15 1524.27 Q1809.93 1524.27 1813.31 1527.44 Q1816.69 1530.62 1816.69 1536.03 Q1816.69 1541.61 1813.22 1544.71 Q1809.75 1547.79 1803.43 1547.79 Q1801.25 1547.79 1798.98 1547.42 Q1796.74 1547.05 1794.33 1546.31 L1794.33 1541.61 Q1796.41 1542.74 1798.64 1543.3 Q1800.86 1543.86 1803.34 1543.86 Q1807.34 1543.86 1809.68 1541.75 Q1812.02 1539.64 1812.02 1536.03 Q1812.02 1532.42 1809.68 1530.31 Q1807.34 1528.21 1803.34 1528.21 Q1801.46 1528.21 1799.59 1528.62 Q1797.73 1529.04 1795.79 1529.92 L1795.79 1512.56 Z\" fill=\"#000000\" fill-rule=\"evenodd\" fill-opacity=\"1\" /><path clip-path=\"url(#clip310)\" d=\"M2258.82 1543.18 L2266.46 1543.18 L2266.46 1516.82 L2258.15 1518.49 L2258.15 1514.23 L2266.42 1512.56 L2271.09 1512.56 L2271.09 1543.18 L2278.73 1543.18 L2278.73 1547.12 L2258.82 1547.12 L2258.82 1543.18 Z\" fill=\"#000000\" fill-rule=\"evenodd\" fill-opacity=\"1\" /><path clip-path=\"url(#clip310)\" d=\"M2288.18 1541.24 L2293.06 1541.24 L2293.06 1547.12 L2288.18 1547.12 L2288.18 1541.24 Z\" fill=\"#000000\" fill-rule=\"evenodd\" fill-opacity=\"1\" /><path clip-path=\"url(#clip310)\" d=\"M2313.24 1515.64 Q2309.63 1515.64 2307.81 1519.2 Q2306 1522.75 2306 1529.87 Q2306 1536.98 2307.81 1540.55 Q2309.63 1544.09 2313.24 1544.09 Q2316.88 1544.09 2318.68 1540.55 Q2320.51 1536.98 2320.51 1529.87 Q2320.51 1522.75 2318.68 1519.2 Q2316.88 1515.64 2313.24 1515.64 M2313.24 1511.93 Q2319.06 1511.93 2322.11 1516.54 Q2325.19 1521.12 2325.19 1529.87 Q2325.19 1538.6 2322.11 1543.21 Q2319.06 1547.79 2313.24 1547.79 Q2307.43 1547.79 2304.36 1543.21 Q2301.3 1538.6 2301.3 1529.87 Q2301.3 1521.12 2304.36 1516.54 Q2307.43 1511.93 2313.24 1511.93 Z\" fill=\"#000000\" fill-rule=\"evenodd\" fill-opacity=\"1\" /><polyline clip-path=\"url(#clip312)\" style=\"stroke:#000000; stroke-linecap:butt; stroke-linejoin:round; stroke-width:2; stroke-opacity:0.1; fill:none\" points=\"\n",
       "  194.422,1251.42 2352.76,1251.42 \n",
       "  \"/>\n",
       "<polyline clip-path=\"url(#clip312)\" style=\"stroke:#000000; stroke-linecap:butt; stroke-linejoin:round; stroke-width:2; stroke-opacity:0.1; fill:none\" points=\"\n",
       "  194.422,959.983 2352.76,959.983 \n",
       "  \"/>\n",
       "<polyline clip-path=\"url(#clip312)\" style=\"stroke:#000000; stroke-linecap:butt; stroke-linejoin:round; stroke-width:2; stroke-opacity:0.1; fill:none\" points=\"\n",
       "  194.422,668.543 2352.76,668.543 \n",
       "  \"/>\n",
       "<polyline clip-path=\"url(#clip312)\" style=\"stroke:#000000; stroke-linecap:butt; stroke-linejoin:round; stroke-width:2; stroke-opacity:0.1; fill:none\" points=\"\n",
       "  194.422,377.103 2352.76,377.103 \n",
       "  \"/>\n",
       "<polyline clip-path=\"url(#clip312)\" style=\"stroke:#000000; stroke-linecap:butt; stroke-linejoin:round; stroke-width:2; stroke-opacity:0.1; fill:none\" points=\"\n",
       "  194.422,85.6635 2352.76,85.6635 \n",
       "  \"/>\n",
       "<polyline clip-path=\"url(#clip310)\" style=\"stroke:#000000; stroke-linecap:butt; stroke-linejoin:round; stroke-width:4; stroke-opacity:1; fill:none\" points=\"\n",
       "  194.422,1486.45 194.422,47.2441 \n",
       "  \"/>\n",
       "<polyline clip-path=\"url(#clip310)\" style=\"stroke:#000000; stroke-linecap:butt; stroke-linejoin:round; stroke-width:4; stroke-opacity:1; fill:none\" points=\"\n",
       "  194.422,1251.42 213.32,1251.42 \n",
       "  \"/>\n",
       "<polyline clip-path=\"url(#clip310)\" style=\"stroke:#000000; stroke-linecap:butt; stroke-linejoin:round; stroke-width:4; stroke-opacity:1; fill:none\" points=\"\n",
       "  194.422,959.983 213.32,959.983 \n",
       "  \"/>\n",
       "<polyline clip-path=\"url(#clip310)\" style=\"stroke:#000000; stroke-linecap:butt; stroke-linejoin:round; stroke-width:4; stroke-opacity:1; fill:none\" points=\"\n",
       "  194.422,668.543 213.32,668.543 \n",
       "  \"/>\n",
       "<polyline clip-path=\"url(#clip310)\" style=\"stroke:#000000; stroke-linecap:butt; stroke-linejoin:round; stroke-width:4; stroke-opacity:1; fill:none\" points=\"\n",
       "  194.422,377.103 213.32,377.103 \n",
       "  \"/>\n",
       "<polyline clip-path=\"url(#clip310)\" style=\"stroke:#000000; stroke-linecap:butt; stroke-linejoin:round; stroke-width:4; stroke-opacity:1; fill:none\" points=\"\n",
       "  194.422,85.6635 213.32,85.6635 \n",
       "  \"/>\n",
       "<path clip-path=\"url(#clip310)\" d=\"M50.9921 1251.87 L80.6679 1251.87 L80.6679 1255.81 L50.9921 1255.81 L50.9921 1251.87 Z\" fill=\"#000000\" fill-rule=\"evenodd\" fill-opacity=\"1\" /><path clip-path=\"url(#clip310)\" d=\"M100.76 1237.22 Q97.1493 1237.22 95.3206 1240.79 Q93.515 1244.33 93.515 1251.46 Q93.515 1258.56 95.3206 1262.13 Q97.1493 1265.67 100.76 1265.67 Q104.395 1265.67 106.2 1262.13 Q108.029 1258.56 108.029 1251.46 Q108.029 1244.33 106.2 1240.79 Q104.395 1237.22 100.76 1237.22 M100.76 1233.52 Q106.571 1233.52 109.626 1238.12 Q112.705 1242.71 112.705 1251.46 Q112.705 1260.18 109.626 1264.79 Q106.571 1269.37 100.76 1269.37 Q94.9502 1269.37 91.8715 1264.79 Q88.816 1260.18 88.816 1251.46 Q88.816 1242.71 91.8715 1238.12 Q94.9502 1233.52 100.76 1233.52 Z\" fill=\"#000000\" fill-rule=\"evenodd\" fill-opacity=\"1\" /><path clip-path=\"url(#clip310)\" d=\"M120.922 1262.82 L125.807 1262.82 L125.807 1268.7 L120.922 1268.7 L120.922 1262.82 Z\" fill=\"#000000\" fill-rule=\"evenodd\" fill-opacity=\"1\" /><path clip-path=\"url(#clip310)\" d=\"M148.839 1238.22 L137.033 1256.67 L148.839 1256.67 L148.839 1238.22 M147.612 1234.14 L153.492 1234.14 L153.492 1256.67 L158.422 1256.67 L158.422 1260.55 L153.492 1260.55 L153.492 1268.7 L148.839 1268.7 L148.839 1260.55 L133.237 1260.55 L133.237 1256.04 L147.612 1234.14 Z\" fill=\"#000000\" fill-rule=\"evenodd\" fill-opacity=\"1\" /><path clip-path=\"url(#clip310)\" d=\"M52.1264 960.434 L81.8021 960.434 L81.8021 964.369 L52.1264 964.369 L52.1264 960.434 Z\" fill=\"#000000\" fill-rule=\"evenodd\" fill-opacity=\"1\" /><path clip-path=\"url(#clip310)\" d=\"M101.895 945.781 Q98.2835 945.781 96.4548 949.346 Q94.6493 952.888 94.6493 960.017 Q94.6493 967.124 96.4548 970.689 Q98.2835 974.23 101.895 974.23 Q105.529 974.23 107.334 970.689 Q109.163 967.124 109.163 960.017 Q109.163 952.888 107.334 949.346 Q105.529 945.781 101.895 945.781 M101.895 942.078 Q107.705 942.078 110.76 946.684 Q113.839 951.268 113.839 960.017 Q113.839 968.744 110.76 973.351 Q107.705 977.934 101.895 977.934 Q96.0845 977.934 93.0058 973.351 Q89.9503 968.744 89.9503 960.017 Q89.9503 951.268 93.0058 946.684 Q96.0845 942.078 101.895 942.078 Z\" fill=\"#000000\" fill-rule=\"evenodd\" fill-opacity=\"1\" /><path clip-path=\"url(#clip310)\" d=\"M122.057 971.383 L126.941 971.383 L126.941 977.263 L122.057 977.263 L122.057 971.383 Z\" fill=\"#000000\" fill-rule=\"evenodd\" fill-opacity=\"1\" /><path clip-path=\"url(#clip310)\" d=\"M151.293 958.629 Q154.649 959.346 156.524 961.615 Q158.422 963.883 158.422 967.217 Q158.422 972.332 154.904 975.133 Q151.385 977.934 144.904 977.934 Q142.728 977.934 140.413 977.494 Q138.121 977.078 135.668 976.221 L135.668 971.707 Q137.612 972.842 139.927 973.42 Q142.242 973.999 144.765 973.999 Q149.163 973.999 151.455 972.263 Q153.769 970.527 153.769 967.217 Q153.769 964.161 151.617 962.448 Q149.487 960.712 145.668 960.712 L141.64 960.712 L141.64 956.869 L145.853 956.869 Q149.302 956.869 151.13 955.504 Q152.959 954.115 152.959 951.522 Q152.959 948.86 151.061 947.448 Q149.186 946.013 145.668 946.013 Q143.746 946.013 141.547 946.43 Q139.348 946.846 136.709 947.726 L136.709 943.559 Q139.371 942.819 141.686 942.448 Q144.024 942.078 146.084 942.078 Q151.408 942.078 154.51 944.508 Q157.612 946.916 157.612 951.036 Q157.612 953.906 155.968 955.897 Q154.325 957.865 151.293 958.629 Z\" fill=\"#000000\" fill-rule=\"evenodd\" fill-opacity=\"1\" /><path clip-path=\"url(#clip310)\" d=\"M53.0754 668.994 L82.7512 668.994 L82.7512 672.93 L53.0754 672.93 L53.0754 668.994 Z\" fill=\"#000000\" fill-rule=\"evenodd\" fill-opacity=\"1\" /><path clip-path=\"url(#clip310)\" d=\"M102.844 654.342 Q99.2326 654.342 97.4039 657.907 Q95.5984 661.448 95.5984 668.578 Q95.5984 675.684 97.4039 679.249 Q99.2326 682.791 102.844 682.791 Q106.478 682.791 108.283 679.249 Q110.112 675.684 110.112 668.578 Q110.112 661.448 108.283 657.907 Q106.478 654.342 102.844 654.342 M102.844 650.638 Q108.654 650.638 111.709 655.244 Q114.788 659.828 114.788 668.578 Q114.788 677.305 111.709 681.911 Q108.654 686.494 102.844 686.494 Q97.0335 686.494 93.9549 681.911 Q90.8993 677.305 90.8993 668.578 Q90.8993 659.828 93.9549 655.244 Q97.0335 650.638 102.844 650.638 Z\" fill=\"#000000\" fill-rule=\"evenodd\" fill-opacity=\"1\" /><path clip-path=\"url(#clip310)\" d=\"M123.006 679.943 L127.89 679.943 L127.89 685.823 L123.006 685.823 L123.006 679.943 Z\" fill=\"#000000\" fill-rule=\"evenodd\" fill-opacity=\"1\" /><path clip-path=\"url(#clip310)\" d=\"M142.103 681.888 L158.422 681.888 L158.422 685.823 L136.478 685.823 L136.478 681.888 Q139.14 679.133 143.723 674.504 Q148.33 669.851 149.51 668.508 Q151.755 665.985 152.635 664.249 Q153.538 662.49 153.538 660.8 Q153.538 658.045 151.593 656.309 Q149.672 654.573 146.57 654.573 Q144.371 654.573 141.918 655.337 Q139.487 656.101 136.709 657.652 L136.709 652.93 Q139.533 651.795 141.987 651.217 Q144.441 650.638 146.478 650.638 Q151.848 650.638 155.042 653.323 Q158.237 656.008 158.237 660.499 Q158.237 662.629 157.427 664.55 Q156.64 666.448 154.533 669.041 Q153.955 669.712 150.853 672.93 Q147.751 676.124 142.103 681.888 Z\" fill=\"#000000\" fill-rule=\"evenodd\" fill-opacity=\"1\" /><path clip-path=\"url(#clip310)\" d=\"M52.7051 377.555 L82.3808 377.555 L82.3808 381.49 L52.7051 381.49 L52.7051 377.555 Z\" fill=\"#000000\" fill-rule=\"evenodd\" fill-opacity=\"1\" /><path clip-path=\"url(#clip310)\" d=\"M102.473 362.902 Q98.8622 362.902 97.0335 366.467 Q95.228 370.008 95.228 377.138 Q95.228 384.244 97.0335 387.809 Q98.8622 391.351 102.473 391.351 Q106.108 391.351 107.913 387.809 Q109.742 384.244 109.742 377.138 Q109.742 370.008 107.913 366.467 Q106.108 362.902 102.473 362.902 M102.473 359.198 Q108.283 359.198 111.339 363.805 Q114.418 368.388 114.418 377.138 Q114.418 385.865 111.339 390.471 Q108.283 395.055 102.473 395.055 Q96.6632 395.055 93.5845 390.471 Q90.529 385.865 90.529 377.138 Q90.529 368.388 93.5845 363.805 Q96.6632 359.198 102.473 359.198 Z\" fill=\"#000000\" fill-rule=\"evenodd\" fill-opacity=\"1\" /><path clip-path=\"url(#clip310)\" d=\"M122.635 388.504 L127.519 388.504 L127.519 394.383 L122.635 394.383 L122.635 388.504 Z\" fill=\"#000000\" fill-rule=\"evenodd\" fill-opacity=\"1\" /><path clip-path=\"url(#clip310)\" d=\"M138.515 390.448 L146.154 390.448 L146.154 364.083 L137.844 365.749 L137.844 361.49 L146.107 359.823 L150.783 359.823 L150.783 390.448 L158.422 390.448 L158.422 394.383 L138.515 394.383 L138.515 390.448 Z\" fill=\"#000000\" fill-rule=\"evenodd\" fill-opacity=\"1\" /><path clip-path=\"url(#clip310)\" d=\"M101.246 71.4622 Q97.6354 71.4622 95.8067 75.027 Q94.0012 78.5687 94.0012 85.6982 Q94.0012 92.8047 95.8067 96.3695 Q97.6354 99.9111 101.246 99.9111 Q104.881 99.9111 106.686 96.3695 Q108.515 92.8047 108.515 85.6982 Q108.515 78.5687 106.686 75.027 Q104.881 71.4622 101.246 71.4622 M101.246 67.7585 Q107.057 67.7585 110.112 72.365 Q113.191 76.9483 113.191 85.6982 Q113.191 94.425 110.112 99.0315 Q107.057 103.615 101.246 103.615 Q95.4363 103.615 92.3576 99.0315 Q89.3021 94.425 89.3021 85.6982 Q89.3021 76.9483 92.3576 72.365 Q95.4363 67.7585 101.246 67.7585 Z\" fill=\"#000000\" fill-rule=\"evenodd\" fill-opacity=\"1\" /><path clip-path=\"url(#clip310)\" d=\"M121.408 97.0639 L126.293 97.0639 L126.293 102.944 L121.408 102.944 L121.408 97.0639 Z\" fill=\"#000000\" fill-rule=\"evenodd\" fill-opacity=\"1\" /><path clip-path=\"url(#clip310)\" d=\"M146.478 71.4622 Q142.867 71.4622 141.038 75.027 Q139.232 78.5687 139.232 85.6982 Q139.232 92.8047 141.038 96.3695 Q142.867 99.9111 146.478 99.9111 Q150.112 99.9111 151.918 96.3695 Q153.746 92.8047 153.746 85.6982 Q153.746 78.5687 151.918 75.027 Q150.112 71.4622 146.478 71.4622 M146.478 67.7585 Q152.288 67.7585 155.343 72.365 Q158.422 76.9483 158.422 85.6982 Q158.422 94.425 155.343 99.0315 Q152.288 103.615 146.478 103.615 Q140.668 103.615 137.589 99.0315 Q134.533 94.425 134.533 85.6982 Q134.533 76.9483 137.589 72.365 Q140.668 67.7585 146.478 67.7585 Z\" fill=\"#000000\" fill-rule=\"evenodd\" fill-opacity=\"1\" /><polyline clip-path=\"url(#clip312)\" style=\"stroke:#009af9; stroke-linecap:butt; stroke-linejoin:round; stroke-width:4; stroke-opacity:1; fill:none\" points=\"\n",
       "  255.507,727.209 362.674,613.729 469.84,508.629 577.007,412.695 684.173,326.817 791.34,252.001 898.506,189.38 1005.67,140.218 1112.84,105.913 1220.01,87.9829 \n",
       "  1327.17,88.0537 1434.34,107.818 1541.51,148.985 1648.67,213.212 1755.84,302.017 1863,416.694 1970.17,558.222 2077.34,727.204 2184.5,923.818 2291.67,1147.82 \n",
       "  \n",
       "  \"/>\n",
       "<polyline clip-path=\"url(#clip312)\" style=\"stroke:#e26f46; stroke-linecap:butt; stroke-linejoin:round; stroke-width:4; stroke-opacity:1; fill:none\" points=\"\n",
       "  255.507,1445.72 362.674,1103.32 469.84,830.844 577.007,614.793 684.173,445.335 791.34,315.074 898.506,218.302 1005.67,150.515 1112.84,108.089 1220.01,88.0619 \n",
       "  1327.17,87.9763 1434.34,105.768 1541.51,139.686 1648.67,188.226 1755.84,250.09 1863,324.145 1970.17,409.399 2077.34,504.973 2184.5,610.09 2291.67,724.055 \n",
       "  \n",
       "  \"/>\n",
       "<polyline clip-path=\"url(#clip312)\" style=\"stroke:#3da44d; stroke-linecap:butt; stroke-linejoin:round; stroke-width:4; stroke-opacity:1; fill:none\" points=\"\n",
       "  255.507,723.778 362.674,611.555 469.84,507.344 577.007,412 684.173,326.483 791.34,251.866 898.506,189.338 1005.67,140.211 1112.84,105.912 1220.01,87.983 \n",
       "  1327.17,88.0536 1434.34,107.814 1541.51,148.963 1648.67,213.149 1755.84,301.904 1863,416.586 1970.17,558.33 2077.34,728.018 2184.5,926.259 2291.67,1153.39 \n",
       "  \n",
       "  \"/>\n",
       "<polyline clip-path=\"url(#clip312)\" style=\"stroke:#c271d2; stroke-linecap:butt; stroke-linejoin:round; stroke-width:4; stroke-opacity:1; fill:none\" points=\"\n",
       "  255.507,723.778 362.674,611.555 469.84,507.344 577.007,412 684.173,326.483 791.34,251.866 898.506,189.338 1005.67,140.211 1112.84,105.912 1220.01,87.983 \n",
       "  1327.17,88.0536 1434.34,107.814 1541.51,148.963 1648.67,213.149 1755.84,301.904 1863,416.586 1970.17,558.33 2077.34,728.018 2184.5,926.259 2291.67,1153.39 \n",
       "  \n",
       "  \"/>\n",
       "<path clip-path=\"url(#clip310)\" d=\"\n",
       "M1889.26 354.418 L2280.81 354.418 L2280.81 95.2176 L1889.26 95.2176  Z\n",
       "  \" fill=\"#ffffff\" fill-rule=\"evenodd\" fill-opacity=\"1\"/>\n",
       "<polyline clip-path=\"url(#clip310)\" style=\"stroke:#000000; stroke-linecap:butt; stroke-linejoin:round; stroke-width:4; stroke-opacity:1; fill:none\" points=\"\n",
       "  1889.26,354.418 2280.81,354.418 2280.81,95.2176 1889.26,95.2176 1889.26,354.418 \n",
       "  \"/>\n",
       "<polyline clip-path=\"url(#clip310)\" style=\"stroke:#009af9; stroke-linecap:butt; stroke-linejoin:round; stroke-width:4; stroke-opacity:1; fill:none\" points=\"\n",
       "  1913.24,147.058 2057.13,147.058 \n",
       "  \"/>\n",
       "<path clip-path=\"url(#clip310)\" d=\"M2081.11 129.778 L2102.96 129.778 L2102.96 133.713 L2085.79 133.713 L2085.79 143.944 L2102.25 143.944 L2102.25 147.879 L2085.79 147.879 L2085.79 160.402 L2103.38 160.402 L2103.38 164.338 L2081.11 164.338 L2081.11 129.778 Z\" fill=\"#000000\" fill-rule=\"evenodd\" fill-opacity=\"1\" /><path clip-path=\"url(#clip310)\" d=\"M2132.43 138.412 L2123.06 151.027 L2132.92 164.338 L2127.9 164.338 L2120.35 154.152 L2112.8 164.338 L2107.78 164.338 L2117.85 150.773 L2108.64 138.412 L2113.66 138.412 L2120.53 147.648 L2127.41 138.412 L2132.43 138.412 Z\" fill=\"#000000\" fill-rule=\"evenodd\" fill-opacity=\"1\" /><path clip-path=\"url(#clip310)\" d=\"M2150.72 151.305 Q2145.56 151.305 2143.57 152.486 Q2141.58 153.666 2141.58 156.514 Q2141.58 158.782 2143.06 160.125 Q2144.56 161.444 2147.13 161.444 Q2150.67 161.444 2152.8 158.944 Q2154.96 156.421 2154.96 152.254 L2154.96 151.305 L2150.72 151.305 M2159.21 149.546 L2159.21 164.338 L2154.96 164.338 L2154.96 160.402 Q2153.5 162.763 2151.32 163.898 Q2149.15 165.009 2146 165.009 Q2142.02 165.009 2139.65 162.787 Q2137.32 160.541 2137.32 156.791 Q2137.32 152.416 2140.23 150.194 Q2143.17 147.972 2148.98 147.972 L2154.96 147.972 L2154.96 147.555 Q2154.96 144.615 2153.01 143.018 Q2151.09 141.398 2147.59 141.398 Q2145.37 141.398 2143.27 141.93 Q2141.16 142.463 2139.21 143.527 L2139.21 139.592 Q2141.55 138.69 2143.75 138.25 Q2145.95 137.787 2148.03 137.787 Q2153.66 137.787 2156.44 140.703 Q2159.21 143.62 2159.21 149.546 Z\" fill=\"#000000\" fill-rule=\"evenodd\" fill-opacity=\"1\" /><path clip-path=\"url(#clip310)\" d=\"M2186.65 139.407 L2186.65 143.389 Q2184.84 142.393 2183.01 141.907 Q2181.21 141.398 2179.35 141.398 Q2175.21 141.398 2172.92 144.037 Q2170.63 146.652 2170.63 151.398 Q2170.63 156.143 2172.92 158.782 Q2175.21 161.398 2179.35 161.398 Q2181.21 161.398 2183.01 160.912 Q2184.84 160.402 2186.65 159.407 L2186.65 163.342 Q2184.86 164.176 2182.94 164.592 Q2181.04 165.009 2178.89 165.009 Q2173.03 165.009 2169.58 161.328 Q2166.14 157.648 2166.14 151.398 Q2166.14 145.055 2169.61 141.421 Q2173.1 137.787 2179.17 137.787 Q2181.14 137.787 2183.01 138.203 Q2184.89 138.597 2186.65 139.407 Z\" fill=\"#000000\" fill-rule=\"evenodd\" fill-opacity=\"1\" /><path clip-path=\"url(#clip310)\" d=\"M2198.27 131.051 L2198.27 138.412 L2207.04 138.412 L2207.04 141.722 L2198.27 141.722 L2198.27 155.796 Q2198.27 158.967 2199.12 159.87 Q2200 160.773 2202.66 160.773 L2207.04 160.773 L2207.04 164.338 L2202.66 164.338 Q2197.73 164.338 2195.86 162.509 Q2193.98 160.657 2193.98 155.796 L2193.98 141.722 L2190.86 141.722 L2190.86 138.412 L2193.98 138.412 L2193.98 131.051 L2198.27 131.051 Z\" fill=\"#000000\" fill-rule=\"evenodd\" fill-opacity=\"1\" /><polyline clip-path=\"url(#clip310)\" style=\"stroke:#e26f46; stroke-linecap:butt; stroke-linejoin:round; stroke-width:4; stroke-opacity:1; fill:none\" points=\"\n",
       "  1913.24,198.898 2057.13,198.898 \n",
       "  \"/>\n",
       "<path clip-path=\"url(#clip310)\" d=\"M2081.11 181.618 L2088.08 181.618 L2096.9 205.136 L2105.77 181.618 L2112.73 181.618 L2112.73 216.178 L2108.17 216.178 L2108.17 185.83 L2099.26 209.534 L2094.56 209.534 L2085.65 185.83 L2085.65 216.178 L2081.11 216.178 L2081.11 181.618 Z\" fill=\"#000000\" fill-rule=\"evenodd\" fill-opacity=\"1\" /><path clip-path=\"url(#clip310)\" d=\"M2126.69 199.673 L2126.69 212.335 L2134.19 212.335 Q2137.96 212.335 2139.77 210.784 Q2141.6 209.21 2141.6 205.992 Q2141.6 202.752 2139.77 201.224 Q2137.96 199.673 2134.19 199.673 L2126.69 199.673 M2126.69 185.46 L2126.69 195.877 L2133.61 195.877 Q2137.04 195.877 2138.71 194.604 Q2140.4 193.307 2140.4 190.668 Q2140.4 188.053 2138.71 186.756 Q2137.04 185.46 2133.61 185.46 L2126.69 185.46 M2122.02 181.618 L2133.96 181.618 Q2139.31 181.618 2142.2 183.84 Q2145.09 186.062 2145.09 190.159 Q2145.09 193.33 2143.61 195.205 Q2142.13 197.08 2139.26 197.543 Q2142.71 198.284 2144.61 200.645 Q2146.53 202.983 2146.53 206.502 Q2146.53 211.131 2143.38 213.654 Q2140.23 216.178 2134.42 216.178 L2122.02 216.178 L2122.02 181.618 Z\" fill=\"#000000\" fill-rule=\"evenodd\" fill-opacity=\"1\" /><path clip-path=\"url(#clip310)\" d=\"M2159.21 185.46 L2159.21 198.446 L2165.09 198.446 Q2168.36 198.446 2170.14 196.756 Q2171.92 195.067 2171.92 191.942 Q2171.92 188.84 2170.14 187.15 Q2168.36 185.46 2165.09 185.46 L2159.21 185.46 M2154.54 181.618 L2165.09 181.618 Q2170.9 181.618 2173.87 184.256 Q2176.85 186.872 2176.85 191.942 Q2176.85 197.057 2173.87 199.673 Q2170.9 202.289 2165.09 202.289 L2159.21 202.289 L2159.21 216.178 L2154.54 216.178 L2154.54 181.618 Z\" fill=\"#000000\" fill-rule=\"evenodd\" fill-opacity=\"1\" /><path clip-path=\"url(#clip310)\" d=\"M2178.33 181.618 L2207.57 181.618 L2207.57 185.553 L2195.3 185.553 L2195.3 216.178 L2190.6 216.178 L2190.6 185.553 L2178.33 185.553 L2178.33 181.618 Z\" fill=\"#000000\" fill-rule=\"evenodd\" fill-opacity=\"1\" /><path clip-path=\"url(#clip310)\" d=\"M2216.53 212.242 L2232.85 212.242 L2232.85 216.178 L2210.9 216.178 L2210.9 212.242 Q2213.57 209.488 2218.15 204.858 Q2222.76 200.205 2223.94 198.863 Q2226.18 196.34 2227.06 194.604 Q2227.96 192.844 2227.96 191.155 Q2227.96 188.4 2226.02 186.664 Q2224.1 184.928 2221 184.928 Q2218.8 184.928 2216.34 185.692 Q2213.91 186.455 2211.14 188.006 L2211.14 183.284 Q2213.96 182.15 2216.41 181.571 Q2218.87 180.993 2220.9 180.993 Q2226.27 180.993 2229.47 183.678 Q2232.66 186.363 2232.66 190.854 Q2232.66 192.983 2231.85 194.905 Q2231.07 196.803 2228.96 199.395 Q2228.38 200.067 2225.28 203.284 Q2222.18 206.479 2216.53 212.242 Z\" fill=\"#000000\" fill-rule=\"evenodd\" fill-opacity=\"1\" /><polyline clip-path=\"url(#clip310)\" style=\"stroke:#3da44d; stroke-linecap:butt; stroke-linejoin:round; stroke-width:4; stroke-opacity:1; fill:none\" points=\"\n",
       "  1913.24,250.738 2057.13,250.738 \n",
       "  \"/>\n",
       "<path clip-path=\"url(#clip310)\" d=\"M2108.98 236.12 L2108.98 241.05 Q2106.62 238.851 2103.94 237.763 Q2101.28 236.675 2098.27 236.675 Q2092.34 236.675 2089.19 240.309 Q2086.04 243.92 2086.04 250.772 Q2086.04 257.601 2089.19 261.235 Q2092.34 264.846 2098.27 264.846 Q2101.28 264.846 2103.94 263.758 Q2106.62 262.67 2108.98 260.471 L2108.98 265.356 Q2106.53 267.022 2103.78 267.856 Q2101.04 268.689 2097.99 268.689 Q2090.14 268.689 2085.63 263.897 Q2081.11 259.082 2081.11 250.772 Q2081.11 242.439 2085.63 237.647 Q2090.14 232.833 2097.99 232.833 Q2101.09 232.833 2103.82 233.666 Q2106.58 234.476 2108.98 236.12 Z\" fill=\"#000000\" fill-rule=\"evenodd\" fill-opacity=\"1\" /><path clip-path=\"url(#clip310)\" d=\"M2142.09 236.12 L2142.09 241.05 Q2139.72 238.851 2137.04 237.763 Q2134.38 236.675 2131.37 236.675 Q2125.44 236.675 2122.29 240.309 Q2119.15 243.92 2119.15 250.772 Q2119.15 257.601 2122.29 261.235 Q2125.44 264.846 2131.37 264.846 Q2134.38 264.846 2137.04 263.758 Q2139.72 262.67 2142.09 260.471 L2142.09 265.356 Q2139.63 267.022 2136.88 267.856 Q2134.15 268.689 2131.09 268.689 Q2123.24 268.689 2118.73 263.897 Q2114.21 259.082 2114.21 250.772 Q2114.21 242.439 2118.73 237.647 Q2123.24 232.833 2131.09 232.833 Q2134.19 232.833 2136.92 233.666 Q2139.68 234.476 2142.09 236.12 Z\" fill=\"#000000\" fill-rule=\"evenodd\" fill-opacity=\"1\" /><path clip-path=\"url(#clip310)\" d=\"M2153.98 237.3 L2153.98 264.175 L2159.63 264.175 Q2166.78 264.175 2170.09 260.934 Q2173.43 257.694 2173.43 250.703 Q2173.43 243.758 2170.09 240.541 Q2166.78 237.3 2159.63 237.3 L2153.98 237.3 M2149.31 233.458 L2158.91 233.458 Q2168.96 233.458 2173.66 237.647 Q2178.36 241.814 2178.36 250.703 Q2178.36 259.638 2173.64 263.828 Q2168.91 268.018 2158.91 268.018 L2149.31 268.018 L2149.31 233.458 Z\" fill=\"#000000\" fill-rule=\"evenodd\" fill-opacity=\"1\" /><polyline clip-path=\"url(#clip310)\" style=\"stroke:#c271d2; stroke-linecap:butt; stroke-linejoin:round; stroke-width:4; stroke-opacity:1; fill:none\" points=\"\n",
       "  1913.24,302.578 2057.13,302.578 \n",
       "  \"/>\n",
       "<path clip-path=\"url(#clip310)\" d=\"M2108.98 287.96 L2108.98 292.89 Q2106.62 290.691 2103.94 289.603 Q2101.28 288.515 2098.27 288.515 Q2092.34 288.515 2089.19 292.149 Q2086.04 295.76 2086.04 302.612 Q2086.04 309.441 2089.19 313.075 Q2092.34 316.686 2098.27 316.686 Q2101.28 316.686 2103.94 315.598 Q2106.62 314.51 2108.98 312.311 L2108.98 317.196 Q2106.53 318.862 2103.78 319.696 Q2101.04 320.529 2097.99 320.529 Q2090.14 320.529 2085.63 315.737 Q2081.11 310.922 2081.11 302.612 Q2081.11 294.279 2085.63 289.487 Q2090.14 284.673 2097.99 284.673 Q2101.09 284.673 2103.82 285.506 Q2106.58 286.316 2108.98 287.96 Z\" fill=\"#000000\" fill-rule=\"evenodd\" fill-opacity=\"1\" /><path clip-path=\"url(#clip310)\" d=\"M2142.09 287.96 L2142.09 292.89 Q2139.72 290.691 2137.04 289.603 Q2134.38 288.515 2131.37 288.515 Q2125.44 288.515 2122.29 292.149 Q2119.15 295.76 2119.15 302.612 Q2119.15 309.441 2122.29 313.075 Q2125.44 316.686 2131.37 316.686 Q2134.38 316.686 2137.04 315.598 Q2139.72 314.51 2142.09 312.311 L2142.09 317.196 Q2139.63 318.862 2136.88 319.696 Q2134.15 320.529 2131.09 320.529 Q2123.24 320.529 2118.73 315.737 Q2114.21 310.922 2114.21 302.612 Q2114.21 294.279 2118.73 289.487 Q2123.24 284.673 2131.09 284.673 Q2134.19 284.673 2136.92 285.506 Q2139.68 286.316 2142.09 287.96 Z\" fill=\"#000000\" fill-rule=\"evenodd\" fill-opacity=\"1\" /><path clip-path=\"url(#clip310)\" d=\"M2170.02 286.432 L2170.02 290.992 Q2167.36 289.719 2165 289.094 Q2162.64 288.469 2160.44 288.469 Q2156.62 288.469 2154.54 289.95 Q2152.48 291.432 2152.48 294.163 Q2152.48 296.455 2153.84 297.635 Q2155.23 298.793 2159.08 299.51 L2161.9 300.089 Q2167.13 301.085 2169.61 303.608 Q2172.11 306.108 2172.11 310.321 Q2172.11 315.344 2168.73 317.936 Q2165.37 320.529 2158.87 320.529 Q2156.41 320.529 2153.64 319.973 Q2150.88 319.418 2147.92 318.33 L2147.92 313.515 Q2150.77 315.112 2153.5 315.922 Q2156.23 316.733 2158.87 316.733 Q2162.87 316.733 2165.05 315.159 Q2167.22 313.584 2167.22 310.668 Q2167.22 308.122 2165.65 306.686 Q2164.1 305.251 2160.53 304.534 L2157.69 303.978 Q2152.46 302.936 2150.12 300.714 Q2147.78 298.492 2147.78 294.534 Q2147.78 289.95 2151 287.311 Q2154.24 284.673 2159.91 284.673 Q2162.34 284.673 2164.86 285.112 Q2167.39 285.552 2170.02 286.432 Z\" fill=\"#000000\" fill-rule=\"evenodd\" fill-opacity=\"1\" /><path clip-path=\"url(#clip310)\" d=\"M2184.08 289.14 L2184.08 316.015 L2189.72 316.015 Q2196.88 316.015 2200.19 312.774 Q2203.52 309.534 2203.52 302.543 Q2203.52 295.598 2200.19 292.381 Q2196.88 289.14 2189.72 289.14 L2184.08 289.14 M2179.4 285.298 L2189.01 285.298 Q2199.05 285.298 2203.75 289.487 Q2208.45 293.654 2208.45 302.543 Q2208.45 311.478 2203.73 315.668 Q2199.01 319.858 2189.01 319.858 L2179.4 319.858 L2179.4 285.298 Z\" fill=\"#000000\" fill-rule=\"evenodd\" fill-opacity=\"1\" /></svg>\n"
      ]
     },
     "execution_count": 153,
     "metadata": {},
     "output_type": "execute_result"
    }
   ],
   "source": [
    "g_range = range(-1, 1, length = 20)\n",
    "\n",
    "plt.plot(g_range, exact.(g_range), lw = 1, label = \"Exact\")\n",
    "plt.plot!(g_range, MBPT2.(g_range), lw = 1, label = \"MBPT2\")\n",
    "plt.plot!(g_range, CCD_run.(g_range), lw = 1, label = \"CCD\")\n",
    "plt.plot!(g_range, CCSD_run.(g_range), lw = 1, label = \"CCSD\")"
   ]
  },
  {
   "cell_type": "code",
   "execution_count": 156,
   "id": "527af89e-e076-4686-bf2e-aff140ae04f7",
   "metadata": {},
   "outputs": [
    {
     "data": {
      "image/svg+xml": [
       "<?xml version=\"1.0\" encoding=\"utf-8\"?>\n",
       "<svg xmlns=\"http://www.w3.org/2000/svg\" xmlns:xlink=\"http://www.w3.org/1999/xlink\" width=\"600\" height=\"400\" viewBox=\"0 0 2400 1600\">\n",
       "<defs>\n",
       "  <clipPath id=\"clip430\">\n",
       "    <rect x=\"0\" y=\"0\" width=\"2400\" height=\"1600\"/>\n",
       "  </clipPath>\n",
       "</defs>\n",
       "<path clip-path=\"url(#clip430)\" d=\"\n",
       "M0 1600 L2400 1600 L2400 0 L0 0  Z\n",
       "  \" fill=\"#ffffff\" fill-rule=\"evenodd\" fill-opacity=\"1\"/>\n",
       "<defs>\n",
       "  <clipPath id=\"clip431\">\n",
       "    <rect x=\"480\" y=\"0\" width=\"1681\" height=\"1600\"/>\n",
       "  </clipPath>\n",
       "</defs>\n",
       "<path clip-path=\"url(#clip430)\" d=\"\n",
       "M253.033 1486.45 L2352.76 1486.45 L2352.76 47.2441 L253.033 47.2441  Z\n",
       "  \" fill=\"#ffffff\" fill-rule=\"evenodd\" fill-opacity=\"1\"/>\n",
       "<defs>\n",
       "  <clipPath id=\"clip432\">\n",
       "    <rect x=\"253\" y=\"47\" width=\"2101\" height=\"1440\"/>\n",
       "  </clipPath>\n",
       "</defs>\n",
       "<polyline clip-path=\"url(#clip432)\" style=\"stroke:#000000; stroke-linecap:butt; stroke-linejoin:round; stroke-width:2; stroke-opacity:0.1; fill:none\" points=\"\n",
       "  312.459,1486.45 312.459,47.2441 \n",
       "  \"/>\n",
       "<polyline clip-path=\"url(#clip432)\" style=\"stroke:#000000; stroke-linecap:butt; stroke-linejoin:round; stroke-width:2; stroke-opacity:0.1; fill:none\" points=\"\n",
       "  807.677,1486.45 807.677,47.2441 \n",
       "  \"/>\n",
       "<polyline clip-path=\"url(#clip432)\" style=\"stroke:#000000; stroke-linecap:butt; stroke-linejoin:round; stroke-width:2; stroke-opacity:0.1; fill:none\" points=\"\n",
       "  1302.89,1486.45 1302.89,47.2441 \n",
       "  \"/>\n",
       "<polyline clip-path=\"url(#clip432)\" style=\"stroke:#000000; stroke-linecap:butt; stroke-linejoin:round; stroke-width:2; stroke-opacity:0.1; fill:none\" points=\"\n",
       "  1798.11,1486.45 1798.11,47.2441 \n",
       "  \"/>\n",
       "<polyline clip-path=\"url(#clip432)\" style=\"stroke:#000000; stroke-linecap:butt; stroke-linejoin:round; stroke-width:2; stroke-opacity:0.1; fill:none\" points=\"\n",
       "  2293.33,1486.45 2293.33,47.2441 \n",
       "  \"/>\n",
       "<polyline clip-path=\"url(#clip430)\" style=\"stroke:#000000; stroke-linecap:butt; stroke-linejoin:round; stroke-width:4; stroke-opacity:1; fill:none\" points=\"\n",
       "  253.033,1486.45 2352.76,1486.45 \n",
       "  \"/>\n",
       "<polyline clip-path=\"url(#clip430)\" style=\"stroke:#000000; stroke-linecap:butt; stroke-linejoin:round; stroke-width:4; stroke-opacity:1; fill:none\" points=\"\n",
       "  312.459,1486.45 312.459,1467.55 \n",
       "  \"/>\n",
       "<polyline clip-path=\"url(#clip430)\" style=\"stroke:#000000; stroke-linecap:butt; stroke-linejoin:round; stroke-width:4; stroke-opacity:1; fill:none\" points=\"\n",
       "  807.677,1486.45 807.677,1467.55 \n",
       "  \"/>\n",
       "<polyline clip-path=\"url(#clip430)\" style=\"stroke:#000000; stroke-linecap:butt; stroke-linejoin:round; stroke-width:4; stroke-opacity:1; fill:none\" points=\"\n",
       "  1302.89,1486.45 1302.89,1467.55 \n",
       "  \"/>\n",
       "<polyline clip-path=\"url(#clip430)\" style=\"stroke:#000000; stroke-linecap:butt; stroke-linejoin:round; stroke-width:4; stroke-opacity:1; fill:none\" points=\"\n",
       "  1798.11,1486.45 1798.11,1467.55 \n",
       "  \"/>\n",
       "<polyline clip-path=\"url(#clip430)\" style=\"stroke:#000000; stroke-linecap:butt; stroke-linejoin:round; stroke-width:4; stroke-opacity:1; fill:none\" points=\"\n",
       "  2293.33,1486.45 2293.33,1467.55 \n",
       "  \"/>\n",
       "<path clip-path=\"url(#clip430)\" d=\"M258.987 1530.29 L288.663 1530.29 L288.663 1534.23 L258.987 1534.23 L258.987 1530.29 Z\" fill=\"#000000\" fill-rule=\"evenodd\" fill-opacity=\"1\" /><path clip-path=\"url(#clip430)\" d=\"M299.566 1543.18 L307.204 1543.18 L307.204 1516.82 L298.894 1518.49 L298.894 1514.23 L307.158 1512.56 L311.834 1512.56 L311.834 1543.18 L319.473 1543.18 L319.473 1547.12 L299.566 1547.12 L299.566 1543.18 Z\" fill=\"#000000\" fill-rule=\"evenodd\" fill-opacity=\"1\" /><path clip-path=\"url(#clip430)\" d=\"M328.917 1541.24 L333.802 1541.24 L333.802 1547.12 L328.917 1547.12 L328.917 1541.24 Z\" fill=\"#000000\" fill-rule=\"evenodd\" fill-opacity=\"1\" /><path clip-path=\"url(#clip430)\" d=\"M353.987 1515.64 Q350.375 1515.64 348.547 1519.2 Q346.741 1522.75 346.741 1529.87 Q346.741 1536.98 348.547 1540.55 Q350.375 1544.09 353.987 1544.09 Q357.621 1544.09 359.426 1540.55 Q361.255 1536.98 361.255 1529.87 Q361.255 1522.75 359.426 1519.2 Q357.621 1515.64 353.987 1515.64 M353.987 1511.93 Q359.797 1511.93 362.852 1516.54 Q365.931 1521.12 365.931 1529.87 Q365.931 1538.6 362.852 1543.21 Q359.797 1547.79 353.987 1547.79 Q348.176 1547.79 345.098 1543.21 Q342.042 1538.6 342.042 1529.87 Q342.042 1521.12 345.098 1516.54 Q348.176 1511.93 353.987 1511.93 Z\" fill=\"#000000\" fill-rule=\"evenodd\" fill-opacity=\"1\" /><path clip-path=\"url(#clip430)\" d=\"M754.702 1530.29 L784.378 1530.29 L784.378 1534.23 L754.702 1534.23 L754.702 1530.29 Z\" fill=\"#000000\" fill-rule=\"evenodd\" fill-opacity=\"1\" /><path clip-path=\"url(#clip430)\" d=\"M804.471 1515.64 Q800.86 1515.64 799.031 1519.2 Q797.225 1522.75 797.225 1529.87 Q797.225 1536.98 799.031 1540.55 Q800.86 1544.09 804.471 1544.09 Q808.105 1544.09 809.91 1540.55 Q811.739 1536.98 811.739 1529.87 Q811.739 1522.75 809.91 1519.2 Q808.105 1515.64 804.471 1515.64 M804.471 1511.93 Q810.281 1511.93 813.336 1516.54 Q816.415 1521.12 816.415 1529.87 Q816.415 1538.6 813.336 1543.21 Q810.281 1547.79 804.471 1547.79 Q798.661 1547.79 795.582 1543.21 Q792.526 1538.6 792.526 1529.87 Q792.526 1521.12 795.582 1516.54 Q798.661 1511.93 804.471 1511.93 Z\" fill=\"#000000\" fill-rule=\"evenodd\" fill-opacity=\"1\" /><path clip-path=\"url(#clip430)\" d=\"M824.633 1541.24 L829.517 1541.24 L829.517 1547.12 L824.633 1547.12 L824.633 1541.24 Z\" fill=\"#000000\" fill-rule=\"evenodd\" fill-opacity=\"1\" /><path clip-path=\"url(#clip430)\" d=\"M839.748 1512.56 L858.105 1512.56 L858.105 1516.5 L844.031 1516.5 L844.031 1524.97 Q845.049 1524.62 846.068 1524.46 Q847.086 1524.27 848.105 1524.27 Q853.892 1524.27 857.271 1527.44 Q860.651 1530.62 860.651 1536.03 Q860.651 1541.61 857.179 1544.71 Q853.707 1547.79 847.387 1547.79 Q845.211 1547.79 842.943 1547.42 Q840.697 1547.05 838.29 1546.31 L838.29 1541.61 Q840.373 1542.74 842.596 1543.3 Q844.818 1543.86 847.295 1543.86 Q851.299 1543.86 853.637 1541.75 Q855.975 1539.64 855.975 1536.03 Q855.975 1532.42 853.637 1530.31 Q851.299 1528.21 847.295 1528.21 Q845.42 1528.21 843.545 1528.62 Q841.693 1529.04 839.748 1529.92 L839.748 1512.56 Z\" fill=\"#000000\" fill-rule=\"evenodd\" fill-opacity=\"1\" /><path clip-path=\"url(#clip430)\" d=\"M1280.28 1515.64 Q1276.67 1515.64 1274.84 1519.2 Q1273.03 1522.75 1273.03 1529.87 Q1273.03 1536.98 1274.84 1540.55 Q1276.67 1544.09 1280.28 1544.09 Q1283.91 1544.09 1285.72 1540.55 Q1287.55 1536.98 1287.55 1529.87 Q1287.55 1522.75 1285.72 1519.2 Q1283.91 1515.64 1280.28 1515.64 M1280.28 1511.93 Q1286.09 1511.93 1289.14 1516.54 Q1292.22 1521.12 1292.22 1529.87 Q1292.22 1538.6 1289.14 1543.21 Q1286.09 1547.79 1280.28 1547.79 Q1274.47 1547.79 1271.39 1543.21 Q1268.33 1538.6 1268.33 1529.87 Q1268.33 1521.12 1271.39 1516.54 Q1274.47 1511.93 1280.28 1511.93 Z\" fill=\"#000000\" fill-rule=\"evenodd\" fill-opacity=\"1\" /><path clip-path=\"url(#clip430)\" d=\"M1300.44 1541.24 L1305.32 1541.24 L1305.32 1547.12 L1300.44 1547.12 L1300.44 1541.24 Z\" fill=\"#000000\" fill-rule=\"evenodd\" fill-opacity=\"1\" /><path clip-path=\"url(#clip430)\" d=\"M1325.51 1515.64 Q1321.9 1515.64 1320.07 1519.2 Q1318.26 1522.75 1318.26 1529.87 Q1318.26 1536.98 1320.07 1540.55 Q1321.9 1544.09 1325.51 1544.09 Q1329.14 1544.09 1330.95 1540.55 Q1332.78 1536.98 1332.78 1529.87 Q1332.78 1522.75 1330.95 1519.2 Q1329.14 1515.64 1325.51 1515.64 M1325.51 1511.93 Q1331.32 1511.93 1334.38 1516.54 Q1337.45 1521.12 1337.45 1529.87 Q1337.45 1538.6 1334.38 1543.21 Q1331.32 1547.79 1325.51 1547.79 Q1319.7 1547.79 1316.62 1543.21 Q1313.57 1538.6 1313.57 1529.87 Q1313.57 1521.12 1316.62 1516.54 Q1319.7 1511.93 1325.51 1511.93 Z\" fill=\"#000000\" fill-rule=\"evenodd\" fill-opacity=\"1\" /><path clip-path=\"url(#clip430)\" d=\"M1775.99 1515.64 Q1772.38 1515.64 1770.55 1519.2 Q1768.75 1522.75 1768.75 1529.87 Q1768.75 1536.98 1770.55 1540.55 Q1772.38 1544.09 1775.99 1544.09 Q1779.63 1544.09 1781.43 1540.55 Q1783.26 1536.98 1783.26 1529.87 Q1783.26 1522.75 1781.43 1519.2 Q1779.63 1515.64 1775.99 1515.64 M1775.99 1511.93 Q1781.8 1511.93 1784.86 1516.54 Q1787.94 1521.12 1787.94 1529.87 Q1787.94 1538.6 1784.86 1543.21 Q1781.8 1547.79 1775.99 1547.79 Q1770.18 1547.79 1767.11 1543.21 Q1764.05 1538.6 1764.05 1529.87 Q1764.05 1521.12 1767.11 1516.54 Q1770.18 1511.93 1775.99 1511.93 Z\" fill=\"#000000\" fill-rule=\"evenodd\" fill-opacity=\"1\" /><path clip-path=\"url(#clip430)\" d=\"M1796.16 1541.24 L1801.04 1541.24 L1801.04 1547.12 L1796.16 1547.12 L1796.16 1541.24 Z\" fill=\"#000000\" fill-rule=\"evenodd\" fill-opacity=\"1\" /><path clip-path=\"url(#clip430)\" d=\"M1811.27 1512.56 L1829.63 1512.56 L1829.63 1516.5 L1815.55 1516.5 L1815.55 1524.97 Q1816.57 1524.62 1817.59 1524.46 Q1818.61 1524.27 1819.63 1524.27 Q1825.42 1524.27 1828.79 1527.44 Q1832.17 1530.62 1832.17 1536.03 Q1832.17 1541.61 1828.7 1544.71 Q1825.23 1547.79 1818.91 1547.79 Q1816.73 1547.79 1814.47 1547.42 Q1812.22 1547.05 1809.81 1546.31 L1809.81 1541.61 Q1811.9 1542.74 1814.12 1543.3 Q1816.34 1543.86 1818.82 1543.86 Q1822.82 1543.86 1825.16 1541.75 Q1827.5 1539.64 1827.5 1536.03 Q1827.5 1532.42 1825.16 1530.31 Q1822.82 1528.21 1818.82 1528.21 Q1816.94 1528.21 1815.07 1528.62 Q1813.22 1529.04 1811.27 1529.92 L1811.27 1512.56 Z\" fill=\"#000000\" fill-rule=\"evenodd\" fill-opacity=\"1\" /><path clip-path=\"url(#clip430)\" d=\"M2260.48 1543.18 L2268.12 1543.18 L2268.12 1516.82 L2259.81 1518.49 L2259.81 1514.23 L2268.08 1512.56 L2272.75 1512.56 L2272.75 1543.18 L2280.39 1543.18 L2280.39 1547.12 L2260.48 1547.12 L2260.48 1543.18 Z\" fill=\"#000000\" fill-rule=\"evenodd\" fill-opacity=\"1\" /><path clip-path=\"url(#clip430)\" d=\"M2289.83 1541.24 L2294.72 1541.24 L2294.72 1547.12 L2289.83 1547.12 L2289.83 1541.24 Z\" fill=\"#000000\" fill-rule=\"evenodd\" fill-opacity=\"1\" /><path clip-path=\"url(#clip430)\" d=\"M2314.9 1515.64 Q2311.29 1515.64 2309.46 1519.2 Q2307.66 1522.75 2307.66 1529.87 Q2307.66 1536.98 2309.46 1540.55 Q2311.29 1544.09 2314.9 1544.09 Q2318.54 1544.09 2320.34 1540.55 Q2322.17 1536.98 2322.17 1529.87 Q2322.17 1522.75 2320.34 1519.2 Q2318.54 1515.64 2314.9 1515.64 M2314.9 1511.93 Q2320.71 1511.93 2323.77 1516.54 Q2326.85 1521.12 2326.85 1529.87 Q2326.85 1538.6 2323.77 1543.21 Q2320.71 1547.79 2314.9 1547.79 Q2309.09 1547.79 2306.01 1543.21 Q2302.96 1538.6 2302.96 1529.87 Q2302.96 1521.12 2306.01 1516.54 Q2309.09 1511.93 2314.9 1511.93 Z\" fill=\"#000000\" fill-rule=\"evenodd\" fill-opacity=\"1\" /><polyline clip-path=\"url(#clip432)\" style=\"stroke:#000000; stroke-linecap:butt; stroke-linejoin:round; stroke-width:2; stroke-opacity:0.1; fill:none\" points=\"\n",
       "  253.033,1484.58 2352.76,1484.58 \n",
       "  \"/>\n",
       "<polyline clip-path=\"url(#clip432)\" style=\"stroke:#000000; stroke-linecap:butt; stroke-linejoin:round; stroke-width:2; stroke-opacity:0.1; fill:none\" points=\"\n",
       "  253.033,1045.04 2352.76,1045.04 \n",
       "  \"/>\n",
       "<polyline clip-path=\"url(#clip432)\" style=\"stroke:#000000; stroke-linecap:butt; stroke-linejoin:round; stroke-width:2; stroke-opacity:0.1; fill:none\" points=\"\n",
       "  253.033,605.502 2352.76,605.502 \n",
       "  \"/>\n",
       "<polyline clip-path=\"url(#clip432)\" style=\"stroke:#000000; stroke-linecap:butt; stroke-linejoin:round; stroke-width:2; stroke-opacity:0.1; fill:none\" points=\"\n",
       "  253.033,165.963 2352.76,165.963 \n",
       "  \"/>\n",
       "<polyline clip-path=\"url(#clip430)\" style=\"stroke:#000000; stroke-linecap:butt; stroke-linejoin:round; stroke-width:4; stroke-opacity:1; fill:none\" points=\"\n",
       "  253.033,1486.45 253.033,47.2441 \n",
       "  \"/>\n",
       "<polyline clip-path=\"url(#clip430)\" style=\"stroke:#000000; stroke-linecap:butt; stroke-linejoin:round; stroke-width:4; stroke-opacity:1; fill:none\" points=\"\n",
       "  253.033,1484.58 271.931,1484.58 \n",
       "  \"/>\n",
       "<polyline clip-path=\"url(#clip430)\" style=\"stroke:#000000; stroke-linecap:butt; stroke-linejoin:round; stroke-width:4; stroke-opacity:1; fill:none\" points=\"\n",
       "  253.033,1045.04 271.931,1045.04 \n",
       "  \"/>\n",
       "<polyline clip-path=\"url(#clip430)\" style=\"stroke:#000000; stroke-linecap:butt; stroke-linejoin:round; stroke-width:4; stroke-opacity:1; fill:none\" points=\"\n",
       "  253.033,605.502 271.931,605.502 \n",
       "  \"/>\n",
       "<polyline clip-path=\"url(#clip430)\" style=\"stroke:#000000; stroke-linecap:butt; stroke-linejoin:round; stroke-width:4; stroke-opacity:1; fill:none\" points=\"\n",
       "  253.033,165.963 271.931,165.963 \n",
       "  \"/>\n",
       "<path clip-path=\"url(#clip430)\" d=\"M51.3625 1485.03 L81.0383 1485.03 L81.0383 1488.97 L51.3625 1488.97 L51.3625 1485.03 Z\" fill=\"#000000\" fill-rule=\"evenodd\" fill-opacity=\"1\" /><path clip-path=\"url(#clip430)\" d=\"M101.131 1470.38 Q97.5197 1470.38 95.691 1473.94 Q93.8854 1477.49 93.8854 1484.61 Q93.8854 1491.72 95.691 1495.29 Q97.5197 1498.83 101.131 1498.83 Q104.765 1498.83 106.571 1495.29 Q108.399 1491.72 108.399 1484.61 Q108.399 1477.49 106.571 1473.94 Q104.765 1470.38 101.131 1470.38 M101.131 1466.68 Q106.941 1466.68 109.996 1471.28 Q113.075 1475.86 113.075 1484.61 Q113.075 1493.34 109.996 1497.95 Q106.941 1502.53 101.131 1502.53 Q95.3206 1502.53 92.2419 1497.95 Q89.1864 1493.34 89.1864 1484.61 Q89.1864 1475.86 92.2419 1471.28 Q95.3206 1466.68 101.131 1466.68 Z\" fill=\"#000000\" fill-rule=\"evenodd\" fill-opacity=\"1\" /><path clip-path=\"url(#clip430)\" d=\"M121.293 1495.98 L126.177 1495.98 L126.177 1501.86 L121.293 1501.86 L121.293 1495.98 Z\" fill=\"#000000\" fill-rule=\"evenodd\" fill-opacity=\"1\" /><path clip-path=\"url(#clip430)\" d=\"M146.362 1470.38 Q142.751 1470.38 140.922 1473.94 Q139.117 1477.49 139.117 1484.61 Q139.117 1491.72 140.922 1495.29 Q142.751 1498.83 146.362 1498.83 Q149.996 1498.83 151.802 1495.29 Q153.63 1491.72 153.63 1484.61 Q153.63 1477.49 151.802 1473.94 Q149.996 1470.38 146.362 1470.38 M146.362 1466.68 Q152.172 1466.68 155.228 1471.28 Q158.306 1475.86 158.306 1484.61 Q158.306 1493.34 155.228 1497.95 Q152.172 1502.53 146.362 1502.53 Q140.552 1502.53 137.473 1497.95 Q134.418 1493.34 134.418 1484.61 Q134.418 1475.86 137.473 1471.28 Q140.552 1466.68 146.362 1466.68 Z\" fill=\"#000000\" fill-rule=\"evenodd\" fill-opacity=\"1\" /><path clip-path=\"url(#clip430)\" d=\"M176.524 1470.38 Q172.913 1470.38 171.084 1473.94 Q169.279 1477.49 169.279 1484.61 Q169.279 1491.72 171.084 1495.29 Q172.913 1498.83 176.524 1498.83 Q180.158 1498.83 181.964 1495.29 Q183.792 1491.72 183.792 1484.61 Q183.792 1477.49 181.964 1473.94 Q180.158 1470.38 176.524 1470.38 M176.524 1466.68 Q182.334 1466.68 185.39 1471.28 Q188.468 1475.86 188.468 1484.61 Q188.468 1493.34 185.39 1497.95 Q182.334 1502.53 176.524 1502.53 Q170.714 1502.53 167.635 1497.95 Q164.579 1493.34 164.579 1484.61 Q164.579 1475.86 167.635 1471.28 Q170.714 1466.68 176.524 1466.68 Z\" fill=\"#000000\" fill-rule=\"evenodd\" fill-opacity=\"1\" /><path clip-path=\"url(#clip430)\" d=\"M200.714 1497.92 L217.033 1497.92 L217.033 1501.86 L195.089 1501.86 L195.089 1497.92 Q197.751 1495.17 202.334 1490.54 Q206.94 1485.89 208.121 1484.55 Q210.366 1482.02 211.246 1480.29 Q212.149 1478.53 212.149 1476.84 Q212.149 1474.08 210.204 1472.35 Q208.283 1470.61 205.181 1470.61 Q202.982 1470.61 200.528 1471.37 Q198.098 1472.14 195.32 1473.69 L195.32 1468.97 Q198.144 1467.83 200.598 1467.25 Q203.051 1466.68 205.089 1466.68 Q210.459 1466.68 213.653 1469.36 Q216.848 1472.05 216.848 1476.54 Q216.848 1478.67 216.038 1480.59 Q215.251 1482.49 213.144 1485.08 Q212.565 1485.75 209.463 1488.97 Q206.362 1492.16 200.714 1497.92 Z\" fill=\"#000000\" fill-rule=\"evenodd\" fill-opacity=\"1\" /><path clip-path=\"url(#clip430)\" d=\"M50.9921 1045.49 L80.6679 1045.49 L80.6679 1049.43 L50.9921 1049.43 L50.9921 1045.49 Z\" fill=\"#000000\" fill-rule=\"evenodd\" fill-opacity=\"1\" /><path clip-path=\"url(#clip430)\" d=\"M100.76 1030.84 Q97.1493 1030.84 95.3206 1034.4 Q93.515 1037.95 93.515 1045.08 Q93.515 1052.18 95.3206 1055.75 Q97.1493 1059.29 100.76 1059.29 Q104.395 1059.29 106.2 1055.75 Q108.029 1052.18 108.029 1045.08 Q108.029 1037.95 106.2 1034.4 Q104.395 1030.84 100.76 1030.84 M100.76 1027.14 Q106.571 1027.14 109.626 1031.74 Q112.705 1036.33 112.705 1045.08 Q112.705 1053.8 109.626 1058.41 Q106.571 1062.99 100.76 1062.99 Q94.9502 1062.99 91.8715 1058.41 Q88.816 1053.8 88.816 1045.08 Q88.816 1036.33 91.8715 1031.74 Q94.9502 1027.14 100.76 1027.14 Z\" fill=\"#000000\" fill-rule=\"evenodd\" fill-opacity=\"1\" /><path clip-path=\"url(#clip430)\" d=\"M120.922 1056.44 L125.807 1056.44 L125.807 1062.32 L120.922 1062.32 L120.922 1056.44 Z\" fill=\"#000000\" fill-rule=\"evenodd\" fill-opacity=\"1\" /><path clip-path=\"url(#clip430)\" d=\"M145.992 1030.84 Q142.381 1030.84 140.552 1034.4 Q138.746 1037.95 138.746 1045.08 Q138.746 1052.18 140.552 1055.75 Q142.381 1059.29 145.992 1059.29 Q149.626 1059.29 151.431 1055.75 Q153.26 1052.18 153.26 1045.08 Q153.26 1037.95 151.431 1034.4 Q149.626 1030.84 145.992 1030.84 M145.992 1027.14 Q151.802 1027.14 154.857 1031.74 Q157.936 1036.33 157.936 1045.08 Q157.936 1053.8 154.857 1058.41 Q151.802 1062.99 145.992 1062.99 Q140.181 1062.99 137.103 1058.41 Q134.047 1053.8 134.047 1045.08 Q134.047 1036.33 137.103 1031.74 Q140.181 1027.14 145.992 1027.14 Z\" fill=\"#000000\" fill-rule=\"evenodd\" fill-opacity=\"1\" /><path clip-path=\"url(#clip430)\" d=\"M176.153 1030.84 Q172.542 1030.84 170.714 1034.4 Q168.908 1037.95 168.908 1045.08 Q168.908 1052.18 170.714 1055.75 Q172.542 1059.29 176.153 1059.29 Q179.788 1059.29 181.593 1055.75 Q183.422 1052.18 183.422 1045.08 Q183.422 1037.95 181.593 1034.4 Q179.788 1030.84 176.153 1030.84 M176.153 1027.14 Q181.964 1027.14 185.019 1031.74 Q188.098 1036.33 188.098 1045.08 Q188.098 1053.8 185.019 1058.41 Q181.964 1062.99 176.153 1062.99 Q170.343 1062.99 167.265 1058.41 Q164.209 1053.8 164.209 1045.08 Q164.209 1036.33 167.265 1031.74 Q170.343 1027.14 176.153 1027.14 Z\" fill=\"#000000\" fill-rule=\"evenodd\" fill-opacity=\"1\" /><path clip-path=\"url(#clip430)\" d=\"M197.126 1058.39 L204.764 1058.39 L204.764 1032.02 L196.454 1033.69 L196.454 1029.43 L204.718 1027.76 L209.394 1027.76 L209.394 1058.39 L217.033 1058.39 L217.033 1062.32 L197.126 1062.32 L197.126 1058.39 Z\" fill=\"#000000\" fill-rule=\"evenodd\" fill-opacity=\"1\" /><path clip-path=\"url(#clip430)\" d=\"M99.5335 591.301 Q95.9224 591.301 94.0937 594.866 Q92.2882 598.407 92.2882 605.537 Q92.2882 612.643 94.0937 616.208 Q95.9224 619.75 99.5335 619.75 Q103.168 619.75 104.973 616.208 Q106.802 612.643 106.802 605.537 Q106.802 598.407 104.973 594.866 Q103.168 591.301 99.5335 591.301 M99.5335 587.597 Q105.344 587.597 108.399 592.204 Q111.478 596.787 111.478 605.537 Q111.478 614.264 108.399 618.87 Q105.344 623.453 99.5335 623.453 Q93.7234 623.453 90.6447 618.87 Q87.5892 614.264 87.5892 605.537 Q87.5892 596.787 90.6447 592.204 Q93.7234 587.597 99.5335 587.597 Z\" fill=\"#000000\" fill-rule=\"evenodd\" fill-opacity=\"1\" /><path clip-path=\"url(#clip430)\" d=\"M119.695 616.903 L124.58 616.903 L124.58 622.782 L119.695 622.782 L119.695 616.903 Z\" fill=\"#000000\" fill-rule=\"evenodd\" fill-opacity=\"1\" /><path clip-path=\"url(#clip430)\" d=\"M144.765 591.301 Q141.154 591.301 139.325 594.866 Q137.519 598.407 137.519 605.537 Q137.519 612.643 139.325 616.208 Q141.154 619.75 144.765 619.75 Q148.399 619.75 150.205 616.208 Q152.033 612.643 152.033 605.537 Q152.033 598.407 150.205 594.866 Q148.399 591.301 144.765 591.301 M144.765 587.597 Q150.575 587.597 153.63 592.204 Q156.709 596.787 156.709 605.537 Q156.709 614.264 153.63 618.87 Q150.575 623.453 144.765 623.453 Q138.955 623.453 135.876 618.87 Q132.82 614.264 132.82 605.537 Q132.82 596.787 135.876 592.204 Q138.955 587.597 144.765 587.597 Z\" fill=\"#000000\" fill-rule=\"evenodd\" fill-opacity=\"1\" /><path clip-path=\"url(#clip430)\" d=\"M174.927 591.301 Q171.316 591.301 169.487 594.866 Q167.681 598.407 167.681 605.537 Q167.681 612.643 169.487 616.208 Q171.316 619.75 174.927 619.75 Q178.561 619.75 180.366 616.208 Q182.195 612.643 182.195 605.537 Q182.195 598.407 180.366 594.866 Q178.561 591.301 174.927 591.301 M174.927 587.597 Q180.737 587.597 183.792 592.204 Q186.871 596.787 186.871 605.537 Q186.871 614.264 183.792 618.87 Q180.737 623.453 174.927 623.453 Q169.116 623.453 166.038 618.87 Q162.982 614.264 162.982 605.537 Q162.982 596.787 166.038 592.204 Q169.116 587.597 174.927 587.597 Z\" fill=\"#000000\" fill-rule=\"evenodd\" fill-opacity=\"1\" /><path clip-path=\"url(#clip430)\" d=\"M205.089 591.301 Q201.477 591.301 199.649 594.866 Q197.843 598.407 197.843 605.537 Q197.843 612.643 199.649 616.208 Q201.477 619.75 205.089 619.75 Q208.723 619.75 210.528 616.208 Q212.357 612.643 212.357 605.537 Q212.357 598.407 210.528 594.866 Q208.723 591.301 205.089 591.301 M205.089 587.597 Q210.899 587.597 213.954 592.204 Q217.033 596.787 217.033 605.537 Q217.033 614.264 213.954 618.87 Q210.899 623.453 205.089 623.453 Q199.278 623.453 196.2 618.87 Q193.144 614.264 193.144 605.537 Q193.144 596.787 196.2 592.204 Q199.278 587.597 205.089 587.597 Z\" fill=\"#000000\" fill-rule=\"evenodd\" fill-opacity=\"1\" /><path clip-path=\"url(#clip430)\" d=\"M100.76 151.762 Q97.1493 151.762 95.3206 155.327 Q93.515 158.868 93.515 165.998 Q93.515 173.104 95.3206 176.669 Q97.1493 180.211 100.76 180.211 Q104.395 180.211 106.2 176.669 Q108.029 173.104 108.029 165.998 Q108.029 158.868 106.2 155.327 Q104.395 151.762 100.76 151.762 M100.76 148.058 Q106.571 148.058 109.626 152.665 Q112.705 157.248 112.705 165.998 Q112.705 174.725 109.626 179.331 Q106.571 183.915 100.76 183.915 Q94.9502 183.915 91.8715 179.331 Q88.816 174.725 88.816 165.998 Q88.816 157.248 91.8715 152.665 Q94.9502 148.058 100.76 148.058 Z\" fill=\"#000000\" fill-rule=\"evenodd\" fill-opacity=\"1\" /><path clip-path=\"url(#clip430)\" d=\"M120.922 177.364 L125.807 177.364 L125.807 183.243 L120.922 183.243 L120.922 177.364 Z\" fill=\"#000000\" fill-rule=\"evenodd\" fill-opacity=\"1\" /><path clip-path=\"url(#clip430)\" d=\"M145.992 151.762 Q142.381 151.762 140.552 155.327 Q138.746 158.868 138.746 165.998 Q138.746 173.104 140.552 176.669 Q142.381 180.211 145.992 180.211 Q149.626 180.211 151.431 176.669 Q153.26 173.104 153.26 165.998 Q153.26 158.868 151.431 155.327 Q149.626 151.762 145.992 151.762 M145.992 148.058 Q151.802 148.058 154.857 152.665 Q157.936 157.248 157.936 165.998 Q157.936 174.725 154.857 179.331 Q151.802 183.915 145.992 183.915 Q140.181 183.915 137.103 179.331 Q134.047 174.725 134.047 165.998 Q134.047 157.248 137.103 152.665 Q140.181 148.058 145.992 148.058 Z\" fill=\"#000000\" fill-rule=\"evenodd\" fill-opacity=\"1\" /><path clip-path=\"url(#clip430)\" d=\"M176.153 151.762 Q172.542 151.762 170.714 155.327 Q168.908 158.868 168.908 165.998 Q168.908 173.104 170.714 176.669 Q172.542 180.211 176.153 180.211 Q179.788 180.211 181.593 176.669 Q183.422 173.104 183.422 165.998 Q183.422 158.868 181.593 155.327 Q179.788 151.762 176.153 151.762 M176.153 148.058 Q181.964 148.058 185.019 152.665 Q188.098 157.248 188.098 165.998 Q188.098 174.725 185.019 179.331 Q181.964 183.915 176.153 183.915 Q170.343 183.915 167.265 179.331 Q164.209 174.725 164.209 165.998 Q164.209 157.248 167.265 152.665 Q170.343 148.058 176.153 148.058 Z\" fill=\"#000000\" fill-rule=\"evenodd\" fill-opacity=\"1\" /><path clip-path=\"url(#clip430)\" d=\"M197.126 179.308 L204.764 179.308 L204.764 152.942 L196.454 154.609 L196.454 150.35 L204.718 148.683 L209.394 148.683 L209.394 179.308 L217.033 179.308 L217.033 183.243 L197.126 183.243 L197.126 179.308 Z\" fill=\"#000000\" fill-rule=\"evenodd\" fill-opacity=\"1\" /><polyline clip-path=\"url(#clip432)\" style=\"stroke:#009af9; stroke-linecap:butt; stroke-linejoin:round; stroke-width:8; stroke-opacity:1; fill:none\" points=\"\n",
       "  312.459,605.502 416.715,605.502 520.972,605.502 625.228,605.502 729.484,605.502 833.741,605.502 937.997,605.502 1042.25,605.502 1146.51,605.502 1250.77,605.502 \n",
       "  1355.02,605.502 1459.28,605.502 1563.54,605.502 1667.79,605.502 1772.05,605.502 1876.3,605.502 1980.56,605.502 2084.82,605.502 2189.07,605.502 2293.33,605.502 \n",
       "  \n",
       "  \"/>\n",
       "<polyline clip-path=\"url(#clip432)\" style=\"stroke:#e26f46; stroke-linecap:butt; stroke-linejoin:round; stroke-width:8; stroke-opacity:1; fill:none\" points=\"\n",
       "  312.459,87.9763 416.715,277.644 520.972,411.634 625.228,500.655 729.484,555.214 833.741,585.166 937.997,599.214 1042.25,604.347 1146.51,605.486 1250.77,605.51 \n",
       "  1355.02,605.487 1459.28,604.912 1563.54,602.198 1667.79,596.069 1772.05,588.494 1876.3,589.297 1980.56,621.823 2084.82,728.331 2189.07,973.619 2293.33,1445.72 \n",
       "  \n",
       "  \"/>\n",
       "<polyline clip-path=\"url(#clip432)\" style=\"stroke:#3da44d; stroke-linecap:butt; stroke-linejoin:round; stroke-width:8; stroke-opacity:1; fill:none\" stroke-dasharray=\"4, 8\" points=\"\n",
       "  312.459,87.9763 416.715,277.644 520.972,411.634 625.228,500.655 729.484,555.214 833.741,585.166 937.997,599.214 1042.25,604.347 1146.51,605.486 1250.77,605.51 \n",
       "  1355.02,605.487 1459.28,604.912 1563.54,602.198 1667.79,596.069 1772.05,588.494 1876.3,589.297 1980.56,621.823 2084.82,728.331 2189.07,973.619 2293.33,1445.72 \n",
       "  \n",
       "  \"/>\n",
       "<path clip-path=\"url(#clip430)\" d=\"\n",
       "M1922.13 302.578 L2282.77 302.578 L2282.77 95.2176 L1922.13 95.2176  Z\n",
       "  \" fill=\"#ffffff\" fill-rule=\"evenodd\" fill-opacity=\"1\"/>\n",
       "<polyline clip-path=\"url(#clip430)\" style=\"stroke:#000000; stroke-linecap:butt; stroke-linejoin:round; stroke-width:4; stroke-opacity:1; fill:none\" points=\"\n",
       "  1922.13,302.578 2282.77,302.578 2282.77,95.2176 1922.13,95.2176 1922.13,302.578 \n",
       "  \"/>\n",
       "<polyline clip-path=\"url(#clip430)\" style=\"stroke:#009af9; stroke-linecap:butt; stroke-linejoin:round; stroke-width:4; stroke-opacity:1; fill:none\" points=\"\n",
       "  1945.46,147.058 2085.44,147.058 \n",
       "  \"/>\n",
       "<path clip-path=\"url(#clip430)\" d=\"M2108.77 129.778 L2130.62 129.778 L2130.62 133.713 L2113.44 133.713 L2113.44 143.944 L2129.9 143.944 L2129.9 147.879 L2113.44 147.879 L2113.44 160.402 L2131.04 160.402 L2131.04 164.338 L2108.77 164.338 L2108.77 129.778 Z\" fill=\"#000000\" fill-rule=\"evenodd\" fill-opacity=\"1\" /><path clip-path=\"url(#clip430)\" d=\"M2160.09 138.412 L2150.71 151.027 L2160.57 164.338 L2155.55 164.338 L2148 154.152 L2140.46 164.338 L2135.43 164.338 L2145.5 150.773 L2136.29 138.412 L2141.31 138.412 L2148.19 147.648 L2155.06 138.412 L2160.09 138.412 Z\" fill=\"#000000\" fill-rule=\"evenodd\" fill-opacity=\"1\" /><path clip-path=\"url(#clip430)\" d=\"M2178.37 151.305 Q2173.21 151.305 2171.22 152.486 Q2169.23 153.666 2169.23 156.514 Q2169.23 158.782 2170.71 160.125 Q2172.22 161.444 2174.79 161.444 Q2178.33 161.444 2180.46 158.944 Q2182.61 156.421 2182.61 152.254 L2182.61 151.305 L2178.37 151.305 M2186.87 149.546 L2186.87 164.338 L2182.61 164.338 L2182.61 160.402 Q2181.15 162.763 2178.98 163.898 Q2176.8 165.009 2173.65 165.009 Q2169.67 165.009 2167.31 162.787 Q2164.97 160.541 2164.97 156.791 Q2164.97 152.416 2167.89 150.194 Q2170.83 147.972 2176.64 147.972 L2182.61 147.972 L2182.61 147.555 Q2182.61 144.615 2180.67 143.018 Q2178.74 141.398 2175.25 141.398 Q2173.03 141.398 2170.92 141.93 Q2168.81 142.463 2166.87 143.527 L2166.87 139.592 Q2169.21 138.69 2171.41 138.25 Q2173.6 137.787 2175.69 137.787 Q2181.31 137.787 2184.09 140.703 Q2186.87 143.62 2186.87 149.546 Z\" fill=\"#000000\" fill-rule=\"evenodd\" fill-opacity=\"1\" /><path clip-path=\"url(#clip430)\" d=\"M2214.3 139.407 L2214.3 143.389 Q2212.49 142.393 2210.66 141.907 Q2208.86 141.398 2207.01 141.398 Q2202.86 141.398 2200.57 144.037 Q2198.28 146.652 2198.28 151.398 Q2198.28 156.143 2200.57 158.782 Q2202.86 161.398 2207.01 161.398 Q2208.86 161.398 2210.66 160.912 Q2212.49 160.402 2214.3 159.407 L2214.3 163.342 Q2212.52 164.176 2210.6 164.592 Q2208.7 165.009 2206.54 165.009 Q2200.69 165.009 2197.24 161.328 Q2193.79 157.648 2193.79 151.398 Q2193.79 145.055 2197.26 141.421 Q2200.76 137.787 2206.82 137.787 Q2208.79 137.787 2210.66 138.203 Q2212.54 138.597 2214.3 139.407 Z\" fill=\"#000000\" fill-rule=\"evenodd\" fill-opacity=\"1\" /><path clip-path=\"url(#clip430)\" d=\"M2225.92 131.051 L2225.92 138.412 L2234.69 138.412 L2234.69 141.722 L2225.92 141.722 L2225.92 155.796 Q2225.92 158.967 2226.78 159.87 Q2227.66 160.773 2230.32 160.773 L2234.69 160.773 L2234.69 164.338 L2230.32 164.338 Q2225.39 164.338 2223.51 162.509 Q2221.64 160.657 2221.64 155.796 L2221.64 141.722 L2218.51 141.722 L2218.51 138.412 L2221.64 138.412 L2221.64 131.051 L2225.92 131.051 Z\" fill=\"#000000\" fill-rule=\"evenodd\" fill-opacity=\"1\" /><polyline clip-path=\"url(#clip430)\" style=\"stroke:#e26f46; stroke-linecap:butt; stroke-linejoin:round; stroke-width:4; stroke-opacity:1; fill:none\" points=\"\n",
       "  1945.46,198.898 2085.44,198.898 \n",
       "  \"/>\n",
       "<path clip-path=\"url(#clip430)\" d=\"M2136.64 184.28 L2136.64 189.21 Q2134.28 187.011 2131.59 185.923 Q2128.93 184.835 2125.92 184.835 Q2119.99 184.835 2116.85 188.469 Q2113.7 192.08 2113.7 198.932 Q2113.7 205.761 2116.85 209.395 Q2119.99 213.006 2125.92 213.006 Q2128.93 213.006 2131.59 211.918 Q2134.28 210.83 2136.64 208.631 L2136.64 213.516 Q2134.18 215.182 2131.43 216.016 Q2128.7 216.849 2125.64 216.849 Q2117.8 216.849 2113.28 212.057 Q2108.77 207.242 2108.77 198.932 Q2108.77 190.599 2113.28 185.807 Q2117.8 180.993 2125.64 180.993 Q2128.74 180.993 2131.48 181.826 Q2134.23 182.636 2136.64 184.28 Z\" fill=\"#000000\" fill-rule=\"evenodd\" fill-opacity=\"1\" /><path clip-path=\"url(#clip430)\" d=\"M2169.74 184.28 L2169.74 189.21 Q2167.38 187.011 2164.69 185.923 Q2162.03 184.835 2159.02 184.835 Q2153.1 184.835 2149.95 188.469 Q2146.8 192.08 2146.8 198.932 Q2146.8 205.761 2149.95 209.395 Q2153.1 213.006 2159.02 213.006 Q2162.03 213.006 2164.69 211.918 Q2167.38 210.83 2169.74 208.631 L2169.74 213.516 Q2167.29 215.182 2164.53 216.016 Q2161.8 216.849 2158.74 216.849 Q2150.9 216.849 2146.38 212.057 Q2141.87 207.242 2141.87 198.932 Q2141.87 190.599 2146.38 185.807 Q2150.9 180.993 2158.74 180.993 Q2161.85 180.993 2164.58 181.826 Q2167.33 182.636 2169.74 184.28 Z\" fill=\"#000000\" fill-rule=\"evenodd\" fill-opacity=\"1\" /><path clip-path=\"url(#clip430)\" d=\"M2181.64 185.46 L2181.64 212.335 L2187.29 212.335 Q2194.44 212.335 2197.75 209.094 Q2201.08 205.854 2201.08 198.863 Q2201.08 191.918 2197.75 188.701 Q2194.44 185.46 2187.29 185.46 L2181.64 185.46 M2176.96 181.618 L2186.57 181.618 Q2196.61 181.618 2201.31 185.807 Q2206.01 189.974 2206.01 198.863 Q2206.01 207.798 2201.29 211.988 Q2196.57 216.178 2186.57 216.178 L2176.96 216.178 L2176.96 181.618 Z\" fill=\"#000000\" fill-rule=\"evenodd\" fill-opacity=\"1\" /><polyline clip-path=\"url(#clip430)\" style=\"stroke:#3da44d; stroke-linecap:butt; stroke-linejoin:round; stroke-width:4; stroke-opacity:1; fill:none\" stroke-dasharray=\"2, 4\" points=\"\n",
       "  1945.46,250.738 2085.44,250.738 \n",
       "  \"/>\n",
       "<path clip-path=\"url(#clip430)\" d=\"M2136.64 236.12 L2136.64 241.05 Q2134.28 238.851 2131.59 237.763 Q2128.93 236.675 2125.92 236.675 Q2119.99 236.675 2116.85 240.309 Q2113.7 243.92 2113.7 250.772 Q2113.7 257.601 2116.85 261.235 Q2119.99 264.846 2125.92 264.846 Q2128.93 264.846 2131.59 263.758 Q2134.28 262.67 2136.64 260.471 L2136.64 265.356 Q2134.18 267.022 2131.43 267.856 Q2128.7 268.689 2125.64 268.689 Q2117.8 268.689 2113.28 263.897 Q2108.77 259.082 2108.77 250.772 Q2108.77 242.439 2113.28 237.647 Q2117.8 232.833 2125.64 232.833 Q2128.74 232.833 2131.48 233.666 Q2134.23 234.476 2136.64 236.12 Z\" fill=\"#000000\" fill-rule=\"evenodd\" fill-opacity=\"1\" /><path clip-path=\"url(#clip430)\" d=\"M2169.74 236.12 L2169.74 241.05 Q2167.38 238.851 2164.69 237.763 Q2162.03 236.675 2159.02 236.675 Q2153.1 236.675 2149.95 240.309 Q2146.8 243.92 2146.8 250.772 Q2146.8 257.601 2149.95 261.235 Q2153.1 264.846 2159.02 264.846 Q2162.03 264.846 2164.69 263.758 Q2167.38 262.67 2169.74 260.471 L2169.74 265.356 Q2167.29 267.022 2164.53 267.856 Q2161.8 268.689 2158.74 268.689 Q2150.9 268.689 2146.38 263.897 Q2141.87 259.082 2141.87 250.772 Q2141.87 242.439 2146.38 237.647 Q2150.9 232.833 2158.74 232.833 Q2161.85 232.833 2164.58 233.666 Q2167.33 234.476 2169.74 236.12 Z\" fill=\"#000000\" fill-rule=\"evenodd\" fill-opacity=\"1\" /><path clip-path=\"url(#clip430)\" d=\"M2197.68 234.592 L2197.68 239.152 Q2195.02 237.879 2192.66 237.254 Q2190.29 236.629 2188.1 236.629 Q2184.28 236.629 2182.19 238.11 Q2180.13 239.592 2180.13 242.323 Q2180.13 244.615 2181.5 245.795 Q2182.89 246.953 2186.73 247.67 L2189.55 248.249 Q2194.79 249.245 2197.26 251.768 Q2199.76 254.268 2199.76 258.481 Q2199.76 263.504 2196.38 266.096 Q2193.03 268.689 2186.52 268.689 Q2184.07 268.689 2181.29 268.133 Q2178.54 267.578 2175.57 266.49 L2175.57 261.675 Q2178.42 263.272 2181.15 264.082 Q2183.88 264.893 2186.52 264.893 Q2190.53 264.893 2192.7 263.319 Q2194.88 261.744 2194.88 258.828 Q2194.88 256.282 2193.3 254.846 Q2191.75 253.411 2188.19 252.694 L2185.34 252.138 Q2180.11 251.096 2177.77 248.874 Q2175.43 246.652 2175.43 242.694 Q2175.43 238.11 2178.65 235.471 Q2181.89 232.833 2187.56 232.833 Q2189.99 232.833 2192.52 233.272 Q2195.04 233.712 2197.68 234.592 Z\" fill=\"#000000\" fill-rule=\"evenodd\" fill-opacity=\"1\" /><path clip-path=\"url(#clip430)\" d=\"M2211.73 237.3 L2211.73 264.175 L2217.38 264.175 Q2224.53 264.175 2227.84 260.934 Q2231.17 257.694 2231.17 250.703 Q2231.17 243.758 2227.84 240.541 Q2224.53 237.3 2217.38 237.3 L2211.73 237.3 M2207.05 233.458 L2216.66 233.458 Q2226.71 233.458 2231.41 237.647 Q2236.1 241.814 2236.1 250.703 Q2236.1 259.638 2231.38 263.828 Q2226.66 268.018 2216.66 268.018 L2207.05 268.018 L2207.05 233.458 Z\" fill=\"#000000\" fill-rule=\"evenodd\" fill-opacity=\"1\" /></svg>\n"
      ]
     },
     "execution_count": 156,
     "metadata": {},
     "output_type": "execute_result"
    }
   ],
   "source": [
    "g_range = range(-1, 1, length = 20)\n",
    "\n",
    "ex = exact.(g_range)\n",
    "\n",
    "plt.plot(g_range, ex .- ex, lw = 2, label = \"Exact\")\n",
    "plt.plot!(g_range, CCD_run.(g_range) .- ex, lw = 2, label = \"CCD\")\n",
    "plt.plot!(g_range, CCSD_run.(g_range) .- ex, lw = 2, ls = :dot, label = \"CCSD\")"
   ]
  },
  {
   "cell_type": "code",
   "execution_count": null,
   "id": "e40c4f3f-ec65-4973-b91b-21bdcf5bb99d",
   "metadata": {},
   "outputs": [],
   "source": []
  }
 ],
 "metadata": {
  "kernelspec": {
   "display_name": "Julia 1.6.2",
   "language": "julia",
   "name": "julia-1.6"
  },
  "language_info": {
   "file_extension": ".jl",
   "mimetype": "application/julia",
   "name": "julia",
   "version": "1.6.2"
  }
 },
 "nbformat": 4,
 "nbformat_minor": 5
}
