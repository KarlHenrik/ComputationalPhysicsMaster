{
 "cells": [
  {
   "cell_type": "markdown",
   "metadata": {},
   "source": [
    "# FYS-STK4155 Homework 1"
   ]
  },
  {
   "cell_type": "code",
   "execution_count": 4,
   "metadata": {},
   "outputs": [],
   "source": [
    "import numpy as np\n",
    "import matplotlib.pyplot as plt\n",
    "import pandas as pd\n",
    "import sklearn.linear_model as skl\n",
    "from sklearn.metrics import mean_squared_error, r2_score, mean_absolute_error"
   ]
  },
  {
   "cell_type": "code",
   "execution_count": 5,
   "metadata": {},
   "outputs": [
    {
     "data": {
      "text/html": [
       "<div>\n",
       "<style scoped>\n",
       "    .dataframe tbody tr th:only-of-type {\n",
       "        vertical-align: middle;\n",
       "    }\n",
       "\n",
       "    .dataframe tbody tr th {\n",
       "        vertical-align: top;\n",
       "    }\n",
       "\n",
       "    .dataframe thead th {\n",
       "        text-align: right;\n",
       "    }\n",
       "</style>\n",
       "<table border=\"1\" class=\"dataframe\">\n",
       "  <thead>\n",
       "    <tr style=\"text-align: right;\">\n",
       "      <th></th>\n",
       "      <th>Density</th>\n",
       "      <th>Energy</th>\n",
       "    </tr>\n",
       "  </thead>\n",
       "  <tbody>\n",
       "    <tr>\n",
       "      <th>0</th>\n",
       "      <td>0.000034</td>\n",
       "      <td>0.031715</td>\n",
       "    </tr>\n",
       "    <tr>\n",
       "      <th>1</th>\n",
       "      <td>0.000270</td>\n",
       "      <td>0.253793</td>\n",
       "    </tr>\n",
       "    <tr>\n",
       "      <th>2</th>\n",
       "      <td>0.000912</td>\n",
       "      <td>0.856919</td>\n",
       "    </tr>\n",
       "    <tr>\n",
       "      <th>3</th>\n",
       "      <td>0.002162</td>\n",
       "      <td>2.032270</td>\n",
       "    </tr>\n",
       "    <tr>\n",
       "      <th>4</th>\n",
       "      <td>0.004222</td>\n",
       "      <td>3.971695</td>\n",
       "    </tr>\n",
       "    <tr>\n",
       "      <th>...</th>\n",
       "      <td>...</td>\n",
       "      <td>...</td>\n",
       "    </tr>\n",
       "    <tr>\n",
       "      <th>85</th>\n",
       "      <td>1.671680</td>\n",
       "      <td>2211.443823</td>\n",
       "    </tr>\n",
       "    <tr>\n",
       "      <th>86</th>\n",
       "      <td>1.758560</td>\n",
       "      <td>2361.744714</td>\n",
       "    </tr>\n",
       "    <tr>\n",
       "      <th>87</th>\n",
       "      <td>1.856480</td>\n",
       "      <td>2533.645349</td>\n",
       "    </tr>\n",
       "    <tr>\n",
       "      <th>88</th>\n",
       "      <td>1.969600</td>\n",
       "      <td>2734.934658</td>\n",
       "    </tr>\n",
       "    <tr>\n",
       "      <th>89</th>\n",
       "      <td>2.105440</td>\n",
       "      <td>2980.033367</td>\n",
       "    </tr>\n",
       "  </tbody>\n",
       "</table>\n",
       "<p>90 rows × 2 columns</p>\n",
       "</div>"
      ],
      "text/plain": [
       "     Density       Energy\n",
       "0   0.000034     0.031715\n",
       "1   0.000270     0.253793\n",
       "2   0.000912     0.856919\n",
       "3   0.002162     2.032270\n",
       "4   0.004222     3.971695\n",
       "..       ...          ...\n",
       "85  1.671680  2211.443823\n",
       "86  1.758560  2361.744714\n",
       "87  1.856480  2533.645349\n",
       "88  1.969600  2734.934658\n",
       "89  2.105440  2980.033367\n",
       "\n",
       "[90 rows x 2 columns]"
      ]
     },
     "execution_count": 16,
     "metadata": {},
     "output_type": "execute_result"
    }
   ],
   "source": [
    "# Exercise 1 - Reading x and y values and designing a nxp design matrix with p = 4\n",
    "\n",
    "# Reading file with pandas\n",
    "# Two column csv file with x_i and y_i\n",
    "csv_file = 'HW1csv.csv'\n",
    "df = pd.read_csv(csv_file, names=('Density', 'Energy'))\n",
    "\n",
    "# Vectors and constants for the regression\n",
    "x = df[\"Density\"]\n",
    "y = df.values[:,1]\n",
    "n = x.size\n",
    "p = 4\n",
    "\n",
    "# Design matrix\n",
    "X = np.zeros((n, p))\n",
    "for i in range(p):\n",
    "    X[:, i] = x**i # Row 1 becomes [1, x_0, x_0^2, x_0^3]\n",
    "    \n",
    "df # Looks g"
   ]
  },
  {
   "cell_type": "code",
   "execution_count": 6,
   "metadata": {},
   "outputs": [
    {
     "data": {
      "text/html": [
       "<div>\n",
       "<style scoped>\n",
       "    .dataframe tbody tr th:only-of-type {\n",
       "        vertical-align: middle;\n",
       "    }\n",
       "\n",
       "    .dataframe tbody tr th {\n",
       "        vertical-align: top;\n",
       "    }\n",
       "\n",
       "    .dataframe thead th {\n",
       "        text-align: right;\n",
       "    }\n",
       "</style>\n",
       "<table border=\"1\" class=\"dataframe\">\n",
       "  <thead>\n",
       "    <tr style=\"text-align: right;\">\n",
       "      <th></th>\n",
       "      <th>0</th>\n",
       "      <th>1</th>\n",
       "    </tr>\n",
       "  </thead>\n",
       "  <tbody>\n",
       "    <tr>\n",
       "      <th>0</th>\n",
       "      <td>0.000034</td>\n",
       "      <td>0.031715</td>\n",
       "    </tr>\n",
       "    <tr>\n",
       "      <th>1</th>\n",
       "      <td>0.000270</td>\n",
       "      <td>0.253793</td>\n",
       "    </tr>\n",
       "    <tr>\n",
       "      <th>2</th>\n",
       "      <td>0.000912</td>\n",
       "      <td>0.856919</td>\n",
       "    </tr>\n",
       "    <tr>\n",
       "      <th>3</th>\n",
       "      <td>0.002162</td>\n",
       "      <td>2.032270</td>\n",
       "    </tr>\n",
       "    <tr>\n",
       "      <th>4</th>\n",
       "      <td>0.004222</td>\n",
       "      <td>3.971695</td>\n",
       "    </tr>\n",
       "    <tr>\n",
       "      <th>...</th>\n",
       "      <td>...</td>\n",
       "      <td>...</td>\n",
       "    </tr>\n",
       "    <tr>\n",
       "      <th>85</th>\n",
       "      <td>1.671680</td>\n",
       "      <td>2211.443823</td>\n",
       "    </tr>\n",
       "    <tr>\n",
       "      <th>86</th>\n",
       "      <td>1.758560</td>\n",
       "      <td>2361.744714</td>\n",
       "    </tr>\n",
       "    <tr>\n",
       "      <th>87</th>\n",
       "      <td>1.856480</td>\n",
       "      <td>2533.645349</td>\n",
       "    </tr>\n",
       "    <tr>\n",
       "      <th>88</th>\n",
       "      <td>1.969600</td>\n",
       "      <td>2734.934658</td>\n",
       "    </tr>\n",
       "    <tr>\n",
       "      <th>89</th>\n",
       "      <td>2.105440</td>\n",
       "      <td>2980.033367</td>\n",
       "    </tr>\n",
       "  </tbody>\n",
       "</table>\n",
       "<p>90 rows × 2 columns</p>\n",
       "</div>"
      ],
      "text/plain": [
       "           0            1\n",
       "0   0.000034     0.031715\n",
       "1   0.000270     0.253793\n",
       "2   0.000912     0.856919\n",
       "3   0.002162     2.032270\n",
       "4   0.004222     3.971695\n",
       "..       ...          ...\n",
       "85  1.671680  2211.443823\n",
       "86  1.758560  2361.744714\n",
       "87  1.856480  2533.645349\n",
       "88  1.969600  2734.934658\n",
       "89  2.105440  2980.033367\n",
       "\n",
       "[90 rows x 2 columns]"
      ]
     },
     "execution_count": 6,
     "metadata": {},
     "output_type": "execute_result"
    }
   ],
   "source": [
    "df"
   ]
  },
  {
   "cell_type": "code",
   "execution_count": 103,
   "metadata": {},
   "outputs": [
    {
     "data": {
      "image/png": "[encoded data removed]",
      "text/plain": [
       "<Figure size 576x432 with 1 Axes>"
      ]
     },
     "metadata": {
      "needs_background": "light"
     },
     "output_type": "display_data"
    }
   ],
   "source": [
    "# Exercise 2: making your own data and exploring scikit-learn\n",
    "\n",
    "# Input vectors x and y\n",
    "x = np.random.rand(100) #an array of 100 unordered uniform random numbers from 0 to 1\n",
    "x.sort()\n",
    "y = 2 + 5 * x**2 + 0.1 * np.random.randn(100) # quadratic of x plus normally distributed noise\n",
    "\n",
    "n = x.size\n",
    "p = 3\n",
    "\n",
    "# Design matrix\n",
    "X = np.empty((n, p))\n",
    "for i in range(p):\n",
    "    X[:, i] = x**i # Row 1 becomes [1, x_0, x_0^2]\n",
    "\n",
    "# Finding the coefficients beta\n",
    "beta = np.linalg.inv(X.T @ X) @ X.T @ y # beta = (X.T X)^-1 X.T y\n",
    "y_mdl = X @ beta\n",
    "\n",
    "# Plotting of results\n",
    "plt.figure(figsize=(8, 6))\n",
    "plt.scatter(x, y, color = \"green\", s = 3, label=\"Datapoints\")\n",
    "plt.plot(x, 2 + 5 * x**2, label=\"No noise\")\n",
    "plt.plot(x, y_mdl, label = \"Regression line\")\n",
    "plt.legend()\n",
    "plt.show()"
   ]
  },
  {
   "cell_type": "code",
   "execution_count": 4,
   "metadata": {},
   "outputs": [
    {
     "name": "stdout",
     "output_type": "stream",
     "text": [
      "mse = 0.008770261894553759 \n",
      "rs = 0.9964955955707026 \n",
      "mae = 0.07378689378042697\n"
     ]
    }
   ],
   "source": [
    "clf = skl.LinearRegression(fit_intercept = False).fit(X, y)\n",
    "y_skl_mdl = clf.predict(X)\n",
    "\n",
    "mse = mean_squared_error(y, y_skl_mdl)\n",
    "\n",
    "r2 = r2_score(y, y_skl_mdl)\n",
    "\n",
    "mae = mean_absolute_error(y, y_skl_mdl)\n",
    "\n",
    "print(f\"mse = {mse} \\nrs = {r2} \\nmae = {mae}\")"
   ]
  },
  {
   "cell_type": "code",
   "execution_count": null,
   "metadata": {},
   "outputs": [],
   "source": []
  }
 ],
 "metadata": {
  "kernelspec": {
   "display_name": "Python 3",
   "language": "python",
   "name": "python3"
  },
  "language_info": {
   "codemirror_mode": {
    "name": "ipython",
    "version": 3
   },
   "file_extension": ".py",
   "mimetype": "text/x-python",
   "name": "python",
   "nbconvert_exporter": "python",
   "pygments_lexer": "ipython3",
   "version": "3.7.7"
  }
 },
 "nbformat": 4,
 "nbformat_minor": 4
}
