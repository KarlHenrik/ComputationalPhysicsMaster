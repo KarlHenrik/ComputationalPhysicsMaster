{
 "cells": [
  {
   "cell_type": "markdown",
   "metadata": {},
   "source": [
    "# FYS-STK4155 Homework 1"
   ]
  },
  {
   "cell_type": "code",
   "execution_count": 87,
   "metadata": {},
   "outputs": [],
   "source": [
    "import numpy as np\n",
    "import matplotlib.pyplot as plt\n",
    "import pandas as pd\n",
    "import sklearn.linear_model as skl\n",
    "from sklearn.metrics import mean_squared_error, r2_score, mean_absolute_error"
   ]
  },
  {
   "cell_type": "code",
   "execution_count": 102,
   "metadata": {},
   "outputs": [],
   "source": [
    "# Exercise 1 - Reading x and y values and designing a nxp design matrix with p = 4\n",
    "\n",
    "# Reading file with pandas\n",
    "# Two column csv file with x_i and y_i\n",
    "csv_file = 'HW1csv.csv'\n",
    "df = pd.read_csv(csv_file, header=None)\n",
    "\n",
    "# Vectors and constants for the regression\n",
    "x = df.values[:,0]\n",
    "y = df.values[:,1]\n",
    "n = x.size\n",
    "p = 4\n",
    "\n",
    "# Design matrix\n",
    "X = np.empty((n, p))\n",
    "for i in range(p):\n",
    "    X[:, i] = x**i # Row 1 becomes [1, x_0, x_0^2, x_0^3]\n",
    "    \n",
    "# print(X) # Looks good!"
   ]
  },
  {
   "cell_type": "code",
   "execution_count": 103,
   "metadata": {},
   "outputs": [
    {
     "data": {
      "image/png": "[encoded data removed]",
      "text/plain": [
       "<Figure size 576x432 with 1 Axes>"
      ]
     },
     "metadata": {
      "needs_background": "light"
     },
     "output_type": "display_data"
    }
   ],
   "source": [
    "# Exercise 2: making your own data and exploring scikit-learn\n",
    "\n",
    "# Input vectors x and y\n",
    "x = np.random.rand(100) #an array of 100 unordered uniform random numbers from 0 to 1\n",
    "x.sort()\n",
    "y = 2 + 5 * x**2 + 0.1 * np.random.randn(100) # quadratic of x plus normally distributed noise\n",
    "\n",
    "n = x.size\n",
    "p = 3\n",
    "\n",
    "# Design matrix\n",
    "X = np.empty((n, p))\n",
    "for i in range(p):\n",
    "    X[:, i] = x**i # Row 1 becomes [1, x_0, x_0^2]\n",
    "\n",
    "# Finding the coefficients beta\n",
    "beta = np.linalg.inv(X.T @ X) @ X.T @ y # beta = (X.T X)^-1 X.T y\n",
    "y_mdl = X @ beta\n",
    "\n",
    "# Plotting of results\n",
    "plt.figure(figsize=(8, 6))\n",
    "plt.scatter(x, y, color = \"green\", s = 3, label=\"Datapoints\")\n",
    "plt.plot(x, 2 + 5 * x**2, label=\"No noise\")\n",
    "plt.plot(x, y_mdl, label = \"Regression line\")\n",
    "plt.legend()\n",
    "plt.show()"
   ]
  },
  {
   "cell_type": "code",
   "execution_count": 101,
   "metadata": {},
   "outputs": [
    {
     "name": "stdout",
     "output_type": "stream",
     "text": [
      "mse = 0.009008431874745293 \n",
      "rs = 0.9955370310972893 \n",
      "mae = 0.07492521857661116\n"
     ]
    }
   ],
   "source": [
    "clf = skl.LinearRegression(fit_intercept = False).fit(X, y)\n",
    "y_skl_mdl = clf.predict(X)\n",
    "\n",
    "mse = mean_squared_error(y, y_skl_mdl)\n",
    "\n",
    "r2 = r2_score(y, y_skl_mdl)\n",
    "\n",
    "mae = mean_absolute_error(y, y_skl_mdl)\n",
    "\n",
    "print(f\"mse = {mse} \\nrs = {r2} \\nmae = {mae}\")"
   ]
  }
 ],
 "metadata": {
  "kernelspec": {
   "display_name": "Python 3",
   "language": "python",
   "name": "python3"
  },
  "language_info": {
   "codemirror_mode": {
    "name": "ipython",
    "version": 3
   },
   "file_extension": ".py",
   "mimetype": "text/x-python",
   "name": "python",
   "nbconvert_exporter": "python",
   "pygments_lexer": "ipython3",
   "version": "3.6.9"
  }
 },
 "nbformat": 4,
 "nbformat_minor": 4
}
