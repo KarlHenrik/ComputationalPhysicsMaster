{
 "cells": [
  {
   "cell_type": "markdown",
   "id": "13292071-5272-4d71-ae65-810d94cb735c",
   "metadata": {
    "tags": []
   },
   "source": [
    "# Code ideas"
   ]
  },
  {
   "cell_type": "code",
   "execution_count": 62,
   "id": "7a32d0e3-0ff8-49b3-85a7-1b310475b8ef",
   "metadata": {},
   "outputs": [
    {
     "data": {
      "text/plain": [
       "vmc (generic function with 1 method)"
      ]
     },
     "execution_count": 62,
     "metadata": {},
     "output_type": "execute_result"
    }
   ],
   "source": [
    "using Random\n",
    "rng = Random.MersenneTwister()\n",
    "using BenchmarkTools: @btime\n",
    "include(\"RBM_VMC/includeall.jl\")"
   ]
  },
  {
   "cell_type": "markdown",
   "id": "9fbe41ff-f6cd-45fd-993f-8ab7cf53522f",
   "metadata": {},
   "source": [
    "## Initialization"
   ]
  },
  {
   "cell_type": "code",
   "execution_count": 63,
   "id": "c80d7f9e-4588-49da-bfa7-ea3053d01015",
   "metadata": {},
   "outputs": [
    {
     "data": {
      "text/plain": [
       "SimpleGaussian{StaticArrays.SVector{3, Float64}}(0.5, [1.0, 1.0, 1.0], [1.0, 1.0, 1.0])"
      ]
     },
     "execution_count": 63,
     "metadata": {},
     "output_type": "execute_result"
    }
   ],
   "source": [
    "wf = SimpleGaussian(0.5, [1.0, 1.0, 1.0])"
   ]
  },
  {
   "cell_type": "code",
   "execution_count": 64,
   "id": "de9aa762-99a4-45b5-b89b-28cb7933c04e",
   "metadata": {},
   "outputs": [],
   "source": [
    "num = 10\n",
    "dims = 3\n",
    "positions = Random.rand(rng, num*dims);"
   ]
  },
  {
   "cell_type": "code",
   "execution_count": 65,
   "id": "19d19623-ee0d-49e4-8c12-61739057c34f",
   "metadata": {},
   "outputs": [],
   "source": [
    "particles = Particles(dims, num, rng, wf);"
   ]
  },
  {
   "cell_type": "code",
   "execution_count": 66,
   "id": "e3f4900d-cc16-41be-b5c5-32e6dda83932",
   "metadata": {},
   "outputs": [
    {
     "data": {
      "text/plain": [
       "1:3"
      ]
     },
     "execution_count": 66,
     "metadata": {},
     "output_type": "execute_result"
    }
   ],
   "source": [
    "idx = 1:3"
   ]
  },
  {
   "cell_type": "code",
   "execution_count": 69,
   "id": "39b2085d-6eb8-4d5b-836b-c4c72ade6aec",
   "metadata": {},
   "outputs": [
    {
     "name": "stdout",
     "output_type": "stream",
     "text": [
      "  0.000005 seconds (2 allocations: 224 bytes)\n"
     ]
    },
    {
     "data": {
      "text/plain": [
       "3-element Vector{Float64}:\n",
       " -1.5363079124152828\n",
       "  0.04862535097464704\n",
       " -1.5232877567398804"
      ]
     },
     "execution_count": 69,
     "metadata": {},
     "output_type": "execute_result"
    }
   ],
   "source": [
    "@time qf = QF(particles, idx, wf)"
   ]
  },
  {
   "cell_type": "code",
   "execution_count": 60,
   "id": "c090d8df-20f8-42f4-8494-46d645694f41",
   "metadata": {},
   "outputs": [
    {
     "data": {
      "text/plain": [
       "3-element StaticArrays.MVector{3, Float64} with indices SOneTo(3):\n",
       " 0.0\n",
       " 0.0\n",
       " 0.0"
      ]
     },
     "execution_count": 60,
     "metadata": {},
     "output_type": "execute_result"
    }
   ],
   "source": [
    "particles.temp_vec .= [0.0, 0.0, 0.0]"
   ]
  },
  {
   "cell_type": "code",
   "execution_count": 61,
   "id": "1bf1ce8e-300d-4cc6-a977-023eff1173d1",
   "metadata": {},
   "outputs": [
    {
     "data": {
      "text/plain": [
       "3-element StaticArrays.MVector{3, Float64} with indices SOneTo(3):\n",
       "  1.3356908841545083\n",
       " -0.7022602938846747\n",
       " -1.0619148474398026"
      ]
     },
     "execution_count": 61,
     "metadata": {},
     "output_type": "execute_result"
    }
   ],
   "source": [
    "qf"
   ]
  },
  {
   "cell_type": "code",
   "execution_count": null,
   "id": "83d950b0-3b50-41d7-840b-27e44c851672",
   "metadata": {},
   "outputs": [],
   "source": []
  },
  {
   "cell_type": "code",
   "execution_count": null,
   "id": "8a05aa57-ae21-4095-a086-effe6a491bd4",
   "metadata": {},
   "outputs": [],
   "source": [
    "struct RBM\n",
    "    M::Int64\n",
    "    N::Int64\n",
    "    W::Matrix{Float64}\n",
    "    a::Vector{Float64}\n",
    "    b::Vector{Float64}\n",
    "    σ::Float64\n",
    "end\n",
    "function RBM(visible, hidden, σ, rng::AbstractRNG)\n",
    "    W = Random.rand(rng, Float64, (visible, hidden))\n",
    "    a = Random.rand(rng, Float64, visible)\n",
    "    b = Random.rand(rng, Float64, hidden)\n",
    "    return RBM(visible, hidden, W, a, b, σ)\n",
    "end"
   ]
  },
  {
   "cell_type": "markdown",
   "id": "263f37ed-af72-4e51-8f20-ea665e637563",
   "metadata": {},
   "source": [
    "## RBM"
   ]
  },
  {
   "cell_type": "code",
   "execution_count": null,
   "id": "37614725-81a4-40e6-8da4-ada1e9e2d018",
   "metadata": {},
   "outputs": [],
   "source": [
    "rbm = RBM(length(positions), 10, 0.5, rng);"
   ]
  },
  {
   "cell_type": "code",
   "execution_count": null,
   "id": "bf706025-fbdd-48ea-ab7f-56225b1b70be",
   "metadata": {},
   "outputs": [],
   "source": [
    "function eval(X, rbm)\n",
    "    sum1 = 0.0\n",
    "    for i in 1:rbm.M\n",
    "        sum1 += (X[i] - rbm.a[i])^2\n",
    "    end\n",
    "    prod = exp(-sum1 / (2.0 * rbm.σ^2))\n",
    "    for j in 1:rbm.N\n",
    "        sum2 = 0.0\n",
    "        for i in 1:rbm.M\n",
    "            sum2 += X[i] * rbm.W[i, j]\n",
    "        end\n",
    "        prod *= 1.0 + exp(rbm.b[j] + sum2 / rbm.σ^2)\n",
    "    end\n",
    "    return prod\n",
    "end"
   ]
  },
  {
   "cell_type": "code",
   "execution_count": null,
   "id": "4134ce3e-e697-428a-934b-ffc08eb5554f",
   "metadata": {},
   "outputs": [],
   "source": [
    "@time eval(positions, rbm)"
   ]
  },
  {
   "cell_type": "code",
   "execution_count": null,
   "id": "3da331b7-2969-4690-8e6a-9e38b3c9e862",
   "metadata": {},
   "outputs": [],
   "source": [
    "function sigmoid(x)\n",
    "    return exp(x) / (1.0 + exp(x))\n",
    "end"
   ]
  },
  {
   "cell_type": "code",
   "execution_count": null,
   "id": "6da5e1e8-deac-4224-bfcb-76739642d096",
   "metadata": {},
   "outputs": [],
   "source": [
    "function kinetic(X, rbm)\n",
    "    dder = 0.0\n",
    "    for m in 1:rbm.M\n",
    "        sum1 = 0.0\n",
    "        sum2 = 0.0\n",
    "        for n in 1:rbm.N\n",
    "            sum3 = 0.0\n",
    "            for mm in 1:rbm.M\n",
    "                sum3 += X[mm] * rbm.W[mm, n]\n",
    "            end\n",
    "            sig_inp = rbm.b[n] + sum3 / rbm.σ^2\n",
    "            \n",
    "            wsig = rbm.W[m, n] * sigmoid(sig_inp)\n",
    "            sum1 += wsig\n",
    "            sum2 += wsig * rbm.W[m, n] * sigmoid(-sig_inp)\n",
    "        end\n",
    "        dlnΨ = rbm.a[m] - X[m] + sum1\n",
    "        d2lnΨ = -rbm.σ^2 + sum2\n",
    "        dder += dlnΨ^2 + d2lnΨ\n",
    "    end\n",
    "    return -0.5 * dder / rbm.σ^4\n",
    "end"
   ]
  },
  {
   "cell_type": "code",
   "execution_count": null,
   "id": "1e52acd3-9421-4264-91ba-9266d41198ba",
   "metadata": {},
   "outputs": [],
   "source": [
    "import StaticArrays as sa\n",
    "b = sa.SizedVector{2}"
   ]
  },
  {
   "cell_type": "code",
   "execution_count": null,
   "id": "58d3cfc8-82bf-41b7-be97-e569a5daa522",
   "metadata": {},
   "outputs": [],
   "source": [
    "@btime kinetic(positions, rbm)"
   ]
  },
  {
   "cell_type": "code",
   "execution_count": null,
   "id": "64cb7b0c-c972-49b6-a611-31fc1ec4ebab",
   "metadata": {},
   "outputs": [],
   "source": [
    "function paramDer(X, rbm)\n",
    "    da = 1 / rbm.σ^2 * (X .- rbm.a)\n",
    "    sig = rbm.b\n",
    "    for m in 1:rbm.M\n",
    "        for n in 1:rbm.N\n",
    "            sig[n] += X[m] .* rbm.W[m, n] / rbm.σ^2\n",
    "        end\n",
    "    end\n",
    "    sig .= sigmoid.(sig)\n",
    "    db = sig\n",
    "    dW = X * la.transpose(sig) ./ rbm.σ^2\n",
    "    return da, db, dW\n",
    "end"
   ]
  },
  {
   "cell_type": "code",
   "execution_count": null,
   "id": "f578c848-a7c4-4219-818c-3f211065c2c7",
   "metadata": {},
   "outputs": [],
   "source": [
    "@time gradient = paramDer(positions, rbm);"
   ]
  },
  {
   "cell_type": "code",
   "execution_count": null,
   "id": "8cf58461-32d4-4417-9d8c-d36529003aa9",
   "metadata": {},
   "outputs": [],
   "source": [
    "function QF(X, rbm, idx)\n",
    "    qf = zeros(length(idx))\n",
    "    \n",
    "    for (i, m) in enumerate(idx)\n",
    "        sum1 = 0.0\n",
    "        for n in 1:rbm.N\n",
    "            sum2 = 0.0\n",
    "            for mm in 1:rbm.M\n",
    "                sum2 += X[mm] * rbm.W[mm, n]\n",
    "            end\n",
    "            sig_inp = rbm.b[n] + sum2 / rbm.σ^2\n",
    "            sum1 += rbm.W[m, n] * sigmoid(sig_inp)\n",
    "        end\n",
    "        qf[i] = rbm.a[m] - X[m] + sum1\n",
    "    end\n",
    "    return qf\n",
    "end"
   ]
  },
  {
   "cell_type": "code",
   "execution_count": null,
   "id": "a83b5bf0-32a8-4ffa-b266-a2f61f100d89",
   "metadata": {},
   "outputs": [],
   "source": [
    "@time QF(positions, rbm, 7:9)"
   ]
  },
  {
   "cell_type": "code",
   "execution_count": null,
   "id": "055cb678-64fa-47fc-af5a-ae4965daf355",
   "metadata": {},
   "outputs": [],
   "source": []
  }
 ],
 "metadata": {
  "kernelspec": {
   "display_name": "Julia 1.6.2",
   "language": "julia",
   "name": "julia-1.6"
  },
  "language_info": {
   "file_extension": ".jl",
   "mimetype": "application/julia",
   "name": "julia",
   "version": "1.6.2"
  }
 },
 "nbformat": 4,
 "nbformat_minor": 5
}
