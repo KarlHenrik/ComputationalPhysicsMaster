{
 "cells": [
  {
   "cell_type": "code",
   "execution_count": 4,
   "id": "97c5ce75-5d84-4b83-8766-86e0c999d92e",
   "metadata": {},
   "outputs": [
    {
     "name": "stderr",
     "output_type": "stream",
     "text": [
      "\u001b[32m\u001b[1m  Activating\u001b[22m\u001b[39m project at `C:\\Users\\KarlH\\Desktop\\ComputationalPhysicsMaster\\Code\\OrbitalNeuralMethods`\n",
      "┌ Info: Precompiling OrbitalNeuralMethods [6de8678a-dd1c-461e-a987-24da1d9562b4]\n",
      "└ @ Base loading.jl:1423\n"
     ]
    }
   ],
   "source": [
    "using Pkg; Pkg.activate(\"OrbitalNeuralMethods\")\n",
    "using Revise\n",
    "using OrbitalNeuralMethods"
   ]
  },
  {
   "cell_type": "code",
   "execution_count": 73,
   "id": "287e6772-acab-44aa-82b0-2dd4e3cf5c6b",
   "metadata": {},
   "outputs": [
    {
     "name": "stdout",
     "output_type": "stream",
     "text": [
      "  0.037633 seconds (1.04 k allocations: 5.327 MiB)\n"
     ]
    }
   ],
   "source": [
    "l = 10\n",
    "ω = 0.25\n",
    "basis = SpinBasis(HOBasis(l, ω))\n",
    "\n",
    "n = 2\n",
    "V = ShieldedCoulomb(0.25)\n",
    "grid = [x for x in range(-10, stop = 10, length = 2001)]\n",
    "@time system = System(n, basis, grid, V);"
   ]
  },
  {
   "cell_type": "code",
   "execution_count": 74,
   "id": "3d56a900-55eb-43b6-9acc-bb88813f3c32",
   "metadata": {},
   "outputs": [
    {
     "data": {
      "text/plain": [
       "1.3836526203846078"
      ]
     },
     "execution_count": 74,
     "metadata": {},
     "output_type": "execute_result"
    }
   ],
   "source": [
    "hf = setup_HF(system);\n",
    "energy(hf)"
   ]
  },
  {
   "cell_type": "code",
   "execution_count": 75,
   "id": "0de4fb4d-d97a-46b4-aee2-84b12305b252",
   "metadata": {},
   "outputs": [
    {
     "data": {
      "text/plain": [
       "1.3836526203846078"
      ]
     },
     "execution_count": 75,
     "metadata": {},
     "output_type": "execute_result"
    }
   ],
   "source": [
    "rhf = setup_RHF(system);\n",
    "energy(rhf)"
   ]
  },
  {
   "cell_type": "code",
   "execution_count": 76,
   "id": "2371a0c9-6a86-4f51-b7ba-5c8ea75f1dcd",
   "metadata": {},
   "outputs": [
    {
     "data": {
      "text/plain": [
       "1.3836526203846078"
      ]
     },
     "execution_count": 76,
     "metadata": {},
     "output_type": "execute_result"
    }
   ],
   "source": [
    "RHF_update!(rhf);\n",
    "energy(rhf)"
   ]
  },
  {
   "cell_type": "code",
   "execution_count": 77,
   "id": "5bce26d6-6ba2-46b7-a142-b72ceaf7bbce",
   "metadata": {},
   "outputs": [],
   "source": [
    "ccsd = setup_CCSD(system);"
   ]
  },
  {
   "cell_type": "code",
   "execution_count": 78,
   "id": "c01fc226-0d6e-4e3c-b731-2b4259c3da90",
   "metadata": {},
   "outputs": [
    {
     "data": {
      "text/plain": [
       "-0.5359320195049254"
      ]
     },
     "execution_count": 78,
     "metadata": {},
     "output_type": "execute_result"
    }
   ],
   "source": [
    "corr_energy(ccsd)"
   ]
  },
  {
   "cell_type": "code",
   "execution_count": 79,
   "id": "0dd045bb-d489-456f-b9ac-41be7c58f557",
   "metadata": {},
   "outputs": [
    {
     "data": {
      "text/plain": [
       "0.8477206008796834"
      ]
     },
     "execution_count": 79,
     "metadata": {},
     "output_type": "execute_result"
    }
   ],
   "source": [
    "energy(ccsd)"
   ]
  },
  {
   "cell_type": "code",
   "execution_count": null,
   "id": "ca416068-83a0-433e-aea3-63415b7214b2",
   "metadata": {},
   "outputs": [],
   "source": [
    "l = 2\n",
    "for i in 1:l\n",
    "    for j in 1:l\n",
    "        println(2*i - 1, \" \", 2*j - 1, \" and \", 2*i, \" \", 2*j)\n",
    "    end\n",
    "end"
   ]
  },
  {
   "cell_type": "code",
   "execution_count": null,
   "id": "727b402d-bdae-456a-a622-6180df559fda",
   "metadata": {},
   "outputs": [],
   "source": []
  }
 ],
 "metadata": {
  "kernelspec": {
   "display_name": "Julia (12 threads) 1.7.2",
   "language": "julia",
   "name": "julia-(12-threads)-1.7"
  },
  "language_info": {
   "file_extension": ".jl",
   "mimetype": "application/julia",
   "name": "julia",
   "version": "1.7.2"
  }
 },
 "nbformat": 4,
 "nbformat_minor": 5
}
