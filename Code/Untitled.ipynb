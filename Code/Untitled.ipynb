{
 "cells": [
  {
   "cell_type": "code",
   "execution_count": 1,
   "id": "97c5ce75-5d84-4b83-8766-86e0c999d92e",
   "metadata": {},
   "outputs": [
    {
     "name": "stderr",
     "output_type": "stream",
     "text": [
      "\u001b[32m\u001b[1m  Activating\u001b[22m\u001b[39m project at `C:\\Users\\KarlH\\Desktop\\ComputationalPhysicsMaster\\Code\\OrbitalNeuralMethods`\n"
     ]
    }
   ],
   "source": [
    "using Pkg; Pkg.activate(\"OrbitalNeuralMethods\")\n",
    "using Revise\n",
    "using OrbitalNeuralMethods"
   ]
  },
  {
   "cell_type": "code",
   "execution_count": 115,
   "id": "287e6772-acab-44aa-82b0-2dd4e3cf5c6b",
   "metadata": {},
   "outputs": [
    {
     "name": "stdout",
     "output_type": "stream",
     "text": [
      "  0.891953 seconds (13.12 k allocations: 672.547 MiB, 11.52% gc time)\n"
     ]
    }
   ],
   "source": [
    "l = 40\n",
    "ω = 0.25\n",
    "basis = SpinBasis(HOBasis(l, ω))\n",
    "\n",
    "n = 2\n",
    "V = ShieldedCoulomb(0.25)\n",
    "grid = [x for x in range(-10, stop = 10, length = 2001)]\n",
    "@time system = System(n, basis, grid, V);"
   ]
  },
  {
   "cell_type": "code",
   "execution_count": 111,
   "id": "3d56a900-55eb-43b6-9acc-bb88813f3c32",
   "metadata": {},
   "outputs": [
    {
     "data": {
      "text/plain": [
       "1.3836526203846078"
      ]
     },
     "execution_count": 111,
     "metadata": {},
     "output_type": "execute_result"
    }
   ],
   "source": [
    "hf = setup_HF(system);\n",
    "energy(hf)"
   ]
  },
  {
   "cell_type": "code",
   "execution_count": 112,
   "id": "5bce26d6-6ba2-46b7-a142-b72ceaf7bbce",
   "metadata": {},
   "outputs": [],
   "source": [
    "ccsd = setup_CCSD(system);"
   ]
  },
  {
   "cell_type": "code",
   "execution_count": 113,
   "id": "c01fc226-0d6e-4e3c-b731-2b4259c3da90",
   "metadata": {},
   "outputs": [
    {
     "data": {
      "text/plain": [
       "-0.5689520486745369"
      ]
     },
     "execution_count": 113,
     "metadata": {},
     "output_type": "execute_result"
    }
   ],
   "source": [
    "corr_energy(ccsd)"
   ]
  },
  {
   "cell_type": "code",
   "execution_count": 114,
   "id": "0dd045bb-d489-456f-b9ac-41be7c58f557",
   "metadata": {},
   "outputs": [
    {
     "data": {
      "text/plain": [
       "0.8147005717100737"
      ]
     },
     "execution_count": 114,
     "metadata": {},
     "output_type": "execute_result"
    }
   ],
   "source": [
    "energy(ccsd)"
   ]
  },
  {
   "cell_type": "code",
   "execution_count": null,
   "id": "ca416068-83a0-433e-aea3-63415b7214b2",
   "metadata": {},
   "outputs": [],
   "source": []
  }
 ],
 "metadata": {
  "kernelspec": {
   "display_name": "Julia (12 threads) 1.7.2",
   "language": "julia",
   "name": "julia-(12-threads)-1.7"
  },
  "language_info": {
   "file_extension": ".jl",
   "mimetype": "application/julia",
   "name": "julia",
   "version": "1.7.2"
  }
 },
 "nbformat": 4,
 "nbformat_minor": 5
}
