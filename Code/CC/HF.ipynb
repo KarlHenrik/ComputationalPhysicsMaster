{
 "cells": [
  {
   "cell_type": "code",
   "execution_count": 1,
   "id": "35612f63-1792-4221-8ba8-211709f96f42",
   "metadata": {},
   "outputs": [],
   "source": [
    "import numpy as np\n",
    "import matplotlib.pyplot as plt\n",
    "import itertools\n",
    "from numba import njit"
   ]
  },
  {
   "cell_type": "markdown",
   "id": "9b9d135c-f5b8-4279-907a-d47189a016a3",
   "metadata": {},
   "source": [
    "## Integrals"
   ]
  },
  {
   "cell_type": "code",
   "execution_count": 2,
   "id": "04b19662-9074-4b2f-a65e-4dba9442acba",
   "metadata": {},
   "outputs": [],
   "source": [
    "def H_0(p, q):\n",
    "    \"\"\"\n",
    "    The one body part of the hamiltonian\n",
    "    \n",
    "    delta = 1\n",
    "    \"\"\"\n",
    "    if p == q:\n",
    "        p1, s2 = states[p]\n",
    "        return p1 - 1\n",
    "    else:\n",
    "        return 0"
   ]
  },
  {
   "cell_type": "code",
   "execution_count": 3,
   "id": "4a6018ef-2fd4-4cf6-86fd-b07ab4deaa03",
   "metadata": {},
   "outputs": [],
   "source": [
    "def V(p, q, r, s, g):\n",
    "    \"\"\"\n",
    "    The two body part of the hamiltonian\n",
    "    \n",
    "    <pq|V|rs>\n",
    "    \"\"\"\n",
    "    # particle 1\n",
    "    p1, p_s = states[p]\n",
    "    r1, r_s = states[r]\n",
    "    # particle 2\n",
    "    q2, q_s = states[q]\n",
    "    s2, s_s = states[s]\n",
    "\n",
    "    if p1 != r1 or q2 != s2: #if particle 1 or 2 isn't in a single energy level\n",
    "        return 0\n",
    "    if p_s == r_s or q_s == s_s: #if particle 1 or particle 2 don't have a spin up/down pair\n",
    "        return 0\n",
    "    if p_s == q_s and r_s == s_s: #if the particle 1 and particle 2 spin functions match in spins (+- and +-, or -+ and -+)\n",
    "        return -g/2\n",
    "    if p_s == s_s and q_s == r_s: #if the particle 1 and particle 2 spin functions don't match in spins (+- and -+, or -+ and +-)\n",
    "        return g/2"
   ]
  },
  {
   "cell_type": "code",
   "execution_count": 143,
   "id": "7bdaaf10-2f57-4051-b2a2-12240c0b1264",
   "metadata": {},
   "outputs": [],
   "source": [
    "def get_integrals(g):\n",
    "    h = np.zeros((l, l))\n",
    "    u = np.zeros((l, l, l, l))\n",
    "\n",
    "    for p in range(l):\n",
    "        for q in range(l):\n",
    "            h[p, q] = H_0(p, q)\n",
    "\n",
    "            for r in range(l):\n",
    "                for s in range(l):\n",
    "                    u[p, q, r, s] = V(p, q, r, s, g) - V(p, q, s, r, g)\n",
    "                    \n",
    "    return h, u"
   ]
  },
  {
   "cell_type": "code",
   "execution_count": 144,
   "id": "6a4481a9-303e-4db5-9f05-ca39333bbb88",
   "metadata": {},
   "outputs": [],
   "source": [
    "l = 8\n",
    "n = 4\n",
    "\n",
    "#        [(1, 1), (1, -1), (2, 1), (2, -1), (3, 1), (3, -1), (4, 1), (4, -1)]\n",
    "states = [(p//2 + 1, 1 if p%2==0 else -1) for p in range(l)]\n",
    "\n",
    "g_arr = np.linspace(-1, 1, 100)"
   ]
  },
  {
   "cell_type": "markdown",
   "id": "7beb9bc0-051e-4d3b-93a4-4498b6dcae5d",
   "metadata": {},
   "source": [
    "## Exact solution"
   ]
  },
  {
   "cell_type": "code",
   "execution_count": 6,
   "id": "2fed7783-ca23-4ff9-9477-fda08da766d1",
   "metadata": {},
   "outputs": [],
   "source": [
    "def full_CI(g):\n",
    "    H = np.matrix([ [ 2-g, -g/2, -g/2, -g/2, -g/2,    0],\n",
    "                    [-g/2,  4-g, -g/2, -g/2,    0, -g/2],\n",
    "                    [-g/2, -g/2,  6-g,    0, -g/2, -g/2],\n",
    "                    [-g/2, -g/2,    0,  6-g, -g/2, -g/2],\n",
    "                    [-g/2,    0, -g/2, -g/2,  8-g, -g/2],\n",
    "                    [   0, -g/2, -g/2, -g/2, -g/2, 10-g] ])\n",
    "    vals, vecs = np.linalg.eig(H)\n",
    "    return np.real(min(vals)) - (2 - g)"
   ]
  },
  {
   "cell_type": "code",
   "execution_count": 7,
   "id": "d0cbef13-4e21-4886-9322-60eaf7fa8ff0",
   "metadata": {},
   "outputs": [
    {
     "data": {
      "image/png": "[encoded data removed]",
      "text/plain": [
       "<Figure size 432x288 with 1 Axes>"
      ]
     },
     "metadata": {
      "needs_background": "light"
     },
     "output_type": "display_data"
    }
   ],
   "source": [
    "E = [full_CI(g) for g in g_arr]\n",
    "plt.plot(g_arr, E)\n",
    "plt.show()"
   ]
  },
  {
   "cell_type": "markdown",
   "id": "2da2924f-2d2e-44f2-8505-645547e42202",
   "metadata": {
    "tags": []
   },
   "source": [
    "## Hartree-Fock"
   ]
  },
  {
   "cell_type": "code",
   "execution_count": 8,
   "id": "53a8a162-167a-4e22-bf1d-b2b723cb6a7c",
   "metadata": {},
   "outputs": [],
   "source": [
    "@njit\n",
    "def getP(C, n):\n",
    "    l = C.shape[0]\n",
    "    P = np.zeros((l, l), dtype=\"c16\")\n",
    "    \n",
    "    for a in range(l):\n",
    "        for b in range(l):\n",
    "            for i in range(n):\n",
    "                P[b, a] += np.conj(C[a, i]) * C[b, i]\n",
    "    return P\n",
    "\n",
    "@njit\n",
    "def getF(C, h, u, n):\n",
    "    l = C.shape[0]\n",
    "    F = np.zeros((l, l), dtype=\"c16\")\n",
    "    P = getP(C, n)\n",
    "    \n",
    "    F += h\n",
    "    for a in range(l):\n",
    "        for b in range(l):\n",
    "            for c in range(l):\n",
    "                for d in range(l):\n",
    "                    F[a, b] += P[d, c] * (u[a, c, b, d] - u[a, c, d, b])\n",
    "    return F"
   ]
  },
  {
   "cell_type": "code",
   "execution_count": 9,
   "id": "f7a50889-3f02-4fea-8443-4af8b860b673",
   "metadata": {},
   "outputs": [],
   "source": [
    "def SCF(C, h, u, iters):\n",
    "    for i in range(iters):\n",
    "        F = getF(C, h, u, n)\n",
    "        _, C = np.linalg.eigh(F)\n",
    "    return C"
   ]
  },
  {
   "cell_type": "code",
   "execution_count": 72,
   "id": "46b5d79f-5be6-4b27-bfb0-f8ca8c9cc705",
   "metadata": {},
   "outputs": [],
   "source": [
    "C_initial = np.eye(l, dtype=\"c16\")"
   ]
  },
  {
   "cell_type": "code",
   "execution_count": 134,
   "id": "df4d6afb-0362-4db7-bafb-daf95df48c03",
   "metadata": {},
   "outputs": [],
   "source": [
    "C_initial = np.random.rand(l, l)"
   ]
  },
  {
   "cell_type": "code",
   "execution_count": 135,
   "id": "d94c1dd0-fcfc-48d4-a9ae-26f0b99a8317",
   "metadata": {},
   "outputs": [],
   "source": [
    "g = 1\n",
    "h, u = get_integrals(g)"
   ]
  },
  {
   "cell_type": "code",
   "execution_count": 136,
   "id": "c80e9b45-6c1a-4697-a490-d8c4c66223b5",
   "metadata": {},
   "outputs": [],
   "source": [
    "C = C_initial"
   ]
  },
  {
   "cell_type": "code",
   "execution_count": 140,
   "id": "71a81b39-5f4e-474e-8349-7e7611d754ad",
   "metadata": {},
   "outputs": [],
   "source": [
    "C = SCF(C, h, u, 100)"
   ]
  },
  {
   "cell_type": "code",
   "execution_count": 141,
   "id": "6a61fa15-4571-4c9e-81c2-2652a6832e77",
   "metadata": {},
   "outputs": [
    {
     "data": {
      "text/plain": [
       "array([[ 1.  ,  0.  , -0.  ,  0.  , -0.  ,  0.  , -0.  , -0.  ],\n",
       "       [ 0.  , -1.  , -0.  , -0.  ,  0.  ,  0.  , -0.  ,  0.  ],\n",
       "       [-0.  ,  0.  ,  0.63,  0.78, -0.  , -0.  , -0.  , -0.  ],\n",
       "       [-0.  , -0.  , -0.78,  0.63,  0.  , -0.  ,  0.  ,  0.  ],\n",
       "       [ 0.  ,  0.  ,  0.  ,  0.  ,  0.97, -0.25,  0.  , -0.  ],\n",
       "       [-0.  ,  0.  ,  0.  ,  0.  ,  0.25,  0.97, -0.  , -0.  ],\n",
       "       [ 0.  ,  0.  ,  0.  ,  0.  ,  0.  ,  0.  ,  1.  , -0.03],\n",
       "       [ 0.  ,  0.  ,  0.  ,  0.  ,  0.  ,  0.  ,  0.03,  1.  ]])"
      ]
     },
     "execution_count": 141,
     "metadata": {},
     "output_type": "execute_result"
    }
   ],
   "source": [
    "np.round(np.real(C), 2)"
   ]
  },
  {
   "cell_type": "code",
   "execution_count": 142,
   "id": "e1acd6a4-b920-4e2e-98e5-07432cdffd86",
   "metadata": {},
   "outputs": [
    {
     "data": {
      "text/plain": [
       "(1.0000000000000004+0j)"
      ]
     },
     "execution_count": 142,
     "metadata": {},
     "output_type": "execute_result"
    }
   ],
   "source": [
    "expected_energy(C)"
   ]
  },
  {
   "cell_type": "code",
   "execution_count": 14,
   "id": "88c2861c-6a3f-421f-991c-67e329d4ff3d",
   "metadata": {},
   "outputs": [],
   "source": [
    "def expected_energy(C):\n",
    "    P = getP(C, n)\n",
    "    \n",
    "    energy = 0.0\n",
    "    for a in range(l):\n",
    "        for b in range(l):\n",
    "            energy += P[b, a] * h[a, b]\n",
    "            for c in range(l):\n",
    "                for d in range(l):\n",
    "                    energy += 0.5 * P[b, a] * P[d, c] * u[a, b, c, d]\n",
    "\n",
    "    return energy"
   ]
  },
  {
   "cell_type": "code",
   "execution_count": null,
   "id": "a94d3235-fd70-4867-9080-cb5142d84a0a",
   "metadata": {},
   "outputs": [],
   "source": []
  },
  {
   "cell_type": "code",
   "execution_count": null,
   "id": "cece97c6-c58d-49fc-abba-1dc337aa62ed",
   "metadata": {},
   "outputs": [],
   "source": []
  },
  {
   "cell_type": "code",
   "execution_count": null,
   "id": "397c352b-c15c-4a60-90c9-ac8942896820",
   "metadata": {},
   "outputs": [],
   "source": []
  },
  {
   "cell_type": "code",
   "execution_count": null,
   "id": "acf51723-2c0a-43f2-b84b-eaeef3e6b2eb",
   "metadata": {},
   "outputs": [],
   "source": []
  },
  {
   "cell_type": "code",
   "execution_count": null,
   "id": "085d0d54-cc99-49a0-8509-24398ffb72e2",
   "metadata": {},
   "outputs": [],
   "source": []
  },
  {
   "cell_type": "code",
   "execution_count": null,
   "id": "4d23e660-be74-495b-a183-8d8b1ea0068b",
   "metadata": {},
   "outputs": [],
   "source": []
  },
  {
   "cell_type": "code",
   "execution_count": null,
   "id": "fe9500b4-8456-4e48-9df8-c074fc932369",
   "metadata": {},
   "outputs": [],
   "source": []
  },
  {
   "cell_type": "code",
   "execution_count": null,
   "id": "86797ed2-20e3-4ada-a2b7-30a86d2c250e",
   "metadata": {},
   "outputs": [],
   "source": []
  },
  {
   "cell_type": "code",
   "execution_count": null,
   "id": "d69ddfb3-5730-4650-b6ad-11f9c0abac51",
   "metadata": {},
   "outputs": [],
   "source": []
  },
  {
   "cell_type": "code",
   "execution_count": null,
   "id": "32a3f827-7442-41f7-9f26-dab0b50ee456",
   "metadata": {},
   "outputs": [],
   "source": []
  },
  {
   "cell_type": "code",
   "execution_count": null,
   "id": "393211ca-c540-4f64-8bf0-02c429ee66ab",
   "metadata": {},
   "outputs": [],
   "source": []
  },
  {
   "cell_type": "markdown",
   "id": "ae9ee10e-2a3c-4961-9a48-d7265ccdb84c",
   "metadata": {},
   "source": [
    "## Excitation bullshit"
   ]
  },
  {
   "cell_type": "code",
   "execution_count": 16,
   "id": "7ce3c2ec-90b2-4271-a299-6af3733ef671",
   "metadata": {},
   "outputs": [],
   "source": [
    "perms = {}\n",
    "\n",
    "for i in itertools.permutations(range(1, l+1)):\n",
    "    perm = i[:4]\n",
    "    perml = list(perm)\n",
    "    if sorted(perml) == perml: #no duplicates\n",
    "        if perm[0]%2 == 1 and perm[2]%2 == 1: #first and third particle spin up\n",
    "            if perm[0] == perm[1] - 1 and perm[2] == perm[3] - 1: #only unbroken pairs\n",
    "                perms[perm] = perm"
   ]
  },
  {
   "cell_type": "code",
   "execution_count": 17,
   "id": "3da1b159-3b5c-4fd1-9b78-8c32e82aeb8f",
   "metadata": {},
   "outputs": [
    {
     "name": "stdout",
     "output_type": "stream",
     "text": [
      "(1, 2, 3, 4)\n",
      "(1, 2, 5, 6)\n",
      "(1, 2, 7, 8)\n",
      "(3, 4, 5, 6)\n",
      "(3, 4, 7, 8)\n",
      "(5, 6, 7, 8)\n"
     ]
    }
   ],
   "source": [
    "for i in perms:\n",
    "    print(i)"
   ]
  },
  {
   "cell_type": "code",
   "execution_count": 18,
   "id": "bffd2d8b-1117-413c-a3ce-048634c98bf6",
   "metadata": {},
   "outputs": [],
   "source": [
    "perms = [(1, 2, 3, 4),\n",
    "        (1, 2, 5, 6),\n",
    "        (1, 2, 7, 8),\n",
    "        (5, 6, 3, 4),\n",
    "        (7, 8, 3, 4),\n",
    "        (5, 6, 7, 8)]"
   ]
  },
  {
   "cell_type": "code",
   "execution_count": null,
   "id": "b88cdce3-73c3-476a-a77d-cd56abd97a2b",
   "metadata": {},
   "outputs": [],
   "source": [
    "determinants = []\n",
    "for perm in perms:\n",
    "    C = np.zeros((l, l))\n",
    "    for i, j in zip(range(n), perm):\n",
    "        C[j - 1, i] = 1\n",
    "    determinants.append(C)"
   ]
  },
  {
   "cell_type": "code",
   "execution_count": null,
   "id": "36c8b79b-38a0-452b-b85e-e2fa3b62b905",
   "metadata": {},
   "outputs": [],
   "source": [
    "for C in determinants:\n",
    "    print(expected_energy(C))"
   ]
  },
  {
   "cell_type": "code",
   "execution_count": null,
   "id": "07c68461-a4e9-4aa0-8f15-6d6af421c2a9",
   "metadata": {},
   "outputs": [],
   "source": [
    "def expected_energy_overlap(C1, C2):\n",
    "    energy = 0.0\n",
    "    \n",
    "    for a in range(l):\n",
    "        for b in range(l):\n",
    "            for c in range(l):\n",
    "                for d in range(l):\n",
    "                    energy += C1[a, 0] * C1[b, 1] * C1[c, 2] * C1[d, 3] * C2[a, 0] * C2[b, 1] * C2[c, 2] * C2[d, 3] * h[a, b]\n",
    "    \n",
    "    #for i in range(n):\n",
    "    #    for j in range(n):\n",
    "    #        for a in range(l):\n",
    "    #            for b in range(l):\n",
    "    #                for c in range(l):\n",
    "    #                    for d in range(l):\n",
    "    #                        energy += 0.5 * np.conj(C1[a, i]) * np.conj(C1[b, j]) * C2[c, i] * C2[d, j] * (u[a, b, c, d]-u[a, b, d, c])\n",
    "    return energy"
   ]
  },
  {
   "cell_type": "code",
   "execution_count": null,
   "id": "e8a86720-b4f3-47b1-82f3-03cc2fee54b9",
   "metadata": {},
   "outputs": [],
   "source": [
    "%%time\n",
    "\n",
    "n_dets = len(determinants)\n",
    "H = np.zeros((n_dets, n_dets))\n",
    "\n",
    "for i in range(n_dets):\n",
    "    for j in range(i, n_dets):\n",
    "        C1, C2 = determinants[i], determinants[j]\n",
    "        E = expected_energy_overlap(C1, C2)\n",
    "        H[i, j] = E\n",
    "        H[j, i] = E\n",
    "\n",
    "print(H)"
   ]
  },
  {
   "cell_type": "code",
   "execution_count": null,
   "id": "9aa532c2-7e38-4a05-9aba-775d809c0030",
   "metadata": {},
   "outputs": [],
   "source": []
  }
 ],
 "metadata": {
  "kernelspec": {
   "display_name": "Python 3 (ipykernel)",
   "language": "python",
   "name": "python3"
  },
  "language_info": {
   "codemirror_mode": {
    "name": "ipython",
    "version": 3
   },
   "file_extension": ".py",
   "mimetype": "text/x-python",
   "name": "python",
   "nbconvert_exporter": "python",
   "pygments_lexer": "ipython3",
   "version": "3.8.8"
  }
 },
 "nbformat": 4,
 "nbformat_minor": 5
}
