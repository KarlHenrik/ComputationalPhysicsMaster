{
 "cells": [
  {
   "cell_type": "code",
   "execution_count": 14,
   "id": "69388ed2-fb5a-4ec9-afa3-68ad074e5599",
   "metadata": {},
   "outputs": [],
   "source": [
    "import LinearAlgebra as la\n",
    "\n",
    "import Random\n",
    "rng = Random.MersenneTwister();\n",
    "\n",
    "import ForwardDiff\n",
    "import ReverseDiff\n",
    "import Flux"
   ]
  },
  {
   "cell_type": "code",
   "execution_count": 2,
   "id": "c41e07e1-01bf-4e79-b9e3-84593b4a8315",
   "metadata": {},
   "outputs": [
    {
     "data": {
      "text/plain": [
       "5-element Vector{Float64}:\n",
       " 0.9877026744437778\n",
       " 0.49257101943418724\n",
       " 0.875310305528372\n",
       " 0.054442928809441016\n",
       " 0.6926596144509987"
      ]
     },
     "execution_count": 2,
     "metadata": {},
     "output_type": "execute_result"
    }
   ],
   "source": [
    "positions = rand(rng, 5)"
   ]
  },
  {
   "cell_type": "code",
   "execution_count": 8,
   "id": "07a89bbe-ee5f-4d19-be74-4ec5093e9bf9",
   "metadata": {},
   "outputs": [],
   "source": [
    "x_train = positions;"
   ]
  },
  {
   "cell_type": "code",
   "execution_count": 3,
   "id": "6c006d6f-142d-468b-b36f-285344d190f5",
   "metadata": {},
   "outputs": [
    {
     "data": {
      "text/plain": [
       "model (generic function with 1 method)"
      ]
     },
     "execution_count": 3,
     "metadata": {},
     "output_type": "execute_result"
    }
   ],
   "source": [
    "function model(positions)\n",
    "    return sum(positions.^5) + 2\n",
    "end"
   ]
  },
  {
   "cell_type": "markdown",
   "id": "6c7e93a1-ef2d-4c9d-aba1-3a1ed0d14b91",
   "metadata": {},
   "source": [
    "## Hessian"
   ]
  },
  {
   "cell_type": "code",
   "execution_count": 4,
   "id": "9a1f488a-90ba-4a19-942d-00d6b2846d98",
   "metadata": {},
   "outputs": [
    {
     "data": {
      "text/plain": [
       "Dict{DataType, Any}()"
      ]
     },
     "execution_count": 4,
     "metadata": {},
     "output_type": "execute_result"
    }
   ],
   "source": [
    "const CACHE = Dict{DataType, Any}()"
   ]
  },
  {
   "cell_type": "code",
   "execution_count": 5,
   "id": "1d47789a-38e2-483d-a9ec-8cc1eea98cd9",
   "metadata": {},
   "outputs": [
    {
     "data": {
      "text/plain": [
       "kineticMX (generic function with 1 method)"
      ]
     },
     "execution_count": 5,
     "metadata": {},
     "output_type": "execute_result"
    }
   ],
   "source": [
    "function inner(y, positions::Array{T}) where {T<:Real}\n",
    "    if !haskey(CACHE, T)\n",
    "        config = ReverseDiff.GradientConfig(positions)\n",
    "        tape = ReverseDiff.compile(ReverseDiff.GradientTape(model, positions, config))\n",
    "        CACHE[T] = tape\n",
    "    end\n",
    "    tape = CACHE[T]\n",
    "    return ReverseDiff.gradient!(y, tape, positions)\n",
    "end\n",
    "\n",
    "function kineticMX(positions, inner, config, result, y)\n",
    "    ForwardDiff.jacobian!(result, inner, y, positions, config)\n",
    "    return result #/ SimpleG(positions)\n",
    "end"
   ]
  },
  {
   "cell_type": "code",
   "execution_count": 9,
   "id": "4f8e287c-6b9c-48fb-a7dc-d495599ba967",
   "metadata": {},
   "outputs": [],
   "source": [
    "y = similar(x_train)\n",
    "config = ForwardDiff.JacobianConfig(inner, y, x_train);\n",
    "result = zeros(5, 5);"
   ]
  },
  {
   "cell_type": "code",
   "execution_count": 12,
   "id": "84b1a559-ad0b-44c4-b84e-0aed154a78cd",
   "metadata": {},
   "outputs": [
    {
     "name": "stdout",
     "output_type": "stream",
     "text": [
      "  0.000022 seconds (1 allocation: 224 bytes)\n"
     ]
    },
    {
     "data": {
      "text/plain": [
       "5×5 Matrix{Float64}:\n",
       " 19.2712  0.0       0.0     0.0         0.0\n",
       "  0.0     2.39021   0.0     0.0         0.0\n",
       "  0.0     0.0      13.4127  0.0         0.0\n",
       "  0.0     0.0       0.0     0.00322741  0.0\n",
       "  0.0     0.0       0.0     0.0         6.64645"
      ]
     },
     "execution_count": 12,
     "metadata": {},
     "output_type": "execute_result"
    }
   ],
   "source": [
    "@time kineticMX(x_train, inner, config, result, y)"
   ]
  },
  {
   "cell_type": "markdown",
   "id": "382083b2-9427-437d-8006-aa5e564b1164",
   "metadata": {
    "tags": []
   },
   "source": [
    "## Flux model"
   ]
  },
  {
   "cell_type": "code",
   "execution_count": 15,
   "id": "f4d15449-64bb-49fb-b411-3981f9e01685",
   "metadata": {},
   "outputs": [
    {
     "data": {
      "text/plain": [
       "Chain(\n",
       "  Dense(5, 5),                          \u001b[90m# 30 parameters\u001b[39m\n",
       "  Dense(5, 3),                          \u001b[90m# 18 parameters\u001b[39m\n",
       "  Dense(3, 1),                          \u001b[90m# 4 parameters\u001b[39m\n",
       "  var\"#3#4\"(),\n",
       ")\u001b[90m                   # Total: 6 arrays, \u001b[39m52 parameters, 592 bytes."
      ]
     },
     "execution_count": 15,
     "metadata": {},
     "output_type": "execute_result"
    }
   ],
   "source": [
    "model_flux = Flux.Chain(Flux.Dense(5,5),\n",
    "               Flux.Dense(5,3),\n",
    "               Flux.Dense(3,1),\n",
    "               x -> exp.(x)[1])"
   ]
  },
  {
   "cell_type": "code",
   "execution_count": 20,
   "id": "135a451b-6fd7-46d9-aaf0-ed94d341992e",
   "metadata": {},
   "outputs": [
    {
     "name": "stdout",
     "output_type": "stream",
     "text": [
      "  0.000017 seconds (8 allocations: 560 bytes)\n"
     ]
    },
    {
     "data": {
      "text/plain": [
       "1.8392177604609379"
      ]
     },
     "execution_count": 20,
     "metadata": {},
     "output_type": "execute_result"
    }
   ],
   "source": [
    "@time model_flux(positions)"
   ]
  },
  {
   "cell_type": "code",
   "execution_count": 21,
   "id": "61730670-2ef7-44e2-b3cc-d5f29ae9ebb2",
   "metadata": {},
   "outputs": [
    {
     "name": "stdout",
     "output_type": "stream",
     "text": [
      "  0.000010 seconds (2 allocations: 112 bytes)\n"
     ]
    },
    {
     "data": {
      "text/plain": [
       "3.642263833433814"
      ]
     },
     "execution_count": 21,
     "metadata": {},
     "output_type": "execute_result"
    }
   ],
   "source": [
    "@time model(positions)"
   ]
  },
  {
   "cell_type": "markdown",
   "id": "e52bd289-0982-498c-af45-c54c238b1c47",
   "metadata": {},
   "source": [
    "## Gradient of flux model"
   ]
  },
  {
   "cell_type": "code",
   "execution_count": 22,
   "id": "84bb3da1-9438-4314-ab6b-1cd1ae1c2152",
   "metadata": {},
   "outputs": [],
   "source": [
    "ps = Flux.params(model_flux);"
   ]
  },
  {
   "cell_type": "code",
   "execution_count": 23,
   "id": "c9751608-1450-4f31-8f3b-6aaceb6dec52",
   "metadata": {},
   "outputs": [
    {
     "data": {
      "text/plain": [
       "grad_flux (generic function with 1 method)"
      ]
     },
     "execution_count": 23,
     "metadata": {},
     "output_type": "execute_result"
    }
   ],
   "source": [
    "function grad_flux(model, positions)\n",
    "    gs = Flux.gradient(() -> model(positions), ps)\n",
    "    return gs\n",
    "end"
   ]
  },
  {
   "cell_type": "code",
   "execution_count": 25,
   "id": "faf9cbd3-b777-43fc-bfc8-34d47284265b",
   "metadata": {},
   "outputs": [
    {
     "name": "stdout",
     "output_type": "stream",
     "text": [
      "  0.000239 seconds (316 allocations: 21.594 KiB)\n"
     ]
    },
    {
     "data": {
      "text/plain": [
       "Grads(...)"
      ]
     },
     "execution_count": 25,
     "metadata": {},
     "output_type": "execute_result"
    }
   ],
   "source": [
    "@time grad_flux_res = grad_flux(model_flux, positions)"
   ]
  },
  {
   "cell_type": "code",
   "execution_count": null,
   "id": "7735b50c-effa-4869-ae73-54d8d341eec6",
   "metadata": {},
   "outputs": [],
   "source": [
    "grad_flux_res[model_flux[1].W]"
   ]
  }
 ],
 "metadata": {
  "kernelspec": {
   "display_name": "Julia (8 threads) 1.7.2",
   "language": "julia",
   "name": "julia-(8-threads)-1.7"
  },
  "language_info": {
   "file_extension": ".jl",
   "mimetype": "application/julia",
   "name": "julia",
   "version": "1.7.2"
  }
 },
 "nbformat": 4,
 "nbformat_minor": 5
}
