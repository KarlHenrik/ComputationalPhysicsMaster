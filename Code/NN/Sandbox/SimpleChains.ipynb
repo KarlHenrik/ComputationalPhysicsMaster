{
 "cells": [
  {
   "cell_type": "code",
   "execution_count": 152,
   "id": "5ecf3e44-df62-46aa-a052-5917fee301d9",
   "metadata": {},
   "outputs": [],
   "source": [
    "using SimpleChains, BenchmarkTools"
   ]
  },
  {
   "cell_type": "code",
   "execution_count": 277,
   "id": "be399a1d-b587-4568-a812-1e3af4cde55a",
   "metadata": {},
   "outputs": [],
   "source": [
    "import ForwardDiff as fd"
   ]
  },
  {
   "cell_type": "code",
   "execution_count": 367,
   "id": "6775cb73-7be2-4972-8ce3-e534c8e8d805",
   "metadata": {},
   "outputs": [],
   "source": [
    "# 24 covariates each per 200 observations\n",
    "pos = -2*ones(5,1) # 24 inputs per 200 observations\n",
    "pos = rand(5, 1)\n",
    "\n",
    "mdl = SimpleChain(\n",
    "    static(size(pos)[1]),\n",
    "    TurboDense{true}(identity, 5),\n",
    "    TurboDense{false}(identity, 1),\n",
    ")\n",
    "#p = ones(SimpleChains.numparam(mdl));\n",
    "p = SimpleChains.init_params(mdl, Float64);"
   ]
  },
  {
   "cell_type": "code",
   "execution_count": 368,
   "id": "1cca3206-95e6-4094-8e62-aaa34fb5bfd5",
   "metadata": {},
   "outputs": [
    {
     "data": {
      "text/plain": [
       "1.073984643682659"
      ]
     },
     "execution_count": 368,
     "metadata": {},
     "output_type": "execute_result"
    }
   ],
   "source": [
    "mdl(pos, p)[1]"
   ]
  },
  {
   "cell_type": "code",
   "execution_count": 369,
   "id": "0c1e28bb-7889-4128-aa92-c88ee4dcfc31",
   "metadata": {},
   "outputs": [
    {
     "data": {
      "text/plain": [
       "1.073984643682659"
      ]
     },
     "execution_count": 369,
     "metadata": {},
     "output_type": "execute_result"
    }
   ],
   "source": [
    "y = 0.0\n",
    "\n",
    "mdl_l = SimpleChains.add_loss(mdl, AbsoluteLoss(y))\n",
    "\n",
    "g = similar(p)\n",
    "\n",
    "# Entirely in place evaluation\n",
    "valgrad!(g, mdl_l, pos, p) # dropout active"
   ]
  },
  {
   "cell_type": "code",
   "execution_count": 370,
   "id": "c29f47e3-f8da-4814-9d29-65d522937f55",
   "metadata": {},
   "outputs": [
    {
     "data": {
      "text/plain": [
       "true"
      ]
     },
     "execution_count": 370,
     "metadata": {},
     "output_type": "execute_result"
    }
   ],
   "source": [
    "g2 = fd.gradient(x -> mdl(pos, x)[1], p);\n",
    "\n",
    "sign(mdl(pos, p)[1]) * g == g2"
   ]
  },
  {
   "cell_type": "code",
   "execution_count": null,
   "id": "16f8f129-6170-48cc-8cdd-9f3218acd1a5",
   "metadata": {},
   "outputs": [],
   "source": []
  }
 ],
 "metadata": {
  "kernelspec": {
   "display_name": "Julia (8 threads) 1.7.2",
   "language": "julia",
   "name": "julia-(8-threads)-1.7"
  },
  "language_info": {
   "file_extension": ".jl",
   "mimetype": "application/julia",
   "name": "julia",
   "version": "1.7.2"
  }
 },
 "nbformat": 4,
 "nbformat_minor": 5
}
