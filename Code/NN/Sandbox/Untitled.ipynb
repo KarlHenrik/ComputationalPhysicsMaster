{
 "cells": [
  {
   "cell_type": "code",
   "execution_count": 5,
   "id": "b4bf033a-3504-445b-971b-9ae0802cf43c",
   "metadata": {},
   "outputs": [
    {
     "data": {
      "text/plain": [
       "g (generic function with 1 method)"
      ]
     },
     "execution_count": 5,
     "metadata": {},
     "output_type": "execute_result"
    }
   ],
   "source": [
    "fcalls = 0\n",
    "function f(y,x) # in-place\n",
    "    global fcalls += 1\n",
    "    for i in 2:length(x)-1\n",
    "    y[i] = x[i-1] - 2x[i] + x[i+1]\n",
    "    end\n",
    "    y[1] = -2x[1] + x[2]\n",
    "    y[end] = x[end-1] - 2x[end]\n",
    "    nothing\n",
    "end\n",
    "\n",
    "function g(x) # out-of-place\n",
    "    global fcalls += 1\n",
    "    y = zero(x)\n",
    "    for i in 2:length(x)-1\n",
    "    y[i] = x[i-1] - 2x[i] + x[i+1]\n",
    "    end\n",
    "    y[1] = -2x[1] + x[2]\n",
    "    y[end] = x[end-1] - 2x[end]\n",
    "    y\n",
    "end"
   ]
  },
  {
   "cell_type": "code",
   "execution_count": 6,
   "id": "7ec3832c-2294-4fc6-84b5-897e68760627",
   "metadata": {},
   "outputs": [
    {
     "name": "stdout",
     "output_type": "stream",
     "text": [
      "Explored path: SparsityDetection.Path(Bool[], 1)\n"
     ]
    },
    {
     "data": {
      "text/plain": [
       "30×30 SparseMatrixCSC{Float64, Int64} with 88 stored entries:\n",
       "⠻⣦⡀⠀⠀⠀⠀⠀⠀⠀⠀⠀⠀⠀⠀\n",
       "⠀⠈⠻⣦⡀⠀⠀⠀⠀⠀⠀⠀⠀⠀⠀\n",
       "⠀⠀⠀⠈⠻⣦⡀⠀⠀⠀⠀⠀⠀⠀⠀\n",
       "⠀⠀⠀⠀⠀⠈⠻⣦⡀⠀⠀⠀⠀⠀⠀\n",
       "⠀⠀⠀⠀⠀⠀⠀⠈⠻⣦⡀⠀⠀⠀⠀\n",
       "⠀⠀⠀⠀⠀⠀⠀⠀⠀⠈⠻⣦⡀⠀⠀\n",
       "⠀⠀⠀⠀⠀⠀⠀⠀⠀⠀⠀⠈⠻⣦⡀\n",
       "⠀⠀⠀⠀⠀⠀⠀⠀⠀⠀⠀⠀⠀⠈⠛"
      ]
     },
     "execution_count": 6,
     "metadata": {},
     "output_type": "execute_result"
    }
   ],
   "source": [
    "using SparsityDetection, SparseArrays\n",
    "input = rand(30)\n",
    "output = similar(input)\n",
    "sparsity_pattern = jacobian_sparsity(f,output,input)\n",
    "jac = Float64.(SparseArrays.sparse(sparsity_pattern))"
   ]
  },
  {
   "cell_type": "code",
   "execution_count": 7,
   "id": "325d8c11-80b1-44d8-8018-ef1479028218",
   "metadata": {},
   "outputs": [
    {
     "data": {
      "text/plain": [
       "30-element Vector{Int64}:\n",
       " 1\n",
       " 2\n",
       " 3\n",
       " 1\n",
       " 2\n",
       " 3\n",
       " 1\n",
       " 2\n",
       " 3\n",
       " 1\n",
       " 2\n",
       " 3\n",
       " 1\n",
       " ⋮\n",
       " 1\n",
       " 2\n",
       " 3\n",
       " 1\n",
       " 2\n",
       " 3\n",
       " 1\n",
       " 2\n",
       " 3\n",
       " 1\n",
       " 2\n",
       " 3"
      ]
     },
     "execution_count": 7,
     "metadata": {},
     "output_type": "execute_result"
    }
   ],
   "source": [
    "using SparseDiffTools\n",
    "colors = matrix_colors(jac)"
   ]
  },
  {
   "cell_type": "code",
   "execution_count": 8,
   "id": "83e1af8f-b417-48cf-8c5a-00b0f2c726c9",
   "metadata": {},
   "outputs": [],
   "source": [
    "using FiniteDiff\n",
    "FiniteDiff.finite_difference_jacobian!(jac, f, rand(30), colorvec=colors)"
   ]
  },
  {
   "cell_type": "code",
   "execution_count": 9,
   "id": "6b2001c4-e96d-471f-b043-e7d6709361ac",
   "metadata": {},
   "outputs": [
    {
     "data": {
      "text/plain": [
       "30×30 SparseMatrixCSC{Float64, Int64} with 88 stored entries:\n",
       "⠻⣦⡀⠀⠀⠀⠀⠀⠀⠀⠀⠀⠀⠀⠀\n",
       "⠀⠈⠻⣦⡀⠀⠀⠀⠀⠀⠀⠀⠀⠀⠀\n",
       "⠀⠀⠀⠈⠻⣦⡀⠀⠀⠀⠀⠀⠀⠀⠀\n",
       "⠀⠀⠀⠀⠀⠈⠻⣦⡀⠀⠀⠀⠀⠀⠀\n",
       "⠀⠀⠀⠀⠀⠀⠀⠈⠻⣦⡀⠀⠀⠀⠀\n",
       "⠀⠀⠀⠀⠀⠀⠀⠀⠀⠈⠻⣦⡀⠀⠀\n",
       "⠀⠀⠀⠀⠀⠀⠀⠀⠀⠀⠀⠈⠻⣦⡀\n",
       "⠀⠀⠀⠀⠀⠀⠀⠀⠀⠀⠀⠀⠀⠈⠛"
      ]
     },
     "execution_count": 9,
     "metadata": {},
     "output_type": "execute_result"
    }
   ],
   "source": [
    "forwarddiff_color_jacobian!(jac, f, input, colorvec = colors)"
   ]
  },
  {
   "cell_type": "code",
   "execution_count": 10,
   "id": "7bc3dce4-9fd2-4e58-b9b9-db57c87ef097",
   "metadata": {},
   "outputs": [
    {
     "data": {
      "text/plain": [
       "30×30 SparseMatrixCSC{Float64, Int64} with 88 stored entries:\n",
       "⠻⣦⡀⠀⠀⠀⠀⠀⠀⠀⠀⠀⠀⠀⠀\n",
       "⠀⠈⠻⣦⡀⠀⠀⠀⠀⠀⠀⠀⠀⠀⠀\n",
       "⠀⠀⠀⠈⠻⣦⡀⠀⠀⠀⠀⠀⠀⠀⠀\n",
       "⠀⠀⠀⠀⠀⠈⠻⣦⡀⠀⠀⠀⠀⠀⠀\n",
       "⠀⠀⠀⠀⠀⠀⠀⠈⠻⣦⡀⠀⠀⠀⠀\n",
       "⠀⠀⠀⠀⠀⠀⠀⠀⠀⠈⠻⣦⡀⠀⠀\n",
       "⠀⠀⠀⠀⠀⠀⠀⠀⠀⠀⠀⠈⠻⣦⡀\n",
       "⠀⠀⠀⠀⠀⠀⠀⠀⠀⠀⠀⠀⠀⠈⠛"
      ]
     },
     "execution_count": 10,
     "metadata": {},
     "output_type": "execute_result"
    }
   ],
   "source": [
    "jac"
   ]
  },
  {
   "cell_type": "code",
   "execution_count": 11,
   "id": "f097026c-7852-40c7-9ca3-0f6c3946f694",
   "metadata": {},
   "outputs": [],
   "source": [
    "import LinearAlgebra as la"
   ]
  },
  {
   "cell_type": "code",
   "execution_count": null,
   "id": "60e77584-2fb6-4feb-a7b2-431f913bbe8a",
   "metadata": {},
   "outputs": [],
   "source": []
  },
  {
   "cell_type": "code",
   "execution_count": null,
   "id": "59457292-24ae-43bf-af4c-4013108d2cfa",
   "metadata": {},
   "outputs": [],
   "source": []
  },
  {
   "cell_type": "code",
   "execution_count": 12,
   "id": "feb9ea73-50bd-435e-9c1c-6226bf6fddcb",
   "metadata": {},
   "outputs": [
    {
     "data": {
      "text/plain": [
       "SimpleG (generic function with 1 method)"
      ]
     },
     "execution_count": 12,
     "metadata": {},
     "output_type": "execute_result"
    }
   ],
   "source": [
    "function SimpleG(positions, alpha)\n",
    "    res = 1\n",
    "    for pos in eachcol(positions)\n",
    "        res *= exp(-alpha * sum(pos.^2))\n",
    "    end\n",
    "    return positions .* res\n",
    "end"
   ]
  },
  {
   "cell_type": "code",
   "execution_count": 13,
   "id": "c0b3fc90-9c6e-4e38-b3d7-4b078fab8861",
   "metadata": {},
   "outputs": [],
   "source": [
    "import Random\n",
    "rng = Random.MersenneTwister();"
   ]
  },
  {
   "cell_type": "code",
   "execution_count": 14,
   "id": "d90e1d65-41e1-414e-a725-9aa679110f20",
   "metadata": {},
   "outputs": [
    {
     "data": {
      "text/plain": [
       "3×10 Matrix{Float64}:\n",
       "  0.313355   0.962117  -0.218441  …  -0.498157   0.904421  -0.336462\n",
       "  0.665702  -0.418926   0.908816     -0.227593  -0.902069   0.0107954\n",
       " -0.152059   0.921349  -0.358487      0.921291  -0.904211   0.788631"
      ]
     },
     "execution_count": 14,
     "metadata": {},
     "output_type": "execute_result"
    }
   ],
   "source": [
    "positions = (Random.rand(rng, Float64, (3, 10)) .- 0.5) .* 2"
   ]
  },
  {
   "cell_type": "code",
   "execution_count": 28,
   "id": "d6cf8e6c-6d31-402a-8a56-0c85334c529c",
   "metadata": {},
   "outputs": [
    {
     "data": {
      "text/plain": [
       "30×30 Matrix{Float64}:\n",
       " 0.00292629  0.0         0.0          0.0         …  0.0         0.0\n",
       " 0.0         0.00470845  0.0          0.0            0.0         0.0\n",
       " 0.0         0.0         0.000572231  0.0            0.0         0.0\n",
       " 0.0         0.0         0.0          0.00620772     0.0         0.0\n",
       " 0.0         0.0         0.0          0.0            0.0         0.0\n",
       " 0.0         0.0         0.0          0.0         …  0.0         0.0\n",
       " 0.0         0.0         0.0          0.0            0.0         0.0\n",
       " 0.0         0.0         0.0          0.0            0.0         0.0\n",
       " 0.0         0.0         0.0          0.0            0.0         0.0\n",
       " 0.0         0.0         0.0          0.0            0.0         0.0\n",
       " 0.0         0.0         0.0          0.0         …  0.0         0.0\n",
       " 0.0         0.0         0.0          0.0            0.0         0.0\n",
       " 0.0         0.0         0.0          0.0            0.0         0.0\n",
       " ⋮                                                ⋱              \n",
       " 0.0         0.0         0.0          0.0            0.0         0.0\n",
       " 0.0         0.0         0.0          0.0            0.0         0.0\n",
       " 0.0         0.0         0.0          0.0         …  0.0         0.0\n",
       " 0.0         0.0         0.0          0.0            0.0         0.0\n",
       " 0.0         0.0         0.0          0.0            0.0         0.0\n",
       " 0.0         0.0         0.0          0.0            0.0         0.0\n",
       " 0.0         0.0         0.0          0.0            0.0         0.0\n",
       " 0.0         0.0         0.0          0.0         …  0.0         0.0\n",
       " 0.0         0.0         0.0          0.0            0.0         0.0\n",
       " 0.0         0.0         0.0          0.0            0.0         0.0\n",
       " 0.0         0.0         0.0          0.0            0.00139595  0.0\n",
       " 0.0         0.0         0.0          0.0            0.0         0.00533023"
      ]
     },
     "execution_count": 28,
     "metadata": {},
     "output_type": "execute_result"
    }
   ],
   "source": [
    "A = la.I(30)\n",
    "A_col = SparseDiffTools.matrix_colors(A)\n",
    "res = SparseDiffTools.forwarddiff_color_jacobian(positions -> SimpleG(positions, 0.5), positions, colorvec = A_col, sparsity = A)"
   ]
  },
  {
   "cell_type": "code",
   "execution_count": 26,
   "id": "8b188775-81d3-4f44-a085-c45a3cffdbcc",
   "metadata": {},
   "outputs": [
    {
     "data": {
      "text/plain": [
       "0.021167528063283047"
      ]
     },
     "execution_count": 26,
     "metadata": {},
     "output_type": "execute_result"
    }
   ],
   "source": [
    "sum(res)"
   ]
  },
  {
   "cell_type": "code",
   "execution_count": null,
   "id": "eb45fd1a-dc06-4383-a7a0-05d6a2db5ba2",
   "metadata": {},
   "outputs": [],
   "source": []
  }
 ],
 "metadata": {
  "kernelspec": {
   "display_name": "Julia 1.6.2",
   "language": "julia",
   "name": "julia-1.6"
  },
  "language_info": {
   "file_extension": ".jl",
   "mimetype": "application/julia",
   "name": "julia",
   "version": "1.6.2"
  }
 },
 "nbformat": 4,
 "nbformat_minor": 5
}
