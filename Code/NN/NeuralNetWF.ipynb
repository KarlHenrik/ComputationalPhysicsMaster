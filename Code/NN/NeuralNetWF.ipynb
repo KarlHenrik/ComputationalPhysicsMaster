{
 "cells": [
  {
   "cell_type": "code",
   "execution_count": 15,
   "id": "5ec9e827-e4d9-4eef-ad6a-9ce85cacf812",
   "metadata": {},
   "outputs": [
    {
     "data": {
      "text/plain": [
       "gradient (generic function with 1 method)"
      ]
     },
     "execution_count": 15,
     "metadata": {},
     "output_type": "execute_result"
    }
   ],
   "source": [
    "import Random\n",
    "rng = Random.MersenneTwister();\n",
    "\n",
    "import ForwardDiff as fd\n",
    "import ReverseDiff as rd\n",
    "\n",
    "import LinearAlgebra as la\n",
    "\n",
    "using BenchmarkTools: @btime\n",
    "\n",
    "include(\"NeuralNetwork/layer.jl\")\n",
    "include(\"NeuralNetwork/neuralnetwork.jl\")"
   ]
  },
  {
   "cell_type": "code",
   "execution_count": 2,
   "id": "65c20731-a7f8-4fb5-9ba7-cd1c5107ec66",
   "metadata": {},
   "outputs": [
    {
     "data": {
      "text/plain": [
       "5-element Vector{Float64}:\n",
       " 0.3497433632661675\n",
       " 0.47180459762210436\n",
       " 0.9439212529316561\n",
       " 0.653047357468389\n",
       " 0.8233468487153084"
      ]
     },
     "execution_count": 2,
     "metadata": {},
     "output_type": "execute_result"
    }
   ],
   "source": [
    "positions = rand(rng, Float64, 5)"
   ]
  },
  {
   "cell_type": "markdown",
   "id": "116e83b5-647b-427e-a613-024a845cb354",
   "metadata": {},
   "source": [
    "## Neural Network"
   ]
  },
  {
   "cell_type": "code",
   "execution_count": 14,
   "id": "959eff77-2e23-4360-875f-170217f6334e",
   "metadata": {},
   "outputs": [
    {
     "name": "stdout",
     "output_type": "stream",
     "text": [
      "  0.000192 seconds (379 allocations: 24.438 KiB)\n"
     ]
    }
   ],
   "source": [
    "@time nn = NeuralNetwork([Dense((5, 5), rng),\n",
    "    Dense((3, 5), rng),\n",
    "    Dense((1, 3), rng),\n",
    "    Exp(),\n",
    "    DeArray()], positions);"
   ]
  },
  {
   "cell_type": "code",
   "execution_count": 9,
   "id": "2b2c6903-2b93-4dd4-a048-fb97d10bdc0f",
   "metadata": {},
   "outputs": [
    {
     "name": "stdout",
     "output_type": "stream",
     "text": [
      "  0.000021 seconds (8 allocations: 560 bytes)\n"
     ]
    },
    {
     "data": {
      "text/plain": [
       "190.24024647432344"
      ]
     },
     "execution_count": 9,
     "metadata": {},
     "output_type": "execute_result"
    }
   ],
   "source": [
    "@time model(positions, nn)"
   ]
  },
  {
   "cell_type": "code",
   "execution_count": 10,
   "id": "b1e5dccf-b96f-41d5-87ed-0d4796d261d6",
   "metadata": {},
   "outputs": [
    {
     "name": "stdout",
     "output_type": "stream",
     "text": [
      "  0.000043 seconds (36 allocations: 2.719 KiB)\n"
     ]
    },
    {
     "data": {
      "text/plain": [
       "190.24024647432344"
      ]
     },
     "execution_count": 10,
     "metadata": {},
     "output_type": "execute_result"
    }
   ],
   "source": [
    "@time model_flat(positions, nn, nn.params_flat)"
   ]
  },
  {
   "cell_type": "code",
   "execution_count": 11,
   "id": "c5a83663-c666-4ad2-9269-0a5123dfb716",
   "metadata": {},
   "outputs": [
    {
     "name": "stdout",
     "output_type": "stream",
     "text": [
      "  0.000071 seconds (95 allocations: 11.875 KiB)\n"
     ]
    },
    {
     "data": {
      "text/plain": [
       "-1300.2633090524791"
      ]
     },
     "execution_count": 11,
     "metadata": {},
     "output_type": "execute_result"
    }
   ],
   "source": [
    "@time kinetic(positions, nn)"
   ]
  },
  {
   "cell_type": "code",
   "execution_count": 12,
   "id": "2147972d-0ce9-4c59-a810-4403cb53b7dc",
   "metadata": {},
   "outputs": [
    {
     "name": "stdout",
     "output_type": "stream",
     "text": [
      "  0.000026 seconds (2 allocations: 1.016 KiB)\n"
     ]
    }
   ],
   "source": [
    "@time gradient(positions, nn);"
   ]
  },
  {
   "cell_type": "code",
   "execution_count": null,
   "id": "a3ebf639-dfc6-4c16-aa7f-b4a940a60486",
   "metadata": {},
   "outputs": [],
   "source": []
  },
  {
   "cell_type": "code",
   "execution_count": null,
   "id": "b0151df9-2f01-445f-b7af-a9c57427c41a",
   "metadata": {},
   "outputs": [],
   "source": []
  },
  {
   "cell_type": "code",
   "execution_count": null,
   "id": "4ef5c45e-cb0d-4fda-829c-16735ae18ebf",
   "metadata": {},
   "outputs": [],
   "source": []
  },
  {
   "cell_type": "code",
   "execution_count": null,
   "id": "32a39fc5-30b4-4aee-ab11-3f0ba3ae772b",
   "metadata": {},
   "outputs": [],
   "source": []
  },
  {
   "cell_type": "code",
   "execution_count": null,
   "id": "3d217589-d993-4fcf-8026-4dcdde5cf3b9",
   "metadata": {},
   "outputs": [],
   "source": []
  },
  {
   "cell_type": "code",
   "execution_count": null,
   "id": "d99104d8-1587-4a0c-af42-fd95d835bbc7",
   "metadata": {},
   "outputs": [],
   "source": []
  },
  {
   "cell_type": "code",
   "execution_count": null,
   "id": "892c154d-48c3-4b46-8ab3-6200f47d012b",
   "metadata": {},
   "outputs": [],
   "source": []
  },
  {
   "cell_type": "code",
   "execution_count": null,
   "id": "91f08a9c-7601-4879-a761-eaca4c035c0e",
   "metadata": {},
   "outputs": [],
   "source": []
  },
  {
   "cell_type": "code",
   "execution_count": null,
   "id": "b7d4e2d6-1e41-4012-8554-4ba3d0236264",
   "metadata": {},
   "outputs": [],
   "source": []
  },
  {
   "cell_type": "code",
   "execution_count": 8,
   "id": "00028191-fabe-491f-abcf-d1a9975f99c7",
   "metadata": {},
   "outputs": [
    {
     "data": {
      "text/plain": [
       "typename(ReverseDiff.CompiledTape)(#9)"
      ]
     },
     "execution_count": 8,
     "metadata": {},
     "output_type": "execute_result"
    }
   ],
   "source": [
    "grad_result = zeros(length(positions), length(positions));\n",
    "grad_config = rd.HessianConfig(positions)\n",
    "grad_tape = rd.HessianTape(positions -> model(positions, nn), positions, grad_config)\n",
    "grad_tape = rd.compile(grad_tape)"
   ]
  },
  {
   "cell_type": "code",
   "execution_count": 10,
   "id": "64f524bf-353f-49ed-ad40-a56813de7c2e",
   "metadata": {},
   "outputs": [
    {
     "name": "stdout",
     "output_type": "stream",
     "text": [
      "  0.000052 seconds\n"
     ]
    },
    {
     "data": {
      "text/plain": [
       "5×5 Matrix{Float64}:\n",
       " 248.103  265.442  172.092  169.529  283.394\n",
       " 265.442  283.993  184.119  181.377  303.199\n",
       " 172.092  184.119  119.369  117.591  196.571\n",
       " 169.529  181.377  117.591  115.839  193.643\n",
       " 283.394  303.199  196.571  193.643  323.704"
      ]
     },
     "execution_count": 10,
     "metadata": {},
     "output_type": "execute_result"
    }
   ],
   "source": [
    "@time rd.hessian!(grad_result, grad_tape, positions)"
   ]
  }
 ],
 "metadata": {
  "kernelspec": {
   "display_name": "Julia (8 threads) 1.7.2",
   "language": "julia",
   "name": "julia-(8-threads)-1.7"
  },
  "language_info": {
   "file_extension": ".jl",
   "mimetype": "application/julia",
   "name": "julia",
   "version": "1.7.2"
  }
 },
 "nbformat": 4,
 "nbformat_minor": 5
}
