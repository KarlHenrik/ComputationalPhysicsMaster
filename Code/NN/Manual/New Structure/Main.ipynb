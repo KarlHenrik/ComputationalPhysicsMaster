{
 "cells": [
  {
   "cell_type": "code",
   "execution_count": 1,
   "id": "2a6a35db-1e17-40e6-8d82-bcb83006c830",
   "metadata": {},
   "outputs": [],
   "source": [
    "import Random\n",
    "import LinearAlgebra as la\n",
    "import ForwardDiff as fd\n",
    "import ReverseDiff as rd\n",
    "rng = Random.MersenneTwister();\n",
    "\n",
    "using BenchmarkTools: @btime"
   ]
  },
  {
   "cell_type": "code",
   "execution_count": 44,
   "id": "4b33952b-c0f6-4891-9a26-9b53d28e385a",
   "metadata": {},
   "outputs": [],
   "source": [
    "include(\"layer.jl\")\n",
    "include(\"neuralnetwork.jl\")"
   ]
  },
  {
   "cell_type": "code",
   "execution_count": 3,
   "id": "cf510c5d-c398-4e8b-8632-1c96a724e002",
   "metadata": {},
   "outputs": [
    {
     "data": {
      "text/plain": [
       "10"
      ]
     },
     "execution_count": 3,
     "metadata": {},
     "output_type": "execute_result"
    }
   ],
   "source": [
    "n = 10"
   ]
  },
  {
   "cell_type": "code",
   "execution_count": 4,
   "id": "351c8dda-8e4f-4c5e-8d5e-92458be1108e",
   "metadata": {},
   "outputs": [],
   "source": [
    "positions = rand(rng, Float64, n);"
   ]
  },
  {
   "cell_type": "code",
   "execution_count": 47,
   "id": "0cec480f-c7f8-4987-80c0-a6473b221df5",
   "metadata": {},
   "outputs": [
    {
     "name": "stdout",
     "output_type": "stream",
     "text": [
      "  0.150187 seconds (80.89 k allocations: 4.339 MiB, 99.44% compilation time)\n"
     ]
    }
   ],
   "source": [
    "@time nn = NeuralNetwork(input = positions, rng = rng,\n",
    "    Dense(n), Sigmoid,\n",
    "    Dense(n), Sigmoid,\n",
    "    Dense(n), Sigmoid,\n",
    "    Dense(n), Sigmoid,\n",
    "    Dense(n), Sigmoid,\n",
    "    Dense(n), Sigmoid,\n",
    "    Dense(n), Sigmoid,\n",
    "    Dense(n), Sigmoid,\n",
    "    Dense(n), Sigmoid,\n",
    "    Dense(n), Sigmoid,\n",
    "    Dense(1), Exp,\n",
    "    );"
   ]
  },
  {
   "cell_type": "code",
   "execution_count": 51,
   "id": "cfcaa170-67e1-4ddb-b41c-6a612912fdcf",
   "metadata": {},
   "outputs": [
    {
     "name": "stdout",
     "output_type": "stream",
     "text": [
      "  0.000024 seconds (1 allocation: 16 bytes)\n"
     ]
    }
   ],
   "source": [
    "@time model!(nn, positions);"
   ]
  },
  {
   "cell_type": "code",
   "execution_count": 53,
   "id": "ba306b3b-6181-482c-b64d-5576e48b0179",
   "metadata": {},
   "outputs": [
    {
     "name": "stdout",
     "output_type": "stream",
     "text": [
      "  0.000030 seconds (1 allocation: 224 bytes)\n"
     ]
    }
   ],
   "source": [
    "@time gradient!(nn);"
   ]
  },
  {
   "cell_type": "code",
   "execution_count": 55,
   "id": "9d754873-e9a4-4f65-b7a1-2f2c5b1e2f53",
   "metadata": {},
   "outputs": [
    {
     "name": "stdout",
     "output_type": "stream",
     "text": [
      "  0.000010 seconds (1 allocation: 144 bytes)\n"
     ]
    }
   ],
   "source": [
    "@time QF(nn);"
   ]
  },
  {
   "cell_type": "code",
   "execution_count": 49,
   "id": "56d98411-812b-4c62-8279-56219e567dd9",
   "metadata": {},
   "outputs": [
    {
     "name": "stdout",
     "output_type": "stream",
     "text": [
      "  0.000041 seconds (1 allocation: 16 bytes)\n"
     ]
    }
   ],
   "source": [
    "@time kinetic(positions, nn);"
   ]
  },
  {
   "cell_type": "code",
   "execution_count": 41,
   "id": "468fd262-2670-470e-88ef-da9b838c1d82",
   "metadata": {},
   "outputs": [
    {
     "name": "stdout",
     "output_type": "stream",
     "text": [
      "  0.044378 seconds (20.41 k allocations: 1.171 MiB, 99.06% compilation time)\n"
     ]
    },
    {
     "data": {
      "text/plain": [
       "true"
      ]
     },
     "execution_count": 41,
     "metadata": {},
     "output_type": "execute_result"
    }
   ],
   "source": [
    "@time nn_der = rd.gradient(x -> diffable_model(nn.layers, x)[1], positions);\n",
    "2 * nn_der ./ nn.output[1] ≈ QF(nn)"
   ]
  },
  {
   "cell_type": "code",
   "execution_count": null,
   "id": "b6d26872-0a25-436a-a9ab-2181e1bc7603",
   "metadata": {},
   "outputs": [],
   "source": [
    "params = []\n",
    "gradient = []\n",
    "\n",
    "for layer in nn.layers\n",
    "    if typeof(layer) <: Dense\n",
    "        push!(params, layer.W)\n",
    "        push!(params, layer.b)\n",
    "        \n",
    "        push!(gradient, layer.W_g)\n",
    "        push!(gradient, layer.b_g)\n",
    "    end\n",
    "end\n",
    "params = Vector{Array{Float64}}(params)\n",
    "gradient = Vector{Array{Float64}}(gradient);"
   ]
  },
  {
   "cell_type": "code",
   "execution_count": null,
   "id": "423ca1ec-8454-4129-bf2c-4399f47373b2",
   "metadata": {},
   "outputs": [],
   "source": [
    "for param in params\n",
    "    param .+= 0.1\n",
    "end"
   ]
  },
  {
   "cell_type": "code",
   "execution_count": 57,
   "id": "7eb9570c-a1c8-4e77-819b-22ebbb5cba75",
   "metadata": {},
   "outputs": [],
   "source": [
    "col = rand(1000);"
   ]
  },
  {
   "cell_type": "code",
   "execution_count": 60,
   "id": "7606b29c-8bd0-4c41-ad00-c259ab1561e2",
   "metadata": {},
   "outputs": [
    {
     "data": {
      "text/plain": [
       "1×1000 Matrix{Float64}:\n",
       " 0.824816  0.913507  0.553956  0.194236  …  0.0818118  0.565737  0.942"
      ]
     },
     "execution_count": 60,
     "metadata": {},
     "output_type": "execute_result"
    }
   ],
   "source": [
    "row = rand(1, 1000)"
   ]
  },
  {
   "cell_type": "code",
   "execution_count": 61,
   "id": "350dc967-4fe3-4f08-8f9a-d59fc5e321d8",
   "metadata": {},
   "outputs": [
    {
     "data": {
      "text/plain": [
       "test (generic function with 2 methods)"
      ]
     },
     "execution_count": 61,
     "metadata": {},
     "output_type": "execute_result"
    }
   ],
   "source": [
    "function test(v)\n",
    "    return sum(v)\n",
    "end"
   ]
  },
  {
   "cell_type": "code",
   "execution_count": 68,
   "id": "d297aa61-1f91-4f6f-9758-25cbf36ceac4",
   "metadata": {},
   "outputs": [
    {
     "name": "stdout",
     "output_type": "stream",
     "text": [
      "  116.231 ns (1 allocation: 16 bytes)\n"
     ]
    },
    {
     "data": {
      "text/plain": [
       "504.32164691570364"
      ]
     },
     "execution_count": 68,
     "metadata": {},
     "output_type": "execute_result"
    }
   ],
   "source": [
    "@btime test(col)"
   ]
  },
  {
   "cell_type": "code",
   "execution_count": 71,
   "id": "b0a7a193-4fdd-4eb3-9c3a-d87db3430843",
   "metadata": {},
   "outputs": [
    {
     "name": "stdout",
     "output_type": "stream",
     "text": [
      "  117.838 ns (1 allocation: 16 bytes)\n"
     ]
    },
    {
     "data": {
      "text/plain": [
       "504.7683862771142"
      ]
     },
     "execution_count": 71,
     "metadata": {},
     "output_type": "execute_result"
    }
   ],
   "source": [
    "@btime test(row)"
   ]
  },
  {
   "cell_type": "code",
   "execution_count": null,
   "id": "00da1598-0d1c-48a2-b391-351500bced87",
   "metadata": {},
   "outputs": [],
   "source": []
  }
 ],
 "metadata": {
  "kernelspec": {
   "display_name": "Julia (12 threads) 1.7.2",
   "language": "julia",
   "name": "julia-(12-threads)-1.7"
  },
  "language_info": {
   "file_extension": ".jl",
   "mimetype": "application/julia",
   "name": "julia",
   "version": "1.7.2"
  }
 },
 "nbformat": 4,
 "nbformat_minor": 5
}
