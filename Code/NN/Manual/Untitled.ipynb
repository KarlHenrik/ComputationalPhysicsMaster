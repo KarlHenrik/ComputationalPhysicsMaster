{
 "cells": [
  {
   "cell_type": "code",
   "execution_count": 203,
   "id": "2a6a35db-1e17-40e6-8d82-bcb83006c830",
   "metadata": {},
   "outputs": [],
   "source": [
    "import Random\n",
    "import LinearAlgebra as la\n",
    "rng = Random.MersenneTwister();"
   ]
  },
  {
   "cell_type": "code",
   "execution_count": 204,
   "id": "0f75466d-01a0-4e88-8320-cce88ff3c9a5",
   "metadata": {},
   "outputs": [
    {
     "data": {
      "text/plain": [
       "gradient! (generic function with 1 method)"
      ]
     },
     "execution_count": 204,
     "metadata": {},
     "output_type": "execute_result"
    }
   ],
   "source": [
    "include(\"layer.jl\")\n",
    "include(\"layer_grad.jl\")\n",
    "include(\"neuralnetwork.jl\")"
   ]
  },
  {
   "cell_type": "code",
   "execution_count": 205,
   "id": "351c8dda-8e4f-4c5e-8d5e-92458be1108e",
   "metadata": {},
   "outputs": [],
   "source": [
    "positions = rand(rng, Float64, 5);"
   ]
  },
  {
   "cell_type": "code",
   "execution_count": 206,
   "id": "0cec480f-c7f8-4987-80c0-a6473b221df5",
   "metadata": {},
   "outputs": [],
   "source": [
    "nn = NeuralNetwork([\n",
    "    Dense((5, 5), rng),\n",
    "    Dense((3, 5), rng),\n",
    "    Dense((3, 3), rng),\n",
    "    Sigmoid()\n",
    "        ], positions);"
   ]
  },
  {
   "cell_type": "code",
   "execution_count": 207,
   "id": "56d5e369-00df-411d-b354-23a16f186eb9",
   "metadata": {},
   "outputs": [
    {
     "data": {
      "text/plain": [
       "3-element Vector{Float64}:\n",
       " 0.7326190786871551\n",
       " 0.7092711455718855\n",
       " 0.679657239984143"
      ]
     },
     "execution_count": 207,
     "metadata": {},
     "output_type": "execute_result"
    }
   ],
   "source": [
    "model(positions, nn)"
   ]
  },
  {
   "cell_type": "code",
   "execution_count": 208,
   "id": "5eaa57f3-3817-40d5-955a-6c43c17da2ea",
   "metadata": {},
   "outputs": [
    {
     "data": {
      "text/plain": [
       "5×3 Matrix{Float64}:\n",
       " 0.00785491  0.000960944  0.00219415\n",
       " 0.00578902  0.000708209  0.00161708\n",
       " 0.00753795  0.000922167  0.00210561\n",
       " 0.00951561  0.00116411   0.00265804\n",
       " 0.00403816  0.000494015  0.001128"
      ]
     },
     "execution_count": 208,
     "metadata": {},
     "output_type": "execute_result"
    }
   ],
   "source": [
    "a = [0.0041679692111346095, 0.0005098954775701789, 0.0011642596800225185]\n",
    "b = [1.8845904135219742, 1.3889301044671452, 1.8085415326088512, 2.2830329006361647, 0.9688550446838328];\n",
    "\n",
    "b * transpose(a)"
   ]
  },
  {
   "cell_type": "code",
   "execution_count": 209,
   "id": "ba306b3b-6181-482c-b64d-5576e48b0179",
   "metadata": {},
   "outputs": [
    {
     "name": "stdout",
     "output_type": "stream",
     "text": [
      "[0.14351155292825798, 0.14625567336238496, 0.14797720092889466]\n",
      "[0.4422369047602481, 0.7052044704227133, 1.033022999730891]\n",
      "[0.14351155292825798, 0.14625567336238496, 0.14797720092889466]\n",
      "[0.3691708110890435, 0.28186513372041566, 0.24212023500026422, 0.21457097528385924, 0.4642537668889479]\n"
     ]
    },
    {
     "ename": "LoadError",
     "evalue": "DimensionMismatch(\"second dimension of A, 5, does not match length of x, 3\")",
     "output_type": "error",
     "traceback": [
      "DimensionMismatch(\"second dimension of A, 5, does not match length of x, 3\")",
      "",
      "Stacktrace:",
      "  [1] gemv!(y::Vector{Float64}, tA::Char, A::Matrix{Float64}, x::Vector{Float64}, α::Bool, β::Bool)",
      "    @ LinearAlgebra C:\\Users\\KarlH\\AppData\\Local\\Programs\\julia-1.7.2\\share\\julia\\stdlib\\v1.7\\LinearAlgebra\\src\\matmul.jl:530",
      "  [2] mul!",
      "    @ C:\\Users\\KarlH\\AppData\\Local\\Programs\\julia-1.7.2\\share\\julia\\stdlib\\v1.7\\LinearAlgebra\\src\\matmul.jl:66 [inlined]",
      "  [3] mul!",
      "    @ C:\\Users\\KarlH\\AppData\\Local\\Programs\\julia-1.7.2\\share\\julia\\stdlib\\v1.7\\LinearAlgebra\\src\\matmul.jl:275 [inlined]",
      "  [4] *",
      "    @ C:\\Users\\KarlH\\AppData\\Local\\Programs\\julia-1.7.2\\share\\julia\\stdlib\\v1.7\\LinearAlgebra\\src\\matmul.jl:47 [inlined]",
      "  [5] *",
      "    @ C:\\Users\\KarlH\\AppData\\Local\\Programs\\julia-1.7.2\\share\\julia\\stdlib\\v1.7\\LinearAlgebra\\src\\matmul.jl:134 [inlined]",
      "  [6] backprop!(layer_grad::Dense_Grad, delta::Vector{Float64}, layer::Dense)",
      "    @ Main C:\\Users\\KarlH\\Desktop\\ComputationalPhysicsMaster\\Code\\NN\\Manual\\layer_grad.jl:33",
      "  [7] gradient!(nn::NeuralNetwork, x::Vector{Float64})",
      "    @ Main C:\\Users\\KarlH\\Desktop\\ComputationalPhysicsMaster\\Code\\NN\\Manual\\neuralnetwork.jl:40",
      "  [8] top-level scope",
      "    @ In[209]:1",
      "  [9] eval",
      "    @ .\\boot.jl:373 [inlined]",
      " [10] include_string(mapexpr::typeof(REPL.softscope), mod::Module, code::String, filename::String)",
      "    @ Base .\\loading.jl:1196"
     ]
    }
   ],
   "source": [
    "gradient!(nn, positions)"
   ]
  },
  {
   "cell_type": "code",
   "execution_count": null,
   "id": "ce7fd67c-19bb-49bf-9173-860935062dbd",
   "metadata": {},
   "outputs": [],
   "source": [
    "A = zeros((3,6))"
   ]
  },
  {
   "cell_type": "code",
   "execution_count": null,
   "id": "9ccc8239-2f94-4734-86d1-0a9effbf5a0b",
   "metadata": {},
   "outputs": [],
   "source": [
    "b = zeros(5)"
   ]
  },
  {
   "cell_type": "code",
   "execution_count": null,
   "id": "8e52e2e0-b949-4329-9b85-0ccb8776dda8",
   "metadata": {},
   "outputs": [],
   "source": [
    "for (i, layer) in enumerate(b)\n",
    "    print(i)\n",
    "end"
   ]
  },
  {
   "cell_type": "code",
   "execution_count": null,
   "id": "2984fd38-4d7a-47b4-aaea-16689e222d1c",
   "metadata": {},
   "outputs": [],
   "source": []
  }
 ],
 "metadata": {
  "kernelspec": {
   "display_name": "Julia (8 threads) 1.7.2",
   "language": "julia",
   "name": "julia-(8-threads)-1.7"
  },
  "language_info": {
   "file_extension": ".jl",
   "mimetype": "application/julia",
   "name": "julia",
   "version": "1.7.2"
  }
 },
 "nbformat": 4,
 "nbformat_minor": 5
}
