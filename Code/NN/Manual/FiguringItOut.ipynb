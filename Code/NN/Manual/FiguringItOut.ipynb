{
 "cells": [
  {
   "cell_type": "code",
   "execution_count": 33,
   "id": "cdc743b7-6941-4bcf-8eae-301561feaf77",
   "metadata": {},
   "outputs": [],
   "source": [
    "import ForwardDiff as fd\n",
    "import Zygote as zg\n",
    "import LinearAlgebra as la"
   ]
  },
  {
   "cell_type": "code",
   "execution_count": 45,
   "id": "80b373b6-d738-402f-9bbd-a1836712aa1d",
   "metadata": {},
   "outputs": [
    {
     "data": {
      "text/plain": [
       "5-element Vector{Float64}:\n",
       " 0.638899529814582\n",
       " 0.7582517136440069\n",
       " 0.01708976447027355\n",
       " 0.1875862086154486\n",
       " 0.14750488148977603"
      ]
     },
     "execution_count": 45,
     "metadata": {},
     "output_type": "execute_result"
    }
   ],
   "source": []
  },
  {
   "cell_type": "code",
   "execution_count": 107,
   "id": "0e74c5a4-a5b7-463b-8ea3-2b2114d4feff",
   "metadata": {},
   "outputs": [
    {
     "data": {
      "text/plain": [
       "sig (generic function with 1 method)"
      ]
     },
     "execution_count": 107,
     "metadata": {},
     "output_type": "execute_result"
    }
   ],
   "source": [
    "function sig(x)\n",
    "    return 1 ./ (1 .+ exp.(-x))\n",
    "end"
   ]
  },
  {
   "cell_type": "code",
   "execution_count": 108,
   "id": "0b6c1b61-5108-4032-bcb1-e5bc296876bd",
   "metadata": {},
   "outputs": [
    {
     "data": {
      "text/plain": [
       "sig_der! (generic function with 1 method)"
      ]
     },
     "execution_count": 108,
     "metadata": {},
     "output_type": "execute_result"
    }
   ],
   "source": [
    "function sig_der!(delta, output)\n",
    "    delta .= delta.* output .* (1 .- output)\n",
    "end"
   ]
  },
  {
   "cell_type": "code",
   "execution_count": 148,
   "id": "d0ad35db-d624-4b3f-8630-2922a3b81c38",
   "metadata": {},
   "outputs": [
    {
     "data": {
      "text/plain": [
       "Grads(...)"
      ]
     },
     "execution_count": 148,
     "metadata": {},
     "output_type": "execute_result"
    }
   ],
   "source": [
    "x = rand(5)\n",
    "\n",
    "W1 = rand(5, 5)\n",
    "b1 = rand(5)\n",
    "\n",
    "W2 = rand(2, 5)\n",
    "b2 = rand(2)\n",
    "\n",
    "W3 = rand(3, 2)\n",
    "b3 = rand(3)\n",
    "\n",
    "linear(x) = sum(sig(W3 * sig(W2 * sig(W1 * x + b1) .+ b2) .+ b3))\n",
    "\n",
    "grads = zg.gradient(() -> sum(linear(x)), zg.Params([W2, b2, W1, b1, W3, b3]))"
   ]
  },
  {
   "cell_type": "code",
   "execution_count": 149,
   "id": "26e2e898-291f-413c-96c7-39d37c431db6",
   "metadata": {},
   "outputs": [
    {
     "name": "stdout",
     "output_type": "stream",
     "text": [
      "truetruetruetruetruetrue"
     ]
    }
   ],
   "source": [
    "delta = ones(3)\n",
    "\n",
    "sig_der!(delta, sig(W3 * sig(W2 * sig(W1 * x + b1) .+ b2) .+ b3))\n",
    "\n",
    "print(delta * transpose(sig(W2 * sig(W1 * x + b1) .+ b2)) ≈ grads[W3])\n",
    "print(delta ≈ grads[b3])\n",
    "delta = transpose(W3) * delta\n",
    "\n",
    "sig_der!(delta, sig(W2 * sig(W1 * x + b1) .+ b2))\n",
    "\n",
    "print(delta * transpose(sig(W1 * x + b1)) ≈ grads[W2])\n",
    "print(delta ≈ grads[b2])\n",
    "delta = transpose(W2) * delta\n",
    "\n",
    "sig_der!(delta, sig(W1 * x + b1))\n",
    "\n",
    "print(delta * transpose(x) ≈ grads[W1])\n",
    "print(delta ≈ grads[b1])"
   ]
  },
  {
   "cell_type": "code",
   "execution_count": null,
   "id": "b89ce620-b70d-4f4a-a671-1d029061886a",
   "metadata": {},
   "outputs": [],
   "source": [
    "1x5"
   ]
  },
  {
   "cell_type": "markdown",
   "id": "e81e68a2-1cd7-4d69-9bbb-c3ce5d08f42c",
   "metadata": {},
   "source": [
    "## Kinetic"
   ]
  },
  {
   "cell_type": "code",
   "execution_count": 160,
   "id": "171f9fc8-96f2-4f40-8e71-cd7587f8bb93",
   "metadata": {},
   "outputs": [
    {
     "data": {
      "text/plain": [
       "-0.4607676558130107"
      ]
     },
     "execution_count": 160,
     "metadata": {},
     "output_type": "execute_result"
    }
   ],
   "source": [
    "linear(x) = sum(sig(W1 * x + b1))\n",
    "\n",
    "hess = la.tr(zg.hessian(linear, x))"
   ]
  },
  {
   "cell_type": "code",
   "execution_count": null,
   "id": "acf2fa89-d6f2-404e-b029-6d81fdd12485",
   "metadata": {},
   "outputs": [],
   "source": []
  }
 ],
 "metadata": {
  "kernelspec": {
   "display_name": "Julia 1.7.2",
   "language": "julia",
   "name": "julia-1.7"
  },
  "language_info": {
   "file_extension": ".jl",
   "mimetype": "application/julia",
   "name": "julia",
   "version": "1.7.2"
  }
 },
 "nbformat": 4,
 "nbformat_minor": 5
}
