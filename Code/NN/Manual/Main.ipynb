{
 "cells": [
  {
   "cell_type": "code",
   "execution_count": 3,
   "id": "2a6a35db-1e17-40e6-8d82-bcb83006c830",
   "metadata": {},
   "outputs": [],
   "source": [
    "import Random\n",
    "import LinearAlgebra as la\n",
    "rng = Random.MersenneTwister();\n",
    "\n",
    "using BenchmarkTools: @btime"
   ]
  },
  {
   "cell_type": "code",
   "execution_count": 4,
   "id": "0f75466d-01a0-4e88-8320-cce88ff3c9a5",
   "metadata": {},
   "outputs": [
    {
     "data": {
      "text/plain": [
       "gradient! (generic function with 1 method)"
      ]
     },
     "execution_count": 4,
     "metadata": {},
     "output_type": "execute_result"
    }
   ],
   "source": [
    "include(\"layer.jl\")\n",
    "include(\"layer_grad.jl\")\n",
    "include(\"neuralnetwork.jl\")"
   ]
  },
  {
   "cell_type": "code",
   "execution_count": 5,
   "id": "351c8dda-8e4f-4c5e-8d5e-92458be1108e",
   "metadata": {},
   "outputs": [],
   "source": [
    "positions = rand(rng, Float64, 5);"
   ]
  },
  {
   "cell_type": "code",
   "execution_count": 12,
   "id": "0cec480f-c7f8-4987-80c0-a6473b221df5",
   "metadata": {},
   "outputs": [],
   "source": [
    "nn = NeuralNetwork([\n",
    "    Dense((50, 5), rng),\n",
    "    Sigmoid(),\n",
    "    Dense((30, 50), rng),\n",
    "    Sigmoid(),\n",
    "    Dense((30, 30), rng),\n",
    "    Sigmoid(),\n",
    "    Dense((30, 30), rng),\n",
    "    Sigmoid(),\n",
    "    Dense((30, 30), rng),\n",
    "    Sigmoid(),\n",
    "        DeArray()\n",
    "        ], positions);"
   ]
  },
  {
   "cell_type": "code",
   "execution_count": 13,
   "id": "56d5e369-00df-411d-b354-23a16f186eb9",
   "metadata": {},
   "outputs": [],
   "source": [
    "model(positions, nn);"
   ]
  },
  {
   "cell_type": "code",
   "execution_count": 14,
   "id": "ba306b3b-6181-482c-b64d-5576e48b0179",
   "metadata": {},
   "outputs": [
    {
     "name": "stdout",
     "output_type": "stream",
     "text": [
      "  0.000068 seconds (37 allocations: 44.328 KiB)\n"
     ]
    }
   ],
   "source": [
    "@time gradient!(nn, positions);"
   ]
  },
  {
   "cell_type": "code",
   "execution_count": null,
   "id": "2984fd38-4d7a-47b4-aaea-16689e222d1c",
   "metadata": {},
   "outputs": [],
   "source": [
    "11.800 μs (41 allocations: 65.78 KiB)"
   ]
  }
 ],
 "metadata": {
  "kernelspec": {
   "display_name": "Julia (12 threads) 1.7.2",
   "language": "julia",
   "name": "julia-(12-threads)-1.7"
  },
  "language_info": {
   "file_extension": ".jl",
   "mimetype": "application/julia",
   "name": "julia",
   "version": "1.7.2"
  }
 },
 "nbformat": 4,
 "nbformat_minor": 5
}
