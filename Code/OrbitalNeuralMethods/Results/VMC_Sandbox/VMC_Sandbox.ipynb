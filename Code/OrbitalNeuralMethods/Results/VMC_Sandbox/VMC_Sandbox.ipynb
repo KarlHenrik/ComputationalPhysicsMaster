{
 "cells": [
  {
   "cell_type": "code",
   "execution_count": 1,
   "id": "4661918e-6d3f-4919-99b8-af972957410d",
   "metadata": {},
   "outputs": [
    {
     "name": "stderr",
     "output_type": "stream",
     "text": [
      "\u001b[32m\u001b[1m  Activating\u001b[22m\u001b[39m project at `C:\\Users\\KarlH\\Desktop\\ComputationalPhysicsMaster\\Code\\OrbitalNeuralMethods`\n"
     ]
    }
   ],
   "source": [
    "using Pkg; Pkg.activate(\"C:\\\\Users\\\\KarlH\\\\Desktop\\\\ComputationalPhysicsMaster\\\\Code\\\\OrbitalNeuralMethods\")\n",
    "using Revise\n",
    "using OrbitalNeuralMethods\n",
    "\n",
    "using BenchmarkTools: @btime\n",
    "import OrbitalNeuralMethods as onm\n",
    "import Plots as plt"
   ]
  },
  {
   "cell_type": "code",
   "execution_count": 2,
   "id": "6829a853-f05e-4f12-90f7-6bbe1335fb88",
   "metadata": {},
   "outputs": [
    {
     "data": {
      "text/plain": [
       "Importance(10000, 100000, 0.01)"
      ]
     },
     "execution_count": 2,
     "metadata": {},
     "output_type": "execute_result"
    }
   ],
   "source": [
    "dims = 3\n",
    "num = 5\n",
    "\n",
    "ham = HarmonicOscillator(dims, num, ω = 1)\n",
    "\n",
    "wf = Correlated(dims, num, α = 0.4, a = 0.0433)\n",
    "#wf = SimpleGaussian(dims, num, α = 0.5)\n",
    "\n",
    "metro = Importance(equils = 1e4, samples = 1e5, step = 0.01)\n",
    "#metro = Metropolis(equils = 1e4, samples = 1e5, step = 0.01)"
   ]
  },
  {
   "cell_type": "code",
   "execution_count": 3,
   "id": "22d6c703",
   "metadata": {},
   "outputs": [],
   "source": [
    "using BenchmarkTools: @btime\n",
    "import LinearAlgebra as la"
   ]
  },
  {
   "cell_type": "code",
   "execution_count": 4,
   "id": "058cdcaa-ff76-495a-a6f9-c163e79d317c",
   "metadata": {},
   "outputs": [
    {
     "name": "stdout",
     "output_type": "stream",
     "text": [
      "E = 7.837 iter = 74/400 alpha = 0.48927151724313434          "
     ]
    },
    {
     "data": {
      "text/plain": [
       "(0.48927151724313434, 1.5666088512818557)"
      ]
     },
     "execution_count": 4,
     "metadata": {},
     "output_type": "execute_result"
    }
   ],
   "source": [
    "optimizer = GradientDescent(lr = 0.01, max_iter = 400, tol = 1e-6);\n",
    "wf_opt, grad_results = optimize(wf, ham, metro, optimizer, nthreads = 8);\n",
    "wf_opt.α, grad_results[end].E/num"
   ]
  },
  {
   "cell_type": "code",
   "execution_count": 5,
   "id": "326343e6-fe9c-48e8-a0a6-381a4f284f84",
   "metadata": {},
   "outputs": [
    {
     "name": "stdout",
     "output_type": "stream",
     "text": [
      "Length of data = 10000000 is not a power of 2, truncating to 8388608 elements\n",
      " 33.981761 seconds (36.71 M allocations: 3.371 GiB, 4.61% gc time, 78.24% compilation time)\n"
     ]
    },
    {
     "data": {
      "text/plain": [
       "1.5669778620546304"
      ]
     },
     "execution_count": 5,
     "metadata": {},
     "output_type": "execute_result"
    }
   ],
   "source": [
    "@time block_result = blocking(wf_opt, ham, Importance(equils = 1e5, samples = 1e7, step = 0.01), nthreads = 8)\n",
    "block_result.E/num"
   ]
  },
  {
   "cell_type": "code",
   "execution_count": null,
   "id": "becd8fcf-c030-4153-82e2-57e891a9ee41",
   "metadata": {},
   "outputs": [],
   "source": [
    "ob_result = onebody(wf_opt, ham, metro, start = -3, stop = 3, length = 100, nthreads = 1);\n",
    "(; radius, oneBodyDensity) = ob_result;"
   ]
  },
  {
   "cell_type": "code",
   "execution_count": null,
   "id": "2100f1f9-d968-4148-9e85-cbb3ce7de732",
   "metadata": {},
   "outputs": [],
   "source": [
    "plt.plot(radius, oneBodyDensity)"
   ]
  },
  {
   "cell_type": "code",
   "execution_count": null,
   "id": "0eeaaf02-89fe-47a8-bcfc-665252e63136",
   "metadata": {},
   "outputs": [],
   "source": []
  }
 ],
 "metadata": {
  "kernelspec": {
   "display_name": "Julia 8 threads 1.8.0",
   "language": "julia",
   "name": "julia-8-threads-1.8"
  },
  "language_info": {
   "file_extension": ".jl",
   "mimetype": "application/julia",
   "name": "julia",
   "version": "1.8.0"
  }
 },
 "nbformat": 4,
 "nbformat_minor": 5
}
