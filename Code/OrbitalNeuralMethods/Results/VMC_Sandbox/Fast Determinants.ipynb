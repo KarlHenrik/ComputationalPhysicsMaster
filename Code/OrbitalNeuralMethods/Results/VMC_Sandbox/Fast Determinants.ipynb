{
 "cells": [
  {
   "cell_type": "code",
   "execution_count": 2,
   "metadata": {},
   "outputs": [],
   "source": [
    "using BenchmarkTools: @btime\n",
    "import LinearAlgebra as la"
   ]
  },
  {
   "cell_type": "code",
   "execution_count": 3,
   "metadata": {},
   "outputs": [],
   "source": [
    "mutable struct Fast_Det\n",
    "    const D::Matrix{Float64}\n",
    "    const D_inv::Matrix{Float64}\n",
    "    const n::Int64\n",
    "    det::Float64\n",
    "\n",
    "    \n",
    "    function Fast_Det(D)\n",
    "        D_inv = la.inv(D)\n",
    "        det = la.det(D)\n",
    "        n = size(D)[1]\n",
    "        return new(copy(D), D_inv, n, det)\n",
    "    end\n",
    "end"
   ]
  },
  {
   "cell_type": "code",
   "execution_count": 4,
   "metadata": {},
   "outputs": [
    {
     "data": {
      "text/plain": [
       "change_row! (generic function with 1 method)"
      ]
     },
     "execution_count": 4,
     "metadata": {},
     "output_type": "execute_result"
    }
   ],
   "source": [
    "function det(fd::Fast_Det)\n",
    "    return fd.det\n",
    "end\n",
    "\n",
    "function det_new_row(fd::Fast_Det, new_row::Vector{Float64}, i)\n",
    "    (; D_inv, n, det) = fd\n",
    "    R = 0.0\n",
    "    for j in 1:n\n",
    "        R += new_row[j] * D_inv[j, i]\n",
    "    end\n",
    "    return det * R\n",
    "end\n",
    "\n",
    "function ratio_new_old_det(fd::Fast_Det, new_row::Vector{Float64}, i)\n",
    "    (; D_inv, n) = fd\n",
    "    R = 0.0\n",
    "    for j in 1:n\n",
    "        R += new_row[j] * D_inv[j, i]\n",
    "    end\n",
    "    return R\n",
    "end\n",
    "\n",
    "function change_row!(fd, new_row, i)\n",
    "    (; D, D_inv, n) = fd\n",
    "    R = 0.0\n",
    "    for j in 1:n\n",
    "        R += new_row[j] * D_inv[j, i]\n",
    "    end\n",
    "    fd.det = fd.det * R\n",
    "\n",
    "    for j in 1:n\n",
    "        if j != i\n",
    "            S = 0.0\n",
    "            for l in 1:n\n",
    "                S += new_row[l] * D_inv[l, j]\n",
    "            end\n",
    "        \n",
    "            for k in 1:n\n",
    "                D_inv[k, j] = D_inv[k, j] - S / R * D_inv[k, i]\n",
    "            end\n",
    "        end\n",
    "    end\n",
    "\n",
    "    for k in 1:n\n",
    "        D[i, k] = new_row[k]\n",
    "        D_inv[k, i] /= R\n",
    "    end\n",
    "    \n",
    "    return fd\n",
    "end"
   ]
  },
  {
   "cell_type": "code",
   "execution_count": 5,
   "metadata": {},
   "outputs": [],
   "source": [
    "n = 20\n",
    "D = rand(n, n);\n",
    "fd = Fast_Det(D);\n",
    "\n",
    "i = 1\n",
    "new_row = rand(n);"
   ]
  },
  {
   "cell_type": "code",
   "execution_count": 6,
   "metadata": {},
   "outputs": [
    {
     "data": {
      "text/plain": [
       "8.881784197001252e-16"
      ]
     },
     "execution_count": 6,
     "metadata": {},
     "output_type": "execute_result"
    }
   ],
   "source": [
    "new_D = copy(D)\n",
    "new_D[i, :] .= new_row\n",
    "\n",
    "old_det = la.det(D)\n",
    "new_det = la.det(new_D)\n",
    "ratio_new_old_det(fd, new_row, i) - new_det / old_det"
   ]
  },
  {
   "cell_type": "code",
   "execution_count": 10,
   "metadata": {},
   "outputs": [
    {
     "name": "stdout",
     "output_type": "stream",
     "text": [
      "  0.000019 seconds (3 allocations: 3.484 KiB)\n"
     ]
    },
    {
     "data": {
      "text/plain": [
       "-0.015579687659046023"
      ]
     },
     "execution_count": 10,
     "metadata": {},
     "output_type": "execute_result"
    }
   ],
   "source": [
    "@time la.det(new_D)"
   ]
  },
  {
   "cell_type": "code",
   "execution_count": 11,
   "metadata": {},
   "outputs": [
    {
     "name": "stdout",
     "output_type": "stream",
     "text": [
      "  0.000005 seconds (1 allocation: 16 bytes)\n"
     ]
    },
    {
     "data": {
      "text/plain": [
       "-0.01557968765904603"
      ]
     },
     "execution_count": 11,
     "metadata": {},
     "output_type": "execute_result"
    }
   ],
   "source": [
    "@time det_new_row(fd, new_row, i)"
   ]
  },
  {
   "cell_type": "code",
   "execution_count": 9,
   "metadata": {},
   "outputs": [
    {
     "name": "stdout",
     "output_type": "stream",
     "text": [
      "  608.621 ns (0 allocations: 0 bytes)\n"
     ]
    }
   ],
   "source": [
    "@btime change_row!(fd, new_row, i);"
   ]
  },
  {
   "cell_type": "code",
   "execution_count": null,
   "metadata": {},
   "outputs": [],
   "source": []
  }
 ],
 "metadata": {
  "kernelspec": {
   "display_name": "Julia 8 threads 1.8.0",
   "language": "julia",
   "name": "julia-8-threads-1.8"
  },
  "language_info": {
   "file_extension": ".jl",
   "mimetype": "application/julia",
   "name": "julia",
   "version": "1.8.0"
  },
  "orig_nbformat": 4
 },
 "nbformat": 4,
 "nbformat_minor": 2
}
