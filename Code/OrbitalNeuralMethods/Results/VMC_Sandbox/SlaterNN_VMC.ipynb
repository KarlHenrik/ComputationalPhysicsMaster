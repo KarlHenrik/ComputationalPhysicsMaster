{
 "cells": [
  {
   "cell_type": "code",
   "execution_count": 1,
   "metadata": {},
   "outputs": [
    {
     "name": "stderr",
     "output_type": "stream",
     "text": [
      "\u001b[32m\u001b[1m  Activating\u001b[22m\u001b[39m project at `C:\\Users\\KarlH\\Desktop\\ComputationalPhysicsMaster\\Code\\OrbitalNeuralMethods`\n",
      "┌ Info: Precompiling OrbitalNeuralMethods [6de8678a-dd1c-461e-a987-24da1d9562b4]\n",
      "└ @ Base loading.jl:1662\n"
     ]
    }
   ],
   "source": [
    "using Pkg; Pkg.activate(\"C:\\\\Users\\\\KarlH\\\\Desktop\\\\ComputationalPhysicsMaster\\\\Code\\\\OrbitalNeuralMethods\")\n",
    "using Revise\n",
    "using OrbitalNeuralMethods\n",
    "import OrbitalNeuralMethods as onm"
   ]
  },
  {
   "cell_type": "code",
   "execution_count": 2,
   "metadata": {},
   "outputs": [],
   "source": [
    "using PProf\n",
    "using ProfileCanvas\n",
    "using BenchmarkTools: @btime\n",
    "\n",
    "import Random\n",
    "rng = Random.MersenneTwister();"
   ]
  },
  {
   "cell_type": "code",
   "execution_count": 3,
   "metadata": {},
   "outputs": [
    {
     "data": {
      "text/plain": [
       "1.17957942722023"
      ]
     },
     "execution_count": 3,
     "metadata": {},
     "output_type": "execute_result"
    }
   ],
   "source": [
    "n = 2\n",
    "ω = 0.25\n",
    "ham = HOCoulomb(ω, shielding = 0.25);\n",
    "#ham = HarmonicOscillator(ω)\n",
    "\n",
    "l = 10\n",
    "basis = SpinBasis(HOBasis(l, ω))\n",
    "grid = [x for x in range(-10, stop = 10, length = 2001)]\n",
    "system = System(n, basis, grid, ham);\n",
    "\n",
    "mixer = Alpha(0.5)\n",
    "rhf = setup_RHF(system, mixer);\n",
    "rhf = compute_ground_state!(rhf, max_iter = 1000, tol = 1e-10, verbose=0);\n",
    "energy(rhf)"
   ]
  },
  {
   "cell_type": "code",
   "execution_count": 80,
   "metadata": {},
   "outputs": [
    {
     "data": {
      "text/plain": [
       "0.8253207495737687"
      ]
     },
     "execution_count": 80,
     "metadata": {},
     "output_type": "execute_result"
    }
   ],
   "source": [
    "ccsd = setup_CCSD(System(rhf))\n",
    "ccsd = compute_ground_state!(ccsd, max_iter = 1000, tol = 1e-10, verbose=0);\n",
    "energy(ccsd)"
   ]
  },
  {
   "cell_type": "code",
   "execution_count": 87,
   "metadata": {},
   "outputs": [
    {
     "data": {
      "text/plain": [
       "1.0e6"
      ]
     },
     "execution_count": 87,
     "metadata": {},
     "output_type": "execute_result"
    }
   ],
   "source": [
    "samples = 1e6\n",
    "metro = Importance(equils = 1e4, samples = samples, step = 0.1);\n",
    "#metro = Metropolis(equils = 1e4, samples = samples, step = 0.1);\n",
    "samples"
   ]
  },
  {
   "cell_type": "code",
   "execution_count": 62,
   "metadata": {},
   "outputs": [],
   "source": [
    "nn = NeuralNetwork([Dense(5), Tanh, Dense(1), Exp], n=n, rng = rng);\n",
    "slater = Slater(rhf);\n",
    "wf = SlaterNN(slater, nn);"
   ]
  },
  {
   "cell_type": "code",
   "execution_count": 88,
   "metadata": {},
   "outputs": [
    {
     "name": "stdout",
     "output_type": "stream",
     "text": [
      "E = 0.84 iter = 10/10                                      \n",
      "No convergence reached, final norm of gradient was 0.001233171816336685\n"
     ]
    }
   ],
   "source": [
    "optimizer = GradientDescent(lr = 0.01, max_iter = 10, tol = 1e-6);\n",
    "wf, grad_results = optimize(wf, ham, metro, optimizer, nthreads = 8, verbose = true);"
   ]
  },
  {
   "cell_type": "code",
   "execution_count": 38,
   "metadata": {},
   "outputs": [
    {
     "name": "stdout",
     "output_type": "stream",
     "text": [
      "  127.601 ms (1940 allocations: 6.07 MiB)\n"
     ]
    },
    {
     "data": {
      "text/plain": [
       "1.2124303505496778"
      ]
     },
     "execution_count": 38,
     "metadata": {},
     "output_type": "execute_result"
    }
   ],
   "source": [
    "@btime result = blocking(wf, ham, metro, nthreads = 8);\n",
    "result.E"
   ]
  },
  {
   "cell_type": "code",
   "execution_count": null,
   "metadata": {},
   "outputs": [],
   "source": []
  }
 ],
 "metadata": {
  "kernelspec": {
   "display_name": "Julia 8 threads 1.8.0",
   "language": "julia",
   "name": "julia-8-threads-1.8"
  },
  "language_info": {
   "file_extension": ".jl",
   "mimetype": "application/julia",
   "name": "julia",
   "version": "1.8.0"
  },
  "orig_nbformat": 4
 },
 "nbformat": 4,
 "nbformat_minor": 2
}
