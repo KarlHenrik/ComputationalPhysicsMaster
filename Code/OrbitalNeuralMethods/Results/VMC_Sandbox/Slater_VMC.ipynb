{
 "cells": [
  {
   "cell_type": "code",
   "execution_count": 1,
   "id": "4661918e-6d3f-4919-99b8-af972957410d",
   "metadata": {},
   "outputs": [
    {
     "name": "stderr",
     "output_type": "stream",
     "text": [
      "\u001b[32m\u001b[1m  Activating\u001b[22m\u001b[39m project at `C:\\Users\\KarlH\\Desktop\\ComputationalPhysicsMaster\\Code\\OrbitalNeuralMethods`\n",
      "┌ Info: Precompiling OrbitalNeuralMethods [6de8678a-dd1c-461e-a987-24da1d9562b4]\n",
      "└ @ Base loading.jl:1662\n"
     ]
    }
   ],
   "source": [
    "using Pkg; Pkg.activate(\"C:\\\\Users\\\\KarlH\\\\Desktop\\\\ComputationalPhysicsMaster\\\\Code\\\\OrbitalNeuralMethods\")\n",
    "using Revise\n",
    "using OrbitalNeuralMethods\n",
    "\n",
    "using BenchmarkTools: @btime\n",
    "import OrbitalNeuralMethods as onm"
   ]
  },
  {
   "cell_type": "code",
   "execution_count": 2,
   "metadata": {},
   "outputs": [
    {
     "name": "stdout",
     "output_type": "stream",
     "text": [
      "Iteration 1: E = 4.7257800375412256\n",
      "Iteration 2: E = 4.019943508398851\n",
      "Iteration 3: E = 4.33723515942371\n",
      "Iteration 41: E = 4.466761475079295\n"
     ]
    }
   ],
   "source": [
    "l = 10\n",
    "ω = 0.25\n",
    "basis = SpinBasis(HOBasis(l, ω))\n",
    "\n",
    "n = 4\n",
    "V = ShieldedCoulomb(0.25)\n",
    "grid = [x for x in range(-10, stop = 10, length = 2001)]\n",
    "system = System(n, basis, grid, V);\n",
    "\n",
    "mixer = Alpha(0.5)\n",
    "rhf = setup_RHF(system, mixer);\n",
    "rhf = compute_ground_state!(rhf, max_iter = 1000, tol = 1e-10, verbose=2);"
   ]
  },
  {
   "cell_type": "code",
   "execution_count": 3,
   "id": "6829a853-f05e-4f12-90f7-6bbe1335fb88",
   "metadata": {},
   "outputs": [
    {
     "data": {
      "text/plain": [
       "Importance(10000, 100000, 0.01)"
      ]
     },
     "execution_count": 3,
     "metadata": {},
     "output_type": "execute_result"
    }
   ],
   "source": [
    "dims = 1\n",
    "num = n\n",
    "\n",
    "#ham = HarmonicOscillator(dims, num, ω = 1)\n",
    "ham = HORepulsion(dims, num; shielding = 0.25, ω = 1)\n",
    "\n",
    "wf = Slater(rhf)\n",
    "\n",
    "metro = Importance(equils = 1e4, samples = 1e5, step = 0.01)\n",
    "#metro = Metropolis(equils = 1e4, samples = 1e5, step = 0.01)"
   ]
  },
  {
   "cell_type": "code",
   "execution_count": 24,
   "metadata": {},
   "outputs": [
    {
     "name": "stdout",
     "output_type": "stream",
     "text": [
      "1\n"
     ]
    },
    {
     "ename": "LoadError",
     "evalue": "TaskFailedException\n\n\u001b[91m    nested task error: \u001b[39mBoundsError: attempt to access 2-element Vector{Float64} at index [3]\n    Stacktrace:\n     [1] \u001b[0m\u001b[1msetindex!\u001b[22m\n    \u001b[90m   @ \u001b[39m\u001b[90m.\\\u001b[39m\u001b[90m\u001b[4marray.jl:966\u001b[24m\u001b[39m\u001b[90m [inlined]\u001b[39m\n     [2] \u001b[0m\u001b[1mcomputeNewRows!\u001b[22m\u001b[0m\u001b[1m(\u001b[22m\u001b[90mwf\u001b[39m::\u001b[0mSlater, \u001b[90mx\u001b[39m::\u001b[0mFloat64\u001b[0m\u001b[1m)\u001b[22m\n    \u001b[90m   @ \u001b[39m\u001b[35mOrbitalNeuralMethods\u001b[39m \u001b[90mC:\\Users\\KarlH\\Desktop\\ComputationalPhysicsMaster\\Code\\OrbitalNeuralMethods\\src\\VMC\\Wavefunctions\\\u001b[39m\u001b[90m\u001b[4mslater.jl:121\u001b[24m\u001b[39m\n     [3] \u001b[0m\u001b[1mconsider!\u001b[22m\u001b[0m\u001b[1m(\u001b[22m\u001b[90mnewQF\u001b[39m::\u001b[0mVector\u001b[90m{Float64}\u001b[39m, \u001b[90mwalker\u001b[39m::\u001b[0mOrbitalNeuralMethods.Walker\u001b[90m{OrbitalNeuralMethods.No_Muts, OrbitalNeuralMethods.Imp_Muts}\u001b[39m, \u001b[90mwf\u001b[39m::\u001b[0mSlater, \u001b[90mnew_idx\u001b[39m::\u001b[0mUnitRange\u001b[90m{Int64}\u001b[39m, \u001b[90mmove\u001b[39m::\u001b[0mVector\u001b[90m{Float64}\u001b[39m\u001b[0m\u001b[1m)\u001b[22m\n    \u001b[90m   @ \u001b[39m\u001b[35mOrbitalNeuralMethods\u001b[39m \u001b[90mC:\\Users\\KarlH\\Desktop\\ComputationalPhysicsMaster\\Code\\OrbitalNeuralMethods\\src\\VMC\\Walkers\\\u001b[39m\u001b[90m\u001b[4mconsider_Slater.jl:25\u001b[24m\u001b[39m\n     [4] \u001b[0m\u001b[1mmetro_step!\u001b[22m\u001b[0m\u001b[1m(\u001b[22m\u001b[90mwalker\u001b[39m::\u001b[0mOrbitalNeuralMethods.Walker\u001b[90m{OrbitalNeuralMethods.No_Muts, OrbitalNeuralMethods.Imp_Muts}\u001b[39m, \u001b[90mwf\u001b[39m::\u001b[0mSlater, \u001b[90mmetro\u001b[39m::\u001b[0mImportance, \u001b[90mham\u001b[39m::\u001b[0mHORepulsion\u001b[0m\u001b[1m)\u001b[22m\n    \u001b[90m   @ \u001b[39m\u001b[35mOrbitalNeuralMethods\u001b[39m \u001b[90mC:\\Users\\KarlH\\Desktop\\ComputationalPhysicsMaster\\Code\\OrbitalNeuralMethods\\src\\VMC\\\u001b[39m\u001b[90m\u001b[4mmetropolis.jl:63\u001b[24m\u001b[39m\n     [5] \u001b[0m\u001b[1mequil_steps!\u001b[22m\n    \u001b[90m   @ \u001b[39m\u001b[90mC:\\Users\\KarlH\\Desktop\\ComputationalPhysicsMaster\\Code\\OrbitalNeuralMethods\\src\\VMC\\\u001b[39m\u001b[90m\u001b[4msteps.jl:25\u001b[24m\u001b[39m\u001b[90m [inlined]\u001b[39m\n     [6] \u001b[0m\u001b[1mmacro expansion\u001b[22m\n    \u001b[90m   @ \u001b[39m\u001b[90mC:\\Users\\KarlH\\Desktop\\ComputationalPhysicsMaster\\Code\\OrbitalNeuralMethods\\src\\VMC\\\u001b[39m\u001b[90m\u001b[4msteps.jl:12\u001b[24m\u001b[39m\u001b[90m [inlined]\u001b[39m\n     [7] \u001b[0m\u001b[1m(::OrbitalNeuralMethods.var\"#207#threadsfor_fun#48\"{OrbitalNeuralMethods.var\"#207#threadsfor_fun#47#49\"{Vector{OrbitalNeuralMethods.BlockingSampler}, Slater, HORepulsion, Importance, Base.OneTo{Int64}}})\u001b[22m\u001b[0m\u001b[1m(\u001b[22m\u001b[90mtid\u001b[39m::\u001b[0mInt64; \u001b[90monethread\u001b[39m::\u001b[0mBool\u001b[0m\u001b[1m)\u001b[22m\n    \u001b[90m   @ \u001b[39m\u001b[35mOrbitalNeuralMethods\u001b[39m \u001b[90m.\\\u001b[39m\u001b[90m\u001b[4mthreadingconstructs.jl:84\u001b[24m\u001b[39m\n     [8] \u001b[0m\u001b[1m#207#threadsfor_fun\u001b[22m\n    \u001b[90m   @ \u001b[39m\u001b[90m.\\\u001b[39m\u001b[90m\u001b[4mthreadingconstructs.jl:51\u001b[24m\u001b[39m\u001b[90m [inlined]\u001b[39m\n     [9] \u001b[0m\u001b[1m(::Base.Threads.var\"#1#2\"{OrbitalNeuralMethods.var\"#207#threadsfor_fun#48\"{OrbitalNeuralMethods.var\"#207#threadsfor_fun#47#49\"{Vector{OrbitalNeuralMethods.BlockingSampler}, Slater, HORepulsion, Importance, Base.OneTo{Int64}}}, Int64})\u001b[22m\u001b[0m\u001b[1m(\u001b[22m\u001b[0m\u001b[1m)\u001b[22m\n    \u001b[90m   @ \u001b[39m\u001b[90mBase.Threads\u001b[39m \u001b[90m.\\\u001b[39m\u001b[90m\u001b[4mthreadingconstructs.jl:30\u001b[24m\u001b[39m",
     "output_type": "error",
     "traceback": [
      "TaskFailedException\n\n\u001b[91m    nested task error: \u001b[39mBoundsError: attempt to access 2-element Vector{Float64} at index [3]\n    Stacktrace:\n     [1] \u001b[0m\u001b[1msetindex!\u001b[22m\n    \u001b[90m   @ \u001b[39m\u001b[90m.\\\u001b[39m\u001b[90m\u001b[4marray.jl:966\u001b[24m\u001b[39m\u001b[90m [inlined]\u001b[39m\n     [2] \u001b[0m\u001b[1mcomputeNewRows!\u001b[22m\u001b[0m\u001b[1m(\u001b[22m\u001b[90mwf\u001b[39m::\u001b[0mSlater, \u001b[90mx\u001b[39m::\u001b[0mFloat64\u001b[0m\u001b[1m)\u001b[22m\n    \u001b[90m   @ \u001b[39m\u001b[35mOrbitalNeuralMethods\u001b[39m \u001b[90mC:\\Users\\KarlH\\Desktop\\ComputationalPhysicsMaster\\Code\\OrbitalNeuralMethods\\src\\VMC\\Wavefunctions\\\u001b[39m\u001b[90m\u001b[4mslater.jl:121\u001b[24m\u001b[39m\n     [3] \u001b[0m\u001b[1mconsider!\u001b[22m\u001b[0m\u001b[1m(\u001b[22m\u001b[90mnewQF\u001b[39m::\u001b[0mVector\u001b[90m{Float64}\u001b[39m, \u001b[90mwalker\u001b[39m::\u001b[0mOrbitalNeuralMethods.Walker\u001b[90m{OrbitalNeuralMethods.No_Muts, OrbitalNeuralMethods.Imp_Muts}\u001b[39m, \u001b[90mwf\u001b[39m::\u001b[0mSlater, \u001b[90mnew_idx\u001b[39m::\u001b[0mUnitRange\u001b[90m{Int64}\u001b[39m, \u001b[90mmove\u001b[39m::\u001b[0mVector\u001b[90m{Float64}\u001b[39m\u001b[0m\u001b[1m)\u001b[22m\n    \u001b[90m   @ \u001b[39m\u001b[35mOrbitalNeuralMethods\u001b[39m \u001b[90mC:\\Users\\KarlH\\Desktop\\ComputationalPhysicsMaster\\Code\\OrbitalNeuralMethods\\src\\VMC\\Walkers\\\u001b[39m\u001b[90m\u001b[4mconsider_Slater.jl:25\u001b[24m\u001b[39m\n     [4] \u001b[0m\u001b[1mmetro_step!\u001b[22m\u001b[0m\u001b[1m(\u001b[22m\u001b[90mwalker\u001b[39m::\u001b[0mOrbitalNeuralMethods.Walker\u001b[90m{OrbitalNeuralMethods.No_Muts, OrbitalNeuralMethods.Imp_Muts}\u001b[39m, \u001b[90mwf\u001b[39m::\u001b[0mSlater, \u001b[90mmetro\u001b[39m::\u001b[0mImportance, \u001b[90mham\u001b[39m::\u001b[0mHORepulsion\u001b[0m\u001b[1m)\u001b[22m\n    \u001b[90m   @ \u001b[39m\u001b[35mOrbitalNeuralMethods\u001b[39m \u001b[90mC:\\Users\\KarlH\\Desktop\\ComputationalPhysicsMaster\\Code\\OrbitalNeuralMethods\\src\\VMC\\\u001b[39m\u001b[90m\u001b[4mmetropolis.jl:63\u001b[24m\u001b[39m\n     [5] \u001b[0m\u001b[1mequil_steps!\u001b[22m\n    \u001b[90m   @ \u001b[39m\u001b[90mC:\\Users\\KarlH\\Desktop\\ComputationalPhysicsMaster\\Code\\OrbitalNeuralMethods\\src\\VMC\\\u001b[39m\u001b[90m\u001b[4msteps.jl:25\u001b[24m\u001b[39m\u001b[90m [inlined]\u001b[39m\n     [6] \u001b[0m\u001b[1mmacro expansion\u001b[22m\n    \u001b[90m   @ \u001b[39m\u001b[90mC:\\Users\\KarlH\\Desktop\\ComputationalPhysicsMaster\\Code\\OrbitalNeuralMethods\\src\\VMC\\\u001b[39m\u001b[90m\u001b[4msteps.jl:12\u001b[24m\u001b[39m\u001b[90m [inlined]\u001b[39m\n     [7] \u001b[0m\u001b[1m(::OrbitalNeuralMethods.var\"#207#threadsfor_fun#48\"{OrbitalNeuralMethods.var\"#207#threadsfor_fun#47#49\"{Vector{OrbitalNeuralMethods.BlockingSampler}, Slater, HORepulsion, Importance, Base.OneTo{Int64}}})\u001b[22m\u001b[0m\u001b[1m(\u001b[22m\u001b[90mtid\u001b[39m::\u001b[0mInt64; \u001b[90monethread\u001b[39m::\u001b[0mBool\u001b[0m\u001b[1m)\u001b[22m\n    \u001b[90m   @ \u001b[39m\u001b[35mOrbitalNeuralMethods\u001b[39m \u001b[90m.\\\u001b[39m\u001b[90m\u001b[4mthreadingconstructs.jl:84\u001b[24m\u001b[39m\n     [8] \u001b[0m\u001b[1m#207#threadsfor_fun\u001b[22m\n    \u001b[90m   @ \u001b[39m\u001b[90m.\\\u001b[39m\u001b[90m\u001b[4mthreadingconstructs.jl:51\u001b[24m\u001b[39m\u001b[90m [inlined]\u001b[39m\n     [9] \u001b[0m\u001b[1m(::Base.Threads.var\"#1#2\"{OrbitalNeuralMethods.var\"#207#threadsfor_fun#48\"{OrbitalNeuralMethods.var\"#207#threadsfor_fun#47#49\"{Vector{OrbitalNeuralMethods.BlockingSampler}, Slater, HORepulsion, Importance, Base.OneTo{Int64}}}, Int64})\u001b[22m\u001b[0m\u001b[1m(\u001b[22m\u001b[0m\u001b[1m)\u001b[22m\n    \u001b[90m   @ \u001b[39m\u001b[90mBase.Threads\u001b[39m \u001b[90m.\\\u001b[39m\u001b[90m\u001b[4mthreadingconstructs.jl:30\u001b[24m\u001b[39m",
      "",
      "Stacktrace:",
      " [1] wait",
      "   @ .\\task.jl:345 [inlined]",
      " [2] threading_run(fun::OrbitalNeuralMethods.var\"#207#threadsfor_fun#48\"{OrbitalNeuralMethods.var\"#207#threadsfor_fun#47#49\"{Vector{OrbitalNeuralMethods.BlockingSampler}, Slater, HORepulsion, Importance, Base.OneTo{Int64}}}, static::Bool)",
      "   @ Base.Threads .\\threadingconstructs.jl:38",
      " [3] macro expansion",
      "   @ .\\threadingconstructs.jl:89 [inlined]",
      " [4] steps!",
      "   @ C:\\Users\\KarlH\\Desktop\\ComputationalPhysicsMaster\\Code\\OrbitalNeuralMethods\\src\\VMC\\steps.jl:8 [inlined]",
      " [5] blocking(wf::Slater, ham::HORepulsion, metro::Importance; nthreads::Int64)",
      "   @ OrbitalNeuralMethods C:\\Users\\KarlH\\Desktop\\ComputationalPhysicsMaster\\Code\\OrbitalNeuralMethods\\src\\VMC\\Blocking\\blocking.jl:5",
      " [6] top-level scope",
      "   @ .\\timing.jl:263 [inlined]",
      " [7] top-level scope",
      "   @ .\\In[24]:0",
      " [8] eval",
      "   @ .\\boot.jl:368 [inlined]",
      " [9] include_string(mapexpr::typeof(REPL.softscope), mod::Module, code::String, filename::String)",
      "   @ Base .\\loading.jl:1428"
     ]
    }
   ],
   "source": [
    "@time block_result = blocking(wf, ham, metro, nthreads = 1)\n",
    "block_result.E/num"
   ]
  },
  {
   "cell_type": "code",
   "execution_count": null,
   "metadata": {},
   "outputs": [],
   "source": []
  }
 ],
 "metadata": {
  "kernelspec": {
   "display_name": "Julia 8 threads 1.8.0",
   "language": "julia",
   "name": "julia-8-threads-1.8"
  },
  "language_info": {
   "file_extension": ".jl",
   "mimetype": "application/julia",
   "name": "julia",
   "version": "1.8.0"
  },
  "orig_nbformat": 4
 },
 "nbformat": 4,
 "nbformat_minor": 2
}
