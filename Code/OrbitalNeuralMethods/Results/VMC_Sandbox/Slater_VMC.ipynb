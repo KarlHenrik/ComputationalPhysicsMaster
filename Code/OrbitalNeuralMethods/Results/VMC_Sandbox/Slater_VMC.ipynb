{
 "cells": [
  {
   "cell_type": "code",
   "execution_count": 3,
   "id": "4661918e-6d3f-4919-99b8-af972957410d",
   "metadata": {},
   "outputs": [
    {
     "name": "stderr",
     "output_type": "stream",
     "text": [
      "\u001b[32m\u001b[1m  Activating\u001b[22m\u001b[39m project at `C:\\Users\\KarlH\\Desktop\\ComputationalPhysicsMaster\\Code\\OrbitalNeuralMethods`\n",
      "┌ Info: Precompiling OrbitalNeuralMethods [6de8678a-dd1c-461e-a987-24da1d9562b4]\n",
      "└ @ Base loading.jl:1662\n"
     ]
    }
   ],
   "source": [
    "using Pkg; Pkg.activate(\"C:\\\\Users\\\\KarlH\\\\Desktop\\\\ComputationalPhysicsMaster\\\\Code\\\\OrbitalNeuralMethods\")\n",
    "using Revise\n",
    "using OrbitalNeuralMethods\n",
    "\n",
    "using BenchmarkTools: @btime\n",
    "import OrbitalNeuralMethods as onm"
   ]
  },
  {
   "cell_type": "code",
   "execution_count": 10,
   "metadata": {},
   "outputs": [],
   "source": [
    "n = 2\n",
    "\n",
    "ω = 0.25\n",
    "ham = HOCoulomb(ω, shielding = 0.25)\n",
    "#ham = HarmonicOscillator(ω)\n",
    "\n",
    "l = 10\n",
    "basis = SpinBasis(HOBasis(l, ω));"
   ]
  },
  {
   "cell_type": "code",
   "execution_count": 13,
   "metadata": {},
   "outputs": [],
   "source": [
    "grid = [x for x in range(-10, stop = 10, length = 2001)]\n",
    "system = System(n, basis, grid, ham);\n",
    "\n",
    "mixer = Alpha(0.5)\n",
    "rhf = setup_RHF(system, mixer);\n",
    "rhf = compute_ground_state!(rhf, max_iter = 1000, tol = 1e-10, verbose=0);"
   ]
  },
  {
   "cell_type": "code",
   "execution_count": 14,
   "id": "6829a853-f05e-4f12-90f7-6bbe1335fb88",
   "metadata": {},
   "outputs": [],
   "source": [
    "wf = Slater(rhf)\n",
    "\n",
    "metro = Importance(equils = 1e5, samples = 1048576, step = 0.01);\n",
    "#metro = Metropolis(equils = 1e4, samples = 1e5, step = 0.01)"
   ]
  },
  {
   "cell_type": "code",
   "execution_count": 16,
   "metadata": {},
   "outputs": [
    {
     "ename": "LoadError",
     "evalue": "TaskFailedException\n\n\u001b[91m    nested task error: \u001b[39mMethodError: no method matching OrbitalNeuralMethods.Metro_Muts(::Slater, ::Importance)\n    \u001b[0mClosest candidates are:\n    \u001b[0m  OrbitalNeuralMethods.Metro_Muts(::Any) at C:\\Users\\KarlH\\Desktop\\ComputationalPhysicsMaster\\Code\\OrbitalNeuralMethods\\src\\VMC\\Walkers\\muts.jl:25\n    Stacktrace:\n     [1] \u001b[0m\u001b[1mEquilWalker\u001b[22m\u001b[0m\u001b[1m(\u001b[22m\u001b[90mwf\u001b[39m::\u001b[0mSlater, \u001b[90mmetro\u001b[39m::\u001b[0mImportance\u001b[0m\u001b[1m)\u001b[22m\n    \u001b[90m   @ \u001b[39m\u001b[35mOrbitalNeuralMethods\u001b[39m \u001b[90mC:\\Users\\KarlH\\Desktop\\ComputationalPhysicsMaster\\Code\\OrbitalNeuralMethods\\src\\VMC\\Walkers\\\u001b[39m\u001b[90m\u001b[4mwalker.jl:17\u001b[24m\u001b[39m\n     [2] \u001b[0m\u001b[1mmacro expansion\u001b[22m\n    \u001b[90m   @ \u001b[39m\u001b[90mC:\\Users\\KarlH\\Desktop\\ComputationalPhysicsMaster\\Code\\OrbitalNeuralMethods\\src\\VMC\\\u001b[39m\u001b[90m\u001b[4msteps.jl:10\u001b[24m\u001b[39m\u001b[90m [inlined]\u001b[39m\n     [3] \u001b[0m\u001b[1m#201#threadsfor_fun#45\u001b[22m\n    \u001b[90m   @ \u001b[39m\u001b[90m.\\\u001b[39m\u001b[90m\u001b[4mthreadingconstructs.jl:84\u001b[24m\u001b[39m\u001b[90m [inlined]\u001b[39m\n     [4] \u001b[0m\u001b[1m#201#threadsfor_fun\u001b[22m\n    \u001b[90m   @ \u001b[39m\u001b[90m.\\\u001b[39m\u001b[90m\u001b[4mthreadingconstructs.jl:51\u001b[24m\u001b[39m\u001b[90m [inlined]\u001b[39m\n     [5] \u001b[0m\u001b[1m(::Base.Threads.var\"#1#2\"{OrbitalNeuralMethods.var\"#201#threadsfor_fun#46\"{OrbitalNeuralMethods.var\"#201#threadsfor_fun#45#47\"{Vector{OrbitalNeuralMethods.BlockingSampler}, Slater, HOCoulomb, Importance, Base.OneTo{Int64}}}, Int64})\u001b[22m\u001b[0m\u001b[1m(\u001b[22m\u001b[0m\u001b[1m)\u001b[22m\n    \u001b[90m   @ \u001b[39m\u001b[90mBase.Threads\u001b[39m \u001b[90m.\\\u001b[39m\u001b[90m\u001b[4mthreadingconstructs.jl:30\u001b[24m\u001b[39m",
     "output_type": "error",
     "traceback": [
      "TaskFailedException\n\n\u001b[91m    nested task error: \u001b[39mMethodError: no method matching OrbitalNeuralMethods.Metro_Muts(::Slater, ::Importance)\n    \u001b[0mClosest candidates are:\n    \u001b[0m  OrbitalNeuralMethods.Metro_Muts(::Any) at C:\\Users\\KarlH\\Desktop\\ComputationalPhysicsMaster\\Code\\OrbitalNeuralMethods\\src\\VMC\\Walkers\\muts.jl:25\n    Stacktrace:\n     [1] \u001b[0m\u001b[1mEquilWalker\u001b[22m\u001b[0m\u001b[1m(\u001b[22m\u001b[90mwf\u001b[39m::\u001b[0mSlater, \u001b[90mmetro\u001b[39m::\u001b[0mImportance\u001b[0m\u001b[1m)\u001b[22m\n    \u001b[90m   @ \u001b[39m\u001b[35mOrbitalNeuralMethods\u001b[39m \u001b[90mC:\\Users\\KarlH\\Desktop\\ComputationalPhysicsMaster\\Code\\OrbitalNeuralMethods\\src\\VMC\\Walkers\\\u001b[39m\u001b[90m\u001b[4mwalker.jl:17\u001b[24m\u001b[39m\n     [2] \u001b[0m\u001b[1mmacro expansion\u001b[22m\n    \u001b[90m   @ \u001b[39m\u001b[90mC:\\Users\\KarlH\\Desktop\\ComputationalPhysicsMaster\\Code\\OrbitalNeuralMethods\\src\\VMC\\\u001b[39m\u001b[90m\u001b[4msteps.jl:10\u001b[24m\u001b[39m\u001b[90m [inlined]\u001b[39m\n     [3] \u001b[0m\u001b[1m#201#threadsfor_fun#45\u001b[22m\n    \u001b[90m   @ \u001b[39m\u001b[90m.\\\u001b[39m\u001b[90m\u001b[4mthreadingconstructs.jl:84\u001b[24m\u001b[39m\u001b[90m [inlined]\u001b[39m\n     [4] \u001b[0m\u001b[1m#201#threadsfor_fun\u001b[22m\n    \u001b[90m   @ \u001b[39m\u001b[90m.\\\u001b[39m\u001b[90m\u001b[4mthreadingconstructs.jl:51\u001b[24m\u001b[39m\u001b[90m [inlined]\u001b[39m\n     [5] \u001b[0m\u001b[1m(::Base.Threads.var\"#1#2\"{OrbitalNeuralMethods.var\"#201#threadsfor_fun#46\"{OrbitalNeuralMethods.var\"#201#threadsfor_fun#45#47\"{Vector{OrbitalNeuralMethods.BlockingSampler}, Slater, HOCoulomb, Importance, Base.OneTo{Int64}}}, Int64})\u001b[22m\u001b[0m\u001b[1m(\u001b[22m\u001b[0m\u001b[1m)\u001b[22m\n    \u001b[90m   @ \u001b[39m\u001b[90mBase.Threads\u001b[39m \u001b[90m.\\\u001b[39m\u001b[90m\u001b[4mthreadingconstructs.jl:30\u001b[24m\u001b[39m",
      "",
      "Stacktrace:",
      " [1] wait",
      "   @ .\\task.jl:345 [inlined]",
      " [2] threading_run(fun::OrbitalNeuralMethods.var\"#201#threadsfor_fun#46\"{OrbitalNeuralMethods.var\"#201#threadsfor_fun#45#47\"{Vector{OrbitalNeuralMethods.BlockingSampler}, Slater, HOCoulomb, Importance, Base.OneTo{Int64}}}, static::Bool)",
      "   @ Base.Threads .\\threadingconstructs.jl:38",
      " [3] macro expansion",
      "   @ .\\threadingconstructs.jl:89 [inlined]",
      " [4] steps!",
      "   @ C:\\Users\\KarlH\\Desktop\\ComputationalPhysicsMaster\\Code\\OrbitalNeuralMethods\\src\\VMC\\steps.jl:8 [inlined]",
      " [5] blocking(wf::Slater, ham::HOCoulomb, metro::Importance; nthreads::Int64)",
      "   @ OrbitalNeuralMethods C:\\Users\\KarlH\\Desktop\\ComputationalPhysicsMaster\\Code\\OrbitalNeuralMethods\\src\\VMC\\Blocking\\blocking.jl:5",
      " [6] top-level scope",
      "   @ .\\timing.jl:263 [inlined]",
      " [7] top-level scope",
      "   @ .\\In[16]:0",
      " [8] eval",
      "   @ .\\boot.jl:368 [inlined]",
      " [9] include_string(mapexpr::typeof(REPL.softscope), mod::Module, code::String, filename::String)",
      "   @ Base .\\loading.jl:1428"
     ]
    }
   ],
   "source": [
    "@time block_result = blocking(wf, ham, metro, nthreads = 1)\n",
    "block_result.E"
   ]
  },
  {
   "cell_type": "code",
   "execution_count": null,
   "metadata": {},
   "outputs": [],
   "source": []
  },
  {
   "cell_type": "code",
   "execution_count": null,
   "metadata": {},
   "outputs": [],
   "source": []
  }
 ],
 "metadata": {
  "kernelspec": {
   "display_name": "Julia 8 threads 1.8.0",
   "language": "julia",
   "name": "julia-8-threads-1.8"
  },
  "language_info": {
   "file_extension": ".jl",
   "mimetype": "application/julia",
   "name": "julia",
   "version": "1.8.0"
  },
  "orig_nbformat": 4
 },
 "nbformat": 4,
 "nbformat_minor": 2
}
