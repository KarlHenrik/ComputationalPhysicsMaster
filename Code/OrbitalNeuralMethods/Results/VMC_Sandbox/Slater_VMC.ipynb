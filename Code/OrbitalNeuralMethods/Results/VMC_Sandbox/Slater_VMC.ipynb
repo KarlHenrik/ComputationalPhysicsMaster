{
 "cells": [
  {
   "cell_type": "code",
   "execution_count": 7,
   "id": "4661918e-6d3f-4919-99b8-af972957410d",
   "metadata": {},
   "outputs": [
    {
     "name": "stderr",
     "output_type": "stream",
     "text": [
      "\u001b[32m\u001b[1m  Activating\u001b[22m\u001b[39m project at `C:\\Users\\KarlH\\Desktop\\ComputationalPhysicsMaster\\Code\\OrbitalNeuralMethods`\n"
     ]
    }
   ],
   "source": [
    "using Pkg; Pkg.activate(\"C:\\\\Users\\\\KarlH\\\\Desktop\\\\ComputationalPhysicsMaster\\\\Code\\\\OrbitalNeuralMethods\")\n",
    "using Revise\n",
    "using OrbitalNeuralMethods\n",
    "\n",
    "using BenchmarkTools: @btime\n",
    "import OrbitalNeuralMethods as onm"
   ]
  },
  {
   "cell_type": "code",
   "execution_count": 375,
   "metadata": {},
   "outputs": [
    {
     "name": "stdout",
     "output_type": "stream",
     "text": [
      "Iteration 1: E = 1.0369273303963589\n",
      "Iteration 2: E = 1.057353607877294\n",
      "Iteration 3: E = 1.1209047685310443\n",
      "Iteration 32: E = 1.17957942722023\n"
     ]
    }
   ],
   "source": [
    "l = 10\n",
    "ω = 0.25\n",
    "basis = SpinBasis(HOBasis(l, ω))\n",
    "\n",
    "n = 2\n",
    "V = ShieldedCoulomb(0.25)\n",
    "#V = NonInteracting()\n",
    "grid = [x for x in range(-10, stop = 10, length = 2001)]\n",
    "system = System(n, basis, grid, V);\n",
    "\n",
    "mixer = Alpha(0.5)\n",
    "rhf = setup_RHF(system, mixer);\n",
    "rhf = compute_ground_state!(rhf, max_iter = 1000, tol = 1e-10, verbose=2);"
   ]
  },
  {
   "cell_type": "code",
   "execution_count": 376,
   "id": "6829a853-f05e-4f12-90f7-6bbe1335fb88",
   "metadata": {},
   "outputs": [
    {
     "data": {
      "text/plain": [
       "Metropolis(10000, 100000, 0.05)"
      ]
     },
     "execution_count": 376,
     "metadata": {},
     "output_type": "execute_result"
    }
   ],
   "source": [
    "dims = 1\n",
    "num = n\n",
    "\n",
    "#ham = HarmonicOscillator(dims, num, ω = 0.25)\n",
    "ham = HORepulsion(dims, num; shielding = 0.25, ω = 1)\n",
    "\n",
    "wf = Slater(rhf)\n",
    "\n",
    "#metro = Importance(equils = 1e4, samples = 1e5, step = 0.01)\n",
    "metro = Metropolis(equils = 1e4, samples = 1e5, step = 0.05)"
   ]
  },
  {
   "cell_type": "code",
   "execution_count": 384,
   "metadata": {},
   "outputs": [
    {
     "name": "stdout",
     "output_type": "stream",
     "text": [
      "Length of data = 100000 is not a power of 2, truncating to 65536 elements\n",
      "  0.039933 seconds (271 allocations: 6.615 MiB)\n"
     ]
    },
    {
     "data": {
      "text/plain": [
       "7.547014592583006"
      ]
     },
     "execution_count": 384,
     "metadata": {},
     "output_type": "execute_result"
    }
   ],
   "source": [
    "@time block_result = blocking(wf, ham, metro, nthreads = 1)\n",
    "block_result.E"
   ]
  },
  {
   "cell_type": "code",
   "execution_count": null,
   "metadata": {},
   "outputs": [],
   "source": []
  }
 ],
 "metadata": {
  "kernelspec": {
   "display_name": "Julia 8 threads 1.8.0",
   "language": "julia",
   "name": "julia-8-threads-1.8"
  },
  "language_info": {
   "file_extension": ".jl",
   "mimetype": "application/julia",
   "name": "julia",
   "version": "1.8.0"
  },
  "orig_nbformat": 4
 },
 "nbformat": 4,
 "nbformat_minor": 2
}
