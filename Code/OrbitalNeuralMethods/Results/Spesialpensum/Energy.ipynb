{
 "cells": [
  {
   "cell_type": "code",
   "execution_count": 1,
   "id": "bbdcfa6c-75f6-49f8-bc18-c2695db02319",
   "metadata": {},
   "outputs": [
    {
     "name": "stderr",
     "output_type": "stream",
     "text": [
      "\u001b[32m\u001b[1m  Activating\u001b[22m\u001b[39m project at `C:\\Users\\KarlH\\Desktop\\ComputationalPhysicsMaster\\Code\\OrbitalNeuralMethods`\n",
      "┌ Info: Precompiling OrbitalNeuralMethods [6de8678a-dd1c-461e-a987-24da1d9562b4]\n",
      "└ @ Base loading.jl:1662\n"
     ]
    }
   ],
   "source": [
    "using Pkg; Pkg.activate(\"C:\\\\Users\\\\KarlH\\\\Desktop\\\\ComputationalPhysicsMaster\\\\Code\\\\OrbitalNeuralMethods\")\n",
    "using Revise\n",
    "using OrbitalNeuralMethods"
   ]
  },
  {
   "cell_type": "code",
   "execution_count": 2,
   "id": "4b61abb7-86a7-4d0c-bbfc-ed8df17ad28b",
   "metadata": {},
   "outputs": [],
   "source": [
    "using PyFormattedStrings\n",
    "import Plots as plt"
   ]
  },
  {
   "cell_type": "markdown",
   "id": "d72f6c2e-edcf-4230-9d27-0df2a2a11c1d",
   "metadata": {},
   "source": [
    "## HO Basis and Spatial System"
   ]
  },
  {
   "cell_type": "code",
   "execution_count": 3,
   "id": "b7c921f3-9830-441e-96b9-e237e516fbb4",
   "metadata": {},
   "outputs": [
    {
     "data": {
      "text/plain": [
       "0.8247"
      ]
     },
     "execution_count": 3,
     "metadata": {},
     "output_type": "execute_result"
    }
   ],
   "source": [
    "exact = 0.8247 #Zanghellini value for infinite basis"
   ]
  },
  {
   "cell_type": "code",
   "execution_count": 4,
   "id": "49c42a6d-1cbc-4217-8a32-2c823987d3ea",
   "metadata": {},
   "outputs": [
    {
     "name": "stdout",
     "output_type": "stream",
     "text": [
      "HO Basis Ref : E = 1.3837, D = 0.5590\n"
     ]
    }
   ],
   "source": [
    "l = 10\n",
    "ω = 0.25\n",
    "basis = SpinBasis(HOBasis(l, ω))\n",
    "\n",
    "n = 2\n",
    "V = ShieldedCoulomb(0.25)\n",
    "grid = [x for x in range(-10, stop = 10, length = 2001)]\n",
    "system = System(n, basis, grid, V);\n",
    "println(f\"HO Basis Ref : E = {reference_energy(system):.4f}, D = {reference_energy(system) - exact:.4f}\")"
   ]
  },
  {
   "cell_type": "markdown",
   "id": "f1a41a88-d361-46c8-9859-ccd7307486e1",
   "metadata": {},
   "source": [
    "## HF"
   ]
  },
  {
   "cell_type": "code",
   "execution_count": 5,
   "id": "113b40e2-b14d-499f-ac42-d64e8412d549",
   "metadata": {},
   "outputs": [
    {
     "name": "stdout",
     "output_type": "stream",
     "text": [
      "HF  : E = 0.8450, D = 0.0203\n",
      "RHF : E = 1.1796, D = 0.3549\n"
     ]
    }
   ],
   "source": [
    "hf = setup_HF(system);\n",
    "compute_ground_state!(hf, max_iter = 1000, tol = 1e-10)\n",
    "println(f\"HF  : E = {energy(hf):.4f}, D = {energy(hf) - exact:.4f}\")\n",
    "\n",
    "rhf = setup_RHF(system);\n",
    "compute_ground_state!(rhf, max_iter = 1000, tol = 1e-10)\n",
    "println(f\"RHF : E = {energy(rhf):.4f}, D = {energy(rhf) - exact:.4f}\")"
   ]
  },
  {
   "cell_type": "code",
   "execution_count": 22,
   "id": "1e6f200d",
   "metadata": {},
   "outputs": [
    {
     "data": {
      "text/plain": [
       "20×20 Matrix{Float64}:\n",
       "  0.933557      1.0          -1.06551e-12  …  -3.54487e-14   1.0\n",
       "  1.0          -0.933557      1.0              1.0           3.54487e-14\n",
       " -7.13654e-13   1.0          -0.871417        -0.0161273     1.0\n",
       "  1.0           7.13654e-13   1.0              1.0           0.0161273\n",
       "  0.348741      1.0           7.64116e-13      1.84745e-13   1.0\n",
       "  1.0          -0.348741      1.0          …   1.0          -1.84745e-13\n",
       " -1.71175e-13   1.0          -0.476233         0.0902805     1.0\n",
       "  1.0           1.71175e-13   1.0              1.0          -0.0902805\n",
       "  0.0827379     1.0           2.95437e-13     -3.79482e-13   1.0\n",
       "  1.0          -0.0827379     1.0              1.0           3.79482e-13\n",
       " -4.07184e-15   1.0          -0.117575     …  -0.257044      1.0\n",
       "  1.0           4.07184e-15   1.0              1.0           0.257044\n",
       "  0.00066849    1.0           2.36665e-14      4.70859e-13   1.0\n",
       "  1.0          -0.00066849    1.0              1.0          -4.70859e-13\n",
       "  2.25335e-15   1.0           0.00173524       0.509494      1.0\n",
       "  1.0          -2.25335e-15   1.0          …   1.0          -0.509494\n",
       " -0.00220609    1.0          -4.25208e-15     -3.38569e-13   1.0\n",
       "  1.0           0.00220609    1.0              1.0           3.38569e-13\n",
       " -9.32661e-16   1.0           0.00265321      -0.816047      1.0\n",
       "  1.0           9.32661e-16   1.0              1.0           0.816047"
      ]
     },
     "execution_count": 22,
     "metadata": {},
     "output_type": "execute_result"
    }
   ],
   "source": [
    "rhf_sys = System(rhf)\n",
    "l = rhf_sys.l\n",
    "C = rhf_sys.transform\n",
    "\n",
    "all_zero = true\n",
    "for i in 2:2:l\n",
    "    for j in 1:2:l\n",
    "        if C[i, j] != 0\n",
    "            all_zero = false\n",
    "        end\n",
    "        if C[j, i] != 0\n",
    "            all_zero = false\n",
    "        end\n",
    "        C[i, j] = 1\n",
    "        C[j, i] = 1\n",
    "    end\n",
    "end\n",
    "\n",
    "restricted = true\n",
    "for i in 1:2:l\n",
    "    for j in 1:2:l\n",
    "        if C[i, j] != C[i+1, j+1]\n",
    "            println(\"no!\")\n",
    "        end\n",
    "        C[i+1, j+1] = -C[i, j]\n",
    "    end\n",
    "end\n",
    "\n",
    "C"
   ]
  },
  {
   "cell_type": "code",
   "execution_count": null,
   "id": "82ccfec0-f7df-475b-8fa2-af23b25b9080",
   "metadata": {},
   "outputs": [],
   "source": [
    "println(hf.C[:,1][1:4])\n",
    "println(hf.C[:,2][1:4])\n",
    "println(\"These are not spin-anti-symmetric\")"
   ]
  },
  {
   "cell_type": "markdown",
   "id": "42c54bad-5712-4f42-b82b-273d3429ff9b",
   "metadata": {},
   "source": [
    "## CCD"
   ]
  },
  {
   "cell_type": "code",
   "execution_count": null,
   "id": "08de3295-e137-48ac-b727-7a9e5e671a30",
   "metadata": {},
   "outputs": [],
   "source": [
    "ccd = setup_CCD(system);\n",
    "compute_ground_state!(ccd, max_iter = 1000, tol = 1e-10)\n",
    "println(f\"CCD    : E = {energy(ccd):.4f}, D = {energy(ccd) - exact:.4f}\")\n",
    "\n",
    "ccd = setup_CCD(System(rhf));\n",
    "compute_ground_state!(ccd, max_iter = 1000, tol = 1e-10)\n",
    "println(f\"CCD+RHF: E = {energy(ccd):.4f}, D = {energy(ccd) - exact:.4f}\")\n",
    "\n",
    "ccd = setup_CCD(System(hf));\n",
    "compute_ground_state!(ccd, max_iter = 1000, tol = 1e-10)\n",
    "println(f\"CCD+HF : E = {energy(ccd):.4f}, D = {energy(ccd) - exact:.4f}\")"
   ]
  },
  {
   "cell_type": "markdown",
   "id": "2a9a171e-85d5-4cec-a53c-f4786e91843d",
   "metadata": {
    "tags": []
   },
   "source": [
    "## CCSD"
   ]
  },
  {
   "cell_type": "code",
   "execution_count": null,
   "id": "535787c6-d4e4-4b18-a2b1-3f5dafc88299",
   "metadata": {},
   "outputs": [],
   "source": [
    "ccsd = setup_CCSD(system);\n",
    "compute_ground_state!(ccsd, max_iter = 1000, tol = 1e-10)\n",
    "println(f\"CCSD    : E = {energy(ccsd):.4f}, D = {energy(ccsd) - exact:.4f}\")\n",
    "\n",
    "ccsd = setup_CCSD(System(rhf));\n",
    "compute_ground_state!(ccsd, max_iter = 1000, tol = 1e-10)\n",
    "println(f\"CCSD+RHF: E = {energy(ccsd):.4f}, D = {energy(ccsd) - exact:.4f}\")\n",
    "\n",
    "ccsd = setup_CCSD(System(hf));\n",
    "compute_ground_state!(ccsd, max_iter = 1000, tol = 1e-10)\n",
    "println(f\"CCSD+HF : E = {energy(ccsd):.4f}, D = {energy(ccsd) - exact:.4f}\")"
   ]
  },
  {
   "cell_type": "code",
   "execution_count": null,
   "id": "583704c1-0d67-4ece-b1fe-b7ef93a0a2d8",
   "metadata": {},
   "outputs": [],
   "source": [
    "big_system = System(n, SpinBasis(HOBasis(30, ω)), grid, V);\n",
    "\n",
    "ccsd = setup_CCSD(big_system);\n",
    "compute_ground_state!(ccsd, max_iter = 1000, tol = 1e-10)\n",
    "println(f\"CCSD    : E = {energy(ccsd):.4f}, D = {energy(ccsd) - exact:.4f}\")"
   ]
  }
 ],
 "metadata": {
  "kernelspec": {
   "display_name": "Julia 8 threads 1.8.0",
   "language": "julia",
   "name": "julia-8-threads-1.8"
  },
  "language_info": {
   "file_extension": ".jl",
   "mimetype": "application/julia",
   "name": "julia",
   "version": "1.8.0"
  }
 },
 "nbformat": 4,
 "nbformat_minor": 5
}
