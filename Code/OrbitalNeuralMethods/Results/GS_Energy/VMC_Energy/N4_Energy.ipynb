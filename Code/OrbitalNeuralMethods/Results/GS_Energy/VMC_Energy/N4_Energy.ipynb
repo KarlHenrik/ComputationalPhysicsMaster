{
 "cells": [
  {
   "cell_type": "code",
   "execution_count": 1,
   "metadata": {},
   "outputs": [
    {
     "name": "stderr",
     "output_type": "stream",
     "text": [
      "\u001b[32m\u001b[1m  Activating\u001b[22m\u001b[39m project at `C:\\Users\\KarlH\\Desktop\\ComputationalPhysicsMaster\\Code\\OrbitalNeuralMethods`\n"
     ]
    }
   ],
   "source": [
    "using Pkg; Pkg.activate(\"C:\\\\Users\\\\KarlH\\\\Desktop\\\\ComputationalPhysicsMaster\\\\Code\\\\OrbitalNeuralMethods\")\n",
    "using Revise\n",
    "using OrbitalNeuralMethods\n",
    "import OrbitalNeuralMethods as onm"
   ]
  },
  {
   "cell_type": "code",
   "execution_count": 2,
   "metadata": {},
   "outputs": [],
   "source": [
    "import Random\n",
    "rng = Random.MersenneTwister();"
   ]
  },
  {
   "cell_type": "code",
   "execution_count": 3,
   "metadata": {},
   "outputs": [
    {
     "data": {
      "text/plain": [
       "4.466761475079295"
      ]
     },
     "execution_count": 3,
     "metadata": {},
     "output_type": "execute_result"
    }
   ],
   "source": [
    "n = 4\n",
    "ω = 0.25\n",
    "ham = HOCoulomb(ω, shielding = 0.25);\n",
    "\n",
    "l = 10\n",
    "basis = SpinBasis(HOBasis(l, ω))\n",
    "grid = [x for x in range(-10, stop = 10, length = 2001)]\n",
    "system = System(n, basis, grid, ham);\n",
    "\n",
    "mixer = Alpha(0.5)\n",
    "rhf = RHF(system, mixer);\n",
    "rhf = compute_ground_state!(rhf, max_iter = 100, tol = 1e-10, verbose=0);\n",
    "energy(rhf)"
   ]
  },
  {
   "cell_type": "code",
   "execution_count": 4,
   "metadata": {},
   "outputs": [],
   "source": [
    "slater = Slater(rhf);"
   ]
  },
  {
   "cell_type": "code",
   "execution_count": 7,
   "metadata": {},
   "outputs": [
    {
     "data": {
      "text/plain": [
       "energy_block (generic function with 1 method)"
      ]
     },
     "execution_count": 7,
     "metadata": {},
     "output_type": "execute_result"
    }
   ],
   "source": [
    "function energy_opt(wf, optimizer)\n",
    "    ham = HOCoulomb(0.25, shielding = 0.25);\n",
    "\n",
    "    metro = Importance(equils = 1e4, samples = 1e6, step = 0.01);\n",
    "    t = @elapsed wf_final, wf_opt, grad_results = optimize(wf, ham, metro, optimizer, nthreads = 12, verbose = true);\n",
    "    println(\"\\nGradient time: $(t) s\")\n",
    "    return wf_final, wf_opt\n",
    "end\n",
    "\n",
    "function energy_block(wf)\n",
    "    samples_b = 2^23\n",
    "    metro_b = Importance(equils = 1e6, samples = samples_b, step = 0.01);\n",
    "    t = @elapsed result = blocking(wf, ham, metro_b, nthreads = 12);\n",
    "    digits = Integer(-floor(log10(result.E_err)))\n",
    "    print(\"$(round(result.E, digits=digits)) ± $(round(result.E_err, digits=digits)), $(round(result.E - 0.8247, digits=digits))\")\n",
    "    println(\"\\nBlocking time: $(t) s\")\n",
    "end"
   ]
  },
  {
   "cell_type": "code",
   "execution_count": 12,
   "metadata": {},
   "outputs": [
    {
     "name": "stdout",
     "output_type": "stream",
     "text": [
      "E = 4.428383 iter = 100/100                                      \n",
      "Gradient time: 114.6110682 s\n"
     ]
    }
   ],
   "source": [
    "nn = NeuralNetwork([Dense(64), Tanh, Dense(1), Exp], n=n, rng = rng);\n",
    "wf = SlaterNN(slater, nn);\n",
    "optimizer = ADAM(wf, lr = 0.001, max_iter = 100, tol = 1e-6);\n",
    "wf8_final, wf8_opt = energy_opt(wf, optimizer);"
   ]
  },
  {
   "cell_type": "code",
   "execution_count": 13,
   "metadata": {},
   "outputs": [
    {
     "name": "stdout",
     "output_type": "stream",
     "text": [
      "5.3 ± 0.3, 4.5\n",
      "Blocking time: 12.2106018 s\n",
      "4.8 ± 0.2, 4.0\n",
      "Blocking time: 12.2426715 s\n"
     ]
    }
   ],
   "source": [
    "energy_block(wf8_final);\n",
    "energy_block(wf8_opt);"
   ]
  },
  {
   "cell_type": "code",
   "execution_count": null,
   "metadata": {},
   "outputs": [],
   "source": []
  }
 ],
 "metadata": {
  "kernelspec": {
   "display_name": "Julia (12 threads) 1.8.1",
   "language": "julia",
   "name": "julia-(12-threads)-1.8"
  },
  "language_info": {
   "file_extension": ".jl",
   "mimetype": "application/julia",
   "name": "julia",
   "version": "1.8.1"
  },
  "orig_nbformat": 4
 },
 "nbformat": 4,
 "nbformat_minor": 2
}
