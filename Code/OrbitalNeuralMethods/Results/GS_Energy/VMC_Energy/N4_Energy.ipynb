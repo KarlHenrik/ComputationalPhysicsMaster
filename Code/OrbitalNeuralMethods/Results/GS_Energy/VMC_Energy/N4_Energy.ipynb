{
 "cells": [
  {
   "cell_type": "code",
   "execution_count": 2,
   "metadata": {},
   "outputs": [
    {
     "name": "stderr",
     "output_type": "stream",
     "text": [
      "\u001b[32m\u001b[1m  Activating\u001b[22m\u001b[39m project at `C:\\Users\\KarlH\\Desktop\\ComputationalPhysicsMaster\\Code\\OrbitalNeuralMethods`\n"
     ]
    }
   ],
   "source": [
    "using Pkg; Pkg.activate(\"C:\\\\Users\\\\KarlH\\\\Desktop\\\\ComputationalPhysicsMaster\\\\Code\\\\OrbitalNeuralMethods\")\n",
    "using Revise\n",
    "using OrbitalNeuralMethods"
   ]
  },
  {
   "cell_type": "code",
   "execution_count": 3,
   "metadata": {},
   "outputs": [],
   "source": [
    "import Random\n",
    "rng = Random.MersenneTwister();"
   ]
  },
  {
   "cell_type": "code",
   "execution_count": 85,
   "metadata": {},
   "outputs": [
    {
     "data": {
      "text/plain": [
       "4.466761475079295"
      ]
     },
     "execution_count": 85,
     "metadata": {},
     "output_type": "execute_result"
    }
   ],
   "source": [
    "n = 4\n",
    "ω = 0.25\n",
    "ham = HOCoulomb(ω, shielding = 0.25);\n",
    "#ham = HarmonicOscillator(ω)\n",
    "\n",
    "l = 10\n",
    "basis = SpinBasis(HOBasis(l, ω))\n",
    "grid = [x for x in range(-10, stop = 10, length = 2001)]\n",
    "system = System(n, basis, grid, ham);\n",
    "\n",
    "mixer = Alpha(0.5)\n",
    "rhf = RHF(system, mixer);\n",
    "rhf = compute_ground_state!(rhf, max_iter = 1000, tol = 1e-10, verbose=0);\n",
    "energy(rhf)"
   ]
  },
  {
   "cell_type": "code",
   "execution_count": 86,
   "metadata": {},
   "outputs": [],
   "source": [
    "slater = Slater(rhf);"
   ]
  },
  {
   "cell_type": "code",
   "execution_count": 87,
   "metadata": {},
   "outputs": [
    {
     "data": {
      "text/plain": [
       "energy_block (generic function with 1 method)"
      ]
     },
     "execution_count": 87,
     "metadata": {},
     "output_type": "execute_result"
    }
   ],
   "source": [
    "function energy_opt(wf, optimizer)\n",
    "    ham = HOCoulomb(ω, shielding = 0.25);\n",
    "\n",
    "    metro = Importance(equils = 1e4, samples = 1e5, step = 0.01);\n",
    "    t = @elapsed wf, grad_results = optimize(wf, ham, metro, optimizer, nthreads = 12, verbose = true);\n",
    "    println(\"\\nGradient time: $(t) s\")\n",
    "    return wf\n",
    "end\n",
    "\n",
    "function energy_block(wf)\n",
    "    ham = HOCoulomb(ω, shielding = 0.25);\n",
    "    samples_b = 2^22\n",
    "    metro_b = Importance(equils = 1e6, samples = samples_b, step = 0.01);\n",
    "    t = @elapsed result = blocking(wf, ham, metro_b, nthreads = 12);\n",
    "    digits = Integer(-floor(log10(result.E_err)))\n",
    "    print(\"$(round(result.E, digits=digits)) ± $(round(result.E_err, digits=digits)), $(round(result.E - 3.7871, digits=digits))\")\n",
    "    println(\"\\nBlocking time: $(t) s\")\n",
    "end"
   ]
  },
  {
   "cell_type": "code",
   "execution_count": 89,
   "metadata": {},
   "outputs": [
    {
     "name": "stdout",
     "output_type": "stream",
     "text": [
      "E = 4.615317 iter = 50/50                                      \n",
      "Gradient time: 7.8776068 s\n",
      "5.1 ± 0.3, 1.3\n",
      "Blocking time: 7.9691538 s\n"
     ]
    }
   ],
   "source": [
    "nn = NeuralNetwork([Dense(32), Tanh, Dense(8), Tanh, Dense(1), Exp], n=n, rng = rng);\n",
    "wf = SlaterNN(slater, nn);\n",
    "optimizer = ADAM(wf, lr = 0.001, max_iter = 50, tol = 1e-6);\n",
    "wf = energy_opt(wf, optimizer);\n",
    "energy_block(wf);"
   ]
  },
  {
   "cell_type": "code",
   "execution_count": 82,
   "metadata": {},
   "outputs": [
    {
     "name": "stdout",
     "output_type": "stream",
     "text": [
      "E = 1.0 iter = 14/50                                      \n",
      "Convergence reached, final norm of gradient was 9.930365308402076e-7\n",
      "\n",
      "Gradient time: 3.6214994 s\n"
     ]
    }
   ],
   "source": [
    "nn = NeuralNetwork([Dense(32), Tanh, Dense(32), Tanh, Dense(1), Exp], n=n, rng = rng);\n",
    "wf = SlaterNN(slater, nn);\n",
    "optimizer = ADAM(wf, lr = 0.01, max_iter = 50, tol = 1e-6);\n",
    "#optimizer = GradientDescent(lr = 0.01, max_iter = 50, tol = 1e-6);\n",
    "wf = energy_opt(wf, optimizer);\n",
    "#energy_block(wf);"
   ]
  },
  {
   "cell_type": "code",
   "execution_count": 70,
   "metadata": {},
   "outputs": [
    {
     "name": "stdout",
     "output_type": "stream",
     "text": [
      "11.0 ± 2.0, 7.0\n",
      "Blocking time: 12.4945917 s\n"
     ]
    }
   ],
   "source": [
    "energy_block(wf);"
   ]
  },
  {
   "cell_type": "code",
   "execution_count": 88,
   "metadata": {},
   "outputs": [
    {
     "name": "stdout",
     "output_type": "stream",
     "text": [
      "Iteration 18: E = 3.798030950625483                            Iteration 19: E = 3.798031243749311\n"
     ]
    }
   ],
   "source": [
    "ccsd = CCSD(System(rhf))\n",
    "compute_ground_state!(ccsd, max_iter = 100, tol = 1e-6, verbose = 3);"
   ]
  },
  {
   "cell_type": "code",
   "execution_count": 59,
   "metadata": {},
   "outputs": [
    {
     "data": {
      "text/plain": [
       "0.2374833331007941"
      ]
     },
     "execution_count": 59,
     "metadata": {},
     "output_type": "execute_result"
    }
   ],
   "source": [
    "(4.7 - 3.798030950625483       ) / 3.798030950625483   "
   ]
  }
 ],
 "metadata": {
  "kernelspec": {
   "display_name": "Julia (12 threads) 1.8.1",
   "language": "julia",
   "name": "julia-(12-threads)-1.8"
  },
  "language_info": {
   "file_extension": ".jl",
   "mimetype": "application/julia",
   "name": "julia",
   "version": "1.8.1"
  },
  "orig_nbformat": 4
 },
 "nbformat": 4,
 "nbformat_minor": 2
}
