{
 "cells": [
  {
   "cell_type": "code",
   "execution_count": 1,
   "metadata": {},
   "outputs": [
    {
     "name": "stderr",
     "output_type": "stream",
     "text": [
      "\u001b[32m\u001b[1m  Activating\u001b[22m\u001b[39m project at `C:\\Users\\KarlH\\Desktop\\ComputationalPhysicsMaster\\Code\\OrbitalNeuralMethods`\n"
     ]
    }
   ],
   "source": [
    "using Pkg; Pkg.activate(\"C:\\\\Users\\\\KarlH\\\\Desktop\\\\ComputationalPhysicsMaster\\\\Code\\\\OrbitalNeuralMethods\")\n",
    "using Revise\n",
    "using OrbitalNeuralMethods"
   ]
  },
  {
   "cell_type": "code",
   "execution_count": 2,
   "metadata": {},
   "outputs": [],
   "source": [
    "import Random\n",
    "rng = Random.MersenneTwister();"
   ]
  },
  {
   "cell_type": "code",
   "execution_count": 3,
   "metadata": {},
   "outputs": [
    {
     "data": {
      "text/plain": [
       "9.568072208063928"
      ]
     },
     "execution_count": 3,
     "metadata": {},
     "output_type": "execute_result"
    }
   ],
   "source": [
    "n = 6\n",
    "ω = 0.25\n",
    "ham = HOCoulomb(ω, shielding = 0.25);\n",
    "\n",
    "l = 20\n",
    "basis = SpinBasis(HOBasis(l, ω))\n",
    "grid = [x for x in range(-10, stop = 10, length = 2001)]\n",
    "system = System(n, basis, grid, ham);\n",
    "\n",
    "mixer = Alpha(0.5)\n",
    "rhf = RHF(system, mixer);\n",
    "rhf = compute_ground_state!(rhf, max_iter = 1000, tol = 1e-10, verbose=0);\n",
    "energy(rhf)"
   ]
  },
  {
   "cell_type": "code",
   "execution_count": 65,
   "metadata": {},
   "outputs": [],
   "source": [
    "metro = Importance(equils = 1e4, samples = 1e5, step = 0.01);\n",
    "#metro = Metropolis(equils = 1e4, samples = samples, step = 0.1);"
   ]
  },
  {
   "cell_type": "code",
   "execution_count": 53,
   "metadata": {},
   "outputs": [],
   "source": [
    "nn = NeuralNetwork([Dense(60), Tanh, Dense(12), Tanh, Dense(1), Exp], n=n, rng = rng);\n",
    "slater = Slater(rhf);\n",
    "wf = SlaterNN(slater, nn);\n",
    "optimizer = ADAM(wf, lr = 0.01, max_iter = 10, tol = 1e-6);"
   ]
  },
  {
   "cell_type": "code",
   "execution_count": 66,
   "metadata": {},
   "outputs": [
    {
     "name": "stdout",
     "output_type": "stream",
     "text": [
      "E = 9.236 iter = 10/10                                      \n",
      "No convergence reached, final norm of gradient was 0.0899059505915135\n",
      "  2.851424 seconds (35.64 k allocations: 26.995 MiB)\n"
     ]
    }
   ],
   "source": [
    "@time wf, grad_results = optimize(wf, ham, metro, optimizer, nthreads = 12, verbose = true);"
   ]
  },
  {
   "cell_type": "code",
   "execution_count": 67,
   "metadata": {},
   "outputs": [
    {
     "name": "stdout",
     "output_type": "stream",
     "text": [
      " 25.988489 seconds (9.12 k allocations: 1.377 GiB, 1.16% gc time, 0.04% compilation time)\n"
     ]
    },
    {
     "data": {
      "text/plain": [
       "(9.549128323447214, 16777216)"
      ]
     },
     "execution_count": 67,
     "metadata": {},
     "output_type": "execute_result"
    }
   ],
   "source": [
    "samples_b = 2^24\n",
    "metro_b = Importance(equils = 1e5, samples = samples_b, step = 0.01);\n",
    "@time result = blocking(wf, ham, metro_b, nthreads = 12);\n",
    "result.E, samples_b"
   ]
  },
  {
   "cell_type": "code",
   "execution_count": null,
   "metadata": {},
   "outputs": [],
   "source": []
  }
 ],
 "metadata": {
  "kernelspec": {
   "display_name": "Julia 1.8 (12 threads) 1.8.1",
   "language": "julia",
   "name": "julia-1.8-(12-threads)-1.8"
  },
  "language_info": {
   "file_extension": ".jl",
   "mimetype": "application/julia",
   "name": "julia",
   "version": "1.8.1"
  },
  "orig_nbformat": 4,
  "vscode": {
   "interpreter": {
    "hash": "de316f2c24380e3fecce3a6dacf634d33ca634cf357878b47446323d25647e47"
   }
  }
 },
 "nbformat": 4,
 "nbformat_minor": 2
}
