{
 "cells": [
  {
   "cell_type": "code",
   "execution_count": 2,
   "metadata": {},
   "outputs": [
    {
     "name": "stderr",
     "output_type": "stream",
     "text": [
      "\u001b[32m\u001b[1m  Activating\u001b[22m\u001b[39m project at `C:\\Users\\KarlH\\Desktop\\ComputationalPhysicsMaster\\Code\\OrbitalNeuralMethods`\n"
     ]
    }
   ],
   "source": [
    "using Pkg; Pkg.activate(\"C:\\\\Users\\\\KarlH\\\\Desktop\\\\ComputationalPhysicsMaster\\\\Code\\\\OrbitalNeuralMethods\")\n",
    "using Revise\n",
    "using OrbitalNeuralMethods\n",
    "import OrbitalNeuralMethods as onm"
   ]
  },
  {
   "cell_type": "code",
   "execution_count": 3,
   "metadata": {},
   "outputs": [],
   "source": [
    "n = 2\n",
    "ω = 0.25\n",
    "ham = HOCoulomb(ω, shielding = 0.25);\n",
    "grid = [x for x in range(-10, stop = 10, length = 2001)];"
   ]
  },
  {
   "cell_type": "code",
   "execution_count": 6,
   "metadata": {},
   "outputs": [
    {
     "name": "stdout",
     "output_type": "stream",
     "text": [
      "RHF & 10 & 1.1796 & 0.4303 & 0.0 \\\\\n",
      "\\hline\n",
      "RHF & 20 & 1.1796 & 0.4303 & 0.0 \\\\\n",
      "\\hline\n",
      "RHF & 40 & 1.1796 & 0.4303 & 0.06 \\\\\n",
      "\\hline\n"
     ]
    }
   ],
   "source": [
    "mixer = Alpha(1)\n",
    "\n",
    "for l in [10, 20, 40]\n",
    "    basis = SpinBasis(HOBasis(l, ω))\n",
    "    system = System(n, basis, grid, ham);\n",
    "\n",
    "    rhf = RHF(system, mixer);\n",
    "    t = @elapsed compute_ground_state!(rhf, max_iter = 100, tol = 1e-10, verbose=0);\n",
    "    e = energy(rhf)\n",
    "    print(\"RHF & $l & $(round(e, digits=4)) & $(round( (e - 0.8247)/0.8247 ,digits=4)) & $(round(t, digits=2)) \\\\\\\\\\n\\\\hline\\n\")\n",
    "end"
   ]
  },
  {
   "cell_type": "code",
   "execution_count": 7,
   "metadata": {},
   "outputs": [
    {
     "name": "stdout",
     "output_type": "stream",
     "text": [
      "HF & 10 & 0.845 & 0.0247 & 0.53 \\\\\n",
      "\\hline\n",
      "HF & 20 & 0.845 & 0.0247 & 10.95 \\\\\n",
      "\\hline\n",
      "HF & 40 & 1.0624 & 0.2883 & 10.38 \\\\\n",
      "\\hline\n"
     ]
    }
   ],
   "source": [
    "mixer = Alpha(1)\n",
    "\n",
    "for l in [10, 20, 40]\n",
    "    basis = SpinBasis(HOBasis(l, ω))\n",
    "    system = System(n, basis, grid, ham);\n",
    "\n",
    "    hf = HF(system, mixer);\n",
    "    t = @elapsed compute_ground_state!(hf, max_iter = 10000, tol = 1e-10, verbose=0);\n",
    "    e = energy(hf)\n",
    "    print(\"HF & $l & $(round(e, digits=4)) & $(round( (e - 0.8247)/0.8247 ,digits=4)) & $(round(t, digits=2)) \\\\\\\\\\n\\\\hline\\n\")\n",
    "end"
   ]
  },
  {
   "cell_type": "code",
   "execution_count": 26,
   "metadata": {},
   "outputs": [],
   "source": [
    "l = 40\n",
    "basis = SpinBasis(HOBasis(l, ω))\n",
    "system = System(n, basis, grid, ham);\n",
    "\n",
    "hf = HF(system);\n",
    "t = @elapsed compute_ground_state!(hf, max_iter = 100, tol = 1e-14, verbose=0);\n",
    "e = energy(hf)"
   ]
  },
  {
   "cell_type": "code",
   "execution_count": 19,
   "metadata": {},
   "outputs": [
    {
     "name": "stdout",
     "output_type": "stream",
     "text": [
      "Did not converge after 100 iterations. Final energy change was 1.0804241035167195e-7\n"
     ]
    },
    {
     "data": {
      "text/plain": [
       "0.8450452786123814"
      ]
     },
     "execution_count": 19,
     "metadata": {},
     "output_type": "execute_result"
    }
   ],
   "source": [
    "t += @elapsed compute_ground_state!(hf, max_iter = 100, tol = 1e-14, verbose=0);\n",
    "e = energy(hf)"
   ]
  },
  {
   "cell_type": "code",
   "execution_count": 20,
   "metadata": {},
   "outputs": [
    {
     "data": {
      "text/plain": [
       "660.7431546"
      ]
     },
     "execution_count": 20,
     "metadata": {},
     "output_type": "execute_result"
    }
   ],
   "source": [
    "t"
   ]
  },
  {
   "cell_type": "code",
   "execution_count": null,
   "metadata": {},
   "outputs": [],
   "source": [
    "print(\"HF & $l & $(round(e, digits=4)) & $(round( (e - 0.8247)/0.8247 ,digits=4)) & $(round(t, digits=2)) \\\\\\\\\\n\\\\hline\\n\")"
   ]
  },
  {
   "cell_type": "code",
   "execution_count": null,
   "metadata": {},
   "outputs": [],
   "source": [
    "HF & 10 & 0.845 & 0.0247 & 0.54 \\\\\n",
    "\\hline\n",
    "HF & 20 & 0.845 & 0.0247 & 10.25 \\\\\n",
    "\\hline\n",
    "HF & 40 & 1.0624 & 0.2883 & 10.58 \\\\\n",
    "\\hline"
   ]
  },
  {
   "cell_type": "code",
   "execution_count": 9,
   "metadata": {},
   "outputs": [
    {
     "name": "stdout",
     "output_type": "stream",
     "text": [
      "CCD & 10 & 0.8384 & 0.0166 & 0.02 \\\\\n",
      "\\hline\n",
      "CCD & 20 & 0.8376 & 0.0157 & 0.34 \\\\\n",
      "\\hline\n",
      "CCD & 40 & 0.8374 & 0.0154 & 12.61 \\\\\n",
      "\\hline\n"
     ]
    }
   ],
   "source": [
    "mixer = Alpha(1)\n",
    "\n",
    "for l in [10, 20, 40]\n",
    "    basis = SpinBasis(HOBasis(l, ω))\n",
    "    system = System(n, basis, grid, ham);\n",
    "\n",
    "    rhf = RHF(system, mixer);\n",
    "    compute_ground_state!(rhf, max_iter = 100, tol = 1e-10, verbose=0);\n",
    "    rhf_sys = System(rhf)\n",
    "    ccd = CCD(rhf_sys)\n",
    "    t = @elapsed compute_ground_state!(ccd, max_iter = 10000, tol = 1e-10, verbose=0);\n",
    "    e = energy(ccd)\n",
    "    print(\"CCD & $l & $(round(e, digits=4)) & $(round( (e - 0.8247)/0.8247 ,digits=4)) & $(round(t, digits=2)) \\\\\\\\\\n\\\\hline\\n\")\n",
    "end"
   ]
  },
  {
   "cell_type": "code",
   "execution_count": 11,
   "metadata": {},
   "outputs": [
    {
     "name": "stdout",
     "output_type": "stream",
     "text": [
      "CCSD & 10 & 0.82532 & 0.0008 & 0.14 \\\\\n",
      "\\hline\n",
      "CCSD & 20 & 0.82498 & 0.0003 & 4.9 \\\\\n",
      "\\hline\n",
      "CCSD & 40 & 0.82488 & 0.0002 & 142.96 \\\\\n",
      "\\hline\n"
     ]
    }
   ],
   "source": [
    "mixer = Alpha(1)\n",
    "\n",
    "for l in [10, 20, 40]\n",
    "    basis = SpinBasis(HOBasis(l, ω))\n",
    "    system = System(n, basis, grid, ham);\n",
    "\n",
    "    rhf = RHF(system, mixer);\n",
    "    compute_ground_state!(rhf, max_iter = 100, tol = 1e-10, verbose=0);\n",
    "    rhf_sys = System(rhf)\n",
    "    ccsd = CCSD(rhf_sys)\n",
    "    t = @elapsed compute_ground_state!(ccsd, max_iter = 10000, tol = 1e-10, verbose=0);\n",
    "    e = energy(ccsd)\n",
    "    print(\"CCSD & $l & $(round(e, digits=5)) & $(round( (e - 0.8247)/0.8247 ,digits=4)) & $(round(t, digits=2)) \\\\\\\\\\n\\\\hline\\n\")\n",
    "end"
   ]
  },
  {
   "cell_type": "code",
   "execution_count": null,
   "metadata": {},
   "outputs": [],
   "source": []
  }
 ],
 "metadata": {
  "kernelspec": {
   "display_name": "Julia (12 threads) 1.8.1",
   "language": "julia",
   "name": "julia-(12-threads)-1.8"
  },
  "language_info": {
   "file_extension": ".jl",
   "mimetype": "application/julia",
   "name": "julia",
   "version": "1.8.1"
  },
  "orig_nbformat": 4
 },
 "nbformat": 4,
 "nbformat_minor": 2
}
