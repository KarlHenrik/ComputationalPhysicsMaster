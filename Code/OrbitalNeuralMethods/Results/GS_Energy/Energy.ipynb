{
 "cells": [
  {
   "cell_type": "code",
   "execution_count": 2,
   "id": "fca81b31-7171-49b7-9ff2-aff47d9cdcc9",
   "metadata": {},
   "outputs": [
    {
     "name": "stderr",
     "output_type": "stream",
     "text": [
      "\u001b[32m\u001b[1m  Activating\u001b[22m\u001b[39m project at `C:\\Users\\KarlH\\Desktop\\ComputationalPhysicsMaster\\Code\\OrbitalNeuralMethods`\n",
      "┌ Info: Precompiling OrbitalNeuralMethods [6de8678a-dd1c-461e-a987-24da1d9562b4]\n",
      "└ @ Base loading.jl:1662\n"
     ]
    }
   ],
   "source": [
    "using Pkg; Pkg.activate(\"C:\\\\Users\\\\KarlH\\\\Desktop\\\\ComputationalPhysicsMaster\\\\Code\\\\OrbitalNeuralMethods\")\n",
    "using Revise\n",
    "using OrbitalNeuralMethods"
   ]
  },
  {
   "cell_type": "code",
   "execution_count": 9,
   "metadata": {},
   "outputs": [
    {
     "data": {
      "text/plain": [
       "setup_CCSD (generic function with 1 method)"
      ]
     },
     "execution_count": 9,
     "metadata": {},
     "output_type": "execute_result"
    }
   ],
   "source": [
    "function setup_CCSD(;n, l)\n",
    "    ω = 0.25\n",
    "    basis = SpinBasis(HOBasis(l, ω))\n",
    "\n",
    "    V = HOCoulomb(ω, shielding = 0.25)\n",
    "    grid = [x for x in range(-10, stop = 10, length = 2001)]\n",
    "    system = System(n, basis, grid, V);\n",
    "\n",
    "    rhf = RHF(system)\n",
    "    t = @elapsed compute_ground_state!(rhf);\n",
    "    rhf_system = System(rhf)\n",
    "    println(\"Reference energy: $(reference_energy(rhf_system)), $(t)s\")\n",
    "\n",
    "    return CCSD(rhf_system)\n",
    "end"
   ]
  },
  {
   "cell_type": "markdown",
   "metadata": {},
   "source": [
    "### n = 2, l = 40"
   ]
  },
  {
   "cell_type": "code",
   "execution_count": 41,
   "metadata": {},
   "outputs": [
    {
     "name": "stdout",
     "output_type": "stream",
     "text": [
      "Reference energy: 1.1795769050170013, 0.2389418s\n",
      "Iteration 14: E = 0.824880666557448                            Iteration 15: E = 0.8248806666318382\n",
      "138.987020 seconds (2.58 k allocations: 17.997 MiB)\n"
     ]
    }
   ],
   "source": [
    "ccsd = setup_CCSD(n = 2, l = 40)\n",
    "@time compute_ground_state!(ccsd, max_iter = 100, tol = 1e-10, verbose = 3);"
   ]
  },
  {
   "cell_type": "markdown",
   "metadata": {},
   "source": [
    "### n = 2, Pushing the limit"
   ]
  },
  {
   "cell_type": "code",
   "execution_count": 6,
   "metadata": {},
   "outputs": [
    {
     "name": "stdout",
     "output_type": "stream",
     "text": [
      "Reference energy: 1.1795769050170013, 0.2929056s\n"
     ]
    }
   ],
   "source": [
    "n = 2\n",
    "ω = 0.25\n",
    "basis = SpinBasis(HOBasis(40, ω))\n",
    "\n",
    "V = HOCoulomb(ω, shielding = 0.25)\n",
    "grid = [x for x in range(-10, stop = 10, length = 2001)]\n",
    "system = System(n, basis, grid, V);\n",
    "\n",
    "rhf = RHF(system)\n",
    "t = @elapsed compute_ground_state!(rhf);\n",
    "rhf_system = System(rhf)\n",
    "println(\"Reference energy: $(reference_energy(rhf_system)), $(t)s\")\n",
    "\n",
    "ccsd = CCSD(rhf_system);"
   ]
  },
  {
   "cell_type": "code",
   "execution_count": 7,
   "metadata": {},
   "outputs": [
    {
     "name": "stdout",
     "output_type": "stream",
     "text": [
      "Iteration 14: E = 0.824880666557448                            Iteration 15: E = 0.8248806666318382\n",
      "140.657994 seconds (2.37 k allocations: 17.980 MiB)\n"
     ]
    }
   ],
   "source": [
    "@time compute_ground_state!(ccsd, max_iter = 100, tol = 1e-8, verbose = 3);"
   ]
  },
  {
   "cell_type": "markdown",
   "metadata": {},
   "source": [
    "### n = 4, l = 20"
   ]
  },
  {
   "cell_type": "code",
   "execution_count": 8,
   "metadata": {},
   "outputs": [
    {
     "ename": "LoadError",
     "evalue": "UndefVarError: setup_CCSD not defined",
     "output_type": "error",
     "traceback": [
      "UndefVarError: setup_CCSD not defined",
      "",
      "Stacktrace:",
      " [1] top-level scope",
      "   @ In[8]:1",
      " [2] eval",
      "   @ .\\boot.jl:368 [inlined]",
      " [3] include_string(mapexpr::typeof(REPL.softscope), mod::Module, code::String, filename::String)",
      "   @ Base .\\loading.jl:1428"
     ]
    }
   ],
   "source": [
    "ccsd = setup_CCSD(n = 4, l = 20)\n",
    "@time compute_ground_state!(ccsd, max_iter = 100, tol = 1e-5, verbose = 3);"
   ]
  },
  {
   "cell_type": "markdown",
   "metadata": {},
   "source": [
    "### n = 4, l = 30"
   ]
  },
  {
   "cell_type": "code",
   "execution_count": null,
   "metadata": {},
   "outputs": [],
   "source": [
    "ccsd = setup_CCSD(n = 4, l = 30)\n",
    "@time compute_ground_state!(ccsd, max_iter = 100, tol = 1e-5, verbose = 1);"
   ]
  },
  {
   "cell_type": "markdown",
   "metadata": {},
   "source": [
    "### n = 6, l = 20"
   ]
  },
  {
   "cell_type": "code",
   "execution_count": 3,
   "metadata": {},
   "outputs": [
    {
     "name": "stdout",
     "output_type": "stream",
     "text": [
      "Reference energy: 9.568072207864613, 0.079342s\n",
      "Iteration 11: E = 8.650276565337458                           Iteration 12: E = 8.65027801237731\n",
      "166.314720 seconds (1.26 M allocations: 91.265 MiB, 0.70% compilation time)\n"
     ]
    }
   ],
   "source": [
    "ccsd = setup_CCSD(n = 6, l = 20)\n",
    "@time compute_ground_state!(ccsd, max_iter = 100, tol = 1e-5, verbose = 3);"
   ]
  },
  {
   "cell_type": "markdown",
   "metadata": {},
   "source": [
    "### n = 10, l = 20"
   ]
  },
  {
   "cell_type": "code",
   "execution_count": 10,
   "metadata": {},
   "outputs": [
    {
     "name": "stdout",
     "output_type": "stream",
     "text": [
      "Reference energy: 24.337413684896188, 0.0482725s\n"
     ]
    }
   ],
   "source": [
    "ccsd = setup_CCSD(n = 10, l = 20);"
   ]
  },
  {
   "cell_type": "code",
   "execution_count": 5,
   "metadata": {},
   "outputs": [
    {
     "name": "stdout",
     "output_type": "stream",
     "text": [
      "Reference energy: 24.337413684896188, 0.0495941s\n",
      "Iteration 1: E = 23.44051308469281\n",
      "Iteration 2: E = 23.196720866625846\n",
      "Iteration 3: E = 23.181728554842845\n",
      "Iteration 4: E = 23.158023635125225\n",
      "Iteration 5: E = 23.16019526801991\n",
      "Iteration 6: E = 23.156960346637355\n",
      "Iteration 7: E = 23.15363858108325\n",
      "Iteration 8: E = 23.152334133068422\n",
      "Iteration 9: E = 23.15104910518121\n",
      "Iteration 10: E = 23.150258989181662\n",
      "Iteration 11: E = 23.15034953060615\n",
      "Iteration 12: E = 23.150082667222264\n",
      "Iteration 13: E = 23.14993741456003\n",
      "Iteration 14: E = 23.14990102337929\n",
      "Iteration 15: E = 23.149925697839475\n",
      "Iteration 16: E = 23.149920010404056\n",
      "1006.668355 seconds (1.26 M allocations: 177.070 MiB, 0.13% compilation time)\n"
     ]
    }
   ],
   "source": [
    "ccsd = setup_CCSD(n = 10, l = 20)\n",
    "@time compute_ground_state!(ccsd, max_iter = 100, tol = 1e-5, verbose = 1);"
   ]
  },
  {
   "cell_type": "markdown",
   "metadata": {},
   "source": [
    "### n = 20, l = 20"
   ]
  },
  {
   "cell_type": "code",
   "execution_count": 6,
   "metadata": {},
   "outputs": [
    {
     "name": "stdout",
     "output_type": "stream",
     "text": [
      "Reference energy: 77.48540175946253, 0.0390816s\n",
      "Iteration 1: E = 76.52369587161104\n",
      "Iteration 2: E = 76.45095686896869\n",
      "Iteration 3: E = 76.44390772575663\n",
      "Iteration 4: E = 76.44125796736489\n",
      "Iteration 5: E = 76.43845379973915\n",
      "Iteration 6: E = 76.43646720154689\n",
      "Iteration 7: E = 76.43591315501617\n",
      "Iteration 8: E = 76.43567745297233\n",
      "Iteration 9: E = 76.43558004214351\n",
      "Iteration 10: E = 76.43556744660732\n",
      "Iteration 11: E = 76.43556076286269\n",
      "2102.745465 seconds (2.06 k allocations: 322.887 MiB, 0.01% gc time)\n"
     ]
    }
   ],
   "source": [
    "ccsd = setup_CCSD(n = 20, l = 20)\n",
    "@time compute_ground_state!(ccsd, max_iter = 100, tol = 1e-5, verbose = 1);"
   ]
  },
  {
   "cell_type": "code",
   "execution_count": null,
   "metadata": {},
   "outputs": [],
   "source": []
  }
 ],
 "metadata": {
  "kernelspec": {
   "display_name": "Julia 1.8 (12 threads) 1.8.1",
   "language": "julia",
   "name": "julia-1.8-(12-threads)-1.8"
  },
  "language_info": {
   "file_extension": ".jl",
   "mimetype": "application/julia",
   "name": "julia",
   "version": "1.8.1"
  },
  "orig_nbformat": 4,
  "vscode": {
   "interpreter": {
    "hash": "de316f2c24380e3fecce3a6dacf634d33ca634cf357878b47446323d25647e47"
   }
  }
 },
 "nbformat": 4,
 "nbformat_minor": 2
}
