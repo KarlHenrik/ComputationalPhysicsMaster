{
 "cells": [
  {
   "cell_type": "code",
   "execution_count": 1,
   "id": "deb829de-2bdd-4a02-92eb-5c41fc981753",
   "metadata": {},
   "outputs": [
    {
     "name": "stderr",
     "output_type": "stream",
     "text": [
      "\u001b[32m\u001b[1m  Activating\u001b[22m\u001b[39m project at `C:\\Users\\KarlH\\Desktop\\ComputationalPhysicsMaster\\Code\\OrbitalNeuralMethods`\n",
      "┌ Info: Precompiling OrbitalNeuralMethods [6de8678a-dd1c-461e-a987-24da1d9562b4]\n",
      "└ @ Base loading.jl:1662\n"
     ]
    }
   ],
   "source": [
    "using Pkg; Pkg.activate(\"C:\\\\Users\\\\KarlH\\\\Desktop\\\\ComputationalPhysicsMaster\\\\Code\\\\OrbitalNeuralMethods\")\n",
    "using Revise\n",
    "using OrbitalNeuralMethods"
   ]
  },
  {
   "cell_type": "markdown",
   "id": "8a0a372a-94ee-45e7-8411-c90e43bd2907",
   "metadata": {},
   "source": [
    "## HO Basis and Spatial System"
   ]
  },
  {
   "cell_type": "code",
   "execution_count": 19,
   "id": "058145b9-8de7-4d8e-b5c0-5fc80d084660",
   "metadata": {},
   "outputs": [],
   "source": [
    "l = 20\n",
    "ω = 0.25\n",
    "basis = SpinBasis(HOBasis(l, ω))\n",
    "\n",
    "n = 6\n",
    "V = HOCoulomb(ω, shielding = 0.25)\n",
    "grid = [x for x in range(-10, stop = 10, length = 1001)]\n",
    "system = System(n, basis, grid, V);"
   ]
  },
  {
   "cell_type": "code",
   "execution_count": 20,
   "id": "e1882dcf",
   "metadata": {},
   "outputs": [],
   "source": [
    "rhf = setup_RHF(system)\n",
    "compute_ground_state!(rhf);"
   ]
  },
  {
   "cell_type": "markdown",
   "id": "b7371935-6157-41e2-a12e-0933db28e622",
   "metadata": {
    "tags": []
   },
   "source": [
    "## CCSD"
   ]
  },
  {
   "cell_type": "code",
   "execution_count": 21,
   "id": "8a23ab21-21e4-465d-a847-e4ade544e213",
   "metadata": {},
   "outputs": [],
   "source": [
    "#ccsd = setup_CCSD(system);\n",
    "ccsd = setup_CCSD(System(rhf));\n",
    "@time compute_ground_state!(ccsd; max_iter = 1000, tol = 1e-10, verbose = 0);\n",
    "energy(ccsd)"
   ]
  },
  {
   "cell_type": "code",
   "execution_count": null,
   "id": "971379a9-4d0f-44b8-bdae-4d05f4e715ae",
   "metadata": {},
   "outputs": [],
   "source": []
  }
 ],
 "metadata": {
  "kernelspec": {
   "display_name": "Julia 1.8 (12 threads) 1.8.1",
   "language": "julia",
   "name": "julia-1.8-(12-threads)-1.8"
  },
  "language_info": {
   "file_extension": ".jl",
   "mimetype": "application/julia",
   "name": "julia",
   "version": "3.8.8"
  },
  "vscode": {
   "interpreter": {
    "hash": "de316f2c24380e3fecce3a6dacf634d33ca634cf357878b47446323d25647e47"
   }
  }
 },
 "nbformat": 4,
 "nbformat_minor": 5
}
