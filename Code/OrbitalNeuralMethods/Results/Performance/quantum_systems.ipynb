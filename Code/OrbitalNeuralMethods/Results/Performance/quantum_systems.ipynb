{
 "cells": [
  {
   "cell_type": "code",
   "execution_count": 3,
   "id": "2886f885-8996-4520-9f42-6d8dd7da8e83",
   "metadata": {},
   "outputs": [],
   "source": [
    "import time\n",
    "import quantum_systems as qs\n",
    "import matplotlib.pyplot as plt"
   ]
  },
  {
   "cell_type": "code",
   "execution_count": 4,
   "id": "0045e993-04dd-4b21-a1b0-ba0ad86cd8d1",
   "metadata": {},
   "outputs": [],
   "source": [
    "def system_timing(n, l_0):\n",
    "    grid_length = 10        # compute from x = -10 to x = 10 in 1D\n",
    "    num_grid_points = 2001\n",
    "    omega = 0.25            # strength of harmonic oscillator potential\n",
    "    \n",
    "    odho = qs.ODQD(l_0, grid_length, num_grid_points, a = 0.25, alpha = 1)\n",
    "    system = qs.GeneralOrbitalSystem(n = n, basis_set=odho)"
   ]
  },
  {
   "cell_type": "code",
   "execution_count": 6,
   "id": "236bbf39-fb10-42fa-b747-614056b6634d",
   "metadata": {},
   "outputs": [],
   "source": [
    "n = 2                   # number of particles\n",
    "times = []\n",
    "ls = [10, 15, 20, 25, 30, 40, 50, 60]\n",
    "\n",
    "for l in ls:\n",
    "    start = time.time()\n",
    "    system_timing(n, l)\n",
    "    end = time.time()\n",
    "    times.append(end-start)"
   ]
  },
  {
   "cell_type": "code",
   "execution_count": 9,
   "id": "1c54fa52-d4f0-41f0-8cc8-d00325152fff",
   "metadata": {},
   "outputs": [
    {
     "data": {
      "image/png": "[encoded data removed]",
      "text/plain": [
       "<Figure size 432x288 with 1 Axes>"
      ]
     },
     "metadata": {
      "needs_background": "light"
     },
     "output_type": "display_data"
    }
   ],
   "source": [
    "plt.plot(ls, times)\n",
    "plt.grid()\n",
    "plt.show()"
   ]
  },
  {
   "cell_type": "code",
   "execution_count": null,
   "id": "0e6c01fe-c8d4-4094-aa19-53ebee135fbf",
   "metadata": {},
   "outputs": [],
   "source": []
  }
 ],
 "metadata": {
  "kernelspec": {
   "display_name": "Python 3 (ipykernel)",
   "language": "python",
   "name": "python3"
  },
  "language_info": {
   "codemirror_mode": {
    "name": "ipython",
    "version": 3
   },
   "file_extension": ".py",
   "mimetype": "text/x-python",
   "name": "python",
   "nbconvert_exporter": "python",
   "pygments_lexer": "ipython3",
   "version": "3.7.4"
  }
 },
 "nbformat": 4,
 "nbformat_minor": 5
}
