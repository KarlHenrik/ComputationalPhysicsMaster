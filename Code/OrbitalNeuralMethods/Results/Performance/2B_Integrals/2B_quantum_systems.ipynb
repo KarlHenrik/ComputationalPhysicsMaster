{
 "cells": [
  {
   "cell_type": "code",
   "execution_count": 1,
   "id": "2886f885-8996-4520-9f42-6d8dd7da8e83",
   "metadata": {},
   "outputs": [],
   "source": [
    "import time\n",
    "import quantum_systems as qs\n",
    "import matplotlib.pyplot as plt"
   ]
  },
  {
   "cell_type": "code",
   "execution_count": 2,
   "id": "e805dfa8-22ce-4214-96ec-6cdc937e5b8f",
   "metadata": {},
   "outputs": [
    {
     "name": "stdout",
     "output_type": "stream",
     "text": [
      "@numba.njit(cache=True)\n",
      "def _compute_inner_integral(spf, l, num_grid_points, grid, alpha, a):\n",
      "    inner_integral = np.zeros((l, l, num_grid_points), dtype=np.complex128)\n",
      "\n",
      "    for i in range(num_grid_points):\n",
      "        coulomb = _shielded_coulomb(grid[i], grid, alpha, a)\n",
      "        for q in range(l):\n",
      "            for s in range(l):\n",
      "                inner_integral[q, s, i] = _trapz(\n",
      "                    np.conjugate(spf[q]) * coulomb * spf[s],\n",
      "                    grid,\n",
      "                )\n",
      "\n",
      "    return inner_integral\n",
      "\n"
     ]
    }
   ],
   "source": [
    "import inspect\n",
    "lines = inspect.getsource(qs.quantum_dots.one_dim.one_dim_qd._compute_inner_integral)\n",
    "print(lines)"
   ]
  },
  {
   "cell_type": "code",
   "execution_count": 3,
   "id": "0045e993-04dd-4b21-a1b0-ba0ad86cd8d1",
   "metadata": {},
   "outputs": [],
   "source": [
    "def system_timing(n, l_0):\n",
    "    grid_length = 10        # compute from x = -10 to x = 10 in 1D\n",
    "    num_grid_points = 2001\n",
    "    omega = 0.25            # strength of harmonic oscillator potential\n",
    "    \n",
    "    odho = qs.ODQD(l_0, grid_length, num_grid_points, a = 0.25, alpha = 1)\n",
    "    system = qs.GeneralOrbitalSystem(n = n, basis_set=odho)"
   ]
  },
  {
   "cell_type": "code",
   "execution_count": 10,
   "id": "236bbf39-fb10-42fa-b747-614056b6634d",
   "metadata": {},
   "outputs": [],
   "source": [
    "n = 2                   # number of particles\n",
    "times = []\n",
    "ls = [10, 15, 20, 25, 30, 40, 50, 60]\n",
    "\n",
    "for l in ls:\n",
    "    start = time.time()\n",
    "    system_timing(n, l)\n",
    "    end = time.time()\n",
    "    times.append(end-start)"
   ]
  },
  {
   "cell_type": "code",
   "execution_count": 14,
   "id": "4b71851e-572a-4265-b76b-2fa9673396b6",
   "metadata": {},
   "outputs": [],
   "source": [
    "times = [1.4262003898620605, 2.580925703048706, 5.000466346740723, 8.725608825683594, 14.168058633804321, 33.649773836135864, 69.72981882095337, 132.9937698841095]"
   ]
  },
  {
   "cell_type": "code",
   "execution_count": 5,
   "id": "0e6c01fe-c8d4-4094-aa19-53ebee135fbf",
   "metadata": {},
   "outputs": [],
   "source": [
    "old_times = [2.535578727722168, 3.9249420166015625, 7.124464511871338, 11.861149549484253, 18.750235557556152, 41.8593065738678, 83.07321524620056, 149.7788336277008]"
   ]
  },
  {
   "cell_type": "code",
   "execution_count": 1,
   "id": "e6954634-14b8-4a31-abb5-50406c271779",
   "metadata": {},
   "outputs": [],
   "source": [
    "import numpy as np\n",
    "import matplotlib.pyplot as plt"
   ]
  },
  {
   "cell_type": "code",
   "execution_count": 26,
   "id": "868cd509-7399-4294-96de-6782da18633b",
   "metadata": {},
   "outputs": [
    {
     "data": {
      "text/plain": [
       "[<matplotlib.lines.Line2D at 0x7ff60a707b50>]"
      ]
     },
     "execution_count": 26,
     "metadata": {},
     "output_type": "execute_result"
    },
    {
     "data": {
      "image/png": "[encoded data removed]",
      "text/plain": [
       "<Figure size 432x288 with 1 Axes>"
      ]
     },
     "metadata": {
      "needs_background": "light"
     },
     "output_type": "display_data"
    }
   ],
   "source": [
    "plt.plot(np.array(old_times) / np.array(times))"
   ]
  },
  {
   "cell_type": "code",
   "execution_count": 16,
   "id": "a8281285-cf6a-4c55-b24b-eb556c289357",
   "metadata": {},
   "outputs": [
    {
     "data": {
      "text/plain": [
       "array([1.77785586, 1.52074971, 1.42476002, 1.35934922, 1.32341601,\n",
       "       1.24396992, 1.19135854, 1.1262094 ])"
      ]
     },
     "execution_count": 16,
     "metadata": {},
     "output_type": "execute_result"
    }
   ],
   "source": [
    "np.array(old_times) / np.array(times)"
   ]
  }
 ],
 "metadata": {
  "kernelspec": {
   "display_name": "VPython",
   "language": "python",
   "name": "vpython"
  },
  "language_info": {
   "codemirror_mode": {
    "name": "ipython",
    "version": 3
   },
   "file_extension": ".py",
   "mimetype": "text/x-python",
   "name": "python",
   "nbconvert_exporter": "python",
   "pygments_lexer": "ipython3",
   "version": "3.8.8"
  }
 },
 "nbformat": 4,
 "nbformat_minor": 5
}
