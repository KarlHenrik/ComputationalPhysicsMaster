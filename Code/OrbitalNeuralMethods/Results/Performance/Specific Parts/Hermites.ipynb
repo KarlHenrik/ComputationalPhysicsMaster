{
 "cells": [
  {
   "cell_type": "code",
   "execution_count": 7,
   "metadata": {},
   "outputs": [],
   "source": [
    "using Polynomials, SpecialPolynomials"
   ]
  },
  {
   "cell_type": "code",
   "execution_count": 13,
   "metadata": {},
   "outputs": [],
   "source": [
    "using BenchmarkTools"
   ]
  },
  {
   "cell_type": "code",
   "execution_count": 8,
   "metadata": {},
   "outputs": [
    {
     "data": {
      "text/html": [
       "x"
      ],
      "text/latex": [
       "$x$"
      ],
      "text/plain": [
       "Polynomial(x)"
      ]
     },
     "execution_count": 8,
     "metadata": {},
     "output_type": "execute_result"
    }
   ],
   "source": [
    "x = variable(Polynomial{Rational{Int}})"
   ]
  },
  {
   "cell_type": "code",
   "execution_count": 20,
   "metadata": {},
   "outputs": [
    {
     "data": {
      "text/plain": [
       "H10 (generic function with 2 methods)"
      ]
     },
     "execution_count": 20,
     "metadata": {},
     "output_type": "execute_result"
    }
   ],
   "source": [
    "function H10(x)\n",
    "    30240.0∙x - 80640.0∙x3 + 48384.0∙x5 - 9216.0∙x7 + 512.0∙x9\n",
    "end"
   ]
  },
  {
   "cell_type": "code",
   "execution_count": 73,
   "metadata": {},
   "outputs": [
    {
     "data": {
      "text/plain": [
       "3.27552976e9"
      ]
     },
     "execution_count": 73,
     "metadata": {},
     "output_type": "execute_result"
    }
   ],
   "source": []
  },
  {
   "cell_type": "code",
   "execution_count": 10,
   "metadata": {},
   "outputs": [
    {
     "data": {
      "text/plain": [
       "11-element Vector{Polynomial{Float64, :x}}:\n",
       " Polynomial(1.0)\n",
       " Polynomial(2.0*x)\n",
       " Polynomial(-2.0 + 4.0*x^2)\n",
       " Polynomial(-12.0*x + 8.0*x^3)\n",
       " Polynomial(12.0 - 48.0*x^2 + 16.0*x^4)\n",
       " Polynomial(120.0*x - 160.0*x^3 + 32.0*x^5)\n",
       " Polynomial(-120.0 + 720.0*x^2 - 480.0*x^4 + 64.0*x^6)\n",
       " Polynomial(-1680.0*x + 3360.0*x^3 - 1344.0*x^5 + 128.0*x^7)\n",
       " Polynomial(1680.0 - 13440.0*x^2 + 13440.0*x^4 - 3584.0*x^6 + 256.0*x^8)\n",
       " Polynomial(30240.0*x - 80640.0*x^3 + 48384.0*x^5 - 9216.0*x^7 + 512.0*x^9)\n",
       " Polynomial(-30240.0 + 302400.0*x^2 - 403200.0*x^4 + 161280.0*x^6 - 23040.0*x^8 + 1024.0*x^10)"
      ]
     },
     "execution_count": 10,
     "metadata": {},
     "output_type": "execute_result"
    }
   ],
   "source": []
  },
  {
   "cell_type": "code",
   "execution_count": 98,
   "metadata": {},
   "outputs": [
    {
     "name": "stdout",
     "output_type": "stream",
     "text": [
      "function H0(x)\n",
      "    1.0\n",
      "end\n",
      "function H1(x)\n",
      "    2.0*x\n",
      "end\n",
      "function H2(x)\n",
      "    -2.0 + 4.0*x^2\n",
      "end\n",
      "function H3(x)\n",
      "    -12.0*x + 8.0*x^3\n",
      "end\n",
      "function H4(x)\n",
      "    12.0 - 48.0*x^2 + 16.0*x^4\n",
      "end\n",
      "function H5(x)\n",
      "    120.0*x - 160.0*x^3 + 32.0*x^5\n",
      "end\n",
      "function H6(x)\n",
      "    -120.0 + 720.0*x^2 - 480.0*x^4 + 64.0*x^6\n",
      "end\n",
      "function H7(x)\n",
      "    -1680.0*x + 3360.0*x^3 - 1344.0*x^5 + 128.0*x^7\n",
      "end\n",
      "function H8(x)\n",
      "    1680.0 - 13440.0*x^2 + 13440.0*x^4 - 3584.0*x^6 + 256.0*x^8\n",
      "end\n",
      "function H9(x)\n",
      "    30240.0*x - 80640.0*x^3 + 48384.0*x^5 - 9216.0*x^7 + 512.0*x^9\n",
      "end\n"
     ]
    }
   ],
   "source": [
    "using Polynomials, SpecialPolynomials\n",
    "x = variable(Polynomial{Rational{Int}})\n",
    "l = 10\n",
    "for i in 0:10-1\n",
    "    print(\"function H$i(x)\\n    $(basis(Hermite, i)(x))\\nend\\n\")\n",
    "end"
   ]
  },
  {
   "cell_type": "code",
   "execution_count": 33,
   "metadata": {},
   "outputs": [
    {
     "data": {
      "text/plain": [
       "hermite (generic function with 1 method)"
      ]
     },
     "execution_count": 33,
     "metadata": {},
     "output_type": "execute_result"
    }
   ],
   "source": [
    "function H0(x)\n",
    "    1.0\n",
    "end\n",
    "function H1(x)\n",
    "    2.0*x\n",
    "end\n",
    "function H2(x)\n",
    "    -2.0 + 4.0*x^2\n",
    "end\n",
    "function H3(x)\n",
    "    -12.0*x + 8.0*x^3\n",
    "end\n",
    "function H4(x)\n",
    "    12.0 - 48.0*x^2 + 16.0*x^4\n",
    "end\n",
    "function H5(x)\n",
    "    120.0*x - 160.0*x^3 + 32.0*x^5\n",
    "end\n",
    "function H6(x)\n",
    "    -120.0 + 720.0*x^2 - 480.0*x^4 + 64.0*x^6\n",
    "end\n",
    "function H7(x)\n",
    "    -1680.0*x + 3360.0*x^3 - 1344.0*x^5 + 128.0*x^7\n",
    "end\n",
    "function H8(x)\n",
    "    1680.0 - 13440.0*x^2 + 13440.0*x^4 - 3584.0*x^6 + 256.0*x^8\n",
    "end\n",
    "function H9(x)\n",
    "    30240.0*x - 80640.0*x^3 + 48384.0*x^5 - 9216.0*x^7 + 512.0*x^9\n",
    "end\n",
    "function H10(x)\n",
    "    -30240.0 + 302400.0*x^2 - 403200.0*x^4 + 161280.0*x^6 - 23040.0*x^8 + 1024.0*x^10\n",
    "end\n",
    "\n",
    "function hermite(x, i)\n",
    "    if i==0\n",
    "        return H0(x)\n",
    "    end\n",
    "    if i==1\n",
    "        return H1(x)\n",
    "    end\n",
    "    if i==2\n",
    "        return H2(x)\n",
    "    end\n",
    "    if i==3\n",
    "        return H3(x)\n",
    "    end\n",
    "    if i==4\n",
    "        return H4(x)\n",
    "    end\n",
    "    if i==5\n",
    "        return H5(x)\n",
    "    end\n",
    "    if i==6\n",
    "        return H6(x)\n",
    "    end\n",
    "    if i==7\n",
    "        return H7(x)\n",
    "    end\n",
    "    if i==8\n",
    "        return H8(x)\n",
    "    end\n",
    "    if i==9\n",
    "        return H9(x)\n",
    "    end\n",
    "    if i==10\n",
    "        return H10(x)\n",
    "    end\n",
    "end"
   ]
  },
  {
   "cell_type": "code",
   "execution_count": 69,
   "metadata": {},
   "outputs": [
    {
     "data": {
      "text/plain": [
       "eval_hers (generic function with 1 method)"
      ]
     },
     "execution_count": 69,
     "metadata": {},
     "output_type": "execute_result"
    }
   ],
   "source": [
    "hers = zeros(10)\n",
    "function eval_hers(x, hers)\n",
    "    for i in 0:9\n",
    "        hers[i+1] = hermite(x, i)\n",
    "    end\n",
    "    return hers\n",
    "end"
   ]
  },
  {
   "cell_type": "code",
   "execution_count": 82,
   "metadata": {},
   "outputs": [
    {
     "data": {
      "text/plain": [
       "3.0"
      ]
     },
     "execution_count": 82,
     "metadata": {},
     "output_type": "execute_result"
    }
   ],
   "source": [
    "x = 3.0"
   ]
  },
  {
   "cell_type": "code",
   "execution_count": 84,
   "metadata": {},
   "outputs": [
    {
     "name": "stdout",
     "output_type": "stream",
     "text": [
      "  102.674 ns (0 allocations: 0 bytes)\n"
     ]
    },
    {
     "data": {
      "text/plain": [
       "10-element Vector{Float64}:\n",
       "       1.0\n",
       "       6.0\n",
       "      34.0\n",
       "     180.0\n",
       "     876.0\n",
       "    3816.0\n",
       "   14136.0\n",
       "   39024.0\n",
       "   36240.0\n",
       " -406944.0"
      ]
     },
     "execution_count": 84,
     "metadata": {},
     "output_type": "execute_result"
    }
   ],
   "source": [
    "@btime eval_hers(x, hers)"
   ]
  },
  {
   "cell_type": "code",
   "execution_count": 40,
   "metadata": {},
   "outputs": [
    {
     "name": "stderr",
     "output_type": "stream",
     "text": [
      "\u001b[32m\u001b[1m  Activating\u001b[22m\u001b[39m project at `C:\\Users\\KarlH\\Desktop\\ComputationalPhysicsMaster\\Code\\OrbitalNeuralMethods`\n"
     ]
    }
   ],
   "source": [
    "using Pkg; Pkg.activate(\"C:\\\\Users\\\\KarlH\\\\Desktop\\\\ComputationalPhysicsMaster\\\\Code\\\\OrbitalNeuralMethods\")\n",
    "using OrbitalNeuralMethods\n",
    "import OrbitalNeuralMethods as onm"
   ]
  },
  {
   "cell_type": "code",
   "execution_count": 71,
   "metadata": {},
   "outputs": [],
   "source": [
    "ho = HOBasis(10, 0.25);"
   ]
  },
  {
   "cell_type": "code",
   "execution_count": 72,
   "metadata": {},
   "outputs": [
    {
     "name": "stdout",
     "output_type": "stream",
     "text": [
      "  75.926 ns (0 allocations: 0 bytes)\n",
      "  83.264 ns (0 allocations: 0 bytes)\n"
     ]
    }
   ],
   "source": [
    "hos = zeros(10)\n",
    "@btime onm.evaluate!(hos, 5, ho);\n",
    "@btime onm.fast_ho_all!(5, ho::HOBasis);"
   ]
  },
  {
   "cell_type": "code",
   "execution_count": 80,
   "metadata": {},
   "outputs": [
    {
     "data": {
      "text/plain": [
       "evaluate_Hermite! (generic function with 1 method)"
      ]
     },
     "execution_count": 80,
     "metadata": {},
     "output_type": "execute_result"
    }
   ],
   "source": [
    "function evaluate_Hermite!(hermites, x)\n",
    "    hermites[1] = 1.0\n",
    "    hermites[2] = 2x\n",
    "    @inbounds for n in 3:length(hermites)\n",
    "        hermites[n] = 2x * hermites[n-1] - 2(n - 2) * hermites[n-2]\n",
    "    end\n",
    "    return hermites\n",
    "end"
   ]
  },
  {
   "cell_type": "code",
   "execution_count": 95,
   "metadata": {},
   "outputs": [],
   "source": [
    "hos = zeros(80);"
   ]
  },
  {
   "cell_type": "code",
   "execution_count": null,
   "metadata": {},
   "outputs": [],
   "source": []
  },
  {
   "cell_type": "code",
   "execution_count": 94,
   "metadata": {},
   "outputs": [
    {
     "data": {
      "text/plain": [
       "1.4492142713261372e71"
      ]
     },
     "execution_count": 94,
     "metadata": {},
     "output_type": "execute_result"
    }
   ],
   "source": [
    "basis(Hermite, 79)(x)"
   ]
  },
  {
   "cell_type": "code",
   "execution_count": 96,
   "metadata": {},
   "outputs": [
    {
     "data": {
      "text/plain": [
       "1.4492142713261408e71"
      ]
     },
     "execution_count": 96,
     "metadata": {},
     "output_type": "execute_result"
    }
   ],
   "source": [
    "evaluate_Hermite!(hos, x);\n",
    "hos[end]"
   ]
  },
  {
   "cell_type": "code",
   "execution_count": 86,
   "metadata": {},
   "outputs": [
    {
     "name": "stdout",
     "output_type": "stream",
     "text": [
      "  26.078 ns (0 allocations: 0 bytes)\n"
     ]
    },
    {
     "data": {
      "text/plain": [
       "10-element Vector{Float64}:\n",
       "       1.0\n",
       "       6.0\n",
       "      34.0\n",
       "     180.0\n",
       "     876.0\n",
       "    3816.0\n",
       "   14136.0\n",
       "   39024.0\n",
       "   36240.0\n",
       " -406944.0"
      ]
     },
     "execution_count": 86,
     "metadata": {},
     "output_type": "execute_result"
    }
   ],
   "source": [
    "@btime evaluate_Hermite!(hos, x)"
   ]
  }
 ],
 "metadata": {
  "kernelspec": {
   "display_name": "Julia (12 threads) 1.8.1",
   "language": "julia",
   "name": "julia-(12-threads)-1.8"
  },
  "language_info": {
   "file_extension": ".jl",
   "mimetype": "application/julia",
   "name": "julia",
   "version": "1.8.1"
  },
  "orig_nbformat": 4
 },
 "nbformat": 4,
 "nbformat_minor": 2
}
