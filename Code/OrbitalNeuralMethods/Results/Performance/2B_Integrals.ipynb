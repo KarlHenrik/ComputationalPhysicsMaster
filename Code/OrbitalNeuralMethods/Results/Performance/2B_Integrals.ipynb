{
 "cells": [
  {
   "cell_type": "code",
   "execution_count": 1,
   "metadata": {},
   "outputs": [
    {
     "name": "stderr",
     "output_type": "stream",
     "text": [
      "\u001b[32m\u001b[1m  Activating\u001b[22m\u001b[39m project at `C:\\Users\\KarlH\\Desktop\\ComputationalPhysicsMaster\\Code\\OrbitalNeuralMethods`\n"
     ]
    }
   ],
   "source": [
    "using Pkg; Pkg.activate(\"C:\\\\Users\\\\KarlH\\\\Desktop\\\\ComputationalPhysicsMaster\\\\Code\\\\OrbitalNeuralMethods\")\n",
    "using Revise\n",
    "using OrbitalNeuralMethods\n",
    "using Plots"
   ]
  },
  {
   "cell_type": "code",
   "execution_count": 18,
   "metadata": {},
   "outputs": [
    {
     "data": {
      "text/plain": [
       "Plots.PyPlotBackend()"
      ]
     },
     "execution_count": 18,
     "metadata": {},
     "output_type": "execute_result"
    }
   ],
   "source": [
    "pyplot() "
   ]
  },
  {
   "cell_type": "code",
   "execution_count": 1,
   "metadata": {},
   "outputs": [],
   "source": [
    "using Plots"
   ]
  },
  {
   "cell_type": "code",
   "execution_count": 9,
   "metadata": {},
   "outputs": [
    {
     "data": {
      "text/plain": [
       "Plots.GRBackend()"
      ]
     },
     "execution_count": 9,
     "metadata": {},
     "output_type": "execute_result"
    }
   ],
   "source": [
    "using Plots; gr()"
   ]
  },
  {
   "cell_type": "code",
   "execution_count": 2,
   "metadata": {},
   "outputs": [
    {
     "name": "stderr",
     "output_type": "stream",
     "text": [
      "GKS: svgplugin.dll: can't load library, error 126 (0x7e)\n"
     ]
    },
    {
     "ename": "SystemError",
     "evalue": "SystemError: opening file \"C:\\\\Users\\\\KarlH\\\\AppData\\\\Local\\\\Temp\\\\jl_Glmx2LcTgL.svg\": No such file or directory",
     "output_type": "error",
     "traceback": [
      "SystemError: opening file \"C:\\\\Users\\\\KarlH\\\\AppData\\\\Local\\\\Temp\\\\jl_Glmx2LcTgL.svg\": No such file or directory",
      "",
      "Stacktrace:",
      "  [1] systemerror(p::String, errno::Int32; extrainfo::Nothing)",
      "    @ Base .\\error.jl:176",
      "  [2] #systemerror#80",
      "    @ .\\error.jl:175 [inlined]",
      "  [3] systemerror",
      "    @ .\\error.jl:175 [inlined]",
      "  [4] open(fname::String; lock::Bool, read::Nothing, write::Nothing, create::Nothing, truncate::Nothing, append::Nothing)",
      "    @ Base .\\iostream.jl:293",
      "  [5] open",
      "    @ .\\iostream.jl:275 [inlined]",
      "  [6] open(f::Base.var\"#387#388\"{String}, args::String; kwargs::Base.Pairs{Symbol, Union{}, Tuple{}, NamedTuple{(), Tuple{}}})",
      "    @ Base .\\io.jl:382",
      "  [7] open",
      "    @ .\\io.jl:381 [inlined]",
      "  [8] read",
      "    @ .\\io.jl:462 [inlined]",
      "  [9] _show(io::IOBuffer, #unused#::MIME{Symbol(\"image/svg+xml\")}, plt::Plots.Plot{Plots.GRBackend})",
      "    @ Plots C:\\Users\\KarlH\\.julia\\packages\\Plots\\nbICw\\src\\backends\\gr.jl:2184",
      " [10] #invokelatest#2",
      "    @ .\\essentials.jl:729 [inlined]",
      " [11] invokelatest",
      "    @ .\\essentials.jl:726 [inlined]",
      " [12] show(io::IOBuffer, m::MIME{Symbol(\"image/svg+xml\")}, plt::Plots.Plot{Plots.GRBackend})",
      "    @ Plots C:\\Users\\KarlH\\.julia\\packages\\Plots\\nbICw\\src\\output.jl:227",
      " [13] sprint(::Function, ::MIME{Symbol(\"image/svg+xml\")}, ::Vararg{Any}; context::Nothing, sizehint::Int64)",
      "    @ Base .\\strings\\io.jl:114",
      " [14] sprint",
      "    @ .\\strings\\io.jl:107 [inlined]",
      " [15] _ijulia_display_dict(plt::Plots.Plot{Plots.GRBackend})",
      "    @ Plots C:\\Users\\KarlH\\.julia\\packages\\Plots\\nbICw\\src\\ijulia.jl:47",
      " [16] display_dict(plt::Plots.Plot{Plots.GRBackend})",
      "    @ Plots C:\\Users\\KarlH\\.julia\\packages\\Plots\\nbICw\\src\\init.jl:114",
      " [17] #invokelatest#2",
      "    @ .\\essentials.jl:729 [inlined]",
      " [18] invokelatest",
      "    @ .\\essentials.jl:726 [inlined]",
      " [19] execute_request(socket::ZMQ.Socket, msg::IJulia.Msg)",
      "    @ IJulia C:\\Users\\KarlH\\.julia\\packages\\IJulia\\AQu2H\\src\\execute_request.jl:112",
      " [20] #invokelatest#2",
      "    @ .\\essentials.jl:729 [inlined]",
      " [21] invokelatest",
      "    @ .\\essentials.jl:726 [inlined]",
      " [22] eventloop(socket::ZMQ.Socket)",
      "    @ IJulia C:\\Users\\KarlH\\.julia\\packages\\IJulia\\AQu2H\\src\\eventloop.jl:8",
      " [23] (::IJulia.var\"#15#18\")()",
      "    @ IJulia .\\task.jl:484"
     ]
    }
   ],
   "source": [
    "x = [1,2,3]\n",
    "plot(x)"
   ]
  },
  {
   "cell_type": "code",
   "execution_count": 15,
   "metadata": {},
   "outputs": [
    {
     "data": {
      "text/plain": [
       "system_timing (generic function with 1 method)"
      ]
     },
     "execution_count": 15,
     "metadata": {},
     "output_type": "execute_result"
    }
   ],
   "source": [
    "function system_timing(n, l)\n",
    "    ω = 0.25\n",
    "    ham = HOCoulomb(ω, shielding = 0.25);\n",
    "    basis = SpinBasis(HOBasis(l, ω))\n",
    "    grid = [x for x in range(-10, stop = 10, length = 2001)];\n",
    "\n",
    "    basis = SpinBasis(HOBasis(l, ω))\n",
    "    system = System(n, basis, grid, ham);\n",
    "end"
   ]
  },
  {
   "cell_type": "code",
   "execution_count": 9,
   "metadata": {},
   "outputs": [],
   "source": [
    "n = 2\n",
    "ls = [10, 15, 20, 25, 30, 40, 50, 60]\n",
    "timings = []\n",
    "for l in ls\n",
    "    t = @elapsed system_timing(n, l)\n",
    "    push!(timings, t)\n",
    "end"
   ]
  },
  {
   "cell_type": "code",
   "execution_count": null,
   "metadata": {},
   "outputs": [],
   "source": []
  }
 ],
 "metadata": {
  "kernelspec": {
   "display_name": "Julia 1.8 (12 threads) 1.8.1",
   "language": "julia",
   "name": "julia-1.8-(12-threads)-1.8"
  },
  "language_info": {
   "file_extension": ".jl",
   "mimetype": "application/julia",
   "name": "julia",
   "version": "1.8.1"
  }
 },
 "nbformat": 4,
 "nbformat_minor": 4
}
