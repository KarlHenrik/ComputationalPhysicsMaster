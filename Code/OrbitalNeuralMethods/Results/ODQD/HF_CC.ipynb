{
 "cells": [
  {
   "cell_type": "code",
   "execution_count": 1,
   "id": "fca81b31-7171-49b7-9ff2-aff47d9cdcc9",
   "metadata": {},
   "outputs": [
    {
     "name": "stderr",
     "output_type": "stream",
     "text": [
      "\u001b[32m\u001b[1m  Activating\u001b[22m\u001b[39m project at `C:\\Users\\KarlH\\Desktop\\ComputationalPhysicsMaster\\Code\\OrbitalNeuralMethods`\n"
     ]
    }
   ],
   "source": [
    "using Pkg; Pkg.activate(\"C:\\\\Users\\\\KarlH\\\\Desktop\\\\ComputationalPhysicsMaster\\\\Code\\\\OrbitalNeuralMethods\")\n",
    "using Revise\n",
    "using OrbitalNeuralMethods"
   ]
  },
  {
   "cell_type": "code",
   "execution_count": 2,
   "id": "4f30a2c9-b060-47bf-9250-3bc0562c26d5",
   "metadata": {},
   "outputs": [],
   "source": [
    "import LinearAlgebra as la"
   ]
  },
  {
   "cell_type": "code",
   "execution_count": 3,
   "id": "5b52bf0f-1e58-4b39-ab54-7c086254fb8a",
   "metadata": {
    "tags": []
   },
   "outputs": [],
   "source": [
    "using BenchmarkTools: @btime"
   ]
  },
  {
   "cell_type": "markdown",
   "id": "b81b269e-5019-4917-944e-bcdf866a708b",
   "metadata": {},
   "source": [
    "## HO Basis and Spatial System"
   ]
  },
  {
   "cell_type": "code",
   "execution_count": 4,
   "id": "36c5c399-048a-4bcb-8d18-bee5d0d48a24",
   "metadata": {},
   "outputs": [
    {
     "name": "stdout",
     "output_type": "stream",
     "text": [
      "  1.953607 seconds (3.90 M allocations: 204.911 MiB, 14.87% gc time, 98.78% compilation time)\n"
     ]
    },
    {
     "data": {
      "text/plain": [
       "12"
      ]
     },
     "execution_count": 4,
     "metadata": {},
     "output_type": "execute_result"
    }
   ],
   "source": [
    "l = 6\n",
    "ω = 0.25\n",
    "basis = SpinBasis(HOBasis(l, ω))\n",
    "\n",
    "n = 2\n",
    "V = ShieldedCoulomb(0.25)\n",
    "grid = [x for x in range(-10, stop = 10, length = 2001)]\n",
    "@time system = System(n, basis, grid, V);\n",
    "l = 2 * l"
   ]
  },
  {
   "cell_type": "markdown",
   "id": "62741c88-7aaa-49c9-89a1-c9b4f0286b58",
   "metadata": {
    "tags": []
   },
   "source": [
    "## CCD"
   ]
  },
  {
   "cell_type": "code",
   "execution_count": null,
   "id": "84d4bcf0-4668-4f39-bbd4-4d49e4e11fcd",
   "metadata": {},
   "outputs": [],
   "source": [
    "ccd = setup_CCD(system);"
   ]
  },
  {
   "cell_type": "code",
   "execution_count": null,
   "id": "11f2da7c-a915-4806-bf5a-e4f2f12e5058",
   "metadata": {},
   "outputs": [],
   "source": [
    "CCD_Update!(ccd);\n",
    "energy(ccd)"
   ]
  },
  {
   "cell_type": "code",
   "execution_count": null,
   "id": "9dd7a21f-e21a-4282-bbf6-6a9db6349dd9",
   "metadata": {},
   "outputs": [],
   "source": [
    "function pprint(tensor)\n",
    "    display(round.(tensor[n+1:l, n+1:l, 1:n, 1:n], digits = 6)[:, :, 2, 1])\n",
    "end"
   ]
  },
  {
   "cell_type": "markdown",
   "id": "8051c12b-89db-4417-81a7-284d90c84813",
   "metadata": {},
   "source": [
    "## CCSD"
   ]
  },
  {
   "cell_type": "code",
   "execution_count": null,
   "id": "21a2a49c-a7ef-4027-b41f-bb2ed0c2df93",
   "metadata": {},
   "outputs": [],
   "source": [
    "ccsd = setup_CCSD(system, α = 0.5);"
   ]
  },
  {
   "cell_type": "code",
   "execution_count": null,
   "id": "fd4144f5-e626-4500-82a2-cef6a14a29c5",
   "metadata": {},
   "outputs": [],
   "source": [
    "for i in 1:10\n",
    "    CCSD_Update!(ccsd)\n",
    "end"
   ]
  },
  {
   "cell_type": "code",
   "execution_count": null,
   "id": "83a927b4-fe44-4613-b29c-043c48672a94",
   "metadata": {},
   "outputs": [],
   "source": [
    "energy(ccsd)"
   ]
  },
  {
   "cell_type": "code",
   "execution_count": null,
   "id": "788156ad-881c-4274-92c9-6728af72857b",
   "metadata": {},
   "outputs": [],
   "source": [
    "corr_energy(ccsd)"
   ]
  },
  {
   "cell_type": "markdown",
   "id": "5b1106b5-e8f9-41da-aae5-a8ceb99ab319",
   "metadata": {},
   "source": [
    "# HF"
   ]
  },
  {
   "cell_type": "code",
   "execution_count": 20,
   "id": "585789a1-774d-4615-ab35-5c00a02dd739",
   "metadata": {},
   "outputs": [],
   "source": [
    "hf = setup_HF(system);"
   ]
  },
  {
   "cell_type": "code",
   "execution_count": null,
   "id": "4704feec-d436-4eb5-aecf-0e1851395fcf",
   "metadata": {},
   "outputs": [],
   "source": [
    "HF_update!(hf, iters = 10);"
   ]
  },
  {
   "cell_type": "code",
   "execution_count": null,
   "id": "5e762286-6ff3-474b-93e7-8ae125a99ac8",
   "metadata": {},
   "outputs": [],
   "source": [
    "energy(hf)"
   ]
  },
  {
   "cell_type": "code",
   "execution_count": null,
   "id": "5e4eb3ae-b3d3-4044-b774-bff4e6a5d520",
   "metadata": {},
   "outputs": [],
   "source": [
    "system = System(hf);"
   ]
  },
  {
   "cell_type": "markdown",
   "id": "f7ad19e9-478d-493a-b8c7-056db9c1896d",
   "metadata": {
    "tags": []
   },
   "source": [
    "## RHF"
   ]
  },
  {
   "cell_type": "code",
   "execution_count": 8,
   "id": "15542496-4ad4-47fb-bfc0-35703a25395a",
   "metadata": {},
   "outputs": [],
   "source": [
    "rhf = setup_RHF(system);"
   ]
  },
  {
   "cell_type": "code",
   "execution_count": 16,
   "id": "d132f2f1-94cb-456b-bc89-939362f4208d",
   "metadata": {},
   "outputs": [],
   "source": [
    "RHF_update!(rhf, iters = 10);"
   ]
  },
  {
   "cell_type": "code",
   "execution_count": 17,
   "id": "dfa123ce-ca02-441a-8f5e-4e1bd8596924",
   "metadata": {},
   "outputs": [
    {
     "data": {
      "text/plain": [
       "1.1795982424054305"
      ]
     },
     "execution_count": 17,
     "metadata": {},
     "output_type": "execute_result"
    }
   ],
   "source": [
    "energy(rhf)"
   ]
  },
  {
   "cell_type": "code",
   "execution_count": 18,
   "id": "860266bd-47d6-417a-a51b-61215ed40792",
   "metadata": {},
   "outputs": [],
   "source": [
    "system = System(rhf);"
   ]
  },
  {
   "cell_type": "code",
   "execution_count": null,
   "id": "1cc47893-b3ca-4dfe-b460-cde635bb4878",
   "metadata": {},
   "outputs": [],
   "source": []
  }
 ],
 "metadata": {
  "kernelspec": {
   "display_name": "Julia (8 threads) 1.7.2",
   "language": "julia",
   "name": "julia-(8-threads)-1.7"
  },
  "language_info": {
   "file_extension": ".jl",
   "mimetype": "application/julia",
   "name": "julia",
   "version": "1.7.2"
  }
 },
 "nbformat": 4,
 "nbformat_minor": 5
}
