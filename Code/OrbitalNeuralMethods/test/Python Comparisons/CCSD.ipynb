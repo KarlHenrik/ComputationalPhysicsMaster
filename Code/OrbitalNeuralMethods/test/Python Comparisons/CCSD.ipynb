{
 "cells": [
  {
   "cell_type": "code",
   "execution_count": 2,
   "id": "73a7d97d-4d64-46a4-8865-ce066b38f3fc",
   "metadata": {},
   "outputs": [
    {
     "ename": "ModuleNotFoundError",
     "evalue": "No module named 'quantum_systems'",
     "output_type": "error",
     "traceback": [
      "\u001b[1;31m---------------------------------------------------------------------------\u001b[0m",
      "\u001b[1;31mModuleNotFoundError\u001b[0m                       Traceback (most recent call last)",
      "\u001b[1;32m~\\AppData\\Local\\Temp/ipykernel_6012/3546834989.py\u001b[0m in \u001b[0;36m<module>\u001b[1;34m\u001b[0m\n\u001b[0;32m      4\u001b[0m \u001b[1;32mimport\u001b[0m \u001b[0mmatplotlib\u001b[0m\u001b[1;33m.\u001b[0m\u001b[0mpyplot\u001b[0m \u001b[1;32mas\u001b[0m \u001b[0mplt\u001b[0m\u001b[1;33m\u001b[0m\u001b[1;33m\u001b[0m\u001b[0m\n\u001b[0;32m      5\u001b[0m \u001b[1;33m\u001b[0m\u001b[0m\n\u001b[1;32m----> 6\u001b[1;33m \u001b[1;32mfrom\u001b[0m \u001b[0mquantum_systems\u001b[0m \u001b[1;32mimport\u001b[0m \u001b[0mODQD\u001b[0m\u001b[1;33m,\u001b[0m \u001b[0mGeneralOrbitalSystem\u001b[0m\u001b[1;33m\u001b[0m\u001b[1;33m\u001b[0m\u001b[0m\n\u001b[0m\u001b[0;32m      7\u001b[0m \u001b[1;33m\u001b[0m\u001b[0m\n\u001b[0;32m      8\u001b[0m \u001b[1;32mfrom\u001b[0m \u001b[0mcoupled_cluster\u001b[0m\u001b[1;33m.\u001b[0m\u001b[0mccd\u001b[0m\u001b[1;33m.\u001b[0m\u001b[0mrhs_t\u001b[0m \u001b[1;32mimport\u001b[0m \u001b[0mcompute_t_2_amplitudes\u001b[0m\u001b[1;33m\u001b[0m\u001b[1;33m\u001b[0m\u001b[0m\n",
      "\u001b[1;31mModuleNotFoundError\u001b[0m: No module named 'quantum_systems'"
     ]
    }
   ],
   "source": [
    "import numpy as np\n",
    "np.set_printoptions(precision=5) # 2 decimals when printing arrays\n",
    "np.set_printoptions(suppress=True) # No scientific notation for small numbers\n",
    "import matplotlib.pyplot as plt\n",
    "\n",
    "from quantum_systems import ODQD, GeneralOrbitalSystem\n",
    "\n",
    "from coupled_cluster.ccd.rhs_t import compute_t_2_amplitudes\n",
    "from coupled_cluster.ccsd.rhs_t import compute_t_1_amplitudes\n",
    "import coupled_cluster.ccsd.rhs_t as sdrhs\n",
    "from coupled_cluster.mix import AlphaMixer, DIIS\n",
    "from coupled_cluster.ccd import CCD\n",
    "from coupled_cluster.ccsd import CCSD"
   ]
  },
  {
   "cell_type": "code",
   "execution_count": null,
   "id": "a03089db-2e32-4d29-82d2-c87d100de709",
   "metadata": {},
   "outputs": [],
   "source": []
  },
  {
   "cell_type": "code",
   "execution_count": 2,
   "id": "514e21a0-8214-4cc7-8d4a-e02d60ec4994",
   "metadata": {},
   "outputs": [],
   "source": [
    "def pprint(tensor):\n",
    "    print(tensor[:, :, 1, 0].real)"
   ]
  },
  {
   "cell_type": "markdown",
   "id": "e970574d-cb48-4f2b-8ec2-0e77d5de945b",
   "metadata": {},
   "source": [
    "## Setting up the system"
   ]
  },
  {
   "cell_type": "code",
   "execution_count": 83,
   "id": "ac696b58-95da-4830-8aff-78c97331aa7b",
   "metadata": {},
   "outputs": [],
   "source": [
    "l_0 = 10                 # number of basis functions\n",
    "grid_length = 10        # compute from x = -10 to x = 10 in 1D\n",
    "num_grid_points = 2001\n",
    "omega = 0.25            # strength of harmonic oscillator potential\n",
    "n = 4                   # number of particles\n",
    "\n",
    "odho = ODQD(l_0, grid_length, num_grid_points, a = 0.25, alpha = 1, potential = ODQD.HOPotential(omega))\n",
    "system = GeneralOrbitalSystem(n = n, basis_set=odho)"
   ]
  },
  {
   "cell_type": "markdown",
   "id": "3ec30885-1302-405a-97fa-95d7ff207cbb",
   "metadata": {
    "tags": []
   },
   "source": [
    "### CCSD"
   ]
  },
  {
   "cell_type": "code",
   "execution_count": 84,
   "id": "4d0c1b80-f447-4c62-b655-d09cbb1249f1",
   "metadata": {},
   "outputs": [
    {
     "name": "stdout",
     "output_type": "stream",
     "text": [
      "Ground state energy: 0.541379\n"
     ]
    }
   ],
   "source": [
    "ccsd = CCSD(system, mixer = DIIS, verbose=False)\n",
    "ccsd.setup_t_mixer(np=np)\n",
    "ccsd.compute_ground_state()\n",
    "print(f\"Ground state energy: {ccsd.compute_energy().real:.6}\")"
   ]
  },
  {
   "cell_type": "code",
   "execution_count": 85,
   "id": "59934d58-1e53-4e2a-8f50-937b1c4a4029",
   "metadata": {},
   "outputs": [
    {
     "name": "stdout",
     "output_type": "stream",
     "text": [
      "Ground state energy: (0.825315+0j)\n"
     ]
    }
   ],
   "source": [
    "ccsd.compute_ground_state()\n",
    "print(f\"Ground state energy: {ccsd.compute_energy():.6}\")"
   ]
  },
  {
   "cell_type": "code",
   "execution_count": 24,
   "id": "37a0bad1-3de0-47a4-8ccb-ce88d2ae4880",
   "metadata": {},
   "outputs": [
    {
     "name": "stdout",
     "output_type": "stream",
     "text": [
      "[[-0.       0.6855  -0.      -0.      -0.       0.23397 -0.      -0.     ]\n",
      " [-0.6855  -0.       0.      -0.      -0.23397 -0.       0.      -0.     ]\n",
      " [-0.      -0.      -0.       0.30334 -0.       0.      -0.       0.13369]\n",
      " [ 0.      -0.      -0.30334 -0.      -0.      -0.      -0.13369 -0.     ]\n",
      " [-0.       0.23397 -0.       0.      -0.       0.15818 -0.      -0.     ]\n",
      " [-0.23397 -0.      -0.      -0.      -0.15818 -0.       0.      -0.     ]\n",
      " [-0.      -0.      -0.       0.13369 -0.      -0.      -0.       0.09357]\n",
      " [ 0.      -0.      -0.13369 -0.       0.      -0.      -0.09357 -0.     ]]\n"
     ]
    }
   ],
   "source": [
    "pprint(ccsd.t_2)"
   ]
  },
  {
   "cell_type": "code",
   "execution_count": 56,
   "id": "46709cd0-7f52-41f6-9d79-a78d0472e2db",
   "metadata": {},
   "outputs": [],
   "source": [
    "v,o = ccsd.v, ccsd.o\n",
    "f = ccsd.f\n",
    "t_1 = ccsd.t_1\n",
    "u = ccsd.u\n",
    "t_2 = ccsd.t_2"
   ]
  },
  {
   "cell_type": "code",
   "execution_count": 63,
   "id": "f0913680-79f6-498f-816e-0b005b15b0c8",
   "metadata": {},
   "outputs": [
    {
     "data": {
      "text/plain": [
       "array([[-0.     ,  0.     ],\n",
       "       [ 0.     , -0.     ],\n",
       "       [-0.35986,  0.     ],\n",
       "       [ 0.     , -0.35986],\n",
       "       [-0.     ,  0.     ],\n",
       "       [ 0.     , -0.     ],\n",
       "       [-0.17758,  0.     ],\n",
       "       [ 0.     , -0.17758]])"
      ]
     },
     "execution_count": 63,
     "metadata": {},
     "output_type": "execute_result"
    }
   ],
   "source": [
    "out = np.copy(f[v, o])\n",
    "out += np.tensordot(f[v, v], t_1, axes=((1), (0)))\n",
    "out += -np.tensordot(f[o, o], t_1, axes=((0), (1))).transpose(1, 0)\n",
    "out += np.tensordot(u[v, o, o, v], t_1, axes=((1, 3), (1, 0)))\n",
    "W_ki = -np.dot(f[o, v], t_1)\n",
    "out += np.dot(t_1, W_ki)\n",
    "W_akdi = np.tensordot(u[v, o, v, v], t_1, axes=((2), (0)))\n",
    "out += np.tensordot(W_akdi, t_1, axes=((1, 2), (1, 0)))\n",
    "W_ki = -np.tensordot(u[o, o, o, v], t_1, axes=((1, 3), (1, 0)))\n",
    "out += np.dot(t_1, W_ki)\n",
    "W_kc = -np.tensordot(u[o, o, v, v], t_1, axes=((1, 3), (1, 0)))\n",
    "W_ki = np.dot(W_kc, t_1)\n",
    "out += np.dot(t_1, W_ki)\n",
    "out += np.tensordot(f[o, v], t_2, axes=((0, 1), (3, 1)))\n",
    "out += 0.5 * np.tensordot(u[v, o, v, v], t_2, axes=((1, 2, 3), (3, 0, 1)))\n",
    "term = np.tensordot(u[o, o, o, v], t_2, axes=((0, 1), (2, 3)))\n",
    "out -= 0.5 * np.trace(term, axis1=1, axis2=3).swapaxes(0, 1)\n",
    "W_kldi = -0.5 * np.tensordot(u[o, o, v, v], t_1, axes=((2), (0)))\n",
    "out += np.tensordot(t_2, W_kldi, axes=((1, 2, 3), (2, 0, 1)))\n",
    "W_ki = -0.5 * np.tensordot(u[o, o, v, v], t_2, axes=((1, 2, 3), (3, 0, 1)))\n",
    "out += np.dot(t_1, W_ki)\n",
    "temp_ld = np.tensordot(u[o, o, v, v], t_1, axes=((0, 2), (1, 0)))\n",
    "out += np.tensordot(temp_ld, t_2, axes=((0, 1), (2, 0)))\n",
    "out.real"
   ]
  },
  {
   "cell_type": "code",
   "execution_count": 22,
   "id": "324cf091-2646-4c4a-9cc3-145b14117ed6",
   "metadata": {},
   "outputs": [
    {
     "data": {
      "text/plain": [
       "array([[-0.     ,  0.     ],\n",
       "       [ 0.     , -0.     ],\n",
       "       [-0.35986,  0.     ],\n",
       "       [ 0.     , -0.35986],\n",
       "       [-0.     ,  0.     ],\n",
       "       [ 0.     , -0.     ],\n",
       "       [-0.17758,  0.     ],\n",
       "       [ 0.     , -0.17758]])"
      ]
     },
     "execution_count": 22,
     "metadata": {},
     "output_type": "execute_result"
    }
   ],
   "source": [
    "ccsd.rhs_t_1.fill(0)\n",
    "(sdrhs.compute_t_1_amplitudes(ccsd.f, ccsd.u, ccsd.t_1, ccsd.t_2, ccsd.o, ccsd.v, out=ccsd.rhs_t_1, np=np)).real # / ccsd.d_t_1"
   ]
  },
  {
   "cell_type": "code",
   "execution_count": null,
   "id": "0003012a-fab4-4880-b56c-026e91a5161c",
   "metadata": {},
   "outputs": [],
   "source": [
    "ccsd.rhs_t_2.fill(0)\n",
    "compute_t_2_amplitudes(ccsd.f, ccsd.u, ccsd.t_2, ccsd.o, ccsd.v, out = ccsd.rhs_t_2, np = np)\n",
    "direction_vector_1 = np.divide(ccsd.rhs_t_2, ccsd.d_t_2)\n",
    "trial_vector_1 = np.copy(ccsd.t_2)\n",
    "error_vector_1 = np.copy(ccsd.rhs_t_2)\n",
    "\n",
    "ccd.t_2 = ccd.t_2_mixer.compute_new_vector(trial_vector_1, direction_vector_1, error_vector_1)"
   ]
  },
  {
   "cell_type": "code",
   "execution_count": null,
   "id": "7a4ea7f0-a550-419d-bfda-af859c54cf6b",
   "metadata": {},
   "outputs": [],
   "source": [
    "pprint(trial_vector_1)\n",
    "pprint(direction_vector_1)\n",
    "pprint(error_vector_1)"
   ]
  },
  {
   "cell_type": "code",
   "execution_count": null,
   "id": "22aa033e-e433-458d-ae28-d48936ff0e04",
   "metadata": {},
   "outputs": [],
   "source": [
    "pprint(ccsd.t_2)"
   ]
  },
  {
   "cell_type": "code",
   "execution_count": null,
   "id": "8dbc8fcd-1aba-47f7-933c-023d21c57fa2",
   "metadata": {},
   "outputs": [],
   "source": []
  },
  {
   "cell_type": "code",
   "execution_count": 69,
   "id": "da47f308-a054-4a08-9b31-c74bf7dd003e",
   "metadata": {},
   "outputs": [
    {
     "ename": "AssertionError",
     "evalue": "The t amplitudes did not converge. Last residual: [0.33145401375307415, 2.931746734004814]",
     "output_type": "error",
     "traceback": [
      "\u001b[0;31m---------------------------------------------------------------------------\u001b[0m",
      "\u001b[0;31mAssertionError\u001b[0m                            Traceback (most recent call last)",
      "\u001b[0;32m/tmp/ipykernel_21846/1504723152.py\u001b[0m in \u001b[0;36m<module>\u001b[0;34m\u001b[0m\n\u001b[0;32m----> 1\u001b[0;31m \u001b[0mccsd\u001b[0m\u001b[0;34m.\u001b[0m\u001b[0mcompute_ground_state\u001b[0m\u001b[0;34m(\u001b[0m\u001b[0;34m)\u001b[0m\u001b[0;34m\u001b[0m\u001b[0;34m\u001b[0m\u001b[0m\n\u001b[0m\u001b[1;32m      2\u001b[0m \u001b[0mprint\u001b[0m\u001b[0;34m(\u001b[0m\u001b[0;34mf\"Ground state energy: {ccsd.compute_energy():.6}\"\u001b[0m\u001b[0;34m)\u001b[0m\u001b[0;34m\u001b[0m\u001b[0;34m\u001b[0m\u001b[0m\n",
      "\u001b[0;32m~/miniconda3/lib/python3.8/site-packages/coupled_cluster/cc.py\u001b[0m in \u001b[0;36mcompute_ground_state\u001b[0;34m(self, t_args, t_kwargs, l_args, l_kwargs)\u001b[0m\n\u001b[1;32m    230\u001b[0m     ):\n\u001b[1;32m    231\u001b[0m         \u001b[0;34m\"\"\"Compute ground state energy\"\"\"\u001b[0m\u001b[0;34m\u001b[0m\u001b[0;34m\u001b[0m\u001b[0m\n\u001b[0;32m--> 232\u001b[0;31m         \u001b[0mself\u001b[0m\u001b[0;34m.\u001b[0m\u001b[0miterate_t_amplitudes\u001b[0m\u001b[0;34m(\u001b[0m\u001b[0;34m*\u001b[0m\u001b[0mt_args\u001b[0m\u001b[0;34m,\u001b[0m \u001b[0;34m**\u001b[0m\u001b[0mt_kwargs\u001b[0m\u001b[0;34m)\u001b[0m\u001b[0;34m\u001b[0m\u001b[0;34m\u001b[0m\u001b[0m\n\u001b[0m\u001b[1;32m    233\u001b[0m         \u001b[0mself\u001b[0m\u001b[0;34m.\u001b[0m\u001b[0miterate_l_amplitudes\u001b[0m\u001b[0;34m(\u001b[0m\u001b[0;34m*\u001b[0m\u001b[0ml_args\u001b[0m\u001b[0;34m,\u001b[0m \u001b[0;34m**\u001b[0m\u001b[0ml_kwargs\u001b[0m\u001b[0;34m)\u001b[0m\u001b[0;34m\u001b[0m\u001b[0;34m\u001b[0m\u001b[0m\n\u001b[1;32m    234\u001b[0m \u001b[0;34m\u001b[0m\u001b[0m\n",
      "\u001b[0;32m~/miniconda3/lib/python3.8/site-packages/coupled_cluster/cc.py\u001b[0m in \u001b[0;36miterate_t_amplitudes\u001b[0;34m(self, max_iterations, tol, **mixer_kwargs)\u001b[0m\n\u001b[1;32m    284\u001b[0m                 \u001b[0;32mbreak\u001b[0m\u001b[0;34m\u001b[0m\u001b[0;34m\u001b[0m\u001b[0m\n\u001b[1;32m    285\u001b[0m \u001b[0;34m\u001b[0m\u001b[0m\n\u001b[0;32m--> 286\u001b[0;31m         assert i < (max_iterations - 1), (\n\u001b[0m\u001b[1;32m    287\u001b[0m             \u001b[0;34mf\"The t amplitudes did not converge. Last residual: \"\u001b[0m\u001b[0;34m\u001b[0m\u001b[0;34m\u001b[0m\u001b[0m\n\u001b[1;32m    288\u001b[0m             \u001b[0;34m+\u001b[0m \u001b[0;34mf\"{self.compute_t_residuals()}\"\u001b[0m\u001b[0;34m\u001b[0m\u001b[0;34m\u001b[0m\u001b[0m\n",
      "\u001b[0;31mAssertionError\u001b[0m: The t amplitudes did not converge. Last residual: [0.33145401375307415, 2.931746734004814]"
     ]
    }
   ],
   "source": [
    "\n",
    "ccsd.compute_ground_state()\n",
    "print(f\"Ground state energy: {ccsd.compute_energy():.6}\")"
   ]
  },
  {
   "cell_type": "code",
   "execution_count": null,
   "id": "a13b6e2a-524b-4163-bd30-dfc05685f5e5",
   "metadata": {},
   "outputs": [],
   "source": []
  },
  {
   "cell_type": "code",
   "execution_count": null,
   "id": "f5504c6c-9e03-4dcd-8671-a260d671f30c",
   "metadata": {},
   "outputs": [],
   "source": []
  },
  {
   "cell_type": "code",
   "execution_count": null,
   "id": "c19b9245-4db9-4a5a-989d-2ca124848503",
   "metadata": {},
   "outputs": [],
   "source": []
  }
 ],
 "metadata": {
  "kernelspec": {
   "display_name": "Python 3 (ipykernel)",
   "language": "python",
   "name": "python3"
  },
  "language_info": {
   "codemirror_mode": {
    "name": "ipython",
    "version": 3
   },
   "file_extension": ".py",
   "mimetype": "text/x-python",
   "name": "python",
   "nbconvert_exporter": "python",
   "pygments_lexer": "ipython3",
   "version": "3.9.7"
  }
 },
 "nbformat": 4,
 "nbformat_minor": 5
}
