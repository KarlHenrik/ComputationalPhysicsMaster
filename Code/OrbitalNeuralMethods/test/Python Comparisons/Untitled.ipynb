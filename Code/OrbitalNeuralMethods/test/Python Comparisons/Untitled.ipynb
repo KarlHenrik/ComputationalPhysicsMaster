{
 "cells": [
  {
   "cell_type": "code",
   "execution_count": 1,
   "id": "0bf470ec-3681-4a22-a910-dec81a2c429a",
   "metadata": {},
   "outputs": [],
   "source": [
    "import numpy as np\n",
    "import scipy.special as spec"
   ]
  },
  {
   "cell_type": "code",
   "execution_count": 2,
   "id": "9a05907c-91eb-4d50-aa6c-535f979ab73d",
   "metadata": {},
   "outputs": [],
   "source": [
    "def ho_function(x, n, omega):\n",
    "        return (\n",
    "            normalization(n, omega)\n",
    "            * np.exp(-0.5 * omega * x ** 2)\n",
    "            * spec.hermite(n)(np.sqrt(omega) * x)\n",
    "        )\n",
    "\n",
    "def normalization(n, omega):\n",
    "    return (\n",
    "        1.0\n",
    "        / np.sqrt(2 ** n * spec.factorial(n))\n",
    "        * (omega / np.pi) ** 0.25\n",
    "    )"
   ]
  },
  {
   "cell_type": "code",
   "execution_count": 12,
   "id": "6c64d433-b10f-443f-88a3-0efd8499c461",
   "metadata": {},
   "outputs": [],
   "source": [
    "n = 2\n",
    "l = 10\n",
    "omega = 0.25\n",
    "\n",
    "grid = np.linspace(-10, 10, 2001)\n",
    "spf = np.zeros((l, len(grid)))\n",
    "\n",
    "for p in range(l):\n",
    "    spf[p] = ho_function(grid, p, omega)"
   ]
  },
  {
   "cell_type": "code",
   "execution_count": null,
   "id": "8790dc0e-6f70-453b-b244-2e04cf09ae9f",
   "metadata": {},
   "outputs": [],
   "source": []
  }
 ],
 "metadata": {
  "kernelspec": {
   "display_name": "Python 3 (ipykernel)",
   "language": "python",
   "name": "python3"
  },
  "language_info": {
   "codemirror_mode": {
    "name": "ipython",
    "version": 3
   },
   "file_extension": ".py",
   "mimetype": "text/x-python",
   "name": "python",
   "nbconvert_exporter": "python",
   "pygments_lexer": "ipython3",
   "version": "3.9.7"
  }
 },
 "nbformat": 4,
 "nbformat_minor": 5
}
