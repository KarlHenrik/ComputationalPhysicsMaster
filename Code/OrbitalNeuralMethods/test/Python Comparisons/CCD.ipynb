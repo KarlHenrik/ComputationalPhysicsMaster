{
 "cells": [
  {
   "cell_type": "code",
   "execution_count": 143,
   "id": "22c653bf-c91a-487f-a752-ca3155967c0c",
   "metadata": {},
   "outputs": [],
   "source": [
    "import numpy as np\n",
    "np.set_printoptions(precision=3) # 2 decimals when printing arrays\n",
    "np.set_printoptions(suppress=True) # No scientific notation for small numbers\n",
    "import matplotlib.pyplot as plt\n",
    "\n",
    "from quantum_systems import ODQD, GeneralOrbitalSystem\n",
    "\n",
    "from coupled_cluster.ccd.rhs_t import compute_t_2_amplitudes\n",
    "from coupled_cluster.mix import AlphaMixer, DIIS\n",
    "from coupled_cluster.ccd import CCD\n",
    "from coupled_cluster.ccsd import CCSD"
   ]
  },
  {
   "cell_type": "code",
   "execution_count": 144,
   "id": "1685dc6d-e887-4286-b474-0f43069981a4",
   "metadata": {},
   "outputs": [],
   "source": [
    "def pprint(tensor):\n",
    "    print(tensor[:, :, 1, 0].real)"
   ]
  },
  {
   "cell_type": "markdown",
   "id": "b4c61a2e-80dd-491b-bd6c-ec5a5577d35a",
   "metadata": {},
   "source": [
    "## Setting up the system"
   ]
  },
  {
   "cell_type": "code",
   "execution_count": 157,
   "id": "2e06e827-06b8-4868-ae13-b81ec5fb66c3",
   "metadata": {},
   "outputs": [],
   "source": [
    "l_0 = 5                 # number of basis functions\n",
    "grid_length = 10        # compute from x = -10 to x = 10 in 1D\n",
    "num_grid_points = 2001\n",
    "omega = 0.25            # strength of harmonic oscillator potential\n",
    "n = 2                   # number of particles\n",
    "\n",
    "odho = ODQD(l_0, grid_length, num_grid_points, a = 0.25, alpha = 1, potential = ODQD.HOPotential(omega))\n",
    "system = GeneralOrbitalSystem(n = n, basis_set=odho)"
   ]
  },
  {
   "cell_type": "markdown",
   "id": "8b12b7a7-9c84-477e-a1de-fd3b373fc266",
   "metadata": {
    "tags": []
   },
   "source": [
    "### CCSD"
   ]
  },
  {
   "cell_type": "code",
   "execution_count": 162,
   "id": "f34ddf87-1636-477e-b47b-e4f74753ad10",
   "metadata": {},
   "outputs": [
    {
     "name": "stdout",
     "output_type": "stream",
     "text": [
      "Ground state energy: 0.644717\n"
     ]
    }
   ],
   "source": [
    "ccsd = CCSD(system, mixer = DIIS, verbose=False)\n",
    "print(f\"Ground state energy: {ccsd.compute_energy().real:.6}\")"
   ]
  },
  {
   "cell_type": "code",
   "execution_count": 163,
   "id": "c982db20-ed3a-4b58-b134-d8198bcb83e9",
   "metadata": {},
   "outputs": [
    {
     "name": "stdout",
     "output_type": "stream",
     "text": [
      "[[-0.     0.685 -0.    -0.    -0.     0.234 -0.    -0.   ]\n",
      " [-0.685 -0.     0.    -0.    -0.234 -0.     0.    -0.   ]\n",
      " [-0.    -0.    -0.     0.303 -0.     0.    -0.     0.134]\n",
      " [ 0.    -0.    -0.303 -0.    -0.    -0.    -0.134 -0.   ]\n",
      " [-0.     0.234 -0.     0.    -0.     0.158 -0.    -0.   ]\n",
      " [-0.234 -0.    -0.    -0.    -0.158 -0.     0.    -0.   ]\n",
      " [-0.    -0.    -0.     0.134 -0.    -0.    -0.     0.094]\n",
      " [ 0.    -0.    -0.134 -0.     0.    -0.    -0.094 -0.   ]]\n"
     ]
    }
   ],
   "source": [
    "pprint(ccsd.t_2)"
   ]
  },
  {
   "cell_type": "code",
   "execution_count": null,
   "id": "5d2490e9-04cd-4c81-ab71-9bb33e77d24d",
   "metadata": {},
   "outputs": [],
   "source": []
  },
  {
   "cell_type": "code",
   "execution_count": 160,
   "id": "f8986ee5-f125-4a4f-8aa8-3b028a284242",
   "metadata": {},
   "outputs": [
    {
     "name": "stdout",
     "output_type": "stream",
     "text": [
      "Ground state energy: (0.826268+0j)\n"
     ]
    }
   ],
   "source": [
    "\n",
    "ccsd.compute_ground_state()\n",
    "print(f\"Ground state energy: {ccsd.compute_energy():.6}\")"
   ]
  },
  {
   "cell_type": "code",
   "execution_count": null,
   "id": "ecbc7d50-6131-4d9a-a945-9b2f55e961ac",
   "metadata": {},
   "outputs": [],
   "source": []
  },
  {
   "cell_type": "code",
   "execution_count": null,
   "id": "69065f22-a69d-4a33-9572-46557da8a418",
   "metadata": {},
   "outputs": [],
   "source": []
  },
  {
   "cell_type": "markdown",
   "id": "5caa0771-5104-484d-bdcc-8544bb66139f",
   "metadata": {},
   "source": [
    "## Coupled cluster calculation"
   ]
  },
  {
   "cell_type": "code",
   "execution_count": 126,
   "id": "2a305d7c-c2df-4ef9-9804-1d99ec86fa48",
   "metadata": {},
   "outputs": [],
   "source": [
    "ccd = CCD(system, mixer = DIIS, verbose=False)\n",
    "#ccd.setup_t_mixer(np=np)"
   ]
  },
  {
   "cell_type": "code",
   "execution_count": 129,
   "id": "d1010e2d-7d86-4503-a2d7-0e6a19cac91d",
   "metadata": {},
   "outputs": [
    {
     "name": "stdout",
     "output_type": "stream",
     "text": [
      "Ground state energy: (1.05156+0j)\n",
      "Ground state energy: (1.05156+0j)\n"
     ]
    }
   ],
   "source": [
    "conv_tol = 1e-7\n",
    "t_kwargs = dict(tol=conv_tol)\n",
    "l_kwargs = dict(tol=conv_tol)\n",
    "print(f\"Ground state energy: {ccd.compute_energy():.6}\")\n",
    "ccd.compute_ground_state(t_kwargs=t_kwargs, l_kwargs=l_kwargs)\n",
    "print(f\"Ground state energy: {ccd.compute_energy():.6}\")\n",
    "#energy = ccd.compute_one_body_expectation_value(system.h) + 0.5 * ccd.compute_two_body_expectation_value(system.u)\n",
    "#print(energy)"
   ]
  },
  {
   "cell_type": "code",
   "execution_count": 99,
   "id": "0003012a-fab4-4880-b56c-026e91a5161c",
   "metadata": {},
   "outputs": [],
   "source": [
    "ccd.rhs_t_2.fill(0)\n",
    "compute_t_2_amplitudes(ccd.f, ccd.u, ccd.t_2, ccd.o, ccd.v, out = ccd.rhs_t_2, np = np)\n",
    "direction_vector_1 = np.divide(ccd.rhs_t_2, ccd.d_t_2)\n",
    "trial_vector_1 = np.copy(ccd.t_2)\n",
    "error_vector_1 = np.copy(ccd.rhs_t_2)\n",
    "\n",
    "ccd.t_2 = ccd.t_2_mixer.compute_new_vector(trial_vector_1, direction_vector_1, error_vector_1)"
   ]
  },
  {
   "cell_type": "code",
   "execution_count": 100,
   "id": "7a4ea7f0-a550-419d-bfda-af859c54cf6b",
   "metadata": {},
   "outputs": [
    {
     "name": "stdout",
     "output_type": "stream",
     "text": [
      "[[-0.       0.6855  -0.      -0.      -0.       0.23397 -0.      -0.     ]\n",
      " [-0.6855  -0.       0.      -0.      -0.23397 -0.       0.      -0.     ]\n",
      " [-0.      -0.      -0.       0.30334 -0.       0.      -0.       0.13369]\n",
      " [ 0.      -0.      -0.30334 -0.      -0.      -0.      -0.13369 -0.     ]\n",
      " [-0.       0.23397 -0.       0.      -0.       0.15818 -0.      -0.     ]\n",
      " [-0.23397 -0.      -0.      -0.      -0.15818 -0.       0.      -0.     ]\n",
      " [-0.      -0.      -0.       0.13369 -0.      -0.      -0.       0.09357]\n",
      " [ 0.      -0.      -0.13369 -0.       0.      -0.      -0.09357 -0.     ]]\n",
      "[[-0.      -0.64469 -0.       0.      -0.      -0.13621 -0.       0.     ]\n",
      " [ 0.64469 -0.      -0.      -0.       0.13621 -0.      -0.      -0.     ]\n",
      " [-0.       0.      -0.      -0.39945 -0.      -0.      -0.      -0.15562]\n",
      " [-0.      -0.       0.39945 -0.       0.      -0.       0.15562 -0.     ]\n",
      " [-0.      -0.13621 -0.      -0.      -0.      -0.23933 -0.       0.     ]\n",
      " [ 0.13621 -0.       0.      -0.       0.23933 -0.      -0.      -0.     ]\n",
      " [-0.       0.      -0.      -0.15562 -0.       0.      -0.      -0.17002]\n",
      " [-0.      -0.       0.15562 -0.      -0.      -0.       0.17002 -0.     ]]\n",
      "[[ 0.       0.34893  0.      -0.       0.       0.10969  0.      -0.     ]\n",
      " [-0.34893  0.       0.       0.      -0.10969  0.       0.       0.     ]\n",
      " [ 0.      -0.       0.       0.30387  0.       0.       0.       0.17051]\n",
      " [ 0.       0.      -0.30387  0.      -0.       0.      -0.17051  0.     ]\n",
      " [ 0.       0.10969  0.       0.       0.       0.25592  0.      -0.     ]\n",
      " [-0.10969  0.      -0.       0.      -0.25592  0.       0.       0.     ]\n",
      " [ 0.      -0.       0.       0.17051  0.      -0.       0.       0.24324]\n",
      " [ 0.       0.      -0.17051  0.       0.       0.      -0.24324  0.     ]]\n"
     ]
    }
   ],
   "source": [
    "pprint(trial_vector_1)\n",
    "pprint(direction_vector_1)\n",
    "pprint(error_vector_1)"
   ]
  },
  {
   "cell_type": "code",
   "execution_count": 77,
   "id": "e7d63ea1-c7a7-4163-80bd-baec0e726688",
   "metadata": {},
   "outputs": [
    {
     "data": {
      "text/plain": [
       "array([[ 0.   ,  0.47 ,  0.   , -0.   ,  0.   ,  0.172],\n",
       "       [-0.47 ,  0.   ,  0.   ,  0.   , -0.172,  0.   ],\n",
       "       [ 0.   , -0.   ,  0.   ,  0.149,  0.   ,  0.   ],\n",
       "       [ 0.   ,  0.   , -0.149,  0.   , -0.   ,  0.   ],\n",
       "       [ 0.   ,  0.172,  0.   ,  0.   ,  0.   ,  0.018],\n",
       "       [-0.172,  0.   , -0.   ,  0.   , -0.018,  0.   ]])"
      ]
     },
     "execution_count": 77,
     "metadata": {},
     "output_type": "execute_result"
    }
   ],
   "source": [
    "ccd.rhs_t_2.fill(0)\n",
    "compute_t_2_amplitudes(ccd.f, ccd.u, ccd.t_2, ccd.o, ccd.v, out = ccd.rhs_t_2, np = np)\n",
    "direction_vector_2 = np.divide(ccd.rhs_t_2, ccd.d_t_2)\n",
    "trial_vector_2 = ccd.t_2\n",
    "error_vector_2 = ccd.rhs_t_2\n",
    "\n",
    "ccd.t_2_mixer.compute_new_vector(trial_vector_2, direction_vector_2, error_vector_2)[:, :, 1, 0].real"
   ]
  },
  {
   "cell_type": "code",
   "execution_count": 78,
   "id": "0456689d-aee3-483b-bb36-6b9c95ffa6ea",
   "metadata": {},
   "outputs": [
    {
     "name": "stdout",
     "output_type": "stream",
     "text": [
      "[[ 0.     0.192  0.    -0.     0.     0.142]\n",
      " [-0.192  0.     0.     0.    -0.142  0.   ]\n",
      " [ 0.    -0.     0.    -0.031  0.    -0.   ]\n",
      " [ 0.     0.     0.031  0.     0.     0.   ]\n",
      " [ 0.     0.142  0.    -0.     0.    -0.103]\n",
      " [-0.142  0.     0.     0.     0.103  0.   ]]\n",
      "[[-0.     0.571 -0.    -0.    -0.     0.06 ]\n",
      " [-0.571 -0.     0.    -0.    -0.06  -0.   ]\n",
      " [-0.    -0.    -0.     0.37  -0.     0.   ]\n",
      " [ 0.    -0.    -0.37  -0.    -0.    -0.   ]\n",
      " [-0.     0.06  -0.     0.    -0.     0.248]\n",
      " [-0.06  -0.    -0.    -0.    -0.248 -0.   ]]\n",
      "[[ 0.    -0.309  0.     0.     0.    -0.049]\n",
      " [ 0.309  0.    -0.     0.     0.049  0.   ]\n",
      " [ 0.     0.     0.    -0.281  0.    -0.   ]\n",
      " [-0.     0.     0.281  0.     0.     0.   ]\n",
      " [ 0.    -0.049  0.    -0.     0.    -0.265]\n",
      " [ 0.049  0.     0.     0.     0.265  0.   ]]\n"
     ]
    }
   ],
   "source": [
    "pprint(trial_vector_2)\n",
    "pprint(direction_vector_2)\n",
    "pprint(error_vector_2)"
   ]
  },
  {
   "cell_type": "code",
   "execution_count": null,
   "id": "91d3a782-ab7c-4a62-937c-2b755d2e26cb",
   "metadata": {},
   "outputs": [],
   "source": [
    "ccd.setup_t_mixer(np=np)\n",
    "pprint(ccd.t_2_mixer.compute_new_vector(\n",
    "    trial_vector_1, direction_vector_1, error_vector_1))"
   ]
  },
  {
   "cell_type": "code",
   "execution_count": null,
   "id": "101be281-a425-4ef7-952a-90cd9696ac48",
   "metadata": {},
   "outputs": [],
   "source": [
    "pprint(ccd.t_2_mixer.compute_new_vector(\n",
    "    trial_vector_2, direction_vector_2, error_vector_2))"
   ]
  },
  {
   "cell_type": "code",
   "execution_count": null,
   "id": "dd373782-062e-44b0-9a58-b3d86108f428",
   "metadata": {},
   "outputs": [],
   "source": [
    "mixer = DIIS(np = np)"
   ]
  },
  {
   "cell_type": "code",
   "execution_count": null,
   "id": "55b64fd4-4a29-45be-af7c-87b52c13ea81",
   "metadata": {},
   "outputs": [],
   "source": []
  },
  {
   "cell_type": "code",
   "execution_count": null,
   "id": "7d3bc2bb-a9d3-4cb9-9cdd-4a3b3e9ef918",
   "metadata": {},
   "outputs": [],
   "source": []
  },
  {
   "cell_type": "code",
   "execution_count": null,
   "id": "4a20e5bb-bd2f-4a3f-9368-d35ac294f6bc",
   "metadata": {},
   "outputs": [],
   "source": []
  },
  {
   "cell_type": "code",
   "execution_count": null,
   "id": "6fc3f7d9-4494-477a-b59d-39cf4bd2e544",
   "metadata": {},
   "outputs": [],
   "source": [
    "class AlphaMixer:\n",
    "    \"\"\"Basic mixer class\n",
    "    Parameters\n",
    "    ----------\n",
    "    theta : float\n",
    "        Mixing parameter. Must be in [0, 1]\n",
    "    np : module\n",
    "        Matrix library to be used, e.g., numpy, cupy, etc.\n",
    "    \"\"\"\n",
    "\n",
    "    def __init__(self, theta=0.1, np=None):\n",
    "        assert 0 <= theta <= 1, \"Mixing parameter theta must be in [0, 1]\"\n",
    "\n",
    "        self.theta = theta\n",
    "\n",
    "    def compute_new_vector(self, trial_vector, direction_vector, error_vector):\n",
    "        \"\"\"Compute new trial vector for mixing with full right hand side.\n",
    "        See T. Helgaker's book \"Molecular Electron-Structure Theory\" equations\n",
    "        (13.4.3), (13.4.6) and (13.4.10).\n",
    "        Parameters\n",
    "        ----------\n",
    "        trial_vector : np.array\n",
    "            Inital vector for mixing.\n",
    "        direction_vector : np.array\n",
    "            Vector to be addet to trial_vector.\n",
    "        error_vector : np.array\n",
    "            Not used in alpha mixer, for DIIS mixer.\n",
    "        Returns\n",
    "        -------\n",
    "        np.array\n",
    "            New mixed vector.\n",
    "        \"\"\"\n",
    "        new_trial = trial_vector + direction_vector\n",
    "\n",
    "        return (1 - self.theta) * new_trial + self.theta * trial_vector\n",
    "\n",
    "    def clear_vectors(self):\n",
    "        pass\n",
    "    \n",
    "class DIIS(AlphaMixer):\n",
    "    \"\"\"Direct Inversion in Iterative Subspace (DIIS)\n",
    "    General vector mixing class to accelerate quasi-Newton\n",
    "    using direct inversion of iterative space.\n",
    "    Code inherited from Simen Kvaal.\n",
    "    Parameters\n",
    "    ----------\n",
    "    np : module\n",
    "        Matrix library to be used, e.g., numpy, cupy, etc.\n",
    "    num_vecs : int\n",
    "        Number of vectors to keep in memory. Default is ``10``.\n",
    "    \"\"\"\n",
    "\n",
    "    def __init__(self, np, num_vecs=10):\n",
    "        self.np = np\n",
    "        self.num_vecs = num_vecs\n",
    "        self.stored = 0\n",
    "\n",
    "        self.trial_vectors = [0] * self.num_vecs\n",
    "        self.direction_vectors = [0] * self.num_vecs\n",
    "        self.error_vectors = [0] * self.num_vecs\n",
    "\n",
    "    def compute_new_vector(self, trial_vector, direction_vector, error_vector):\n",
    "        \"\"\"DIIS mixing scheme\n",
    "        Parameters\n",
    "        ----------\n",
    "        trial_vector : np.array\n",
    "            Inital vector for mixing.\n",
    "        direction_vector : np.array\n",
    "            Vector to be addet to trial_vector.\n",
    "        error_vector : np.array\n",
    "        Returns\n",
    "        -------\n",
    "        np.array\n",
    "            New mixed vector\n",
    "        \"\"\"\n",
    "\n",
    "        np = self.np\n",
    "\n",
    "        new_pos = self.stored % self.num_vecs\n",
    "        self.stored += 1\n",
    "\n",
    "        self.trial_vectors[new_pos] = trial_vector.ravel()\n",
    "        self.direction_vectors[new_pos] = direction_vector.ravel()\n",
    "        self.error_vectors[new_pos] = error_vector.ravel()\n",
    "\n",
    "        b_dim = self.stored if self.stored < self.num_vecs else self.num_vecs\n",
    "\n",
    "        b_vec = np.zeros(b_dim + 1, dtype=trial_vector.dtype)\n",
    "        b_mat = np.zeros((b_dim + 1, b_dim + 1), dtype=trial_vector.dtype)\n",
    "\n",
    "        for i in range(b_dim):\n",
    "            for j in range(i + 1):\n",
    "                b_mat[i, j] = np.dot(\n",
    "                    self.error_vectors[i], self.error_vectors[j]\n",
    "                )\n",
    "\n",
    "                if i != j:\n",
    "                    b_mat[j, i] = b_mat[i, j]\n",
    "\n",
    "            b_mat[i, b_dim] = -1.0\n",
    "            b_mat[b_dim, i] = -1.0\n",
    "\n",
    "        b_vec[b_dim] = -1.0\n",
    "        pre_condition = np.zeros_like(b_vec)\n",
    "        \n",
    "        if np.any(np.diag(b_mat)[:-1] <= 0):\n",
    "            pre_condition[:-1] = 1\n",
    "        else:\n",
    "            pre_condition[:-1] += np.power(np.diag(b_mat)[:-1], -0.5)\n",
    "\n",
    "        pre_condition[b_dim] = 1\n",
    "\n",
    "        for i in range(b_dim + 1):\n",
    "            for j in range(b_dim + 1):\n",
    "                b_mat[i, j] *= pre_condition[i] * pre_condition[j]\n",
    "        \n",
    "        weights = -np.linalg.pinv(b_mat)[b_dim]\n",
    "        weights[:-1] *= pre_condition[:-1]\n",
    "\n",
    "        new_trial_vector = np.zeros_like(self.trial_vectors[new_pos])\n",
    "\n",
    "        for i in range(b_dim):\n",
    "            new_trial_vector += weights[i] * (\n",
    "                self.trial_vectors[i] + self.direction_vectors[i]\n",
    "            )\n",
    "\n",
    "        return new_trial_vector.reshape(trial_vector.shape)\n",
    "\n",
    "    def clear_vectors(self):\n",
    "        \"\"\"\n",
    "        Delete all stored vectors and start fresh.\n",
    "        \"\"\"\n",
    "\n",
    "        self.trial_vectors = [0] * self.num_vecs\n",
    "        self.direction_vectors = [0] * self.num_vecs\n",
    "        self.error_vectors = [0] * self.num_vecs\n",
    "\n",
    "        self.stored = 0"
   ]
  },
  {
   "cell_type": "code",
   "execution_count": null,
   "id": "978a8519-fa21-453a-989b-b6cd77507b49",
   "metadata": {},
   "outputs": [],
   "source": [
    "ccsd = CCSD(system, mixer = DIIS, verbose=False)\n",
    "conv_tol = 1e-4\n",
    "t_kwargs = dict(tol=conv_tol)\n",
    "l_kwargs = dict(tol=conv_tol)\n",
    "\n",
    "print(f\"Ground state energy: {ccsd.compute_energy():.4}\")\n",
    "ccsd.compute_ground_state(t_kwargs=t_kwargs, l_kwargs=l_kwargs)\n",
    "print(f\"Ground state energy: {ccsd.compute_energy():.4}\")"
   ]
  },
  {
   "cell_type": "code",
   "execution_count": null,
   "id": "8137abe9-d60b-4e8c-9fc0-7fcde6b66000",
   "metadata": {},
   "outputs": [],
   "source": []
  }
 ],
 "metadata": {
  "kernelspec": {
   "display_name": "Python 3 (ipykernel)",
   "language": "python",
   "name": "python3"
  },
  "language_info": {
   "codemirror_mode": {
    "name": "ipython",
    "version": 3
   },
   "file_extension": ".py",
   "mimetype": "text/x-python",
   "name": "python",
   "nbconvert_exporter": "python",
   "pygments_lexer": "ipython3",
   "version": "3.8.5"
  }
 },
 "nbformat": 4,
 "nbformat_minor": 5
}
