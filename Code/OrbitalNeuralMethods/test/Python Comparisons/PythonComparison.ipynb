{
 "cells": [
  {
   "cell_type": "code",
   "execution_count": 1,
   "id": "3409b65b-9dc6-4b43-8bd8-aefd93ca3f0d",
   "metadata": {},
   "outputs": [
    {
     "data": {
      "text/plain": [
       "compute_new_vector (generic function with 1 method)"
      ]
     },
     "execution_count": 1,
     "metadata": {},
     "output_type": "execute_result"
    }
   ],
   "source": [
    "using BenchmarkTools: @btime\n",
    "import LinearAlgebra as la\n",
    "using TensorOperations: @tensor\n",
    "\n",
    "path = \"../../src/\"\n",
    "include(path * \"Systems/system.jl\")\n",
    "include(path * \"Methods/HF.jl\")\n",
    "include(path * \"Methods/CCD.jl\")\n",
    "include(path * \"Methods/CCSD.jl\")\n",
    "include(path * \"Methods/mixer.jl\")"
   ]
  },
  {
   "cell_type": "code",
   "execution_count": 2,
   "id": "b1cc7c03-108f-4871-8e1d-b00a668e88ad",
   "metadata": {},
   "outputs": [],
   "source": [
    "using PyCall"
   ]
  },
  {
   "cell_type": "code",
   "execution_count": 3,
   "id": "a819ed13-8930-4c82-929e-3592e479e36c",
   "metadata": {},
   "outputs": [],
   "source": [
    "py\"\"\"\n",
    "import numpy as np\n",
    "import scipy.special as spec\n",
    "\"\"\"\n",
    "@pyinclude(\"two_body_integrals.py\")\n",
    "@pyinclude(\"transform.py\")\n",
    "@pyinclude(\"HF.py\")\n",
    "@pyinclude(\"DIIS.py\")"
   ]
  },
  {
   "cell_type": "markdown",
   "id": "3b1330d7-e912-41b2-b408-3a675fe6e114",
   "metadata": {},
   "source": [
    "### Setup"
   ]
  },
  {
   "cell_type": "code",
   "execution_count": 118,
   "id": "cb29296f-fd90-43db-a40f-e3d00e675b63",
   "metadata": {},
   "outputs": [],
   "source": [
    "l = 3\n",
    "ω = 0.25\n",
    "basis = HOBasis(l, ω)\n",
    "\n",
    "n = 2\n",
    "V = ShieldedCoulomb(0.25)\n",
    "grid = [x for x in range(-10, stop = 10, length = 201)]\n",
    "spfs = spatial(basis, grid);"
   ]
  },
  {
   "cell_type": "code",
   "execution_count": 119,
   "id": "3c258465-10f5-40be-9998-1a69bbb74189",
   "metadata": {},
   "outputs": [],
   "source": [
    "for i in 1:l\n",
    "    if i in [2,3,6,7]\n",
    "        spfs[i] = spfs[i] * -1\n",
    "    end\n",
    "end"
   ]
  },
  {
   "cell_type": "code",
   "execution_count": 120,
   "id": "6698a29a-9c85-45d8-8159-9fbf84cbf942",
   "metadata": {},
   "outputs": [],
   "source": [
    "h = onebody(basis, grid);"
   ]
  },
  {
   "cell_type": "markdown",
   "id": "e78a9b98-d071-472d-b072-8a9b98617fcd",
   "metadata": {},
   "source": [
    "### Inner ints"
   ]
  },
  {
   "cell_type": "code",
   "execution_count": 121,
   "id": "747ecfcd-5e5d-40ea-830d-2c1d8d6e5e0c",
   "metadata": {},
   "outputs": [],
   "source": [
    "my_inner = inner_ints(spfs, grid, V::Interaction);"
   ]
  },
  {
   "cell_type": "code",
   "execution_count": 122,
   "id": "3c8830d8-c3aa-4878-b56d-1b5ac34471cf",
   "metadata": {},
   "outputs": [],
   "source": [
    "spf = reduce(vcat,transpose.(spfs));\n",
    "py_inner = py\"_compute_inner_integral\"(spf, basis.l, length(grid), Vector(grid), 1, 0.25);"
   ]
  },
  {
   "cell_type": "code",
   "execution_count": 123,
   "id": "3430494d-6aeb-41ea-a710-9b4785267191",
   "metadata": {},
   "outputs": [
    {
     "data": {
      "text/plain": [
       "true"
      ]
     },
     "execution_count": 123,
     "metadata": {},
     "output_type": "execute_result"
    }
   ],
   "source": [
    "py_inner ≈ my_inner"
   ]
  },
  {
   "cell_type": "markdown",
   "id": "d9af6dfc-a538-41e4-bb5c-bb9c573f57e8",
   "metadata": {},
   "source": [
    "### Outer ints"
   ]
  },
  {
   "cell_type": "code",
   "execution_count": 124,
   "id": "5bf9f691-913a-4434-97ad-f71f55f3da37",
   "metadata": {},
   "outputs": [],
   "source": [
    "my_u = outer_int(spfs, grid, my_inner);"
   ]
  },
  {
   "cell_type": "code",
   "execution_count": 125,
   "id": "4891b5ec-0b16-4bff-b312-c1b6a10b4492",
   "metadata": {},
   "outputs": [],
   "source": [
    "py_u = py\"_compute_orbital_integrals\"(spf, basis.l, py_inner, Vector(grid));"
   ]
  },
  {
   "cell_type": "code",
   "execution_count": 126,
   "id": "91336522-490f-4bf4-8cec-27c5a3343cad",
   "metadata": {},
   "outputs": [
    {
     "data": {
      "text/plain": [
       "true"
      ]
     },
     "execution_count": 126,
     "metadata": {},
     "output_type": "execute_result"
    }
   ],
   "source": [
    "py_u ≈ my_u"
   ]
  },
  {
   "cell_type": "markdown",
   "id": "2e919156-4f4c-4947-9742-bbc1bc9a5992",
   "metadata": {},
   "source": [
    "### Add spin"
   ]
  },
  {
   "cell_type": "code",
   "execution_count": 127,
   "id": "f0ece871-7699-49d8-bf8a-8fec6113bb5b",
   "metadata": {},
   "outputs": [],
   "source": [
    "py\"\n",
    "def antisym(u):\n",
    "    #return (u - u.transpose(0, 1, 3, 2)).real\n",
    "    return u.real\n",
    "\""
   ]
  },
  {
   "cell_type": "code",
   "execution_count": 128,
   "id": "44be0dd5-1bf7-4bdb-8a6f-ee25bab22757",
   "metadata": {},
   "outputs": [],
   "source": [
    "my_us = add_spin_u(my_u);"
   ]
  },
  {
   "cell_type": "code",
   "execution_count": 129,
   "id": "04fc722a-7edb-44f0-9233-96e0c7cdef27",
   "metadata": {},
   "outputs": [],
   "source": [
    "py_us = py\"add_spin_two_body\"(py_u);"
   ]
  },
  {
   "cell_type": "code",
   "execution_count": 130,
   "id": "38bbc412-6bbf-4267-ad60-89d5d012565a",
   "metadata": {},
   "outputs": [
    {
     "data": {
      "text/plain": [
       "true"
      ]
     },
     "execution_count": 130,
     "metadata": {},
     "output_type": "execute_result"
    }
   ],
   "source": [
    "my_us ≈ py_us"
   ]
  },
  {
   "cell_type": "markdown",
   "id": "db872b05-7f3b-417c-95e9-ecab0e4842fd",
   "metadata": {},
   "source": [
    "### Transform"
   ]
  },
  {
   "cell_type": "code",
   "execution_count": null,
   "id": "07379212-626a-4095-9313-bcd627066130",
   "metadata": {},
   "outputs": [],
   "source": [
    "C = rand(basis.l, basis.l);"
   ]
  },
  {
   "cell_type": "code",
   "execution_count": null,
   "id": "3e7dc0b0-f3f7-4e4b-9466-29807c9584e3",
   "metadata": {},
   "outputs": [],
   "source": [
    "my_tu = transform_twobody(my_u, C);"
   ]
  },
  {
   "cell_type": "code",
   "execution_count": null,
   "id": "18d2c2b5-dd85-4d63-a186-8fc136333c26",
   "metadata": {},
   "outputs": [],
   "source": [
    "py_tu = py\"transform_two_body_elements\"(py_u, C);"
   ]
  },
  {
   "cell_type": "code",
   "execution_count": null,
   "id": "36d00bf4-f9dd-4ddf-aefb-89498e584ec2",
   "metadata": {},
   "outputs": [],
   "source": [
    "my_tu ≈ py_tu"
   ]
  },
  {
   "cell_type": "markdown",
   "id": "99a95659-d9e5-450c-9e68-d959a47e7220",
   "metadata": {},
   "source": [
    "### Trapz"
   ]
  },
  {
   "cell_type": "code",
   "execution_count": null,
   "id": "bddb4049-0379-4439-9143-98068964ff63",
   "metadata": {},
   "outputs": [],
   "source": [
    "f = rand(100);\n",
    "x = rand(100);"
   ]
  },
  {
   "cell_type": "code",
   "execution_count": null,
   "id": "b4e44023-41ac-4d0a-91f2-a99029af741f",
   "metadata": {},
   "outputs": [],
   "source": [
    "my_trapz = trapz(f, x);"
   ]
  },
  {
   "cell_type": "code",
   "execution_count": null,
   "id": "c74c3aca-8398-4667-9ea6-97de79ee90d5",
   "metadata": {},
   "outputs": [],
   "source": [
    "py_trapz = py\"_trapz\"(f, x);"
   ]
  },
  {
   "cell_type": "code",
   "execution_count": null,
   "id": "dc30e931-9a27-4d70-9711-15b1c3ed0208",
   "metadata": {},
   "outputs": [],
   "source": [
    "my_trapz ≈ py_trapz"
   ]
  },
  {
   "cell_type": "markdown",
   "id": "9fc4013b-e480-4f36-8827-5ffb1035f090",
   "metadata": {},
   "source": [
    "### Hartree-Fock"
   ]
  },
  {
   "cell_type": "code",
   "execution_count": null,
   "id": "fe60bd34-702f-4363-8baf-5e0c03f3b0a2",
   "metadata": {},
   "outputs": [],
   "source": [
    "function getP(C, n, l)\n",
    "    P = zero(C)\n",
    "    for a in 1:l\n",
    "        for b in 1:l\n",
    "            @inbounds P[b, a] = 0\n",
    "        end\n",
    "    end\n",
    "    \n",
    "    for i in 1:n\n",
    "        for a in 1:l\n",
    "            for b in 1:l\n",
    "                @inbounds P[b, a] += conj(C[a, i]) * C[b, i]\n",
    "            end\n",
    "        end\n",
    "    end\n",
    "    return P\n",
    "end\n",
    "\n",
    "function getF(P, n, l, h, u)\n",
    "    F = zero(P)\n",
    "    F .= h\n",
    "    for c in 1:l\n",
    "        for d in 1:l\n",
    "            @inbounds P_dc = P[d, c]\n",
    "            for a in 1:l\n",
    "                for b in 1:l\n",
    "                    @inbounds F[a, b] += P_dc * u[a, c, b, d]\n",
    "                end\n",
    "            end\n",
    "        end\n",
    "    end\n",
    "    return F\n",
    "end"
   ]
  },
  {
   "cell_type": "code",
   "execution_count": null,
   "id": "03f1ddf7-a418-4fa9-9fa3-ba1f0dc6c7cd",
   "metadata": {},
   "outputs": [],
   "source": [
    "C = Matrix{Float64}(la.I(basis.l));"
   ]
  },
  {
   "cell_type": "markdown",
   "id": "e4d80606-4a6a-4f4c-a579-25914eef6397",
   "metadata": {},
   "source": [
    "### P"
   ]
  },
  {
   "cell_type": "code",
   "execution_count": null,
   "id": "3864c606-8549-46e3-bf7c-dca61d9e48a4",
   "metadata": {},
   "outputs": [],
   "source": [
    "my_P = getP(C, n, basis.l);"
   ]
  },
  {
   "cell_type": "code",
   "execution_count": null,
   "id": "263ee104-571b-4415-86d5-e22874b04359",
   "metadata": {},
   "outputs": [],
   "source": [
    "py_P = py\"getP\"(C, n);"
   ]
  },
  {
   "cell_type": "code",
   "execution_count": null,
   "id": "f5a96dda-d966-4196-b20b-ecab8fc416a1",
   "metadata": {},
   "outputs": [],
   "source": [
    "my_P ≈ py_P"
   ]
  },
  {
   "cell_type": "markdown",
   "id": "f2901267-3e10-4429-bbfd-87245c7160b6",
   "metadata": {
    "tags": []
   },
   "source": [
    "### F"
   ]
  },
  {
   "cell_type": "code",
   "execution_count": null,
   "id": "b72fccbc-4e51-47b8-ad78-2f1196e50aa3",
   "metadata": {},
   "outputs": [],
   "source": [
    "my_F = getF(my_P, n, basis.l, h, my_u);"
   ]
  },
  {
   "cell_type": "code",
   "execution_count": null,
   "id": "ae08a996-d248-4301-a9ad-5e5918749a0d",
   "metadata": {},
   "outputs": [],
   "source": [
    "py_F = py\"getF\"(py_P, h, py_u, n);"
   ]
  },
  {
   "cell_type": "code",
   "execution_count": null,
   "id": "5eae1ebc-4121-4a53-9c76-c9feb12d1101",
   "metadata": {},
   "outputs": [],
   "source": [
    "my_F ≈ py_F"
   ]
  },
  {
   "cell_type": "markdown",
   "id": "299b0803-a59c-477b-b2f4-b980b34e1186",
   "metadata": {},
   "source": [
    "### HF-Update"
   ]
  },
  {
   "cell_type": "code",
   "execution_count": null,
   "id": "993c79e2-4ac4-4021-bc43-f7ba584c7e8b",
   "metadata": {},
   "outputs": [],
   "source": [
    "my_C2 = la.eigvecs(my_F);"
   ]
  },
  {
   "cell_type": "code",
   "execution_count": null,
   "id": "a4f15157-b8d7-48ce-9df4-c9b25df590b8",
   "metadata": {},
   "outputs": [],
   "source": [
    "py_C2 = py\"np.linalg.eigh\"(py_F)[2];"
   ]
  },
  {
   "cell_type": "code",
   "execution_count": null,
   "id": "30f739ac-f600-4af4-8fbf-fffb110fce9e",
   "metadata": {},
   "outputs": [],
   "source": [
    "abs.(my_C2) ≈ abs.(py_C2) # The signs of the eigenvectors might not align"
   ]
  },
  {
   "cell_type": "code",
   "execution_count": null,
   "id": "f81a65fc-1416-4a9c-bea6-389f21b40928",
   "metadata": {},
   "outputs": [],
   "source": [
    "my_P2 = getP(my_C2, n, basis.l);\n",
    "my_F2 = getF(my_P2, n, basis.l, h, my_u);\n",
    "my_C3 = la.eigvecs(my_F2);"
   ]
  },
  {
   "cell_type": "code",
   "execution_count": null,
   "id": "eedb3893-2d51-408e-924c-28668ade1a17",
   "metadata": {},
   "outputs": [],
   "source": [
    "py_P2 = py\"getP\"(py_C2, n);\n",
    "py_F2 = py\"getF\"(py_P2, h, py_u, n);\n",
    "py_C3 = py\"np.linalg.eigh\"(py_F2)[2];"
   ]
  },
  {
   "cell_type": "code",
   "execution_count": null,
   "id": "c157c188-82a3-45bf-852a-54362e92cca0",
   "metadata": {},
   "outputs": [],
   "source": [
    "my_P2 ≈ py_P2"
   ]
  },
  {
   "cell_type": "code",
   "execution_count": null,
   "id": "baa1a145-d91f-49b4-aa02-ef90d1332e89",
   "metadata": {},
   "outputs": [],
   "source": [
    "my_F2 ≈ py_F2"
   ]
  },
  {
   "cell_type": "code",
   "execution_count": null,
   "id": "8e6fa45b-6b57-4e68-a920-9d14e163fb86",
   "metadata": {},
   "outputs": [],
   "source": [
    "abs.(my_C3) ≈ abs.(py_C3)"
   ]
  },
  {
   "cell_type": "markdown",
   "id": "9df24429-9a0e-466c-91ab-648645185849",
   "metadata": {},
   "source": [
    "### Spfs"
   ]
  },
  {
   "cell_type": "code",
   "execution_count": 78,
   "id": "8396913a-dff7-42b8-989e-19957c4cc85e",
   "metadata": {},
   "outputs": [],
   "source": [
    "py\"\"\"\n",
    "def ho_function(x, n, omega):\n",
    "    return (\n",
    "        normalization(n, omega)\n",
    "        * np.exp(-0.5 * omega * x ** 2)\n",
    "        * spec.hermite(n)(np.sqrt(omega) * x)\n",
    "    )\n",
    "\n",
    "def normalization(n, omega):\n",
    "    return (\n",
    "        1.0\n",
    "        / np.sqrt(2 ** n * spec.factorial(n))\n",
    "        * (omega / np.pi) ** 0.25\n",
    "    )\n",
    "\"\"\""
   ]
  },
  {
   "cell_type": "code",
   "execution_count": 84,
   "id": "5da0a75c-aede-460c-9237-1f180852bcc1",
   "metadata": {},
   "outputs": [],
   "source": [
    "x = Vector(grid);"
   ]
  },
  {
   "cell_type": "code",
   "execution_count": 86,
   "id": "b4aa75c5-3089-4674-89c2-00362855714a",
   "metadata": {},
   "outputs": [
    {
     "name": "stdout",
     "output_type": "stream",
     "text": [
      "true\n"
     ]
    }
   ],
   "source": [
    "println(py\"ho_function\"(x, 2, ω) ≈ spfs[3])"
   ]
  },
  {
   "cell_type": "markdown",
   "id": "10e9b8e8-f3dc-4349-87ac-fe1617aeb188",
   "metadata": {},
   "source": [
    "### DIIS"
   ]
  },
  {
   "cell_type": "code",
   "execution_count": 139,
   "id": "1eb82a6c-37bb-4c3b-ab06-91bbbc104ba3",
   "metadata": {},
   "outputs": [
    {
     "data": {
      "text/plain": [
       "(6, 6, 6, 6)"
      ]
     },
     "execution_count": 139,
     "metadata": {},
     "output_type": "execute_result"
    }
   ],
   "source": [
    "n = 6\n",
    "max_vecs = 10\n",
    "shape = (n, n, n, n)"
   ]
  },
  {
   "cell_type": "code",
   "execution_count": 140,
   "id": "d144deab-3bdf-48cc-8c6f-359bf7921bfd",
   "metadata": {},
   "outputs": [],
   "source": [
    "using Random: MersenneTwister"
   ]
  },
  {
   "cell_type": "code",
   "execution_count": 141,
   "id": "92f918a6-9fb7-4a01-a9ba-589ba2775195",
   "metadata": {},
   "outputs": [],
   "source": [
    "rng = MersenneTwister(0)\n",
    "vecs = 60\n",
    "trials = [rand(rng, Float64, shape) for i in 1:vecs]\n",
    "directions = [rand(rng, Float64, shape) for i in 1:vecs]\n",
    "errors = [rand(rng, Float64, shape) for i in 1:vecs];"
   ]
  },
  {
   "cell_type": "code",
   "execution_count": 142,
   "id": "bc6471eb-a846-477c-82db-b93fa7e449bd",
   "metadata": {},
   "outputs": [],
   "source": [
    "py\"\"\"\n",
    "def mix(max_vecs, trials, directions, errors):\n",
    "    mixer = DIIS(np, max_vecs)\n",
    "\n",
    "    result = []\n",
    "    for i,j,k in zip(trials, directions, errors):\n",
    "        result.append( mixer.compute_new_vector(i, j, k) )\n",
    "\n",
    "    return result\n",
    "\"\"\""
   ]
  },
  {
   "cell_type": "code",
   "execution_count": 143,
   "id": "6e225f95-d157-44f1-8c8e-689375e039ab",
   "metadata": {},
   "outputs": [
    {
     "data": {
      "text/plain": [
       "mix_test (generic function with 1 method)"
      ]
     },
     "execution_count": 143,
     "metadata": {},
     "output_type": "execute_result"
    }
   ],
   "source": [
    "function mix_test(max_vecs, trials, directions, errors)\n",
    "    mixer = DIIS(size(trials[1]), max_vecs);\n",
    "    \n",
    "    result = [zero(i) for i in trials]\n",
    "    for (iter, (i,j,k)) in enumerate( zip(trials, directions, errors) )\n",
    "        result[iter] .= compute_new_vector(mixer, i, j, k)\n",
    "    end\n",
    "    return result\n",
    "end"
   ]
  },
  {
   "cell_type": "code",
   "execution_count": 146,
   "id": "a48e95c9-b4ce-46eb-bcde-16890d179480",
   "metadata": {},
   "outputs": [
    {
     "data": {
      "text/plain": [
       "true"
      ]
     },
     "execution_count": 146,
     "metadata": {},
     "output_type": "execute_result"
    }
   ],
   "source": [
    "py\"mix\"(max_vecs, trials, directions, errors) ≈ mix_test(max_vecs, trials, directions, errors)"
   ]
  },
  {
   "cell_type": "code",
   "execution_count": null,
   "id": "16d13f61-eda9-4e95-bf2e-ac008814ada1",
   "metadata": {},
   "outputs": [],
   "source": []
  }
 ],
 "metadata": {
  "kernelspec": {
   "display_name": "Julia 8 threads 1.8.0",
   "language": "julia",
   "name": "julia-8-threads-1.8"
  },
  "language_info": {
   "file_extension": ".jl",
   "mimetype": "application/julia",
   "name": "julia",
   "version": "1.8.0"
  }
 },
 "nbformat": 4,
 "nbformat_minor": 5
}
