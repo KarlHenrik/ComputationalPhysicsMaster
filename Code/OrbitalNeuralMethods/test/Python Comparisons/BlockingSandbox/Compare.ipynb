{
 "cells": [
  {
   "cell_type": "code",
   "execution_count": 266,
   "id": "a25fae1c-78cc-45a0-9d2d-80b3d8fa00a1",
   "metadata": {},
   "outputs": [],
   "source": [
    "using PyCall\n",
    "import Random\n",
    "@pyinclude(\"block.py\")\n",
    "using Statistics\n",
    "using Plots"
   ]
  },
  {
   "cell_type": "code",
   "execution_count": 283,
   "id": "972c3ba3-fc0c-4d81-a9dd-0f9e85a79667",
   "metadata": {},
   "outputs": [
    {
     "data": {
      "text/plain": [
       "block (generic function with 1 method)"
      ]
     },
     "execution_count": 283,
     "metadata": {},
     "output_type": "execute_result"
    }
   ],
   "source": [
    "#include(\"../block_algo.jl\") #not here anymore"
   ]
  },
  {
   "cell_type": "code",
   "execution_count": 282,
   "id": "7fcb856b-1aa9-4ba0-b84b-b0eb8e04a2ae",
   "metadata": {},
   "outputs": [
    {
     "data": {
      "text/plain": [
       "10"
      ]
     },
     "execution_count": 282,
     "metadata": {},
     "output_type": "execute_result"
    }
   ],
   "source": [
    "n = 10\n",
    "noise = Random.rand(n)\n",
    "signal = sin.(range(0, 100, n))\n",
    "x = signal .+ noise\n",
    "n"
   ]
  },
  {
   "cell_type": "code",
   "execution_count": 284,
   "id": "85a1e55f-64fe-45da-be7e-4607c5909b64",
   "metadata": {},
   "outputs": [
    {
     "name": "stdout",
     "output_type": "stream",
     "text": [
      "Warning: Data size = 9, is not a power of 2.\n",
      "Truncating data to 8.\n",
      "Length of data = 10 is not a power of 2, truncating to 8 elements\n"
     ]
    },
    {
     "data": {
      "text/plain": [
       "0.0"
      ]
     },
     "execution_count": 284,
     "metadata": {},
     "output_type": "execute_result"
    }
   ],
   "source": [
    "py\"block\"(x) - block(x)"
   ]
  },
  {
   "cell_type": "code",
   "execution_count": 277,
   "id": "b8c59398-49f9-4b81-81db-63ab0db365d7",
   "metadata": {},
   "outputs": [
    {
     "data": {
      "text/plain": [
       "14.34782895556687"
      ]
     },
     "execution_count": 277,
     "metadata": {},
     "output_type": "execute_result"
    }
   ],
   "source": [
    "log2(20851)"
   ]
  },
  {
   "cell_type": "code",
   "execution_count": null,
   "id": "06a3ee69-956b-40e4-813b-ddb8847b7ce3",
   "metadata": {},
   "outputs": [],
   "source": []
  }
 ],
 "metadata": {
  "kernelspec": {
   "display_name": "Julia 8 threads 1.8.0",
   "language": "julia",
   "name": "julia-8-threads-1.8"
  },
  "language_info": {
   "file_extension": ".jl",
   "mimetype": "application/julia",
   "name": "julia",
   "version": "1.8.0"
  }
 },
 "nbformat": 4,
 "nbformat_minor": 5
}
