{
 "cells": [
  {
   "cell_type": "code",
   "execution_count": 1,
   "id": "c67fb05d-e09a-4b1f-b6ec-886ab51f3018",
   "metadata": {},
   "outputs": [],
   "source": [
    "import numpy as np"
   ]
  },
  {
   "cell_type": "code",
   "execution_count": 23,
   "id": "4d25261d-08ae-4120-95c9-bc1c02152ff4",
   "metadata": {},
   "outputs": [],
   "source": [
    "n = 2\n",
    "l = 20\n",
    "m = l - n"
   ]
  },
  {
   "cell_type": "code",
   "execution_count": 4,
   "id": "ac0e34bf-570a-404c-90ec-bff22c2c4bc0",
   "metadata": {},
   "outputs": [],
   "source": [
    "o = slice(0, n)\n",
    "v = slice(n, l)"
   ]
  },
  {
   "cell_type": "code",
   "execution_count": 59,
   "id": "a379902f-c078-44d3-b3fe-b9225e682726",
   "metadata": {},
   "outputs": [],
   "source": [
    "f = np.random.rand(l, l)"
   ]
  },
  {
   "cell_type": "code",
   "execution_count": 60,
   "id": "33c64217-b8f7-4f99-b6bd-a25fcfa9dc53",
   "metadata": {},
   "outputs": [],
   "source": [
    "u = np.random.rand(l, l, l, l)"
   ]
  },
  {
   "cell_type": "code",
   "execution_count": 61,
   "id": "a7257c8c-9e64-49a1-96d6-078738d722d0",
   "metadata": {},
   "outputs": [],
   "source": [
    "t = np.zeros((m, m, n, n), dtype=u.dtype)"
   ]
  },
  {
   "cell_type": "code",
   "execution_count": 62,
   "id": "fd540be7-8af6-4b00-b048-860b1b1c3e99",
   "metadata": {},
   "outputs": [],
   "source": [
    "f_diag = np.diag(f)\n",
    "d_t_2 = (\n",
    "    f_diag[o]\n",
    "    + f_diag[o].reshape(-1, 1)\n",
    "    - f_diag[v].reshape(-1, 1, 1)\n",
    "    - f_diag[v].reshape(-1, 1, 1, 1)\n",
    ")"
   ]
  },
  {
   "cell_type": "code",
   "execution_count": 63,
   "id": "a2210403-2bb5-4679-95f2-33f1797b6a64",
   "metadata": {},
   "outputs": [
    {
     "data": {
      "text/plain": [
       "(18, 18, 2, 2)"
      ]
     },
     "execution_count": 63,
     "metadata": {},
     "output_type": "execute_result"
    }
   ],
   "source": [
    "d_t_2.shape"
   ]
  },
  {
   "cell_type": "code",
   "execution_count": 65,
   "id": "56e29475-347e-4e6c-939e-27b7b10cdbb8",
   "metadata": {},
   "outputs": [],
   "source": [
    "np.copyto(t, u[v, v, o, o])\n",
    "np.divide(t, d_t_2, out = t);"
   ]
  },
  {
   "cell_type": "code",
   "execution_count": 66,
   "id": "91c2166a-b18a-4353-8d63-919cf0b6b637",
   "metadata": {},
   "outputs": [
    {
     "data": {
      "text/plain": [
       "636.9593406837408"
      ]
     },
     "execution_count": 66,
     "metadata": {},
     "output_type": "execute_result"
    }
   ],
   "source": [
    "r\"\"\"Ground state correlation energy for the coupled cluster doubles method\n",
    "    \\Delta E_{CCD} = 0.25 * t^{ab}_{ij} u^{ij}_{ab}.\n",
    "    \"\"\"\n",
    "\n",
    "0.25 * np.tensordot(\n",
    "    t, u[o, o, v, v], axes=((0, 1, 2, 3), (2, 3, 0, 1))\n",
    ")"
   ]
  },
  {
   "cell_type": "code",
   "execution_count": 79,
   "id": "3385ede0-c9d4-4f31-81aa-0030346bef45",
   "metadata": {},
   "outputs": [],
   "source": [
    "t2 = np.zeros((l, l, l, l))\n",
    "t2[v, v, o, o] += t"
   ]
  },
  {
   "cell_type": "code",
   "execution_count": 81,
   "id": "dbb40cde-4fa7-4955-a5a8-8e4f2bd8a00c",
   "metadata": {},
   "outputs": [
    {
     "data": {
      "text/plain": [
       "636.9593406837412"
      ]
     },
     "execution_count": 81,
     "metadata": {},
     "output_type": "execute_result"
    }
   ],
   "source": [
    "E = 0\n",
    "for i in range(n):\n",
    "    for j in range(n):\n",
    "        for a in range(n, l):\n",
    "            for b in range(n, l):\n",
    "                E += 0.25 * u[i, j, a, b] * t2[a, b, i, j]\n",
    "E"
   ]
  },
  {
   "cell_type": "code",
   "execution_count": null,
   "id": "05d1ed71-da81-40ea-926b-533eb467d24d",
   "metadata": {},
   "outputs": [],
   "source": []
  }
 ],
 "metadata": {
  "kernelspec": {
   "display_name": "Python 3 (ipykernel)",
   "language": "python",
   "name": "python3"
  },
  "language_info": {
   "codemirror_mode": {
    "name": "ipython",
    "version": 3
   },
   "file_extension": ".py",
   "mimetype": "text/x-python",
   "name": "python",
   "nbconvert_exporter": "python",
   "pygments_lexer": "ipython3",
   "version": "3.9.7"
  }
 },
 "nbformat": 4,
 "nbformat_minor": 5
}
