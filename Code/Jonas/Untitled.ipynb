{
 "cells": [
  {
   "cell_type": "code",
   "execution_count": 4,
   "id": "3c70ba0e-6505-43cc-9caf-c48e00798af2",
   "metadata": {},
   "outputs": [
    {
     "data": {
      "text/plain": [
       "Neutrons (generic function with 1 method)"
      ]
     },
     "execution_count": 4,
     "metadata": {},
     "output_type": "execute_result"
    }
   ],
   "source": [
    "abstract type Boson end\n",
    "abstract type Fermion end\n",
    "\n",
    "struct Particle{T}\n",
    "    mass::Float64       # is the particle's mass in mₑ.\n",
    "    charge::Float64       # is the particle's charge in qₑ.\n",
    "    spin::Float64      # is the particle's spin number in ħ.\n",
    "\n",
    "    function Particle(mass, charge, spin)\n",
    "        @assert (mass ≥ 0.0) \"The given mass $mass is not valid; input 0 or a positive number as 'mass'.\"\n",
    "        @assert (spin%(1//2) == 0) \"The given spin number $spin is not valid; input 0 or a positive multiple of 1/2 as 'spin'.\"\n",
    "        \n",
    "        if (spin%1 == 0)\n",
    "            class = Boson\n",
    "        else\n",
    "            class = Fermion\n",
    "        end\n",
    "\n",
    "        return new{class}(mass, charge, spin)\n",
    "    end\n",
    "end\n",
    "\n",
    "Electron() = Particle(1.0, -1, 1/2) # returns a Particle encoding an electron.\n",
    "Proton() = Particle(1836.15, +1, 1/2) # returns a Particle encoding a proton.\n",
    "Neutron() = Particle(1838.68, 0, 1/2) # returns a Particle encoding a neutron.\n",
    "\n",
    "Electrons(n) = (n, Electron()) # returns a tuple encoding n electrons.\n",
    "Protons(n) = (n, Proton()) # returns a tuple encoding n protons.\n",
    "Neutrons(n) = (n, Neutron()) # returns a tuple encoding n neutrons."
   ]
  },
  {
   "cell_type": "code",
   "execution_count": 7,
   "id": "2ea96cb1-0490-4a51-9784-13637091e16a",
   "metadata": {},
   "outputs": [],
   "source": [
    "e1 = Electrons(4)\n",
    "p1 = Protons(2);"
   ]
  },
  {
   "cell_type": "code",
   "execution_count": 8,
   "id": "8fa28fd3-ee9e-4da2-bf30-b50aa0db5de4",
   "metadata": {},
   "outputs": [],
   "source": [
    "import Base: +, -, /, *"
   ]
  },
  {
   "cell_type": "code",
   "execution_count": 10,
   "id": "eb8cb904-143e-432d-9eb4-188e18b10e96",
   "metadata": {},
   "outputs": [],
   "source": [
    "abstract type momentum end"
   ]
  },
  {
   "cell_type": "code",
   "execution_count": null,
   "id": "aaa84319-8a28-496a-9a10-9366f65bd845",
   "metadata": {},
   "outputs": [],
   "source": [
    "struct OneBodyProperty\n",
    "    \n",
    "end"
   ]
  },
  {
   "cell_type": "code",
   "execution_count": null,
   "id": "9d0fe3c1-9623-45cd-9216-eb6a8273beab",
   "metadata": {},
   "outputs": [],
   "source": [
    "struct OneBodyTerm\n",
    "    properties::Vector{OneBodyProperty}\n",
    "end"
   ]
  },
  {
   "cell_type": "code",
   "execution_count": null,
   "id": "9482d022-aafe-43a2-b255-4d2d24832d47",
   "metadata": {},
   "outputs": [],
   "source": [
    "function +(x::OneBodyProperty, y::OneBodyProperty)\n",
    "    \n",
    "end"
   ]
  },
  {
   "cell_type": "code",
   "execution_count": null,
   "id": "04968f6d-36d8-410c-8675-6160afe99e57",
   "metadata": {},
   "outputs": [],
   "source": [
    "struct OneBodyProperties\n",
    "    m\n",
    "    q\n",
    "    s\n",
    "    r\n",
    "    p\n",
    "    l\n",
    "end"
   ]
  },
  {
   "cell_type": "code",
   "execution_count": null,
   "id": "8ea45c7f-7d6d-4901-a743-7c42791bb33a",
   "metadata": {},
   "outputs": [],
   "source": [
    "(; x, p) = OneBodyProperties()\n",
    "\n",
    "ω = 0.25\n",
    "ob = OneBody(p^2/2 + (x-0.5) * ω, particles = [e1])\n",
    "\n",
    "(; x1, q1, x2, q2) = TwoBodyProperties()\n",
    "tb = TwoBody(q1 * q2 / (x1 - x2))"
   ]
  },
  {
   "cell_type": "code",
   "execution_count": null,
   "id": "c9401f3b-61fa-4749-a486-6749ead7ec85",
   "metadata": {},
   "outputs": [],
   "source": []
  }
 ],
 "metadata": {
  "kernelspec": {
   "display_name": "Julia 1.7.2",
   "language": "julia",
   "name": "julia-1.7"
  },
  "language_info": {
   "file_extension": ".jl",
   "mimetype": "application/julia",
   "name": "julia",
   "version": "1.7.2"
  }
 },
 "nbformat": 4,
 "nbformat_minor": 5
}
