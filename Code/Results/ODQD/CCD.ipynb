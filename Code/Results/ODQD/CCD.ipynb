{
 "cells": [
  {
   "cell_type": "code",
   "execution_count": 6,
   "id": "520603e7-b75d-4fa4-92c8-d914f6f66f30",
   "metadata": {},
   "outputs": [
    {
     "name": "stderr",
     "output_type": "stream",
     "text": [
      "\u001b[32m\u001b[1m  Activating\u001b[22m\u001b[39m project at `C:\\Users\\KarlH\\Desktop\\ComputationalPhysicsMaster\\Code\\OrbitalNeuralMethods`\n",
      "┌ Info: Precompiling OrbitalNeuralMethods [6de8678a-dd1c-461e-a987-24da1d9562b4]\n",
      "└ @ Base loading.jl:1423\n"
     ]
    }
   ],
   "source": [
    "using Pkg; Pkg.activate(\"C:\\\\Users\\\\KarlH\\\\Desktop\\\\ComputationalPhysicsMaster\\\\Code\\\\OrbitalNeuralMethods\")\n",
    "using Revise\n",
    "using OrbitalNeuralMethods"
   ]
  },
  {
   "cell_type": "code",
   "execution_count": 2,
   "id": "0c9578d3-2bb9-4e5e-b57b-bdcdef1372f0",
   "metadata": {},
   "outputs": [],
   "source": [
    "import LinearAlgebra as la"
   ]
  },
  {
   "cell_type": "code",
   "execution_count": 3,
   "id": "96db2c96-3bc1-4173-b3e1-41afed6d0cd9",
   "metadata": {
    "tags": []
   },
   "outputs": [],
   "source": [
    "using BenchmarkTools: @btime"
   ]
  },
  {
   "cell_type": "code",
   "execution_count": 4,
   "id": "56727029-5f0f-46dd-ac73-bac3c84a9ffb",
   "metadata": {},
   "outputs": [
    {
     "data": {
      "text/plain": [
       "pprint (generic function with 1 method)"
      ]
     },
     "execution_count": 4,
     "metadata": {},
     "output_type": "execute_result"
    }
   ],
   "source": [
    "function pprint(tensor)\n",
    "    display(round.(tensor[n+1:l, n+1:l, 1:n, 1:n], digits = 5)[:, :, 2, 1])\n",
    "end"
   ]
  },
  {
   "cell_type": "code",
   "execution_count": 5,
   "id": "f4aa0843-e9bc-4678-b74c-a37acb187364",
   "metadata": {},
   "outputs": [
    {
     "data": {
      "text/plain": [
       "uprint (generic function with 1 method)"
      ]
     },
     "execution_count": 5,
     "metadata": {},
     "output_type": "execute_result"
    }
   ],
   "source": [
    "function uprint(tensor)\n",
    "    display(round.(tensor, digits = 5)[:, :, 2, 1])\n",
    "end"
   ]
  },
  {
   "cell_type": "markdown",
   "id": "552b077f-3ead-4c87-8b25-1083eb4f0615",
   "metadata": {},
   "source": [
    "## HO Basis and Spatial System"
   ]
  },
  {
   "cell_type": "code",
   "execution_count": null,
   "id": "5f8cbf21-7267-40c3-9e55-70949b623f33",
   "metadata": {},
   "outputs": [],
   "source": [
    "l = 10\n",
    "ω = 0.25\n",
    "basis = SpinBasis(HOBasis(l, ω))\n",
    "\n",
    "n = 2\n",
    "V = ShieldedCoulomb(0.25)\n",
    "grid = [x for x in range(-10, stop = 10, length = 2001)]\n",
    "@time system = System(n, basis, grid, V);\n",
    "l = 2 * l"
   ]
  },
  {
   "cell_type": "markdown",
   "id": "e608cc4f-9c0c-494b-8673-898016546b6e",
   "metadata": {
    "tags": []
   },
   "source": [
    "## CCD"
   ]
  },
  {
   "cell_type": "code",
   "execution_count": null,
   "id": "46eae3fe-e4b5-4c13-8f31-47d9438fc994",
   "metadata": {},
   "outputs": [],
   "source": [
    "t1 = zeros((l, n))\n",
    "t2 = zeros((l, l, n, n))"
   ]
  },
  {
   "cell_type": "code",
   "execution_count": null,
   "id": "30911e93-4592-4cc9-86fc-0a5a02fca9fd",
   "metadata": {},
   "outputs": [],
   "source": []
  },
  {
   "cell_type": "code",
   "execution_count": null,
   "id": "4571a043-e776-413b-ac9e-8c9291cfc0c0",
   "metadata": {},
   "outputs": [],
   "source": [
    "ccd = setup_CCD(system);\n",
    "energy(ccd)"
   ]
  },
  {
   "cell_type": "code",
   "execution_count": null,
   "id": "05b162cd-d578-454c-87ac-8979ac6f599b",
   "metadata": {},
   "outputs": [],
   "source": [
    "CCD_Update!(ccd);\n",
    "energy(ccd)"
   ]
  },
  {
   "cell_type": "code",
   "execution_count": null,
   "id": "a5394e1a-1aec-4bbc-8c73-1bd50586049b",
   "metadata": {},
   "outputs": [],
   "source": [
    "err1, direction1, trial1 = CCD_Update!(ccd);"
   ]
  },
  {
   "cell_type": "code",
   "execution_count": null,
   "id": "ea246c57-1eef-4133-8d88-3fd9d5e08495",
   "metadata": {},
   "outputs": [],
   "source": [
    "err2, direction2, trial2 = CCD_Update!(ccd);"
   ]
  },
  {
   "cell_type": "code",
   "execution_count": null,
   "id": "1f2f6732-cf86-4ca0-87f5-d52b429316a6",
   "metadata": {},
   "outputs": [],
   "source": [
    "pprint(trial1)\n",
    "pprint(direction1)\n",
    "pprint(err1)"
   ]
  },
  {
   "cell_type": "code",
   "execution_count": null,
   "id": "e86de996-8141-4a93-b31a-24a536469f01",
   "metadata": {},
   "outputs": [],
   "source": [
    "mixer = DIIS((l, l, l, l));"
   ]
  },
  {
   "cell_type": "code",
   "execution_count": null,
   "id": "f1a9d114-b2c6-445a-8108-13f40df4c40a",
   "metadata": {},
   "outputs": [],
   "source": [
    "pprint(compute_new_vector(mixer::DIIS, trial1, direction1, err1))"
   ]
  },
  {
   "cell_type": "code",
   "execution_count": null,
   "id": "86082cb2-27c7-4ae2-9e4c-eb549ed71adc",
   "metadata": {},
   "outputs": [],
   "source": [
    "pprint(compute_new_vector(mixer::DIIS, trial2, direction2, err2))"
   ]
  },
  {
   "cell_type": "code",
   "execution_count": null,
   "id": "44609462-68a3-4af5-8e1a-653e9d5e989f",
   "metadata": {},
   "outputs": [],
   "source": [
    "pprint(trial2)\n",
    "pprint(direction2)\n",
    "pprint(err2)"
   ]
  },
  {
   "cell_type": "code",
   "execution_count": null,
   "id": "1b9c4ea3-f7f0-4593-97fb-934c13bd8ccb",
   "metadata": {},
   "outputs": [],
   "source": []
  }
 ],
 "metadata": {
  "kernelspec": {
   "display_name": "Julia (8 threads) 1.7.2",
   "language": "julia",
   "name": "julia-(8-threads)-1.7"
  },
  "language_info": {
   "file_extension": ".jl",
   "mimetype": "application/julia",
   "name": "julia",
   "version": "1.7.2"
  }
 },
 "nbformat": 4,
 "nbformat_minor": 5
}
