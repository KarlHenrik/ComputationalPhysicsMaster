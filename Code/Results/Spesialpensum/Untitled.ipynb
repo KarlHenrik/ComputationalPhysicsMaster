{
 "cells": [
  {
   "cell_type": "code",
   "execution_count": 1,
   "id": "27d416b8-d677-48f8-9b6b-ae94137efdbc",
   "metadata": {},
   "outputs": [
    {
     "name": "stderr",
     "output_type": "stream",
     "text": [
      "\u001b[32m\u001b[1m  Activating\u001b[22m\u001b[39m project at `C:\\Users\\KarlH\\Desktop\\ComputationalPhysicsMaster\\Code\\OrbitalNeuralMethods`\n"
     ]
    }
   ],
   "source": [
    "using Pkg; Pkg.activate(\"C:\\\\Users\\\\KarlH\\\\Desktop\\\\ComputationalPhysicsMaster\\\\Code\\\\OrbitalNeuralMethods\")\n",
    "using Revise\n",
    "using OrbitalNeuralMethods"
   ]
  },
  {
   "cell_type": "code",
   "execution_count": 2,
   "id": "fc75dbf0-8d6c-4083-98fa-d3b2a2679023",
   "metadata": {},
   "outputs": [],
   "source": [
    "using PyFormattedStrings\n",
    "import Plots as plt"
   ]
  },
  {
   "cell_type": "code",
   "execution_count": 3,
   "id": "cdf5d1ee-6113-4b77-94ed-b92adbd1bbe9",
   "metadata": {},
   "outputs": [],
   "source": [
    "l = 10\n",
    "ω = 0.25\n",
    "basis = SpinBasis(HOBasis(l, ω))\n",
    "\n",
    "n = 2\n",
    "V = ShieldedCoulomb(0.25)\n",
    "grid = [x for x in range(-10, stop = 10, length = 2001)]\n",
    "system = System(n, basis, grid, V);"
   ]
  },
  {
   "cell_type": "code",
   "execution_count": 129,
   "id": "83c37a1e-a108-448b-858f-84b10ad613b6",
   "metadata": {},
   "outputs": [],
   "source": [
    "hf = setup_HF(system);"
   ]
  },
  {
   "cell_type": "code",
   "execution_count": null,
   "id": "9c072eb4-6fa7-4901-b98d-ad5b875a0851",
   "metadata": {},
   "outputs": [],
   "source": []
  },
  {
   "cell_type": "code",
   "execution_count": 145,
   "id": "e06b807b-62c3-4b66-a6d4-053d78ba33f9",
   "metadata": {},
   "outputs": [
    {
     "data": {
      "text/plain": [
       "(0.0, -0.0)"
      ]
     },
     "execution_count": 145,
     "metadata": {},
     "output_type": "execute_result"
    }
   ],
   "source": [
    "update!(hf)\n",
    "maximum(imag.(la.eigvecs(ComplexF64.(hf.F)))), minimum(imag.(la.eigvecs(ComplexF64.(hf.F))))"
   ]
  },
  {
   "cell_type": "code",
   "execution_count": null,
   "id": "9716ec9b-3313-4fac-9843-05ac5e3aa01e",
   "metadata": {},
   "outputs": [],
   "source": []
  },
  {
   "cell_type": "code",
   "execution_count": null,
   "id": "470cbaea-a715-4038-951f-ed5654fa7cb3",
   "metadata": {},
   "outputs": [],
   "source": []
  }
 ],
 "metadata": {
  "kernelspec": {
   "display_name": "Julia (8 threads) 1.7.2",
   "language": "julia",
   "name": "julia-(8-threads)-1.7"
  },
  "language_info": {
   "file_extension": ".jl",
   "mimetype": "application/julia",
   "name": "julia",
   "version": "1.7.2"
  }
 },
 "nbformat": 4,
 "nbformat_minor": 5
}
