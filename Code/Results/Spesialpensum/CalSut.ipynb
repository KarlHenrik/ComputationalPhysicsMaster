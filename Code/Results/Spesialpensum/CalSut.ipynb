{
 "cells": [
  {
   "cell_type": "code",
   "execution_count": 2,
   "id": "c56284ca-49c2-46e8-9ab4-ecaf244193c2",
   "metadata": {},
   "outputs": [
    {
     "name": "stderr",
     "output_type": "stream",
     "text": [
      "\u001b[32m\u001b[1m  Activating\u001b[22m\u001b[39m project at `C:\\Users\\KarlH\\Desktop\\ComputationalPhysicsMaster\\Code\\OrbitalNeuralMethods`\n"
     ]
    }
   ],
   "source": [
    "using Pkg; Pkg.activate(\"C:\\\\Users\\\\KarlH\\\\Desktop\\\\ComputationalPhysicsMaster\\\\Code\\\\OrbitalNeuralMethods\")\n",
    "using Revise\n",
    "using OrbitalNeuralMethods"
   ]
  },
  {
   "cell_type": "code",
   "execution_count": 3,
   "id": "845395b6-efe1-4fab-9f57-ba96f6b95bd6",
   "metadata": {},
   "outputs": [],
   "source": [
    "using PyFormattedStrings"
   ]
  },
  {
   "cell_type": "markdown",
   "id": "c78450d6-315d-4d3f-a44a-2471e7538e8c",
   "metadata": {},
   "source": [
    "## HO Basis and Spatial System"
   ]
  },
  {
   "cell_type": "code",
   "execution_count": 58,
   "id": "28a6ce00-0fb4-475f-b9f3-ef85c98c2500",
   "metadata": {},
   "outputs": [
    {
     "name": "stdout",
     "output_type": "stream",
     "text": [
      "HO Basis Ref : E = 3.7590\n"
     ]
    }
   ],
   "source": [
    "l = 10\n",
    "ω = 0.25\n",
    "basis = SpinBasis(HOBasis(l, ω))\n",
    "\n",
    "n = 2\n",
    "V = CalogeroSutherland(2)\n",
    "grid = [x for x in range(-10, stop = 10, length = 2001)]\n",
    "system = System(n, basis, grid, V);\n",
    "println(f\"HO Basis Ref : E = {reference_energy(system):.4f}\")"
   ]
  },
  {
   "cell_type": "markdown",
   "id": "8d3cb174-23ef-404e-bd65-ded60951609f",
   "metadata": {},
   "source": [
    "## HF"
   ]
  },
  {
   "cell_type": "code",
   "execution_count": 61,
   "id": "d3fa1e70-f508-4d9b-9c3a-9bb8faaa98b9",
   "metadata": {},
   "outputs": [
    {
     "name": "stdout",
     "output_type": "stream",
     "text": [
      "HF  : E = 0.7744\n",
      "RHF : E = 5.1909\n"
     ]
    }
   ],
   "source": [
    "hf = setup_HF(system);\n",
    "compute_ground_state!(hf, max_iter = 100, tol = 1e-10)\n",
    "println(f\"HF  : E = {energy(hf):.4f}\")\n",
    "\n",
    "rhf = setup_RHF(system);\n",
    "compute_ground_state!(rhf, max_iter = 100, tol = 1e-10)\n",
    "println(f\"RHF : E = {energy(rhf):.4f}\")"
   ]
  },
  {
   "cell_type": "markdown",
   "id": "f17362ad-e0ef-4d22-ac68-811e487552e6",
   "metadata": {},
   "source": [
    "## CCD"
   ]
  },
  {
   "cell_type": "code",
   "execution_count": 29,
   "id": "54277323-0d5c-4af0-9e13-a0b5c8b7c696",
   "metadata": {},
   "outputs": [
    {
     "name": "stdout",
     "output_type": "stream",
     "text": [
      "CCD    : E = 10.8596\n",
      "CCD+RHF: E = 10.8578\n",
      "CCD+HF : E = 0.7520\n"
     ]
    }
   ],
   "source": [
    "ccd = setup_CCD(system);\n",
    "compute_ground_state!(ccd, max_iter = 1000, tol = 1e-10)\n",
    "println(f\"CCD    : E = {energy(ccd):.4f}\")\n",
    "\n",
    "ccd = setup_CCD(System(rhf));\n",
    "compute_ground_state!(ccd, max_iter = 1000, tol = 1e-10)\n",
    "println(f\"CCD+RHF: E = {energy(ccd):.4f}\")\n",
    "\n",
    "ccd = setup_CCD(System(hf));\n",
    "compute_ground_state!(ccd, max_iter = 1000, tol = 1e-10)\n",
    "println(f\"CCD+HF : E = {energy(ccd):.4f}\")"
   ]
  },
  {
   "cell_type": "markdown",
   "id": "5932f9b1-0af6-4f4c-8622-26d0042cf999",
   "metadata": {
    "tags": []
   },
   "source": [
    "## CCSD"
   ]
  },
  {
   "cell_type": "code",
   "execution_count": 30,
   "id": "101ea82b-ee7c-4f20-ac12-c3b263500db5",
   "metadata": {},
   "outputs": [
    {
     "name": "stdout",
     "output_type": "stream",
     "text": [
      "CCSD    : E = 1910.7800\n",
      "CCSD+RHF: E = 10.8603\n",
      "CCSD+HF : E = 0.7471\n"
     ]
    }
   ],
   "source": [
    "ccsd = setup_CCSD(system);\n",
    "compute_ground_state!(ccsd, max_iter = 1000, tol = 1e-10)\n",
    "println(f\"CCSD    : E = {energy(ccsd):.4f}\")\n",
    "\n",
    "ccsd = setup_CCSD(System(rhf));\n",
    "compute_ground_state!(ccsd, max_iter = 1000, tol = 1e-10)\n",
    "println(f\"CCSD+RHF: E = {energy(ccsd):.4f}\")\n",
    "\n",
    "ccsd = setup_CCSD(System(hf));\n",
    "compute_ground_state!(ccsd, max_iter = 1000, tol = 1e-10)\n",
    "println(f\"CCSD+HF : E = {energy(ccsd):.4f}\")"
   ]
  },
  {
   "cell_type": "code",
   "execution_count": 17,
   "id": "82b2757c-3ad1-4a99-9867-c11659020bda",
   "metadata": {},
   "outputs": [
    {
     "data": {
      "text/plain": [
       "4.0"
      ]
     },
     "execution_count": 17,
     "metadata": {},
     "output_type": "execute_result"
    }
   ],
   "source": [
    "β = 2\n",
    "n / 2 + β / 2 * (n * n - 1)"
   ]
  },
  {
   "cell_type": "code",
   "execution_count": null,
   "id": "4cb5829a-c383-4ab2-95a2-ff85d613b07e",
   "metadata": {},
   "outputs": [],
   "source": []
  }
 ],
 "metadata": {
  "kernelspec": {
   "display_name": "Julia (8 threads) 1.7.2",
   "language": "julia",
   "name": "julia-(8-threads)-1.7"
  },
  "language_info": {
   "file_extension": ".jl",
   "mimetype": "application/julia",
   "name": "julia",
   "version": "1.7.2"
  }
 },
 "nbformat": 4,
 "nbformat_minor": 5
}
