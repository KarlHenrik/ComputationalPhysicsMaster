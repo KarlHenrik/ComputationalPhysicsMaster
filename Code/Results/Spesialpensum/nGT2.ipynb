{
 "cells": [
  {
   "cell_type": "code",
   "execution_count": 7,
   "id": "ec2a9515-433c-49ce-bea9-8dd718240d60",
   "metadata": {},
   "outputs": [
    {
     "name": "stderr",
     "output_type": "stream",
     "text": [
      "\u001b[32m\u001b[1m  Activating\u001b[22m\u001b[39m project at `C:\\Users\\KarlH\\Desktop\\ComputationalPhysicsMaster\\Code\\OrbitalNeuralMethods`\n"
     ]
    }
   ],
   "source": [
    "using Pkg; Pkg.activate(\"C:\\\\Users\\\\KarlH\\\\Desktop\\\\ComputationalPhysicsMaster\\\\Code\\\\OrbitalNeuralMethods\")\n",
    "using Revise\n",
    "using OrbitalNeuralMethods"
   ]
  },
  {
   "cell_type": "code",
   "execution_count": 8,
   "id": "7e984965-83e9-4919-9365-4cc3bc1f2e37",
   "metadata": {},
   "outputs": [],
   "source": [
    "using PyFormattedStrings\n",
    "import Plots as plt"
   ]
  },
  {
   "cell_type": "code",
   "execution_count": 9,
   "id": "f305c8c9-d15d-4475-8e3e-e111c46f2dd2",
   "metadata": {},
   "outputs": [],
   "source": [
    "l = 10\n",
    "ω = 0.25\n",
    "basis = SpinBasis(HOBasis(l, ω))\n",
    "\n",
    "n = 4\n",
    "V = ShieldedCoulomb(0.25)\n",
    "grid = [x for x in range(-10, stop = 10, length = 2001)]\n",
    "system = System(n, basis, grid, V);"
   ]
  },
  {
   "cell_type": "code",
   "execution_count": 14,
   "id": "49463f68-246f-4435-a1c1-eef252e856e3",
   "metadata": {},
   "outputs": [
    {
     "data": {
      "text/plain": [
       "3.790045582"
      ]
     },
     "execution_count": 14,
     "metadata": {},
     "output_type": "execute_result"
    }
   ],
   "source": [
    "n4_CI = 3.7900455820\n",
    "exact = n4_CI"
   ]
  },
  {
   "cell_type": "markdown",
   "id": "4d743064-b3ee-4083-a0d8-5ad708b0104f",
   "metadata": {},
   "source": [
    "## HF"
   ]
  },
  {
   "cell_type": "code",
   "execution_count": 15,
   "id": "2d64e5e1-aeff-440d-9047-8868507e55e4",
   "metadata": {},
   "outputs": [
    {
     "name": "stdout",
     "output_type": "stream",
     "text": [
      "Did not converge after 1000 iterations. Final energy change was -0.09107772131137715\n",
      "HF  : E = 5.2873, D = 1.4972\n",
      "Did not converge after 1000 iterations. Final energy change was 0.11849608609260187\n",
      "RHF : E = 6.1703, D = 2.3803\n"
     ]
    }
   ],
   "source": [
    "hf = setup_HF(system);\n",
    "compute_ground_state!(hf, max_iter = 1000, tol = 1e-10)\n",
    "println(f\"HF  : E = {energy(hf):.4f}, D = {energy(hf) - exact:.4f}\")\n",
    "\n",
    "rhf = setup_RHF(system);\n",
    "compute_ground_state!(rhf, max_iter = 1000, tol = 1e-10)\n",
    "println(f\"RHF : E = {energy(rhf):.4f}, D = {energy(rhf) - exact:.4f}\")"
   ]
  },
  {
   "cell_type": "markdown",
   "id": "304cd32b-f8bc-46be-99e8-483bcf1cb504",
   "metadata": {},
   "source": [
    "## CCD"
   ]
  },
  {
   "cell_type": "code",
   "execution_count": 16,
   "id": "149c8d9c-5831-4fab-b8f9-eaafd01571a0",
   "metadata": {},
   "outputs": [
    {
     "name": "stdout",
     "output_type": "stream",
     "text": [
      "CCD    : E = 3.9102, D = 0.1202\n",
      "Did not converge after 1000 iterations. Final energy change was -0.6863904366806874\n",
      "CCD+RHF: E = 10.1493, D = 6.3592\n",
      "Did not converge after 1000 iterations. Final energy change was -0.4795855405941962\n",
      "CCD+HF : E = 5.6330, D = 1.8429\n"
     ]
    }
   ],
   "source": [
    "ccd = setup_CCD(system);\n",
    "compute_ground_state!(ccd, max_iter = 1000, tol = 1e-10)\n",
    "println(f\"CCD    : E = {energy(ccd):.4f}, D = {energy(ccd) - exact:.4f}\")\n",
    "\n",
    "ccd = setup_CCD(System(rhf));\n",
    "compute_ground_state!(ccd, max_iter = 1000, tol = 1e-10)\n",
    "println(f\"CCD+RHF: E = {energy(ccd):.4f}, D = {energy(ccd) - exact:.4f}\")\n",
    "\n",
    "ccd = setup_CCD(System(hf));\n",
    "compute_ground_state!(ccd, max_iter = 1000, tol = 1e-10)\n",
    "println(f\"CCD+HF : E = {energy(ccd):.4f}, D = {energy(ccd) - exact:.4f}\")"
   ]
  },
  {
   "cell_type": "markdown",
   "id": "115c5b3f-d9a4-4c5c-a6b9-96fc3d932bd3",
   "metadata": {
    "tags": []
   },
   "source": [
    "## CCSD"
   ]
  },
  {
   "cell_type": "code",
   "execution_count": 17,
   "id": "dc187419-cf0f-494e-8f90-d58debd3a59b",
   "metadata": {},
   "outputs": [
    {
     "name": "stdout",
     "output_type": "stream",
     "text": [
      "CCSD    : E = 3.7956, D = 0.0055\n",
      "Did not converge after 1000 iterations. Final energy change was 1.6023797404370157\n",
      "CCSD+RHF: E = 68.1235, D = 64.3335\n",
      "Did not converge after 1000 iterations. Final energy change was -0.011663691357147954\n",
      "CCSD+HF : E = 4.7195, D = 0.9295\n"
     ]
    }
   ],
   "source": [
    "ccsd = setup_CCSD(system);\n",
    "compute_ground_state!(ccsd, max_iter = 1000, tol = 1e-10)\n",
    "println(f\"CCSD    : E = {energy(ccsd):.4f}, D = {energy(ccsd) - exact:.4f}\")\n",
    "\n",
    "ccsd = setup_CCSD(System(rhf));\n",
    "compute_ground_state!(ccsd, max_iter = 1000, tol = 1e-10)\n",
    "println(f\"CCSD+RHF: E = {energy(ccsd):.4f}, D = {energy(ccsd) - exact:.4f}\")\n",
    "\n",
    "ccsd = setup_CCSD(System(hf));\n",
    "compute_ground_state!(ccsd, max_iter = 1000, tol = 1e-10)\n",
    "println(f\"CCSD+HF : E = {energy(ccsd):.4f}, D = {energy(ccsd) - exact:.4f}\")"
   ]
  },
  {
   "cell_type": "code",
   "execution_count": null,
   "id": "dfa3e805-2755-4333-b02b-d8fe1324d090",
   "metadata": {},
   "outputs": [],
   "source": []
  }
 ],
 "metadata": {
  "kernelspec": {
   "display_name": "Julia (8 threads) 1.7.2",
   "language": "julia",
   "name": "julia-(8-threads)-1.7"
  },
  "language_info": {
   "file_extension": ".jl",
   "mimetype": "application/julia",
   "name": "julia",
   "version": "1.7.2"
  }
 },
 "nbformat": 4,
 "nbformat_minor": 5
}
