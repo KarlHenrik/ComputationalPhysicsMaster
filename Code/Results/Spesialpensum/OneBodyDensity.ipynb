{
 "cells": [
  {
   "cell_type": "code",
   "execution_count": null,
   "id": "4ae4174a-d6fa-4f31-b4cf-d0973e135362",
   "metadata": {},
   "outputs": [],
   "source": [
    "function obd(C, system)\n",
    "    (; grid, n, spfs)\n",
    "    grid_points = size(grid)\n",
    "    scale = grid_points / grid[end] # ???\n",
    "    \n",
    "    density = zeros((n, grid_points))\n",
    "    \n",
    "    for i in 1:n\n",
    "        phi_i = C[:, i]\n",
    "        density[i] .+= \n",
    "        \n",
    "    end\n",
    "end"
   ]
  },
  {
   "cell_type": "code",
   "execution_count": null,
   "id": "85f08233-e832-4ec8-8f34-dbe90d6cc9e3",
   "metadata": {},
   "outputs": [],
   "source": [
    "def getDensity(C, system):\n",
    "    grid = system.spf[0].shape[0] # gridpoints\n",
    "    scale = grid / system.grid[-1] # avg value per point on the grid\n",
    "    n = system.n\n",
    "    density = np.zeros((n, grid))\n",
    "    \n",
    "    for i in range(n):\n",
    "        phi_i = C[:, i] # molecular orbital for particle i\n",
    "        density[i] += np.abs(np.einsum(\"i, ij -> j\", phi_i[::2], system.spf[::2]))**2 # spin up\n",
    "        density[i] += np.abs(np.einsum(\"i, ij -> j\", phi_i[1::2], system.spf[1::2]))**2 # spin down\n",
    "        density[i] *= scale / np.sum(density[i])\n",
    "        \n",
    "    tot_density = np.sum(density, axis = 0)\n",
    "    tot_density *= scale / np.sum(tot_density)\n",
    "    \n",
    "    return tot_density, density"
   ]
  }
 ],
 "metadata": {
  "kernelspec": {
   "display_name": "Julia (8 threads) 1.7.2",
   "language": "julia",
   "name": "julia-(8-threads)-1.7"
  },
  "language_info": {
   "file_extension": ".jl",
   "mimetype": "application/julia",
   "name": "julia",
   "version": "1.7.2"
  }
 },
 "nbformat": 4,
 "nbformat_minor": 5
}
