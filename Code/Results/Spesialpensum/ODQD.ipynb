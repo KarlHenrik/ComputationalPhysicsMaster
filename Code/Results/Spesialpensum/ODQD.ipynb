{
 "cells": [
  {
   "cell_type": "code",
   "execution_count": 1,
   "id": "bbdcfa6c-75f6-49f8-bc18-c2695db02319",
   "metadata": {},
   "outputs": [
    {
     "name": "stderr",
     "output_type": "stream",
     "text": [
      "\u001b[32m\u001b[1m  Activating\u001b[22m\u001b[39m project at `C:\\Users\\KarlH\\Desktop\\ComputationalPhysicsMaster\\Code\\OrbitalNeuralMethods`\n",
      "┌ Info: Precompiling OrbitalNeuralMethods [6de8678a-dd1c-461e-a987-24da1d9562b4]\n",
      "└ @ Base loading.jl:1423\n"
     ]
    }
   ],
   "source": [
    "using Pkg; Pkg.activate(\"C:\\\\Users\\\\KarlH\\\\Desktop\\\\ComputationalPhysicsMaster\\\\Code\\\\OrbitalNeuralMethods\")\n",
    "using Revise\n",
    "using OrbitalNeuralMethods"
   ]
  },
  {
   "cell_type": "code",
   "execution_count": 20,
   "id": "4b61abb7-86a7-4d0c-bbfc-ed8df17ad28b",
   "metadata": {},
   "outputs": [],
   "source": [
    "using PyFormattedStrings"
   ]
  },
  {
   "cell_type": "markdown",
   "id": "d72f6c2e-edcf-4230-9d27-0df2a2a11c1d",
   "metadata": {},
   "source": [
    "## HO Basis and Spatial System"
   ]
  },
  {
   "cell_type": "code",
   "execution_count": 38,
   "id": "49c42a6d-1cbc-4217-8a32-2c823987d3ea",
   "metadata": {},
   "outputs": [
    {
     "name": "stdout",
     "output_type": "stream",
     "text": [
      "HO Basis Ref : E = 1.3837\n"
     ]
    }
   ],
   "source": [
    "l = 10\n",
    "ω = 0.25\n",
    "basis = SpinBasis(HOBasis(l, ω))\n",
    "\n",
    "n = 2\n",
    "V = ShieldedCoulomb(0.25)\n",
    "grid = [x for x in range(-10, stop = 10, length = 2001)]\n",
    "system = System(n, basis, grid, V);\n",
    "println(f\"HO Basis Ref : E = {reference_energy(system):.4f}\")"
   ]
  },
  {
   "cell_type": "markdown",
   "id": "f1a41a88-d361-46c8-9859-ccd7307486e1",
   "metadata": {},
   "source": [
    "## HF"
   ]
  },
  {
   "cell_type": "code",
   "execution_count": 39,
   "id": "113b40e2-b14d-499f-ac42-d64e8412d549",
   "metadata": {},
   "outputs": [
    {
     "name": "stdout",
     "output_type": "stream",
     "text": [
      "HF  : E = 0.8450\n",
      "RHF : E = 1.1796\n"
     ]
    }
   ],
   "source": [
    "hf = setup_HF(system);\n",
    "compute_ground_state!(hf, max_iter = 1000, tol = 1e-10)\n",
    "println(f\"HF  : E = {energy(hf):.4f}\")\n",
    "\n",
    "rhf = setup_RHF(system);\n",
    "compute_ground_state!(rhf, max_iter = 1000, tol = 1e-10)\n",
    "println(f\"RHF : E = {energy(rhf):.4f}\")"
   ]
  },
  {
   "cell_type": "markdown",
   "id": "42c54bad-5712-4f42-b82b-273d3429ff9b",
   "metadata": {},
   "source": [
    "## CCD"
   ]
  },
  {
   "cell_type": "code",
   "execution_count": 40,
   "id": "08de3295-e137-48ac-b727-7a9e5e671a30",
   "metadata": {},
   "outputs": [
    {
     "name": "stdout",
     "output_type": "stream",
     "text": [
      "CCD    : E = 1.0517\n",
      "CCD+RHF: E = 0.8384\n",
      "CCD+HF : E = 0.8377\n"
     ]
    }
   ],
   "source": [
    "ccd = setup_CCD(system);\n",
    "compute_ground_state!(ccd, max_iter = 1000, tol = 1e-10)\n",
    "println(f\"CCD    : E = {energy(ccd):.4f}\")\n",
    "\n",
    "ccd = setup_CCD(System(rhf));\n",
    "compute_ground_state!(ccd, max_iter = 1000, tol = 1e-10)\n",
    "println(f\"CCD+RHF: E = {energy(ccd):.4f}\")\n",
    "\n",
    "ccd = setup_CCD(System(hf));\n",
    "compute_ground_state!(ccd, max_iter = 1000, tol = 1e-10)\n",
    "println(f\"CCD+HF : E = {energy(ccd):.4f}\")"
   ]
  },
  {
   "cell_type": "markdown",
   "id": "2a9a171e-85d5-4cec-a53c-f4786e91843d",
   "metadata": {
    "tags": []
   },
   "source": [
    "## CCSD"
   ]
  },
  {
   "cell_type": "code",
   "execution_count": 41,
   "id": "535787c6-d4e4-4b18-a2b1-3f5dafc88299",
   "metadata": {},
   "outputs": [
    {
     "name": "stdout",
     "output_type": "stream",
     "text": [
      "CCSD    : E = 0.8253\n",
      "CCSD+RHF: E = 0.8253\n",
      "CCSD+HF : E = 0.8374\n"
     ]
    }
   ],
   "source": [
    "ccsd = setup_CCSD(system);\n",
    "compute_ground_state!(ccsd, max_iter = 1000, tol = 1e-10)\n",
    "println(f\"CCSD    : E = {energy(ccsd):.4f}\")\n",
    "\n",
    "ccsd = setup_CCSD(System(rhf));\n",
    "compute_ground_state!(ccsd, max_iter = 1000, tol = 1e-10)\n",
    "println(f\"CCSD+RHF: E = {energy(ccsd):.4f}\")\n",
    "\n",
    "ccsd = setup_CCSD(System(hf));\n",
    "compute_ground_state!(ccsd, max_iter = 1000, tol = 1e-10)\n",
    "println(f\"CCSD+HF : E = {energy(ccsd):.4f}\")"
   ]
  },
  {
   "cell_type": "code",
   "execution_count": null,
   "id": "97e6e76c-92bd-429d-bd9f-911727212b77",
   "metadata": {},
   "outputs": [],
   "source": []
  },
  {
   "cell_type": "code",
   "execution_count": null,
   "id": "21c27dc9-8010-4b1a-9b60-78982602733f",
   "metadata": {},
   "outputs": [],
   "source": []
  }
 ],
 "metadata": {
  "kernelspec": {
   "display_name": "Julia (8 threads) 1.7.2",
   "language": "julia",
   "name": "julia-(8-threads)-1.7"
  },
  "language_info": {
   "file_extension": ".jl",
   "mimetype": "application/julia",
   "name": "julia",
   "version": "1.7.2"
  }
 },
 "nbformat": 4,
 "nbformat_minor": 5
}
