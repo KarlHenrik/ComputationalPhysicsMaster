{
 "cells": [
  {
   "cell_type": "code",
   "execution_count": 1,
   "id": "deb829de-2bdd-4a02-92eb-5c41fc981753",
   "metadata": {},
   "outputs": [
    {
     "name": "stderr",
     "output_type": "stream",
     "text": [
      "\u001b[32m\u001b[1m  Activating\u001b[22m\u001b[39m project at `C:\\Users\\KarlH\\Desktop\\ComputationalPhysicsMaster\\Code\\OrbitalNeuralMethods`\n",
      "┌ Info: Precompiling OrbitalNeuralMethods [6de8678a-dd1c-461e-a987-24da1d9562b4]\n",
      "└ @ Base loading.jl:1423\n"
     ]
    }
   ],
   "source": [
    "using Pkg; Pkg.activate(\"C:\\\\Users\\\\KarlH\\\\Desktop\\\\ComputationalPhysicsMaster\\\\Code\\\\OrbitalNeuralMethods\")\n",
    "using Revise\n",
    "using OrbitalNeuralMethods"
   ]
  },
  {
   "cell_type": "code",
   "execution_count": 2,
   "id": "fdc5dffc-2cb3-433e-8e23-2057c0710e15",
   "metadata": {},
   "outputs": [],
   "source": [
    "import LinearAlgebra as la"
   ]
  },
  {
   "cell_type": "code",
   "execution_count": 3,
   "id": "faeed99e-a81c-4195-9575-b56396a463c9",
   "metadata": {
    "tags": []
   },
   "outputs": [],
   "source": [
    "using BenchmarkTools: @btime"
   ]
  },
  {
   "cell_type": "code",
   "execution_count": 4,
   "id": "5d6184ef-fd99-4b33-bb35-bc52c1b8204f",
   "metadata": {},
   "outputs": [
    {
     "data": {
      "text/plain": [
       "pprint (generic function with 1 method)"
      ]
     },
     "execution_count": 4,
     "metadata": {},
     "output_type": "execute_result"
    }
   ],
   "source": [
    "function pprint(tensor)\n",
    "    display(round.(tensor[n+1:l, n+1:l, 1:n, 1:n], digits = 5)[:, :, 2, 1])\n",
    "end"
   ]
  },
  {
   "cell_type": "code",
   "execution_count": 5,
   "id": "9f245a27-3786-4863-92ab-bfe10c0c0f6c",
   "metadata": {},
   "outputs": [
    {
     "data": {
      "text/plain": [
       "uprint (generic function with 1 method)"
      ]
     },
     "execution_count": 5,
     "metadata": {},
     "output_type": "execute_result"
    }
   ],
   "source": [
    "function uprint(tensor)\n",
    "    display(round.(tensor, digits = 5)[:, :, 2, 1])\n",
    "end"
   ]
  },
  {
   "cell_type": "markdown",
   "id": "8a0a372a-94ee-45e7-8411-c90e43bd2907",
   "metadata": {},
   "source": [
    "## HO Basis and Spatial System"
   ]
  },
  {
   "cell_type": "code",
   "execution_count": 33,
   "id": "058145b9-8de7-4d8e-b5c0-5fc80d084660",
   "metadata": {},
   "outputs": [
    {
     "name": "stdout",
     "output_type": "stream",
     "text": [
      "  0.031511 seconds (362 allocations: 1.323 MiB)\n"
     ]
    },
    {
     "data": {
      "text/plain": [
       "10"
      ]
     },
     "execution_count": 33,
     "metadata": {},
     "output_type": "execute_result"
    }
   ],
   "source": [
    "l = 5\n",
    "ω = 0.25\n",
    "basis = SpinBasis(HOBasis(l, ω))\n",
    "\n",
    "n = 2\n",
    "V = ShieldedCoulomb(0.25)\n",
    "grid = [x for x in range(-10, stop = 10, length = 2001)]\n",
    "@time system = System(n, basis, grid, V);\n",
    "l = 2 * l"
   ]
  },
  {
   "cell_type": "markdown",
   "id": "b7371935-6157-41e2-a12e-0933db28e622",
   "metadata": {
    "tags": []
   },
   "source": [
    "## CCSD"
   ]
  },
  {
   "cell_type": "code",
   "execution_count": 209,
   "id": "8a23ab21-21e4-465d-a847-e4ade544e213",
   "metadata": {},
   "outputs": [
    {
     "data": {
      "text/plain": [
       "0.644720024887512"
      ]
     },
     "execution_count": 209,
     "metadata": {},
     "output_type": "execute_result"
    }
   ],
   "source": [
    "ccsd = setup_CCSD(system);\n",
    "energy(ccsd)"
   ]
  },
  {
   "cell_type": "code",
   "execution_count": 224,
   "id": "62cc271b-9d15-4502-b0e9-0fc5bd66dbe5",
   "metadata": {},
   "outputs": [
    {
     "data": {
      "text/plain": [
       "8×2 Matrix{Float64}:\n",
       "  1.40949e-12   0.0\n",
       "  0.0           1.40949e-12\n",
       " -6.05006e-11   0.0\n",
       "  0.0          -6.05007e-11\n",
       "  6.14431e-13   0.0\n",
       "  0.0           6.14431e-13\n",
       " -2.99303e-11   0.0\n",
       "  0.0          -2.99303e-11"
      ]
     },
     "metadata": {},
     "output_type": "display_data"
    },
    {
     "data": {
      "text/plain": [
       "0.8262688101039434"
      ]
     },
     "execution_count": 224,
     "metadata": {},
     "output_type": "execute_result"
    }
   ],
   "source": [
    "CCSD_Update!(ccsd);\n",
    "energy(ccsd)"
   ]
  },
  {
   "cell_type": "code",
   "execution_count": null,
   "id": "88397fc9-18b0-45da-95b4-80a85683aaa0",
   "metadata": {},
   "outputs": [],
   "source": [
    "array([[-0.     ,  0.     ],\n",
    "       [ 0.     , -0.     ],\n",
    "       [-0.35986,  0.     ],\n",
    "       [ 0.     , -0.35986],\n",
    "       [-0.     ,  0.     ],\n",
    "       [ 0.     , -0.     ],\n",
    "       [-0.17758,  0.     ],\n",
    "       [ 0.     , -0.17758]])"
   ]
  },
  {
   "cell_type": "code",
   "execution_count": 52,
   "id": "7b10075b-0fef-434e-b84e-0fa14bf1b820",
   "metadata": {},
   "outputs": [
    {
     "data": {
      "text/plain": [
       "8×8 Matrix{Float64}:\n",
       " -0.0       0.6855   -0.0      -0.0      …   0.23397  -0.0      -0.0\n",
       " -0.6855   -0.0      -0.0      -0.0         -0.0       0.0      -0.0\n",
       " -0.0       0.0      -0.0       0.30334     -0.0      -0.0       0.13369\n",
       " -0.0      -0.0      -0.30334  -0.0         -0.0      -0.13369  -0.0\n",
       " -0.0       0.23397  -0.0      -0.0          0.15818  -0.0       0.0\n",
       " -0.23397  -0.0       0.0      -0.0      …  -0.0      -0.0      -0.0\n",
       " -0.0       0.0      -0.0       0.13369      0.0      -0.0       0.09357\n",
       " -0.0      -0.0      -0.13369  -0.0         -0.0      -0.09357  -0.0"
      ]
     },
     "metadata": {},
     "output_type": "display_data"
    }
   ],
   "source": [
    "pprint(ccsd.t2)"
   ]
  },
  {
   "cell_type": "code",
   "execution_count": 104,
   "id": "abfc273b-304b-4e5d-84f0-0c46b2757442",
   "metadata": {},
   "outputs": [
    {
     "data": {
      "text/plain": [
       "8×2 Matrix{Float64}:\n",
       "  0.0      0.0\n",
       "  0.0      0.0\n",
       " -0.1334   0.0\n",
       "  0.0     -0.1334\n",
       "  0.0      0.0\n",
       "  0.0      0.0\n",
       " -0.0255   0.0\n",
       "  0.0     -0.0255"
      ]
     },
     "execution_count": 104,
     "metadata": {},
     "output_type": "execute_result"
    }
   ],
   "source": [
    "err = zero(ccsd.t1)\n",
    "for a in n+1:l\n",
    "    for i in 1:n\n",
    "        Ω_1 = 0\n",
    "        for k in 1:n\n",
    "            for l in 1:n\n",
    "                for c in n+1:10\n",
    "                    Ω_1 -= system.u[k, l, c, i] * ccsd.t1[c, k] * ccsd.t1[a, l]\n",
    "                end\n",
    "            end\n",
    "        end\n",
    "        err[a, i] = Ω_1\n",
    "    end\n",
    "end\n",
    "round.(err, digits= 4)[n+1:end, :]"
   ]
  },
  {
   "cell_type": "code",
   "execution_count": null,
   "id": "971379a9-4d0f-44b8-bdae-4d05f4e715ae",
   "metadata": {},
   "outputs": [],
   "source": []
  }
 ],
 "metadata": {
  "kernelspec": {
   "display_name": "Julia (8 threads) 1.7.2",
   "language": "julia",
   "name": "julia-(8-threads)-1.7"
  },
  "language_info": {
   "file_extension": ".jl",
   "mimetype": "application/julia",
   "name": "julia",
   "version": "1.7.2"
  }
 },
 "nbformat": 4,
 "nbformat_minor": 5
}
