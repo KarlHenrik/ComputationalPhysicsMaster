{
 "cells": [
  {
   "cell_type": "code",
   "execution_count": 2,
   "id": "94f82689-bf88-4125-8a77-f7167660c4be",
   "metadata": {},
   "outputs": [],
   "source": [
    "import LinearAlgebra as la"
   ]
  },
  {
   "cell_type": "code",
   "execution_count": null,
   "id": "6eff5287-b33a-422b-9bc3-3e3b9668c396",
   "metadata": {},
   "outputs": [],
   "source": [
    "struct RHFState{T}\n",
    "    system::SpatialSystem{SpinBasis{T}}\n",
    "    \n",
    "    h_r::Matrix{Float64} # compact one-body integrals\n",
    "    u_r::Array{Float64, 4} # compact two-body integrals\n",
    "    C::Matrix{Float64}\n",
    "    P::Matrix{Float64}\n",
    "    F::Matrix{Float64}\n",
    "end\n",
    "\n",
    "function setup_RHF(system::SpatialSystem{SpinBasis{T}})\n",
    "    (; transform, basis, h, grid, V) = system\n",
    "    \n",
    "    @assert la.I(size(transform)[1]) == transform \"Cannot use transformed system in RHF\"\n",
    "    \n",
    "    l = basis.base.l\n",
    "    h = shrink_restricted(h)\n",
    "    spfs = spatial(basis.base, grid)\n",
    "    inner = inner_ints(spfs, grid, V)\n",
    "    u = outer_int(spfs, grid, inner)\n",
    "    u = 2 .* u .- permutedims(u, [1, 2, 4, 3])\n",
    "    \n",
    "    C = la.I(l)\n",
    "    P = zeros((l, l))\n",
    "    F = zeros((l, l))\n",
    "    \n",
    "    state = RHFState{typeof(system)}(system, h, u, C, P, F)\n",
    "    P_update!(state)\n",
    "    F_update!(state)\n",
    "end"
   ]
  },
  {
   "cell_type": "code",
   "execution_count": 128,
   "id": "16988ca2-785a-4328-b9c8-bc53084cf54b",
   "metadata": {},
   "outputs": [
    {
     "data": {
      "text/plain": [
       "shrink_restricted (generic function with 1 method)"
      ]
     },
     "execution_count": 128,
     "metadata": {},
     "output_type": "execute_result"
    }
   ],
   "source": [
    "function shrink_restricted(A)\n",
    "    l = size(A)[1] ÷ 2\n",
    "    \n",
    "    S = zeros(l, l)\n",
    "    for i in 1:l\n",
    "        for j in 1:l\n",
    "            S[i, j] = A[i*2-1, j*2-1]\n",
    "        end\n",
    "    end\n",
    "    return S\n",
    "end"
   ]
  },
  {
   "cell_type": "code",
   "execution_count": 119,
   "id": "1da83c74-2abd-494f-9d53-6b2321a4ac18",
   "metadata": {},
   "outputs": [
    {
     "data": {
      "text/plain": [
       "check_restricted (generic function with 1 method)"
      ]
     },
     "execution_count": 119,
     "metadata": {},
     "output_type": "execute_result"
    }
   ],
   "source": [
    "function check_restricted(C)\n",
    "    l = size(C)[1]\n",
    "    \n",
    "    restricted = true\n",
    "    for func in 1:2:l\n",
    "        for coef in 1:2:l\n",
    "            orthogonal = (C[coef, func] == C[coef+1, func+1]) # Up coefficient == down coefficient\n",
    "            odd_up = C[coef+1, func] == 0 # Function 1 has no down part\n",
    "            even_down = C[coef, func+1] == 0 # Function 2 has no up part\n",
    "            if !(orthogonal & odd_up & even_down)\n",
    "                restricted = false\n",
    "            end\n",
    "        end\n",
    "    end\n",
    "    return restricted\n",
    "end"
   ]
  },
  {
   "cell_type": "code",
   "execution_count": 138,
   "id": "d63483aa-f6d2-4ea6-af3c-7f5c1ac7c89f",
   "metadata": {},
   "outputs": [
    {
     "data": {
      "text/plain": [
       "true"
      ]
     },
     "execution_count": 138,
     "metadata": {},
     "output_type": "execute_result"
    }
   ],
   "source": [
    "la.I(size(C)[1]) == C"
   ]
  },
  {
   "cell_type": "code",
   "execution_count": null,
   "id": "92513687-4230-4965-ab8b-fb9c527652a3",
   "metadata": {},
   "outputs": [],
   "source": []
  }
 ],
 "metadata": {
  "kernelspec": {
   "display_name": "Julia (12 threads) 1.7.2",
   "language": "julia",
   "name": "julia-(12-threads)-1.7"
  },
  "language_info": {
   "file_extension": ".jl",
   "mimetype": "application/julia",
   "name": "julia",
   "version": "1.7.2"
  }
 },
 "nbformat": 4,
 "nbformat_minor": 5
}
