{
 "cells": [
  {
   "cell_type": "code",
   "execution_count": 1,
   "id": "5b52bf0f-1e58-4b39-ab54-7c086254fb8a",
   "metadata": {
    "tags": []
   },
   "outputs": [],
   "source": [
    "using BenchmarkTools: @btime\n",
    "import LinearAlgebra as la\n",
    "using TensorOperations: @tensor"
   ]
  },
  {
   "cell_type": "code",
   "execution_count": 2,
   "id": "a60b488b-f84f-4330-9583-d6e366dbdb0f",
   "metadata": {},
   "outputs": [],
   "source": [
    "path = \"../../\"\n",
    "include(path * \"Systems/system.jl\")\n",
    "include(path * \"Methods/HF.jl\")\n",
    "include(path * \"Methods/CCD.jl\")\n",
    "include(path * \"Methods/CCSD.jl\")"
   ]
  },
  {
   "cell_type": "markdown",
   "id": "b81b269e-5019-4917-944e-bcdf866a708b",
   "metadata": {},
   "source": [
    "## HO Basis and Spatial System"
   ]
  },
  {
   "cell_type": "code",
   "execution_count": 6,
   "id": "36c5c399-048a-4bcb-8d18-bee5d0d48a24",
   "metadata": {},
   "outputs": [
    {
     "name": "stdout",
     "output_type": "stream",
     "text": [
      "  0.871510 seconds (13.13 k allocations: 672.547 MiB, 5.65% gc time)\n"
     ]
    }
   ],
   "source": [
    "l = 40\n",
    "ω = 0.25\n",
    "basis = SpinBasis(HOBasis(l, ω))\n",
    "\n",
    "n = 2\n",
    "V = ShieldedCoulomb(0.05)\n",
    "grid = [x for x in range(-10, stop = 10, length = 2001)]\n",
    "@time system = System(n, basis, grid, V);"
   ]
  },
  {
   "cell_type": "markdown",
   "id": "8051c12b-89db-4417-81a7-284d90c84813",
   "metadata": {},
   "source": [
    "## CCSD"
   ]
  },
  {
   "cell_type": "code",
   "execution_count": null,
   "id": "21a2a49c-a7ef-4027-b41f-bb2ed0c2df93",
   "metadata": {},
   "outputs": [],
   "source": [
    "ccsd = setup_CCSD(system, α = 0.5);"
   ]
  },
  {
   "cell_type": "code",
   "execution_count": null,
   "id": "fd4144f5-e626-4500-82a2-cef6a14a29c5",
   "metadata": {},
   "outputs": [],
   "source": [
    "for i in 1:10\n",
    "    CCSD_Update!(ccsd)\n",
    "end"
   ]
  },
  {
   "cell_type": "code",
   "execution_count": null,
   "id": "e16dfdfc-73cb-4535-8c16-3b6b395d4f7e",
   "metadata": {},
   "outputs": [],
   "source": [
    "energy(ccsd)"
   ]
  },
  {
   "cell_type": "markdown",
   "id": "5b1106b5-e8f9-41da-aae5-a8ceb99ab319",
   "metadata": {},
   "source": [
    "# HF"
   ]
  },
  {
   "cell_type": "code",
   "execution_count": 28,
   "id": "585789a1-774d-4615-ab35-5c00a02dd739",
   "metadata": {},
   "outputs": [],
   "source": [
    "hf = setup_HF(system);"
   ]
  },
  {
   "cell_type": "code",
   "execution_count": 33,
   "id": "098e3dcb-582d-460e-a602-e0bcb33fcb02",
   "metadata": {},
   "outputs": [
    {
     "data": {
      "text/plain": [
       "-3.850950591396951e-17"
      ]
     },
     "execution_count": 33,
     "metadata": {},
     "output_type": "execute_result"
    }
   ],
   "source": [
    "sum(imag(la.eigvecs(hf.F)))"
   ]
  },
  {
   "cell_type": "code",
   "execution_count": 29,
   "id": "4704feec-d436-4eb5-aecf-0e1851395fcf",
   "metadata": {},
   "outputs": [
    {
     "ename": "LoadError",
     "evalue": "InexactError: Float64(-0.00031398597508536924 + 0.21755887074534716im)",
     "output_type": "error",
     "traceback": [
      "InexactError: Float64(-0.00031398597508536924 + 0.21755887074534716im)",
      "",
      "Stacktrace:",
      "  [1] Real",
      "    @ .\\complex.jl:44 [inlined]",
      "  [2] convert",
      "    @ .\\number.jl:7 [inlined]",
      "  [3] setindex!",
      "    @ .\\array.jl:903 [inlined]",
      "  [4] _unsafe_copyto!(dest::Matrix{Float64}, doffs::Int64, src::Matrix{ComplexF64}, soffs::Int64, n::Int64)",
      "    @ Base .\\array.jl:253",
      "  [5] unsafe_copyto!",
      "    @ .\\array.jl:307 [inlined]",
      "  [6] _copyto_impl!",
      "    @ .\\array.jl:331 [inlined]",
      "  [7] copyto!",
      "    @ .\\array.jl:317 [inlined]",
      "  [8] copyto!",
      "    @ .\\array.jl:343 [inlined]",
      "  [9] copyto!",
      "    @ .\\broadcast.jl:954 [inlined]",
      " [10] copyto!",
      "    @ .\\broadcast.jl:913 [inlined]",
      " [11] materialize!",
      "    @ .\\broadcast.jl:871 [inlined]",
      " [12] materialize!",
      "    @ .\\broadcast.jl:868 [inlined]",
      " [13] HF_update!(state::HFState{SpatialSystem{SpinBasis{HOBasis}}}; iters::Int64)",
      "    @ Main C:\\Users\\KarlH\\Desktop\\ComputationalPhysicsMaster\\Code\\Methods\\HF.jl:27",
      " [14] top-level scope",
      "    @ In[29]:1",
      " [15] eval",
      "    @ .\\boot.jl:373 [inlined]",
      " [16] include_string(mapexpr::typeof(REPL.softscope), mod::Module, code::String, filename::String)",
      "    @ Base .\\loading.jl:1196"
     ]
    }
   ],
   "source": [
    "HF_update!(hf, iters = 1);"
   ]
  },
  {
   "cell_type": "code",
   "execution_count": 27,
   "id": "5e762286-6ff3-474b-93e7-8ae125a99ac8",
   "metadata": {},
   "outputs": [
    {
     "data": {
      "text/plain": [
       "0.862511947212769"
      ]
     },
     "execution_count": 27,
     "metadata": {},
     "output_type": "execute_result"
    }
   ],
   "source": [
    "energy(hf)"
   ]
  },
  {
   "cell_type": "code",
   "execution_count": null,
   "id": "5e4eb3ae-b3d3-4044-b774-bff4e6a5d520",
   "metadata": {},
   "outputs": [],
   "source": [
    "system = System(hf);"
   ]
  },
  {
   "cell_type": "markdown",
   "id": "9400f186-4ee3-4f6c-a0a0-7715111dcc06",
   "metadata": {},
   "source": [
    "## CCD"
   ]
  },
  {
   "cell_type": "code",
   "execution_count": null,
   "id": "f7ed14e2-c1df-4a1c-9b89-5b1b2970dcf4",
   "metadata": {},
   "outputs": [],
   "source": [
    "ccd = setup_CCD(system, α = 0.5);"
   ]
  },
  {
   "cell_type": "code",
   "execution_count": null,
   "id": "6d9bf084-83b1-4b8d-8e49-d0ce0f1494ed",
   "metadata": {},
   "outputs": [],
   "source": [
    "for i in 1:10\n",
    "    CCD_Update!(ccd)\n",
    "end"
   ]
  },
  {
   "cell_type": "code",
   "execution_count": null,
   "id": "55faffca-020c-4640-a332-187b5f113c0b",
   "metadata": {},
   "outputs": [],
   "source": [
    "energy(ccd)"
   ]
  },
  {
   "cell_type": "code",
   "execution_count": null,
   "id": "d3e01e41-5f32-432d-b264-456a43e6847d",
   "metadata": {},
   "outputs": [],
   "source": []
  }
 ],
 "metadata": {
  "kernelspec": {
   "display_name": "Julia (12 threads) 1.7.2",
   "language": "julia",
   "name": "julia-(12-threads)-1.7"
  },
  "language_info": {
   "file_extension": ".jl",
   "mimetype": "application/julia",
   "name": "julia",
   "version": "1.7.2"
  }
 },
 "nbformat": 4,
 "nbformat_minor": 5
}
