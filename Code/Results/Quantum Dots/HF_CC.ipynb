{
 "cells": [
  {
   "cell_type": "code",
   "execution_count": 1,
   "id": "fca81b31-7171-49b7-9ff2-aff47d9cdcc9",
   "metadata": {},
   "outputs": [
    {
     "name": "stderr",
     "output_type": "stream",
     "text": [
      "\u001b[32m\u001b[1m  Activating\u001b[22m\u001b[39m project at `C:\\Users\\KarlH\\Desktop\\ComputationalPhysicsMaster\\Code\\OrbitalNeuralMethods`\n",
      "┌ Info: Precompiling OrbitalNeuralMethods [6de8678a-dd1c-461e-a987-24da1d9562b4]\n",
      "└ @ Base loading.jl:1423\n"
     ]
    }
   ],
   "source": [
    "using Pkg; Pkg.activate(\"C:\\\\Users\\\\KarlH\\\\Desktop\\\\ComputationalPhysicsMaster\\\\Code\\\\OrbitalNeuralMethods\")\n",
    "using Revise\n",
    "using OrbitalNeuralMethods"
   ]
  },
  {
   "cell_type": "code",
   "execution_count": 2,
   "id": "4f30a2c9-b060-47bf-9250-3bc0562c26d5",
   "metadata": {},
   "outputs": [],
   "source": [
    "import LinearAlgebra as la"
   ]
  },
  {
   "cell_type": "code",
   "execution_count": 3,
   "id": "5b52bf0f-1e58-4b39-ab54-7c086254fb8a",
   "metadata": {
    "tags": []
   },
   "outputs": [],
   "source": [
    "using BenchmarkTools: @btime"
   ]
  },
  {
   "cell_type": "markdown",
   "id": "b81b269e-5019-4917-944e-bcdf866a708b",
   "metadata": {},
   "source": [
    "## HO Basis and Spatial System"
   ]
  },
  {
   "cell_type": "code",
   "execution_count": 536,
   "id": "36c5c399-048a-4bcb-8d18-bee5d0d48a24",
   "metadata": {},
   "outputs": [
    {
     "name": "stdout",
     "output_type": "stream",
     "text": [
      "  0.038586 seconds (455 allocations: 1.728 MiB)\n"
     ]
    },
    {
     "data": {
      "text/plain": [
       "12"
      ]
     },
     "execution_count": 536,
     "metadata": {},
     "output_type": "execute_result"
    }
   ],
   "source": [
    "l = 6\n",
    "ω = 0.25\n",
    "basis = SpinBasis(HOBasis(l, ω))\n",
    "\n",
    "n = 2\n",
    "V = ShieldedCoulomb(0.25)\n",
    "grid = [x for x in range(-10, stop = 10, length = 2001)]\n",
    "@time system = System(n, basis, grid, V);\n",
    "l = 2 * l"
   ]
  },
  {
   "cell_type": "markdown",
   "id": "62741c88-7aaa-49c9-89a1-c9b4f0286b58",
   "metadata": {
    "tags": []
   },
   "source": [
    "## CCD"
   ]
  },
  {
   "cell_type": "code",
   "execution_count": 537,
   "id": "84d4bcf0-4668-4f39-bbd4-4d49e4e11fcd",
   "metadata": {},
   "outputs": [],
   "source": [
    "ccd = setup_CCD(system);"
   ]
  },
  {
   "cell_type": "code",
   "execution_count": 549,
   "id": "11f2da7c-a915-4806-bf5a-e4f2f12e5058",
   "metadata": {},
   "outputs": [
    {
     "data": {
      "text/plain": [
       "0.8362892621367914"
      ]
     },
     "execution_count": 549,
     "metadata": {},
     "output_type": "execute_result"
    }
   ],
   "source": [
    "CCD_Update!(ccd);\n",
    "energy(ccd)"
   ]
  },
  {
   "cell_type": "code",
   "execution_count": 539,
   "id": "9dd7a21f-e21a-4282-bbf6-6a9db6349dd9",
   "metadata": {},
   "outputs": [
    {
     "data": {
      "text/plain": [
       "pprint (generic function with 1 method)"
      ]
     },
     "execution_count": 539,
     "metadata": {},
     "output_type": "execute_result"
    }
   ],
   "source": [
    "function pprint(tensor)\n",
    "    display(round.(tensor[n+1:l, n+1:l, 1:n, 1:n], digits = 6)[:, :, 2, 1])\n",
    "end"
   ]
  },
  {
   "cell_type": "markdown",
   "id": "8051c12b-89db-4417-81a7-284d90c84813",
   "metadata": {},
   "source": [
    "## CCSD"
   ]
  },
  {
   "cell_type": "code",
   "execution_count": null,
   "id": "21a2a49c-a7ef-4027-b41f-bb2ed0c2df93",
   "metadata": {},
   "outputs": [],
   "source": [
    "ccsd = setup_CCSD(system, α = 0.5);"
   ]
  },
  {
   "cell_type": "code",
   "execution_count": null,
   "id": "fd4144f5-e626-4500-82a2-cef6a14a29c5",
   "metadata": {},
   "outputs": [],
   "source": [
    "for i in 1:10\n",
    "    CCSD_Update!(ccsd)\n",
    "end"
   ]
  },
  {
   "cell_type": "code",
   "execution_count": null,
   "id": "83a927b4-fe44-4613-b29c-043c48672a94",
   "metadata": {},
   "outputs": [],
   "source": [
    "energy(ccsd)"
   ]
  },
  {
   "cell_type": "code",
   "execution_count": null,
   "id": "788156ad-881c-4274-92c9-6728af72857b",
   "metadata": {},
   "outputs": [],
   "source": [
    "corr_energy(ccsd)"
   ]
  },
  {
   "cell_type": "markdown",
   "id": "5b1106b5-e8f9-41da-aae5-a8ceb99ab319",
   "metadata": {},
   "source": [
    "# HF"
   ]
  },
  {
   "cell_type": "code",
   "execution_count": null,
   "id": "585789a1-774d-4615-ab35-5c00a02dd739",
   "metadata": {},
   "outputs": [],
   "source": [
    "hf = setup_HF(system);"
   ]
  },
  {
   "cell_type": "code",
   "execution_count": null,
   "id": "4704feec-d436-4eb5-aecf-0e1851395fcf",
   "metadata": {},
   "outputs": [],
   "source": [
    "HF_update!(hf, iters = 10);"
   ]
  },
  {
   "cell_type": "code",
   "execution_count": null,
   "id": "5e762286-6ff3-474b-93e7-8ae125a99ac8",
   "metadata": {},
   "outputs": [],
   "source": [
    "energy(hf)"
   ]
  },
  {
   "cell_type": "code",
   "execution_count": null,
   "id": "5e4eb3ae-b3d3-4044-b774-bff4e6a5d520",
   "metadata": {},
   "outputs": [],
   "source": [
    "system = System(hf);"
   ]
  },
  {
   "cell_type": "markdown",
   "id": "f7ad19e9-478d-493a-b8c7-056db9c1896d",
   "metadata": {
    "tags": []
   },
   "source": [
    "## RHF"
   ]
  },
  {
   "cell_type": "code",
   "execution_count": null,
   "id": "15542496-4ad4-47fb-bfc0-35703a25395a",
   "metadata": {},
   "outputs": [],
   "source": [
    "rhf = setup_RHF(system);"
   ]
  },
  {
   "cell_type": "code",
   "execution_count": null,
   "id": "d132f2f1-94cb-456b-bc89-939362f4208d",
   "metadata": {},
   "outputs": [],
   "source": [
    "RHF_update!(rhf, iters = 10);"
   ]
  },
  {
   "cell_type": "code",
   "execution_count": null,
   "id": "dfa123ce-ca02-441a-8f5e-4e1bd8596924",
   "metadata": {},
   "outputs": [],
   "source": [
    "energy(rhf)"
   ]
  },
  {
   "cell_type": "code",
   "execution_count": null,
   "id": "860266bd-47d6-417a-a51b-61215ed40792",
   "metadata": {},
   "outputs": [],
   "source": [
    "system = System(rhf);"
   ]
  },
  {
   "cell_type": "code",
   "execution_count": 387,
   "id": "3ab306dd-d916-4603-9d0e-aa02213dc413",
   "metadata": {},
   "outputs": [
    {
     "data": {
      "text/plain": [
       "compute_new_vector (generic function with 1 method)"
      ]
     },
     "execution_count": 387,
     "metadata": {},
     "output_type": "execute_result"
    }
   ],
   "source": [
    "mutable struct DIIS\n",
    "    iter::Int\n",
    "    \n",
    "    max_vecs::Int\n",
    "    \n",
    "    trial_vecs::Vector{Vector{Float64}}\n",
    "    direction_vecs::Vector{Vector{Float64}}\n",
    "    error_vecs::Vector{Vector{Float64}}\n",
    "end\n",
    "\n",
    "function DIIS(shape, max_vecs = 10)\n",
    "    vec_length = prod(shape)\n",
    "    trial_vecs = [zeros(vec_length) for i in 1:max_vecs]\n",
    "    direction_vecs = [zeros(vec_length) for i in 1:max_vecs]\n",
    "    error_vecs = [zeros(vec_length) for i in 1:max_vecs]\n",
    "    \n",
    "    return DIIS(0, max_vecs, trial_vecs, direction_vecs, error_vecs)\n",
    "end\n",
    "\n",
    "function compute_new_vector(mixer::DIIS, trial, direction, error)\n",
    "    (; iter, max_vecs, trial_vecs, direction_vecs, error_vecs) = mixer\n",
    "    \n",
    "    index = iter % max_vecs + 1\n",
    "    iter += 1\n",
    "    mixer.iter = iter\n",
    "    \n",
    "    error_vecs[index] .= vec(error)\n",
    "    trial_vecs[index] .= vec(trial)\n",
    "    direction_vecs[index] .= vec(direction)\n",
    "    \n",
    "    # Setting up the equations\n",
    "    B_dim = min(iter, max_vecs) + 1\n",
    "    B = zeros(B_dim, B_dim)\n",
    "    for i in 1:B_dim-1\n",
    "        for j in 1:i\n",
    "            B[i, j] = la.dot(error_vecs[i], error_vecs[j])\n",
    "            if i != j\n",
    "                B[j, i] = B[i, j]\n",
    "            end\n",
    "        end\n",
    "        B[i, B_dim] = -1\n",
    "        B[B_dim, i] = -1\n",
    "    end\n",
    "    \n",
    "    pre_condition = zeros(B_dim)\n",
    "    if any(i <= 0 for i in la.diag(B)[1:end-1])\n",
    "        pre_condition[1:end-1] .= 1\n",
    "    else\n",
    "        pre_condition[1:end-1] .= 1 ./ sqrt.(la.diag(B)[1:end-1])\n",
    "    end\n",
    "    pre_condition[end] = 1\n",
    "    \n",
    "    for i in 1:B_dim\n",
    "        for j in 1:B_dim\n",
    "            B[i, j] *= pre_condition[i] * pre_condition[j]\n",
    "        end\n",
    "    end\n",
    "    # Solving the equations\n",
    "    weights = -la.pinv(B)[end, :] # final row\n",
    "    weights .*= pre_condition\n",
    "    \n",
    "    # Using solution to get new vector\n",
    "    new_trial = zero(trial_vecs[1])\n",
    "    for i in 1:B_dim-1\n",
    "        new_trial .+= weights[i] .* (trial_vecs[i] .+ direction_vecs[i])\n",
    "    end\n",
    "    \n",
    "    return reshape(new_trial, size(trial))\n",
    "end"
   ]
  },
  {
   "cell_type": "code",
   "execution_count": null,
   "id": "681ec7b4-be16-45de-ab40-3634e1c089c6",
   "metadata": {},
   "outputs": [],
   "source": []
  }
 ],
 "metadata": {
  "kernelspec": {
   "display_name": "Julia (8 threads) 1.7.2",
   "language": "julia",
   "name": "julia-(8-threads)-1.7"
  },
  "language_info": {
   "file_extension": ".jl",
   "mimetype": "application/julia",
   "name": "julia",
   "version": "1.7.2"
  }
 },
 "nbformat": 4,
 "nbformat_minor": 5
}
