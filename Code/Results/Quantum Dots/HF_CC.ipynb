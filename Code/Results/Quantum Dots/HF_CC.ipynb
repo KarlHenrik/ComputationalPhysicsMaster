{
 "cells": [
  {
   "cell_type": "code",
   "execution_count": 7,
   "id": "fca81b31-7171-49b7-9ff2-aff47d9cdcc9",
   "metadata": {},
   "outputs": [
    {
     "name": "stderr",
     "output_type": "stream",
     "text": [
      "\u001b[32m\u001b[1m  Activating\u001b[22m\u001b[39m project at `C:\\Users\\KarlH\\Desktop\\ComputationalPhysicsMaster\\Code\\OrbitalNeuralMethods`\n",
      "┌ Info: Precompiling OrbitalNeuralMethods [6de8678a-dd1c-461e-a987-24da1d9562b4]\n",
      "└ @ Base loading.jl:1423\n"
     ]
    }
   ],
   "source": [
    "using Pkg; Pkg.activate(\"C:\\\\Users\\\\KarlH\\\\Desktop\\\\ComputationalPhysicsMaster\\\\Code\\\\OrbitalNeuralMethods\")\n",
    "using Revise\n",
    "using OrbitalNeuralMethods"
   ]
  },
  {
   "cell_type": "code",
   "execution_count": 9,
   "id": "5b52bf0f-1e58-4b39-ab54-7c086254fb8a",
   "metadata": {
    "tags": []
   },
   "outputs": [],
   "source": [
    "using BenchmarkTools: @btime"
   ]
  },
  {
   "cell_type": "markdown",
   "id": "b81b269e-5019-4917-944e-bcdf866a708b",
   "metadata": {},
   "source": [
    "## HO Basis and Spatial System"
   ]
  },
  {
   "cell_type": "code",
   "execution_count": 54,
   "id": "36c5c399-048a-4bcb-8d18-bee5d0d48a24",
   "metadata": {},
   "outputs": [
    {
     "name": "stdout",
     "output_type": "stream",
     "text": [
      "  0.040385 seconds (1.03 k allocations: 5.327 MiB)\n"
     ]
    }
   ],
   "source": [
    "l = 10\n",
    "ω = 0.25\n",
    "basis = SpinBasis(HOBasis(l, ω))\n",
    "\n",
    "n = 2\n",
    "V = ShieldedCoulomb(0.25)\n",
    "grid = [x for x in range(-10, stop = 10, length = 2001)]\n",
    "@time system = System(n, basis, grid, V);"
   ]
  },
  {
   "cell_type": "markdown",
   "id": "8051c12b-89db-4417-81a7-284d90c84813",
   "metadata": {},
   "source": [
    "## CCSD"
   ]
  },
  {
   "cell_type": "code",
   "execution_count": 55,
   "id": "21a2a49c-a7ef-4027-b41f-bb2ed0c2df93",
   "metadata": {},
   "outputs": [],
   "source": [
    "ccsd = setup_CCSD(system, α = 0.5);"
   ]
  },
  {
   "cell_type": "code",
   "execution_count": 63,
   "id": "fd4144f5-e626-4500-82a2-cef6a14a29c5",
   "metadata": {},
   "outputs": [],
   "source": [
    "for i in 1:10\n",
    "    CCSD_Update!(ccsd)\n",
    "end"
   ]
  },
  {
   "cell_type": "code",
   "execution_count": 64,
   "id": "e16dfdfc-73cb-4535-8c16-3b6b395d4f7e",
   "metadata": {},
   "outputs": [
    {
     "data": {
      "text/plain": [
       "0.7941748071505369"
      ]
     },
     "execution_count": 64,
     "metadata": {},
     "output_type": "execute_result"
    }
   ],
   "source": [
    "energy(ccsd)"
   ]
  },
  {
   "cell_type": "markdown",
   "id": "5b1106b5-e8f9-41da-aae5-a8ceb99ab319",
   "metadata": {},
   "source": [
    "# HF"
   ]
  },
  {
   "cell_type": "code",
   "execution_count": 44,
   "id": "585789a1-774d-4615-ab35-5c00a02dd739",
   "metadata": {},
   "outputs": [],
   "source": [
    "hf = setup_HF(system);"
   ]
  },
  {
   "cell_type": "code",
   "execution_count": 17,
   "id": "4704feec-d436-4eb5-aecf-0e1851395fcf",
   "metadata": {},
   "outputs": [],
   "source": [
    "HF_update!(hf, iters = 10);"
   ]
  },
  {
   "cell_type": "code",
   "execution_count": 45,
   "id": "5e762286-6ff3-474b-93e7-8ae125a99ac8",
   "metadata": {},
   "outputs": [
    {
     "data": {
      "text/plain": [
       "1.3836526203846078"
      ]
     },
     "execution_count": 45,
     "metadata": {},
     "output_type": "execute_result"
    }
   ],
   "source": [
    "energy(hf)"
   ]
  },
  {
   "cell_type": "code",
   "execution_count": 23,
   "id": "5e4eb3ae-b3d3-4044-b774-bff4e6a5d520",
   "metadata": {},
   "outputs": [],
   "source": [
    "system = System(hf);"
   ]
  },
  {
   "cell_type": "markdown",
   "id": "9400f186-4ee3-4f6c-a0a0-7715111dcc06",
   "metadata": {},
   "source": [
    "## CCD"
   ]
  },
  {
   "cell_type": "code",
   "execution_count": 39,
   "id": "f7ed14e2-c1df-4a1c-9b89-5b1b2970dcf4",
   "metadata": {},
   "outputs": [],
   "source": [
    "ccd = setup_CCD(system, α = 0.5);"
   ]
  },
  {
   "cell_type": "code",
   "execution_count": 41,
   "id": "6d9bf084-83b1-4b8d-8e49-d0ce0f1494ed",
   "metadata": {},
   "outputs": [],
   "source": [
    "for i in 1:10\n",
    "    CCD_Update!(ccd)\n",
    "end"
   ]
  },
  {
   "cell_type": "code",
   "execution_count": 47,
   "id": "55faffca-020c-4640-a332-187b5f113c0b",
   "metadata": {},
   "outputs": [
    {
     "data": {
      "text/plain": [
       "0.8163045782486165"
      ]
     },
     "execution_count": 47,
     "metadata": {},
     "output_type": "execute_result"
    }
   ],
   "source": [
    "energy(ccd)"
   ]
  },
  {
   "cell_type": "code",
   "execution_count": null,
   "id": "e77544e2-c762-4b56-b885-613b3271f418",
   "metadata": {},
   "outputs": [],
   "source": []
  }
 ],
 "metadata": {
  "kernelspec": {
   "display_name": "Julia (12 threads) 1.7.2",
   "language": "julia",
   "name": "julia-(12-threads)-1.7"
  },
  "language_info": {
   "file_extension": ".jl",
   "mimetype": "application/julia",
   "name": "julia",
   "version": "1.7.2"
  }
 },
 "nbformat": 4,
 "nbformat_minor": 5
}
