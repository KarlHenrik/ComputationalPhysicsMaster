{
 "cells": [
  {
   "cell_type": "code",
   "execution_count": 14,
   "id": "c6c33033-8e7b-4e99-89c8-d70316ef3e3b",
   "metadata": {},
   "outputs": [],
   "source": [
    "using BenchmarkTools: @btime"
   ]
  },
  {
   "cell_type": "code",
   "execution_count": 17,
   "id": "c2085fb8-ac34-418f-9ee8-ac055bb49119",
   "metadata": {},
   "outputs": [
    {
     "data": {
      "text/plain": [
       "3-element Vector{Float64}:\n",
       " 0.0\n",
       " 0.0\n",
       " 0.0"
      ]
     },
     "execution_count": 17,
     "metadata": {},
     "output_type": "execute_result"
    }
   ],
   "source": [
    "newQF = zeros(3)"
   ]
  },
  {
   "cell_type": "code",
   "execution_count": 2,
   "id": "cc2aad64-2c9d-4338-9d8f-39b7d82a295a",
   "metadata": {},
   "outputs": [
    {
     "data": {
      "text/plain": [
       "qf! (generic function with 1 method)"
      ]
     },
     "execution_count": 2,
     "metadata": {},
     "output_type": "execute_result"
    }
   ],
   "source": [
    "function qf!(newQF, scale)\n",
    "    newQF .= newQF .* scale\n",
    "    return newQF\n",
    "end"
   ]
  },
  {
   "cell_type": "code",
   "execution_count": null,
   "id": "bcd4309a-1d4e-4256-adfd-9227913f48b3",
   "metadata": {},
   "outputs": [],
   "source": [
    "@time newQF .= qf!(newQF, 2.1)"
   ]
  },
  {
   "cell_type": "code",
   "execution_count": null,
   "id": "1caec6e1-1fa3-4e3e-8ca4-f534d5472caf",
   "metadata": {},
   "outputs": [],
   "source": []
  }
 ],
 "metadata": {
  "kernelspec": {
   "display_name": "Julia 8 threads 1.8.0",
   "language": "julia",
   "name": "julia-8-threads-1.8"
  },
  "language_info": {
   "file_extension": ".jl",
   "mimetype": "application/julia",
   "name": "julia",
   "version": "1.8.0"
  }
 },
 "nbformat": 4,
 "nbformat_minor": 5
}
