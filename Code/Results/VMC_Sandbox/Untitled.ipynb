{
 "cells": [
  {
   "cell_type": "code",
   "execution_count": 14,
   "id": "c6c33033-8e7b-4e99-89c8-d70316ef3e3b",
   "metadata": {},
   "outputs": [],
   "source": [
    "using BenchmarkTools: @btime"
   ]
  },
  {
   "cell_type": "code",
   "execution_count": 17,
   "id": "c2085fb8-ac34-418f-9ee8-ac055bb49119",
   "metadata": {},
   "outputs": [
    {
     "data": {
      "text/plain": [
       "3-element Vector{Float64}:\n",
       " 0.0\n",
       " 0.0\n",
       " 0.0"
      ]
     },
     "execution_count": 17,
     "metadata": {},
     "output_type": "execute_result"
    }
   ],
   "source": [
    "newQF = zeros(3)"
   ]
  },
  {
   "cell_type": "code",
   "execution_count": 2,
   "id": "cc2aad64-2c9d-4338-9d8f-39b7d82a295a",
   "metadata": {},
   "outputs": [
    {
     "data": {
      "text/plain": [
       "qf! (generic function with 1 method)"
      ]
     },
     "execution_count": 2,
     "metadata": {},
     "output_type": "execute_result"
    }
   ],
   "source": [
    "function qf!(newQF, scale)\n",
    "    newQF .= newQF .* scale\n",
    "    return newQF\n",
    "end"
   ]
  },
  {
   "cell_type": "code",
   "execution_count": 22,
   "id": "bcd4309a-1d4e-4256-adfd-9227913f48b3",
   "metadata": {},
   "outputs": [
    {
     "name": "stdout",
     "output_type": "stream",
     "text": [
      "  0.000020 seconds (2 allocations: 32 bytes)\n"
     ]
    },
    {
     "data": {
      "text/plain": [
       "3-element Vector{Float64}:\n",
       " 0.0\n",
       " 0.0\n",
       " 0.0"
      ]
     },
     "execution_count": 22,
     "metadata": {},
     "output_type": "execute_result"
    }
   ],
   "source": [
    "@time newQF .= qf!(newQF, 2.1)"
   ]
  },
  {
   "cell_type": "code",
   "execution_count": 28,
   "id": "e29cbb78-2931-4714-b41e-65b74db310fb",
   "metadata": {},
   "outputs": [
    {
     "data": {
      "text/plain": [
       "5.1"
      ]
     },
     "execution_count": 28,
     "metadata": {},
     "output_type": "execute_result"
    }
   ],
   "source": [
    "oldPos = 5.1"
   ]
  },
  {
   "cell_type": "code",
   "execution_count": 30,
   "id": "c1819844-92e6-4d51-8c38-71a8e36ad95d",
   "metadata": {},
   "outputs": [
    {
     "data": {
      "text/plain": [
       "5.1"
      ]
     },
     "execution_count": 30,
     "metadata": {},
     "output_type": "execute_result"
    }
   ],
   "source": [
    "oldPos[1]"
   ]
  },
  {
   "cell_type": "code",
   "execution_count": 35,
   "id": "af4a2e46-afc5-430f-a85c-d1789bd59670",
   "metadata": {},
   "outputs": [
    {
     "data": {
      "text/plain": [
       "26.009999999999998"
      ]
     },
     "execution_count": 35,
     "metadata": {},
     "output_type": "execute_result"
    }
   ],
   "source": [
    "oldPos.^2"
   ]
  },
  {
   "cell_type": "code",
   "execution_count": 43,
   "id": "0952ead2-b7c2-45a2-be33-30e4fce52e03",
   "metadata": {},
   "outputs": [
    {
     "data": {
      "text/plain": [
       "3"
      ]
     },
     "execution_count": 43,
     "metadata": {},
     "output_type": "execute_result"
    }
   ],
   "source": []
  },
  {
   "cell_type": "code",
   "execution_count": 56,
   "id": "b327e939-9689-4081-b51e-73aa4c2482e5",
   "metadata": {},
   "outputs": [
    {
     "name": "stdout",
     "output_type": "stream",
     "text": [
      "1:3\n",
      "4:6\n",
      "7:9\n",
      "10:12\n",
      "13:15\n"
     ]
    }
   ],
   "source": [
    "dims = 3\n",
    "for p2 in 1:5\n",
    "    println((p2-1)*dims+1:(p2-1)*dims+3)\n",
    "end"
   ]
  },
  {
   "cell_type": "code",
   "execution_count": null,
   "id": "b72c9c27-9175-4a73-ae5b-3788ff7e35bc",
   "metadata": {},
   "outputs": [],
   "source": []
  }
 ],
 "metadata": {
  "kernelspec": {
   "display_name": "Julia 8 threads 1.8.0",
   "language": "julia",
   "name": "julia-8-threads-1.8"
  },
  "language_info": {
   "file_extension": ".jl",
   "mimetype": "application/julia",
   "name": "julia",
   "version": "1.8.0"
  }
 },
 "nbformat": 4,
 "nbformat_minor": 5
}
