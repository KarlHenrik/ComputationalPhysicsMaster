{
 "cells": [
  {
   "cell_type": "code",
   "execution_count": 2,
   "id": "4661918e-6d3f-4919-99b8-af972957410d",
   "metadata": {},
   "outputs": [
    {
     "name": "stderr",
     "output_type": "stream",
     "text": [
      "\u001b[32m\u001b[1m  Activating\u001b[22m\u001b[39m project at `C:\\Users\\KarlH\\Desktop\\ComputationalPhysicsMaster\\Code\\OrbitalNeuralMethods`\n",
      "┌ Info: Precompiling OrbitalNeuralMethods [6de8678a-dd1c-461e-a987-24da1d9562b4]\n",
      "└ @ Base loading.jl:1662\n"
     ]
    }
   ],
   "source": [
    "using Pkg; Pkg.activate(\"C:\\\\Users\\\\KarlH\\\\Desktop\\\\ComputationalPhysicsMaster\\\\Code\\\\OrbitalNeuralMethods\")\n",
    "using Revise\n",
    "using OrbitalNeuralMethods"
   ]
  },
  {
   "cell_type": "code",
   "execution_count": null,
   "id": "6829a853-f05e-4f12-90f7-6bbe1335fb88",
   "metadata": {},
   "outputs": [],
   "source": [
    "dims = 3\n",
    "num = 10\n",
    "\n",
    "HOshape = [1, 1, √8]\n",
    "ham = HarmonicOscillator(dims, num, ω = 0.5, HOshape = HOshape)\n",
    "wf = SimpleGaussian(dims, num, α = 0.5, HOshape = HOshape)\n",
    "metro = Metropolis(equils = 10, samples = 100, step = 0.1, importance=true)\n",
    "\n",
    "optimizer = GradientDescent(lr = 0.01, maxiter = 10, tol = 1e-6)\n",
    "wf_opt, grad_results = Optimize(wf, ham, metro, optimizer)\n",
    "\n",
    "block_result = blocking(wf_opt, ham, metro)\n",
    "\n",
    "ob_result = onebody(wf_opt, ham, metro, start = -5, stop = 5, length = 100)"
   ]
  }
 ],
 "metadata": {
  "kernelspec": {
   "display_name": "Julia 8 threads 1.8.0",
   "language": "julia",
   "name": "julia-8-threads-1.8"
  },
  "language_info": {
   "file_extension": ".jl",
   "mimetype": "application/julia",
   "name": "julia",
   "version": "1.8.0"
  }
 },
 "nbformat": 4,
 "nbformat_minor": 5
}
