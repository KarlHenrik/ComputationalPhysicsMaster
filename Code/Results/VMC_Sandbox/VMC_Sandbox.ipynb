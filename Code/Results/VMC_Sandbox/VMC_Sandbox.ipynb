{
 "cells": [
  {
   "cell_type": "code",
   "execution_count": 1,
   "id": "4661918e-6d3f-4919-99b8-af972957410d",
   "metadata": {},
   "outputs": [
    {
     "name": "stderr",
     "output_type": "stream",
     "text": [
      "\u001b[32m\u001b[1m  Activating\u001b[22m\u001b[39m project at `C:\\Users\\KarlH\\Desktop\\ComputationalPhysicsMaster\\Code\\OrbitalNeuralMethods`\n",
      "┌ Info: Precompiling OrbitalNeuralMethods [6de8678a-dd1c-461e-a987-24da1d9562b4]\n",
      "└ @ Base loading.jl:1662\n"
     ]
    }
   ],
   "source": [
    "using Pkg; Pkg.activate(\"C:\\\\Users\\\\KarlH\\\\Desktop\\\\ComputationalPhysicsMaster\\\\Code\\\\OrbitalNeuralMethods\")\n",
    "using Revise\n",
    "using OrbitalNeuralMethods"
   ]
  },
  {
   "cell_type": "code",
   "execution_count": 39,
   "id": "6829a853-f05e-4f12-90f7-6bbe1335fb88",
   "metadata": {},
   "outputs": [
    {
     "data": {
      "text/plain": [
       "Metropolis(10000, 100000, 0.3)"
      ]
     },
     "execution_count": 39,
     "metadata": {},
     "output_type": "execute_result"
    }
   ],
   "source": [
    "dims = 3\n",
    "num = 10\n",
    "\n",
    "ham = HarmonicOscillator(dims, num, ω = 1)\n",
    "wf = SimpleGaussian(dims, num, α = 0.4)\n",
    "metro = Metropolis(equils = 1e4, samples = 1e5, step = 0.3)"
   ]
  },
  {
   "cell_type": "code",
   "execution_count": 50,
   "id": "058cdcaa-ff76-495a-a6f9-c163e79d317c",
   "metadata": {},
   "outputs": [
    {
     "name": "stdout",
     "output_type": "stream",
     "text": [
      "E = 18.952 iter = 1/1           No convergence reached, final norm of gradient was 0.003066229213155765\n"
     ]
    },
    {
     "data": {
      "text/plain": [
       "0.40306622921315577"
      ]
     },
     "execution_count": 50,
     "metadata": {},
     "output_type": "execute_result"
    }
   ],
   "source": [
    "optimizer = GradientDescent(lr = 0.001, max_iter = 1, tol = 1e-9);\n",
    "wf_opt, grad_results = optimize(wf, ham, metro, optimizer, nthreads = 1);\n",
    "wf_opt.α"
   ]
  },
  {
   "cell_type": "code",
   "execution_count": null,
   "id": "061e0f8a-b99c-4751-a4a3-7ccbc99cae23",
   "metadata": {},
   "outputs": [],
   "source": []
  },
  {
   "cell_type": "code",
   "execution_count": null,
   "id": "2093afca-bacb-4ecb-8a08-1079fc2f43f6",
   "metadata": {},
   "outputs": [],
   "source": []
  },
  {
   "cell_type": "code",
   "execution_count": null,
   "id": "326343e6-fe9c-48e8-a0a6-381a4f284f84",
   "metadata": {},
   "outputs": [],
   "source": [
    "block_result = blocking(wf_opt, ham, metro)"
   ]
  },
  {
   "cell_type": "code",
   "execution_count": null,
   "id": "becd8fcf-c030-4153-82e2-57e891a9ee41",
   "metadata": {},
   "outputs": [],
   "source": [
    "ob_result = onebody(wf_opt, ham, metro, start = -5, stop = 5, length = 100)"
   ]
  },
  {
   "cell_type": "code",
   "execution_count": null,
   "id": "75790c24-1df2-4c1a-8a34-b60d6b1e46ef",
   "metadata": {},
   "outputs": [],
   "source": []
  }
 ],
 "metadata": {
  "kernelspec": {
   "display_name": "Julia 8 threads 1.8.0",
   "language": "julia",
   "name": "julia-8-threads-1.8"
  },
  "language_info": {
   "file_extension": ".jl",
   "mimetype": "application/julia",
   "name": "julia",
   "version": "1.8.0"
  }
 },
 "nbformat": 4,
 "nbformat_minor": 5
}
