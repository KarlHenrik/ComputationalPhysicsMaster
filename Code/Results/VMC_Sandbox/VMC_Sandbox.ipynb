{
 "cells": [
  {
   "cell_type": "code",
   "execution_count": null,
   "id": "4661918e-6d3f-4919-99b8-af972957410d",
   "metadata": {},
   "outputs": [],
   "source": [
    "using Pkg; Pkg.activate(\"C:\\\\Users\\\\KarlH\\\\Desktop\\\\ComputationalPhysicsMaster\\\\Code\\\\OrbitalNeuralMethods\")\n",
    "using Revise\n",
    "using OrbitalNeuralMethods"
   ]
  },
  {
   "cell_type": "code",
   "execution_count": null,
   "id": "6829a853-f05e-4f12-90f7-6bbe1335fb88",
   "metadata": {},
   "outputs": [],
   "source": [
    "dims = 3\n",
    "num = 10\n",
    "\n",
    "ham = HarmonicOscillator(dims, num, ω = 1)\n",
    "wf = SimpleGaussian(dims, num, α = 0.45)\n",
    "metro = Metropolis(equils = 1e4, samples = 2^12, step = 0.3)"
   ]
  },
  {
   "cell_type": "code",
   "execution_count": null,
   "id": "058cdcaa-ff76-495a-a6f9-c163e79d317c",
   "metadata": {},
   "outputs": [],
   "source": [
    "optimizer = GradientDescent(lr = 0.01, max_iter = 100, tol = 1e-6);\n",
    "wf_opt, grad_results = optimize(wf, ham, metro, optimizer, nthreads = 1);\n",
    "wf_opt.α"
   ]
  },
  {
   "cell_type": "code",
   "execution_count": null,
   "id": "326343e6-fe9c-48e8-a0a6-381a4f284f84",
   "metadata": {},
   "outputs": [],
   "source": [
    "block_result = blocking(wf, ham, metro, nthreads = 1)"
   ]
  },
  {
   "cell_type": "code",
   "execution_count": null,
   "id": "becd8fcf-c030-4153-82e2-57e891a9ee41",
   "metadata": {},
   "outputs": [],
   "source": [
    "ob_result = onebody(wf_opt, ham, metro, start = -5, stop = 5, length = 100, nthreads = 1)"
   ]
  },
  {
   "cell_type": "code",
   "execution_count": null,
   "id": "de895bcb-edff-4f6b-aa1d-1e75bb6719cc",
   "metadata": {},
   "outputs": [],
   "source": []
  }
 ],
 "metadata": {
  "kernelspec": {
   "display_name": "Julia 8 threads 1.8.0",
   "language": "julia",
   "name": "julia-8-threads-1.8"
  },
  "language_info": {
   "file_extension": ".jl",
   "mimetype": "application/julia",
   "name": "julia",
   "version": "1.8.0"
  }
 },
 "nbformat": 4,
 "nbformat_minor": 5
}
