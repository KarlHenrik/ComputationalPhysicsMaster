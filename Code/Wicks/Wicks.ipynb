{
 "cells": [
  {
   "cell_type": "code",
   "execution_count": 1,
   "id": "bb4e0684-5dd0-4ccd-bc2a-974b34b99896",
   "metadata": {},
   "outputs": [
    {
     "data": {
      "text/plain": [
       "\"PQsr\""
      ]
     },
     "execution_count": 1,
     "metadata": {},
     "output_type": "execute_result"
    }
   ],
   "source": [
    "groups = [\"Ia\", \"PQsr\", \"Dl\", \"Ck\"]\n",
    "wick = prod(groups)\n",
    "\n",
    "hole = \"Ikl\"\n",
    "particle = \"aCD\"\n",
    "v = \"PQsr\""
   ]
  },
  {
   "cell_type": "code",
   "execution_count": 7,
   "id": "d42b81a3-a5fb-4d13-96a8-f8339789adc3",
   "metadata": {},
   "outputs": [
    {
     "data": {
      "text/plain": [
       "\"IaPQsrDlCk\""
      ]
     },
     "execution_count": 7,
     "metadata": {},
     "output_type": "execute_result"
    }
   ],
   "source": [
    "wick"
   ]
  },
  {
   "cell_type": "code",
   "execution_count": 2,
   "id": "0f56b5f4-80d9-4a5b-87ae-69cea3e379fb",
   "metadata": {},
   "outputs": [],
   "source": [
    "# Dictionary with letters as keys and which index group they are in. i.e. group['D'] => 3\n",
    "group = Dict(vcat([[(s, i) for s in g] for (i, g) in enumerate(groups)]...));"
   ]
  },
  {
   "cell_type": "code",
   "execution_count": 3,
   "id": "7fb022f5-6668-40d1-98c7-cfc546e71bb1",
   "metadata": {},
   "outputs": [
    {
     "data": {
      "text/plain": [
       "islower (generic function with 1 method)"
      ]
     },
     "execution_count": 3,
     "metadata": {},
     "output_type": "execute_result"
    }
   ],
   "source": [
    "function isupper(s)\n",
    "    return uppercase(s) == s\n",
    "end\n",
    "function islower(s)\n",
    "    return lowercase(s) == s\n",
    "end"
   ]
  },
  {
   "cell_type": "code",
   "execution_count": 12,
   "id": "f43ff8dd-aa7f-4c61-bbbc-1194094648a3",
   "metadata": {},
   "outputs": [],
   "source": [
    "single_contractions = String[]\n",
    "for s1 in wick\n",
    "    for s2 in wick\n",
    "        if group[s1] < group[s2] # Only look for contraction to group ahead\n",
    "            if isupper(s1) && islower(s2) # Dagger to no dagger\n",
    "                if s1 in hole*v && s2 in hole*v\n",
    "                    #Valid Hole Contraction\n",
    "                    s = s1*s2\n",
    "                    push!(single_contractions, s)\n",
    "                end\n",
    "            elseif islower(s1) && isupper(s2) # No dagger to dagger\n",
    "                if s1 in particle*v && s2 in particle*v\n",
    "                    #Valid Particle Contraction\n",
    "                    s = s1*s2\n",
    "                    push!(single_contractions, s)\n",
    "                end\n",
    "            end\n",
    "        end\n",
    "    end\n",
    "end"
   ]
  },
  {
   "cell_type": "code",
   "execution_count": 13,
   "id": "9508daa9-3f3c-42e8-b899-98ba703b3b7d",
   "metadata": {},
   "outputs": [],
   "source": [
    "using Combinatorics: combinations\n",
    "contractions = []\n",
    "for contr in combinations(single_contractions, 5) #All sets of 5 single contractions\n",
    "    if length(Set(prod(contr))) == 10 #No repeated indices\n",
    "        c1 = reduce(|, occursin.(r\"[PQsr][Dl]\", contr)); #H is connected to the first T1\n",
    "        c2 = reduce(|, occursin.(r\"[PQsr][Ck]\", contr)); #H is connected to the second T1\n",
    "        if c1 && c2\n",
    "            push!(contractions, contr)\n",
    "        end\n",
    "    end\n",
    "end"
   ]
  },
  {
   "cell_type": "code",
   "execution_count": 6,
   "id": "3c18d35d-b010-469d-a4d2-964f2954297c",
   "metadata": {},
   "outputs": [],
   "source": [
    "open(\"wicks.txt\", \"w\") do wicks\n",
    "open(\"deltas.txt\", \"w\") do delta\n",
    "    count = 0\n",
    "    for contr in contractions\n",
    "        count += 1\n",
    "        if count % 3 == 0\n",
    "            linebr = \"\\\\\\\\\\n&+ \"\n",
    "        else \n",
    "            linebr = \"+ \"\n",
    "        end\n",
    "\n",
    "        l = Dict()\n",
    "        for (i, single_con) in enumerate(contr)\n",
    "            l[single_con[1]] = i\n",
    "            l[single_con[2]] = i\n",
    "        end\n",
    "        w = \"\\\\wick{ \\\\{ \\\\c$(l['I']) a_i^\\\\dagger \\\\c$(l['a']) a_a \\\\c$(l['P']) a_p^\\\\dagger \"*\n",
    "            \"\\\\c$(l['Q']) a_q^\\\\dagger \\\\c$(l['s']) a_s \\\\c$(l['r']) a_r \\\\c$(l['D']) \"*\n",
    "            \"a_d^\\\\dagger \\\\c$(l['l']) a_l \\\\c$(l['C']) a_c^\\\\dagger \\\\c$(l['k']) a_k \\\\} }\"\n",
    "        print(wicks, \"$w $linebr\")\n",
    "\n",
    "        d = \"\"\n",
    "        for single_contr in contr\n",
    "            s = lowercase(single_contr)\n",
    "            d *= \"\\\\delta_{$s} \"\n",
    "        end\n",
    "        print(delta, \"$d $linebr\")\n",
    "    end\n",
    "end\n",
    "end"
   ]
  },
  {
   "cell_type": "code",
   "execution_count": null,
   "id": "7046d57b-c444-4280-8632-ec8b4a173ec8",
   "metadata": {},
   "outputs": [],
   "source": []
  }
 ],
 "metadata": {
  "kernelspec": {
   "display_name": "Julia (8 threads) 1.7.2",
   "language": "julia",
   "name": "julia-(8-threads)-1.7"
  },
  "language_info": {
   "file_extension": ".jl",
   "mimetype": "application/julia",
   "name": "julia",
   "version": "1.7.2"
  }
 },
 "nbformat": 4,
 "nbformat_minor": 5
}
