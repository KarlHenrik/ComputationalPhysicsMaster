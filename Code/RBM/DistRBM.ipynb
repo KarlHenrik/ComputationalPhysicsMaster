{
 "cells": [
  {
   "cell_type": "code",
   "execution_count": 1,
   "id": "5f1d5914-bdcc-4f50-afcb-bd3dca5e4cdb",
   "metadata": {},
   "outputs": [],
   "source": [
    "import Random\n",
    "rng = Random.MersenneTwister()\n",
    "\n",
    "import ReverseDiff as rd\n",
    "import ForwardDiff as fd\n",
    "import LinearAlgebra as la"
   ]
  },
  {
   "cell_type": "code",
   "execution_count": 2,
   "id": "10ba580c-e2f4-4259-8ad4-1f3e52a32ea1",
   "metadata": {},
   "outputs": [
    {
     "data": {
      "text/plain": [
       "Particles"
      ]
     },
     "execution_count": 2,
     "metadata": {},
     "output_type": "execute_result"
    }
   ],
   "source": [
    "struct Particles\n",
    "    positions::Vector{Float64}\n",
    "    dims::Int64\n",
    "    num::Int64\n",
    "end\n",
    "\n",
    "function Particles(dims, num, rng)\n",
    "    positions = zeros(dims * num)\n",
    "    for i in 1:dims * num\n",
    "        positions[i] = (Random.rand(rng, Float64) .- 0.5) .* 2\n",
    "    end\n",
    "    return Particles(positions, dims, num)\n",
    "end"
   ]
  },
  {
   "cell_type": "code",
   "execution_count": 3,
   "id": "77905301-7d53-46b3-a852-87cd4e25250b",
   "metadata": {},
   "outputs": [
    {
     "data": {
      "text/plain": [
       "2"
      ]
     },
     "execution_count": 3,
     "metadata": {},
     "output_type": "execute_result"
    }
   ],
   "source": [
    "dims = 2\n",
    "num = 2"
   ]
  },
  {
   "cell_type": "code",
   "execution_count": 4,
   "id": "90fd50d5-684a-4f41-bef7-d1d6e78bef41",
   "metadata": {},
   "outputs": [
    {
     "data": {
      "text/plain": [
       "Particles([0.9984949986841052, -0.40444724035160684, -0.9127128025760629, -0.68809116042693], 2, 2)"
      ]
     },
     "execution_count": 4,
     "metadata": {},
     "output_type": "execute_result"
    }
   ],
   "source": [
    "particles = Particles(dims, num, rng)"
   ]
  },
  {
   "cell_type": "code",
   "execution_count": 5,
   "id": "a8218070-933b-4991-8f35-e25146ceadc0",
   "metadata": {},
   "outputs": [
    {
     "data": {
      "text/plain": [
       "0.5175602834977463"
      ]
     },
     "execution_count": 5,
     "metadata": {},
     "output_type": "execute_result"
    }
   ],
   "source": [
    "function dist(p)\n",
    "    return 1.0 / (sqrt((p[1] - p[3])^2 + (p[2] - p[4])^2) + 1e-6)\n",
    "end\n",
    "dist(particles.positions)"
   ]
  },
  {
   "cell_type": "code",
   "execution_count": 16,
   "id": "4d076548-c657-4b17-8999-2c5d7b9db006",
   "metadata": {},
   "outputs": [],
   "source": [
    "struct RBMDist{T}\n",
    "    # Normal rbm stuff\n",
    "    M::Int64 # Number of visible units\n",
    "    N::Int64 # Number of hidden units\n",
    "    W::Matrix{Float64}\n",
    "    a::Vector{Float64} # Visible bias\n",
    "    b::Vector{Float64} # Hidden bias\n",
    "    σ::Float64\n",
    "    \n",
    "    # Hessian setup\n",
    "    hes_grad_result::Vector{Float64}\n",
    "    hes_grad_tapes::Dict{DataType, Any}\n",
    "    hes_jac_result::Matrix{Float64}\n",
    "    hes_jac_config::T\n",
    "    \n",
    "    function RBMDist(visible, hidden, σ, rng::Random.AbstractRNG)\n",
    "        W = Random.rand(rng, Float64, (visible, hidden))\n",
    "        a = Random.rand(rng, Float64, visible)\n",
    "        b = Random.rand(rng, Float64, hidden)\n",
    "        \n",
    "        n = visible - 1\n",
    "        \n",
    "        hes_grad_result = zeros(n)\n",
    "        config = rd.GradientConfig(hes_grad_result)\n",
    "        hes_grad_tapes = Dict{DataType, Any}()\n",
    "        hes_jac_result = zeros(n, n)\n",
    "        hes_jac_config = fd.JacobianConfig(nothing, hes_grad_result, hes_grad_result)\n",
    "        \n",
    "        return new{typeof(hes_jac_config)}(visible, hidden, W, a, b, σ,\n",
    "                                           hes_grad_result, hes_grad_tapes, hes_jac_result, hes_jac_config)\n",
    "    end\n",
    "end"
   ]
  },
  {
   "cell_type": "code",
   "execution_count": 76,
   "id": "fb67e03f-6da1-41a7-aec2-b436222f5700",
   "metadata": {},
   "outputs": [],
   "source": [
    "rbm = RBMDist(dims * num + 1, 4, 1, rng);"
   ]
  },
  {
   "cell_type": "code",
   "execution_count": 77,
   "id": "eceb52d6-6cc5-409d-88a0-2ca8b0bed291",
   "metadata": {},
   "outputs": [
    {
     "data": {
      "text/plain": [
       "evaluate (generic function with 1 method)"
      ]
     },
     "execution_count": 77,
     "metadata": {},
     "output_type": "execute_result"
    }
   ],
   "source": [
    "function evaluate(X, wf::RBMDist)\n",
    "    r = dist(X)\n",
    "    sum1 = 0.0\n",
    "    for i in 1:wf.M-1\n",
    "        sum1 += (X[i] - wf.a[i])^2\n",
    "    end\n",
    "    sum1 += (r - wf.a[end])^2\n",
    "    prod = exp(-sum1 / (2.0 * wf.σ^2))\n",
    "    for j in 1:wf.N\n",
    "        sum2 = 0.0\n",
    "        for i in 1:wf.M-1\n",
    "            sum2 += X[i] * wf.W[i, j]\n",
    "        end\n",
    "        sum2 += r * wf.W[end, j]\n",
    "        prod *= 1.0 + exp(wf.b[j] + sum2 / wf.σ^2)\n",
    "    end\n",
    "    return prod\n",
    "end"
   ]
  },
  {
   "cell_type": "code",
   "execution_count": 78,
   "id": "1c4e6eb1-6d91-4de8-9d53-c559ee840012",
   "metadata": {},
   "outputs": [
    {
     "name": "stdout",
     "output_type": "stream",
     "text": [
      "  0.023505 seconds (38.16 k allocations: 2.241 MiB, 99.92% compilation time)\n"
     ]
    },
    {
     "data": {
      "text/plain": [
       "4.683236311485086"
      ]
     },
     "execution_count": 78,
     "metadata": {},
     "output_type": "execute_result"
    }
   ],
   "source": [
    "@time evaluate(particles.positions, rbm)"
   ]
  },
  {
   "cell_type": "code",
   "execution_count": 79,
   "id": "df8bafe5-9b0b-407e-ae8f-be78354ff07b",
   "metadata": {},
   "outputs": [
    {
     "data": {
      "text/plain": [
       "kinetic (generic function with 1 method)"
      ]
     },
     "execution_count": 79,
     "metadata": {},
     "output_type": "execute_result"
    }
   ],
   "source": [
    "function hes_grad!(y, x::Array{T}, wf::RBMDist) where {T<:Real}\n",
    "    if !haskey(wf.hes_grad_tapes, T)\n",
    "        config = rd.GradientConfig(x)\n",
    "        tape = rd.compile(rd.GradientTape(x -> evaluate(x, wf), x, config))\n",
    "        wf.hes_grad_tapes[T] = tape\n",
    "    end\n",
    "    tape = wf.hes_grad_tapes[T]\n",
    "    return rd.gradient!(y, tape, x)\n",
    "end\n",
    "\n",
    "function kinetic(particles, wf::RBMDist)\n",
    "    x = particles.positions\n",
    "    fd.jacobian!(wf.hes_jac_result, (y, x) -> hes_grad!(y, x, wf), wf.hes_grad_result, x, wf.hes_jac_config)\n",
    "    return -0.5 * la.tr(wf.hes_jac_result)\n",
    "end"
   ]
  },
  {
   "cell_type": "code",
   "execution_count": 82,
   "id": "44f8a3b8-5fa2-4065-9345-f88069447b91",
   "metadata": {},
   "outputs": [
    {
     "name": "stdout",
     "output_type": "stream",
     "text": [
      "  0.000023 seconds (1 allocation: 16 bytes)\n"
     ]
    },
    {
     "data": {
      "text/plain": [
       "-55.78843944615796"
      ]
     },
     "execution_count": 82,
     "metadata": {},
     "output_type": "execute_result"
    }
   ],
   "source": [
    "@time kinetic(particles, rbm)"
   ]
  }
 ],
 "metadata": {
  "kernelspec": {
   "display_name": "Julia 1.6.2",
   "language": "julia",
   "name": "julia-1.6"
  },
  "language_info": {
   "file_extension": ".jl",
   "mimetype": "application/julia",
   "name": "julia",
   "version": "1.6.2"
  }
 },
 "nbformat": 4,
 "nbformat_minor": 5
}
