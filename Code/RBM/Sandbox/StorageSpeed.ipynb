{
 "cells": [
  {
   "cell_type": "code",
   "execution_count": 1,
   "id": "23f9cf60-d3f0-4083-868c-d6eedd48a285",
   "metadata": {},
   "outputs": [],
   "source": [
    "import StaticArrays as sa"
   ]
  },
  {
   "cell_type": "code",
   "execution_count": 2,
   "id": "3d7f7492-c3e7-4c3a-8cc3-fc3a1e7f076b",
   "metadata": {},
   "outputs": [],
   "source": [
    "using Random\n",
    "rng = Random.MersenneTwister()\n",
    "using BenchmarkTools: @btime"
   ]
  },
  {
   "cell_type": "code",
   "execution_count": 6,
   "id": "5c5fd18c-8f66-4c5d-bd00-5323a28ad2d7",
   "metadata": {},
   "outputs": [
    {
     "data": {
      "text/plain": [
       "10"
      ]
     },
     "execution_count": 6,
     "metadata": {},
     "output_type": "execute_result"
    }
   ],
   "source": [
    "dims = 3\n",
    "num = 10"
   ]
  },
  {
   "cell_type": "code",
   "execution_count": 16,
   "id": "cda99765-4f1e-4ccd-b566-b9a5982668bc",
   "metadata": {},
   "outputs": [],
   "source": [
    "x = sa.SizedVector{dims * num}((Random.rand(rng, dims * num) .- 0.5) .* 2);"
   ]
  },
  {
   "cell_type": "code",
   "execution_count": 93,
   "id": "e5625b5d-7658-49a9-8ebf-975a7943608e",
   "metadata": {},
   "outputs": [],
   "source": [
    "x = (Random.rand(rng, dims * num) .- 0.5) .* 2;"
   ]
  },
  {
   "cell_type": "code",
   "execution_count": 94,
   "id": "f1db8813-7916-4cd3-b9a0-86f261610af0",
   "metadata": {},
   "outputs": [],
   "source": [
    "sx = Vector{sa.MVector{dims, Float64}}(undef, num)\n",
    "for new_particle in 1:num\n",
    "    sx[new_particle] = sa.MVector{dims}( (Random.rand(rng, Float64, dims) .- 0.5) .* 2 )\n",
    "end"
   ]
  },
  {
   "cell_type": "code",
   "execution_count": 101,
   "id": "bbb918ba-a016-444b-9d87-a21ead5c6f30",
   "metadata": {},
   "outputs": [
    {
     "data": {
      "text/plain": [
       "func (generic function with 2 methods)"
      ]
     },
     "execution_count": 101,
     "metadata": {},
     "output_type": "execute_result"
    }
   ],
   "source": [
    "function func(x, rng, dims)\n",
    "    old_pos = x[1:3]\n",
    "    return old_pos\n",
    "end"
   ]
  },
  {
   "cell_type": "code",
   "execution_count": 102,
   "id": "e04c18e8-af54-46ec-be8d-74e87adba220",
   "metadata": {},
   "outputs": [
    {
     "name": "stdout",
     "output_type": "stream",
     "text": [
      "  41.978 ns (1 allocation: 112 bytes)\n"
     ]
    }
   ],
   "source": [
    "@btime func(x, rng, dims);"
   ]
  },
  {
   "cell_type": "code",
   "execution_count": 97,
   "id": "d0e3d863-b476-4ea2-aae6-9267733d9d45",
   "metadata": {},
   "outputs": [
    {
     "data": {
      "text/plain": [
       "sfunc (generic function with 2 methods)"
      ]
     },
     "execution_count": 97,
     "metadata": {},
     "output_type": "execute_result"
    }
   ],
   "source": [
    "function sfunc(sx, rng, dims)\n",
    "    old_pos = sx[1]\n",
    "    return sx\n",
    "end"
   ]
  },
  {
   "cell_type": "code",
   "execution_count": 98,
   "id": "90d1761b-925e-4f4d-adf1-b02cb941edc9",
   "metadata": {},
   "outputs": [
    {
     "name": "stdout",
     "output_type": "stream",
     "text": [
      "  16.733 ns (0 allocations: 0 bytes)\n"
     ]
    }
   ],
   "source": [
    "@btime sfunc(sx, rng, dims);"
   ]
  },
  {
   "cell_type": "code",
   "execution_count": null,
   "id": "15602fd4-b211-4e3f-abe0-775b2c8b050a",
   "metadata": {},
   "outputs": [],
   "source": []
  }
 ],
 "metadata": {
  "kernelspec": {
   "display_name": "Julia 1.6.2",
   "language": "julia",
   "name": "julia-1.6"
  },
  "language_info": {
   "file_extension": ".jl",
   "mimetype": "application/julia",
   "name": "julia",
   "version": "1.6.2"
  }
 },
 "nbformat": 4,
 "nbformat_minor": 5
}
