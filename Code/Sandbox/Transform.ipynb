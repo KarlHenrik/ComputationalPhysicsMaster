{
 "cells": [
  {
   "cell_type": "code",
   "execution_count": null,
   "id": "b87f3e76-68f5-498f-90e8-9c9b71b378e5",
   "metadata": {},
   "outputs": [],
   "source": [
    "spfs = hf.system.spfs;\n",
    "C = hf.C;\n",
    "C_tilde = C';\n",
    "l = hf.system.l\n",
    "h = hf.system.h\n",
    "u = hf.system.u;"
   ]
  },
  {
   "cell_type": "code",
   "execution_count": null,
   "id": "6eba2fd6-2783-49a8-a164-60f77d4401f5",
   "metadata": {},
   "outputs": [],
   "source": [
    "function transform_spfs(spfs, C)\n",
    "    spfs2 = zero.(spfs)\n",
    "    l = length(spfs)\n",
    "    \n",
    "    for i in 1:l\n",
    "        psi1 = spfs2[i]\n",
    "        for j in 1:l\n",
    "            psi1 .+= C[j, i] .* spfs[j]\n",
    "        end\n",
    "    end\n",
    "    return spfs2\n",
    "end"
   ]
  },
  {
   "cell_type": "code",
   "execution_count": null,
   "id": "d6995cf6-984a-4f77-9b3f-a724fef9e263",
   "metadata": {},
   "outputs": [],
   "source": [
    "@time spfs2 = transform_spfs(spfs, C);"
   ]
  },
  {
   "cell_type": "code",
   "execution_count": null,
   "id": "f772d929-3ca1-43ec-b4b4-ee4de182647e",
   "metadata": {},
   "outputs": [],
   "source": [
    "function transform_onebody(h, C)\n",
    "    h2 = zero(h)\n",
    "    l = size(C)[1]\n",
    "    \n",
    "    @inbounds for a in 1:l\n",
    "        for b in 1:l\n",
    "            for i in 1:l\n",
    "                for j in 1:l\n",
    "                    h2[a, b] += C[i, a] * C[j, b] * h[i, j]\n",
    "                end\n",
    "            end\n",
    "        end\n",
    "    end\n",
    "    return h2\n",
    "end"
   ]
  },
  {
   "cell_type": "code",
   "execution_count": null,
   "id": "7e36637f-ad56-4af4-b25e-a5774caf7ccd",
   "metadata": {},
   "outputs": [],
   "source": [
    "function transform_onebody2(h, C)\n",
    "    return C' * h * C;\n",
    "end"
   ]
  },
  {
   "cell_type": "code",
   "execution_count": null,
   "id": "27bf02af-bfed-4bbd-b125-9aa953038e9e",
   "metadata": {},
   "outputs": [],
   "source": [
    "@time h2 = transform_onebody(h, C);"
   ]
  },
  {
   "cell_type": "code",
   "execution_count": null,
   "id": "79d280c0-ce3d-4c6d-9724-ba5c182bbb80",
   "metadata": {},
   "outputs": [],
   "source": [
    "@time h3 = transform_onebody2(h, C);"
   ]
  },
  {
   "cell_type": "code",
   "execution_count": null,
   "id": "43cc7235-f4a4-4c7e-9b7c-023a6c5a69e7",
   "metadata": {},
   "outputs": [],
   "source": [
    "h2 ≈ h3"
   ]
  },
  {
   "cell_type": "markdown",
   "id": "24f0bc59-e35d-4046-a032-7cea0068b23f",
   "metadata": {},
   "source": [
    "## Twobody"
   ]
  },
  {
   "cell_type": "code",
   "execution_count": null,
   "id": "c48dd940-75ce-4d36-b032-92a5a9abe430",
   "metadata": {},
   "outputs": [],
   "source": [
    "function transform_twobody_slow(u, C)\n",
    "    u2 = zero(u)\n",
    "    l = length(C[:,1])\n",
    "    \n",
    "    for a in 1:l, b in 1:l, c in 1:l, d in 1:l\n",
    "        for i in 1:l, j in 1:l, k in 1:l, m in 1:l\n",
    "            @inbounds u2[a, b, c, d] += C[i, a] * C[j, b] * C[k, c] * C[m, d] * u[i, j, k, m]\n",
    "        end\n",
    "    end\n",
    "    return u2\n",
    "end"
   ]
  },
  {
   "cell_type": "code",
   "execution_count": null,
   "id": "5ce78c6b-9ff1-4fe9-bd5e-3abbb855c9aa",
   "metadata": {},
   "outputs": [],
   "source": [
    "@time u_slow = transform_twobody_slow(u, C);"
   ]
  },
  {
   "cell_type": "code",
   "execution_count": null,
   "id": "0d60d73c-711a-4c43-a323-1a9133070ad1",
   "metadata": {},
   "outputs": [],
   "source": [
    "function transform_twobody(u, C)\n",
    "    u2 = zero(u)\n",
    "    u3 = zero(u)\n",
    "    l = size(C)[1]\n",
    "    \n",
    "    @inbounds for a in 1:l, b in 1:l, c in 1:l\n",
    "        for i in 1:l\n",
    "            for j in 1:l\n",
    "                u2[a, b, c, i] += C[j, i] * u[a, b, c, j]\n",
    "            end\n",
    "        end\n",
    "    end\n",
    "    \n",
    "    @inbounds for a in 1:l, b in 1:l, d in 1:l\n",
    "        for i in 1:l\n",
    "            for j in 1:l\n",
    "                u3[a, b, i, d] += C[j, i] * u2[a, b, j, d]\n",
    "            end\n",
    "        end\n",
    "    end\n",
    "    \n",
    "    @inbounds for a in 1:l, c in 1:l, d in 1:l\n",
    "        for i in 1:l\n",
    "            u2[a, i, c, d] = 0\n",
    "            for j in 1:l\n",
    "                u2[a, i, c, d] += C[j, i] * u3[a, j, c, d]\n",
    "            end\n",
    "        end\n",
    "    end\n",
    "    \n",
    "    @inbounds for b in 1:l, c in 1:l, d in 1:l\n",
    "        for i in 1:l\n",
    "            u3[i, b, c, d] = 0\n",
    "            for j in 1:l\n",
    "                u3[i, b, c, d] += C[j, i] * u2[j, b, c, d]\n",
    "            end\n",
    "        end\n",
    "    end\n",
    "    \n",
    "    return u3\n",
    "end"
   ]
  },
  {
   "cell_type": "code",
   "execution_count": null,
   "id": "640af7e1-0987-4412-aad1-3ccb5bdd996c",
   "metadata": {},
   "outputs": [],
   "source": [
    "@time u2 = transform_twobody(u, C);"
   ]
  },
  {
   "cell_type": "code",
   "execution_count": null,
   "id": "0c49c6da-c671-4192-aa9b-202aa9fa9ea4",
   "metadata": {},
   "outputs": [],
   "source": [
    "u2 ≈ u_py"
   ]
  },
  {
   "cell_type": "code",
   "execution_count": null,
   "id": "bd103b5d-7304-49c6-8322-21b729609369",
   "metadata": {},
   "outputs": [],
   "source": [
    "using PyCall"
   ]
  },
  {
   "cell_type": "code",
   "execution_count": null,
   "id": "76e8e12b-c0cb-4277-a6cd-d21aa0a3853a",
   "metadata": {},
   "outputs": [],
   "source": [
    "using TensorOperations"
   ]
  },
  {
   "cell_type": "code",
   "execution_count": null,
   "id": "f6b0c8af-0ed1-408f-bedf-b394c192138a",
   "metadata": {},
   "outputs": [],
   "source": [
    "function transform_twobody(u, C)\n",
    "    @tensor begin\n",
    "        u2[a, b, c, i] := u[a, b, c, d] * C[d, i]\n",
    "        u3[a, b, i, d] := u2[a, b, c, d] * C[c, i]\n",
    "        u2[a, i, c, d] = u3[a, b, c, d] * C[b, i]\n",
    "        u3[i, b, c, d] = u2[a, b, c, d] * C[a, i]\n",
    "    end\n",
    "    return u3\n",
    "end"
   ]
  },
  {
   "cell_type": "code",
   "execution_count": null,
   "id": "9f40f310-1789-49b7-83b5-f4f12b2adc8c",
   "metadata": {},
   "outputs": [],
   "source": [
    "u3 = transform_twobody(u, C);"
   ]
  },
  {
   "cell_type": "code",
   "execution_count": null,
   "id": "b8fc1558-3623-436e-8db8-05c0f51b9fa2",
   "metadata": {},
   "outputs": [],
   "source": [
    "println(fasit ≈ u3)"
   ]
  },
  {
   "cell_type": "code",
   "execution_count": null,
   "id": "92214aa0-c25b-4cc1-98f2-fbc9a9b0c416",
   "metadata": {},
   "outputs": [],
   "source": [
    "py\"\"\"\n",
    "import numpy as np\n",
    "\n",
    "def please(u, C, C_tilde):\n",
    "    _u = np.tensordot(u, C, axes=(3, 0))\n",
    "    _u = np.tensordot(_u, C, axes=(2, 0)).transpose(0, 1, 3, 2)\n",
    "    _u = np.tensordot(_u, C_tilde, axes=(1, 1)).transpose(0, 3, 1, 2)\n",
    "    _u = np.tensordot(C_tilde, _u, axes=(1, 0))\n",
    "    return _u\n",
    "\"\"\"\n",
    "@time fasit = py\"please\"(u, C, C');"
   ]
  },
  {
   "cell_type": "code",
   "execution_count": null,
   "id": "21ae2c00-cff3-4cc5-aef0-ec513a4167fa",
   "metadata": {},
   "outputs": [],
   "source": [
    "findmax(fasit), findmin(fasit)"
   ]
  }
 ],
 "metadata": {
  "kernelspec": {
   "display_name": "Julia (8 threads) 1.7.2",
   "language": "julia",
   "name": "julia-(8-threads)-1.7"
  },
  "language_info": {
   "file_extension": ".jl",
   "mimetype": "application/julia",
   "name": "julia",
   "version": "1.7.2"
  }
 },
 "nbformat": 4,
 "nbformat_minor": 5
}
