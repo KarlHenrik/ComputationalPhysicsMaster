{
 "cells": [
  {
   "cell_type": "code",
   "execution_count": 1,
   "id": "464e71b8-48f7-472f-8602-56defe7075ac",
   "metadata": {},
   "outputs": [],
   "source": [
    "include(\"VMC/includeall.jl\")\n",
    "using BenchmarkTools: @btime"
   ]
  },
  {
   "cell_type": "code",
   "execution_count": 31,
   "id": "36bf9433-f17d-4feb-9de2-91e1afef6ba1",
   "metadata": {},
   "outputs": [
    {
     "data": {
      "text/plain": [
       "12"
      ]
     },
     "execution_count": 31,
     "metadata": {},
     "output_type": "execute_result"
    }
   ],
   "source": [
    "# Setting up the physical parameters for the system\n",
    "dims = 3\n",
    "num = 50\n",
    "HOshape = [1, 1, √8]\n",
    "#wf = Correlated(0.4, 0.0433, HOshape)\n",
    "wf = SimpleGaussian(0.5, HOshape)\n",
    "ham = HarmonicOscillator(1, HOshape)\n",
    "\n",
    "# Setting up the sampling algorithm\n",
    "#metro = Importance(2e5, 2^21, 0.3)\n",
    "metro = Metropolis(1e5, 2097152, 0.5)\n",
    "\n",
    "# Setting the optimization or statistical run scheme\n",
    "# This decides what extra calculations are done after the vmc calculation, and what values are sampled during\n",
    "scheme = Blocking()\n",
    "\n",
    "nthreads = 12"
   ]
  },
  {
   "cell_type": "code",
   "execution_count": 32,
   "id": "9e622da4-38d8-4dc1-9b4a-52fb5a435685",
   "metadata": {},
   "outputs": [],
   "source": [
    "rng = Random.MersenneTwister()\n",
    "sampler = createSampler(scheme, wf, 100)\n",
    "particles = Particles(dims, num, rng, wf);"
   ]
  },
  {
   "cell_type": "code",
   "execution_count": 33,
   "id": "8700fdc8-20f1-41b8-8976-babc5aad0f76",
   "metadata": {},
   "outputs": [
    {
     "name": "stdout",
     "output_type": "stream",
     "text": [
      "  81.790 ns (1 allocation: 32 bytes)\n"
     ]
    },
    {
     "data": {
      "text/plain": [
       "false"
      ]
     },
     "execution_count": 33,
     "metadata": {},
     "output_type": "execute_result"
    }
   ],
   "source": [
    "@btime metro_step!(particles, wf, rng, metro)"
   ]
  },
  {
   "cell_type": "code",
   "execution_count": null,
   "id": "e20f78cd-f69c-4ff7-8502-95692d2b2878",
   "metadata": {},
   "outputs": [],
   "source": []
  }
 ],
 "metadata": {
  "kernelspec": {
   "display_name": "Julia 1.6.2",
   "language": "julia",
   "name": "julia-1.6"
  },
  "language_info": {
   "file_extension": ".jl",
   "mimetype": "application/julia",
   "name": "julia",
   "version": "1.6.2"
  }
 },
 "nbformat": 4,
 "nbformat_minor": 5
}
