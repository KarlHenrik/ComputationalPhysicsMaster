{
 "cells": [
  {
   "cell_type": "code",
   "execution_count": 59,
   "id": "6e68bd68-dc6e-482b-83f3-c816dc4cbc33",
   "metadata": {},
   "outputs": [],
   "source": [
    "include(\"VMC/includeall.jl\")\n",
    "using BenchmarkTools: @btime"
   ]
  },
  {
   "cell_type": "code",
   "execution_count": 85,
   "id": "ab51e1d1-c0c3-4172-b31a-b52cb4527a05",
   "metadata": {},
   "outputs": [
    {
     "data": {
      "text/plain": [
       "1"
      ]
     },
     "execution_count": 85,
     "metadata": {},
     "output_type": "execute_result"
    }
   ],
   "source": [
    "# Setting up the physical parameters for the system\n",
    "dims = 1\n",
    "num = 2\n",
    "HOshape = [1]\n",
    "wf = Correlated(0.5, 0.0433, HOshape)\n",
    "#wf = SimpleGaussian(0.5, HOshape)\n",
    "ham = HarmonicOscillator(1, HOshape)\n",
    "\n",
    "# Setting up the sampling algorithm\n",
    "#metro = Importance(2e5, 2^21, 0.3)\n",
    "metro = Metropolis(1e5, 1e6, 0.5)\n",
    "\n",
    "# Setting the optimization or statistical run scheme\n",
    "# This decides what extra calculations are done after the vmc calculation, and what values are sampled during\n",
    "scheme = Blocking()\n",
    "#scheme = GradientDescent(lr = 0.01, maxiter=1, tol=1e-6)\n",
    "\n",
    "nthreads = 1"
   ]
  },
  {
   "cell_type": "code",
   "execution_count": 88,
   "id": "c170757c-96d7-4645-8a97-5c6d5a1dae6e",
   "metadata": {},
   "outputs": [
    {
     "name": "stdout",
     "output_type": "stream",
     "text": [
      "  0.232178 seconds (5.30 M allocations: 261.048 MiB, 11.41% gc time)\n"
     ]
    },
    {
     "data": {
      "text/plain": [
       "BlockingResult(16.20220785177169, 152.5320187167929, 148.182313986008)"
      ]
     },
     "execution_count": 88,
     "metadata": {},
     "output_type": "execute_result"
    }
   ],
   "source": [
    "@time result = run_scheme(wf, ham, metro, dims, num, nthreads, scheme);\n",
    "\n",
    "result"
   ]
  },
  {
   "cell_type": "code",
   "execution_count": 52,
   "id": "a21b1d91-9460-4ced-8fe5-645cffa50757",
   "metadata": {},
   "outputs": [
    {
     "data": {
      "text/plain": [
       "1-element StaticArraysCore.MVector{1, Float64} with indices SOneTo(1):\n",
       " 0.3"
      ]
     },
     "execution_count": 52,
     "metadata": {},
     "output_type": "execute_result"
    }
   ],
   "source": [
    "rng = Random.MersenneTwister()\n",
    "particles = Particles(dims, num, rng, wf)\n",
    "particles.positions[1] .= 0.1\n",
    "particles.positions[2] .= 0.2\n",
    "particles.positions[3] .= 0.3"
   ]
  },
  {
   "cell_type": "code",
   "execution_count": 55,
   "id": "1104259a-b42e-4c4c-a663-5066f58476b5",
   "metadata": {},
   "outputs": [
    {
     "name": "stdout",
     "output_type": "stream",
     "text": [
      "-2.3104000000000005\n"
     ]
    },
    {
     "data": {
      "text/plain": [
       "199.4568609474171"
      ]
     },
     "execution_count": 55,
     "metadata": {},
     "output_type": "execute_result"
    }
   ],
   "source": [
    "kinetic(particles, wf)"
   ]
  },
  {
   "cell_type": "code",
   "execution_count": null,
   "id": "8ae4e717-f3cb-4678-abd3-e70776983758",
   "metadata": {},
   "outputs": [],
   "source": []
  }
 ],
 "metadata": {
  "kernelspec": {
   "display_name": "Julia 8 threads 1.8.0",
   "language": "julia",
   "name": "julia-8-threads-1.8"
  },
  "language_info": {
   "file_extension": ".jl",
   "mimetype": "application/julia",
   "name": "julia",
   "version": "1.8.0"
  }
 },
 "nbformat": 4,
 "nbformat_minor": 5
}
