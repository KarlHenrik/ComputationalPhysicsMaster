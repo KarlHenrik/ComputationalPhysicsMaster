{
 "cells": [
  {
   "cell_type": "code",
   "execution_count": 1,
   "id": "6e68bd68-dc6e-482b-83f3-c816dc4cbc33",
   "metadata": {},
   "outputs": [],
   "source": [
    "include(\"VMC/includeall.jl\")\n",
    "using BenchmarkTools: @btime"
   ]
  },
  {
   "cell_type": "code",
   "execution_count": 13,
   "id": "ab51e1d1-c0c3-4172-b31a-b52cb4527a05",
   "metadata": {},
   "outputs": [
    {
     "data": {
      "text/plain": [
       "8"
      ]
     },
     "execution_count": 13,
     "metadata": {},
     "output_type": "execute_result"
    }
   ],
   "source": [
    "# Setting up the physical parameters for the system\n",
    "dims = 3\n",
    "num = 10\n",
    "HOshape = [1, 1, 1]\n",
    "#wf = Correlated(0.4, 0.0433, HOshape)\n",
    "wf = SimpleGaussian(0.5, HOshape)\n",
    "ham = HarmonicOscillator(1, HOshape)\n",
    "\n",
    "# Setting up the sampling algorithm\n",
    "#metro = Importance(2e5, 2^21, 0.3)\n",
    "metro = Metropolis(2e5, 2^21, 0.5)\n",
    "\n",
    "# Setting the optimization or statistical run scheme\n",
    "# This decides what extra calculations are done after the vmc calculation, and what values are sampled during\n",
    "#scheme = Blocking()\n",
    "scheme = GradientDescent(lr = 0.01, maxiter=1, tol=1e-6)\n",
    "\n",
    "nthreads = 8"
   ]
  },
  {
   "cell_type": "code",
   "execution_count": 14,
   "id": "c170757c-96d7-4645-8a97-5c6d5a1dae6e",
   "metadata": {},
   "outputs": [
    {
     "name": "stdout",
     "output_type": "stream",
     "text": [
      "  0.492189 seconds (15.29 M allocations: 675.664 MiB, 51.12% gc time)\n"
     ]
    },
    {
     "ename": "LoadError",
     "evalue": "type Tuple has no field E",
     "output_type": "error",
     "traceback": [
      "type Tuple has no field E",
      "",
      "Stacktrace:",
      " [1] getproperty(x::Tuple{Vector{GradientResult}, Vector{WaveFunction}}, f::Symbol)",
      "   @ Base .\\Base.jl:38",
      " [2] top-level scope",
      "   @ In[14]:3",
      " [3] eval",
      "   @ .\\boot.jl:368 [inlined]",
      " [4] include_string(mapexpr::typeof(REPL.softscope), mod::Module, code::String, filename::String)",
      "   @ Base .\\loading.jl:1428"
     ]
    }
   ],
   "source": [
    "@time result = run_scheme(wf, ham, metro, dims, num, nthreads, scheme);\n",
    "\n",
    "print(\"\\nE = $(result.E) ± $(result.E_err)  -  std = $(result.std)\")"
   ]
  },
  {
   "cell_type": "code",
   "execution_count": null,
   "id": "a21b1d91-9460-4ced-8fe5-645cffa50757",
   "metadata": {},
   "outputs": [],
   "source": []
  }
 ],
 "metadata": {
  "kernelspec": {
   "display_name": "Julia 8 threads 1.8.0",
   "language": "julia",
   "name": "julia-8-threads-1.8"
  },
  "language_info": {
   "file_extension": ".jl",
   "mimetype": "application/julia",
   "name": "julia",
   "version": "1.8.0"
  }
 },
 "nbformat": 4,
 "nbformat_minor": 5
}
