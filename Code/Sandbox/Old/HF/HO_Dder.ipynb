{
 "cells": [
  {
   "cell_type": "code",
   "execution_count": 1,
   "id": "e4e6c801-0755-4328-a633-ed531d770e4e",
   "metadata": {},
   "outputs": [],
   "source": [
    "using BenchmarkTools: @btime\n",
    "import LinearAlgebra as la"
   ]
  },
  {
   "cell_type": "code",
   "execution_count": 7,
   "id": "4215bdaf-b655-452e-8eba-1c51db14378b",
   "metadata": {},
   "outputs": [],
   "source": [
    "struct HO_Funcs\n",
    "    ω::Float64\n",
    "    hermites::Vector{Float64}\n",
    "    hos::Vector{Float64}\n",
    "    ho_der::Vector{Float64}\n",
    "    ho_dder::Vector{Float64}\n",
    "    \n",
    "    function HO_Funcs(l, ω)\n",
    "        hermites = zeros(l)\n",
    "        hermites[1] = 1.0\n",
    "        \n",
    "        hos = zeros(l)\n",
    "        ho_der = zeros(l)\n",
    "        ho_dder = zeros(l)\n",
    "        return new(ω, hermites, hos, ho_der, ho_dder)\n",
    "    end\n",
    "end"
   ]
  },
  {
   "cell_type": "code",
   "execution_count": 88,
   "id": "b31c57ec",
   "metadata": {},
   "outputs": [
    {
     "data": {
      "text/plain": [
       "fast_ho_all (generic function with 1 method)"
      ]
     },
     "execution_count": 88,
     "metadata": {},
     "output_type": "execute_result"
    }
   ],
   "source": [
    "function fast_ho_all(x, ho)\n",
    "    (; ω, hermites, hos, ho_der, ho_dder) = ho\n",
    "    \n",
    "    ξ = √ω * x\n",
    "\n",
    "    #hermites[1] = 1.0\n",
    "    ho_fac = (ω / π)^0.25 * exp(-ξ^2 / 2)\n",
    "    \n",
    "    hos[1] = ho_fac * hermites[1]\n",
    "    ho_der[1] = -ω * x * hos[1]\n",
    "    ho_dder[1] = ω * (ω * x^2 - 1) * hos[1]\n",
    "    \n",
    "    hermites[2] = 2ξ\n",
    "    ho_fac *= 1 / √2\n",
    "\n",
    "    hos[2] = ho_fac * hermites[2]\n",
    "    ho_der[2] =  ho_fac * (√ω * 4 * hermites[1] - ω * x * hermites[2])\n",
    "    ho_dder[2] = ho_fac * ω * ((ω * x^2 - 1) * hermites[2] - √ω * x * 4 * hermites[1])\n",
    "\n",
    "    @inbounds for n in 2:length(hos)-1\n",
    "        hermites[n+1] = 2ξ * hermites[n] - 2(n-1) * hermites[n-1]\n",
    "        ho_fac *= 1 / sqrt( 2n )\n",
    "\n",
    "        hos[n+1] = ho_fac * hermites[n+1]\n",
    "        ho_der[n+1] =  ho_fac * (√ω * 2 * n * hermites[n] - ω * x * hermites[n+1])\n",
    "        ho_dder[n+1] = ho_fac * ω * ((ω * x^2 - 1) * hermites[n+1] - √ω * x * 4n * hermites[n] + 4 * (n-1)*n * hermites[n - 1])\n",
    "    end\n",
    "    \n",
    "    return hos, ho_der, ho_dder\n",
    "end"
   ]
  },
  {
   "cell_type": "code",
   "execution_count": 53,
   "id": "d3a5e545-4e13-4d63-b80c-32bfa27210af",
   "metadata": {},
   "outputs": [
    {
     "data": {
      "text/plain": [
       "8.1"
      ]
     },
     "execution_count": 53,
     "metadata": {},
     "output_type": "execute_result"
    }
   ],
   "source": [
    "l = 50\n",
    "ω = 0.25\n",
    "ho = HO_Funcs(l, ω);\n",
    "x = 8.1"
   ]
  },
  {
   "cell_type": "code",
   "execution_count": 91,
   "id": "d5193bef",
   "metadata": {},
   "outputs": [
    {
     "name": "stdout",
     "output_type": "stream",
     "text": [
      "  0.000007 seconds (1 allocation: 32 bytes)\n"
     ]
    }
   ],
   "source": [
    "@time fast_ho_all(x, ho);"
   ]
  },
  {
   "cell_type": "code",
   "execution_count": 92,
   "id": "207be96b-c019-4a9e-9ea9-995011af95b2",
   "metadata": {},
   "outputs": [
    {
     "data": {
      "text/plain": [
       "ho_test (generic function with 1 method)"
      ]
     },
     "execution_count": 92,
     "metadata": {},
     "output_type": "execute_result"
    }
   ],
   "source": [
    "function ho_test(x)\n",
    "    n = 5\n",
    "    x = √ω * x\n",
    "    hermite = 32x^5 - 160x^3 + 120x\n",
    "    return (ω/π)^0.25 * 1 / sqrt(2^n * factorial(n)) * hermite * exp(-x^2/2)\n",
    "end"
   ]
  },
  {
   "cell_type": "code",
   "execution_count": 93,
   "id": "00f8205a-c983-4abc-9d9e-baa9410420c3",
   "metadata": {},
   "outputs": [],
   "source": [
    "import ForwardDiff as fd"
   ]
  },
  {
   "cell_type": "code",
   "execution_count": 94,
   "id": "3c687e68",
   "metadata": {},
   "outputs": [],
   "source": [
    "hos, ho_der, ho_dder = fast_ho_all(x, ho);"
   ]
  },
  {
   "cell_type": "code",
   "execution_count": 95,
   "id": "d9ca135b-ad16-4142-9a55-446a67ccb4a4",
   "metadata": {},
   "outputs": [
    {
     "name": "stdout",
     "output_type": "stream",
     "text": [
      "0.0581314323587515\n",
      "0.05813143235875152\n"
     ]
    }
   ],
   "source": [
    "println(ho_test(8.1))\n",
    "println(hos[6])"
   ]
  },
  {
   "cell_type": "code",
   "execution_count": 96,
   "id": "228ff758-c602-49ae-b29e-1f8a9c713e24",
   "metadata": {},
   "outputs": [
    {
     "name": "stdout",
     "output_type": "stream",
     "text": [
      "-0.0762265461506806\n",
      "-0.07622654615068064\n"
     ]
    }
   ],
   "source": [
    "println( fd.derivative(ho_test, 8.1))\n",
    "println(ho_der[6])"
   ]
  },
  {
   "cell_type": "code",
   "execution_count": 97,
   "id": "cf1fe9e3-934d-458a-8772-9b3f0e2da5c8",
   "metadata": {},
   "outputs": [
    {
     "name": "stdout",
     "output_type": "stream",
     "text": [
      "0.07851376582953867\n",
      "0.07851376582953876\n"
     ]
    }
   ],
   "source": [
    "println( fd.derivative(x -> fd.derivative(ho_test, x), 8.1) )\n",
    "println(ho_dder[6])"
   ]
  },
  {
   "cell_type": "code",
   "execution_count": null,
   "id": "b8e9a786",
   "metadata": {},
   "outputs": [],
   "source": []
  }
 ],
 "metadata": {
  "kernelspec": {
   "display_name": "Julia 8 threads 1.8.0",
   "language": "julia",
   "name": "julia-8-threads-1.8"
  },
  "language_info": {
   "file_extension": ".jl",
   "mimetype": "application/julia",
   "name": "julia",
   "version": "1.8.0"
  }
 },
 "nbformat": 4,
 "nbformat_minor": 5
}
