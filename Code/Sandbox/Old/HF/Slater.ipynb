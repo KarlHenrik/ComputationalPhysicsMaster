{
 "cells": [
  {
   "cell_type": "code",
   "execution_count": 92,
   "id": "01756c7b-3c34-40f3-b756-8811130b5b82",
   "metadata": {},
   "outputs": [],
   "source": [
    "using BenchmarkTools: @btime\n",
    "import LinearAlgebra as la"
   ]
  },
  {
   "cell_type": "code",
   "execution_count": 8,
   "id": "5ed8cec9-32f9-46c8-b706-ae68eb2c41e3",
   "metadata": {},
   "outputs": [],
   "source": [
    "struct HO_Funcs\n",
    "    ω::Float64\n",
    "    hermites::Vector{Float64}\n",
    "    hos::Vector{Float64}\n",
    "    \n",
    "    function HO_Funcs(l, ω)\n",
    "        hermites = zeros(l)\n",
    "        hermites[1] = 1.0\n",
    "        \n",
    "        hos = zeros(l)\n",
    "        return new(ω, hermites, hos)\n",
    "    end\n",
    "end"
   ]
  },
  {
   "cell_type": "code",
   "execution_count": 17,
   "id": "22bf72db-4682-472b-81f7-404bef705986",
   "metadata": {},
   "outputs": [
    {
     "data": {
      "text/plain": [
       "fast_ho (generic function with 1 method)"
      ]
     },
     "execution_count": 17,
     "metadata": {},
     "output_type": "execute_result"
    }
   ],
   "source": [
    "function fast_ho(x, ho)\n",
    "    ω, hermites, hos = ho.ω, ho.hermites, ho.hos\n",
    "    \n",
    "    x = √ω * x\n",
    "    hermites[2] = 2x\n",
    "\n",
    "    ho_fac = (ω / π)^0.25 * exp(-x^2 / 2)\n",
    "    hos[1] = ho_fac * hermites[1]\n",
    "    ho_fac *= 1 / √2\n",
    "    hos[2] = ho_fac * hermites[2]\n",
    "\n",
    "    for n in 3:length(hos)\n",
    "        hermites[n] = 2x * hermites[n-1] - 2(n - 2) * hermites[n-2]\n",
    "\n",
    "        ho_fac *= 1 / sqrt( 2(n - 1) )\n",
    "        hos[n] = ho_fac * hermites[n]\n",
    "    end\n",
    "    \n",
    "    return hos\n",
    "end"
   ]
  },
  {
   "cell_type": "code",
   "execution_count": 103,
   "id": "1df3349e-2365-4a46-9c80-0b0ed3ca03a3",
   "metadata": {},
   "outputs": [
    {
     "data": {
      "text/plain": [
       "50-element Vector{Float64}:\n",
       "  0.00014569341203507453\n",
       "  0.0008344684769560763\n",
       "  0.003276576532047902\n",
       "  0.010153679160712206\n",
       "  0.026240329809357737\n",
       "  0.05813143235875152\n",
       "  0.11197286813391592\n",
       "  0.18858141465722794\n",
       "  0.27713633738800386\n",
       "  0.3513091925835325\n",
       "  0.37338188638435676\n",
       "  0.30984264138949413\n",
       "  0.15480961150369804\n",
       "  ⋮\n",
       "  0.19178930666533067\n",
       "  0.0307608875536246\n",
       " -0.16151947509417727\n",
       " -0.1748618602721361\n",
       "  0.005045196103816062\n",
       "  0.17722332560422738\n",
       "  0.14803823206759484\n",
       " -0.04884585615130985\n",
       " -0.18766979286386054\n",
       " -0.10846552987210341\n",
       "  0.09603585402138545\n",
       "  0.18593183195993027"
      ]
     },
     "execution_count": 103,
     "metadata": {},
     "output_type": "execute_result"
    }
   ],
   "source": [
    "fast_ho(8.1, ho)"
   ]
  },
  {
   "cell_type": "code",
   "execution_count": 96,
   "id": "ab63a75e-72cb-4cd6-861e-deaac96e794a",
   "metadata": {},
   "outputs": [],
   "source": [
    "l = 50\n",
    "ω = 0.25\n",
    "ho = HO_Funcs(l, ω);"
   ]
  },
  {
   "cell_type": "code",
   "execution_count": 97,
   "id": "13fba38f-dcff-415a-99b2-56f7e831628c",
   "metadata": {},
   "outputs": [],
   "source": [
    "n = 4\n",
    "positions = rand(4)\n",
    "HF = rand(l, n);"
   ]
  },
  {
   "cell_type": "code",
   "execution_count": 98,
   "id": "60208e5c-8762-4cf2-9499-8811ef183c7f",
   "metadata": {},
   "outputs": [],
   "source": [
    "slater = zeros(n, n);"
   ]
  },
  {
   "cell_type": "code",
   "execution_count": 99,
   "id": "de804919-56d6-4e1b-b8dd-cc9f788e428d",
   "metadata": {},
   "outputs": [
    {
     "data": {
      "text/plain": [
       "setupSlater! (generic function with 2 methods)"
      ]
     },
     "execution_count": 99,
     "metadata": {},
     "output_type": "execute_result"
    }
   ],
   "source": [
    "function setupSlater!(slater, positions, ho, HF)\n",
    "    n, l = size(slater)[1], length(ho.hos)\n",
    "    for (row, x) in enumerate(positions)\n",
    "        hos = fast_ho(x, ho) # all l basis functions evaluated on x\n",
    "\n",
    "        for col in 1:n\n",
    "            ϕ_col_x = 0.0\n",
    "            for i in 1:l\n",
    "                ϕ_col_x += HF[i, col] * hos[i]\n",
    "            end\n",
    "            slater[row, col] = ϕ_col_x\n",
    "        end\n",
    "    end\n",
    "    return slater\n",
    "end"
   ]
  },
  {
   "cell_type": "code",
   "execution_count": 100,
   "id": "736acfb3-bb4a-4f86-9555-923c12564554",
   "metadata": {},
   "outputs": [
    {
     "name": "stdout",
     "output_type": "stream",
     "text": [
      "  1.450 μs (0 allocations: 0 bytes)\n"
     ]
    },
    {
     "data": {
      "text/plain": [
       "4×4 Matrix{Float64}:\n",
       "  0.478584   -0.0355856  0.484533  0.0207133\n",
       " -0.0237272  -0.393473   0.613893  0.572105\n",
       "  0.0344489  -0.393559   0.604177  0.518043\n",
       " -0.123132   -0.346754   0.637647  0.638696"
      ]
     },
     "execution_count": 100,
     "metadata": {},
     "output_type": "execute_result"
    }
   ],
   "source": [
    "@btime setupSlater!(slater, positions, ho, HF)"
   ]
  },
  {
   "cell_type": "code",
   "execution_count": 101,
   "id": "55ee0f1f-3233-430c-a8e7-db04e85071f8",
   "metadata": {},
   "outputs": [
    {
     "data": {
      "text/plain": [
       "updateSlater! (generic function with 2 methods)"
      ]
     },
     "execution_count": 101,
     "metadata": {},
     "output_type": "execute_result"
    }
   ],
   "source": [
    "function updateSlater!(slater, i, x, ho, HF)\n",
    "    n, l = size(slater)[1], length(ho.hos)\n",
    "    hos = fast_ho(x, ho) # all l basis functions evaluated on x\n",
    "    \n",
    "    for col in 1:n\n",
    "        ϕ_col_x = 0.0\n",
    "        for j in 1:l\n",
    "            ϕ_col_x += HF[j, col] * hos[j]\n",
    "        end\n",
    "        slater[i, col] = ϕ_col_x\n",
    "    end\n",
    "    return slater\n",
    "end"
   ]
  },
  {
   "cell_type": "code",
   "execution_count": 102,
   "id": "18ab3e72-23da-462f-9772-63fb5cbcec2b",
   "metadata": {},
   "outputs": [
    {
     "name": "stdout",
     "output_type": "stream",
     "text": [
      "  359.716 ns (0 allocations: 0 bytes)\n"
     ]
    },
    {
     "data": {
      "text/plain": [
       "4×4 Matrix{Float64}:\n",
       "  0.385062   -0.185127  0.550859  0.155598\n",
       " -0.0237272  -0.393473  0.613893  0.572105\n",
       "  0.0344489  -0.393559  0.604177  0.518043\n",
       " -0.123132   -0.346754  0.637647  0.638696"
      ]
     },
     "execution_count": 102,
     "metadata": {},
     "output_type": "execute_result"
    }
   ],
   "source": [
    "i = 1\n",
    "x = 0.314159279\n",
    "@btime updateSlater!(slater, i, x, ho, HF)"
   ]
  },
  {
   "cell_type": "code",
   "execution_count": 95,
   "id": "2fc0313b-c8f7-4c8b-9353-96183960feaa",
   "metadata": {},
   "outputs": [
    {
     "data": {
      "text/plain": [
       "-1.701265821540461e-5"
      ]
     },
     "execution_count": 95,
     "metadata": {},
     "output_type": "execute_result"
    }
   ],
   "source": [
    "la.det(slater)"
   ]
  },
  {
   "cell_type": "code",
   "execution_count": null,
   "id": "453c8aa2-fcba-4f62-9c16-e68813338aa4",
   "metadata": {},
   "outputs": [],
   "source": []
  }
 ],
 "metadata": {
  "kernelspec": {
   "display_name": "Julia 1.7.2",
   "language": "julia",
   "name": "julia-1.7"
  },
  "language_info": {
   "file_extension": ".jl",
   "mimetype": "application/julia",
   "name": "julia",
   "version": "1.7.2"
  }
 },
 "nbformat": 4,
 "nbformat_minor": 5
}
