{
 "cells": [
  {
   "cell_type": "code",
   "execution_count": 1,
   "id": "87c469c7-bb7c-492e-b528-e59c185aab63",
   "metadata": {},
   "outputs": [],
   "source": [
    "using BenchmarkTools: @btime"
   ]
  },
  {
   "cell_type": "code",
   "execution_count": 2,
   "id": "9bb3ad08-0ef5-4983-86b8-0d4533147119",
   "metadata": {},
   "outputs": [],
   "source": [
    "using Flux"
   ]
  },
  {
   "cell_type": "code",
   "execution_count": 3,
   "id": "8c690f66-bce3-4485-ae2a-97ac0ccb9a71",
   "metadata": {},
   "outputs": [
    {
     "data": {
      "text/plain": [
       "Chain(\n",
       "  Dense(5 => 50, σ),                    \u001b[90m# 300 parameters\u001b[39m\n",
       "  Dense(50 => 30, σ),                   \u001b[90m# 1_530 parameters\u001b[39m\n",
       "  Dense(30 => 30, σ),                   \u001b[90m# 930 parameters\u001b[39m\n",
       "  Dense(30 => 30, σ),                   \u001b[90m# 930 parameters\u001b[39m\n",
       "  Dense(30 => 30, tanh),                \u001b[90m# 930 parameters\u001b[39m\n",
       "  Dense(30 => 1, exp),                  \u001b[90m# 31 parameters\u001b[39m\n",
       ") \u001b[90m                  # Total: 12 arrays, \u001b[39m4_651 parameters, 18.918 KiB."
      ]
     },
     "execution_count": 3,
     "metadata": {},
     "output_type": "execute_result"
    }
   ],
   "source": [
    "model = Chain(\n",
    "    Dense(5 => 50, σ),\n",
    "    Dense(50 => 30, σ),\n",
    "    Dense(30 => 30, σ),\n",
    "    Dense(30 => 30, σ),\n",
    "    Dense(30 => 30, tanh),\n",
    "    Dense(30 => 1, exp),\n",
    ")"
   ]
  },
  {
   "cell_type": "code",
   "execution_count": 4,
   "id": "bf8b2413-05fc-45e4-b502-eda2816737c2",
   "metadata": {},
   "outputs": [
    {
     "data": {
      "text/plain": [
       "5-element Vector{Float64}:\n",
       " 0.7105315569506524\n",
       " 0.8742869885481452\n",
       " 0.16575036020292866\n",
       " 0.8665964546377469\n",
       " 0.39717085582052725"
      ]
     },
     "execution_count": 4,
     "metadata": {},
     "output_type": "execute_result"
    }
   ],
   "source": [
    "x_test = rand(5)"
   ]
  },
  {
   "cell_type": "code",
   "execution_count": 5,
   "id": "abd32861-f842-4a3b-a5e3-e94684332eeb",
   "metadata": {},
   "outputs": [
    {
     "name": "stdout",
     "output_type": "stream",
     "text": [
      "  4.229 μs (12 allocations: 3.47 KiB)\n"
     ]
    },
    {
     "data": {
      "text/plain": [
       "1-element Vector{Float64}:\n",
       " 1.221669774891271"
      ]
     },
     "execution_count": 5,
     "metadata": {},
     "output_type": "execute_result"
    }
   ],
   "source": [
    "@btime model(x_test)"
   ]
  },
  {
   "cell_type": "code",
   "execution_count": null,
   "id": "f0e7e961-1d3c-478a-bacf-90cb74730aa4",
   "metadata": {},
   "outputs": [],
   "source": [
    "model"
   ]
  },
  {
   "cell_type": "code",
   "execution_count": 14,
   "id": "19722f04-12de-49a3-813d-e6b0f6ce9ba4",
   "metadata": {},
   "outputs": [
    {
     "data": {
      "text/plain": [
       "test (generic function with 1 method)"
      ]
     },
     "execution_count": 14,
     "metadata": {},
     "output_type": "execute_result"
    }
   ],
   "source": [
    "function test(model, x_test)\n",
    "    gs = gradient(Flux.params(model)) do\n",
    "        model(x_test)[1]\n",
    "    end\n",
    "    return gs\n",
    "end"
   ]
  },
  {
   "cell_type": "code",
   "execution_count": 20,
   "id": "a0b6340c-8f1b-4d69-ae8b-c105abb4618d",
   "metadata": {},
   "outputs": [
    {
     "name": "stdout",
     "output_type": "stream",
     "text": [
      "  25.400 μs (146 allocations: 50.61 KiB)\n"
     ]
    },
    {
     "data": {
      "text/plain": [
       "Grads(...)"
      ]
     },
     "execution_count": 20,
     "metadata": {},
     "output_type": "execute_result"
    }
   ],
   "source": [
    "@btime test(model, x_test)"
   ]
  }
 ],
 "metadata": {
  "kernelspec": {
   "display_name": "Julia (8 threads) 1.7.2",
   "language": "julia",
   "name": "julia-(8-threads)-1.7"
  },
  "language_info": {
   "file_extension": ".jl",
   "mimetype": "application/julia",
   "name": "julia",
   "version": "1.7.2"
  }
 },
 "nbformat": 4,
 "nbformat_minor": 5
}
