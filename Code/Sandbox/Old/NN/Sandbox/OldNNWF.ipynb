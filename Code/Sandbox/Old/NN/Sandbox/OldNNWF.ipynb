{
 "cells": [
  {
   "cell_type": "markdown",
   "id": "88743a01-f801-4ec3-9c42-691615dea2d3",
   "metadata": {},
   "source": [
    "## Old manual"
   ]
  },
  {
   "cell_type": "code",
   "execution_count": null,
   "id": "d182fe80-ef36-4d34-bbb1-7d7040b12215",
   "metadata": {},
   "outputs": [],
   "source": [
    "w1, b1 = rand(rng, Float64, (5, 5)), rand(rng, Float64, 5)\n",
    "w2, b2 = rand(rng, Float64, (3, 5)), rand(rng, Float64, 3)\n",
    "w3, b3 = rand(rng, Float64, (1, 3)), rand(rng, Float64, 1)"
   ]
  },
  {
   "cell_type": "code",
   "execution_count": null,
   "id": "1267262e-2b42-4823-abd1-aac7f93482cd",
   "metadata": {},
   "outputs": [],
   "source": [
    "w1, b1 = nn.layers[1].W, nn.layers[1].b\n",
    "w2, b2 = nn.layers[2].W, nn.layers[2].b\n",
    "w3, b3 = nn.layers[3].W, nn.layers[3].b"
   ]
  },
  {
   "cell_type": "code",
   "execution_count": null,
   "id": "8f41b52c-ad2e-489c-8cfd-bbdd445db473",
   "metadata": {},
   "outputs": [],
   "source": [
    "params_flux = params(model_flux)\n",
    "w1, b1 = params_flux[1], params_flux[2]\n",
    "w2, b2 = params_flux[3], params_flux[4]\n",
    "w3, b3 = params_flux[5], params_flux[6]"
   ]
  },
  {
   "cell_type": "code",
   "execution_count": null,
   "id": "fbd6f7c2-a8c1-442b-8b80-a99fbaf3ba3e",
   "metadata": {},
   "outputs": [],
   "source": [
    "nn_params = [w1, b1, w2, b2, w3, b3]\n",
    "nn_params = [Float64.(param) for param in nn_params]\n",
    "params_vec = vcat([vec(i) for i in nn_params]...);\n",
    "shapes = [size(param) for param in nn_params]\n",
    "idxs = vcat(0, cumsum(prod.(shapes)));\n",
    "function extract(params_vec)\n",
    "    return [reshape(params_vec[idxs[i]+1:idxs[i+1]], shapes[i]) for i in 1:6]\n",
    "end"
   ]
  },
  {
   "cell_type": "code",
   "execution_count": null,
   "id": "a689f5ea-d668-4d91-ac11-382a032ad3ae",
   "metadata": {},
   "outputs": [],
   "source": [
    "function model_manual(positions)\n",
    "    return exp.(w3 * (w2 * (w1 * positions + b1) + b2) + b3)[1]\n",
    "end"
   ]
  },
  {
   "cell_type": "code",
   "execution_count": null,
   "id": "1d3b9a4d-9491-41f1-85e0-69a78b35002c",
   "metadata": {},
   "outputs": [],
   "source": [
    "@time model_manual(positions)"
   ]
  },
  {
   "cell_type": "code",
   "execution_count": null,
   "id": "6287582b-ddfa-472d-b2ff-1341e1158ab8",
   "metadata": {},
   "outputs": [],
   "source": [
    "function model_manual(positions, params_vec)\n",
    "    w1, b1, w2, b2, w3, b3 = extract(params_vec)\n",
    "    return exp.(w3 * (w2 * (w1 * positions + b1) + b2) + b3)[1]\n",
    "end"
   ]
  },
  {
   "cell_type": "code",
   "execution_count": null,
   "id": "23db8ee7-2dca-45f9-a2b6-225db0a5dabd",
   "metadata": {},
   "outputs": [],
   "source": [
    "@time model_manual(positions, params_vec)"
   ]
  },
  {
   "cell_type": "markdown",
   "id": "a0f30b29-3f63-4d7b-80f9-8870b1e7f2d7",
   "metadata": {},
   "source": [
    "## Gradient of manual model"
   ]
  },
  {
   "cell_type": "code",
   "execution_count": null,
   "id": "27c35076-78b0-4fac-88b7-022692e2635d",
   "metadata": {},
   "outputs": [],
   "source": [
    "config = ReverseDiff.GradientConfig(params_vec)\n",
    "tape = ReverseDiff.GradientTape(params_vec -> model_manual(positions, params_vec), params_vec, config)\n",
    "tape = ReverseDiff.compile(tape)\n",
    "result = zero(params_vec);"
   ]
  },
  {
   "cell_type": "code",
   "execution_count": null,
   "id": "badb37b1-706a-4c25-93c0-1b6e7d8cb5a0",
   "metadata": {},
   "outputs": [],
   "source": [
    "function grad_manual(result, tape, params_vec)\n",
    "    result = ReverseDiff.gradient!(result, tape, params_vec)\n",
    "    return result\n",
    "end;"
   ]
  },
  {
   "cell_type": "code",
   "execution_count": null,
   "id": "366f3eba-3dfa-413d-abc4-3a89a970dffc",
   "metadata": {},
   "outputs": [],
   "source": [
    "@btime grad_manual_res = grad_manual(result, tape, params_vec);"
   ]
  },
  {
   "cell_type": "code",
   "execution_count": null,
   "id": "33ac4d00-4984-4365-a434-523f83096694",
   "metadata": {},
   "outputs": [],
   "source": [
    "extract(grad_manual_res)[1]"
   ]
  },
  {
   "cell_type": "code",
   "execution_count": null,
   "id": "71fd9437-30ef-4451-91b0-8f7a7c830f37",
   "metadata": {},
   "outputs": [],
   "source": [
    "positions = rand(rng, Float64, 5)"
   ]
  },
  {
   "cell_type": "markdown",
   "id": "68f1ec09-0734-45d5-ab03-a2376c1e09d4",
   "metadata": {},
   "source": [
    "## Hessian"
   ]
  },
  {
   "cell_type": "code",
   "execution_count": null,
   "id": "8aa0ab91-4755-4dbc-8b21-70e3e0d9bdd0",
   "metadata": {},
   "outputs": [],
   "source": [
    "const CACHE = Dict{DataType, Any}()\n",
    "function inner(y, positions::Array{T}) where {T<:Real}\n",
    "    if !haskey(CACHE, T)\n",
    "        config = ReverseDiff.GradientConfig(positions)\n",
    "        tape = ReverseDiff.compile(ReverseDiff.GradientTape(model_manual, positions, config))\n",
    "        CACHE[T] = tape\n",
    "    end\n",
    "    tape = CACHE[T]\n",
    "    return ReverseDiff.gradient!(y, tape, positions)\n",
    "end\n",
    "\n",
    "function kineticMX(positions, inner, config, result, y)\n",
    "    ForwardDiff.jacobian!(result, inner, y, positions, config)\n",
    "    return result #/ SimpleG(positions)\n",
    "end"
   ]
  },
  {
   "cell_type": "code",
   "execution_count": null,
   "id": "6fb8f0d6-44cb-4a24-a57e-aa0606568a7e",
   "metadata": {},
   "outputs": [],
   "source": [
    "y = similar(positions)\n",
    "config = ForwardDiff.JacobianConfig(inner, y, positions);\n",
    "result = zeros(length(positions), length(positions));"
   ]
  },
  {
   "cell_type": "code",
   "execution_count": null,
   "id": "577a7f6f-af09-4b2a-8d4a-95636d4133d2",
   "metadata": {},
   "outputs": [],
   "source": [
    "@btime kineticMX(positions, inner, config, result, y)"
   ]
  }
 ],
 "metadata": {
  "kernelspec": {
   "display_name": "Julia (8 threads) 1.7.2",
   "language": "julia",
   "name": "julia-(8-threads)-1.7"
  },
  "language_info": {
   "file_extension": ".jl",
   "mimetype": "application/julia",
   "name": "julia",
   "version": "1.7.2"
  }
 },
 "nbformat": 4,
 "nbformat_minor": 5
}
