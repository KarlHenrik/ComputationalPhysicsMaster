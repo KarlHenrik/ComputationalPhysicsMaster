{
 "cells": [
  {
   "cell_type": "code",
   "execution_count": 1,
   "id": "5ec9e827-e4d9-4eef-ad6a-9ce85cacf812",
   "metadata": {},
   "outputs": [
    {
     "data": {
      "text/plain": [
       "gradient (generic function with 1 method)"
      ]
     },
     "execution_count": 1,
     "metadata": {},
     "output_type": "execute_result"
    }
   ],
   "source": [
    "import Random\n",
    "rng = Random.MersenneTwister();\n",
    "\n",
    "import ForwardDiff as fd\n",
    "import ReverseDiff as rd\n",
    "\n",
    "import LinearAlgebra as la\n",
    "\n",
    "using BenchmarkTools: @btime\n",
    "\n",
    "include(\"NeuralNetwork/layer.jl\")\n",
    "include(\"NeuralNetwork/neuralnetwork.jl\")"
   ]
  },
  {
   "cell_type": "code",
   "execution_count": 2,
   "id": "65c20731-a7f8-4fb5-9ba7-cd1c5107ec66",
   "metadata": {},
   "outputs": [
    {
     "data": {
      "text/plain": [
       "5-element Vector{Float64}:\n",
       " 0.6773651958681768\n",
       " 0.007637793861368758\n",
       " 0.31365723280935986\n",
       " 0.6852347488253843\n",
       " 0.7236834846356663"
      ]
     },
     "execution_count": 2,
     "metadata": {},
     "output_type": "execute_result"
    }
   ],
   "source": [
    "positions = rand(rng, Float64, 5)"
   ]
  },
  {
   "cell_type": "markdown",
   "id": "116e83b5-647b-427e-a613-024a845cb354",
   "metadata": {},
   "source": [
    "## Neural Network"
   ]
  },
  {
   "cell_type": "code",
   "execution_count": 3,
   "id": "dd87fbb0-4898-400f-ae7d-5115542cedac",
   "metadata": {},
   "outputs": [
    {
     "name": "stdout",
     "output_type": "stream",
     "text": [
      "  3.212455 seconds (8.43 M allocations: 469.581 MiB, 3.39% gc time, 99.83% compilation time)\n"
     ]
    }
   ],
   "source": [
    "@time nn = NeuralNetwork([Dense((5, 5), rng),\n",
    "    Dense((3, 5), rng),\n",
    "    Dense((1, 3), rng),\n",
    "    Exp(),\n",
    "    DeArray()], positions);"
   ]
  },
  {
   "cell_type": "code",
   "execution_count": 31,
   "id": "72a8ba2d-d4ad-437a-8c1b-f1dc688e72ac",
   "metadata": {},
   "outputs": [
    {
     "name": "stdout",
     "output_type": "stream",
     "text": [
      "  0.001135 seconds (9.89 k allocations: 775.750 KiB)\n"
     ]
    }
   ],
   "source": [
    "@time nn = NeuralNetwork([\n",
    "    Dense((50, 5), rng), Sigmoid(),\n",
    "    Dense((30, 50), rng), Sigmoid(),\n",
    "    Dense((30, 30), rng), Sigmoid(),\n",
    "    Dense((30, 30), rng), Sigmoid(),\n",
    "    Dense((30, 30), rng), Sigmoid(),\n",
    "    Dense((1, 30), rng), Sigmoid(),\n",
    "        DeArray()\n",
    "        ], positions);"
   ]
  },
  {
   "cell_type": "code",
   "execution_count": 35,
   "id": "2b2c6903-2b93-4dd4-a048-fb97d10bdc0f",
   "metadata": {},
   "outputs": [
    {
     "name": "stdout",
     "output_type": "stream",
     "text": [
      "  3.788 μs (25 allocations: 6.95 KiB)\n"
     ]
    }
   ],
   "source": [
    "@btime model(positions, nn);"
   ]
  },
  {
   "cell_type": "code",
   "execution_count": 34,
   "id": "2147972d-0ce9-4c59-a810-4403cb53b7dc",
   "metadata": {},
   "outputs": [
    {
     "name": "stdout",
     "output_type": "stream",
     "text": [
      "  56.400 μs (22 allocations: 78.05 KiB)\n"
     ]
    }
   ],
   "source": [
    "@btime gradient(positions, nn);"
   ]
  },
  {
   "cell_type": "code",
   "execution_count": 33,
   "id": "c5a83663-c666-4ad2-9269-0a5123dfb716",
   "metadata": {},
   "outputs": [
    {
     "name": "stdout",
     "output_type": "stream",
     "text": [
      "  0.000222 seconds (5.66 k allocations: 419.734 KiB)\n"
     ]
    }
   ],
   "source": [
    "@time kinetic(positions, nn);"
   ]
  },
  {
   "cell_type": "code",
   "execution_count": 11,
   "id": "b1e5dccf-b96f-41d5-87ed-0d4796d261d6",
   "metadata": {},
   "outputs": [
    {
     "name": "stdout",
     "output_type": "stream",
     "text": [
      "  0.000052 seconds (80 allocations: 47.000 KiB)\n"
     ]
    }
   ],
   "source": [
    "@time model_flat(positions, nn, nn.params_flat);"
   ]
  },
  {
   "cell_type": "code",
   "execution_count": null,
   "id": "a3ebf639-dfc6-4c16-aa7f-b4a940a60486",
   "metadata": {},
   "outputs": [],
   "source": []
  },
  {
   "cell_type": "code",
   "execution_count": null,
   "id": "b0151df9-2f01-445f-b7af-a9c57427c41a",
   "metadata": {},
   "outputs": [],
   "source": []
  },
  {
   "cell_type": "code",
   "execution_count": null,
   "id": "b7d4e2d6-1e41-4012-8554-4ba3d0236264",
   "metadata": {},
   "outputs": [],
   "source": []
  }
 ],
 "metadata": {
  "kernelspec": {
   "display_name": "Julia (12 threads) 1.7.2",
   "language": "julia",
   "name": "julia-(12-threads)-1.7"
  },
  "language_info": {
   "file_extension": ".jl",
   "mimetype": "application/julia",
   "name": "julia",
   "version": "1.7.2"
  }
 },
 "nbformat": 4,
 "nbformat_minor": 5
}
