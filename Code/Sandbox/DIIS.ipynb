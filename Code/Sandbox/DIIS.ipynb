{
 "cells": [
  {
   "cell_type": "code",
   "execution_count": 2,
   "id": "ee70637a-017d-4f84-84eb-3f548e2bb1db",
   "metadata": {},
   "outputs": [],
   "source": [
    "class AlphaMixer:\n",
    "    \"\"\"Basic mixer class\n",
    "    Parameters\n",
    "    ----------\n",
    "    theta : float\n",
    "        Mixing parameter. Must be in [0, 1]\n",
    "    np : module\n",
    "        Matrix library to be used, e.g., numpy, cupy, etc.\n",
    "    \"\"\"\n",
    "\n",
    "    def __init__(self, theta=0.1, np=None):\n",
    "        assert 0 <= theta <= 1, \"Mixing parameter theta must be in [0, 1]\"\n",
    "\n",
    "        self.theta = theta\n",
    "\n",
    "    def compute_new_vector(self, trial_vector, direction_vector, error_vector):\n",
    "        \"\"\"Compute new trial vector for mixing with full right hand side.\n",
    "        See T. Helgaker's book \"Molecular Electron-Structure Theory\" equations\n",
    "        (13.4.3), (13.4.6) and (13.4.10).\n",
    "        Parameters\n",
    "        ----------\n",
    "        trial_vector : np.array\n",
    "            Inital vector for mixing.\n",
    "        direction_vector : np.array\n",
    "            Vector to be addet to trial_vector.\n",
    "        error_vector : np.array\n",
    "            Not used in alpha mixer, for DIIS mixer.\n",
    "        Returns\n",
    "        -------\n",
    "        np.array\n",
    "            New mixed vector.\n",
    "        \"\"\"\n",
    "        new_trial = trial_vector + direction_vector\n",
    "\n",
    "        return (1 - self.theta) * new_trial + self.theta * trial_vector\n",
    "\n",
    "    def clear_vectors(self):\n",
    "        pass"
   ]
  },
  {
   "cell_type": "code",
   "execution_count": 90,
   "id": "46495796-567d-4c92-a1dc-15f0c8069f9f",
   "metadata": {},
   "outputs": [],
   "source": [
    "class DIIS(AlphaMixer):\n",
    "    \"\"\"Direct Inversion in Iterative Subspace (DIIS)\n",
    "    General vector mixing class to accelerate quasi-Newton\n",
    "    using direct inversion of iterative space.\n",
    "    Code inherited from Simen Kvaal.\n",
    "    Parameters\n",
    "    ----------\n",
    "    np : module\n",
    "        Matrix library to be used, e.g., numpy, cupy, etc.\n",
    "    num_vecs : int\n",
    "        Number of vectors to keep in memory. Default is ``10``.\n",
    "    \"\"\"\n",
    "\n",
    "    def __init__(self, np, num_vecs=10):\n",
    "        self.np = np\n",
    "        self.num_vecs = num_vecs\n",
    "        self.stored = 0\n",
    "\n",
    "        self.trial_vectors = [0] * self.num_vecs\n",
    "        self.direction_vectors = [0] * self.num_vecs\n",
    "        self.error_vectors = [0] * self.num_vecs\n",
    "\n",
    "    def compute_new_vector(self, trial_vector, direction_vector, error_vector):\n",
    "        \"\"\"DIIS mixing scheme\n",
    "        Parameters\n",
    "        ----------\n",
    "        trial_vector : np.array\n",
    "            Inital vector for mixing.\n",
    "        direction_vector : np.array\n",
    "            Vector to be addet to trial_vector.\n",
    "        error_vector : np.array\n",
    "        Returns\n",
    "        -------\n",
    "        np.array\n",
    "            New mixed vector\n",
    "        \"\"\"\n",
    "\n",
    "        np = self.np\n",
    "\n",
    "        new_pos = self.stored % self.num_vecs\n",
    "        self.stored += 1\n",
    "\n",
    "        self.trial_vectors[new_pos] = trial_vector.ravel()\n",
    "        self.direction_vectors[new_pos] = direction_vector.ravel()\n",
    "        self.error_vectors[new_pos] = error_vector.ravel()\n",
    "\n",
    "        b_dim = self.stored if self.stored < self.num_vecs else self.num_vecs\n",
    "\n",
    "        b_vec = np.zeros(b_dim + 1, dtype=trial_vector.dtype)\n",
    "        b_mat = np.zeros((b_dim + 1, b_dim + 1), dtype=trial_vector.dtype)\n",
    "\n",
    "        for i in range(b_dim):\n",
    "            for j in range(i + 1):\n",
    "                b_mat[i, j] = np.dot(\n",
    "                    self.error_vectors[i], self.error_vectors[j]\n",
    "                )\n",
    "\n",
    "                if i != j:\n",
    "                    b_mat[j, i] = b_mat[i, j]\n",
    "\n",
    "            b_mat[i, b_dim] = -1.0\n",
    "            b_mat[b_dim, i] = -1.0\n",
    "\n",
    "        b_vec[b_dim] = -1.0\n",
    "        pre_condition = np.zeros_like(b_vec)\n",
    "        \n",
    "        if np.any(np.diag(b_mat)[:-1] <= 0):\n",
    "            pre_condition[:-1] = 1\n",
    "        else:\n",
    "            pre_condition[:-1] += np.power(np.diag(b_mat)[:-1], -0.5)\n",
    "\n",
    "        pre_condition[b_dim] = 1\n",
    "\n",
    "        for i in range(b_dim + 1):\n",
    "            for j in range(b_dim + 1):\n",
    "                b_mat[i, j] *= pre_condition[i] * pre_condition[j]\n",
    "        \n",
    "        weights = -np.linalg.pinv(b_mat)[b_dim]\n",
    "        weights[:-1] *= pre_condition[:-1]\n",
    "\n",
    "        new_trial_vector = np.zeros_like(self.trial_vectors[new_pos])\n",
    "\n",
    "        for i in range(b_dim):\n",
    "            new_trial_vector += weights[i] * (\n",
    "                self.trial_vectors[i] + self.direction_vectors[i]\n",
    "            )\n",
    "\n",
    "        return new_trial_vector.reshape(trial_vector.shape)\n",
    "\n",
    "    def clear_vectors(self):\n",
    "        \"\"\"\n",
    "        Delete all stored vectors and start fresh.\n",
    "        \"\"\"\n",
    "\n",
    "        self.trial_vectors = [0] * self.num_vecs\n",
    "        self.direction_vectors = [0] * self.num_vecs\n",
    "        self.error_vectors = [0] * self.num_vecs\n",
    "\n",
    "        self.stored = 0"
   ]
  },
  {
   "cell_type": "code",
   "execution_count": 78,
   "id": "26e6ab5e-5aef-46dd-b531-601e19677216",
   "metadata": {},
   "outputs": [],
   "source": [
    "import numpy as np"
   ]
  },
  {
   "cell_type": "code",
   "execution_count": 124,
   "id": "74e26f8d-44ad-4d6f-8070-50955621f382",
   "metadata": {},
   "outputs": [],
   "source": [
    "mixer = DIIS(np, num_vecs = 3)\n",
    "n = 2"
   ]
  },
  {
   "cell_type": "code",
   "execution_count": 130,
   "id": "472dd523-3f7b-41e9-8787-0eed34e48d6c",
   "metadata": {},
   "outputs": [],
   "source": [
    "trial_vector = (np.array(range(n**4), float)+1).reshape(n, n, n, n)\n",
    "direction_vector = (np.array(range(n**4), float)+2).reshape(n, n, n, n)\n",
    "error_vector = (np.array(range(n**4), float)+3).reshape(n, n, n, n)"
   ]
  },
  {
   "cell_type": "code",
   "execution_count": 127,
   "id": "a3300d8a-8ca7-4a5d-979d-ebf3be98e668",
   "metadata": {},
   "outputs": [],
   "source": [
    "trial_vector = (np.array( [2 * i + 5 for i in range(n**4)] , float)).reshape(n, n, n, n)\n",
    "direction_vector = (np.array( [i - 2 for i in range(n**4)] , float)).reshape(n, n, n, n)\n",
    "error_vector = (np.array( [i for i in range(n**4)] , float)).reshape(n, n, n, n)"
   ]
  },
  {
   "cell_type": "code",
   "execution_count": 133,
   "id": "eef20162-442e-42ab-b9f8-63b343326387",
   "metadata": {},
   "outputs": [
    {
     "data": {
      "text/plain": [
       "array([[[[ 3.,  5.],\n",
       "         [ 7.,  9.]],\n",
       "\n",
       "        [[11., 13.],\n",
       "         [15., 17.]]],\n",
       "\n",
       "\n",
       "       [[[19., 21.],\n",
       "         [23., 25.]],\n",
       "\n",
       "        [[27., 29.],\n",
       "         [31., 33.]]]])"
      ]
     },
     "execution_count": 133,
     "metadata": {},
     "output_type": "execute_result"
    }
   ],
   "source": [
    "mixer.compute_new_vector(trial_vector, direction_vector, error_vector)"
   ]
  },
  {
   "cell_type": "code",
   "execution_count": 134,
   "id": "dd3b76a2-4ae5-4efa-9ffd-3ae6dcc2ca35",
   "metadata": {},
   "outputs": [
    {
     "name": "stdout",
     "output_type": "stream",
     "text": [
      "1 2 3\n",
      "2 3 4\n",
      "3 4 5\n"
     ]
    }
   ],
   "source": [
    "a = [1, 2, 3]\n",
    "b = [2, 3, 4]\n",
    "c = [3, 4, 5]\n",
    "\n",
    "for i, j, k in zip(a, b, c):\n",
    "    print(i,j,k)"
   ]
  },
  {
   "cell_type": "code",
   "execution_count": null,
   "id": "5372fddd-8f10-4de3-8610-2d67235ddfd6",
   "metadata": {},
   "outputs": [],
   "source": []
  }
 ],
 "metadata": {
  "kernelspec": {
   "display_name": "Python 3 (ipykernel)",
   "language": "python",
   "name": "python3"
  },
  "language_info": {
   "codemirror_mode": {
    "name": "ipython",
    "version": 3
   },
   "file_extension": ".py",
   "mimetype": "text/x-python",
   "name": "python",
   "nbconvert_exporter": "python",
   "pygments_lexer": "ipython3",
   "version": "3.9.7"
  }
 },
 "nbformat": 4,
 "nbformat_minor": 5
}
