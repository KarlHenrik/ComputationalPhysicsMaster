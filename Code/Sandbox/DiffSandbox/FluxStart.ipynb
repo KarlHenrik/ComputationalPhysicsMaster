{
 "cells": [
  {
   "cell_type": "code",
   "execution_count": 5,
   "id": "69388ed2-fb5a-4ec9-afa3-68ad074e5599",
   "metadata": {},
   "outputs": [],
   "source": [
    "import LinearAlgebra as la\n",
    "\n",
    "import Random\n",
    "rng = Random.MersenneTwister();\n",
    "\n",
    "import ForwardDiff\n",
    "import ReverseDiff"
   ]
  },
  {
   "cell_type": "code",
   "execution_count": 21,
   "id": "c41e07e1-01bf-4e79-b9e3-84593b4a8315",
   "metadata": {},
   "outputs": [
    {
     "data": {
      "text/plain": [
       "5-element Vector{Float64}:\n",
       " 0.8973642895106613\n",
       " 0.10633032978951373\n",
       " 0.43093736976027763\n",
       " 0.7642183952862915\n",
       " 0.6446909943794052"
      ]
     },
     "execution_count": 21,
     "metadata": {},
     "output_type": "execute_result"
    }
   ],
   "source": [
    "positions = rand(rng, 5)"
   ]
  },
  {
   "cell_type": "code",
   "execution_count": 29,
   "id": "6c006d6f-142d-468b-b36f-285344d190f5",
   "metadata": {},
   "outputs": [
    {
     "data": {
      "text/plain": [
       "model (generic function with 1 method)"
      ]
     },
     "execution_count": 29,
     "metadata": {},
     "output_type": "execute_result"
    }
   ],
   "source": [
    "function model(positions)\n",
    "    return sum(positions.^5) + 2\n",
    "end"
   ]
  },
  {
   "cell_type": "markdown",
   "id": "6c7e93a1-ef2d-4c9d-aba1-3a1ed0d14b91",
   "metadata": {},
   "source": [
    "## Hessian"
   ]
  },
  {
   "cell_type": "code",
   "execution_count": 30,
   "id": "9a1f488a-90ba-4a19-942d-00d6b2846d98",
   "metadata": {},
   "outputs": [
    {
     "name": "stderr",
     "output_type": "stream",
     "text": [
      "WARNING: redefinition of constant CACHE. This may fail, cause incorrect answers, or produce other errors.\n"
     ]
    },
    {
     "data": {
      "text/plain": [
       "Dict{DataType, Any}()"
      ]
     },
     "execution_count": 30,
     "metadata": {},
     "output_type": "execute_result"
    }
   ],
   "source": [
    "const CACHE = Dict{DataType, Any}()"
   ]
  },
  {
   "cell_type": "code",
   "execution_count": 31,
   "id": "887b624b-0f8e-4c80-a282-9c1c35257d83",
   "metadata": {},
   "outputs": [
    {
     "data": {
      "text/plain": [
       "Dict{DataType, Any}()"
      ]
     },
     "execution_count": 31,
     "metadata": {},
     "output_type": "execute_result"
    }
   ],
   "source": [
    "CACHE"
   ]
  },
  {
   "cell_type": "code",
   "execution_count": 60,
   "id": "1d47789a-38e2-483d-a9ec-8cc1eea98cd9",
   "metadata": {},
   "outputs": [
    {
     "data": {
      "text/plain": [
       "kineticMX (generic function with 1 method)"
      ]
     },
     "execution_count": 60,
     "metadata": {},
     "output_type": "execute_result"
    }
   ],
   "source": [
    "function inner(y, positions::Array{T}) where {T<:Real}\n",
    "    if !haskey(CACHE, T)\n",
    "        config = ReverseDiff.GradientConfig(positions)\n",
    "        tape = ReverseDiff.compile(ReverseDiff.GradientTape(model, positions, config))\n",
    "        CACHE[T] = tape\n",
    "    end\n",
    "    tape = CACHE[T]\n",
    "    return ReverseDiff.gradient!(y, tape, positions)\n",
    "end\n",
    "\n",
    "function kineticMX(positions, inner, config, result, y)\n",
    "    ForwardDiff.jacobian!(result, inner, y, positions, config)\n",
    "    return result #/ SimpleG(positions)\n",
    "end"
   ]
  },
  {
   "cell_type": "code",
   "execution_count": 61,
   "id": "4f8e287c-6b9c-48fb-a7dc-d495599ba967",
   "metadata": {},
   "outputs": [],
   "source": [
    "y = similar(x_train)\n",
    "config = ForwardDiff.JacobianConfig(inner, y, x_train);\n",
    "result = zeros(5, 5);"
   ]
  },
  {
   "cell_type": "code",
   "execution_count": 64,
   "id": "84b1a559-ad0b-44c4-b84e-0aed154a78cd",
   "metadata": {},
   "outputs": [
    {
     "name": "stdout",
     "output_type": "stream",
     "text": [
      "  0.000014 seconds (1 allocation: 224 bytes)\n"
     ]
    },
    {
     "data": {
      "text/plain": [
       "5×5 Matrix{Float64}:\n",
       " 7.5813  0.0      0.0        0.0   0.0\n",
       " 0.0     1.51248  0.0        0.0   0.0\n",
       " 0.0     0.0      0.548285   0.0   0.0\n",
       " 0.0     0.0      0.0       15.05  0.0\n",
       " 0.0     0.0      0.0        0.0   5.32321"
      ]
     },
     "execution_count": 64,
     "metadata": {},
     "output_type": "execute_result"
    }
   ],
   "source": [
    "@time kineticMX(x_train, inner, config, result, y)"
   ]
  },
  {
   "cell_type": "markdown",
   "id": "382083b2-9427-437d-8006-aa5e564b1164",
   "metadata": {
    "tags": []
   },
   "source": [
    "## Flux model"
   ]
  },
  {
   "cell_type": "code",
   "execution_count": null,
   "id": "f4d15449-64bb-49fb-b411-3981f9e01685",
   "metadata": {},
   "outputs": [],
   "source": [
    "model_flux = Flux.Chain(Flux.Dense(5,5),\n",
    "               Flux.Dense(5,3),\n",
    "               Flux.Dense(3,1),\n",
    "               x -> exp.(x)[1])"
   ]
  },
  {
   "cell_type": "code",
   "execution_count": null,
   "id": "135a451b-6fd7-46d9-aaf0-ed94d341992e",
   "metadata": {},
   "outputs": [],
   "source": [
    "@time model_flux(positions)"
   ]
  },
  {
   "cell_type": "code",
   "execution_count": null,
   "id": "61730670-2ef7-44e2-b3cc-d5f29ae9ebb2",
   "metadata": {},
   "outputs": [],
   "source": []
  },
  {
   "cell_type": "markdown",
   "id": "e52bd289-0982-498c-af45-c54c238b1c47",
   "metadata": {},
   "source": [
    "## Gradient of flux model"
   ]
  },
  {
   "cell_type": "code",
   "execution_count": null,
   "id": "84bb3da1-9438-4314-ab6b-1cd1ae1c2152",
   "metadata": {},
   "outputs": [],
   "source": [
    "ps = Flux.params(model_flux);"
   ]
  },
  {
   "cell_type": "code",
   "execution_count": null,
   "id": "c9751608-1450-4f31-8f3b-6aaceb6dec52",
   "metadata": {},
   "outputs": [],
   "source": [
    "function grad_flux(model, positions)\n",
    "    gs = Flux.gradient(() -> model(positions), ps)\n",
    "    return gs\n",
    "end"
   ]
  },
  {
   "cell_type": "code",
   "execution_count": null,
   "id": "faf9cbd3-b777-43fc-bfc8-34d47284265b",
   "metadata": {},
   "outputs": [],
   "source": [
    "@time grad_flux_res = grad_flux(model_flux, positions)"
   ]
  },
  {
   "cell_type": "code",
   "execution_count": null,
   "id": "7735b50c-effa-4869-ae73-54d8d341eec6",
   "metadata": {},
   "outputs": [],
   "source": [
    "grad_flux_res[model_flux[1].W]"
   ]
  }
 ],
 "metadata": {
  "kernelspec": {
   "display_name": "Julia 1.6.2",
   "language": "julia",
   "name": "julia-1.6"
  },
  "language_info": {
   "file_extension": ".jl",
   "mimetype": "application/julia",
   "name": "julia",
   "version": "1.6.2"
  }
 },
 "nbformat": 4,
 "nbformat_minor": 5
}
