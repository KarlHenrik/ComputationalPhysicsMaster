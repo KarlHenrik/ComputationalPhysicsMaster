{
 "cells": [
  {
   "cell_type": "code",
   "execution_count": 1,
   "id": "50660d8b-35dc-434f-8df8-4167ef2e35c8",
   "metadata": {},
   "outputs": [],
   "source": [
    "mutable struct DIIS\n",
    "    iter::Int\n",
    "    \n",
    "    max_vecs::Int\n",
    "    \n",
    "    trial_vecs::Vector{Vector{Float64}}\n",
    "    direction_vecs::Vector{Vector{Float64}}\n",
    "    error_vecs::Vector{Vector{Float64}}\n",
    "end\n",
    "\n",
    "function DIIS(shape)\n",
    "    num_vecs = 3\n",
    "    vec_length = prod(shape)\n",
    "    trial_vecs = [zeros(vec_length) for i in 1:num_vecs]\n",
    "    direction_vecs = [zeros(vec_length) for i in 1:num_vecs]\n",
    "    error_vecs = [zeros(vec_length) for i in 1:num_vecs]\n",
    "    \n",
    "    return DIIS(0, num_vecs, trial_vecs, direction_vecs, error_vecs)\n",
    "end;"
   ]
  },
  {
   "cell_type": "code",
   "execution_count": 315,
   "id": "3911330b-806c-436d-9a57-0a3aedc69bc6",
   "metadata": {},
   "outputs": [
    {
     "data": {
      "text/plain": [
       "compute_new_vector (generic function with 1 method)"
      ]
     },
     "execution_count": 315,
     "metadata": {},
     "output_type": "execute_result"
    }
   ],
   "source": [
    "function compute_new_vector(mixer::DIIS, trial, direction, error)\n",
    "    (; iter, max_vecs, trial_vecs, direction_vecs, error_vecs) = mixer\n",
    "    \n",
    "    index = iter % max_vecs + 1\n",
    "    iter += 1\n",
    "    mixer.iter = iter\n",
    "    \n",
    "    error_vecs[index] .= vec(error)\n",
    "    trial_vecs[index] .= vec(trial)\n",
    "    direction_vecs[index] .= vec(direction)\n",
    "    \n",
    "    # Setting up the equations\n",
    "    B_dim = min(iter, max_vecs) + 1\n",
    "    B = zeros(B_dim, B_dim)\n",
    "    for i in 1:B_dim-1\n",
    "        for j in 1:i\n",
    "            B[i, j] = la.dot(error_vecs[i], error_vecs[j])\n",
    "            if i != j\n",
    "                B[j, i] = B[i, j]\n",
    "            end\n",
    "        end\n",
    "        B[i, B_dim] = -1\n",
    "        B[B_dim, i] = -1\n",
    "    end\n",
    "    \n",
    "    pre_condition = zeros(B_dim)\n",
    "    if any(i <= 0 for i in la.diag(B)[1:end-1])\n",
    "        pre_condition[1:end-1] .= 1\n",
    "    else\n",
    "        pre_condition[1:end-1] .= 1 ./ sqrt.(la.diag(B)[1:end-1])\n",
    "    end\n",
    "    pre_condition[end] = 1\n",
    "    \n",
    "    for i in 1:B_dim\n",
    "        for j in 1:B_dim\n",
    "            B[i, j] *= pre_condition[i] * pre_condition[j]\n",
    "        end\n",
    "    end\n",
    "    # Solving the equations\n",
    "    weights = -la.pinv(B)[end, :] # final row\n",
    "    weights .*= pre_condition\n",
    "    \n",
    "    # Using solution to get new vector\n",
    "    new_trial = zero(trial_vecs[1])\n",
    "    for i in 1:B_dim-1\n",
    "        new_trial .+= weights[i] .* (trial_vecs[i] .+ direction_vecs[i])\n",
    "    end\n",
    "    \n",
    "    return reshape(new_trial, size(trial))\n",
    "end"
   ]
  },
  {
   "cell_type": "code",
   "execution_count": 316,
   "id": "19788b21-5a92-475e-aadf-e981672664ba",
   "metadata": {},
   "outputs": [],
   "source": [
    "import LinearAlgebra as la"
   ]
  },
  {
   "cell_type": "code",
   "execution_count": 317,
   "id": "f65f6beb-db83-4be9-a977-26c8fd9fd54d",
   "metadata": {},
   "outputs": [],
   "source": [
    "n = 2\n",
    "mixer = DIIS((n, n, n, n));"
   ]
  },
  {
   "cell_type": "code",
   "execution_count": 323,
   "id": "38ed7b17-1348-44c3-9761-4c57e75d3a0b",
   "metadata": {},
   "outputs": [],
   "source": [
    "trial = (reshape([i + 1 for i in 0:n^4-1], (n, n, n, n)))\n",
    "direction = (reshape([i + 2 for i in 0:n^4-1], (n, n, n, n)))\n",
    "error = (reshape([i + 3 for i in 0:n^4-1], (n, n, n, n)));\n",
    "\n",
    "trial = permutedims(trial, (2, 1, 3, 4))\n",
    "direction = permutedims(direction, (2, 1, 3, 4))\n",
    "error = permutedims(error, (2, 1, 3, 4));"
   ]
  },
  {
   "cell_type": "code",
   "execution_count": 320,
   "id": "3cfb73a2-8b9e-45eb-b69c-6ed0034d8dde",
   "metadata": {},
   "outputs": [],
   "source": [
    "trial = (reshape([2i + 5 for i in 0:n^4-1], (n, n, n, n)))\n",
    "direction = (reshape([i - 2 for i in 0:n^4-1], (n, n, n, n)))\n",
    "error = (reshape([i for i in 0:n^4-1], (n, n, n, n)));\n",
    "\n",
    "trial = permutedims(trial, (2, 1, 3, 4))\n",
    "direction = permutedims(direction, (2, 1, 3, 4))\n",
    "error = permutedims(error, (2, 1, 3, 4));"
   ]
  },
  {
   "cell_type": "code",
   "execution_count": 326,
   "id": "6a935ca1-d8bd-4f69-b7c5-e8ac77220f72",
   "metadata": {},
   "outputs": [
    {
     "name": "stdout",
     "output_type": "stream",
     "text": [
      "4"
     ]
    },
    {
     "data": {
      "text/plain": [
       "2×2×2×2 Array{Float64, 4}:\n",
       "[:, :, 1, 1] =\n",
       " 3.0  5.0\n",
       " 7.0  9.0\n",
       "\n",
       "[:, :, 2, 1] =\n",
       " 11.0  13.0\n",
       " 15.0  17.0\n",
       "\n",
       "[:, :, 1, 2] =\n",
       " 19.0  21.0\n",
       " 23.0  25.0\n",
       "\n",
       "[:, :, 2, 2] =\n",
       " 27.0  29.0\n",
       " 31.0  33.0"
      ]
     },
     "execution_count": 326,
     "metadata": {},
     "output_type": "execute_result"
    }
   ],
   "source": [
    "compute_new_vector(mixer, trial, direction, error)"
   ]
  },
  {
   "cell_type": "code",
   "execution_count": 332,
   "id": "8b12f66f-2da6-4aa2-94e5-2c45ba8e373c",
   "metadata": {},
   "outputs": [
    {
     "ename": "LoadError",
     "evalue": "syntax: optional positional arguments must occur at end around In[332]:1",
     "output_type": "error",
     "traceback": [
      "syntax: optional positional arguments must occur at end around In[332]:1",
      "",
      "Stacktrace:",
      " [1] top-level scope",
      "   @ In[332]:1",
      " [2] eval",
      "   @ .\\boot.jl:373 [inlined]",
      " [3] include_string(mapexpr::typeof(REPL.softscope), mod::Module, code::String, filename::String)",
      "   @ Base .\\loading.jl:1196"
     ]
    }
   ],
   "source": [
    "function testys(a, b)\n",
    "    print(a+b)\n",
    "end"
   ]
  },
  {
   "cell_type": "code",
   "execution_count": 331,
   "id": "328b7660-c90e-4a2e-aaae-f0096f5ec851",
   "metadata": {},
   "outputs": [
    {
     "name": "stdout",
     "output_type": "stream",
     "text": [
      "12"
     ]
    }
   ],
   "source": [
    "testy(4, 8)"
   ]
  },
  {
   "cell_type": "code",
   "execution_count": null,
   "id": "e06a9ecc-dba5-43c7-a71d-2f1c64f463ec",
   "metadata": {},
   "outputs": [],
   "source": []
  }
 ],
 "metadata": {
  "kernelspec": {
   "display_name": "Julia (8 threads) 1.7.2",
   "language": "julia",
   "name": "julia-(8-threads)-1.7"
  },
  "language_info": {
   "file_extension": ".jl",
   "mimetype": "application/julia",
   "name": "julia",
   "version": "1.7.2"
  }
 },
 "nbformat": 4,
 "nbformat_minor": 5
}
