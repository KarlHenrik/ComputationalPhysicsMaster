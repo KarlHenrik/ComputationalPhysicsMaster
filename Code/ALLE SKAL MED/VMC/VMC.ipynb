{
 "cells": [
  {
   "cell_type": "code",
   "execution_count": 1,
   "id": "730d1ef9-d54d-4fab-b5c5-c51db0187821",
   "metadata": {
    "tags": []
   },
   "outputs": [],
   "source": [
    "using BenchmarkTools: @btime\n",
    "import LinearAlgebra as la"
   ]
  },
  {
   "cell_type": "code",
   "execution_count": 4,
   "id": "2c895d6f-cb74-4e7a-b1d1-60f416bba3db",
   "metadata": {},
   "outputs": [],
   "source": [
    "include(\"HF/hf.jl\")\n",
    "include(\"Basis/basis.jl\")\n",
    "include(\"Basis/pairing.jl\")\n",
    "include(\"Basis/HOBasis.jl\")\n",
    "include(\"system.jl\")"
   ]
  },
  {
   "cell_type": "markdown",
   "id": "c7779336-6d16-4888-b900-c6b1fc93111e",
   "metadata": {},
   "source": [
    "# HF"
   ]
  },
  {
   "cell_type": "code",
   "execution_count": 7,
   "id": "34c32c8e-dc27-42f9-8b06-e5cc851ffe4b",
   "metadata": {},
   "outputs": [],
   "source": [
    "l = 20\n",
    "ω = 0.25\n",
    "basis = HOBasis(l, ω)\n",
    "\n",
    "n = 2\n",
    "a = 0.25  # shielding term in coloumb interaction\n",
    "grid = [x for x in range(-10, stop = 10, length = 2001)]\n",
    "system = System(n, basis, grid, a);\n",
    "\n",
    "state = setup_HF(system);"
   ]
  },
  {
   "cell_type": "code",
   "execution_count": null,
   "id": "fac5bea6-9278-4667-a61b-8b9bde5502bd",
   "metadata": {},
   "outputs": [],
   "source": [
    "@time HF_update!(state);"
   ]
  },
  {
   "cell_type": "code",
   "execution_count": null,
   "id": "396314d1-f98f-4c7a-8a1a-860c1c73d2b2",
   "metadata": {},
   "outputs": [],
   "source": [
    "E_HF(state)"
   ]
  },
  {
   "cell_type": "markdown",
   "id": "45dbc8ad-a05d-4f99-839d-28f092dda4a0",
   "metadata": {},
   "source": [
    "## VMC"
   ]
  },
  {
   "cell_type": "code",
   "execution_count": null,
   "id": "9b5724a3-e288-4a4e-b2f3-01582cae1fa2",
   "metadata": {},
   "outputs": [],
   "source": [
    "dims = 1\n",
    "n = 50\n",
    "\n",
    "ham = HOpotential(HOshape, ω = 0.5)\n",
    "wf = Slater(hf_state)\n",
    "state = setup_vmc(wf, ham)"
   ]
  },
  {
   "cell_type": "code",
   "execution_count": null,
   "id": "85bdaf18-c58d-4649-98f6-9bf8dd394e82",
   "metadata": {},
   "outputs": [],
   "source": [
    "metro = Metropolis(10, 100, 0.5)\n",
    "#metro = Importance(10, 100, 0.1)\n",
    "\n",
    "scheme = GradientDescent(lr = 0.01, maxiter = 10, tol = 1e-6)\n",
    "\n",
    "optimize!(state, metro, scheme)"
   ]
  },
  {
   "cell_type": "code",
   "execution_count": null,
   "id": "371ceabb-b73f-4d25-8252-0c23adc1b60b",
   "metadata": {},
   "outputs": [],
   "source": [
    "blocking_energy(state, metro)"
   ]
  },
  {
   "cell_type": "code",
   "execution_count": null,
   "id": "fdb653a9-94ef-4a5e-9240-b2e6eb8127eb",
   "metadata": {},
   "outputs": [],
   "source": []
  },
  {
   "cell_type": "code",
   "execution_count": null,
   "id": "1106f5a6-c696-4e57-8610-8fa604de75d9",
   "metadata": {},
   "outputs": [],
   "source": [
    "l = 20\n",
    "ω = 0.25\n",
    "ho = HOBasis(l, ω)\n",
    "\n",
    "n = 2\n",
    "a = 0.25  # shielding term in coloumb interaction\n",
    "grid = [x for x in range(-10, stop = 10, length = 2001)]\n",
    "system = System(n, ho, grid, a);"
   ]
  },
  {
   "cell_type": "code",
   "execution_count": null,
   "id": "6674f907-2473-4aa0-bbf7-ba45301703c4",
   "metadata": {},
   "outputs": [],
   "source": [
    "x = zeros(l);\n",
    "x2 = zeros(2l);"
   ]
  },
  {
   "cell_type": "code",
   "execution_count": null,
   "id": "88b04347-4889-4257-af9a-e71687ff8501",
   "metadata": {},
   "outputs": [],
   "source": [
    "function spin!(x2, x, p, ho)\n",
    "    fast_ho!(x, p, ho);\n",
    "    \n",
    "    @inbounds for i in eachindex(x)\n",
    "        x2[2i-1] = x[i]\n",
    "        x2[2i] = x[i]\n",
    "    end\n",
    "    return x2\n",
    "end"
   ]
  },
  {
   "cell_type": "code",
   "execution_count": null,
   "id": "8fe08575-8720-4e8d-a478-ab616675b281",
   "metadata": {},
   "outputs": [],
   "source": [
    "@btime spin!(x2, x, 3.0, ho);"
   ]
  },
  {
   "cell_type": "code",
   "execution_count": null,
   "id": "eca1d104-be23-4733-b26e-7851e1f62bd3",
   "metadata": {},
   "outputs": [],
   "source": [
    "@btime fast_ho2!(x2, 3.0, ho);"
   ]
  },
  {
   "cell_type": "code",
   "execution_count": null,
   "id": "4bd034ff-befa-4279-bdbc-1555a9504dee",
   "metadata": {},
   "outputs": [],
   "source": [
    "function fast_ho2!(hos, x, ho)\n",
    "    (; ω, hermites) = ho\n",
    "    \n",
    "    x = √ω * x\n",
    "\n",
    "    hermites[1] = 1.0\n",
    "    hermites[2] = 2x\n",
    "\n",
    "    ho_fac = (ω / π)^0.25 * exp(-x^2 / 2)\n",
    "    hos[1] = ho_fac * hermites[1]\n",
    "    hos[2] = ho_fac * hermites[1]\n",
    "    ho_fac *= 1 / √2\n",
    "    hos[3] = ho_fac * hermites[2]\n",
    "    hos[4] = ho_fac * hermites[2]\n",
    "\n",
    "    @inbounds for n in 3:ho.l\n",
    "        hermites[n] = 2x * hermites[n-1] - 2(n - 2) * hermites[n-2]\n",
    "\n",
    "        ho_fac *= 1 / sqrt( 2(n - 1) )\n",
    "        hos[2n-1] = ho_fac * hermites[n]\n",
    "        hos[2n] = ho_fac * hermites[n]\n",
    "    end\n",
    "    \n",
    "    return hos\n",
    "end"
   ]
  },
  {
   "cell_type": "code",
   "execution_count": null,
   "id": "d7c5afca-e384-4359-b49f-d607a6be7ea0",
   "metadata": {},
   "outputs": [],
   "source": [
    "struct A\n",
    "    a::Vector{Float64}\n",
    "end\n",
    "\n",
    "function getResult(x, a)\n",
    "    return a.a\n",
    "end\n",
    "\n",
    "b = A(rand(50));\n",
    "\n",
    "function test(x, a)\n",
    "    g = getResult(x, a)\n",
    "    return g\n",
    "end"
   ]
  },
  {
   "cell_type": "code",
   "execution_count": null,
   "id": "56c6681f-62eb-45c4-9bfe-42bfb9a259be",
   "metadata": {},
   "outputs": [],
   "source": [
    "@time test(3.0, b);"
   ]
  },
  {
   "cell_type": "code",
   "execution_count": 10,
   "id": "d46e5b25-0cd1-45c5-8ed7-454a6379af79",
   "metadata": {},
   "outputs": [
    {
     "data": {
      "text/plain": [
       "consider! (generic function with 1 method)"
      ]
     },
     "execution_count": 10,
     "metadata": {},
     "output_type": "execute_result"
    }
   ],
   "source": [
    "include(\"VMC/WaveFunctions/slater.jl\")"
   ]
  },
  {
   "cell_type": "code",
   "execution_count": 12,
   "id": "3e8452f6-8955-4e19-ab5d-70f4d90473c9",
   "metadata": {},
   "outputs": [],
   "source": [
    "wf = Slater(state);"
   ]
  },
  {
   "cell_type": "code",
   "execution_count": null,
   "id": "6a3f89db-f037-47b9-9deb-bd29aa8789c5",
   "metadata": {},
   "outputs": [],
   "source": []
  }
 ],
 "metadata": {
  "kernelspec": {
   "display_name": "Julia 1.7.2",
   "language": "julia",
   "name": "julia-1.7"
  },
  "language_info": {
   "file_extension": ".jl",
   "mimetype": "application/julia",
   "name": "julia",
   "version": "1.7.2"
  }
 },
 "nbformat": 4,
 "nbformat_minor": 5
}
