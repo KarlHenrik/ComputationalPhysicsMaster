{
 "cells": [
  {
   "cell_type": "code",
   "execution_count": 1,
   "id": "a316e186-0f66-4b04-80e1-e6546f114fcd",
   "metadata": {},
   "outputs": [],
   "source": [
    "using BenchmarkTools: @btime"
   ]
  },
  {
   "cell_type": "code",
   "execution_count": 96,
   "id": "ac800f37-624d-45c4-a179-28e9dc0fd1eb",
   "metadata": {},
   "outputs": [
    {
     "data": {
      "text/plain": [
       "trapz (generic function with 1 method)"
      ]
     },
     "execution_count": 96,
     "metadata": {},
     "output_type": "execute_result"
    }
   ],
   "source": [
    "include(\"basis.jl\")"
   ]
  },
  {
   "cell_type": "code",
   "execution_count": 110,
   "id": "77d32418-34e2-4802-a572-a43e0e83f66e",
   "metadata": {},
   "outputs": [],
   "source": [
    "a = 0.01\n",
    "\n",
    "n = 1000\n",
    "l = 12\n",
    "grid = rand(n);\n",
    "spfs = [rand(n) for i in 1:l];\n",
    "#spfs = [rand(n) .+ rand(n)im for i in 1:l];"
   ]
  },
  {
   "cell_type": "code",
   "execution_count": 111,
   "id": "965f631b-3f3c-4756-b846-bbc79b9e315f",
   "metadata": {},
   "outputs": [],
   "source": [
    "inner  = inner_ints(spfs, grid, a);"
   ]
  },
  {
   "cell_type": "code",
   "execution_count": 125,
   "id": "b0805f44-1d53-466c-83cf-981bd0dba9e3",
   "metadata": {},
   "outputs": [
    {
     "data": {
      "text/plain": [
       "outer_int2 (generic function with 1 method)"
      ]
     },
     "execution_count": 125,
     "metadata": {},
     "output_type": "execute_result"
    }
   ],
   "source": [
    "function outer_int2(spfs, grid, inner_ints)\n",
    "    l = length(spfs)\n",
    "    outer_int = zeros(typeof(spfs[1][1]), l, l, l, l)\n",
    "    \n",
    "    fs = [similar(spfs[1]) for i in 1:Threads.nthreads()]\n",
    "    is = [similar(spfs[1]) for i in 1:Threads.nthreads()]\n",
    "\n",
    "    @inbounds Threads.@threads for κ in 1:l\n",
    "        f_vals = fs[Threads.threadid()]\n",
    "        inner = is[Threads.threadid()]\n",
    "        \n",
    "        for λ in 1:l\n",
    "            @views inner .= inner_ints[κ, λ, :]\n",
    "            for μ in 1:l\n",
    "                for ν in μ:l\n",
    "                    f_vals .= conj.(spfs[μ]) .* inner .* spfs[ν]\n",
    "                    outer_int[μ, κ, ν, λ] = trapz(f_vals, grid)\n",
    "                    outer_int[ν, λ, μ, κ] = outer_int[μ, κ, ν, λ]'\n",
    "                end\n",
    "            end\n",
    "        end\n",
    "    end\n",
    "    return outer_int\n",
    "end"
   ]
  },
  {
   "cell_type": "code",
   "execution_count": 126,
   "id": "0f80784d-b8e2-4de0-984d-e41eaa63701e",
   "metadata": {},
   "outputs": [
    {
     "name": "stdout",
     "output_type": "stream",
     "text": [
      "  0.003214 seconds (63 allocations: 294.266 KiB)\n"
     ]
    }
   ],
   "source": [
    "@time outer = outer_int(spfs, grid, inner);"
   ]
  },
  {
   "cell_type": "code",
   "execution_count": 127,
   "id": "18efc1a2-d7c1-4549-b627-1db6024f0b0d",
   "metadata": {},
   "outputs": [
    {
     "name": "stdout",
     "output_type": "stream",
     "text": [
      "  0.266912 seconds (277.15 k allocations: 14.327 MiB, 99.23% compilation time)\n"
     ]
    }
   ],
   "source": [
    "@time outer = outer_int2(spfs, grid, inner);"
   ]
  },
  {
   "cell_type": "code",
   "execution_count": 83,
   "id": "cdb4cfeb-2ef0-4bb5-935b-d2dda56bddb0",
   "metadata": {},
   "outputs": [
    {
     "data": {
      "text/plain": [
       "true"
      ]
     },
     "execution_count": 83,
     "metadata": {},
     "output_type": "execute_result"
    }
   ],
   "source": [
    "outer_int(spfs, grid, inner) ≈ outer_int2(spfs, grid, inner)"
   ]
  },
  {
   "cell_type": "code",
   "execution_count": 19,
   "id": "13afdbe7-351d-4311-8b30-ca353b3d3ec7",
   "metadata": {},
   "outputs": [
    {
     "data": {
      "text/plain": [
       "true"
      ]
     },
     "execution_count": 19,
     "metadata": {},
     "output_type": "execute_result"
    }
   ],
   "source": [
    "i = 1\n",
    "j = 4\n",
    "k = 2\n",
    "l = 6\n",
    "\n",
    "outer[i, j, k, l] ≈ outer[k, l, i, j]'"
   ]
  },
  {
   "cell_type": "code",
   "execution_count": null,
   "id": "3d452bfc-85e9-4c3c-a50b-78f1ca7c5cd3",
   "metadata": {},
   "outputs": [],
   "source": []
  }
 ],
 "metadata": {
  "kernelspec": {
   "display_name": "Julia (8 threads) 1.7.2",
   "language": "julia",
   "name": "julia-(8-threads)-1.7"
  },
  "language_info": {
   "file_extension": ".jl",
   "mimetype": "application/julia",
   "name": "julia",
   "version": "1.7.2"
  }
 },
 "nbformat": 4,
 "nbformat_minor": 5
}
