{
 "cells": [
  {
   "cell_type": "code",
   "execution_count": 19,
   "id": "a7906c70-9df2-4db0-9f02-ec3d011db643",
   "metadata": {},
   "outputs": [],
   "source": [
    "import numpy as np\n",
    "np.set_printoptions(precision=2)"
   ]
  },
  {
   "cell_type": "code",
   "execution_count": 7,
   "id": "e3a8f1cc-262a-4227-9c93-c233868461f9",
   "metadata": {},
   "outputs": [],
   "source": [
    "C = [[-0.893465    ,  2.90474e-15 ,  2.37011e-15 , -0.449132],\n",
    " [-0.449132   ,  -5.91559e-15 ,  5.05912e-15,   0.893465],\n",
    " [-1.89968e-15 ,  0.893465 ,    -0.449132   ,   8.48579e-15],\n",
    "  [3.95831e-15 ,  0.449132 ,     0.893465  ,   -2.2082e-15]]"
   ]
  },
  {
   "cell_type": "code",
   "execution_count": 10,
   "id": "6d6319fc-2888-48a9-a500-ded4d6ca8244",
   "metadata": {},
   "outputs": [],
   "source": [
    "C_tilde = np.transpose(C)"
   ]
  },
  {
   "cell_type": "code",
   "execution_count": 15,
   "id": "4cc54e41-da2d-49e5-80bb-e96daf719720",
   "metadata": {},
   "outputs": [],
   "source": [
    "h = np.diag([0.125, 0.125, 0.375, 0.375])"
   ]
  },
  {
   "cell_type": "code",
   "execution_count": 20,
   "id": "98a0e47e-6f39-4f40-99b0-b03c89568f9a",
   "metadata": {},
   "outputs": [
    {
     "data": {
      "text/plain": [
       "array([[ 1.25e-01,  3.79e-17,  1.10e-15,  0.00e+00],\n",
       "       [ 3.79e-17,  3.75e-01,  0.00e+00,  1.65e-15],\n",
       "       [ 1.10e-15,  0.00e+00,  3.75e-01, -1.74e-15],\n",
       "       [ 0.00e+00,  1.65e-15, -1.74e-15,  1.25e-01]])"
      ]
     },
     "execution_count": 20,
     "metadata": {},
     "output_type": "execute_result"
    }
   ],
   "source": [
    "np.dot(C_tilde, np.dot(h, C))"
   ]
  },
  {
   "cell_type": "code",
   "execution_count": null,
   "id": "e94d174a-2625-4b7e-bea4-efe7510c3f8c",
   "metadata": {},
   "outputs": [],
   "source": []
  }
 ],
 "metadata": {
  "kernelspec": {
   "display_name": "Python 3 (ipykernel)",
   "language": "python",
   "name": "python3"
  },
  "language_info": {
   "codemirror_mode": {
    "name": "ipython",
    "version": 3
   },
   "file_extension": ".py",
   "mimetype": "text/x-python",
   "name": "python",
   "nbconvert_exporter": "python",
   "pygments_lexer": "ipython3",
   "version": "3.9.7"
  }
 },
 "nbformat": 4,
 "nbformat_minor": 5
}
