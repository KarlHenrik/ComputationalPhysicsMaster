{
 "cells": [
  {
   "cell_type": "code",
   "execution_count": 1,
   "id": "a44b123d-ae95-4996-9e96-f08a4b00b30a",
   "metadata": {},
   "outputs": [],
   "source": []
  },
  {
   "cell_type": "code",
   "execution_count": 294,
   "id": "41e6d0fd-ef15-43ac-afcc-186a8d7a5850",
   "metadata": {},
   "outputs": [
    {
     "name": "stdout",
     "output_type": "stream",
     "text": [
      "(995.924753098907, CartesianIndex(9, 4, 4, 4))\n",
      "(1120.868817028602, CartesianIndex(4, 4, 4, 8))\n"
     ]
    }
   ],
   "source": [
    "using TensorOperations\n",
    "\n",
    "function example(A, v)\n",
    "    G = zero(A)\n",
    "    \n",
    "    @tensor begin\n",
    "        G[a, b, c, i] = A[a, b, c, d] * v[d, i]\n",
    "        G[a, b, i, d] = G[a, b, c, d] * v[c, i]\n",
    "        G[a, i, c, d] = G[a, b, c, d] * v[b, i]\n",
    "        G[i, b, c, d] = G[a, b, c, d] * v[a, i]\n",
    "    end\n",
    "    println(findmax(G))\n",
    "end\n",
    "\n",
    "n = 13\n",
    "A = rand(n, n, n, n);\n",
    "v = rand(n, n);\n",
    "\n",
    "example(A, v)\n",
    "example(A, v)"
   ]
  },
  {
   "cell_type": "code",
   "execution_count": null,
   "id": "545aec35-1b35-4480-95ce-fa6ae126d761",
   "metadata": {},
   "outputs": [],
   "source": []
  }
 ],
 "metadata": {
  "kernelspec": {
   "display_name": "Julia 1.7.2",
   "language": "julia",
   "name": "julia-1.7"
  },
  "language_info": {
   "file_extension": ".jl",
   "mimetype": "application/julia",
   "name": "julia",
   "version": "1.7.2"
  }
 },
 "nbformat": 4,
 "nbformat_minor": 5
}
