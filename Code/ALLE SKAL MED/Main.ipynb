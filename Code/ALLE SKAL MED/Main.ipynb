{
 "cells": [
  {
   "cell_type": "code",
   "execution_count": 1,
   "id": "5b52bf0f-1e58-4b39-ab54-7c086254fb8a",
   "metadata": {
    "tags": []
   },
   "outputs": [],
   "source": [
    "using BenchmarkTools: @btime\n",
    "import LinearAlgebra as la"
   ]
  },
  {
   "cell_type": "code",
   "execution_count": 224,
   "id": "2b82a637-4de4-49ea-a222-331b62b54f6b",
   "metadata": {},
   "outputs": [],
   "source": [
    "include(\"CC/CCSD.jl\")\n",
    "include(\"CC/CCD.jl\")\n",
    "include(\"HF/hf.jl\")\n",
    "include(\"Basis/basis.jl\")\n",
    "include(\"Basis/pairing.jl\")\n",
    "include(\"Basis/HOBasis.jl\")\n",
    "include(\"system.jl\")"
   ]
  },
  {
   "cell_type": "markdown",
   "id": "898c3064-282f-4bee-9b94-a15d3f9e7c1c",
   "metadata": {},
   "source": [
    "## Pairing Basis and Pairing System"
   ]
  },
  {
   "cell_type": "code",
   "execution_count": 249,
   "id": "6d5bb976-f5ed-4773-ba1e-abf16e8226a2",
   "metadata": {},
   "outputs": [],
   "source": [
    "l = 8\n",
    "g = 0.1\n",
    "basis = Pairing(l, g)\n",
    "\n",
    "n = 4\n",
    "system = System(n, basis);"
   ]
  },
  {
   "cell_type": "markdown",
   "id": "b81b269e-5019-4917-944e-bcdf866a708b",
   "metadata": {},
   "source": [
    "## HO Basis and Spatial System"
   ]
  },
  {
   "cell_type": "code",
   "execution_count": 60,
   "id": "36c5c399-048a-4bcb-8d18-bee5d0d48a24",
   "metadata": {},
   "outputs": [
    {
     "name": "stdout",
     "output_type": "stream",
     "text": [
      "  0.339238 seconds (7.44 k allocations: 219.417 MiB)\n"
     ]
    }
   ],
   "source": [
    "l = 30\n",
    "ω = 0.25\n",
    "basis = HOBasis(l, ω)\n",
    "\n",
    "n = 2\n",
    "a = 0.25  # shielding term in coloumb interaction\n",
    "grid = [x for x in range(-10, stop = 10, length = 2001)]\n",
    "@time system = System(n, basis, grid, a);"
   ]
  },
  {
   "cell_type": "markdown",
   "id": "8051c12b-89db-4417-81a7-284d90c84813",
   "metadata": {},
   "source": [
    "## CCSD"
   ]
  },
  {
   "cell_type": "code",
   "execution_count": 226,
   "id": "21a2a49c-a7ef-4027-b41f-bb2ed0c2df93",
   "metadata": {},
   "outputs": [],
   "source": [
    "state = setup_CCSD(system, α = 0.5);"
   ]
  },
  {
   "cell_type": "code",
   "execution_count": 231,
   "id": "fd4144f5-e626-4500-82a2-cef6a14a29c5",
   "metadata": {},
   "outputs": [
    {
     "name": "stdout",
     "output_type": "stream",
     "text": [
      "  0.000344 seconds (124 allocations: 14.719 KiB)\n"
     ]
    }
   ],
   "source": [
    "@time CCSD_Update!(state);"
   ]
  },
  {
   "cell_type": "code",
   "execution_count": 232,
   "id": "e16dfdfc-73cb-4535-8c16-3b6b395d4f7e",
   "metadata": {},
   "outputs": [
    {
     "data": {
      "text/plain": [
       "-0.0029734690519038673"
      ]
     },
     "execution_count": 232,
     "metadata": {},
     "output_type": "execute_result"
    }
   ],
   "source": [
    "E_CCSD(state)"
   ]
  },
  {
   "cell_type": "markdown",
   "id": "eee3ef08-72e0-487f-a0bc-e7e9de656bff",
   "metadata": {},
   "source": [
    "## CCD"
   ]
  },
  {
   "cell_type": "code",
   "execution_count": 262,
   "id": "14655fda-1dae-4618-887d-08e3890835de",
   "metadata": {},
   "outputs": [],
   "source": [
    "state = setup_CCD(system, α = 0.5);"
   ]
  },
  {
   "cell_type": "code",
   "execution_count": 263,
   "id": "1d5a68e2-4afd-43f3-b5c0-4dccc183f088",
   "metadata": {},
   "outputs": [
    {
     "name": "stdout",
     "output_type": "stream",
     "text": [
      "  0.000195 seconds (61 allocations: 7.312 KiB)\n"
     ]
    }
   ],
   "source": [
    "@time CCD_Update!(state);"
   ]
  },
  {
   "cell_type": "code",
   "execution_count": 264,
   "id": "e8abbca2-d01f-4633-8194-9309867e4900",
   "metadata": {},
   "outputs": [
    {
     "data": {
      "text/plain": [
       "-0.0029046040188602826"
      ]
     },
     "execution_count": 264,
     "metadata": {},
     "output_type": "execute_result"
    }
   ],
   "source": [
    "E_CCD(state)"
   ]
  },
  {
   "cell_type": "markdown",
   "id": "5b1106b5-e8f9-41da-aae5-a8ceb99ab319",
   "metadata": {},
   "source": [
    "# HF"
   ]
  },
  {
   "cell_type": "code",
   "execution_count": 271,
   "id": "585789a1-774d-4615-ab35-5c00a02dd739",
   "metadata": {},
   "outputs": [],
   "source": [
    "state = setup_HF(system);"
   ]
  },
  {
   "cell_type": "code",
   "execution_count": 282,
   "id": "4704feec-d436-4eb5-aecf-0e1851395fcf",
   "metadata": {},
   "outputs": [
    {
     "name": "stdout",
     "output_type": "stream",
     "text": [
      "  0.000014 seconds (6 allocations: 1.359 KiB)\n"
     ]
    }
   ],
   "source": [
    "@time HF_update!(state);"
   ]
  },
  {
   "cell_type": "code",
   "execution_count": 283,
   "id": "5e762286-6ff3-474b-93e7-8ae125a99ac8",
   "metadata": {},
   "outputs": [
    {
     "data": {
      "text/plain": [
       "1.9"
      ]
     },
     "execution_count": 283,
     "metadata": {},
     "output_type": "execute_result"
    }
   ],
   "source": [
    "E_HF(state)"
   ]
  },
  {
   "cell_type": "markdown",
   "id": "934791f2-3470-4a71-8082-970970937fdf",
   "metadata": {},
   "source": [
    "## VMC"
   ]
  },
  {
   "cell_type": "code",
   "execution_count": null,
   "id": "358b817d-be21-4ba2-ba8c-a85a230d36dc",
   "metadata": {},
   "outputs": [],
   "source": [
    "dims = 1\n",
    "n = 50\n",
    "\n",
    "ham = HOpotential(HOshape, ω = 0.5)\n",
    "\n",
    "wf = SimpleGaussian(HOshape, n, α = 0.5)\n",
    "wf = NN(n, stuff)\n",
    "wf = SlaterNN(hf_state, NN)\n",
    "wf = Slater(hf_state)\n",
    "\n",
    "system = System(wf, ham)"
   ]
  },
  {
   "cell_type": "code",
   "execution_count": null,
   "id": "202f7f7d-83e3-408b-b626-e8622150d12e",
   "metadata": {},
   "outputs": [],
   "source": [
    "metro = Metropolis(10, 100, 0.5)\n",
    "#metro = Importance(10, 100, 0.1)\n",
    "\n",
    "scheme = GradientDescent(lr = 0.01, maxiter = 10, tol = 1e-6)\n",
    "\n",
    "run(system, metro, scheme)"
   ]
  },
  {
   "cell_type": "code",
   "execution_count": null,
   "id": "40b06ff3-3d2b-4562-a538-c2f949825e4e",
   "metadata": {},
   "outputs": [],
   "source": [
    "metro = Metropolis(10, 100, 0.5)\n",
    "#metro = Importance(10, 100, 0.1)\n",
    "\n",
    "scheme = Onebody(stuff)\n",
    "\n",
    "run(system, metro, scheme)"
   ]
  },
  {
   "cell_type": "code",
   "execution_count": 298,
   "id": "3d2e03dc-95f4-4dc8-b87e-fa13f19d05aa",
   "metadata": {},
   "outputs": [],
   "source": [
    "struct Car\n",
    "    energy::Base.RefValue{Float64}\n",
    "    name::String\n",
    "end\n",
    "Car(energy, name) = Car(Ref(energy), name)\n",
    "energy(car) = car.energy[]\n",
    "\n",
    "mutable struct Car3\n",
    "    energy::Float64\n",
    "    name::String\n",
    "end"
   ]
  },
  {
   "cell_type": "code",
   "execution_count": 299,
   "id": "17bc025d-1c42-4d4e-9c13-496c379d219d",
   "metadata": {},
   "outputs": [
    {
     "data": {
      "text/plain": [
       "Car3(2.0, \"Karl\")"
      ]
     },
     "execution_count": 299,
     "metadata": {},
     "output_type": "execute_result"
    }
   ],
   "source": [
    "a = Car(2.0, \"Karl\")\n",
    "b = Car3(2.0, \"Karl\")"
   ]
  },
  {
   "cell_type": "code",
   "execution_count": null,
   "id": "889c2bfb-0e1e-46ac-9bc1-9bd42c9f827e",
   "metadata": {},
   "outputs": [],
   "source": []
  },
  {
   "cell_type": "code",
   "execution_count": 301,
   "id": "e227bab8-6e8a-46a2-9fac-995c40a5383d",
   "metadata": {},
   "outputs": [
    {
     "name": "stdout",
     "output_type": "stream",
     "text": [
      "  0.000004 seconds (1 allocation: 16 bytes)\n"
     ]
    },
    {
     "data": {
      "text/plain": [
       "2.0"
      ]
     },
     "execution_count": 301,
     "metadata": {},
     "output_type": "execute_result"
    }
   ],
   "source": [
    "@time energy(a)"
   ]
  },
  {
   "cell_type": "code",
   "execution_count": 304,
   "id": "31991bcd-4105-4956-8319-c05b333ebab9",
   "metadata": {},
   "outputs": [
    {
     "name": "stdout",
     "output_type": "stream",
     "text": [
      "  0.000006 seconds (1 allocation: 16 bytes)\n"
     ]
    },
    {
     "data": {
      "text/plain": [
       "2.0"
      ]
     },
     "execution_count": 304,
     "metadata": {},
     "output_type": "execute_result"
    }
   ],
   "source": [
    "@time b.energy"
   ]
  },
  {
   "cell_type": "code",
   "execution_count": null,
   "id": "714546d0-b866-4942-bde9-ccda64c291f7",
   "metadata": {},
   "outputs": [],
   "source": [
    "function speedy(Car)\n",
    "    \n",
    "end"
   ]
  }
 ],
 "metadata": {
  "kernelspec": {
   "display_name": "Julia (12 threads) 1.7.2",
   "language": "julia",
   "name": "julia-(12-threads)-1.7"
  },
  "language_info": {
   "file_extension": ".jl",
   "mimetype": "application/julia",
   "name": "julia",
   "version": "1.7.2"
  }
 },
 "nbformat": 4,
 "nbformat_minor": 5
}
