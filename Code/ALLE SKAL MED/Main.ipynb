{
 "cells": [
  {
   "cell_type": "code",
   "execution_count": 2,
   "id": "5b52bf0f-1e58-4b39-ab54-7c086254fb8a",
   "metadata": {
    "tags": []
   },
   "outputs": [],
   "source": [
    "using BenchmarkTools: @btime\n",
    "import Plots as plt\n",
    "import LinearAlgebra as la"
   ]
  },
  {
   "cell_type": "code",
   "execution_count": 1,
   "id": "2b82a637-4de4-49ea-a222-331b62b54f6b",
   "metadata": {},
   "outputs": [
    {
     "data": {
      "text/plain": [
       "System"
      ]
     },
     "execution_count": 1,
     "metadata": {},
     "output_type": "execute_result"
    }
   ],
   "source": [
    "include(\"CC/CCSD.jl\")\n",
    "include(\"CC/CCD.jl\")\n",
    "include(\"Basis/basis.jl\")\n",
    "include(\"Basis/pairing.jl\")\n",
    "include(\"Basis/HOBasis.jl\")\n",
    "include(\"system.jl\")"
   ]
  },
  {
   "cell_type": "markdown",
   "id": "898c3064-282f-4bee-9b94-a15d3f9e7c1c",
   "metadata": {},
   "source": [
    "## Pairing"
   ]
  },
  {
   "cell_type": "code",
   "execution_count": null,
   "id": "6d5bb976-f5ed-4773-ba1e-abf16e8226a2",
   "metadata": {},
   "outputs": [],
   "source": [
    "l = 8\n",
    "g = 0.1\n",
    "basis = Pairing(l, g)\n",
    "\n",
    "n = 4\n",
    "system = System(n, basis);"
   ]
  },
  {
   "cell_type": "markdown",
   "id": "b81b269e-5019-4917-944e-bcdf866a708b",
   "metadata": {},
   "source": [
    "## HO"
   ]
  },
  {
   "cell_type": "code",
   "execution_count": 13,
   "id": "40c069a1-98fa-44fd-8cd3-28a7f45caa17",
   "metadata": {},
   "outputs": [
    {
     "data": {
      "text/plain": [
       "0.25"
      ]
     },
     "execution_count": 13,
     "metadata": {},
     "output_type": "execute_result"
    }
   ],
   "source": [
    "x = 0.25f0 * 1.0"
   ]
  },
  {
   "cell_type": "code",
   "execution_count": 14,
   "id": "a0187146-0bab-4784-9703-04a24c8b9558",
   "metadata": {},
   "outputs": [
    {
     "data": {
      "text/plain": [
       "8"
      ]
     },
     "execution_count": 14,
     "metadata": {},
     "output_type": "execute_result"
    }
   ],
   "source": [
    "sizeof(x)"
   ]
  },
  {
   "cell_type": "code",
   "execution_count": 18,
   "id": "17dd76e8-4310-434e-97b2-17eb42bb186d",
   "metadata": {},
   "outputs": [
    {
     "data": {
      "text/plain": [
       "10240000"
      ]
     },
     "execution_count": 18,
     "metadata": {},
     "output_type": "execute_result"
    }
   ],
   "source": [
    "sizeof(system.u)"
   ]
  },
  {
   "cell_type": "code",
   "execution_count": 16,
   "id": "36c5c399-048a-4bcb-8d18-bee5d0d48a24",
   "metadata": {},
   "outputs": [
    {
     "name": "stdout",
     "output_type": "stream",
     "text": [
      "  0.570790 seconds (6.90 k allocations: 107.584 MiB)\n"
     ]
    }
   ],
   "source": [
    "l = 20\n",
    "ω = 0.25f0\n",
    "basis = HOBasis(l, ω)\n",
    "\n",
    "n = 2\n",
    "a = 0.25f0  # shielding term in coloumb interaction\n",
    "grid = [x for x in range(-10, stop = 10, length = 2001)]\n",
    "@time system = System(n, basis, grid, a);"
   ]
  },
  {
   "cell_type": "code",
   "execution_count": 9,
   "id": "9fa3818d-8932-49a8-a62f-e4e46e7d3894",
   "metadata": {},
   "outputs": [
    {
     "name": "stdout",
     "output_type": "stream",
     "text": [
      "  0.533665 seconds (6.86 k allocations: 97.492 MiB)\n"
     ]
    }
   ],
   "source": [
    "l = 20\n",
    "ω = 0.25\n",
    "basis = HOBasis(l, ω)\n",
    "\n",
    "n = 2\n",
    "a = 0.25  # shielding term in coloumb interaction\n",
    "grid = [x for x in range(-10, stop = 10, length = 2001)]\n",
    "@time system = System(n, basis, grid, a);"
   ]
  },
  {
   "cell_type": "markdown",
   "id": "8051c12b-89db-4417-81a7-284d90c84813",
   "metadata": {},
   "source": [
    "## CCSD Interface"
   ]
  },
  {
   "cell_type": "code",
   "execution_count": null,
   "id": "21a2a49c-a7ef-4027-b41f-bb2ed0c2df93",
   "metadata": {},
   "outputs": [],
   "source": [
    "state = setup_CCSD(system, α = 0.5);"
   ]
  },
  {
   "cell_type": "code",
   "execution_count": null,
   "id": "fd4144f5-e626-4500-82a2-cef6a14a29c5",
   "metadata": {},
   "outputs": [],
   "source": [
    "CCSD_Update!(state);"
   ]
  },
  {
   "cell_type": "code",
   "execution_count": null,
   "id": "e16dfdfc-73cb-4535-8c16-3b6b395d4f7e",
   "metadata": {},
   "outputs": [],
   "source": [
    "E_CCSD(state)"
   ]
  },
  {
   "cell_type": "markdown",
   "id": "eee3ef08-72e0-487f-a0bc-e7e9de656bff",
   "metadata": {},
   "source": [
    "## CCD Interface"
   ]
  },
  {
   "cell_type": "code",
   "execution_count": null,
   "id": "14655fda-1dae-4618-887d-08e3890835de",
   "metadata": {},
   "outputs": [],
   "source": [
    "system = setup_CCD(h, u, n, α = 0.5);"
   ]
  },
  {
   "cell_type": "code",
   "execution_count": null,
   "id": "1d5a68e2-4afd-43f3-b5c0-4dccc183f088",
   "metadata": {},
   "outputs": [],
   "source": [
    "CCD_Update!(system);"
   ]
  },
  {
   "cell_type": "code",
   "execution_count": null,
   "id": "e8abbca2-d01f-4633-8194-9309867e4900",
   "metadata": {},
   "outputs": [],
   "source": [
    "E_CCD(system)"
   ]
  },
  {
   "cell_type": "markdown",
   "id": "5b1106b5-e8f9-41da-aae5-a8ceb99ab319",
   "metadata": {},
   "source": [
    "# HF"
   ]
  },
  {
   "cell_type": "code",
   "execution_count": null,
   "id": "585789a1-774d-4615-ab35-5c00a02dd739",
   "metadata": {},
   "outputs": [],
   "source": []
  },
  {
   "cell_type": "markdown",
   "id": "934791f2-3470-4a71-8082-970970937fdf",
   "metadata": {},
   "source": [
    "## Fast HO Integrals"
   ]
  },
  {
   "cell_type": "code",
   "execution_count": null,
   "id": "25d6b127-e820-4d80-91c2-16844a40994c",
   "metadata": {},
   "outputs": [],
   "source": [
    "function between(inds, bodies)\n",
    "    res = []\n",
    "    inds = sort(inds)\n",
    "    \n",
    "    loop_it!(res, inds[1]-1, inds, bodies, ())\n",
    "    \n",
    "    return res\n",
    "end\n",
    "\n",
    "function loop_it!(res, i, inds, bodies, ijs)\n",
    "    if bodies == 0\n",
    "        push!(res, (ijs))\n",
    "    end\n",
    "    \n",
    "    for j in inds\n",
    "        if j > i\n",
    "            loop_it!(res, j, inds, bodies-1, (ijs..., j))\n",
    "        end\n",
    "    end\n",
    "end\n",
    "\n",
    "group_indices = [1, 2, 3, 4, 5]\n",
    "bodies = 4\n",
    "between(group_indices, bodies)"
   ]
  },
  {
   "cell_type": "code",
   "execution_count": null,
   "id": "358b817d-be21-4ba2-ba8c-a85a230d36dc",
   "metadata": {},
   "outputs": [],
   "source": []
  }
 ],
 "metadata": {
  "kernelspec": {
   "display_name": "Julia (8 threads) 1.7.2",
   "language": "julia",
   "name": "julia-(8-threads)-1.7"
  },
  "language_info": {
   "file_extension": ".jl",
   "mimetype": "application/julia",
   "name": "julia",
   "version": "1.7.2"
  }
 },
 "nbformat": 4,
 "nbformat_minor": 5
}
