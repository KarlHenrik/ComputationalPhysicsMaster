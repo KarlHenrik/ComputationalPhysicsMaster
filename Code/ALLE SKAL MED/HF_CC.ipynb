{
 "cells": [
  {
   "cell_type": "code",
   "execution_count": 1,
   "id": "5b52bf0f-1e58-4b39-ab54-7c086254fb8a",
   "metadata": {
    "tags": []
   },
   "outputs": [],
   "source": [
    "using BenchmarkTools: @btime\n",
    "import LinearAlgebra as la"
   ]
  },
  {
   "cell_type": "code",
   "execution_count": 2,
   "id": "2b82a637-4de4-49ea-a222-331b62b54f6b",
   "metadata": {},
   "outputs": [
    {
     "data": {
      "text/plain": [
       "energy (generic function with 3 methods)"
      ]
     },
     "execution_count": 2,
     "metadata": {},
     "output_type": "execute_result"
    }
   ],
   "source": [
    "include(\"Basis/basis.jl\")\n",
    "include(\"Basis/pairing.jl\")\n",
    "include(\"Basis/HOBasis.jl\")\n",
    "include(\"Basis/SpinBasis.jl\")\n",
    "include(\"system.jl\")\n",
    "include(\"CC/CCSD.jl\")\n",
    "include(\"CC/CCD.jl\")\n",
    "include(\"HF/hf.jl\")"
   ]
  },
  {
   "cell_type": "markdown",
   "id": "b81b269e-5019-4917-944e-bcdf866a708b",
   "metadata": {},
   "source": [
    "## HO Basis and Spatial System"
   ]
  },
  {
   "cell_type": "code",
   "execution_count": 3,
   "id": "36c5c399-048a-4bcb-8d18-bee5d0d48a24",
   "metadata": {},
   "outputs": [
    {
     "name": "stdout",
     "output_type": "stream",
     "text": [
      "  2.385339 seconds (3.67 M allocations: 410.765 MiB, 9.59% gc time, 72.09% compilation time)\n"
     ]
    }
   ],
   "source": [
    "l = 30\n",
    "ω = 0.25\n",
    "basis = SpinBasis(HOBasis(l, ω))\n",
    "\n",
    "n = 2\n",
    "a = 0.25  # shielding term in coloumb interaction\n",
    "grid = [x for x in range(-10, stop = 10, length = 2001)]\n",
    "@time system = System(n, basis, grid, a);"
   ]
  },
  {
   "cell_type": "markdown",
   "id": "8051c12b-89db-4417-81a7-284d90c84813",
   "metadata": {},
   "source": [
    "## CCSD"
   ]
  },
  {
   "cell_type": "code",
   "execution_count": null,
   "id": "21a2a49c-a7ef-4027-b41f-bb2ed0c2df93",
   "metadata": {},
   "outputs": [],
   "source": [
    "ccsd = setup_CCSD(system, α = 0.5);"
   ]
  },
  {
   "cell_type": "code",
   "execution_count": null,
   "id": "fd4144f5-e626-4500-82a2-cef6a14a29c5",
   "metadata": {},
   "outputs": [],
   "source": [
    "for i in 1:10\n",
    "    CCSD_Update!(ccsd);\n",
    "end"
   ]
  },
  {
   "cell_type": "code",
   "execution_count": null,
   "id": "e16dfdfc-73cb-4535-8c16-3b6b395d4f7e",
   "metadata": {},
   "outputs": [],
   "source": [
    "energy(ccsd)"
   ]
  },
  {
   "cell_type": "markdown",
   "id": "eee3ef08-72e0-487f-a0bc-e7e9de656bff",
   "metadata": {},
   "source": [
    "## CCD"
   ]
  },
  {
   "cell_type": "code",
   "execution_count": null,
   "id": "14655fda-1dae-4618-887d-08e3890835de",
   "metadata": {},
   "outputs": [],
   "source": [
    "ccd = setup_CCD(system, α = 0.5);"
   ]
  },
  {
   "cell_type": "code",
   "execution_count": null,
   "id": "1d5a68e2-4afd-43f3-b5c0-4dccc183f088",
   "metadata": {},
   "outputs": [],
   "source": [
    "@time CCD_Update!(ccd);"
   ]
  },
  {
   "cell_type": "code",
   "execution_count": null,
   "id": "e8abbca2-d01f-4633-8194-9309867e4900",
   "metadata": {},
   "outputs": [],
   "source": [
    "energy(ccd)"
   ]
  },
  {
   "cell_type": "markdown",
   "id": "5b1106b5-e8f9-41da-aae5-a8ceb99ab319",
   "metadata": {},
   "source": [
    "# HF"
   ]
  },
  {
   "cell_type": "code",
   "execution_count": 5,
   "id": "585789a1-774d-4615-ab35-5c00a02dd739",
   "metadata": {},
   "outputs": [],
   "source": [
    "hf = setup_HF(system);"
   ]
  },
  {
   "cell_type": "code",
   "execution_count": 12,
   "id": "4704feec-d436-4eb5-aecf-0e1851395fcf",
   "metadata": {},
   "outputs": [
    {
     "name": "stdout",
     "output_type": "stream",
     "text": [
      "  0.027338 seconds (20 allocations: 121.516 KiB)\n"
     ]
    }
   ],
   "source": [
    "@time HF_update!(hf);"
   ]
  },
  {
   "cell_type": "code",
   "execution_count": null,
   "id": "5e762286-6ff3-474b-93e7-8ae125a99ac8",
   "metadata": {},
   "outputs": [],
   "source": [
    "energy(hf)"
   ]
  },
  {
   "cell_type": "markdown",
   "id": "c8827e95-2856-4e4d-82b6-a7f055e056c6",
   "metadata": {},
   "source": [
    "## Pairing Basis and Pairing System"
   ]
  },
  {
   "cell_type": "code",
   "execution_count": null,
   "id": "e726eb6e-f106-4ac5-bb5f-9f4344fd57dc",
   "metadata": {},
   "outputs": [],
   "source": [
    "l = 8\n",
    "g = 0.1\n",
    "basis = Pairing(l, g)\n",
    "\n",
    "n = 4\n",
    "system = System(n, basis);"
   ]
  },
  {
   "cell_type": "markdown",
   "id": "2f323499-f858-49ab-8ce0-20b78c00b59b",
   "metadata": {},
   "source": [
    "## Testing"
   ]
  },
  {
   "cell_type": "code",
   "execution_count": 39,
   "id": "0f3d3d71-0012-4829-85ac-aa47f5fb4939",
   "metadata": {},
   "outputs": [],
   "source": [
    "spfs = hf.system.spfs;\n",
    "C = hf.C;\n",
    "C_tilde = C';\n",
    "l = hf.system.l\n",
    "h = hf.system.h\n",
    "u = hf.system.u;"
   ]
  },
  {
   "cell_type": "code",
   "execution_count": null,
   "id": "6a6e13cd-9d02-47dd-8d41-4bdc0d95fdb3",
   "metadata": {},
   "outputs": [],
   "source": [
    "function transform_spfs(spfs, C)\n",
    "    spfs2 = zero.(spfs)\n",
    "    l = length(spfs)\n",
    "    \n",
    "    for i in 1:l\n",
    "        psi1 = spfs2[i]\n",
    "        for j in 1:l\n",
    "            psi1 .+= C[j, i] .* spfs[j]\n",
    "        end\n",
    "    end\n",
    "    return spfs2\n",
    "end"
   ]
  },
  {
   "cell_type": "code",
   "execution_count": null,
   "id": "023ca8f9-ef6e-48de-a395-ac8a3e4313cc",
   "metadata": {},
   "outputs": [],
   "source": [
    "@time spfs2 = transform_spfs(spfs, C);"
   ]
  },
  {
   "cell_type": "code",
   "execution_count": null,
   "id": "865dbb71-dc37-4024-9379-e65e693b1e94",
   "metadata": {},
   "outputs": [],
   "source": [
    "function transform_onebody(h, C)\n",
    "    h2 = zero(h)\n",
    "    l = size(C)[1]\n",
    "    \n",
    "    @inbounds for a in 1:l\n",
    "        for b in 1:l\n",
    "            for i in 1:l\n",
    "                for j in 1:l\n",
    "                    h2[a, b] += C[i, a] * C[j, b] * h[i, j]\n",
    "                end\n",
    "            end\n",
    "        end\n",
    "    end\n",
    "    return h2\n",
    "end"
   ]
  },
  {
   "cell_type": "code",
   "execution_count": null,
   "id": "e8628192-c374-4bbe-87e2-f7d2c7f742a3",
   "metadata": {},
   "outputs": [],
   "source": [
    "@time h2 = transform_onebody(h, C);"
   ]
  },
  {
   "cell_type": "code",
   "execution_count": null,
   "id": "3965be03-b880-4494-98b4-b4682d1d2861",
   "metadata": {},
   "outputs": [],
   "source": [
    "@time h3 = C' * h * C;"
   ]
  },
  {
   "cell_type": "code",
   "execution_count": null,
   "id": "fdfd3e9e-0765-4042-bd50-5eee3deafe3a",
   "metadata": {},
   "outputs": [],
   "source": [
    "h2 ≈ h3"
   ]
  },
  {
   "cell_type": "markdown",
   "id": "6023b10c-f5a0-4563-bfe0-0834d3847596",
   "metadata": {},
   "source": [
    "## Twobody"
   ]
  },
  {
   "cell_type": "code",
   "execution_count": null,
   "id": "56554244-90c1-41f1-ba3b-288bd59c849f",
   "metadata": {},
   "outputs": [],
   "source": [
    "function transform_twobody_slow(u, C)\n",
    "    u2 = zero(u)\n",
    "    l = length(C[:,1])\n",
    "    \n",
    "    for a in 1:l, b in 1:l, c in 1:l, d in 1:l\n",
    "        for i in 1:l, j in 1:l, k in 1:l, m in 1:l\n",
    "            @inbounds u2[a, b, c, d] += C[i, a] * C[j, b] * C[k, c] * C[m, d] * u[i, j, k, m]\n",
    "        end\n",
    "    end\n",
    "    return u2\n",
    "end"
   ]
  },
  {
   "cell_type": "code",
   "execution_count": null,
   "id": "bbe43dad-42a9-4764-9949-c1d8afeea97d",
   "metadata": {},
   "outputs": [],
   "source": [
    "@time u_slow = transform_twobody_slow(u, C);"
   ]
  },
  {
   "cell_type": "code",
   "execution_count": null,
   "id": "92f3c407-63b4-4c70-b119-7b18c8426677",
   "metadata": {},
   "outputs": [],
   "source": [
    "function transform_twobody(u, C)\n",
    "    u2 = zero(u)\n",
    "    u3 = zero(u)\n",
    "    l = size(C)[1]\n",
    "    \n",
    "    @inbounds for a in 1:l, b in 1:l, c in 1:l\n",
    "        for i in 1:l\n",
    "            for j in 1:l\n",
    "                u2[a, b, c, i] += C[j, i] * u[a, b, c, j]\n",
    "            end\n",
    "        end\n",
    "    end\n",
    "    \n",
    "    @inbounds for a in 1:l, b in 1:l, d in 1:l\n",
    "        for i in 1:l\n",
    "            for j in 1:l\n",
    "                u3[a, b, i, d] += C[j, i] * u2[a, b, j, d]\n",
    "            end\n",
    "        end\n",
    "    end\n",
    "    \n",
    "    @inbounds for a in 1:l, c in 1:l, d in 1:l\n",
    "        for i in 1:l\n",
    "            u2[a, i, c, d] = 0\n",
    "            for j in 1:l\n",
    "                u2[a, i, c, d] += C[j, i] * u3[a, j, c, d]\n",
    "            end\n",
    "        end\n",
    "    end\n",
    "    \n",
    "    @inbounds for b in 1:l, c in 1:l, d in 1:l\n",
    "        for i in 1:l\n",
    "            u3[i, b, c, d] = 0\n",
    "            for j in 1:l\n",
    "                u3[i, b, c, d] += C[j, i] * u2[j, b, c, d]\n",
    "            end\n",
    "        end\n",
    "    end\n",
    "    \n",
    "    return u3\n",
    "end"
   ]
  },
  {
   "cell_type": "code",
   "execution_count": null,
   "id": "cea758df-a612-483a-aea2-3cc996773555",
   "metadata": {},
   "outputs": [],
   "source": [
    "@time u2 = transform_twobody(u, C);"
   ]
  },
  {
   "cell_type": "code",
   "execution_count": null,
   "id": "6db2f8c2-bf5a-4183-8e27-3045c140310f",
   "metadata": {},
   "outputs": [],
   "source": [
    "u2 ≈ u_py"
   ]
  },
  {
   "cell_type": "code",
   "execution_count": 14,
   "id": "2394faf7-a3ab-42c6-b14c-308d09d879ec",
   "metadata": {},
   "outputs": [],
   "source": [
    "using PyCall"
   ]
  },
  {
   "cell_type": "code",
   "execution_count": 15,
   "id": "d64dcdb1-17f3-4e81-a64b-451cee50dfb2",
   "metadata": {},
   "outputs": [],
   "source": [
    "using TensorOperations"
   ]
  },
  {
   "cell_type": "code",
   "execution_count": 187,
   "id": "52e69ccf-babb-41dc-a0cb-b2b9d1f5cc83",
   "metadata": {},
   "outputs": [
    {
     "data": {
      "text/plain": [
       "transform_twobody (generic function with 1 method)"
      ]
     },
     "execution_count": 187,
     "metadata": {},
     "output_type": "execute_result"
    }
   ],
   "source": [
    "function transform_twobody(u, C)\n",
    "    u3 = zero(u)\n",
    "    @tensor u3[a, b, c, i] = u[a, b, c, d] * C[d, i]\n",
    "    @tensor u3[a, b, i, d] = u3[a, b, c, d] * C[c, i]\n",
    "    @tensor u3[a, i, c, d] = u3[a, b, c, d] * C[b, i]\n",
    "    @tensor u3[i, b, c, d] := u3[a, b, c, d] * C[a, i];\n",
    "    return u3\n",
    "end"
   ]
  },
  {
   "cell_type": "code",
   "execution_count": 195,
   "id": "c361b5f6-4efe-48bf-a710-1e39873e1f4a",
   "metadata": {},
   "outputs": [
    {
     "name": "stdout",
     "output_type": "stream",
     "text": [
      "  0.628787 seconds (1.05 k allocations: 296.721 MiB, 35.50% gc time)\n"
     ]
    }
   ],
   "source": [
    "@time u3 = transform_twobody(u, C);"
   ]
  },
  {
   "cell_type": "code",
   "execution_count": 194,
   "id": "3b6af3e7-075f-4745-aa7e-4fb28b469b9d",
   "metadata": {},
   "outputs": [
    {
     "name": "stdout",
     "output_type": "stream",
     "text": [
      "true\n"
     ]
    }
   ],
   "source": [
    "println(fasit ≈ u3)"
   ]
  },
  {
   "cell_type": "code",
   "execution_count": 193,
   "id": "19891deb-f3c5-4c2e-b10c-be475ea36fce",
   "metadata": {},
   "outputs": [
    {
     "name": "stdout",
     "output_type": "stream",
     "text": [
      "  1.349820 seconds (58 allocations: 98.880 MiB, 0.67% gc time)\n"
     ]
    }
   ],
   "source": [
    "py\"\"\"\n",
    "import numpy as np\n",
    "\n",
    "def please(u, C, C_tilde):\n",
    "    _u = np.tensordot(u, C, axes=(3, 0))\n",
    "    _u = np.tensordot(_u, C, axes=(2, 0)).transpose(0, 1, 3, 2)\n",
    "    _u = np.tensordot(_u, C_tilde, axes=(1, 1)).transpose(0, 3, 1, 2)\n",
    "    _u = np.tensordot(C_tilde, _u, axes=(1, 0))\n",
    "    return _u\n",
    "\"\"\"\n",
    "@time fasit = py\"please\"(u, C, C');"
   ]
  },
  {
   "cell_type": "code",
   "execution_count": 127,
   "id": "129c674e-9a89-460c-b1e9-8a35e4739f3b",
   "metadata": {},
   "outputs": [
    {
     "data": {
      "text/plain": [
       "((0.7914455581213373, CartesianIndex(2, 1, 2, 1)), (-0.7914455581213374, CartesianIndex(2, 1, 1, 2)))"
      ]
     },
     "execution_count": 127,
     "metadata": {},
     "output_type": "execute_result"
    }
   ],
   "source": [
    "findmax(fasit), findmin(fasit)"
   ]
  },
  {
   "cell_type": "code",
   "execution_count": 85,
   "id": "883b2102-f8c4-443a-8029-554aaa33fd86",
   "metadata": {},
   "outputs": [
    {
     "data": {
      "text/plain": [
       "((0.022721234479403062, CartesianIndex(16, 57, 32, 53)), (-0.02125490955530783, CartesianIndex(16, 33, 32, 53)))"
      ]
     },
     "execution_count": 85,
     "metadata": {},
     "output_type": "execute_result"
    }
   ],
   "source": []
  },
  {
   "cell_type": "code",
   "execution_count": null,
   "id": "a9536e5d-9964-4030-8d40-60433031d3f2",
   "metadata": {},
   "outputs": [],
   "source": []
  }
 ],
 "metadata": {
  "kernelspec": {
   "display_name": "Julia (8 threads) 1.7.2",
   "language": "julia",
   "name": "julia-(8-threads)-1.7"
  },
  "language_info": {
   "file_extension": ".jl",
   "mimetype": "application/julia",
   "name": "julia",
   "version": "1.7.2"
  }
 },
 "nbformat": 4,
 "nbformat_minor": 5
}
