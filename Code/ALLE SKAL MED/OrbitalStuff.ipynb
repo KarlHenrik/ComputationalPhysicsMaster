{
 "cells": [
  {
   "cell_type": "code",
   "execution_count": 1,
   "id": "5b52bf0f-1e58-4b39-ab54-7c086254fb8a",
   "metadata": {
    "tags": []
   },
   "outputs": [],
   "source": [
    "using BenchmarkTools: @btime\n",
    "import LinearAlgebra as la"
   ]
  },
  {
   "cell_type": "code",
   "execution_count": 58,
   "id": "2b82a637-4de4-49ea-a222-331b62b54f6b",
   "metadata": {},
   "outputs": [],
   "source": [
    "include(\"CC/CCSD.jl\")\n",
    "include(\"CC/CCD.jl\")\n",
    "include(\"HF/hf.jl\")\n",
    "include(\"Basis/basis.jl\")\n",
    "include(\"Basis/pairing.jl\")\n",
    "include(\"Basis/HOBasis.jl\")\n",
    "include(\"system.jl\")"
   ]
  },
  {
   "cell_type": "markdown",
   "id": "b81b269e-5019-4917-944e-bcdf866a708b",
   "metadata": {},
   "source": [
    "## HO Basis and Spatial System"
   ]
  },
  {
   "cell_type": "code",
   "execution_count": 12,
   "id": "36c5c399-048a-4bcb-8d18-bee5d0d48a24",
   "metadata": {},
   "outputs": [
    {
     "name": "stdout",
     "output_type": "stream",
     "text": [
      "  0.020633 seconds (1.02 k allocations: 5.015 MiB)\n"
     ]
    }
   ],
   "source": [
    "l = 10\n",
    "ω = 0.25\n",
    "basis = HOBasis(l, ω)\n",
    "\n",
    "n = 2\n",
    "a = 0.25  # shielding term in coloumb interaction\n",
    "grid = [x for x in range(-10, stop = 10, length = 2001)]\n",
    "@time system = System(n, basis, grid, a);"
   ]
  },
  {
   "cell_type": "markdown",
   "id": "8051c12b-89db-4417-81a7-284d90c84813",
   "metadata": {},
   "source": [
    "## CCSD"
   ]
  },
  {
   "cell_type": "code",
   "execution_count": null,
   "id": "21a2a49c-a7ef-4027-b41f-bb2ed0c2df93",
   "metadata": {},
   "outputs": [],
   "source": [
    "state = setup_CCSD(system, α = 0.5);"
   ]
  },
  {
   "cell_type": "code",
   "execution_count": null,
   "id": "fd4144f5-e626-4500-82a2-cef6a14a29c5",
   "metadata": {},
   "outputs": [],
   "source": [
    "@time CCSD_Update!(state);"
   ]
  },
  {
   "cell_type": "code",
   "execution_count": null,
   "id": "e16dfdfc-73cb-4535-8c16-3b6b395d4f7e",
   "metadata": {},
   "outputs": [],
   "source": [
    "E_CCSD(state)"
   ]
  },
  {
   "cell_type": "markdown",
   "id": "eee3ef08-72e0-487f-a0bc-e7e9de656bff",
   "metadata": {},
   "source": [
    "## CCD"
   ]
  },
  {
   "cell_type": "code",
   "execution_count": null,
   "id": "14655fda-1dae-4618-887d-08e3890835de",
   "metadata": {},
   "outputs": [],
   "source": [
    "state = setup_CCD(system, α = 0.5);"
   ]
  },
  {
   "cell_type": "code",
   "execution_count": null,
   "id": "1d5a68e2-4afd-43f3-b5c0-4dccc183f088",
   "metadata": {},
   "outputs": [],
   "source": [
    "@time CCD_Update!(state);"
   ]
  },
  {
   "cell_type": "code",
   "execution_count": null,
   "id": "e8abbca2-d01f-4633-8194-9309867e4900",
   "metadata": {},
   "outputs": [],
   "source": [
    "E_CCD(state)"
   ]
  },
  {
   "cell_type": "markdown",
   "id": "5b1106b5-e8f9-41da-aae5-a8ceb99ab319",
   "metadata": {},
   "source": [
    "# HF"
   ]
  },
  {
   "cell_type": "code",
   "execution_count": 53,
   "id": "585789a1-774d-4615-ab35-5c00a02dd739",
   "metadata": {},
   "outputs": [],
   "source": [
    "state = setup_HF(system);"
   ]
  },
  {
   "cell_type": "code",
   "execution_count": 56,
   "id": "4704feec-d436-4eb5-aecf-0e1851395fcf",
   "metadata": {},
   "outputs": [
    {
     "name": "stdout",
     "output_type": "stream",
     "text": [
      "  0.000263 seconds (18 allocations: 41.828 KiB)\n"
     ]
    }
   ],
   "source": [
    "@time HF_update!(state);"
   ]
  },
  {
   "cell_type": "code",
   "execution_count": 57,
   "id": "5e762286-6ff3-474b-93e7-8ae125a99ac8",
   "metadata": {},
   "outputs": [
    {
     "data": {
      "text/plain": [
       "1.2456532011249617"
      ]
     },
     "execution_count": 57,
     "metadata": {},
     "output_type": "execute_result"
    }
   ],
   "source": [
    "E_HF(state)"
   ]
  },
  {
   "cell_type": "markdown",
   "id": "c8827e95-2856-4e4d-82b6-a7f055e056c6",
   "metadata": {},
   "source": [
    "## Pairing Basis and Pairing System"
   ]
  },
  {
   "cell_type": "code",
   "execution_count": null,
   "id": "e726eb6e-f106-4ac5-bb5f-9f4344fd57dc",
   "metadata": {},
   "outputs": [],
   "source": [
    "l = 8\n",
    "g = 0.1\n",
    "basis = Pairing(l, g)\n",
    "\n",
    "n = 4\n",
    "system = System(n, basis);"
   ]
  }
 ],
 "metadata": {
  "kernelspec": {
   "display_name": "Julia (12 threads) 1.7.2",
   "language": "julia",
   "name": "julia-(12-threads)-1.7"
  },
  "language_info": {
   "file_extension": ".jl",
   "mimetype": "application/julia",
   "name": "julia",
   "version": "1.7.2"
  }
 },
 "nbformat": 4,
 "nbformat_minor": 5
}
