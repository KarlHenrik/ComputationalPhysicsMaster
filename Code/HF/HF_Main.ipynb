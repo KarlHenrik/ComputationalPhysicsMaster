{
 "cells": [
  {
   "cell_type": "code",
   "execution_count": 1,
   "id": "f6f425ea-1db1-4a82-8a83-202e37dfa4e0",
   "metadata": {},
   "outputs": [],
   "source": [
    "import LinearAlgebra as la\n",
    "using BenchmarkTools: @btime\n",
    "include(\"hoSystem.jl\");"
   ]
  },
  {
   "cell_type": "code",
   "execution_count": 2,
   "id": "0a13f5e3-57bd-4a00-a05f-9dca425a1206",
   "metadata": {},
   "outputs": [],
   "source": [
    "import FileIO\n",
    "#import Plots as plt\n",
    "import ColorVectorSpace\n",
    "#plt.pyplot()\n",
    "include(\"util.jl\");"
   ]
  },
  {
   "cell_type": "markdown",
   "id": "622bf68c-784d-4489-a5a3-6aa27ed63eaa",
   "metadata": {},
   "source": [
    "## Calculating integrals and basis elements"
   ]
  },
  {
   "cell_type": "code",
   "execution_count": 3,
   "id": "d2cf5ed7-9d51-4f73-8909-765e9d87f58c",
   "metadata": {
    "tags": []
   },
   "outputs": [
    {
     "name": "stdout",
     "output_type": "stream",
     "text": [
      "  6.399279 seconds (5.24 M allocations: 1.634 GiB, 7.38% gc time, 29.22% compilation time)\n"
     ]
    }
   ],
   "source": [
    "l_0 = 40  # number of basis functions\n",
    "ω = 0.25  # strength of harmonic oscillator potential\n",
    "a = 0.25  # shielding term in coloumb interaction\n",
    "grid = [x for x in range(-10, stop = 10, length = 2001)]\n",
    "n = 2     # number of particles\n",
    "\n",
    "@time system = System(n, HOBasis(l_0, ω, a), grid);"
   ]
  },
  {
   "cell_type": "code",
   "execution_count": null,
   "id": "b086edaa-d3de-4030-934f-5f44bed721d7",
   "metadata": {},
   "outputs": [],
   "source": [
    "1.931305 seconds (5.08 M allocations: 274.987 MiB, 5.06% gc time, 94.34% compilation time)"
   ]
  },
  {
   "cell_type": "code",
   "execution_count": null,
   "id": "2aa13147-fd91-404e-be89-b8c27ee2f6ac",
   "metadata": {},
   "outputs": [],
   "source": [
    "0.117196 seconds (1.85 k allocations: 8.690 MiB)"
   ]
  },
  {
   "cell_type": "markdown",
   "id": "f8c25aeb-546b-4734-941f-0d6db30d4928",
   "metadata": {},
   "source": [
    "## Hartree-Fock Calculation"
   ]
  },
  {
   "cell_type": "code",
   "execution_count": null,
   "id": "22553121-8bf0-4ebe-9d6a-b6161ec0941b",
   "metadata": {},
   "outputs": [],
   "source": [
    "function getP(C, system)\n",
    "    n, l = system.n, system.l\n",
    "    \n",
    "    P = la.zeros((l, l))\n",
    "    for i in 1:n\n",
    "        for a in 1:l\n",
    "            for b in 1:l\n",
    "                @inbounds P[b, a] += conj(C[a, i]) * C[b, i]\n",
    "            end\n",
    "        end\n",
    "    end\n",
    "    return P\n",
    "end\n",
    "\n",
    "function getF(P, system)\n",
    "    h, u, n, l = system.h, system.u, system.n, system.l\n",
    "    \n",
    "    F = la.zeros((l, l))\n",
    "    F .+= h\n",
    "    for c in 1:l\n",
    "        for d in 1:l\n",
    "            @inbounds P_dc = P[d, c]\n",
    "            for a in 1:l\n",
    "                for b in 1:l\n",
    "                    @inbounds F[a, b] += P_dc * u[a, c, b, d]\n",
    "                end\n",
    "            end\n",
    "        end\n",
    "    end\n",
    "    return F\n",
    "end\n",
    "\n",
    "function SCF(C, system, iters)\n",
    "    for i in 1:iters\n",
    "        P = getP(C, system)\n",
    "        F = getF(P, system)\n",
    "        C = la.eigvecs(F)\n",
    "    end\n",
    "    \n",
    "    return C\n",
    "end"
   ]
  },
  {
   "cell_type": "code",
   "execution_count": null,
   "id": "dfe07243-3411-4717-b41a-f585b3e65fe6",
   "metadata": {},
   "outputs": [],
   "source": [
    "#C_initial = ComplexF64.(la.I(system.l));\n",
    "C_initial = la.Matrix(Float64.(la.I(system.l)))\n",
    "\n",
    "@time C = SCF(C_initial, system, 20000);"
   ]
  },
  {
   "cell_type": "code",
   "execution_count": null,
   "id": "cea225bc-09e8-42a4-8aec-86045091b5a7",
   "metadata": {},
   "outputs": [],
   "source": [
    "3.489390 seconds (360.00 k allocations: 945.435 MiB, 1.45% gc time)"
   ]
  },
  {
   "cell_type": "markdown",
   "id": "cc5aa016-a607-4667-aa26-ed4758968edb",
   "metadata": {},
   "source": [
    "## Results"
   ]
  },
  {
   "cell_type": "code",
   "execution_count": null,
   "id": "864c2462-4b5e-43e1-8f2c-44e8c515ab65",
   "metadata": {},
   "outputs": [],
   "source": [
    "ψ = [abs.(i).^2 for i in (system.spfs .* C[:, 1])] .+ [abs.(i).^2 for i in (system.spfs .* C[:, 2])]\n",
    "ψ = sum(ψ);\n",
    "\n",
    "x_trans, y_trans = imgplot(file     = \"Images/GS.PNG\",\n",
    "                           extent   = [-6, 6, 0, 0.4],\n",
    "                           imgalpha = 0.5,\n",
    "                           yticks   = [0, 0.05, 0.1, 0.15, 0.2, 0.25, 0.3, 0.35, 0.4],\n",
    "                           xticks   = [x for x in -6:2:6],\n",
    "                           )\n",
    "\n",
    "plt.plot!(x_trans.(grid), y_trans.(ψ))"
   ]
  },
  {
   "cell_type": "code",
   "execution_count": null,
   "id": "081e0b71-ef93-43f0-8584-82ea490a768a",
   "metadata": {},
   "outputs": [],
   "source": [
    "function expected_energy(C, system)\n",
    "    l = system.l\n",
    "    P = getP(C, system)\n",
    "    h = system.h\n",
    "    u = system.u\n",
    "    \n",
    "    energy = 0.0\n",
    "    for a in 1:l\n",
    "        for b in 1:l\n",
    "            @inbounds energy += P[b, a] * h[a, b]\n",
    "            for c in 1:l\n",
    "                for d in 1:l\n",
    "                    @inbounds energy += 0.5 * P[b, a] * P[d, c] * u[a, c, b, d]\n",
    "                end\n",
    "            end\n",
    "        end\n",
    "    end\n",
    "    return real(energy)\n",
    "end"
   ]
  },
  {
   "cell_type": "code",
   "execution_count": null,
   "id": "4e6abb4f-d05e-4b47-a998-8cb678cdf74a",
   "metadata": {},
   "outputs": [],
   "source": [
    "expected_energy(C, system)"
   ]
  },
  {
   "cell_type": "code",
   "execution_count": null,
   "id": "e42d9cd4-0d4e-4669-bab2-8f52c4b9003a",
   "metadata": {},
   "outputs": [],
   "source": []
  }
 ],
 "metadata": {
  "kernelspec": {
   "display_name": "Julia 1.7.2",
   "language": "julia",
   "name": "julia-1.7"
  },
  "language_info": {
   "file_extension": ".jl",
   "mimetype": "application/julia",
   "name": "julia",
   "version": "1.7.2"
  }
 },
 "nbformat": 4,
 "nbformat_minor": 5
}
