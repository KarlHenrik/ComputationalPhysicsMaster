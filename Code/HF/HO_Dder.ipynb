{
 "cells": [
  {
   "cell_type": "code",
   "execution_count": 1,
   "id": "e4e6c801-0755-4328-a633-ed531d770e4e",
   "metadata": {},
   "outputs": [],
   "source": [
    "using BenchmarkTools: @btime\n",
    "import LinearAlgebra as la"
   ]
  },
  {
   "cell_type": "code",
   "execution_count": 2,
   "id": "4215bdaf-b655-452e-8eba-1c51db14378b",
   "metadata": {},
   "outputs": [],
   "source": [
    "struct HO_Funcs\n",
    "    ω::Float64\n",
    "    hermites::Vector{Float64}\n",
    "    hos::Vector{Float64}\n",
    "    ho_dder::Vector{Float64}\n",
    "    \n",
    "    function HO_Funcs(l, ω)\n",
    "        hermites = zeros(l)\n",
    "        hermites[1] = 1.0\n",
    "        \n",
    "        hos = zeros(l)\n",
    "        ho_dder = zeros(l)\n",
    "        return new(ω, hermites, hos, ho_dder)\n",
    "    end\n",
    "end"
   ]
  },
  {
   "cell_type": "code",
   "execution_count": 3,
   "id": "56ad518b-7e19-4c1e-b189-6b001216c718",
   "metadata": {},
   "outputs": [
    {
     "data": {
      "text/plain": [
       "fast_ho_dder (generic function with 1 method)"
      ]
     },
     "execution_count": 3,
     "metadata": {},
     "output_type": "execute_result"
    }
   ],
   "source": [
    "function fast_ho_dder(x, ho)\n",
    "    ω, H_ξ, ψ_HO, ψ_HO_dder = ho.ω, ho.hermites, ho.hos, ho.ho_dder\n",
    "    \n",
    "    ψ_HO_dder[1] = ω * (ω * x^2 - 1) * ψ_HO[1]\n",
    "    ψ_HO_dder[2] = ω * ((ω * x^2 - 1) * ψ_HO[2] - √ω * x * 4 * ψ_HO[1])\n",
    "\n",
    "    for n in 2:length(ψ_HO)-1\n",
    "        ψ_HO_dder[n+1] = ω * ((ω * x^2 - 1) * ψ_HO[n+1] - √ω * x * 4n * ψ_HO[n] + 4 * (n-1)*n * ψ_HO[n - 1])\n",
    "    end\n",
    "    \n",
    "    return ψ_HO_dder\n",
    "end"
   ]
  },
  {
   "cell_type": "code",
   "execution_count": 10,
   "id": "7dc20cbb-e594-4c84-a5cf-34d457cd0073",
   "metadata": {},
   "outputs": [
    {
     "name": "stdout",
     "output_type": "stream",
     "text": [
      "  154.254 ns (0 allocations: 0 bytes)\n"
     ]
    }
   ],
   "source": [
    "@btime ψ_HO_dder = fast_ho_dder(x, ho);"
   ]
  },
  {
   "cell_type": "code",
   "execution_count": null,
   "id": "4dab206f-287a-40a3-8fe4-6f0e485c4acd",
   "metadata": {},
   "outputs": [],
   "source": []
  },
  {
   "cell_type": "code",
   "execution_count": null,
   "id": "c1bf884b-3b4e-4c8f-9085-726a10319699",
   "metadata": {},
   "outputs": [],
   "source": []
  },
  {
   "cell_type": "code",
   "execution_count": 11,
   "id": "1307bd6f-e805-49b9-b445-30df66b02ec5",
   "metadata": {},
   "outputs": [
    {
     "data": {
      "text/plain": [
       "fast_ho (generic function with 1 method)"
      ]
     },
     "execution_count": 11,
     "metadata": {},
     "output_type": "execute_result"
    }
   ],
   "source": [
    "function fast_ho(x, ho)\n",
    "    ω, H_ξ, ψ_HO, ψ_HO_dder = ho.ω, ho.hermites, ho.hos, ho.ho_dder\n",
    "    \n",
    "    ξ = √ω * x\n",
    "    H_ξ[1] = 1\n",
    "    H_ξ[2] = 2ξ\n",
    "    \n",
    "    ho_fac = (ω / π)^0.25 * exp(-ξ^2 / 2)\n",
    "    ψ_HO[1] = ho_fac * H_ξ[1]\n",
    "    ψ_HO_dder[1] = ho_fac * ω * ((ω * x^2 - 1) * H_ξ[1])\n",
    "    \n",
    "    ho_fac *= 1 / √2\n",
    "    ψ_HO[2] = ho_fac * H_ξ[2]\n",
    "    ψ_HO_dder[2] = ho_fac * ω * ((ω * x^2 - 1) * H_ξ[2] - √ω * x * 4 * H_ξ[1])\n",
    "\n",
    "    for n in 2:length(ψ_HO)-1\n",
    "        H_ξ[n+1] = 2ξ * H_ξ[n] - 2(n-1) * H_ξ[n-1]\n",
    "\n",
    "        ho_fac *= 1 / sqrt( 2n )\n",
    "        ψ_HO[n+1] = ho_fac * H_ξ[n+1]\n",
    "        ψ_HO_dder[n+1] = ho_fac * ω * ((ω * x^2 - 1) * H_ξ[n+1] - √ω * x * 4n * H_ξ[n] + 4 * (n-1)*n * H_ξ[n - 1])\n",
    "    end\n",
    "    \n",
    "    return ψ_HO, ψ_HO_dder\n",
    "end"
   ]
  },
  {
   "cell_type": "code",
   "execution_count": 12,
   "id": "d3a5e545-4e13-4d63-b80c-32bfa27210af",
   "metadata": {},
   "outputs": [],
   "source": [
    "l = 50\n",
    "ω = 0.25\n",
    "ho = HO_Funcs(l, ω);"
   ]
  },
  {
   "cell_type": "code",
   "execution_count": 13,
   "id": "6d3dd11b-9cc6-4696-aacb-d860d54c2394",
   "metadata": {},
   "outputs": [],
   "source": [
    "x = 8.1\n",
    "ψ_HO, ψ_HO_dder = fast_ho(x, ho);"
   ]
  },
  {
   "cell_type": "code",
   "execution_count": 15,
   "id": "d067a346-b07d-414e-9f5d-6198d20feff7",
   "metadata": {},
   "outputs": [
    {
     "name": "stdout",
     "output_type": "stream",
     "text": [
      "  349.309 ns (1 allocation: 32 bytes)\n"
     ]
    }
   ],
   "source": [
    "@btime ψ_HO, ψ_HO_dder = fast_ho(x, ho);"
   ]
  },
  {
   "cell_type": "code",
   "execution_count": null,
   "id": "938ff052-3eda-45a9-9304-3aa0db87f637",
   "metadata": {},
   "outputs": [],
   "source": []
  },
  {
   "cell_type": "code",
   "execution_count": null,
   "id": "f83d5cb3-6731-441c-af25-da645dff9b93",
   "metadata": {},
   "outputs": [],
   "source": []
  },
  {
   "cell_type": "code",
   "execution_count": 241,
   "id": "207be96b-c019-4a9e-9ea9-995011af95b2",
   "metadata": {},
   "outputs": [
    {
     "data": {
      "text/plain": [
       "ho_test (generic function with 1 method)"
      ]
     },
     "execution_count": 241,
     "metadata": {},
     "output_type": "execute_result"
    }
   ],
   "source": [
    "function ho_test(x)\n",
    "    n = 5\n",
    "    x = √ω * x\n",
    "    hermite = 32x^5 - 160x^3 + 120x\n",
    "    return (ω/π)^0.25 * 1 / sqrt(2^n * factorial(n)) * hermite * exp(-x^2/2)\n",
    "end"
   ]
  },
  {
   "cell_type": "code",
   "execution_count": 242,
   "id": "00f8205a-c983-4abc-9d9e-baa9410420c3",
   "metadata": {},
   "outputs": [],
   "source": [
    "import ForwardDiff as fd"
   ]
  },
  {
   "cell_type": "code",
   "execution_count": 243,
   "id": "d9ca135b-ad16-4142-9a55-446a67ccb4a4",
   "metadata": {},
   "outputs": [
    {
     "name": "stdout",
     "output_type": "stream",
     "text": [
      "0.0581314323587515\n",
      "0.05813143235875152\n"
     ]
    }
   ],
   "source": [
    "println(ho_test(8.1))\n",
    "println(ψ_HO[6])"
   ]
  },
  {
   "cell_type": "code",
   "execution_count": 244,
   "id": "cf1fe9e3-934d-458a-8772-9b3f0e2da5c8",
   "metadata": {},
   "outputs": [
    {
     "data": {
      "text/plain": [
       "0.07851376582953867"
      ]
     },
     "execution_count": 244,
     "metadata": {},
     "output_type": "execute_result"
    }
   ],
   "source": [
    "fd.derivative(x -> fd.derivative(ho_test, x), 8.1)"
   ]
  },
  {
   "cell_type": "code",
   "execution_count": 245,
   "id": "9371ca41-f082-4707-a3d9-d0eda8114f2a",
   "metadata": {},
   "outputs": [
    {
     "data": {
      "text/plain": [
       "0.07851376582953876"
      ]
     },
     "execution_count": 245,
     "metadata": {},
     "output_type": "execute_result"
    }
   ],
   "source": [
    "ψ_HO_dder[6]"
   ]
  },
  {
   "cell_type": "code",
   "execution_count": 246,
   "id": "886d829b-194e-4fe8-b935-5ec735a434b8",
   "metadata": {},
   "outputs": [
    {
     "data": {
      "text/plain": [
       "50-element Vector{Float64}:\n",
       "  0.0005610106947175589\n",
       "  0.002795990940600953\n",
       "  0.00934029097666905\n",
       "  0.023867492077149124\n",
       "  0.04856101035344266\n",
       "  0.07851376582953876\n",
       "  0.09524692095641227\n",
       "  0.06612135851419047\n",
       " -0.04139724039733315\n",
       " -0.22813140693393136\n",
       " -0.42915580566302036\n",
       " -0.5110467066417964\n",
       " -0.3327439087257611\n",
       "  ⋮\n",
       " -2.905488127663094\n",
       " -0.48138866465950403\n",
       "  2.6084385730990287\n",
       "  2.911340684868396\n",
       " -0.08652195993288064\n",
       " -3.127880932336111\n",
       " -2.686801388131804\n",
       "  0.9109446885618342\n",
       "  3.5937592397223894\n",
       "  2.131279871030662\n",
       " -1.935062436122154\n",
       " -3.8393761225775864"
      ]
     },
     "execution_count": 246,
     "metadata": {},
     "output_type": "execute_result"
    }
   ],
   "source": [
    "ψ_HO_dder"
   ]
  },
  {
   "cell_type": "code",
   "execution_count": null,
   "id": "228ff758-c602-49ae-b29e-1f8a9c713e24",
   "metadata": {},
   "outputs": [],
   "source": []
  }
 ],
 "metadata": {
  "kernelspec": {
   "display_name": "Julia 1.7.2",
   "language": "julia",
   "name": "julia-1.7"
  },
  "language_info": {
   "file_extension": ".jl",
   "mimetype": "application/julia",
   "name": "julia",
   "version": "1.7.2"
  }
 },
 "nbformat": 4,
 "nbformat_minor": 5
}
