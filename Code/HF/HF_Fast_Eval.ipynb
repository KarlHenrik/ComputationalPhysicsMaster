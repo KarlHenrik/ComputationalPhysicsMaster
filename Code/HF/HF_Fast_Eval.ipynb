{
 "cells": [
  {
   "cell_type": "code",
   "execution_count": 1,
   "id": "58ae7ba9-e8f5-4dfd-b460-5faa264d310e",
   "metadata": {},
   "outputs": [],
   "source": [
    "import LinearAlgebra as la\n",
    "using BenchmarkTools: @btime\n",
    "include(\"hoSystem.jl\");"
   ]
  },
  {
   "cell_type": "code",
   "execution_count": 2,
   "id": "87e6fbaa-5a6f-48ef-9f38-933c1a7a6498",
   "metadata": {},
   "outputs": [
    {
     "name": "stdout",
     "output_type": "stream",
     "text": [
      "  1.856910 seconds (5.13 M allocations: 277.252 MiB, 10.30% gc time, 90.86% compilation time)\n"
     ]
    }
   ],
   "source": [
    "l_0 = 10  # number of basis functions\n",
    "ω = 0.25  # strength of harmonic oscillator potential\n",
    "a = 0.25  # shielding term in coloumb interaction\n",
    "grid = [x for x in range(-10, stop = 10, length = 2001)]\n",
    "n = 2     # number of particles\n",
    "\n",
    "@time system = System(n, HOBasis(l_0, ω, a), grid);"
   ]
  },
  {
   "cell_type": "code",
   "execution_count": 3,
   "id": "eaca5cc0-180a-46aa-9d80-2253efaadafa",
   "metadata": {},
   "outputs": [],
   "source": [
    "# Stand-in for HF solution\n",
    "C = rand(system.l, system.l);"
   ]
  },
  {
   "cell_type": "code",
   "execution_count": 4,
   "id": "3673e750-ccd3-4542-a912-33f8d0d511a7",
   "metadata": {},
   "outputs": [
    {
     "data": {
      "text/plain": [
       "slow_ho (generic function with 1 method)"
      ]
     },
     "execution_count": 4,
     "metadata": {},
     "output_type": "execute_result"
    }
   ],
   "source": [
    "function slow_ho(results, x, basis)\n",
    "    for (j, ψ) in enumerate(basis.funcs)\n",
    "        results[j] = compute(x, ψ)\n",
    "    end\n",
    "    \n",
    "    return results\n",
    "end"
   ]
  },
  {
   "cell_type": "code",
   "execution_count": 5,
   "id": "fda03094-747d-4f61-9a55-49ff066685cc",
   "metadata": {},
   "outputs": [],
   "source": [
    "N = 50\n",
    "x = 10\n",
    "hos = zeros(N);\n",
    "hermites = zeros(N);"
   ]
  },
  {
   "cell_type": "code",
   "execution_count": 17,
   "id": "b42936e3-47d6-494b-a227-688264d5e839",
   "metadata": {},
   "outputs": [
    {
     "name": "stdout",
     "output_type": "stream",
     "text": [
      "  1.050 μs (0 allocations: 0 bytes)\n"
     ]
    }
   ],
   "source": [
    "basis = HOBasis(N, ω, a)\n",
    "slow = zeros(N);\n",
    "@btime slow_ho(slow, x, basis);"
   ]
  },
  {
   "cell_type": "code",
   "execution_count": 16,
   "id": "9e41666f-42b6-4321-b949-c302e8daa92f",
   "metadata": {},
   "outputs": [
    {
     "name": "stdout",
     "output_type": "stream",
     "text": [
      "  250.266 ns (0 allocations: 0 bytes)\n"
     ]
    }
   ],
   "source": [
    "fast = zeros(N);\n",
    "@btime fast_ho(fast, hermites, x, ω);"
   ]
  },
  {
   "cell_type": "code",
   "execution_count": 8,
   "id": "533eb035-d208-48f3-b637-e39fd8b79a93",
   "metadata": {},
   "outputs": [
    {
     "ename": "LoadError",
     "evalue": "UndefVarError: fast_ho_prob not defined",
     "output_type": "error",
     "traceback": [
      "UndefVarError: fast_ho_prob not defined",
      "",
      "Stacktrace:",
      " [1] top-level scope",
      "   @ In[8]:2",
      " [2] eval",
      "   @ .\\boot.jl:373 [inlined]",
      " [3] include_string(mapexpr::typeof(REPL.softscope), mod::Module, code::String, filename::String)",
      "   @ Base .\\loading.jl:1196"
     ]
    }
   ],
   "source": [
    "fast_prob = zeros(N);\n",
    "fast_prob = fast_ho_prob(fast_prob, hermites, x, ω);"
   ]
  },
  {
   "cell_type": "code",
   "execution_count": 9,
   "id": "558b9ad3-aa9f-41fb-a070-033923588527",
   "metadata": {},
   "outputs": [
    {
     "data": {
      "text/plain": [
       "fast_ho (generic function with 1 method)"
      ]
     },
     "execution_count": 9,
     "metadata": {},
     "output_type": "execute_result"
    }
   ],
   "source": [
    "function fast_ho(hos, hermites, x, ω)\n",
    "    x = √ω * x\n",
    "\n",
    "    hermites[1] = 1.0\n",
    "    hermites[2] = 2x\n",
    "\n",
    "    ho_fac = (ω / π)^0.25 * exp(-x^2 / 2)\n",
    "    hos[1] = ho_fac * hermites[1]\n",
    "    ho_fac *= 1 / √2\n",
    "    hos[2] = ho_fac * hermites[2]\n",
    "\n",
    "    for n in 3:length(hos)\n",
    "        hermites[n] = 2x * hermites[n-1] - 2(n - 2) * hermites[n-2]\n",
    "\n",
    "        ho_fac *= 1 / sqrt( 2(n - 1) )\n",
    "        hos[n] = ho_fac * hermites[n]\n",
    "    end\n",
    "    \n",
    "    return hos\n",
    "end"
   ]
  },
  {
   "cell_type": "code",
   "execution_count": 10,
   "id": "09e034e8-0045-4e22-b584-dc49d6b033ad",
   "metadata": {},
   "outputs": [
    {
     "data": {
      "text/plain": [
       "fast_ho_prob (generic function with 1 method)"
      ]
     },
     "execution_count": 10,
     "metadata": {},
     "output_type": "execute_result"
    }
   ],
   "source": [
    "function fast_ho_prob(hos, hermites, x, ω)\n",
    "    x = √ω * x\n",
    "    ho_fac = (ω / π)^0.25 * exp(-x^2 / 2)\n",
    "    x = √2 * x\n",
    "    \n",
    "    hermites[1] = 1.0\n",
    "    hermites[2] = x\n",
    "\n",
    "    hos[1] = ho_fac * hermites[1]\n",
    "    hos[2] = ho_fac * hermites[2]\n",
    "\n",
    "    for n in 3:length(hos)\n",
    "        hermites[n] = x * hermites[n-1] - (n - 2) * hermites[n-2]\n",
    "\n",
    "        ho_fac *= 1 / sqrt(n - 1)\n",
    "        hos[n] = ho_fac * hermites[n]\n",
    "    end\n",
    "    \n",
    "    return hos\n",
    "end"
   ]
  },
  {
   "cell_type": "code",
   "execution_count": null,
   "id": "eea164a7-f2ec-4c00-9b0d-fc1b91483cfc",
   "metadata": {},
   "outputs": [],
   "source": []
  },
  {
   "cell_type": "code",
   "execution_count": null,
   "id": "29f9c26a-cb2c-47bc-85d3-891ef3a35862",
   "metadata": {},
   "outputs": [],
   "source": []
  }
 ],
 "metadata": {
  "kernelspec": {
   "display_name": "Julia 1.7.2",
   "language": "julia",
   "name": "julia-1.7"
  },
  "language_info": {
   "file_extension": ".jl",
   "mimetype": "application/julia",
   "name": "julia",
   "version": "1.7.2"
  }
 },
 "nbformat": 4,
 "nbformat_minor": 5
}
