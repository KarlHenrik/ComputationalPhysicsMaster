{
 "cells": [
  {
   "cell_type": "markdown",
   "id": "13292071-5272-4d71-ae65-810d94cb735c",
   "metadata": {
    "tags": []
   },
   "source": [
    "# Code ideas"
   ]
  },
  {
   "cell_type": "markdown",
   "id": "f30291ff-071f-471f-adff-48d0e7b2869b",
   "metadata": {},
   "source": [
    "install stuff with\n",
    "\n",
    "    import Pkg\n",
    "    Pkg.add(\"Plots\")"
   ]
  },
  {
   "cell_type": "code",
   "execution_count": 2,
   "id": "7a32d0e3-0ff8-49b3-85a7-1b310475b8ef",
   "metadata": {},
   "outputs": [
    {
     "name": "stderr",
     "output_type": "stream",
     "text": [
      "WARNING: using BenchmarkTools.ratio in module Main conflicts with an existing identifier.\n"
     ]
    }
   ],
   "source": [
    "include(\"VMC/includeall.jl\")\n",
    "using Random\n",
    "using BenchmarkTools"
   ]
  },
  {
   "cell_type": "markdown",
   "id": "9fbe41ff-f6cd-45fd-993f-8ab7cf53522f",
   "metadata": {},
   "source": [
    "## Initialization"
   ]
  },
  {
   "cell_type": "code",
   "execution_count": 15,
   "id": "de9aa762-99a4-45b5-b89b-28cb7933c04e",
   "metadata": {},
   "outputs": [],
   "source": [
    "rng = Random.MersenneTwister(0)\n",
    "num = 10\n",
    "dims = 3\n",
    "particles = Particles(dims, num, rng, wf);"
   ]
  },
  {
   "cell_type": "markdown",
   "id": "50116f83-1b33-48d4-8f28-bfc6f8bb8acd",
   "metadata": {
    "tags": []
   },
   "source": [
    "## Wavefunctions"
   ]
  },
  {
   "cell_type": "markdown",
   "id": "a8ad39e8-d896-4744-a5ab-e265b8cbd957",
   "metadata": {},
   "source": [
    "Use seperate structs for seperate types of wavefunctions and use multiple dispatch to use the same set of function names for all wavefunctions."
   ]
  },
  {
   "cell_type": "code",
   "execution_count": 5,
   "id": "b305795e-f43c-4e9d-abb9-f1dee579f848",
   "metadata": {},
   "outputs": [],
   "source": [
    "HOshape = [1.0, 1.0, √8];"
   ]
  },
  {
   "cell_type": "code",
   "execution_count": 6,
   "id": "00f3baf9-0de9-46c2-9c07-f4ca27d86e00",
   "metadata": {},
   "outputs": [
    {
     "data": {
      "text/plain": [
       "SimpleGaussian{StaticArrays.SVector{3, Float64}}(0.5, [1.0, 1.0, 2.8284271247461903], [1.0, 1.0, 8.000000000000002])"
      ]
     },
     "execution_count": 6,
     "metadata": {},
     "output_type": "execute_result"
    }
   ],
   "source": [
    "wf = SimpleGaussian(0.5, HOshape)"
   ]
  },
  {
   "cell_type": "code",
   "execution_count": 3,
   "id": "39f49458-74e0-42fd-9199-52c1b77ef439",
   "metadata": {},
   "outputs": [
    {
     "data": {
      "text/plain": [
       "Correlated{StaticArrays.SVector{3, Float64}}(0.4, 0.0433, [1.0, 1.0, 1.0], [1.0, 1.0, 1.0])"
      ]
     },
     "execution_count": 3,
     "metadata": {},
     "output_type": "execute_result"
    }
   ],
   "source": [
    "wf = Correlated(0.4, 0.0433, HOshape)"
   ]
  },
  {
   "cell_type": "code",
   "execution_count": 20,
   "id": "5b8a1c8c-85fa-4d71-9965-771602b1d0f5",
   "metadata": {},
   "outputs": [
    {
     "name": "stdout",
     "output_type": "stream",
     "text": [
      "  35.045 ns (1 allocation: 16 bytes)\n"
     ]
    },
    {
     "data": {
      "text/plain": [
       "1.4752186872890891"
      ]
     },
     "execution_count": 20,
     "metadata": {},
     "output_type": "execute_result"
    }
   ],
   "source": [
    "old_pos = particles.positions[1].+0.5\n",
    "@btime ratio(particles, 1, old_pos, wf)"
   ]
  },
  {
   "cell_type": "code",
   "execution_count": null,
   "id": "b9dcc04c-f96b-426c-afe3-69b32a182fc6",
   "metadata": {},
   "outputs": [],
   "source": [
    "QF(positions, 1, wf)"
   ]
  },
  {
   "cell_type": "markdown",
   "id": "9bbb31c5-5b8c-40e4-a348-dc7985fa0084",
   "metadata": {
    "tags": []
   },
   "source": [
    "## Hamiltonians"
   ]
  },
  {
   "cell_type": "markdown",
   "id": "6e528483-6f21-4e6f-9777-f3ff48a22c07",
   "metadata": {},
   "source": [
    "Do the same thing as for wavefunctions."
   ]
  },
  {
   "cell_type": "code",
   "execution_count": null,
   "id": "29586cc1-ef61-4432-b9a6-5f89eca2dcda",
   "metadata": {},
   "outputs": [],
   "source": [
    "include(\"hamiltonians.jl\")"
   ]
  },
  {
   "cell_type": "code",
   "execution_count": 8,
   "id": "3f7b0d55-fed3-4448-97d7-9f1b1a6eac66",
   "metadata": {},
   "outputs": [
    {
     "data": {
      "text/plain": [
       "HarmonicOscillator{StaticArrays.SVector{3, Float64}}(0.36, [1.0, 1.0, 1.0])"
      ]
     },
     "execution_count": 8,
     "metadata": {},
     "output_type": "execute_result"
    }
   ],
   "source": [
    "ham = HarmonicOscillator(0.6, [1.0, 1.0, 1.0])"
   ]
  },
  {
   "cell_type": "code",
   "execution_count": 13,
   "id": "37c0bc27-f41d-474c-a4e1-00b1e726eabf",
   "metadata": {},
   "outputs": [
    {
     "name": "stdout",
     "output_type": "stream",
     "text": [
      "  33.199 ns (1 allocation: 16 bytes)\n"
     ]
    },
    {
     "data": {
      "text/plain": [
       "2.206457929853552"
      ]
     },
     "execution_count": 13,
     "metadata": {},
     "output_type": "execute_result"
    }
   ],
   "source": [
    "@btime potential(particles, ham)"
   ]
  },
  {
   "cell_type": "markdown",
   "id": "0f415b55-f6d1-4261-87c5-6ba2f3b45bef",
   "metadata": {},
   "source": [
    "## Sampler"
   ]
  },
  {
   "cell_type": "markdown",
   "id": "c35a45bd-376b-4c41-b055-df04407d02f1",
   "metadata": {},
   "source": [
    "The sampler should be a mutable struct with any shape for the parameter derivative."
   ]
  },
  {
   "cell_type": "code",
   "execution_count": null,
   "id": "635aab2e-5b9c-48cb-b79e-92eb1b23cab9",
   "metadata": {},
   "outputs": [],
   "source": [
    "include(\"sampler.jl\")"
   ]
  },
  {
   "cell_type": "code",
   "execution_count": null,
   "id": "dfc5a67f-9af5-4b75-b834-734b4ba6f148",
   "metadata": {},
   "outputs": [],
   "source": [
    "samples = Samples(wf)"
   ]
  },
  {
   "cell_type": "code",
   "execution_count": null,
   "id": "28d46ee1-2e40-4dad-a01f-744f7d31f82b",
   "metadata": {},
   "outputs": [],
   "source": [
    "sample!(samples, positions, wf, ham)\n",
    "samples"
   ]
  },
  {
   "cell_type": "markdown",
   "id": "efa9604f-877a-4239-ace8-b7fc44d0b65e",
   "metadata": {},
   "source": [
    "## Times"
   ]
  },
  {
   "cell_type": "code",
   "execution_count": null,
   "id": "2aee8ca3-3647-497e-a3a8-ac9437668b0e",
   "metadata": {},
   "outputs": [],
   "source": [
    "# correlated, importance - further optimizations\n",
    "5.068250 seconds (70.00 M allocations: 3.875 GiB, 19.14% gc time)"
   ]
  },
  {
   "cell_type": "code",
   "execution_count": null,
   "id": "139ca156-ec33-4f4a-8bc3-2dc1d26788ce",
   "metadata": {},
   "outputs": [],
   "source": [
    "# correlated, importance - switching to vectors of MVectors and writing out matrix operations\n",
    "9.633650 seconds (200.00 M allocations: 16.690 GiB, 44.44% gc time)"
   ]
  },
  {
   "cell_type": "code",
   "execution_count": null,
   "id": "7fc4a687-e2f0-4df9-bab5-b70df4b5003d",
   "metadata": {},
   "outputs": [],
   "source": [
    "44.047754 seconds (2.63 G allocations: 60.169 GiB, 34.77% gc time, 0.00% compilation time)"
   ]
  },
  {
   "cell_type": "code",
   "execution_count": null,
   "id": "f36e44da-39d6-4170-b178-4120930962d3",
   "metadata": {},
   "outputs": [],
   "source": [
    "# correlated, importance\n",
    "48.440489 seconds (2.83 G allocations: 63.164 GiB, 34.12% gc time, 0.00% compilation time)"
   ]
  },
  {
   "cell_type": "code",
   "execution_count": null,
   "id": "d9161825-d066-4a96-8158-f975e1b85293",
   "metadata": {},
   "outputs": [],
   "source": [
    "109.517566 seconds (4.11 G allocations: 197.784 GiB, 47.83% gc time, 0.66% compilation time)"
   ]
  },
  {
   "cell_type": "code",
   "execution_count": null,
   "id": "b2cbfea1-76c5-491d-816b-7527263e82b1",
   "metadata": {},
   "outputs": [],
   "source": [
    "112.990543 seconds (4.22 G allocations: 206.275 GiB, 48.09% gc time, 0.67% compilation time)"
   ]
  },
  {
   "cell_type": "code",
   "execution_count": null,
   "id": "3171c223-c1f9-412e-a981-da4eb1890ef3",
   "metadata": {},
   "outputs": [],
   "source": [
    "1e7/12"
   ]
  },
  {
   "cell_type": "code",
   "execution_count": null,
   "id": "970e94c1-2a0e-4968-b275-c2cc63584fc2",
   "metadata": {},
   "outputs": [],
   "source": [
    "importance\n",
    "11.540818 seconds (310.89 M allocations: 12.711 GiB, 27.59% gc time, 0.00% compilation time)"
   ]
  },
  {
   "cell_type": "code",
   "execution_count": null,
   "id": "8a5f48aa-a432-457e-8ab4-ddecdb00f0f7",
   "metadata": {},
   "outputs": [],
   "source": [
    "importance\n",
    "12.427354 seconds (330.00 M allocations: 14.753 GiB, 31.70% gc time)"
   ]
  },
  {
   "cell_type": "code",
   "execution_count": null,
   "id": "8bb18e1e-43f2-4e1c-be35-f8c3d7f26c23",
   "metadata": {},
   "outputs": [],
   "source": [
    "metro\n",
    "7.231149 seconds (190.27 M allocations: 6.125 GiB, 21.49% gc time, 1.00% compilation time)"
   ]
  },
  {
   "cell_type": "code",
   "execution_count": null,
   "id": "04c3c8ca-cb5f-40e8-91d5-7509beb22522",
   "metadata": {},
   "outputs": [],
   "source": [
    "metro\n",
    "7.739034 seconds (200.00 M allocations: 7.153 GiB, 24.25% gc time)"
   ]
  },
  {
   "cell_type": "code",
   "execution_count": null,
   "id": "c3c686bd-2c9b-4938-84c4-87aa53ce40e4",
   "metadata": {},
   "outputs": [],
   "source": [
    "HOshape = sa.@SVector [1.0, 1.0, 1.4]\n",
    "wf = Correlated(0.4, 0.01, HOshape)"
   ]
  },
  {
   "cell_type": "code",
   "execution_count": null,
   "id": "a65e7f63-978a-45d4-984d-729f029bc9cf",
   "metadata": {},
   "outputs": [],
   "source": [
    "wf2 = SimpleGaussian(0.4, HOshape)"
   ]
  },
  {
   "cell_type": "code",
   "execution_count": null,
   "id": "5c78cbce-a4fb-483f-8c54-bdb47fad3e91",
   "metadata": {},
   "outputs": [],
   "source": [
    "@time QF(positions, 1, wf2, temp_dim)"
   ]
  },
  {
   "cell_type": "code",
   "execution_count": null,
   "id": "81e36dec-287e-41be-8360-f098b06afc64",
   "metadata": {},
   "outputs": [],
   "source": [
    "@time QF(positions, 1, wf, temp_dim)"
   ]
  },
  {
   "cell_type": "code",
   "execution_count": null,
   "id": "fb154c42-34c1-4291-8cda-e7f4e6c0d908",
   "metadata": {},
   "outputs": [],
   "source": [
    "3-element Vector{Float64}:\n",
    " -1.0778540847860392\n",
    " -1.3543631323118932\n",
    "  1.5217131105308506"
   ]
  },
  {
   "cell_type": "code",
   "execution_count": null,
   "id": "daf2f0fd-1f4c-427b-bcaf-03632d651b9b",
   "metadata": {},
   "outputs": [],
   "source": [
    "0.000034 seconds (58 allocations: 3.641 KiB)"
   ]
  },
  {
   "cell_type": "markdown",
   "id": "7f3b99b3-c7b0-4602-a318-9bfbde4189f9",
   "metadata": {
    "tags": []
   },
   "source": [
    "## SArray"
   ]
  },
  {
   "cell_type": "markdown",
   "id": "cff0367f-61ae-496d-b64d-a55f0cb0348e",
   "metadata": {},
   "source": [
    "The particles are a dim x num [Static Array](https://github.com/JuliaArrays/StaticArrays.jl). If there are more than 100 elements, i.e 34 particles in 3D or 100 particles in 1D, normal arrays should be used instead. This should be benchmarked. Small arrays will be the focus of the masters anyway."
   ]
  },
  {
   "cell_type": "markdown",
   "id": "1a01466e-e830-47c1-85a8-2cb3d9e27ef9",
   "metadata": {},
   "source": [
    "The potential shape should maybe be an SVector."
   ]
  },
  {
   "cell_type": "code",
   "execution_count": null,
   "id": "09d3f85a-c15f-4c48-bc89-7c32aae8d4ca",
   "metadata": {},
   "outputs": [],
   "source": [
    "import StaticArrays as sa\n",
    "\n",
    "sa.SA[1, 2, 3]\n",
    "\n",
    "a = sa.SMatrix{3, 2, Float64}([[1, 2, 3] [4,5,6]])\n",
    "sa.@SVector [1.0, 1.0, 1.4]"
   ]
  },
  {
   "cell_type": "markdown",
   "id": "2baca45d-8c49-4870-bff8-6dee500a34f8",
   "metadata": {},
   "source": [
    "## Autograd"
   ]
  },
  {
   "cell_type": "markdown",
   "id": "984f1486-0fc7-4973-b659-9e42d1f5ddf5",
   "metadata": {},
   "source": [
    "Maybe use [ReverseDiff](https://github.com/JuliaDiff/ReverseDiff.jl) or [ForwardDiff](https://github.com/JuliaDiff/ForwardDiff.jl)? Which is faster depends on the number of input and output parameters and the number of operations and whether they are matrix operations. Some benchmarking is required."
   ]
  },
  {
   "cell_type": "code",
   "execution_count": null,
   "id": "eaf5590c-07a6-46f3-b1a3-33d827cd8fd2",
   "metadata": {},
   "outputs": [],
   "source": [
    "import ForwardDiff"
   ]
  },
  {
   "cell_type": "code",
   "execution_count": null,
   "id": "2a95fb01-fb32-429c-88b4-f4f74a42d544",
   "metadata": {},
   "outputs": [],
   "source": [
    "f(x::Vector) = sum(sin, x) + prod(tan, x) * sum(sqrt, x);\n",
    "\n",
    "x = rand(5)\n",
    "\n",
    "g = x -> ForwardDiff.gradient(f, x); # g = ∇f\n",
    "\n",
    "g(x)\n",
    "\n",
    "ForwardDiff.hessian(f, x)"
   ]
  },
  {
   "cell_type": "code",
   "execution_count": null,
   "id": "827b0752-b811-4278-b206-76dc3f0ef1e6",
   "metadata": {},
   "outputs": [],
   "source": []
  },
  {
   "cell_type": "code",
   "execution_count": null,
   "id": "bf706025-fbdd-48ea-ab7f-56225b1b70be",
   "metadata": {},
   "outputs": [],
   "source": []
  },
  {
   "cell_type": "code",
   "execution_count": null,
   "id": "90752381-cf8e-4634-8fed-92bfa36b1a70",
   "metadata": {},
   "outputs": [],
   "source": []
  }
 ],
 "metadata": {
  "kernelspec": {
   "display_name": "Julia 1.6.2",
   "language": "julia",
   "name": "julia-1.6"
  },
  "language_info": {
   "file_extension": ".jl",
   "mimetype": "application/julia",
   "name": "julia",
   "version": "1.6.2"
  }
 },
 "nbformat": 4,
 "nbformat_minor": 5
}
