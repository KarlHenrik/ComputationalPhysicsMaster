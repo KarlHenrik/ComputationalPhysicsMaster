{
 "cells": [
  {
   "cell_type": "code",
   "execution_count": 44,
   "id": "4d4633bf-aba9-45a0-9513-669356a7256a",
   "metadata": {},
   "outputs": [],
   "source": [
    "include(\"VMC/includeall.jl\")\n",
    "using BenchmarkTools: @btime\n",
    "using Plots"
   ]
  },
  {
   "cell_type": "code",
   "execution_count": 52,
   "id": "8999edb6-d7bf-441a-a5f5-982e6cba3d53",
   "metadata": {},
   "outputs": [
    {
     "data": {
      "text/plain": [
       "12"
      ]
     },
     "execution_count": 52,
     "metadata": {},
     "output_type": "execute_result"
    }
   ],
   "source": [
    "# Setting up the physical parameters for the system\n",
    "dims = 3\n",
    "num = 10\n",
    "HOshape = [1, 1, 1]\n",
    "#wf = Correlated(0.5, 0.00433, HOshape)\n",
    "wf = SimpleGaussian(0.1, HOshape)\n",
    "ham = HarmonicOscillator(1, HOshape)\n",
    "\n",
    "# Setting up the sampling algorithm\n",
    "metro = Importance(1e4, 1e7, 0.1)\n",
    "#metro = Metropolis(1e4, 1e6, 0.1)\n",
    "\n",
    "# Setting the optimization or statistical run scheme\n",
    "# This decides what extra calculations are done after the vmc calculation, and what values are sampled during\n",
    "#scheme = Adam(lr = 0.001, β₁ = 0.9, β₂ = 0.999, ϵ = 1e-08, maxiter = 1, tol = 1e-6)\n",
    "scheme = GradientDescent(lr = 0.01, maxiter = 1, tol = 1e-6)\n",
    "#scheme = Blocking()\n",
    "#scheme = OneBody(dims, num, start = 0, stop = 4, length = 51)\n",
    "\n",
    "nthreads = 12"
   ]
  },
  {
   "cell_type": "code",
   "execution_count": 53,
   "id": "7e677beb-aa9f-49a8-96dd-25677410f1b2",
   "metadata": {},
   "outputs": [
    {
     "name": "stdout",
     "output_type": "stream",
     "text": [
      "  1.841503 seconds (80.72 M allocations: 3.909 GiB, 52.63% gc time)\n"
     ]
    }
   ],
   "source": [
    "@time results, wfs = run_scheme(wf, ham, metro, dims, num, nthreads, scheme);"
   ]
  },
  {
   "cell_type": "code",
   "execution_count": 41,
   "id": "8543292c-9ced-4a33-9e7c-6c7b532b1b73",
   "metadata": {},
   "outputs": [
    {
     "name": "stdout",
     "output_type": "stream",
     "text": [
      "GradientResult{Float64}(15.694717299618784, 5.362625792056279, 275.0819065005804, 8.363067543371017e-6)\n",
      "0.47714479104374496"
     ]
    }
   ],
   "source": [
    "println(results[end])\n",
    "print(wfs[end].alpha)"
   ]
  },
  {
   "cell_type": "code",
   "execution_count": null,
   "id": "5f39e95b-aec7-472e-8f8e-a15c654d3199",
   "metadata": {},
   "outputs": [],
   "source": []
  }
 ],
 "metadata": {
  "kernelspec": {
   "display_name": "Julia 1.6.2",
   "language": "julia",
   "name": "julia-1.6"
  },
  "language_info": {
   "file_extension": ".jl",
   "mimetype": "application/julia",
   "name": "julia",
   "version": "1.6.2"
  }
 },
 "nbformat": 4,
 "nbformat_minor": 5
}
