{
 "cells": [
  {
   "cell_type": "code",
   "execution_count": 1,
   "id": "58ae7ba9-e8f5-4dfd-b460-5faa264d310e",
   "metadata": {},
   "outputs": [],
   "source": [
    "import LinearAlgebra as la\n",
    "using BenchmarkTools: @btime\n",
    "include(\"hoSystem.jl\");"
   ]
  },
  {
   "cell_type": "code",
   "execution_count": 2,
   "id": "87e6fbaa-5a6f-48ef-9f38-933c1a7a6498",
   "metadata": {},
   "outputs": [
    {
     "name": "stdout",
     "output_type": "stream",
     "text": [
      "  4.068439 seconds (5.05 M allocations: 298.618 MiB, 4.59% gc time, 8.17% compilation time)\n"
     ]
    }
   ],
   "source": [
    "l_0 = 10  # number of basis functions\n",
    "ω = 0.25  # strength of harmonic oscillator potential\n",
    "a = 0.25  # shielding term in coloumb interaction\n",
    "grid = [x for x in range(-10, stop = 10, length = 2001)]\n",
    "n = 2     # number of particles\n",
    "\n",
    "@time system = System(n, HOBasis(l_0, ω, a), grid);"
   ]
  },
  {
   "cell_type": "code",
   "execution_count": 5,
   "id": "eaca5cc0-180a-46aa-9d80-2253efaadafa",
   "metadata": {},
   "outputs": [],
   "source": [
    "# Stand-in for HF solution\n",
    "C = rand(system.l, system.l);"
   ]
  },
  {
   "cell_type": "code",
   "execution_count": 13,
   "id": "3e338571-fd4c-452a-8bc2-fa534ef624ca",
   "metadata": {},
   "outputs": [],
   "source": [
    "results = zeros(system.l, n);\n",
    "x = [0.314159276, 0.2718281828]\n",
    "for (i, xi) in enumerate(x)\n",
    "    for (j, ψ) in enumerate(system.basis.funcs)\n",
    "        results[j, i] = compute(xi, ψ)\n",
    "    end\n",
    "end"
   ]
  },
  {
   "cell_type": "code",
   "execution_count": 14,
   "id": "37be6195-574f-44c7-b4c6-30b7179fb716",
   "metadata": {},
   "outputs": [
    {
     "data": {
      "text/plain": [
       "20×2 Matrix{Float64}:\n",
       "  0.524614   0.526243\n",
       "  0.11654    0.10115\n",
       " -0.352652  -0.358362\n",
       " -0.140384  -0.122357\n",
       "  0.289813   0.298592\n",
       "  0.154355   0.135106\n",
       " -0.250563  -0.261974\n",
       " -0.163943  -0.144116\n",
       "  0.221504   0.23526\n",
       "  0.170969   0.150948\n",
       "  0.0        0.0\n",
       "  0.0        0.0\n",
       "  0.0        0.0\n",
       "  0.0        0.0\n",
       "  0.0        0.0\n",
       "  0.0        0.0\n",
       "  0.0        0.0\n",
       "  0.0        0.0\n",
       "  0.0        0.0\n",
       "  0.0        0.0"
      ]
     },
     "execution_count": 14,
     "metadata": {},
     "output_type": "execute_result"
    }
   ],
   "source": [
    "results"
   ]
  },
  {
   "cell_type": "code",
   "execution_count": null,
   "id": "fda03094-747d-4f61-9a55-49ff066685cc",
   "metadata": {},
   "outputs": [],
   "source": []
  }
 ],
 "metadata": {
  "kernelspec": {
   "display_name": "Julia 1.6.2",
   "language": "julia",
   "name": "julia-1.6"
  },
  "language_info": {
   "file_extension": ".jl",
   "mimetype": "application/julia",
   "name": "julia",
   "version": "1.6.2"
  }
 },
 "nbformat": 4,
 "nbformat_minor": 5
}
