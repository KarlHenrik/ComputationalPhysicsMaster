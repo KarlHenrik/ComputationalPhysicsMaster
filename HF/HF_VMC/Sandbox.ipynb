{
 "cells": [
  {
   "cell_type": "code",
   "execution_count": 2,
   "id": "37d9292b-c4de-4650-b9ed-79d750fff39f",
   "metadata": {},
   "outputs": [],
   "source": [
    "import LinearAlgebra as la\n",
    "import StaticArrays as sa\n",
    "import Random\n",
    "import Statistics"
   ]
  },
  {
   "cell_type": "code",
   "execution_count": 3,
   "id": "ffdd83d6-e791-4039-8dcd-8ddf545b3ab2",
   "metadata": {},
   "outputs": [],
   "source": [
    "include(\"Wavefunctions/wavefunctions.jl\") # Computes ratio, QF, parameter derivative, kinetic energy (WaveFunction)\n",
    "include(\"hamiltonians.jl\") # Computes potential energy (Hamiltonian)\n",
    "include(\"system.jl\")"
   ]
  },
  {
   "cell_type": "code",
   "execution_count": 10,
   "id": "5383872a-b192-41e3-a492-5fb013eb35b7",
   "metadata": {},
   "outputs": [
    {
     "data": {
      "text/plain": [
       "12"
      ]
     },
     "execution_count": 10,
     "metadata": {},
     "output_type": "execute_result"
    }
   ],
   "source": [
    "# Setting up the physical parameters for the system\n",
    "dims = 2\n",
    "num = 2\n",
    "wf = RBM(dims * num, 16, 1, Random.MersenneTwister())\n",
    "ham = HORepulsion(1);\n",
    "system = System(dims, num, wf, ham)\n",
    "\n",
    "nthreads = 12"
   ]
  },
  {
   "cell_type": "code",
   "execution_count": 3,
   "id": "eac44d69-bfb1-4b66-b64e-d4e05f413f40",
   "metadata": {},
   "outputs": [
    {
     "data": {
      "text/plain": [
       "GradientDescent(0.0005, 100, 1.0e-9)"
      ]
     },
     "execution_count": 3,
     "metadata": {},
     "output_type": "execute_result"
    }
   ],
   "source": [
    "# Setting up the sampling algorithm\n",
    "metro = Importance(1e3, 1e4, 0.1)\n",
    "#metro = Metropolis(1e5, 1e6, 0.01)\n",
    "\n",
    "# Setting the optimization or statistical run scheme\n",
    "# This decides what extra calculations are done after the vmc calculation, and what values are sampled during\n",
    "scheme = GradientDescent(lr = 0.0005, maxiter = 100, tol = 1e-9)\n",
    "#scheme = Blocking()\n",
    "#scheme = OneBody(dims, num, start = 0, stop = 4, length = 51) # TODO remove dims and num need"
   ]
  },
  {
   "cell_type": "code",
   "execution_count": 4,
   "id": "0dfbc544-4103-47ba-8caf-c32e15ffe642",
   "metadata": {},
   "outputs": [
    {
     "name": "stdout",
     "output_type": "stream",
     "text": [
      "E = 5.062 iter = 100/100                         6.665254 seconds (34.98 M allocations: 5.521 GiB, 17.59% gc time, 31.35% compilation time)\n"
     ]
    }
   ],
   "source": [
    "@time results1, wfs = run_scheme(scheme, system, metro, nthreads);\n",
    "wf = wfs[end];"
   ]
  },
  {
   "cell_type": "code",
   "execution_count": null,
   "id": "6308200d-49d0-4e5d-b5b5-dee3670391c1",
   "metadata": {},
   "outputs": [],
   "source": []
  }
 ],
 "metadata": {
  "kernelspec": {
   "display_name": "Julia 1.6.2",
   "language": "julia",
   "name": "julia-1.6"
  },
  "language_info": {
   "file_extension": ".jl",
   "mimetype": "application/julia",
   "name": "julia",
   "version": "1.6.2"
  }
 },
 "nbformat": 4,
 "nbformat_minor": 5
}
