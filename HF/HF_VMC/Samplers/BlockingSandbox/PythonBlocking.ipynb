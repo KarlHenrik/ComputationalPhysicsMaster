{
 "cells": [
  {
   "cell_type": "code",
   "execution_count": 6,
   "id": "4a190cfb-a08a-4883-9472-e2a354754c60",
   "metadata": {},
   "outputs": [],
   "source": [
    "import numpy as np\n",
    "import time"
   ]
  },
  {
   "cell_type": "code",
   "execution_count": 122,
   "id": "824dc5cc-eda1-4c37-ab35-3cf7f71283b0",
   "metadata": {},
   "outputs": [],
   "source": [
    "samples = np.random.randn(100000)"
   ]
  },
  {
   "cell_type": "code",
   "execution_count": 126,
   "id": "80ce1a7e-8954-43bf-89f9-c16412878fa9",
   "metadata": {},
   "outputs": [
    {
     "name": "stdout",
     "output_type": "stream",
     "text": [
      "Runtime:  0.003002644 seconds\n",
      "Mean: -0.00020, Iterations: 2, STD.  0.00315\n"
     ]
    },
    {
     "data": {
      "text/plain": [
       "0.9952696463119902"
      ]
     },
     "execution_count": 126,
     "metadata": {},
     "output_type": "execute_result"
    }
   ],
   "source": [
    "block(samples)**0.5 * 100000**0.5"
   ]
  },
  {
   "cell_type": "code",
   "execution_count": 123,
   "id": "1dfd0dd9-9ae3-4654-b85a-c50c10cb9d42",
   "metadata": {},
   "outputs": [
    {
     "data": {
      "text/plain": [
       "0.9971272454377285"
      ]
     },
     "execution_count": 123,
     "metadata": {},
     "output_type": "execute_result"
    }
   ],
   "source": [
    "np.std(samples)"
   ]
  },
  {
   "cell_type": "code",
   "execution_count": 125,
   "id": "4e250c78-473d-450c-b036-62834a8f9542",
   "metadata": {},
   "outputs": [
    {
     "name": "stdout",
     "output_type": "stream",
     "text": [
      "Runtime:  0.003990412 seconds\n",
      "Mean: -0.00020, Iterations: 2, STD.  0.00315\n"
     ]
    },
    {
     "data": {
      "text/plain": [
       "9.905616688699939e-06"
      ]
     },
     "execution_count": 125,
     "metadata": {},
     "output_type": "execute_result"
    }
   ],
   "source": [
    "block(samples)"
   ]
  },
  {
   "cell_type": "code",
   "execution_count": 113,
   "id": "b6858423-2373-454a-9e6a-96e5efd7c981",
   "metadata": {},
   "outputs": [],
   "source": [
    "def blocking(data, blockSizeMax = 500):\n",
    "    blockSizeMin = 1\n",
    "\n",
    "    blockSizes = []\n",
    "    meanVec = []\n",
    "    varVec = []\n",
    "\n",
    "    for i in range(blockSizeMin, blockSizeMax):\n",
    "        if(len(data) % i != 0):\n",
    "            pass#continue\n",
    "        blockSize = i\n",
    "        meanTempVec = []\n",
    "        varTempVec = []\n",
    "        startPoint = 0\n",
    "        endPoint = blockSize\n",
    "\n",
    "        while endPoint <= len(data):\n",
    "            meanTempVec.append(np.average(data[startPoint:endPoint]))\n",
    "            startPoint = endPoint\n",
    "            endPoint += blockSize\n",
    "        mean, var = np.average(meanTempVec), np.var(meanTempVec)/len(meanTempVec)\n",
    "        meanVec.append(mean)\n",
    "        varVec.append(var)\n",
    "        blockSizes.append(blockSize)\n",
    "\n",
    "    blockingAvg = np.average(meanVec[-200:])\n",
    "    blockingVar = (np.average(varVec[-200:]))\n",
    "    blockingStd = np.sqrt(blockingVar)\n",
    "    return blockingStd"
   ]
  },
  {
   "cell_type": "code",
   "execution_count": 92,
   "id": "abf22c44-37d4-49e9-b167-55700268e08e",
   "metadata": {},
   "outputs": [],
   "source": [
    "def block(x):\n",
    "    n = len(x)\n",
    "    d = np.log2(n)\n",
    "    s = np.zeros(int(d))\n",
    "    gamma = np.zeros(int(d))\n",
    "    mu = np.mean(x)\n",
    "    start_time = time.time()\n",
    "\n",
    "    # Auto-covariance and variances for each blocking transformation\n",
    "    for i in range(int(d)):\n",
    "\n",
    "        # n changes in length\n",
    "        n = len(x)\n",
    "\n",
    "        # Autocovariance of x\n",
    "        gamma[i] = (1/n) * np.sum((x[0:n-1] - mu)*(x[1:n] - mu))\n",
    "\n",
    "        # Variance of x\n",
    "        s[i] = np.var(x)\n",
    "\n",
    "        # We might get a situaion where the array is not easily split in two equal sizes\n",
    "        x_1 = x[0::2] # Extracting all numbers at odd positions\n",
    "        x_2 = x[1::2] # Numbers at even positions\n",
    "        # If length is not equal, remove highest number\n",
    "        if (len(x_1) > len(x_2)):\n",
    "            x_1 = x_1[:-1]\n",
    "        elif (len(x_2) > len(x_1)):\n",
    "            x_2 = x_2[:-1]\n",
    "\n",
    "        # Blocking transformation\n",
    "        x = 0.5*(x_1 + x_2)\n",
    "\n",
    "    # Test observator from theorem (chi^2-distributed)\n",
    "    factor_1 = (gamma/s)**2\n",
    "    factor_2 = 2**np.arange(1, d+1)\n",
    "    # Do the same length check again\n",
    "    if (len(factor_1) > len(factor_2)):\n",
    "        factor_1 = factor_1[:-1]\n",
    "    elif (len(factor_2) > len(factor_1)):\n",
    "        factor_2 = factor_2[:-1]\n",
    "\n",
    "    M = (np.cumsum((factor_1 * factor_2[::-1])[::-1]))[::-1]\n",
    "\n",
    "    # Test percentiles\n",
    "    q = np.array([6.634897,9.210340, 11.344867, 13.276704, 15.086272,\\\n",
    "            16.811894, 18.475307, 20.090235, 21.665994, 23.209251,\\\n",
    "            24.724970, 26.216967, 27.688250, 29.141238, 30.577914,\\\n",
    "            31.999927, 33.408664, 34.805306, 36.190869, 37.566235,\\\n",
    "            38.932173, 40.289360, 41.638398, 42.979820, 44.314105,\\\n",
    "            45.641683, 46.962942, 48.278236, 49.587884, 50.892181])\n",
    "\n",
    "    # The actual Chi squared test - should we have stopped blocking?\n",
    "    for k in range(0, int(d)):\n",
    "        if (M[k] < q[k]):\n",
    "            break\n",
    "        if (k >= d-1):\n",
    "            print(\"More data is needed!\")\n",
    "    \n",
    "    result = s[k] / 2**(d-k)\n",
    "\n",
    "    print(\"Runtime: {:12.9f} seconds\".format(time.time() - start_time))\n",
    "    print(\"Mean: {:8.5f}, Iterations: {}, STD. {:8.5f}\".format(mu, k, result**.5))\n",
    "\n",
    "    return result"
   ]
  },
  {
   "cell_type": "code",
   "execution_count": null,
   "id": "d45d18c2-d40d-4154-9ed6-c9e407bf7ca8",
   "metadata": {},
   "outputs": [],
   "source": []
  }
 ],
 "metadata": {
  "kernelspec": {
   "display_name": "Python 3 (ipykernel)",
   "language": "python",
   "name": "python3"
  },
  "language_info": {
   "codemirror_mode": {
    "name": "ipython",
    "version": 3
   },
   "file_extension": ".py",
   "mimetype": "text/x-python",
   "name": "python",
   "nbconvert_exporter": "python",
   "pygments_lexer": "ipython3",
   "version": "3.9.5"
  }
 },
 "nbformat": 4,
 "nbformat_minor": 5
}
