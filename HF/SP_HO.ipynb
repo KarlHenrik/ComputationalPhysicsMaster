{
 "cells": [
  {
   "cell_type": "code",
   "execution_count": 5,
   "id": "65ca5bc6-594a-4514-9de9-1ca941b8f426",
   "metadata": {},
   "outputs": [],
   "source": [
    "using BenchmarkTools: @btime\n",
    "import SpecialPolynomials as sp\n",
    "import PyPlot as plt"
   ]
  },
  {
   "cell_type": "code",
   "execution_count": 6,
   "id": "79d709a9-2258-4aa0-b51c-46cd8691e495",
   "metadata": {},
   "outputs": [],
   "source": [
    "struct HO{T, V}\n",
    "    hermite::T\n",
    "    ω::Float64\n",
    "    factors::V\n",
    "    function HO(l, ω)\n",
    "        factors = [(ω / π)^0.25 / √(2^n * factorial(n)) for n in 0:l-1]\n",
    "        hermite = [sp.basis(sp.Hermite, n) for n in 0:l-1]\n",
    "        return new{typeof(hermite), typeof(factors)}(hermite, ω, factors)\n",
    "    end\n",
    "end"
   ]
  },
  {
   "cell_type": "code",
   "execution_count": 7,
   "id": "02732b0c-6ed9-4a40-9d71-ebf81deb5798",
   "metadata": {},
   "outputs": [],
   "source": [
    "ω = 0.25\n",
    "basis = HO(8, ω);"
   ]
  },
  {
   "cell_type": "code",
   "execution_count": 8,
   "id": "5c973ec4-525b-4ff0-849f-e3fc21eb6184",
   "metadata": {},
   "outputs": [
    {
     "data": {
      "text/plain": [
       "ho (generic function with 1 method)"
      ]
     },
     "execution_count": 8,
     "metadata": {},
     "output_type": "execute_result"
    }
   ],
   "source": [
    "function ho(n, x, basis)\n",
    "    ξ = √basis.ω * x\n",
    "    basis.factors[n+1] * basis.hermite[n+1](ξ) * exp(-ξ^2 / 2)\n",
    "end"
   ]
  },
  {
   "cell_type": "code",
   "execution_count": 9,
   "id": "0abe6db7-4392-4f73-ba66-4f8750a4b7b0",
   "metadata": {},
   "outputs": [
    {
     "name": "stdout",
     "output_type": "stream",
     "text": [
      "  89.917 ns (6 allocations: 96 bytes)\n"
     ]
    },
    {
     "data": {
      "text/plain": [
       "-0.1344001761701424"
      ]
     },
     "execution_count": 9,
     "metadata": {},
     "output_type": "execute_result"
    }
   ],
   "source": [
    "@btime ho(3, 0.3, basis)"
   ]
  },
  {
   "cell_type": "code",
   "execution_count": 10,
   "id": "9f8fe562-0e88-433c-928c-946a9163da9c",
   "metadata": {},
   "outputs": [
    {
     "data": {
      "text/plain": [
       "876.0"
      ]
     },
     "execution_count": 10,
     "metadata": {},
     "output_type": "execute_result"
    }
   ],
   "source": [
    "H = [sp.basis(sp.Hermite, i) for i in 0:30]\n",
    "\n",
    "n = 3 + 1\n",
    "H[n + 1](3.0)"
   ]
  },
  {
   "cell_type": "code",
   "execution_count": 11,
   "id": "161df299-c0d3-4250-9175-5ee23af08459",
   "metadata": {},
   "outputs": [
    {
     "data": {
      "text/plain": [
       "ho (generic function with 1 method)"
      ]
     },
     "execution_count": 11,
     "metadata": {},
     "output_type": "execute_result"
    }
   ],
   "source": [
    "function ho(n, x, H)\n",
    "    x = √ω * x\n",
    "    (ω / π)^0.25 / √(2^n * factorial(n)) * H(x) * exp(-x^2 / 2)\n",
    "end"
   ]
  },
  {
   "cell_type": "code",
   "execution_count": 12,
   "id": "b9e1d5b1-939f-45e0-8484-56889b695ea4",
   "metadata": {},
   "outputs": [
    {
     "name": "stdout",
     "output_type": "stream",
     "text": [
      "  291.051 ns (14 allocations: 224 bytes)\n"
     ]
    },
    {
     "data": {
      "text/plain": [
       "-0.1344001761701424"
      ]
     },
     "execution_count": 12,
     "metadata": {},
     "output_type": "execute_result"
    }
   ],
   "source": [
    "@btime ho(3, 0.3, H[4])"
   ]
  },
  {
   "cell_type": "code",
   "execution_count": null,
   "id": "06bde919-2558-42d7-b3cf-8c5e4230df11",
   "metadata": {},
   "outputs": [],
   "source": [
    "function E_n(n)\n",
    "    return (n + 1/2) * ω\n",
    "end"
   ]
  },
  {
   "cell_type": "code",
   "execution_count": null,
   "id": "b6836fff-66d8-401b-9f7a-ac763fa0a482",
   "metadata": {},
   "outputs": [],
   "source": [
    "x = [i for i in -10:20/2000:10];"
   ]
  },
  {
   "cell_type": "code",
   "execution_count": null,
   "id": "b2071536-3fd6-46f4-b6fc-018094859524",
   "metadata": {},
   "outputs": [],
   "source": [
    "plt.figure(figsize=(8, 6))\n",
    "plt.plot(x, 0.5 .* ω.^2 .* x.^2, lw = 1)\n",
    "for n in 0:9\n",
    "    plt.plot(x, E_n(n) .+ ho.(n, x, H[n + 1]).^2, lw = 1, label = \"\\$\\\\psi_{$n}\\$\")\n",
    "end\n",
    "plt.xlabel(\"x\")\n",
    "plt.ylabel(\"Energy + \\$|ψ_{μ}|^2\\$\")\n",
    "plt.title(\"Harmonic oscillator basis functions\")\n",
    "plt.grid()\n",
    "plt.legend();"
   ]
  },
  {
   "cell_type": "code",
   "execution_count": null,
   "id": "16c78758-faee-43a7-bd74-ce35ec585e1a",
   "metadata": {},
   "outputs": [],
   "source": []
  }
 ],
 "metadata": {
  "kernelspec": {
   "display_name": "Julia 1.6.2",
   "language": "julia",
   "name": "julia-1.6"
  },
  "language_info": {
   "file_extension": ".jl",
   "mimetype": "application/julia",
   "name": "julia",
   "version": "1.6.2"
  }
 },
 "nbformat": 4,
 "nbformat_minor": 5
}
