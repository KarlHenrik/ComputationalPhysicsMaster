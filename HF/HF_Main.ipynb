{
 "cells": [
  {
   "cell_type": "code",
   "execution_count": 3,
   "id": "f6f425ea-1db1-4a82-8a83-202e37dfa4e0",
   "metadata": {},
   "outputs": [],
   "source": [
    "import LinearAlgebra as la\n",
    "using BenchmarkTools: @btime\n",
    "include(\"hoSystem.jl\");"
   ]
  },
  {
   "cell_type": "code",
   "execution_count": 6,
   "id": "d2cf5ed7-9d51-4f73-8909-765e9d87f58c",
   "metadata": {},
   "outputs": [
    {
     "name": "stdout",
     "output_type": "stream",
     "text": [
      "  0.107007 seconds (1.66 k allocations: 7.145 MiB)\n"
     ]
    }
   ],
   "source": [
    "l_0 = 10   # number of basis functions\n",
    "ω = 0.25  # strength of harmonic oscillator potential\n",
    "a = 0.25  # shielding term in coloumb interaction\n",
    "grid = [x for x in range(-10, stop = 10, length = 2001)]\n",
    "n = 2     # number of particles\n",
    "\n",
    "@time system = System(n, HOBasis(l_0, ω, a), grid);"
   ]
  },
  {
   "cell_type": "code",
   "execution_count": null,
   "id": "cc228e79-64fb-4040-ba90-0b784f8e1dfe",
   "metadata": {},
   "outputs": [],
   "source": []
  },
  {
   "cell_type": "code",
   "execution_count": null,
   "id": "677cac01-cd38-45a2-a771-3d1bf3af52e2",
   "metadata": {},
   "outputs": [],
   "source": []
  },
  {
   "cell_type": "code",
   "execution_count": null,
   "id": "21696a8d-3018-468d-8815-7c236f40c9d5",
   "metadata": {},
   "outputs": [],
   "source": [
    "@time inner_ints(system.spfs, system.grid, system.basis.a);"
   ]
  },
  {
   "cell_type": "code",
   "execution_count": null,
   "id": "39465dd5-4967-4cc8-bee7-4374a2c4dcd0",
   "metadata": {},
   "outputs": [],
   "source": []
  },
  {
   "cell_type": "code",
   "execution_count": null,
   "id": "e7e672c6-45d2-4f83-b703-a4704b87b939",
   "metadata": {},
   "outputs": [],
   "source": []
  },
  {
   "cell_type": "code",
   "execution_count": null,
   "id": "22553121-8bf0-4ebe-9d6a-b6161ec0941b",
   "metadata": {},
   "outputs": [],
   "source": [
    "function getP(C, n)\n",
    "    l = size(C)[1]\n",
    "    P = ComplexF64.(la.zeros((l, l)))\n",
    "    \n",
    "    for a in 1:l\n",
    "        for b in 1:l\n",
    "            for i in 1:n\n",
    "                P[b, a] += conj(C[a, i]) * C[b, i]\n",
    "            end\n",
    "        end\n",
    "    end\n",
    "    return P\n",
    "end\n",
    "\n",
    "function getF(C, h, u, n)\n",
    "    l = size(C)[1]\n",
    "    F = ComplexF64.(la.zeros((l, l)))\n",
    "    P = getP(C, n)\n",
    "    \n",
    "    F .+= h\n",
    "    for a in 1:l\n",
    "        for b in 1:l\n",
    "            for c in 1:l\n",
    "                for d in 1:l\n",
    "                    F[a, b] += P[d, c] * u[a, c, b, d]\n",
    "                end\n",
    "            end\n",
    "        end\n",
    "    end\n",
    "    return F\n",
    "end"
   ]
  },
  {
   "cell_type": "code",
   "execution_count": null,
   "id": "9836a167-41f6-46ff-a375-1a7f2242490c",
   "metadata": {},
   "outputs": [],
   "source": [
    "function SCF(C, system, iters)\n",
    "    for i in 1:iters\n",
    "        F = getF(C, system.h, system.u, system.n)\n",
    "        C = la.eigvecs(F)\n",
    "    end\n",
    "    return C\n",
    "end"
   ]
  },
  {
   "cell_type": "code",
   "execution_count": null,
   "id": "b7f409f7-70ac-4808-8f24-f51800766929",
   "metadata": {},
   "outputs": [],
   "source": [
    "C_initial = ComplexF64.(la.I(system.l))\n",
    "\n",
    "C = SCF(C_initial, system, 20);\n",
    "#C_GHF = SCF(C_initial, system, 20000)"
   ]
  },
  {
   "cell_type": "code",
   "execution_count": null,
   "id": "6ceb8348-6758-4ced-b053-04f0f303fa40",
   "metadata": {},
   "outputs": [],
   "source": []
  }
 ],
 "metadata": {
  "kernelspec": {
   "display_name": "Julia 1.6.2",
   "language": "julia",
   "name": "julia-1.6"
  },
  "language_info": {
   "file_extension": ".jl",
   "mimetype": "application/julia",
   "name": "julia",
   "version": "1.6.2"
  }
 },
 "nbformat": 4,
 "nbformat_minor": 5
}
