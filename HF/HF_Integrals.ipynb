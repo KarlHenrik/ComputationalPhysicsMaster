{
 "cells": [
  {
   "cell_type": "code",
   "execution_count": 62,
   "id": "f63ff831-2d77-44e1-975b-c87f259e7702",
   "metadata": {},
   "outputs": [],
   "source": [
    "using BenchmarkTools: @btime"
   ]
  },
  {
   "cell_type": "markdown",
   "id": "1591698f-0cf6-45eb-b54e-8bd4b2286f78",
   "metadata": {
    "tags": []
   },
   "source": [
    "## HO Basis functions"
   ]
  },
  {
   "cell_type": "code",
   "execution_count": 5,
   "id": "5f44ba05-8507-46f4-9439-e510b69bb0de",
   "metadata": {},
   "outputs": [],
   "source": [
    "struct HO\n",
    "    n::Float64\n",
    "    factors::Vector{Float64}\n",
    "    parity::Float64\n",
    "    ω::Float64\n",
    "\n",
    "    function HO(n, ω)\n",
    "        factors = Float64[]\n",
    "        \n",
    "        scaling = sqrt( factorial(n) / 2^n ) * (ω / π)^0.25\n",
    "        ξfac = √ω\n",
    "        \n",
    "        for m in n÷2:-1:0\n",
    "            factor = scaling * (-1)^m / (factorial(m) * factorial(n - 2m)) * 2^(n - 2m) * ξfac^(n - 2m)\n",
    "            push!(factors, factor)\n",
    "        end\n",
    "        return new(n, factors, n % 2, ω)\n",
    "    end\n",
    "end"
   ]
  },
  {
   "cell_type": "code",
   "execution_count": 6,
   "id": "5a9f9bf6-86e6-4df3-9ddf-d66475609456",
   "metadata": {},
   "outputs": [
    {
     "data": {
      "text/plain": [
       "ho (generic function with 1 method)"
      ]
     },
     "execution_count": 6,
     "metadata": {},
     "output_type": "execute_result"
    }
   ],
   "source": [
    "function ho(x, ho)\n",
    "    result = zero(x)\n",
    "    x2 = x^2\n",
    "    xm = (x * ho.parity) + (1 - ho.parity) # xm = 1 if parity == 1 else xm = x\n",
    "    for factor in ho.factors\n",
    "        result += factor * xm\n",
    "        xm *= x2\n",
    "    end\n",
    "    result = result * exp(-ho.ω * x^2 / 2)\n",
    "    return result\n",
    "end"
   ]
  },
  {
   "cell_type": "code",
   "execution_count": 7,
   "id": "f0d677d0-1c2b-4854-a85f-82ebacc001e2",
   "metadata": {},
   "outputs": [
    {
     "data": {
      "text/plain": [
       "potential (generic function with 1 method)"
      ]
     },
     "execution_count": 7,
     "metadata": {},
     "output_type": "execute_result"
    }
   ],
   "source": [
    "function potential(x, basis)\n",
    "    return 0.5 * basis.ω^2 * x^2\n",
    "end"
   ]
  },
  {
   "cell_type": "code",
   "execution_count": 8,
   "id": "2823b240-9bd6-40eb-bd56-fd7a8abae018",
   "metadata": {},
   "outputs": [
    {
     "data": {
      "text/plain": [
       "E_n (generic function with 1 method)"
      ]
     },
     "execution_count": 8,
     "metadata": {},
     "output_type": "execute_result"
    }
   ],
   "source": [
    "function E_n(basis)\n",
    "    return (basis.n + 1/2) * basis.ω\n",
    "end"
   ]
  },
  {
   "cell_type": "markdown",
   "id": "d4a83791-3de7-4b7d-a363-42f4cc9c72c2",
   "metadata": {},
   "source": [
    "## h"
   ]
  },
  {
   "cell_type": "markdown",
   "id": "8b948215-3e6a-42cb-94fa-a09c985cfdbb",
   "metadata": {},
   "source": [
    "$$\n",
    "\\begin{equation}\n",
    "\\begin{aligned}\n",
    "h_{\\mu \\nu} &= \\langle \\psi_\\mu | \\hat{h} | \\psi_\\nu \\rangle \\\\\n",
    "&= \\langle \\psi_\\mu | \\epsilon_\\nu | \\psi_\\nu \\rangle \\\\\n",
    "&= \\epsilon_\\nu \\delta_{\\mu , \\nu}\n",
    "\\end{aligned}\n",
    "\\end{equation}\n",
    "$$"
   ]
  },
  {
   "cell_type": "code",
   "execution_count": 9,
   "id": "d71126d5-0b30-4db5-8788-d13b4de4ea95",
   "metadata": {},
   "outputs": [],
   "source": [
    "import LinearAlgebra as la"
   ]
  },
  {
   "cell_type": "code",
   "execution_count": 346,
   "id": "5421b82f-9c7d-4ded-9f08-f29b4333fccd",
   "metadata": {},
   "outputs": [],
   "source": [
    "basis = [HO(n, 0.25) for n in 0:1];"
   ]
  },
  {
   "cell_type": "code",
   "execution_count": 347,
   "id": "c7e0981a-9989-4f98-b6c4-e282815fbdb7",
   "metadata": {},
   "outputs": [
    {
     "data": {
      "text/plain": [
       "2×2 LinearAlgebra.Diagonal{Float64, Vector{Float64}}:\n",
       " 0.125   ⋅ \n",
       "  ⋅     0.375"
      ]
     },
     "execution_count": 347,
     "metadata": {},
     "output_type": "execute_result"
    }
   ],
   "source": [
    "h = la.Diagonal([E_n(i) for i in basis])"
   ]
  },
  {
   "cell_type": "code",
   "execution_count": 348,
   "id": "6666be31-32d3-490b-a0a1-fdaa5c8b03d0",
   "metadata": {},
   "outputs": [
    {
     "data": {
      "text/plain": [
       "2×2 Matrix{Float64}:\n",
       " 0.125  0.0\n",
       " 0.0    0.375"
      ]
     },
     "execution_count": 348,
     "metadata": {},
     "output_type": "execute_result"
    }
   ],
   "source": [
    "Array(h)"
   ]
  },
  {
   "cell_type": "markdown",
   "id": "6c800197-eca3-466a-a7ba-1a103c358034",
   "metadata": {},
   "source": [
    "## u"
   ]
  },
  {
   "cell_type": "markdown",
   "id": "8434841b-0dfc-4c03-b927-97a22ae9c96c",
   "metadata": {},
   "source": [
    "$$\n",
    "\\begin{equation}\n",
    "\\begin{aligned}\n",
    "u_{\\mu \\nu} &= \\sum_{\\kappa, \\lambda = 1}^l D_{\\lambda, \\kappa} ( \\langle \\psi_\\mu \\psi_\\kappa | \\hat{u} | \\psi_\\nu \\psi_\\lambda \\rangle - \\langle \\psi_\\mu \\psi_\\kappa | \\hat{u} | \\psi_\\lambda \\psi_\\nu \\rangle ) \\\\\n",
    "D_{\\lambda, \\kappa} &= \\sum_{i=1}^n C^*_{\\kappa i} C_{\\lambda i} \\\\\n",
    "u_{\\nu \\lambda}^{\\mu \\kappa} &= \\langle \\psi_\\mu \\psi_\\kappa | \\hat{u} | \\psi_\\nu \\psi_\\lambda \\rangle = \\int \\int dx_1 dx_2 \\psi_\\mu(x_1) \\psi_\\kappa(x_2) u(x_1, x_2) \\psi_\\nu(x_1) \\psi_\\lambda(x_2)\n",
    "\\end{aligned}\n",
    "\\end{equation}\n",
    "$$\n",
    "\n",
    "For every value of x1, compute the inner integral over x2.\n",
    "\n",
    "Then use the values for the inner integral to compute the integral over x1."
   ]
  },
  {
   "cell_type": "code",
   "execution_count": 349,
   "id": "9e2fcc9b-228b-4591-a255-2324d3662d88",
   "metadata": {},
   "outputs": [],
   "source": [
    "[i for i in range(-10, stop=10, length=2001)];"
   ]
  },
  {
   "cell_type": "code",
   "execution_count": 350,
   "id": "e2e2dd0d-3278-4931-b1cc-8d85e64732ec",
   "metadata": {},
   "outputs": [],
   "source": [
    "function _trapz(f_vals, grid)\n",
    "    Δx = grid[2] - grid[1]\n",
    "    \n",
    "    val = 0.0\n",
    "    for i in 2:length(f_vals)\n",
    "        val += f_vals[i - 1] + f_vals[i]\n",
    "    end\n",
    "\n",
    "    return 0.5 * val * Δx\n",
    "end;"
   ]
  },
  {
   "cell_type": "code",
   "execution_count": 358,
   "id": "26b62a11-5baf-4645-90ce-86d9d8d484e2",
   "metadata": {},
   "outputs": [],
   "source": [
    "l = 2\n",
    "basis = [HO(i, 0.25) for i in 0:l-1]\n",
    "grid = range(-10, stop=10, length=201)\n",
    "spfs = [ho.(grid, (ψ_i,)) for ψ_i in basis];"
   ]
  },
  {
   "cell_type": "code",
   "execution_count": 359,
   "id": "1f18efc2-593d-4600-90f1-14d4e7c94610",
   "metadata": {},
   "outputs": [
    {
     "data": {
      "text/plain": [
       "inner_ints (generic function with 1 method)"
      ]
     },
     "execution_count": 359,
     "metadata": {},
     "output_type": "execute_result"
    }
   ],
   "source": [
    "function inner_ints(l, spfs, grid)\n",
    "    # Inner integrals\n",
    "    inner_int = zeros(l, l, 201)\n",
    "    f_vals = zero(grid)\n",
    "    for κ in 1:l\n",
    "        for λ in 1:l\n",
    "            for (xi, x1) in enumerate(grid)\n",
    "                f_vals .= conj.(spfs[κ]) .* (1 ./ sqrt.( (x1 .- grid).^2 .+ 0.25^2)) .* spfs[λ]\n",
    "                inner_int[κ, λ, xi] = _trapz(f_vals, grid)\n",
    "            end\n",
    "        end\n",
    "    end\n",
    "    return inner_int\n",
    "end"
   ]
  },
  {
   "cell_type": "code",
   "execution_count": 360,
   "id": "4402266a-2c7b-4bfc-90ab-39cd04953de5",
   "metadata": {},
   "outputs": [
    {
     "name": "stdout",
     "output_type": "stream",
     "text": [
      "  0.082282 seconds (279.14 k allocations: 14.967 MiB, 99.08% compilation time)\n"
     ]
    }
   ],
   "source": [
    "@time inner_int = inner_ints(l, spfs, grid);"
   ]
  },
  {
   "cell_type": "code",
   "execution_count": 368,
   "id": "77b042d5-77a9-4791-96e9-cdf0990e8594",
   "metadata": {},
   "outputs": [
    {
     "data": {
      "text/plain": [
       "2×2 Matrix{Float64}:\n",
       "  0.217317   -0.0780608\n",
       " -0.0780608   0.283477"
      ]
     },
     "execution_count": 368,
     "metadata": {},
     "output_type": "execute_result"
    }
   ],
   "source": [
    "inner_int[:, :, 50]"
   ]
  },
  {
   "cell_type": "code",
   "execution_count": 396,
   "id": "fcff4fbe-b2f9-47b8-9ca3-289395b84f20",
   "metadata": {},
   "outputs": [
    {
     "data": {
      "text/plain": [
       "outer_int (generic function with 1 method)"
      ]
     },
     "execution_count": 396,
     "metadata": {},
     "output_type": "execute_result"
    }
   ],
   "source": [
    "function outer_int(l, spfs, grid, inner_ints)\n",
    "    outer_int = zeros(l, l, l, l)\n",
    "    f_vals = zero(grid)\n",
    "    for κ in 1:l\n",
    "        for λ in 1:l\n",
    "            for μ in 1:l\n",
    "                for ν in 1:l\n",
    "                    @views f_vals .= conj.(spfs[μ]) .* inner_ints[κ, λ, :] .* spfs[ν]\n",
    "                    outer_int[μ, κ, ν, λ] = _trapz(f_vals, grid)\n",
    "                end\n",
    "            end\n",
    "        end\n",
    "    end\n",
    "    return outer_int\n",
    "end"
   ]
  },
  {
   "cell_type": "code",
   "execution_count": 397,
   "id": "c05774bd-6f2d-483f-8671-4d848786a3b1",
   "metadata": {},
   "outputs": [
    {
     "name": "stdout",
     "output_type": "stream",
     "text": [
      "  0.090518 seconds (54.32 k allocations: 2.774 MiB, 99.96% compilation time)\n"
     ]
    }
   ],
   "source": [
    "@time outer = outer_int(l, spfs, grid, inner_int);"
   ]
  },
  {
   "cell_type": "code",
   "execution_count": 385,
   "id": "e8ded23f-78c7-441e-bc85-86b0007d1724",
   "metadata": {},
   "outputs": [
    {
     "data": {
      "text/plain": [
       "2×2 Matrix{Float64}:\n",
       " 1.13365      6.54244e-17\n",
       " 2.15095e-17  0.371012"
      ]
     },
     "execution_count": 385,
     "metadata": {},
     "output_type": "execute_result"
    }
   ],
   "source": [
    "outer[:, :, 1, 1]"
   ]
  },
  {
   "cell_type": "code",
   "execution_count": 192,
   "id": "0ef49ca5-4d13-4843-be2a-792da5955a20",
   "metadata": {},
   "outputs": [],
   "source": [
    "outer .- permutedims(outer, [1, 2, 4, 3]);"
   ]
  },
  {
   "cell_type": "code",
   "execution_count": 339,
   "id": "92e996c9-607b-4785-8378-1dab95aefc4c",
   "metadata": {},
   "outputs": [
    {
     "data": {
      "text/plain": [
       "add_spin_u (generic function with 1 method)"
      ]
     },
     "execution_count": 339,
     "metadata": {},
     "output_type": "execute_result"
    }
   ],
   "source": [
    "function add_spin_u(u_old)\n",
    "    \"\"\"\n",
    "    When we make a spin-up and spin-down duplicate of each basis function, we get many new integrals to compute\n",
    "    between these new basis functions. However, most of these integrals will be zero due to opposite spins between\n",
    "    the basis functions, or they will be the same as the old integrals, if the spins align.\n",
    "    \n",
    "    We loop over the latter two indices in our two-body integral, ν and λ. The matrix of elements at the indeces\n",
    "    u_new[:, :, ν, λ] then correspond to integrals where the first two basis functions in the integral have spins\n",
    "    alternating up and down.\n",
    "    \n",
    "    'up-up'   'up-down'   up-up   ...\n",
    "    'down-up' 'down-down' down-up ...\n",
    "     up-up     up-down    up-up   ...\n",
    "     ...       ...        ...     ...\n",
    "    \n",
    "    This 2x2 pattern of spins (that we have marked with '') repeats, and all elements in the 2x2 pattern has the same\n",
    "    set of spatial functions. But only one element will be non-zero, the one that has the same spins as the basis\n",
    "    functions numbered ν and λ.\n",
    "    \n",
    "    The code below finds which one of these elements in the 2x2 pattern will be non-zero, and then uses this to turn\n",
    "    the two-body-integrals without spin into the two-body-integrals with spin.\n",
    "    \"\"\"\n",
    "    l = size(outer)[1] * 2\n",
    "    u_new = zeros((l, l, l, l))\n",
    "    \n",
    "    for ν in 1:l\n",
    "        for λ in 1:l\n",
    "            if (ν % 2 == 1)     # --- UP ---\n",
    "                if (λ % 2 == 1) # UP - UP\n",
    "                    dir = [1 0; 0 0]\n",
    "                else            # UP - DOWN\n",
    "                    dir = [0 1; 0 0]\n",
    "                end\n",
    "            else                # --- DOWN ---\n",
    "                if (λ % 2 == 1) # DOWN - UP\n",
    "                    dir = [0 0; 1 0]\n",
    "                else            # DOWN - DOWN\n",
    "                    dir = [0 0; 0 1]\n",
    "                end\n",
    "            end\n",
    "            \n",
    "            ν_old = Int( ceil(ν / 2) )\n",
    "            λ_old = Int( ceil(λ / 2) )\n",
    "            u_new[:, :, ν, λ] .= kron(u_old[:, :, ν_old, λ_old], dir)\n",
    "        end\n",
    "    end\n",
    "    return u_new\n",
    "end"
   ]
  },
  {
   "cell_type": "code",
   "execution_count": 338,
   "id": "20c96326-30dc-4cce-903b-8e30b0f62021",
   "metadata": {},
   "outputs": [],
   "source": [
    "u_new = add_spin_u(outer);"
   ]
  },
  {
   "cell_type": "code",
   "execution_count": null,
   "id": "39489292-a70a-47d8-93fc-e77c6a9c707f",
   "metadata": {},
   "outputs": [],
   "source": []
  }
 ],
 "metadata": {
  "kernelspec": {
   "display_name": "Julia 1.6.2",
   "language": "julia",
   "name": "julia-1.6"
  },
  "language_info": {
   "file_extension": ".jl",
   "mimetype": "application/julia",
   "name": "julia",
   "version": "1.6.2"
  }
 },
 "nbformat": 4,
 "nbformat_minor": 5
}
