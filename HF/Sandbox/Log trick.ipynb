{
 "cells": [
  {
   "cell_type": "code",
   "execution_count": 5,
   "id": "e5a02dbb-16f5-4537-b2ff-07bba63def6b",
   "metadata": {},
   "outputs": [
    {
     "data": {
      "text/plain": [
       "HOFunc(20.0, [0.22294454623439916, -1.1147227311719958, 0.8360420483789969, -0.22294454623439916, 0.027868068279299895, -0.001857871218619993, 7.037390979621186e-5, -1.5466793361804804e-6, 1.9333491702256004e-8, -1.2636269086441832e-10, 3.325333970116272e-13], 0.0, 0.25)"
      ]
     },
     "execution_count": 5,
     "metadata": {},
     "output_type": "execute_result"
    }
   ],
   "source": [
    "HOFunc(20, 0.25)"
   ]
  },
  {
   "cell_type": "code",
   "execution_count": 1,
   "id": "4f1624a7-d1b0-42f5-ba50-893127a3f9c2",
   "metadata": {},
   "outputs": [
    {
     "data": {
      "text/plain": [
       "E_n (generic function with 1 method)"
      ]
     },
     "execution_count": 1,
     "metadata": {},
     "output_type": "execute_result"
    }
   ],
   "source": [
    "struct HOFunc\n",
    "    order::Float64\n",
    "    factors::Vector{Float64}\n",
    "    parity::Float64\n",
    "    ω::Float64\n",
    "\n",
    "    function HOFunc(n, ω)\n",
    "        factors = Float64[]\n",
    "        \n",
    "        scaling = sqrt( factorial(n) / 2^n ) * (ω / π)^0.25 ## DANGER\n",
    "        ξfac = √ω\n",
    "        \n",
    "        for m in n÷2:-1:0\n",
    "            factor = scaling * (-1)^m / (factorial(m) * factorial(n - 2m)) * 2^(n - 2m) * ξfac^(n - 2m) ## DANGER\n",
    "            push!(factors, factor)\n",
    "        end\n",
    "        return new(n, factors, n % 2, ω)\n",
    "    end\n",
    "end\n",
    "\n",
    "function compute(x, ho::HOFunc)\n",
    "    result = zero(x)\n",
    "    x2 = x^2\n",
    "    xm = (x * ho.parity) + (1 - ho.parity) # xm = 1 if parity == 1 else xm = x\n",
    "    for factor in ho.factors\n",
    "        result += factor * xm\n",
    "        xm *= x2\n",
    "    end\n",
    "    result = result * exp(-ho.ω * x^2 / 2)\n",
    "    return result\n",
    "end\n",
    "\n",
    "function potential(x, ho::HOFunc)\n",
    "    return 0.5 * ho.ω^2 * x^2\n",
    "end\n",
    "\n",
    "function E_n(ho::HOFunc)\n",
    "    return (ho.order + 0.5) * ho.ω\n",
    "end"
   ]
  },
  {
   "cell_type": "code",
   "execution_count": 51,
   "id": "a1dabfd8-554b-4309-984b-a15d40ec0a80",
   "metadata": {},
   "outputs": [
    {
     "data": {
      "text/plain": [
       "E_n (generic function with 2 methods)"
      ]
     },
     "execution_count": 51,
     "metadata": {},
     "output_type": "execute_result"
    }
   ],
   "source": [
    "struct HOFunc2\n",
    "    order::Float64\n",
    "    factors::Vector{Float64}\n",
    "    parity::Float64\n",
    "    ω::Float64\n",
    "\n",
    "    function HOFunc2(n, ω)\n",
    "        factors = Float64[]\n",
    "        \n",
    "        ξfac = √ω\n",
    "        \n",
    "        for m in n÷2:-1:0\n",
    "            factor = (-1)^m * (ω / π)^0.25 * ξfac^(n - 2m) * ho_factor(m, n)\n",
    "            \n",
    "            push!(factors, factor)\n",
    "        end\n",
    "        return new(n, factors, n % 2, ω)\n",
    "    end\n",
    "end\n",
    "\n",
    "function ho_factor(m, n)\n",
    "    # The harmonic oscillator basis functions need some factors of medium or very small size.\n",
    "    # However, computing these factors requires factorials and exponentials that quickly \n",
    "    # get too large. By taking the logarithm of these factors, we don't need to\n",
    "    # compute any large numbers, but can use logarithm tricks to make the computation easy.\n",
    "    \n",
    "    n_fac = sum([log(i) for i in 1:n])\n",
    "    m_fac = sum([log(i) for i in 1:m])\n",
    "    n_minus_2m_fac = sum([log(i) for i in 1:(n - 2m)])\n",
    "              #√(      n!  /    2^(n)  ) *    2^(n - 2m)     / ( m!   *  (n - 2m)!    )\n",
    "    log_fac = 0.5 * (n_fac - n * log(2)) + (n - 2m) * log(2) - (m_fac + n_minus_2m_fac)\n",
    "    return exp(log_fac)\n",
    "end\n",
    "\n",
    "function compute(x, ho::HOFunc2)\n",
    "    result = zero(x)\n",
    "    x2 = x^2\n",
    "    xm = (x * ho.parity) + (1 - ho.parity) # xm = 1 if parity == 1 else xm = x\n",
    "    for factor in ho.factors\n",
    "        result += factor * xm\n",
    "        xm *= x2\n",
    "    end\n",
    "    result = result * exp(-ho.ω * x^2 / 2)\n",
    "    return result\n",
    "end\n",
    "\n",
    "function potential(x, ho::HOFunc2)\n",
    "    return 0.5 * ho.ω^2 * x^2\n",
    "end\n",
    "\n",
    "function E_n(ho::HOFunc2)\n",
    "    return (ho.order + 0.5) * ho.ω\n",
    "end"
   ]
  },
  {
   "cell_type": "code",
   "execution_count": 19,
   "id": "9065596b-451f-4126-9f6a-30039a4bf463",
   "metadata": {},
   "outputs": [
    {
     "data": {
      "text/plain": [
       "42.335616460753485"
      ]
     },
     "execution_count": 19,
     "metadata": {},
     "output_type": "execute_result"
    }
   ],
   "source": [
    "log(factorial(20))"
   ]
  },
  {
   "cell_type": "code",
   "execution_count": 20,
   "id": "04884133-725b-4029-aca0-5ac14d086d0d",
   "metadata": {},
   "outputs": [
    {
     "data": {
      "text/plain": [
       "42.335616460753485"
      ]
     },
     "execution_count": 20,
     "metadata": {},
     "output_type": "execute_result"
    }
   ],
   "source": [
    "s = 0\n",
    "for i in 1:20\n",
    "    s += log(i)\n",
    "end\n",
    "s"
   ]
  },
  {
   "cell_type": "code",
   "execution_count": 23,
   "id": "dcc928c4-db12-4c8d-997e-611280dbf22c",
   "metadata": {},
   "outputs": [
    {
     "data": {
      "text/plain": [
       "2.30756025842063"
      ]
     },
     "execution_count": 23,
     "metadata": {},
     "output_type": "execute_result"
    }
   ],
   "source": [
    "log(sqrt(101))"
   ]
  },
  {
   "cell_type": "code",
   "execution_count": 24,
   "id": "0d9b759d-d139-47d1-9bef-0df8a5a13f25",
   "metadata": {},
   "outputs": [
    {
     "data": {
      "text/plain": [
       "2.30756025842063"
      ]
     },
     "execution_count": 24,
     "metadata": {},
     "output_type": "execute_result"
    }
   ],
   "source": [
    "0.5 * log(101)"
   ]
  },
  {
   "cell_type": "code",
   "execution_count": 25,
   "id": "b161d61c-99e7-45d5-bd4f-d701603d7d23",
   "metadata": {},
   "outputs": [
    {
     "data": {
      "text/plain": [
       "13.862943611198906"
      ]
     },
     "execution_count": 25,
     "metadata": {},
     "output_type": "execute_result"
    }
   ],
   "source": [
    "log(2^20)"
   ]
  },
  {
   "cell_type": "code",
   "execution_count": 26,
   "id": "ecdab157-4dd3-4f2a-82ec-cee297285914",
   "metadata": {},
   "outputs": [
    {
     "data": {
      "text/plain": [
       "13.862943611198906"
      ]
     },
     "execution_count": 26,
     "metadata": {},
     "output_type": "execute_result"
    }
   ],
   "source": [
    "20 * log(2)"
   ]
  },
  {
   "cell_type": "code",
   "execution_count": 27,
   "id": "44056473-7bc1-4d34-8779-70011b9870d9",
   "metadata": {},
   "outputs": [
    {
     "data": {
      "text/plain": [
       "factor (generic function with 1 method)"
      ]
     },
     "execution_count": 27,
     "metadata": {},
     "output_type": "execute_result"
    }
   ],
   "source": []
  },
  {
   "cell_type": "code",
   "execution_count": null,
   "id": "a53e6612-eef0-4638-8bff-a101d263c586",
   "metadata": {},
   "outputs": [],
   "source": []
  }
 ],
 "metadata": {
  "kernelspec": {
   "display_name": "Julia 1.6.2",
   "language": "julia",
   "name": "julia-1.6"
  },
  "language_info": {
   "file_extension": ".jl",
   "mimetype": "application/julia",
   "name": "julia",
   "version": "1.6.2"
  }
 },
 "nbformat": 4,
 "nbformat_minor": 5
}
