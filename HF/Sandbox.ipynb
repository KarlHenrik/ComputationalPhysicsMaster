{
 "cells": [
  {
   "cell_type": "code",
   "execution_count": 6,
   "id": "594199d2-ab77-4971-b335-27d297f9e2f5",
   "metadata": {},
   "outputs": [],
   "source": [
    "import SpecialPolynomials as sp\n",
    "using BenchmarkTools: @btime"
   ]
  },
  {
   "cell_type": "code",
   "execution_count": 7,
   "id": "3f7c54ff-12f5-4071-9df0-fbb7c534a21f",
   "metadata": {},
   "outputs": [
    {
     "data": {
      "text/plain": [
       "4.7763998631936e13"
      ]
     },
     "execution_count": 7,
     "metadata": {},
     "output_type": "execute_result"
    }
   ],
   "source": [
    "H = [sp.basis(sp.Hermite, i) for i in 0:30]\n",
    "\n",
    "n = 20 + 1\n",
    "H[n + 1](3.0)"
   ]
  },
  {
   "cell_type": "code",
   "execution_count": 8,
   "id": "8c6448b1-1174-4404-99d5-64ad6af85e8a",
   "metadata": {},
   "outputs": [
    {
     "name": "stdout",
     "output_type": "stream",
     "text": [
      "  63.849 ns (1 allocation: 16 bytes)\n"
     ]
    },
    {
     "data": {
      "text/plain": [
       "5.9990281399296e13"
      ]
     },
     "execution_count": 8,
     "metadata": {},
     "output_type": "execute_result"
    }
   ],
   "source": [
    "@btime H[n](3.0)"
   ]
  },
  {
   "cell_type": "code",
   "execution_count": 11,
   "id": "a81e5fb3-b809-48f9-9e08-fda80efaf9aa",
   "metadata": {},
   "outputs": [
    {
     "data": {
      "text/html": [
       "1.0⋅H₂₀(x)"
      ],
      "text/latex": [
       "$1.0⋅H₂₀(x)$"
      ],
      "text/plain": [
       "SpecialPolynomials.Hermite(1.0⋅H₂₀(x))"
      ]
     },
     "execution_count": 11,
     "metadata": {},
     "output_type": "execute_result"
    }
   ],
   "source": [
    "test = sp.basis(sp.Hermite, 20)"
   ]
  },
  {
   "cell_type": "code",
   "execution_count": 12,
   "id": "cb200a49-f4d0-4408-bcc3-f49a62bd37ed",
   "metadata": {},
   "outputs": [
    {
     "name": "stdout",
     "output_type": "stream",
     "text": [
      "  52.482 ns (1 allocation: 16 bytes)\n"
     ]
    },
    {
     "data": {
      "text/plain": [
       "5.9990281399296e13"
      ]
     },
     "execution_count": 12,
     "metadata": {},
     "output_type": "execute_result"
    }
   ],
   "source": [
    "@btime test(3.0)"
   ]
  },
  {
   "cell_type": "code",
   "execution_count": null,
   "id": "00488fdb-1d15-408b-b1c8-05ae38a4fdf0",
   "metadata": {},
   "outputs": [],
   "source": []
  },
  {
   "cell_type": "code",
   "execution_count": null,
   "id": "ae818370-2240-45ad-be06-027130df0738",
   "metadata": {},
   "outputs": [],
   "source": []
  },
  {
   "cell_type": "code",
   "execution_count": null,
   "id": "04042cee-d560-400e-8e82-f8fdc8fb7f0e",
   "metadata": {},
   "outputs": [],
   "source": [
    "struct Hermite{N} end\n",
    "Hermite(n) = Hermite{n}()"
   ]
  },
  {
   "cell_type": "code",
   "execution_count": null,
   "id": "1a4d598e-272b-4e1d-97e3-1fda47c63299",
   "metadata": {},
   "outputs": [],
   "source": [
    "H = Hermite(3)"
   ]
  },
  {
   "cell_type": "code",
   "execution_count": null,
   "id": "87c66745-3f29-4f7a-897f-5554ab64164b",
   "metadata": {},
   "outputs": [],
   "source": [
    "for n in 0:20\n",
    "    ex = \"0 \"\n",
    "    for m in 0:n÷2\n",
    "        factor = factorial(n) * (-1)^m / (factorial(m) * factorial(n - 2m)) * 2^(n - 2m)\n",
    "        exponent = n - 2m\n",
    "\n",
    "        ex *= \"+ $factor * x^$exponent \"\n",
    "    end\n",
    "    println(\"n = $n : $ex\")\n",
    "    @eval $(Meta.parse(\"global hermite(x, H::Hermite{$(n)}) = $ex\"))\n",
    "end"
   ]
  },
  {
   "cell_type": "code",
   "execution_count": null,
   "id": "54db39da-cfb9-4f94-b4dc-be8d6250db71",
   "metadata": {},
   "outputs": [],
   "source": [
    "@generated function hermite(x, H::Hermite{N}) where N\n",
    "    ex = \"0 \"\n",
    "    n = N\n",
    "    for m in 0:n÷2\n",
    "        factor = factorial(n) * (-1)^m / (factorial(m) * factorial(n - 2m)) * 2^(n - 2m)\n",
    "        exponent = n - 2m\n",
    "\n",
    "        ex *= \"+ $factor * x^$exponent \"\n",
    "    end\n",
    "    print(ex)\n",
    "    return Meta.parse(ex)\n",
    "end"
   ]
  },
  {
   "cell_type": "code",
   "execution_count": null,
   "id": "d5aaaf3a-336e-467d-96f6-659b2e8336c8",
   "metadata": {},
   "outputs": [],
   "source": [
    "@generated function hermite(x, H::Hermite{N}) where N\n",
    "    ex = :(0)\n",
    "    n = N\n",
    "    for m in 0:n÷2\n",
    "        factor = factorial(n) * (-1)^m / (factorial(m) * factorial(n - 2m)) * 2^(n - 2m)\n",
    "        exponent = n - 2m\n",
    "\n",
    "        ex = :($ex + $factor * x^$exponent)\n",
    "    end\n",
    "    return ex\n",
    "end"
   ]
  },
  {
   "cell_type": "code",
   "execution_count": null,
   "id": "43d656bc-f0a6-4f5b-8487-fdee19d6b679",
   "metadata": {},
   "outputs": [],
   "source": [
    "@generated function hermite(x, H::Hermite{N}) where N\n",
    "    return :(8x^3 - 12x)\n",
    "end"
   ]
  },
  {
   "cell_type": "code",
   "execution_count": null,
   "id": "c83f27f7-cef8-426f-ad2d-cbceaab461f6",
   "metadata": {},
   "outputs": [],
   "source": [
    "@time hermite(3.0, H)"
   ]
  },
  {
   "cell_type": "code",
   "execution_count": null,
   "id": "c7ad4b62-a365-4b72-b803-7f7aa8852d68",
   "metadata": {},
   "outputs": [],
   "source": []
  },
  {
   "cell_type": "code",
   "execution_count": null,
   "id": "384df501-7243-42bc-aedc-2222fd8c770a",
   "metadata": {},
   "outputs": [],
   "source": [
    "n = 3\n",
    "ex = \"0 \"\n",
    "for m in 0:n÷2\n",
    "    factor = factorial(n) * (-1)^m / (factorial(m) * factorial(n - 2m)) * 2^(n - 2m)\n",
    "    exponent = n - 2m\n",
    "\n",
    "    ex *= \"+ $factor * x^$exponent \"\n",
    "end\n",
    "println(\"n = $n : $ex\")\n",
    "@eval $(Meta.parse(\"hermite(x, H::Hermite{$(n)}) = $ex\"))"
   ]
  },
  {
   "cell_type": "code",
   "execution_count": null,
   "id": "7bcf6fa4-5155-4ffe-80b9-387f6fbe51e6",
   "metadata": {},
   "outputs": [],
   "source": [
    "hermite"
   ]
  },
  {
   "cell_type": "code",
   "execution_count": null,
   "id": "75a17c04-6cb3-41f2-a88f-594e903b3169",
   "metadata": {},
   "outputs": [],
   "source": [
    "@btime H3(3.0)"
   ]
  },
  {
   "cell_type": "code",
   "execution_count": null,
   "id": "84e98fad-997f-4eae-ae80-92b2ad833eab",
   "metadata": {},
   "outputs": [],
   "source": [
    "@btime H(3.0)"
   ]
  },
  {
   "cell_type": "code",
   "execution_count": null,
   "id": "455bdbbc-44ba-4889-b284-89d1f5a1b44b",
   "metadata": {},
   "outputs": [],
   "source": [
    "function H3(x)\n",
    "    return 8.0x^3 - 12.0x\n",
    "end"
   ]
  },
  {
   "cell_type": "code",
   "execution_count": null,
   "id": "5567e496-79df-4a65-8722-9cf4112afda3",
   "metadata": {},
   "outputs": [],
   "source": [
    "H4(x) = 8.0x^3 - 12.0x"
   ]
  },
  {
   "cell_type": "code",
   "execution_count": null,
   "id": "af667d80-4788-48c3-910e-c72404b415c2",
   "metadata": {},
   "outputs": [],
   "source": [
    "function slow()\n",
    "    H4(3.0)\n",
    "end"
   ]
  },
  {
   "cell_type": "code",
   "execution_count": null,
   "id": "faf4e8a3-1175-48d9-9e87-132eb95d7740",
   "metadata": {},
   "outputs": [],
   "source": [
    "@btime slow()"
   ]
  },
  {
   "cell_type": "code",
   "execution_count": null,
   "id": "eb616245-d73b-424c-aa00-a0bd9f884c2b",
   "metadata": {},
   "outputs": [],
   "source": [
    "function timeit(func, x)\n",
    "    func(x)\n",
    "end"
   ]
  },
  {
   "cell_type": "code",
   "execution_count": null,
   "id": "0e263137-5e43-4a96-a7a9-3c259060bf91",
   "metadata": {},
   "outputs": [],
   "source": [
    "@time timeit(H, 3.0)"
   ]
  },
  {
   "cell_type": "code",
   "execution_count": null,
   "id": "fec491ad-b936-4325-be07-2e05b2aae6d4",
   "metadata": {},
   "outputs": [],
   "source": [
    "function H2(x)\n",
    "    8x^3 - 12x\n",
    "end"
   ]
  },
  {
   "cell_type": "code",
   "execution_count": null,
   "id": "81629fa5-e45d-467a-b9cb-981d750634ef",
   "metadata": {},
   "outputs": [],
   "source": [
    "@btime H2(3.0)"
   ]
  },
  {
   "cell_type": "code",
   "execution_count": null,
   "id": "215ec900-78c6-4e7a-856b-e3738cd2e959",
   "metadata": {},
   "outputs": [],
   "source": []
  },
  {
   "cell_type": "code",
   "execution_count": null,
   "id": "bf9f71e6-158a-4893-b182-9ca427a01eea",
   "metadata": {},
   "outputs": [],
   "source": []
  },
  {
   "cell_type": "code",
   "execution_count": null,
   "id": "d680ebe5-ea36-40b0-a3fa-4cd8ec41b9d9",
   "metadata": {},
   "outputs": [],
   "source": [
    "function hermite(n, x)\n",
    "    result = 0.0\n",
    "    \n",
    "    for m in 0:n÷2\n",
    "        factor = factorial(n) * (-1)^m / (factorial(m) * factorial(n - 2m)) * 2^(n - 2m)\n",
    "        exponent = n - 2m\n",
    "\n",
    "        result += factor * x^exponent\n",
    "    end\n",
    "    return result\n",
    "end"
   ]
  },
  {
   "cell_type": "code",
   "execution_count": null,
   "id": "9df60943-72be-4e40-813b-8360accc8050",
   "metadata": {},
   "outputs": [],
   "source": [
    "@btime hermite(9, 3.0)"
   ]
  },
  {
   "cell_type": "code",
   "execution_count": null,
   "id": "09409885-34ed-4579-bc68-6fe648006cf1",
   "metadata": {},
   "outputs": [],
   "source": [
    "funcs = Function[print, sum]"
   ]
  },
  {
   "cell_type": "code",
   "execution_count": null,
   "id": "d168a786-5402-4839-90c7-34639dfb5131",
   "metadata": {},
   "outputs": [],
   "source": [
    "funcs = Function[]\n",
    "N = 20\n",
    "for n in 0:N\n",
    "    ex = \"0\"\n",
    "    for m in 0:n÷2\n",
    "        factor = factorial(n) * (-1)^m / (factorial(m) * factorial(n - 2m)) * 2^(n - 2m)\n",
    "        exponent = n - 2m\n",
    "\n",
    "        ex *= \"+ $factor * x^$exponent \"\n",
    "    end\n",
    "\n",
    "    push!(funcs, @eval $(Meta.parse(\"x -> $ex\")))\n",
    "end"
   ]
  },
  {
   "cell_type": "code",
   "execution_count": null,
   "id": "21461581-f69a-4cb6-828a-853965b51912",
   "metadata": {},
   "outputs": [],
   "source": [
    "@btime funcs[21](3.0)"
   ]
  },
  {
   "cell_type": "code",
   "execution_count": null,
   "id": "9f60d874-f9c4-40db-b79a-1844cd11eb0d",
   "metadata": {},
   "outputs": [],
   "source": []
  },
  {
   "cell_type": "code",
   "execution_count": null,
   "id": "a97c06b2-119a-4860-93fe-9cbd17e095f7",
   "metadata": {},
   "outputs": [],
   "source": [
    "struct Hermite{T}\n",
    "    hermite::Array{T}\n",
    "    function Hermite(N)\n",
    "        funcs = Function[]\n",
    "        for n in 0:N\n",
    "            ex = \"0\"\n",
    "            for m in 0:n÷2\n",
    "                factor = (-1)^m / (factorial(m) * factorial(n - 2m)) * 2^(n - 2m)\n",
    "                exponent = n - 2m\n",
    "\n",
    "                ex *= \"+ $factor * x^$exponent\"\n",
    "            end\n",
    "            \n",
    "            push!(funcs, @eval $(Meta.parse(\"x -> factorial($n) * $ex\")))\n",
    "        end\n",
    "        return new{typeof(hermite)}(hermite)\n",
    "    end\n",
    "end"
   ]
  },
  {
   "cell_type": "code",
   "execution_count": null,
   "id": "5e93ac10-9911-4d28-ae9a-fae755738f60",
   "metadata": {},
   "outputs": [],
   "source": [
    "H = Hermite(20)"
   ]
  },
  {
   "cell_type": "code",
   "execution_count": null,
   "id": "09f44e56-bd04-4975-a7e3-565adfd89b7d",
   "metadata": {},
   "outputs": [],
   "source": [
    "@btime H.hermite(3.0)"
   ]
  },
  {
   "cell_type": "code",
   "execution_count": null,
   "id": "d58a8212-5498-4dfb-9295-2076612ec6df",
   "metadata": {},
   "outputs": [],
   "source": [
    "21%2"
   ]
  },
  {
   "cell_type": "code",
   "execution_count": null,
   "id": "fd6a8e94-c6dd-4e8f-aff8-d958eb8aac21",
   "metadata": {},
   "outputs": [],
   "source": []
  },
  {
   "cell_type": "code",
   "execution_count": null,
   "id": "ab514b3c-07bc-4087-8ddb-c988ade5aed7",
   "metadata": {},
   "outputs": [],
   "source": []
  },
  {
   "cell_type": "code",
   "execution_count": null,
   "id": "dfdb7ad2-9cea-4e71-8378-be8e070aa238",
   "metadata": {},
   "outputs": [],
   "source": []
  }
 ],
 "metadata": {
  "kernelspec": {
   "display_name": "Julia 1.6.2",
   "language": "julia",
   "name": "julia-1.6"
  },
  "language_info": {
   "file_extension": ".jl",
   "mimetype": "application/julia",
   "name": "julia",
   "version": "1.6.2"
  }
 },
 "nbformat": 4,
 "nbformat_minor": 5
}
